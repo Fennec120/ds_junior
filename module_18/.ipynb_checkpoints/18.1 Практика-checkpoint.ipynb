{
 "cells": [
  {
   "cell_type": "code",
   "execution_count": null,
   "id": "2aa2117e",
   "metadata": {},
   "outputs": [],
   "source": []
  },
  {
   "cell_type": "markdown",
   "id": "555dff24",
   "metadata": {
    "id": "555dff24"
   },
   "source": [
    "# Модуль 18. NLP. Практика\n",
    "## Занятие 1. Задания\n",
    "### Общая информация\n",
    "\n",
    "#### Цель заданий\n",
    "\n",
    "* Освоить базовый синтаксис регулярных выражений.\n",
    "* Научиться применять регулярные выражения в разных задачах анализа данных.\n",
    "* Научиться применять регулярные выражения совместно с библиотекой Pandas.\n",
    "\n",
    "Задания не нужно сдавать на проверку: обязательных и необязательных задач нет, все они факультативные. Однако мы рекомендуем решить их, чтобы потренироваться.\n",
    "\n",
    "К занятию приложен файл `captions_csv2.csv` с подписями к фотографиям в одной `социальной сети`. Скачайте его на компьютер. \n",
    "\n",
    "\n",
    "### Задача 1\n",
    "В подписях к фотографиям из файла `captions_csv2.csv` найдите топ-10 тегов, которые встречаются чаще всего. \n",
    "#### Советы и рекомендации\n",
    "##### Шаг 1\n",
    "Считайте файл `captions_csv2.csv` в Pandas-dataframe `df`.\n",
    "##### Шаг 2\n",
    "Содайте в `df` новую колонку `tag`, запишите в неё массивы тегов из соответствующих значений колонки `caption`. Для этого используйте функцию [apply](https://pandas.pydata.org/docs/reference/api/pandas.DataFrame.apply.html), передав в неё в качестве аргумента соответствующую функцию из пакета стандартной библиотеки Python [re](https://docs.python.org/3/library/re.html). \n",
    "##### Шаг 3\n",
    "Теперь в колонке `tag` вашего датафрейма содержатся массивы тегов, которые вы «извлекли» из текстов с описаниями. Примерно так:\n",
    "\n",
    "|id|tag|\n",
    "|--|---|\n",
    "|20516|[#stayhomeclub]|\n",
    "|20517|[#KatyPursey, #StayHome, #ShoesdayTuesday]|\n",
    "|20518|[]|\n",
    "|...|...|\n",
    "\n",
    "Вам нужно «распаковать» массивы тегов так, чтобы каждое значение колонки `tag` содержало только один тег. Другими словами, преобразовать датафрейм в следующий вид:\n",
    "\n",
    "|id|tag|\n",
    "|--|---|\n",
    "|20516|#stayhomeclub|\n",
    "|20517|#KatyPursey|\n",
    "|20517|#StayHome|\n",
    "|20517|#ShoesdayTuesday|\n",
    "|...|...|\n",
    "\n",
    "Это можно сделать по-разному. Мы рекомендуем использовать Pandas-функцию [explode](https://pandas.pydata.org/docs/reference/api/pandas.DataFrame.explode.html) (и не забудьте удалить строки со значениями NaN). Сохраните «распакованные» данные в новый датафрейм `id2tag` (вам понадобятся только колонки `id` и `tag`). Кстати, такую «распаковку» массивов можно рассматривать как приведение отношения [к первой нормальной форме](https://ru.wikipedia.org/wiki/%D0%9F%D0%B5%D1%80%D0%B2%D0%B0%D1%8F_%D0%BD%D0%BE%D1%80%D0%BC%D0%B0%D0%BB%D1%8C%D0%BD%D0%B0%D1%8F_%D1%84%D0%BE%D1%80%D0%BC%D0%B0).\n",
    "##### Шаг 4\n",
    "Найдите топ-10 тегов, которые встречаются чаще всего."
   ]
  },
  {
   "cell_type": "code",
   "execution_count": 11,
   "id": "6a59d703",
   "metadata": {},
   "outputs": [],
   "source": [
    "?pd"
   ]
  },
  {
   "cell_type": "code",
   "execution_count": 1,
   "id": "51b05fae",
   "metadata": {
    "id": "51b05fae"
   },
   "outputs": [],
   "source": [
    "import re\n",
    "\n",
    "import pandas as pd\n",
    "\n",
    "df = pd.read_csv('captions_csv2.csv')\n",
    "#\n",
    "# Ваш код здесь\n",
    "#"
   ]
  },
  {
   "cell_type": "code",
   "execution_count": 2,
   "id": "9679cf49",
   "metadata": {},
   "outputs": [
    {
     "data": {
      "text/html": [
       "<div>\n",
       "<style scoped>\n",
       "    .dataframe tbody tr th:only-of-type {\n",
       "        vertical-align: middle;\n",
       "    }\n",
       "\n",
       "    .dataframe tbody tr th {\n",
       "        vertical-align: top;\n",
       "    }\n",
       "\n",
       "    .dataframe thead th {\n",
       "        text-align: right;\n",
       "    }\n",
       "</style>\n",
       "<table border=\"1\" class=\"dataframe\">\n",
       "  <thead>\n",
       "    <tr style=\"text-align: right;\">\n",
       "      <th></th>\n",
       "      <th>20516</th>\n",
       "      <th>img2/insta20516</th>\n",
       "      <th>wHaT dAy Is It Even #stayhomeclub</th>\n",
       "    </tr>\n",
       "  </thead>\n",
       "  <tbody>\n",
       "    <tr>\n",
       "      <th>0</th>\n",
       "      <td>20517</td>\n",
       "      <td>img2/insta20517</td>\n",
       "      <td>Vitamin C for your fashion diet #KatyPursey #S...</td>\n",
       "    </tr>\n",
       "    <tr>\n",
       "      <th>1</th>\n",
       "      <td>20518</td>\n",
       "      <td>img2/insta20518</td>\n",
       "      <td>do you know the hotter the fire the purer the ...</td>\n",
       "    </tr>\n",
       "    <tr>\n",
       "      <th>2</th>\n",
       "      <td>20519</td>\n",
       "      <td>img2/insta20519</td>\n",
       "      <td>@ryanseacrest 👍🏻</td>\n",
       "    </tr>\n",
       "    <tr>\n",
       "      <th>3</th>\n",
       "      <td>20520</td>\n",
       "      <td>img2/insta20520</td>\n",
       "      <td>working hard or hardly working idk 🤷🏼‍♀️</td>\n",
       "    </tr>\n",
       "    <tr>\n",
       "      <th>4</th>\n",
       "      <td>20521</td>\n",
       "      <td>img2/insta20521</td>\n",
       "      <td>Step into your destiny with The Bondie 🔮✨ #Sho...</td>\n",
       "    </tr>\n",
       "    <tr>\n",
       "      <th>...</th>\n",
       "      <td>...</td>\n",
       "      <td>...</td>\n",
       "      <td>...</td>\n",
       "    </tr>\n",
       "    <tr>\n",
       "      <th>14406</th>\n",
       "      <td>34923</td>\n",
       "      <td>img2/insta34923</td>\n",
       "      <td>Mexican vegan pizza I made from scratch. Meat ...</td>\n",
       "    </tr>\n",
       "    <tr>\n",
       "      <th>14407</th>\n",
       "      <td>34924</td>\n",
       "      <td>img2/insta34924</td>\n",
       "      <td>Hummm....Can u spot the error?</td>\n",
       "    </tr>\n",
       "    <tr>\n",
       "      <th>14408</th>\n",
       "      <td>34925</td>\n",
       "      <td>img2/insta34925</td>\n",
       "      <td>Snuggling with the dry cleaning</td>\n",
       "    </tr>\n",
       "    <tr>\n",
       "      <th>14409</th>\n",
       "      <td>34926</td>\n",
       "      <td>img2/insta34926</td>\n",
       "      <td>Morning practice</td>\n",
       "    </tr>\n",
       "    <tr>\n",
       "      <th>14410</th>\n",
       "      <td>34927</td>\n",
       "      <td>img2/insta34927</td>\n",
       "      <td>Up up and away!!!</td>\n",
       "    </tr>\n",
       "  </tbody>\n",
       "</table>\n",
       "<p>14411 rows × 3 columns</p>\n",
       "</div>"
      ],
      "text/plain": [
       "       20516  img2/insta20516  \\\n",
       "0      20517  img2/insta20517   \n",
       "1      20518  img2/insta20518   \n",
       "2      20519  img2/insta20519   \n",
       "3      20520  img2/insta20520   \n",
       "4      20521  img2/insta20521   \n",
       "...      ...              ...   \n",
       "14406  34923  img2/insta34923   \n",
       "14407  34924  img2/insta34924   \n",
       "14408  34925  img2/insta34925   \n",
       "14409  34926  img2/insta34926   \n",
       "14410  34927  img2/insta34927   \n",
       "\n",
       "                       wHaT dAy Is It Even #stayhomeclub  \n",
       "0      Vitamin C for your fashion diet #KatyPursey #S...  \n",
       "1      do you know the hotter the fire the purer the ...  \n",
       "2                                       @ryanseacrest 👍🏻  \n",
       "3               working hard or hardly working idk 🤷🏼‍♀️  \n",
       "4      Step into your destiny with The Bondie 🔮✨ #Sho...  \n",
       "...                                                  ...  \n",
       "14406  Mexican vegan pizza I made from scratch. Meat ...  \n",
       "14407                    Hummm....Can u spot the error?   \n",
       "14408                    Snuggling with the dry cleaning  \n",
       "14409                                  Morning practice   \n",
       "14410                                  Up up and away!!!  \n",
       "\n",
       "[14411 rows x 3 columns]"
      ]
     },
     "execution_count": 2,
     "metadata": {},
     "output_type": "execute_result"
    }
   ],
   "source": [
    "df"
   ]
  },
  {
   "cell_type": "code",
   "execution_count": 3,
   "id": "03231160",
   "metadata": {},
   "outputs": [],
   "source": [
    "df['tag'] = df['wHaT dAy Is It Even #stayhomeclub'].apply(lambda x: re.findall('#\\w+', x))"
   ]
  },
  {
   "cell_type": "code",
   "execution_count": 4,
   "id": "0067589d",
   "metadata": {},
   "outputs": [],
   "source": [
    "df2 = df.explode('tag')\n",
    "# df2"
   ]
  },
  {
   "cell_type": "code",
   "execution_count": 5,
   "id": "bc5adaf4",
   "metadata": {},
   "outputs": [],
   "source": [
    "df2['id'] = df2['20516']\n",
    "df2 = df2.drop('20516', axis=1)"
   ]
  },
  {
   "cell_type": "code",
   "execution_count": 6,
   "id": "4f80c98f",
   "metadata": {},
   "outputs": [],
   "source": [
    "df2 = df2[['tag', 'id']]"
   ]
  },
  {
   "cell_type": "code",
   "execution_count": 7,
   "id": "bf5b61f5",
   "metadata": {},
   "outputs": [],
   "source": [
    "df2 = df2[df2['tag'].isna() == False]"
   ]
  },
  {
   "cell_type": "code",
   "execution_count": 8,
   "id": "e15216bf",
   "metadata": {},
   "outputs": [],
   "source": [
    "df2 = df2.reset_index()"
   ]
  },
  {
   "cell_type": "code",
   "execution_count": 9,
   "id": "ac9c1926",
   "metadata": {},
   "outputs": [],
   "source": [
    "df2 = df2.drop('index', axis=1)"
   ]
  },
  {
   "cell_type": "code",
   "execution_count": 10,
   "id": "d1844295",
   "metadata": {},
   "outputs": [],
   "source": [
    "id2tag = df2.copy()"
   ]
  },
  {
   "cell_type": "code",
   "execution_count": 11,
   "id": "69980cf6",
   "metadata": {},
   "outputs": [],
   "source": [
    "top_10 = id2tag.tag.value_counts()[0:10]"
   ]
  },
  {
   "cell_type": "markdown",
   "id": "ef36105d",
   "metadata": {
    "id": "ef36105d"
   },
   "source": [
    "### Задача 2\n",
    "\n",
    "Найдите номер (id) подписи, которая содержит максимальное количество тегов. Выведите соответствующую подпись на экран. Используйте датафрейм `id2tag`, созданный в предыдущей задаче."
   ]
  },
  {
   "cell_type": "code",
   "execution_count": 12,
   "id": "ad3b55cc",
   "metadata": {
    "id": "ad3b55cc"
   },
   "outputs": [
    {
     "data": {
      "text/html": [
       "<div>\n",
       "<style scoped>\n",
       "    .dataframe tbody tr th:only-of-type {\n",
       "        vertical-align: middle;\n",
       "    }\n",
       "\n",
       "    .dataframe tbody tr th {\n",
       "        vertical-align: top;\n",
       "    }\n",
       "\n",
       "    .dataframe thead th {\n",
       "        text-align: right;\n",
       "    }\n",
       "</style>\n",
       "<table border=\"1\" class=\"dataframe\">\n",
       "  <thead>\n",
       "    <tr style=\"text-align: right;\">\n",
       "      <th></th>\n",
       "      <th>tag</th>\n",
       "      <th>id</th>\n",
       "    </tr>\n",
       "  </thead>\n",
       "  <tbody>\n",
       "    <tr>\n",
       "      <th>7337</th>\n",
       "      <td>#feeling</td>\n",
       "      <td>29080</td>\n",
       "    </tr>\n",
       "    <tr>\n",
       "      <th>7338</th>\n",
       "      <td>#good</td>\n",
       "      <td>29080</td>\n",
       "    </tr>\n",
       "    <tr>\n",
       "      <th>7339</th>\n",
       "      <td>#after</td>\n",
       "      <td>29080</td>\n",
       "    </tr>\n",
       "    <tr>\n",
       "      <th>7340</th>\n",
       "      <td>#2months</td>\n",
       "      <td>29080</td>\n",
       "    </tr>\n",
       "    <tr>\n",
       "      <th>7341</th>\n",
       "      <td>#atlast</td>\n",
       "      <td>29080</td>\n",
       "    </tr>\n",
       "    <tr>\n",
       "      <th>7342</th>\n",
       "      <td>#i</td>\n",
       "      <td>29080</td>\n",
       "    </tr>\n",
       "    <tr>\n",
       "      <th>7343</th>\n",
       "      <td>#am</td>\n",
       "      <td>29080</td>\n",
       "    </tr>\n",
       "    <tr>\n",
       "      <th>7344</th>\n",
       "      <td>#fit</td>\n",
       "      <td>29080</td>\n",
       "    </tr>\n",
       "    <tr>\n",
       "      <th>7345</th>\n",
       "      <td>#n</td>\n",
       "      <td>29080</td>\n",
       "    </tr>\n",
       "    <tr>\n",
       "      <th>7346</th>\n",
       "      <td>#fine</td>\n",
       "      <td>29080</td>\n",
       "    </tr>\n",
       "    <tr>\n",
       "      <th>7347</th>\n",
       "      <td>#feels</td>\n",
       "      <td>29080</td>\n",
       "    </tr>\n",
       "    <tr>\n",
       "      <th>7348</th>\n",
       "      <td>#strong</td>\n",
       "      <td>29080</td>\n",
       "    </tr>\n",
       "    <tr>\n",
       "      <th>7349</th>\n",
       "      <td>#ready</td>\n",
       "      <td>29080</td>\n",
       "    </tr>\n",
       "    <tr>\n",
       "      <th>7350</th>\n",
       "      <td>#to</td>\n",
       "      <td>29080</td>\n",
       "    </tr>\n",
       "    <tr>\n",
       "      <th>7351</th>\n",
       "      <td>#the</td>\n",
       "      <td>29080</td>\n",
       "    </tr>\n",
       "    <tr>\n",
       "      <th>7352</th>\n",
       "      <td>#game</td>\n",
       "      <td>29080</td>\n",
       "    </tr>\n",
       "    <tr>\n",
       "      <th>7353</th>\n",
       "      <td>#bethebestinyou</td>\n",
       "      <td>29080</td>\n",
       "    </tr>\n",
       "  </tbody>\n",
       "</table>\n",
       "</div>"
      ],
      "text/plain": [
       "                  tag     id\n",
       "7337         #feeling  29080\n",
       "7338            #good  29080\n",
       "7339           #after  29080\n",
       "7340         #2months  29080\n",
       "7341          #atlast  29080\n",
       "7342               #i  29080\n",
       "7343              #am  29080\n",
       "7344             #fit  29080\n",
       "7345               #n  29080\n",
       "7346            #fine  29080\n",
       "7347           #feels  29080\n",
       "7348          #strong  29080\n",
       "7349           #ready  29080\n",
       "7350              #to  29080\n",
       "7351             #the  29080\n",
       "7352            #game  29080\n",
       "7353  #bethebestinyou  29080"
      ]
     },
     "execution_count": 12,
     "metadata": {},
     "output_type": "execute_result"
    }
   ],
   "source": [
    "#\n",
    "# Ваш код здесь\n",
    "#\n",
    "# id2tag[id2tag['tag'] == id2tag.tag.value_counts()[0:1].keys()[0]]\n",
    "id2tag[id2tag.id == id2tag.id.value_counts().keys()[0]]"
   ]
  },
  {
   "cell_type": "markdown",
   "id": "c22e27b3",
   "metadata": {
    "id": "c22e27b3"
   },
   "source": [
    "### Задача 3\n",
    "\n",
    "На основе датафрейма `id2tag` создайте новый датафрейм, в который войдут все строки `id2tag`. В значениях `tag` этих строк должны содержаться теги, начинающиеся и заканчивающиеся цифрой (для проверки этого свойства используйте регулярное выражение).  \n",
    "#### Рекомендации по выполнению\n",
    "##### Шаг 1\n",
    "Создайте функцию `regex_filter`, которая принимает единственный аргумент – тег и возвращает `True`, если тег соответствует шаблону (начинается и заканчивается цифрой),  и `False` – в противном случае.\n",
    "##### Шаг 2\n",
    "Для колонки `tag` датафрейма `id2tag` вызовите функцию [apply](https://pandas.pydata.org/docs/reference/api/pandas.DataFrame.apply.html), в качестве аргумента которой передайте функцию `regex_filter`.\n",
    "##### Шаг 3\n",
    "Используйте pandas-series, состоящий из `True`/`False`, который получен на предыдущем шаге, в качестве фильтра в датафрейме `id2tag`. "
   ]
  },
  {
   "cell_type": "code",
   "execution_count": 13,
   "id": "ff0e5273",
   "metadata": {},
   "outputs": [],
   "source": [
    "df2 = id2tag.copy()"
   ]
  },
  {
   "cell_type": "code",
   "execution_count": 168,
   "id": "f6f9998a",
   "metadata": {},
   "outputs": [],
   "source": [
    "?re"
   ]
  },
  {
   "cell_type": "code",
   "execution_count": 14,
   "id": "ddc410b5",
   "metadata": {},
   "outputs": [
    {
     "data": {
      "text/plain": [
       "[]"
      ]
     },
     "execution_count": 14,
     "metadata": {},
     "output_type": "execute_result"
    }
   ],
   "source": [
    "string = '#3abDdefg554'\n",
    "# res = re.findall('\\d+.+\\d$', string)\n",
    "res = re.findall('#\\d+[a-hA-C]+\\d+$', string)\n",
    "res"
   ]
  },
  {
   "cell_type": "code",
   "execution_count": 15,
   "id": "48e2c9f0",
   "metadata": {},
   "outputs": [],
   "source": [
    "# string = '45ShoesdayTuesday5'\n",
    "def regex_filter(string):\n",
    "    import re\n",
    "    res = re.findall('#\\d+[a-zA-Z]+\\d+$', string)\n",
    "    return len(res) >0"
   ]
  },
  {
   "cell_type": "code",
   "execution_count": 16,
   "id": "8c1218a8",
   "metadata": {},
   "outputs": [
    {
     "data": {
      "text/html": [
       "<div>\n",
       "<style scoped>\n",
       "    .dataframe tbody tr th:only-of-type {\n",
       "        vertical-align: middle;\n",
       "    }\n",
       "\n",
       "    .dataframe tbody tr th {\n",
       "        vertical-align: top;\n",
       "    }\n",
       "\n",
       "    .dataframe thead th {\n",
       "        text-align: right;\n",
       "    }\n",
       "</style>\n",
       "<table border=\"1\" class=\"dataframe\">\n",
       "  <thead>\n",
       "    <tr style=\"text-align: right;\">\n",
       "      <th></th>\n",
       "      <th>tag</th>\n",
       "      <th>id</th>\n",
       "    </tr>\n",
       "  </thead>\n",
       "  <tbody>\n",
       "    <tr>\n",
       "      <th>7431</th>\n",
       "      <td>#3DaysToSOTY2</td>\n",
       "      <td>29121</td>\n",
       "    </tr>\n",
       "    <tr>\n",
       "      <th>8674</th>\n",
       "      <td>#4daystosoty2</td>\n",
       "      <td>30123</td>\n",
       "    </tr>\n",
       "    <tr>\n",
       "      <th>11815</th>\n",
       "      <td>#330x216</td>\n",
       "      <td>33904</td>\n",
       "    </tr>\n",
       "  </tbody>\n",
       "</table>\n",
       "</div>"
      ],
      "text/plain": [
       "                 tag     id\n",
       "7431   #3DaysToSOTY2  29121\n",
       "8674   #4daystosoty2  30123\n",
       "11815       #330x216  33904"
      ]
     },
     "execution_count": 16,
     "metadata": {},
     "output_type": "execute_result"
    }
   ],
   "source": [
    "df2[df2.tag.apply(lambda x:regex_filter(x)) == True]"
   ]
  },
  {
   "cell_type": "markdown",
   "id": "ec8c820a",
   "metadata": {
    "id": "ec8c820a"
   },
   "source": [
    "### Задача 4\n",
    "Кроме тегов, в подписях встречается другая конструкция: имена пользователей. Имя пользователя похоже на тег, но в отличие от него предваряется символом `собачка` (`@`), а не решёткой. В одной подписи может быть несколько тегов и несколько имён пользователей, могут быть только теги или имена пользователей, а может не быть ни того ни другого. В задаче 4 вам нужно выполнить следующее:  \n",
    "1. Найти тег, с которым употребляется максимальное количество имён пользователей (во всех подписях датасета). Другими словами: взять тег, найти все подписи, в которых он встречается, и посчитать, сколько уникальных имен пользователей содержат `все` эти подписи. Вы получите количество пользователей, которые встречались в подписях в паре с этим тегом. Проделайте эту операцию для всех тегов, потом выберите тот, который встречался в паре с максимальным количеством пользователей. \n",
    "1. Обратная задача: найти имя пользователя, которое встречалось в паре с максимальным количеством уникальных тегов (во всех подписях датасета).\n",
    "1. Взять имя пользователя, которое вы нашли на предыдущем шаге, и вывести топ-10 тегов (по частоте встречаемости), которые встречались в паре с этим именем пользователя.\n",
    "#### Советы и рекомендации\n",
    "Теги и имена пользователей в подписях образуют отношение «многие ко многим», и вам нужно выполнить несколько «запросов» в это отношение. Это можно сделать разными способами, одним из наиболее удобных видится описанный ниже.  \n",
    "##### Шаг 1\n",
    "Создайте датафрейм `id2user` по аналогии с тем, как создавали датафрейм `id2tag`. Первым столбцом в этом датафрейме должен быть идентификатор подписи, а вторым – имя пользователя (для его извлечения используйте регулярное выражение), которое встречалось в подписи с соответствующим идентификатором. Идентификаторы подписей могут повторяться, указывая на то, что соответствующая подпись включает несколько имён пользователей.\n",
    "##### Шаг 2\n",
    "Создайте датафрейм `full_df`, который представляет собой `inner join` датафреймов `id2tag` и `id2user` по колонке `id`. Воспользуйтесь функцией [pandas merge](https://pandas.pydata.org/docs/reference/api/pandas.DataFrame.merge.html). Таким образом, каждая строка `full_df` будет состоять из идентификатора подписи и пары {тег, имя пользователя}, которые встречались вместе в этой подписи.\n",
    "##### Шаг 3\n",
    "Используя функции Pandas, выполните подзадачу 1.\n",
    "##### Шаг 4\n",
    "Используя функции Pandas, выполните подзадачу 2.\n",
    "##### Шаг 5\n",
    "Используя функции Pandas, выполните подзадачу 3."
   ]
  },
  {
   "cell_type": "code",
   "execution_count": 29,
   "id": "14e1a93c",
   "metadata": {},
   "outputs": [],
   "source": [
    "df = df.drop('tag', axis=1)"
   ]
  },
  {
   "cell_type": "code",
   "execution_count": 30,
   "id": "a12b67e7",
   "metadata": {},
   "outputs": [],
   "source": [
    "id2user = df.copy()"
   ]
  },
  {
   "cell_type": "code",
   "execution_count": 31,
   "id": "e077b247",
   "metadata": {},
   "outputs": [],
   "source": [
    "id2user['user'] = df3['wHaT dAy Is It Even #stayhomeclub'].apply(lambda x: re.findall('@\\w+', x))"
   ]
  },
  {
   "cell_type": "code",
   "execution_count": 32,
   "id": "a1c13853",
   "metadata": {},
   "outputs": [
    {
     "data": {
      "text/html": [
       "<div>\n",
       "<style scoped>\n",
       "    .dataframe tbody tr th:only-of-type {\n",
       "        vertical-align: middle;\n",
       "    }\n",
       "\n",
       "    .dataframe tbody tr th {\n",
       "        vertical-align: top;\n",
       "    }\n",
       "\n",
       "    .dataframe thead th {\n",
       "        text-align: right;\n",
       "    }\n",
       "</style>\n",
       "<table border=\"1\" class=\"dataframe\">\n",
       "  <thead>\n",
       "    <tr style=\"text-align: right;\">\n",
       "      <th></th>\n",
       "      <th>20516</th>\n",
       "      <th>img2/insta20516</th>\n",
       "      <th>wHaT dAy Is It Even #stayhomeclub</th>\n",
       "      <th>user</th>\n",
       "    </tr>\n",
       "  </thead>\n",
       "  <tbody>\n",
       "    <tr>\n",
       "      <th>0</th>\n",
       "      <td>20517</td>\n",
       "      <td>img2/insta20517</td>\n",
       "      <td>Vitamin C for your fashion diet #KatyPursey #S...</td>\n",
       "      <td>[@katyperrycollections]</td>\n",
       "    </tr>\n",
       "    <tr>\n",
       "      <th>1</th>\n",
       "      <td>20518</td>\n",
       "      <td>img2/insta20518</td>\n",
       "      <td>do you know the hotter the fire the purer the ...</td>\n",
       "      <td>[]</td>\n",
       "    </tr>\n",
       "    <tr>\n",
       "      <th>2</th>\n",
       "      <td>20519</td>\n",
       "      <td>img2/insta20519</td>\n",
       "      <td>@ryanseacrest 👍🏻</td>\n",
       "      <td>[@ryanseacrest]</td>\n",
       "    </tr>\n",
       "    <tr>\n",
       "      <th>3</th>\n",
       "      <td>20520</td>\n",
       "      <td>img2/insta20520</td>\n",
       "      <td>working hard or hardly working idk 🤷🏼‍♀️</td>\n",
       "      <td>[]</td>\n",
       "    </tr>\n",
       "    <tr>\n",
       "      <th>4</th>\n",
       "      <td>20521</td>\n",
       "      <td>img2/insta20521</td>\n",
       "      <td>Step into your destiny with The Bondie 🔮✨ #Sho...</td>\n",
       "      <td>[@katyperrycollections]</td>\n",
       "    </tr>\n",
       "    <tr>\n",
       "      <th>...</th>\n",
       "      <td>...</td>\n",
       "      <td>...</td>\n",
       "      <td>...</td>\n",
       "      <td>...</td>\n",
       "    </tr>\n",
       "    <tr>\n",
       "      <th>14406</th>\n",
       "      <td>34923</td>\n",
       "      <td>img2/insta34923</td>\n",
       "      <td>Mexican vegan pizza I made from scratch. Meat ...</td>\n",
       "      <td>[]</td>\n",
       "    </tr>\n",
       "    <tr>\n",
       "      <th>14407</th>\n",
       "      <td>34924</td>\n",
       "      <td>img2/insta34924</td>\n",
       "      <td>Hummm....Can u spot the error?</td>\n",
       "      <td>[]</td>\n",
       "    </tr>\n",
       "    <tr>\n",
       "      <th>14408</th>\n",
       "      <td>34925</td>\n",
       "      <td>img2/insta34925</td>\n",
       "      <td>Snuggling with the dry cleaning</td>\n",
       "      <td>[]</td>\n",
       "    </tr>\n",
       "    <tr>\n",
       "      <th>14409</th>\n",
       "      <td>34926</td>\n",
       "      <td>img2/insta34926</td>\n",
       "      <td>Morning practice</td>\n",
       "      <td>[]</td>\n",
       "    </tr>\n",
       "    <tr>\n",
       "      <th>14410</th>\n",
       "      <td>34927</td>\n",
       "      <td>img2/insta34927</td>\n",
       "      <td>Up up and away!!!</td>\n",
       "      <td>[]</td>\n",
       "    </tr>\n",
       "  </tbody>\n",
       "</table>\n",
       "<p>14411 rows × 4 columns</p>\n",
       "</div>"
      ],
      "text/plain": [
       "       20516  img2/insta20516  \\\n",
       "0      20517  img2/insta20517   \n",
       "1      20518  img2/insta20518   \n",
       "2      20519  img2/insta20519   \n",
       "3      20520  img2/insta20520   \n",
       "4      20521  img2/insta20521   \n",
       "...      ...              ...   \n",
       "14406  34923  img2/insta34923   \n",
       "14407  34924  img2/insta34924   \n",
       "14408  34925  img2/insta34925   \n",
       "14409  34926  img2/insta34926   \n",
       "14410  34927  img2/insta34927   \n",
       "\n",
       "                       wHaT dAy Is It Even #stayhomeclub  \\\n",
       "0      Vitamin C for your fashion diet #KatyPursey #S...   \n",
       "1      do you know the hotter the fire the purer the ...   \n",
       "2                                       @ryanseacrest 👍🏻   \n",
       "3               working hard or hardly working idk 🤷🏼‍♀️   \n",
       "4      Step into your destiny with The Bondie 🔮✨ #Sho...   \n",
       "...                                                  ...   \n",
       "14406  Mexican vegan pizza I made from scratch. Meat ...   \n",
       "14407                    Hummm....Can u spot the error?    \n",
       "14408                    Snuggling with the dry cleaning   \n",
       "14409                                  Morning practice    \n",
       "14410                                  Up up and away!!!   \n",
       "\n",
       "                          user  \n",
       "0      [@katyperrycollections]  \n",
       "1                           []  \n",
       "2              [@ryanseacrest]  \n",
       "3                           []  \n",
       "4      [@katyperrycollections]  \n",
       "...                        ...  \n",
       "14406                       []  \n",
       "14407                       []  \n",
       "14408                       []  \n",
       "14409                       []  \n",
       "14410                       []  \n",
       "\n",
       "[14411 rows x 4 columns]"
      ]
     },
     "execution_count": 32,
     "metadata": {},
     "output_type": "execute_result"
    }
   ],
   "source": [
    "id2user"
   ]
  },
  {
   "cell_type": "code",
   "execution_count": 33,
   "id": "cfdad427",
   "metadata": {},
   "outputs": [],
   "source": [
    "id2user = id2user.explode('user')"
   ]
  },
  {
   "cell_type": "code",
   "execution_count": 36,
   "id": "6a6b3ef4",
   "metadata": {},
   "outputs": [],
   "source": [
    "id2user['id'] = id2user['20516']"
   ]
  },
  {
   "cell_type": "code",
   "execution_count": 38,
   "id": "08d08159",
   "metadata": {},
   "outputs": [],
   "source": [
    "id2user = id2user.drop(['20516', 'wHaT dAy Is It Even #stayhomeclub', 'img2/insta20516'], axis=1)"
   ]
  },
  {
   "cell_type": "code",
   "execution_count": 76,
   "id": "ea34b66a",
   "metadata": {},
   "outputs": [
    {
     "data": {
      "text/html": [
       "<div>\n",
       "<style scoped>\n",
       "    .dataframe tbody tr th:only-of-type {\n",
       "        vertical-align: middle;\n",
       "    }\n",
       "\n",
       "    .dataframe tbody tr th {\n",
       "        vertical-align: top;\n",
       "    }\n",
       "\n",
       "    .dataframe thead th {\n",
       "        text-align: right;\n",
       "    }\n",
       "</style>\n",
       "<table border=\"1\" class=\"dataframe\">\n",
       "  <thead>\n",
       "    <tr style=\"text-align: right;\">\n",
       "      <th></th>\n",
       "      <th>user</th>\n",
       "      <th>id</th>\n",
       "      <th>tag</th>\n",
       "    </tr>\n",
       "  </thead>\n",
       "  <tbody>\n",
       "    <tr>\n",
       "      <th>0</th>\n",
       "      <td>@katyperrycollections</td>\n",
       "      <td>20517</td>\n",
       "      <td>#KatyPursey</td>\n",
       "    </tr>\n",
       "    <tr>\n",
       "      <th>1</th>\n",
       "      <td>@katyperrycollections</td>\n",
       "      <td>20517</td>\n",
       "      <td>#StayHome</td>\n",
       "    </tr>\n",
       "    <tr>\n",
       "      <th>2</th>\n",
       "      <td>@katyperrycollections</td>\n",
       "      <td>20517</td>\n",
       "      <td>#ShoesdayTuesday</td>\n",
       "    </tr>\n",
       "    <tr>\n",
       "      <th>3</th>\n",
       "      <td>@katyperrycollections</td>\n",
       "      <td>20521</td>\n",
       "      <td>#ShoesdayTuesday</td>\n",
       "    </tr>\n",
       "    <tr>\n",
       "      <th>4</th>\n",
       "      <td>@katyperrycollections</td>\n",
       "      <td>20522</td>\n",
       "      <td>#ProtectYourEnergy2020</td>\n",
       "    </tr>\n",
       "    <tr>\n",
       "      <th>...</th>\n",
       "      <td>...</td>\n",
       "      <td>...</td>\n",
       "      <td>...</td>\n",
       "    </tr>\n",
       "    <tr>\n",
       "      <th>6314</th>\n",
       "      <td>@natilarocks</td>\n",
       "      <td>34880</td>\n",
       "      <td>#friendsforever</td>\n",
       "    </tr>\n",
       "    <tr>\n",
       "      <th>6315</th>\n",
       "      <td>@carowozniacki</td>\n",
       "      <td>34880</td>\n",
       "      <td>#friendsforever</td>\n",
       "    </tr>\n",
       "    <tr>\n",
       "      <th>6316</th>\n",
       "      <td>@Varunchik1</td>\n",
       "      <td>34882</td>\n",
       "      <td>#selfie</td>\n",
       "    </tr>\n",
       "    <tr>\n",
       "      <th>6317</th>\n",
       "      <td>@jugofresh</td>\n",
       "      <td>34892</td>\n",
       "      <td>#yummy</td>\n",
       "    </tr>\n",
       "    <tr>\n",
       "      <th>6318</th>\n",
       "      <td>@bigsascha</td>\n",
       "      <td>34894</td>\n",
       "      <td>#wigparty</td>\n",
       "    </tr>\n",
       "  </tbody>\n",
       "</table>\n",
       "<p>6319 rows × 3 columns</p>\n",
       "</div>"
      ],
      "text/plain": [
       "                       user     id                     tag\n",
       "0     @katyperrycollections  20517             #KatyPursey\n",
       "1     @katyperrycollections  20517               #StayHome\n",
       "2     @katyperrycollections  20517        #ShoesdayTuesday\n",
       "3     @katyperrycollections  20521        #ShoesdayTuesday\n",
       "4     @katyperrycollections  20522  #ProtectYourEnergy2020\n",
       "...                     ...    ...                     ...\n",
       "6314           @natilarocks  34880         #friendsforever\n",
       "6315         @carowozniacki  34880         #friendsforever\n",
       "6316            @Varunchik1  34882                 #selfie\n",
       "6317             @jugofresh  34892                  #yummy\n",
       "6318             @bigsascha  34894               #wigparty\n",
       "\n",
       "[6319 rows x 3 columns]"
      ]
     },
     "execution_count": 76,
     "metadata": {},
     "output_type": "execute_result"
    }
   ],
   "source": [
    "full_df"
   ]
  },
  {
   "cell_type": "code",
   "execution_count": 41,
   "id": "aac4f4a3",
   "metadata": {},
   "outputs": [],
   "source": [
    "id2user = id2user.reset_index()\n",
    "id2user = id2user.drop('index', axis=1)"
   ]
  },
  {
   "cell_type": "code",
   "execution_count": 44,
   "id": "4062fe38",
   "metadata": {},
   "outputs": [],
   "source": [
    "id2user = id2user[id2user['user'].isna() == False]"
   ]
  },
  {
   "cell_type": "code",
   "execution_count": 50,
   "id": "f2e0fd9f",
   "metadata": {},
   "outputs": [],
   "source": [
    "full_df = pd.merge(id2user, id2tag, on='id')"
   ]
  },
  {
   "cell_type": "code",
   "execution_count": 60,
   "id": "908b4e2c",
   "metadata": {},
   "outputs": [],
   "source": [
    "tags = full_df.tag.unique()"
   ]
  },
  {
   "cell_type": "code",
   "execution_count": 69,
   "id": "630f2eb1",
   "metadata": {},
   "outputs": [
    {
     "data": {
      "text/plain": [
       "3"
      ]
     },
     "execution_count": 69,
     "metadata": {},
     "output_type": "execute_result"
    }
   ],
   "source": [
    "len(full_df[full_df['tag'] == tags[7]].user.unique())"
   ]
  },
  {
   "cell_type": "code",
   "execution_count": 92,
   "id": "a30c7830",
   "metadata": {},
   "outputs": [],
   "source": [
    "res = dict()\n",
    "best_tag = [None, 0]\n",
    "for tag in tags:\n",
    "    res[tag] = len(full_df[full_df['tag'] == tag].user.unique())\n",
    "    if best_tag[1] < len(full_df[full_df['tag'] == tag].user.unique()):\n",
    "        best_tag[1] = len(full_df[full_df['tag'] == tag].user.unique())\n",
    "        best_tag[0] = tag\n"
   ]
  },
  {
   "cell_type": "code",
   "execution_count": 93,
   "id": "ddf52104",
   "metadata": {},
   "outputs": [
    {
     "data": {
      "text/plain": [
       "['#Repost', 59]"
      ]
     },
     "execution_count": 93,
     "metadata": {},
     "output_type": "execute_result"
    }
   ],
   "source": [
    "best_tag"
   ]
  },
  {
   "cell_type": "code",
   "execution_count": 96,
   "id": "9701bf09",
   "metadata": {},
   "outputs": [],
   "source": [
    "users = full_df.user.unique()"
   ]
  },
  {
   "cell_type": "code",
   "execution_count": 97,
   "id": "12c9253b",
   "metadata": {},
   "outputs": [],
   "source": [
    "res = dict()\n",
    "best_user = [None, 0]\n",
    "for user in users:\n",
    "    res[user] = len(full_df[full_df['user'] == user].tag.unique())\n",
    "    if best_user[1] < len(full_df[full_df['user'] == user].tag.unique()):\n",
    "        best_user[1] = len(full_df[full_df['user'] == user].tag.unique())\n",
    "        best_user[0] = user\n"
   ]
  },
  {
   "cell_type": "code",
   "execution_count": 98,
   "id": "bd027d1b",
   "metadata": {},
   "outputs": [
    {
     "data": {
      "text/plain": [
       "['@gomillionandleupold', 52]"
      ]
     },
     "execution_count": 98,
     "metadata": {},
     "output_type": "execute_result"
    }
   ],
   "source": [
    "best_user"
   ]
  },
  {
   "cell_type": "code",
   "execution_count": 105,
   "id": "53654f61",
   "metadata": {},
   "outputs": [
    {
     "data": {
      "text/plain": [
       "tag\n",
       "#JLoBTS            18\n",
       "#JLoAKA             9\n",
       "#Greece             9\n",
       "#JLoiHeartRadio     7\n",
       "#Ultimate           6\n",
       "#PoolParty          6\n",
       "#JLoPhotos          6\n",
       "#DownloadJLoAKA     6\n",
       "#JLoAtFoxWoods      5\n",
       "#January23          4\n",
       "Name: count, dtype: int64"
      ]
     },
     "execution_count": 105,
     "metadata": {},
     "output_type": "execute_result"
    }
   ],
   "source": [
    "full_df[full_df['user'] == best_user[0]].tag.value_counts()[:10]"
   ]
  },
  {
   "cell_type": "code",
   "execution_count": null,
   "id": "4ea554fe",
   "metadata": {
    "id": "4ea554fe"
   },
   "outputs": [],
   "source": [
    "#\n",
    "# Ваш код здесь\n",
    "#"
   ]
  },
  {
   "cell_type": "markdown",
   "id": "c409c98a",
   "metadata": {
    "id": "c409c98a"
   },
   "source": [
    "## Занятие 1 / Решения\n",
    "\n",
    "### Задача 1"
   ]
  },
  {
   "cell_type": "code",
   "execution_count": null,
   "id": "2d4cf1e3",
   "metadata": {
    "id": "2d4cf1e3",
    "outputId": "9b30dd00-80f5-4103-b23d-878c40756eab"
   },
   "outputs": [
    {
     "data": {
      "text/html": [
       "<div>\n",
       "<style scoped>\n",
       "    .dataframe tbody tr th:only-of-type {\n",
       "        vertical-align: middle;\n",
       "    }\n",
       "\n",
       "    .dataframe tbody tr th {\n",
       "        vertical-align: top;\n",
       "    }\n",
       "\n",
       "    .dataframe thead th {\n",
       "        text-align: right;\n",
       "    }\n",
       "</style>\n",
       "<table border=\"1\" class=\"dataframe\">\n",
       "  <thead>\n",
       "    <tr style=\"text-align: right;\">\n",
       "      <th></th>\n",
       "      <th>id</th>\n",
       "      <th>link</th>\n",
       "      <th>caption</th>\n",
       "    </tr>\n",
       "  </thead>\n",
       "  <tbody>\n",
       "    <tr>\n",
       "      <th>0</th>\n",
       "      <td>20516</td>\n",
       "      <td>img2/insta20516</td>\n",
       "      <td>wHaT dAy Is It Even #stayhomeclub</td>\n",
       "    </tr>\n",
       "    <tr>\n",
       "      <th>1</th>\n",
       "      <td>20517</td>\n",
       "      <td>img2/insta20517</td>\n",
       "      <td>Vitamin C for your fashion diet #KatyPursey #S...</td>\n",
       "    </tr>\n",
       "    <tr>\n",
       "      <th>2</th>\n",
       "      <td>20518</td>\n",
       "      <td>img2/insta20518</td>\n",
       "      <td>do you know the hotter the fire the purer the ...</td>\n",
       "    </tr>\n",
       "    <tr>\n",
       "      <th>3</th>\n",
       "      <td>20519</td>\n",
       "      <td>img2/insta20519</td>\n",
       "      <td>@ryanseacrest 👍🏻</td>\n",
       "    </tr>\n",
       "    <tr>\n",
       "      <th>4</th>\n",
       "      <td>20520</td>\n",
       "      <td>img2/insta20520</td>\n",
       "      <td>working hard or hardly working idk 🤷🏼‍♀️</td>\n",
       "    </tr>\n",
       "  </tbody>\n",
       "</table>\n",
       "</div>"
      ],
      "text/plain": [
       "      id             link                                            caption\n",
       "0  20516  img2/insta20516                  wHaT dAy Is It Even #stayhomeclub\n",
       "1  20517  img2/insta20517  Vitamin C for your fashion diet #KatyPursey #S...\n",
       "2  20518  img2/insta20518  do you know the hotter the fire the purer the ...\n",
       "3  20519  img2/insta20519                                   @ryanseacrest 👍🏻\n",
       "4  20520  img2/insta20520           working hard or hardly working idk 🤷🏼‍♀️"
      ]
     },
     "execution_count": 159,
     "metadata": {},
     "output_type": "execute_result"
    }
   ],
   "source": [
    "import re\n",
    "\n",
    "import pandas as pd\n",
    "\n",
    "### ШАГ 1\n",
    "\n",
    "# Замените путь к файлу captions_csv2.csv на ваш\n",
    "df = pd.read_csv('data/skillbox/ml_jun18/captions_csv2.csv', names=['id', 'link', 'caption'])\n",
    "\n",
    "df.head()"
   ]
  },
  {
   "cell_type": "code",
   "execution_count": null,
   "id": "0a714834",
   "metadata": {
    "id": "0a714834",
    "outputId": "c79d1ddc-1718-4ca1-e048-d8fb1053b009"
   },
   "outputs": [
    {
     "data": {
      "text/html": [
       "<div>\n",
       "<style scoped>\n",
       "    .dataframe tbody tr th:only-of-type {\n",
       "        vertical-align: middle;\n",
       "    }\n",
       "\n",
       "    .dataframe tbody tr th {\n",
       "        vertical-align: top;\n",
       "    }\n",
       "\n",
       "    .dataframe thead th {\n",
       "        text-align: right;\n",
       "    }\n",
       "</style>\n",
       "<table border=\"1\" class=\"dataframe\">\n",
       "  <thead>\n",
       "    <tr style=\"text-align: right;\">\n",
       "      <th></th>\n",
       "      <th>id</th>\n",
       "      <th>link</th>\n",
       "      <th>caption</th>\n",
       "      <th>tag</th>\n",
       "    </tr>\n",
       "  </thead>\n",
       "  <tbody>\n",
       "    <tr>\n",
       "      <th>0</th>\n",
       "      <td>20516</td>\n",
       "      <td>img2/insta20516</td>\n",
       "      <td>wHaT dAy Is It Even #stayhomeclub</td>\n",
       "      <td>[#stayhomeclub]</td>\n",
       "    </tr>\n",
       "    <tr>\n",
       "      <th>1</th>\n",
       "      <td>20517</td>\n",
       "      <td>img2/insta20517</td>\n",
       "      <td>Vitamin C for your fashion diet #KatyPursey #S...</td>\n",
       "      <td>[#KatyPursey, #StayHome, #ShoesdayTuesday]</td>\n",
       "    </tr>\n",
       "    <tr>\n",
       "      <th>2</th>\n",
       "      <td>20518</td>\n",
       "      <td>img2/insta20518</td>\n",
       "      <td>do you know the hotter the fire the purer the ...</td>\n",
       "      <td>[]</td>\n",
       "    </tr>\n",
       "    <tr>\n",
       "      <th>3</th>\n",
       "      <td>20519</td>\n",
       "      <td>img2/insta20519</td>\n",
       "      <td>@ryanseacrest 👍🏻</td>\n",
       "      <td>[]</td>\n",
       "    </tr>\n",
       "    <tr>\n",
       "      <th>4</th>\n",
       "      <td>20520</td>\n",
       "      <td>img2/insta20520</td>\n",
       "      <td>working hard or hardly working idk 🤷🏼‍♀️</td>\n",
       "      <td>[]</td>\n",
       "    </tr>\n",
       "  </tbody>\n",
       "</table>\n",
       "</div>"
      ],
      "text/plain": [
       "      id             link                                            caption  \\\n",
       "0  20516  img2/insta20516                  wHaT dAy Is It Even #stayhomeclub   \n",
       "1  20517  img2/insta20517  Vitamin C for your fashion diet #KatyPursey #S...   \n",
       "2  20518  img2/insta20518  do you know the hotter the fire the purer the ...   \n",
       "3  20519  img2/insta20519                                   @ryanseacrest 👍🏻   \n",
       "4  20520  img2/insta20520           working hard or hardly working idk 🤷🏼‍♀️   \n",
       "\n",
       "                                          tag  \n",
       "0                             [#stayhomeclub]  \n",
       "1  [#KatyPursey, #StayHome, #ShoesdayTuesday]  \n",
       "2                                          []  \n",
       "3                                          []  \n",
       "4                                          []  "
      ]
     },
     "execution_count": 160,
     "metadata": {},
     "output_type": "execute_result"
    }
   ],
   "source": [
    "### ШАГ 2\n",
    "\n",
    "pattern = re.compile('#\\w+')\n",
    "\n",
    "df['tag'] = df['caption'].apply(pattern.findall)\n",
    "\n",
    "df.head()"
   ]
  },
  {
   "cell_type": "code",
   "execution_count": null,
   "id": "f76f500f",
   "metadata": {
    "id": "f76f500f",
    "outputId": "d6439030-274b-4fe6-9aa4-7617c048a6c7"
   },
   "outputs": [
    {
     "data": {
      "text/html": [
       "<div>\n",
       "<style scoped>\n",
       "    .dataframe tbody tr th:only-of-type {\n",
       "        vertical-align: middle;\n",
       "    }\n",
       "\n",
       "    .dataframe tbody tr th {\n",
       "        vertical-align: top;\n",
       "    }\n",
       "\n",
       "    .dataframe thead th {\n",
       "        text-align: right;\n",
       "    }\n",
       "</style>\n",
       "<table border=\"1\" class=\"dataframe\">\n",
       "  <thead>\n",
       "    <tr style=\"text-align: right;\">\n",
       "      <th></th>\n",
       "      <th>id</th>\n",
       "      <th>tag</th>\n",
       "    </tr>\n",
       "  </thead>\n",
       "  <tbody>\n",
       "    <tr>\n",
       "      <th>0</th>\n",
       "      <td>20516</td>\n",
       "      <td>#stayhomeclub</td>\n",
       "    </tr>\n",
       "    <tr>\n",
       "      <th>1</th>\n",
       "      <td>20517</td>\n",
       "      <td>#KatyPursey</td>\n",
       "    </tr>\n",
       "    <tr>\n",
       "      <th>1</th>\n",
       "      <td>20517</td>\n",
       "      <td>#StayHome</td>\n",
       "    </tr>\n",
       "    <tr>\n",
       "      <th>1</th>\n",
       "      <td>20517</td>\n",
       "      <td>#ShoesdayTuesday</td>\n",
       "    </tr>\n",
       "    <tr>\n",
       "      <th>5</th>\n",
       "      <td>20521</td>\n",
       "      <td>#ShoesdayTuesday</td>\n",
       "    </tr>\n",
       "  </tbody>\n",
       "</table>\n",
       "</div>"
      ],
      "text/plain": [
       "      id               tag\n",
       "0  20516     #stayhomeclub\n",
       "1  20517       #KatyPursey\n",
       "1  20517         #StayHome\n",
       "1  20517  #ShoesdayTuesday\n",
       "5  20521  #ShoesdayTuesday"
      ]
     },
     "execution_count": 161,
     "metadata": {},
     "output_type": "execute_result"
    }
   ],
   "source": [
    "### ШАГ 3\n",
    "\n",
    "id2tag = df.explode('tag')[['id', 'tag']].dropna()\n",
    "\n",
    "id2tag.head()"
   ]
  },
  {
   "cell_type": "code",
   "execution_count": null,
   "id": "6f1edd7e",
   "metadata": {
    "id": "6f1edd7e",
    "outputId": "3b8adbc9-a097-4876-ef55-042450581c87"
   },
   "outputs": [
    {
     "data": {
      "text/plain": [
       "#StriveForGreatness    154\n",
       "#Repost                 61\n",
       "#love                   53\n",
       "#TBT                    45\n",
       "#LOVE                   44\n",
       "#TheBoyNextDoor         40\n",
       "#shadesofblue           37\n",
       "#FENTYxPUMA             33\n",
       "#JLoVegas               33\n",
       "#repost                 32\n",
       "Name: tag, dtype: int64"
      ]
     },
     "execution_count": 163,
     "metadata": {},
     "output_type": "execute_result"
    }
   ],
   "source": [
    "### ШАГ 4\n",
    "\n",
    "id2tag['tag'].value_counts().head(10)"
   ]
  },
  {
   "cell_type": "markdown",
   "id": "0406c71d",
   "metadata": {
    "id": "0406c71d"
   },
   "source": [
    "### Задача 2"
   ]
  },
  {
   "cell_type": "code",
   "execution_count": null,
   "id": "dc1c4c11",
   "metadata": {
    "id": "dc1c4c11",
    "outputId": "496725de-2c0b-44b2-d488-181fc9915d0e"
   },
   "outputs": [
    {
     "data": {
      "text/plain": [
       "29080    17\n",
       "Name: id, dtype: int64"
      ]
     },
     "execution_count": 166,
     "metadata": {},
     "output_type": "execute_result"
    }
   ],
   "source": [
    "id2tag['id'].value_counts().head(1)"
   ]
  },
  {
   "cell_type": "code",
   "execution_count": null,
   "id": "88831f2d",
   "metadata": {
    "id": "88831f2d",
    "outputId": "9c4eb54b-71dc-46bd-8f97-3a356a4c9965"
   },
   "outputs": [
    {
     "data": {
      "text/plain": [
       "8564    #feeling#good#after#2months#atlast#i#am#fit#n#...\n",
       "Name: caption, dtype: object"
      ]
     },
     "execution_count": 168,
     "metadata": {},
     "output_type": "execute_result"
    }
   ],
   "source": [
    "df[df['id'] == 29080]['caption']"
   ]
  },
  {
   "cell_type": "markdown",
   "id": "668b54ff",
   "metadata": {
    "id": "668b54ff"
   },
   "source": [
    "### Задача 3"
   ]
  },
  {
   "cell_type": "code",
   "execution_count": null,
   "id": "d3a21118",
   "metadata": {
    "id": "d3a21118",
    "outputId": "d897b27e-c958-4509-eca8-d5b580cb8844"
   },
   "outputs": [
    {
     "data": {
      "text/html": [
       "<div>\n",
       "<style scoped>\n",
       "    .dataframe tbody tr th:only-of-type {\n",
       "        vertical-align: middle;\n",
       "    }\n",
       "\n",
       "    .dataframe tbody tr th {\n",
       "        vertical-align: top;\n",
       "    }\n",
       "\n",
       "    .dataframe thead th {\n",
       "        text-align: right;\n",
       "    }\n",
       "</style>\n",
       "<table border=\"1\" class=\"dataframe\">\n",
       "  <thead>\n",
       "    <tr style=\"text-align: right;\">\n",
       "      <th></th>\n",
       "      <th>id</th>\n",
       "      <th>tag</th>\n",
       "    </tr>\n",
       "  </thead>\n",
       "  <tbody>\n",
       "    <tr>\n",
       "      <th>8605</th>\n",
       "      <td>29121</td>\n",
       "      <td>#3DaysToSOTY2</td>\n",
       "    </tr>\n",
       "    <tr>\n",
       "      <th>9607</th>\n",
       "      <td>30123</td>\n",
       "      <td>#4daystosoty2</td>\n",
       "    </tr>\n",
       "    <tr>\n",
       "      <th>13388</th>\n",
       "      <td>33904</td>\n",
       "      <td>#330x216</td>\n",
       "    </tr>\n",
       "  </tbody>\n",
       "</table>\n",
       "</div>"
      ],
      "text/plain": [
       "          id            tag\n",
       "8605   29121  #3DaysToSOTY2\n",
       "9607   30123  #4daystosoty2\n",
       "13388  33904       #330x216"
      ]
     },
     "execution_count": 177,
     "metadata": {},
     "output_type": "execute_result"
    }
   ],
   "source": [
    "### ШАГ 1\n",
    "def regex_filter(tag):\n",
    "    return bool(re.search('#\\d+[a-zA-Z]+\\d+$', str(tag)))\n",
    "\n",
    "### ШАГ 2\n",
    "flt = id2tag['tag'].apply(regex_filter)\n",
    "    \n",
    "### ШАГ 3    \n",
    "id2tag[flt]"
   ]
  },
  {
   "cell_type": "markdown",
   "id": "f2119d92",
   "metadata": {
    "id": "f2119d92"
   },
   "source": [
    "### Задача 4"
   ]
  },
  {
   "cell_type": "code",
   "execution_count": null,
   "id": "ec44b95e",
   "metadata": {
    "id": "ec44b95e",
    "outputId": "b4f2862c-b17f-4ee6-da65-69a8344e27b0"
   },
   "outputs": [
    {
     "data": {
      "text/html": [
       "<div>\n",
       "<style scoped>\n",
       "    .dataframe tbody tr th:only-of-type {\n",
       "        vertical-align: middle;\n",
       "    }\n",
       "\n",
       "    .dataframe tbody tr th {\n",
       "        vertical-align: top;\n",
       "    }\n",
       "\n",
       "    .dataframe thead th {\n",
       "        text-align: right;\n",
       "    }\n",
       "</style>\n",
       "<table border=\"1\" class=\"dataframe\">\n",
       "  <thead>\n",
       "    <tr style=\"text-align: right;\">\n",
       "      <th></th>\n",
       "      <th>id</th>\n",
       "      <th>user</th>\n",
       "    </tr>\n",
       "  </thead>\n",
       "  <tbody>\n",
       "    <tr>\n",
       "      <th>1</th>\n",
       "      <td>20517</td>\n",
       "      <td>@katyperrycollections</td>\n",
       "    </tr>\n",
       "    <tr>\n",
       "      <th>3</th>\n",
       "      <td>20519</td>\n",
       "      <td>@ryanseacrest</td>\n",
       "    </tr>\n",
       "    <tr>\n",
       "      <th>5</th>\n",
       "      <td>20521</td>\n",
       "      <td>@katyperrycollections</td>\n",
       "    </tr>\n",
       "    <tr>\n",
       "      <th>6</th>\n",
       "      <td>20522</td>\n",
       "      <td>@katyperrycollections</td>\n",
       "    </tr>\n",
       "    <tr>\n",
       "      <th>7</th>\n",
       "      <td>20523</td>\n",
       "      <td>@vogueindia</td>\n",
       "    </tr>\n",
       "  </tbody>\n",
       "</table>\n",
       "</div>"
      ],
      "text/plain": [
       "      id                   user\n",
       "1  20517  @katyperrycollections\n",
       "3  20519          @ryanseacrest\n",
       "5  20521  @katyperrycollections\n",
       "6  20522  @katyperrycollections\n",
       "7  20523            @vogueindia"
      ]
     },
     "execution_count": 214,
     "metadata": {},
     "output_type": "execute_result"
    }
   ],
   "source": [
    "# ШАГ 1\n",
    "\n",
    "pattern = re.compile('@\\w+')\n",
    "\n",
    "df['user'] = df['caption'].apply(lambda x: pattern.findall(x))\n",
    "\n",
    "id2user = df.explode('user')[['id', 'user']].dropna()\n",
    "\n",
    "id2user.head()"
   ]
  },
  {
   "cell_type": "code",
   "execution_count": null,
   "id": "dc04945b",
   "metadata": {
    "id": "dc04945b",
    "outputId": "1c0f474b-ce4a-4020-bb98-80f4ffdf1068"
   },
   "outputs": [
    {
     "data": {
      "text/html": [
       "<div>\n",
       "<style scoped>\n",
       "    .dataframe tbody tr th:only-of-type {\n",
       "        vertical-align: middle;\n",
       "    }\n",
       "\n",
       "    .dataframe tbody tr th {\n",
       "        vertical-align: top;\n",
       "    }\n",
       "\n",
       "    .dataframe thead th {\n",
       "        text-align: right;\n",
       "    }\n",
       "</style>\n",
       "<table border=\"1\" class=\"dataframe\">\n",
       "  <thead>\n",
       "    <tr style=\"text-align: right;\">\n",
       "      <th></th>\n",
       "      <th>id</th>\n",
       "      <th>tag</th>\n",
       "      <th>user</th>\n",
       "    </tr>\n",
       "  </thead>\n",
       "  <tbody>\n",
       "    <tr>\n",
       "      <th>0</th>\n",
       "      <td>20517</td>\n",
       "      <td>#KatyPursey</td>\n",
       "      <td>@katyperrycollections</td>\n",
       "    </tr>\n",
       "    <tr>\n",
       "      <th>1</th>\n",
       "      <td>20517</td>\n",
       "      <td>#StayHome</td>\n",
       "      <td>@katyperrycollections</td>\n",
       "    </tr>\n",
       "    <tr>\n",
       "      <th>2</th>\n",
       "      <td>20517</td>\n",
       "      <td>#ShoesdayTuesday</td>\n",
       "      <td>@katyperrycollections</td>\n",
       "    </tr>\n",
       "    <tr>\n",
       "      <th>3</th>\n",
       "      <td>20521</td>\n",
       "      <td>#ShoesdayTuesday</td>\n",
       "      <td>@katyperrycollections</td>\n",
       "    </tr>\n",
       "    <tr>\n",
       "      <th>4</th>\n",
       "      <td>20522</td>\n",
       "      <td>#ProtectYourEnergy2020</td>\n",
       "      <td>@katyperrycollections</td>\n",
       "    </tr>\n",
       "  </tbody>\n",
       "</table>\n",
       "</div>"
      ],
      "text/plain": [
       "      id                     tag                   user\n",
       "0  20517             #KatyPursey  @katyperrycollections\n",
       "1  20517               #StayHome  @katyperrycollections\n",
       "2  20517        #ShoesdayTuesday  @katyperrycollections\n",
       "3  20521        #ShoesdayTuesday  @katyperrycollections\n",
       "4  20522  #ProtectYourEnergy2020  @katyperrycollections"
      ]
     },
     "execution_count": 217,
     "metadata": {},
     "output_type": "execute_result"
    }
   ],
   "source": [
    "# ШАГ 2\n",
    "\n",
    "full_df = pd.merge(id2tag, id2user, on='id')\n",
    "\n",
    "full_df.head()"
   ]
  },
  {
   "cell_type": "code",
   "execution_count": null,
   "id": "1de51589",
   "metadata": {
    "id": "1de51589",
    "outputId": "338e14bd-91f0-4669-ee5a-f74bfa03d242"
   },
   "outputs": [
    {
     "data": {
      "text/plain": [
       "tag\n",
       "#Repost    59\n",
       "Name: user, dtype: int64"
      ]
     },
     "execution_count": 218,
     "metadata": {},
     "output_type": "execute_result"
    }
   ],
   "source": [
    "# ШАГ 3\n",
    "\n",
    "full_df.groupby('tag')['user'].nunique().sort_values(ascending=False).head(1)"
   ]
  },
  {
   "cell_type": "code",
   "execution_count": null,
   "id": "34aac7a8",
   "metadata": {
    "id": "34aac7a8",
    "outputId": "5211b276-7485-46e0-9a73-acc75523ff26"
   },
   "outputs": [
    {
     "data": {
      "text/plain": [
       "user\n",
       "@fentybeauty    52\n",
       "Name: tag, dtype: int64"
      ]
     },
     "execution_count": 219,
     "metadata": {},
     "output_type": "execute_result"
    }
   ],
   "source": [
    "# ШАГ 4\n",
    "\n",
    "full_df.groupby('user')['tag'].nunique().sort_values(ascending=False).head(1)"
   ]
  },
  {
   "cell_type": "code",
   "execution_count": null,
   "id": "f82d25b9",
   "metadata": {
    "id": "f82d25b9",
    "outputId": "2549246b-79d8-42fa-d622-c579db148a23"
   },
   "outputs": [
    {
     "data": {
      "text/plain": [
       "#JLoBTS            18\n",
       "#JLoAKA             9\n",
       "#Greece             9\n",
       "#JLoiHeartRadio     7\n",
       "#Ultimate           6\n",
       "#PoolParty          6\n",
       "#JLoPhotos          6\n",
       "#DownloadJLoAKA     6\n",
       "#JLoAtFoxWoods      5\n",
       "#January23          4\n",
       "Name: tag, dtype: int64"
      ]
     },
     "execution_count": 211,
     "metadata": {},
     "output_type": "execute_result"
    }
   ],
   "source": [
    "# ШАГ 5\n",
    "\n",
    "full_df[full_df['user'] == '@gomillionandleupold']['tag'].value_counts().head(10)"
   ]
  },
  {
   "cell_type": "code",
   "execution_count": null,
   "id": "6f19d169",
   "metadata": {
    "id": "6f19d169"
   },
   "outputs": [],
   "source": []
  }
 ],
 "metadata": {
  "colab": {
   "provenance": []
  },
  "kernelspec": {
   "display_name": "Python 3 (ipykernel)",
   "language": "python",
   "name": "python3"
  },
  "language_info": {
   "codemirror_mode": {
    "name": "ipython",
    "version": 3
   },
   "file_extension": ".py",
   "mimetype": "text/x-python",
   "name": "python",
   "nbconvert_exporter": "python",
   "pygments_lexer": "ipython3",
   "version": "3.11.5"
  }
 },
 "nbformat": 4,
 "nbformat_minor": 5
}
