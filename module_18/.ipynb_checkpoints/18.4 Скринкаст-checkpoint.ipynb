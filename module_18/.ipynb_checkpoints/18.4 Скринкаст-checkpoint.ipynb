{
 "cells": [
  {
   "cell_type": "code",
   "execution_count": 1,
   "id": "ea94a881",
   "metadata": {
    "id": "ea94a881",
    "outputId": "3e966608-b3a1-4c42-dc53-3f4921cd3577"
   },
   "outputs": [
    {
     "data": {
      "text/plain": [
       "'кор'"
      ]
     },
     "execution_count": 1,
     "metadata": {},
     "output_type": "execute_result"
    }
   ],
   "source": [
    "from nltk.stem.snowball import SnowballStemmer\n",
    "\n",
    "stemmer = SnowballStemmer(\"russian\")\n",
    "\n",
    "stemmer.stem('коров')"
   ]
  },
  {
   "cell_type": "code",
   "execution_count": 2,
   "id": "362883d4",
   "metadata": {
    "id": "362883d4",
    "outputId": "9c036880-9de7-4eec-f512-877571925e37"
   },
   "outputs": [
    {
     "data": {
      "text/plain": [
       "['кошк', 'кошк', 'кошк', 'кошк', 'кошк', 'кошк']"
      ]
     },
     "execution_count": 2,
     "metadata": {},
     "output_type": "execute_result"
    }
   ],
   "source": [
    "words = ['кошка', 'кошки', 'кошке', 'кошку', 'кошкой', 'кошке']\n",
    "\n",
    "[stemmer.stem(word) for word in words]"
   ]
  },
  {
   "cell_type": "code",
   "execution_count": 3,
   "id": "1af33124",
   "metadata": {
    "id": "1af33124",
    "outputId": "470ee401-60e1-46fc-bd58-70c62d82a9b1"
   },
   "outputs": [
    {
     "data": {
      "text/plain": [
       "'леч'"
      ]
     },
     "execution_count": 3,
     "metadata": {},
     "output_type": "execute_result"
    }
   ],
   "source": [
    "stemmer.stem('лечу')"
   ]
  },
  {
   "cell_type": "code",
   "execution_count": 4,
   "id": "d16aa305",
   "metadata": {
    "id": "d16aa305",
    "outputId": "d65c3e50-6670-4bb6-91fe-85f30d949a5d"
   },
   "outputs": [
    {
     "data": {
      "text/plain": [
       "['глок', 'куздр', 'штек', 'будланул', 'бокр']"
      ]
     },
     "execution_count": 4,
     "metadata": {},
     "output_type": "execute_result"
    }
   ],
   "source": [
    "[stemmer.stem(word) for word in ['глокая', 'куздра', 'штеко', 'будланула', 'бокра']]"
   ]
  },
  {
   "cell_type": "markdown",
   "id": "6d96ec55",
   "metadata": {},
   "source": [
    "!pip install pymorphy2"
   ]
  },
  {
   "cell_type": "markdown",
   "id": "7d25e3a2",
   "metadata": {},
   "source": [
    "pip install pymorphy2[fast]"
   ]
  },
  {
   "cell_type": "markdown",
   "id": "41ea0be4",
   "metadata": {},
   "source": [
    "pip install pymorphy3"
   ]
  },
  {
   "cell_type": "markdown",
   "id": "ea6683bb",
   "metadata": {},
   "source": [
    "pip install pymorphy3-dicts-ru"
   ]
  },
  {
   "cell_type": "code",
   "execution_count": 5,
   "id": "45925271",
   "metadata": {},
   "outputs": [],
   "source": [
    "import pymorphy3\n",
    "morph = pymorphy3.MorphAnalyzer()"
   ]
  },
  {
   "cell_type": "code",
   "execution_count": 6,
   "id": "00e95b36",
   "metadata": {
    "id": "00e95b36",
    "outputId": "08338b67-08bf-4e5d-dd5b-918aee12ce2b"
   },
   "outputs": [
    {
     "data": {
      "text/plain": [
       "[Parse(word='коровой', tag=OpencorporaTag('NOUN,anim,femn sing,ablt'), normal_form='корова', score=1.0, methods_stack=((DictionaryAnalyzer(), 'коровой', 53, 4),))]"
      ]
     },
     "execution_count": 6,
     "metadata": {},
     "output_type": "execute_result"
    }
   ],
   "source": [
    "\n",
    "\n",
    "\n",
    "\n",
    "morph.parse('коровой')"
   ]
  },
  {
   "cell_type": "code",
   "execution_count": 7,
   "id": "34bf8cc7",
   "metadata": {
    "id": "34bf8cc7",
    "outputId": "dc349ce7-54da-44b1-a356-250371cf6b06"
   },
   "outputs": [
    {
     "data": {
      "text/plain": [
       "[Parse(word='коров', tag=OpencorporaTag('NOUN,anim,femn plur,gent'), normal_form='корова', score=0.545454, methods_stack=((DictionaryAnalyzer(), 'коров', 53, 8),)),\n",
       " Parse(word='коров', tag=OpencorporaTag('NOUN,anim,femn plur,accs'), normal_form='корова', score=0.454545, methods_stack=((DictionaryAnalyzer(), 'коров', 53, 10),))]"
      ]
     },
     "execution_count": 7,
     "metadata": {},
     "output_type": "execute_result"
    }
   ],
   "source": [
    "morph.parse('коров')"
   ]
  },
  {
   "cell_type": "code",
   "execution_count": 8,
   "id": "16861e0e",
   "metadata": {
    "id": "16861e0e",
    "outputId": "c82afd21-562f-4c85-be5c-05fd1f62b972"
   },
   "outputs": [
    {
     "data": {
      "text/plain": [
       "[Parse(word='лечу', tag=OpencorporaTag('VERB,impf,intr sing,1per,pres,indc'), normal_form='лететь', score=0.5, methods_stack=((DictionaryAnalyzer(), 'лечу', 1939, 1),)),\n",
       " Parse(word='лечу', tag=OpencorporaTag('VERB,impf,tran sing,1per,pres,indc'), normal_form='лечить', score=0.5, methods_stack=((DictionaryAnalyzer(), 'лечу', 1942, 1),))]"
      ]
     },
     "execution_count": 8,
     "metadata": {},
     "output_type": "execute_result"
    }
   ],
   "source": [
    "morph.parse('лечу')"
   ]
  },
  {
   "cell_type": "code",
   "execution_count": 9,
   "id": "81254522",
   "metadata": {
    "id": "81254522",
    "outputId": "3fae2b82-1313-4b97-92bf-4b0a708b0c65"
   },
   "outputs": [
    {
     "data": {
      "text/plain": [
       "[Parse(word='стали', tag=OpencorporaTag('VERB,perf,intr plur,past,indc'), normal_form='стать', score=0.975342, methods_stack=((DictionaryAnalyzer(), 'стали', 945, 4),)),\n",
       " Parse(word='стали', tag=OpencorporaTag('NOUN,inan,femn sing,gent'), normal_form='сталь', score=0.010958, methods_stack=((DictionaryAnalyzer(), 'стали', 13, 1),)),\n",
       " Parse(word='стали', tag=OpencorporaTag('NOUN,inan,femn plur,nomn'), normal_form='сталь', score=0.005479, methods_stack=((DictionaryAnalyzer(), 'стали', 13, 6),)),\n",
       " Parse(word='стали', tag=OpencorporaTag('NOUN,inan,femn sing,datv'), normal_form='сталь', score=0.002739, methods_stack=((DictionaryAnalyzer(), 'стали', 13, 2),)),\n",
       " Parse(word='стали', tag=OpencorporaTag('NOUN,inan,femn sing,loct'), normal_form='сталь', score=0.002739, methods_stack=((DictionaryAnalyzer(), 'стали', 13, 5),)),\n",
       " Parse(word='стали', tag=OpencorporaTag('NOUN,inan,femn plur,accs'), normal_form='сталь', score=0.002739, methods_stack=((DictionaryAnalyzer(), 'стали', 13, 9),))]"
      ]
     },
     "execution_count": 9,
     "metadata": {},
     "output_type": "execute_result"
    }
   ],
   "source": [
    "morph.parse('стали')"
   ]
  },
  {
   "cell_type": "code",
   "execution_count": 14,
   "id": "2a7ef6c0",
   "metadata": {},
   "outputs": [
    {
     "data": {
      "text/plain": [
       "[Parse(word='глокая', tag=OpencorporaTag('GRND,impf,intr pres'), normal_form='глокать', score=0.27950310559006214, methods_stack=((DictionaryAnalyzer(), 'окая', 15, 67), (UnknownPrefixAnalyzer(score_multiplier=0.5), 'гл'))),\n",
       " Parse(word='глокая', tag=OpencorporaTag('NOUN,anim,masc,Name sing,gent'), normal_form='глокай', score=0.27950310559006214, methods_stack=((DictionaryAnalyzer(), 'кая', 42, 1), (UnknownPrefixAnalyzer(score_multiplier=0.5), 'гло'))),\n",
       " Parse(word='глокая', tag=OpencorporaTag('NOUN,anim,masc,Name sing,accs'), normal_form='глокай', score=0.27950310559006214, methods_stack=((DictionaryAnalyzer(), 'кая', 42, 3), (UnknownPrefixAnalyzer(score_multiplier=0.5), 'гло'))),\n",
       " Parse(word='глокая', tag=OpencorporaTag('ADJF femn,sing,nomn'), normal_form='глокий', score=0.14906832298136646, methods_stack=((FakeDictionary(), 'глокая', 395, 7), (KnownSuffixAnalyzer(min_word_length=4, score_multiplier=0.5), 'окая'))),\n",
       " Parse(word='глокая', tag=OpencorporaTag('NOUN,inan,masc,Sgtm,Geox sing,gent'), normal_form='глокай', score=0.006211180124223603, methods_stack=((FakeDictionary(), 'глокая', 43, 1), (KnownSuffixAnalyzer(min_word_length=4, score_multiplier=0.5), 'окая'))),\n",
       " Parse(word='глокая', tag=OpencorporaTag('NOUN,inan,masc sing,gent'), normal_form='глокай', score=0.006211180124223603, methods_stack=((FakeDictionary(), 'глокая', 1217, 1), (KnownSuffixAnalyzer(min_word_length=4, score_multiplier=0.5), 'окая')))]"
      ]
     },
     "execution_count": 14,
     "metadata": {},
     "output_type": "execute_result"
    }
   ],
   "source": [
    "morph.parse('глокая')"
   ]
  },
  {
   "cell_type": "code",
   "execution_count": 10,
   "id": "19bb2f31",
   "metadata": {
    "id": "19bb2f31",
    "outputId": "7e82b382-0c26-4ba4-89fb-79e91a849ee4"
   },
   "outputs": [
    {
     "data": {
      "text/plain": [
       "['кошка', 'кошка', 'кошка', 'кошка', 'кошка', 'кошка']"
      ]
     },
     "execution_count": 10,
     "metadata": {},
     "output_type": "execute_result"
    }
   ],
   "source": [
    "words = ['кошка', 'кошки', 'кошке', 'кошку', 'кошкой', 'кошке']\n",
    "\n",
    "[morph.parse(word)[0].normal_form for word in words]"
   ]
  },
  {
   "cell_type": "code",
   "execution_count": 11,
   "id": "5f0e8945",
   "metadata": {
    "id": "5f0e8945",
    "outputId": "ea6e809f-8284-4129-b5e4-c33fefc34cbc"
   },
   "outputs": [
    {
     "name": "stderr",
     "output_type": "stream",
     "text": [
      "[nltk_data] Downloading package stopwords to\n",
      "[nltk_data]     C:\\Users\\User\\AppData\\Roaming\\nltk_data...\n",
      "[nltk_data]   Unzipping corpora\\stopwords.zip.\n"
     ]
    },
    {
     "data": {
      "text/plain": [
       "True"
      ]
     },
     "execution_count": 11,
     "metadata": {},
     "output_type": "execute_result"
    }
   ],
   "source": [
    "import nltk\n",
    "\n",
    "nltk.download('stopwords')"
   ]
  },
  {
   "cell_type": "code",
   "execution_count": 15,
   "id": "ef7061ea",
   "metadata": {
    "id": "ef7061ea"
   },
   "outputs": [],
   "source": [
    "from nltk.corpus import stopwords\n",
    "\n",
    "russian_stopwords = stopwords.words('russian')"
   ]
  },
  {
   "cell_type": "code",
   "execution_count": 16,
   "id": "fc277fc4",
   "metadata": {
    "id": "fc277fc4",
    "outputId": "8e8216b4-7e95-4c18-9312-a12426800e94"
   },
   "outputs": [
    {
     "data": {
      "text/plain": [
       "['и',\n",
       " 'в',\n",
       " 'во',\n",
       " 'не',\n",
       " 'что',\n",
       " 'он',\n",
       " 'на',\n",
       " 'я',\n",
       " 'с',\n",
       " 'со',\n",
       " 'как',\n",
       " 'а',\n",
       " 'то',\n",
       " 'все',\n",
       " 'она',\n",
       " 'так',\n",
       " 'его',\n",
       " 'но',\n",
       " 'да',\n",
       " 'ты',\n",
       " 'к',\n",
       " 'у',\n",
       " 'же',\n",
       " 'вы',\n",
       " 'за',\n",
       " 'бы',\n",
       " 'по',\n",
       " 'только',\n",
       " 'ее',\n",
       " 'мне',\n",
       " 'было',\n",
       " 'вот',\n",
       " 'от',\n",
       " 'меня',\n",
       " 'еще',\n",
       " 'нет',\n",
       " 'о',\n",
       " 'из',\n",
       " 'ему',\n",
       " 'теперь',\n",
       " 'когда',\n",
       " 'даже',\n",
       " 'ну',\n",
       " 'вдруг',\n",
       " 'ли',\n",
       " 'если',\n",
       " 'уже',\n",
       " 'или',\n",
       " 'ни',\n",
       " 'быть',\n",
       " 'был',\n",
       " 'него',\n",
       " 'до',\n",
       " 'вас',\n",
       " 'нибудь',\n",
       " 'опять',\n",
       " 'уж',\n",
       " 'вам',\n",
       " 'ведь',\n",
       " 'там',\n",
       " 'потом',\n",
       " 'себя',\n",
       " 'ничего',\n",
       " 'ей',\n",
       " 'может',\n",
       " 'они',\n",
       " 'тут',\n",
       " 'где',\n",
       " 'есть',\n",
       " 'надо',\n",
       " 'ней',\n",
       " 'для',\n",
       " 'мы',\n",
       " 'тебя',\n",
       " 'их',\n",
       " 'чем',\n",
       " 'была',\n",
       " 'сам',\n",
       " 'чтоб',\n",
       " 'без',\n",
       " 'будто',\n",
       " 'чего',\n",
       " 'раз',\n",
       " 'тоже',\n",
       " 'себе',\n",
       " 'под',\n",
       " 'будет',\n",
       " 'ж',\n",
       " 'тогда',\n",
       " 'кто',\n",
       " 'этот',\n",
       " 'того',\n",
       " 'потому',\n",
       " 'этого',\n",
       " 'какой',\n",
       " 'совсем',\n",
       " 'ним',\n",
       " 'здесь',\n",
       " 'этом',\n",
       " 'один',\n",
       " 'почти',\n",
       " 'мой',\n",
       " 'тем',\n",
       " 'чтобы',\n",
       " 'нее',\n",
       " 'сейчас',\n",
       " 'были',\n",
       " 'куда',\n",
       " 'зачем',\n",
       " 'всех',\n",
       " 'никогда',\n",
       " 'можно',\n",
       " 'при',\n",
       " 'наконец',\n",
       " 'два',\n",
       " 'об',\n",
       " 'другой',\n",
       " 'хоть',\n",
       " 'после',\n",
       " 'над',\n",
       " 'больше',\n",
       " 'тот',\n",
       " 'через',\n",
       " 'эти',\n",
       " 'нас',\n",
       " 'про',\n",
       " 'всего',\n",
       " 'них',\n",
       " 'какая',\n",
       " 'много',\n",
       " 'разве',\n",
       " 'три',\n",
       " 'эту',\n",
       " 'моя',\n",
       " 'впрочем',\n",
       " 'хорошо',\n",
       " 'свою',\n",
       " 'этой',\n",
       " 'перед',\n",
       " 'иногда',\n",
       " 'лучше',\n",
       " 'чуть',\n",
       " 'том',\n",
       " 'нельзя',\n",
       " 'такой',\n",
       " 'им',\n",
       " 'более',\n",
       " 'всегда',\n",
       " 'конечно',\n",
       " 'всю',\n",
       " 'между']"
      ]
     },
     "execution_count": 16,
     "metadata": {},
     "output_type": "execute_result"
    }
   ],
   "source": [
    "russian_stopwords"
   ]
  },
  {
   "cell_type": "code",
   "execution_count": 17,
   "id": "ba0956bc",
   "metadata": {
    "id": "ba0956bc"
   },
   "outputs": [],
   "source": [
    "corpus = [\n",
    "    \"Принес я ее домой на ладони\",\n",
    "    \"Было это двенадцать лет назад\", \n",
    "    \"Месячный щенок-фокстерьер по имени Глаша\", \n",
    "    \"Расцветкой напоминает березовую чурочку\",\n",
    "    \"Нос как крошечная боксерская перчатка\"\n",
    "]"
   ]
  },
  {
   "cell_type": "code",
   "execution_count": 18,
   "id": "f84db0ed",
   "metadata": {
    "id": "f84db0ed",
    "outputId": "d3d83c9e-6e2d-45c3-b3f9-34a6be4a0e69"
   },
   "outputs": [
    {
     "name": "stdout",
     "output_type": "stream",
     "text": [
      "[['принес', 'домой', 'ладони'], ['это', 'двенадцать', 'лет', 'назад'], ['месячный', 'щенок-фокстерьер', 'имени', 'глаша'], ['расцветкой', 'напоминает', 'березовую', 'чурочку'], ['нос', 'крошечная', 'боксерская', 'перчатка']]\n"
     ]
    }
   ],
   "source": [
    "docs_no_sw = []\n",
    "sw_count = 0\n",
    "for sent in corpus:\n",
    "    sent_no_sw = []\n",
    "    for word in sent.split():\n",
    "        word = word.lower()\n",
    "        if word not in russian_stopwords:\n",
    "            sent_no_sw.append(word)\n",
    "        else:\n",
    "            sw_count += 1\n",
    "            \n",
    "    docs_no_sw.append(sent_no_sw)\n",
    "    \n",
    "print(docs_no_sw)"
   ]
  },
  {
   "cell_type": "code",
   "execution_count": 19,
   "id": "4a927f07",
   "metadata": {
    "id": "4a927f07",
    "outputId": "1f296950-aa1b-430e-e62e-6d6232409452"
   },
   "outputs": [
    {
     "name": "stdout",
     "output_type": "stream",
     "text": [
      "6\n"
     ]
    }
   ],
   "source": [
    "print(sw_count)"
   ]
  },
  {
   "cell_type": "code",
   "execution_count": 20,
   "id": "df12d21b",
   "metadata": {
    "id": "df12d21b",
    "outputId": "7a3e1592-905c-46ed-8838-4997d6200e79"
   },
   "outputs": [
    {
     "name": "stderr",
     "output_type": "stream",
     "text": [
      "C:\\Users\\User\\AppData\\Roaming\\Python\\Python311\\site-packages\\sklearn\\feature_extraction\\text.py:528: UserWarning: The parameter 'token_pattern' will not be used since 'tokenizer' is not None'\n",
      "  warnings.warn(\n"
     ]
    },
    {
     "data": {
      "text/html": [
       "<div>\n",
       "<style scoped>\n",
       "    .dataframe tbody tr th:only-of-type {\n",
       "        vertical-align: middle;\n",
       "    }\n",
       "\n",
       "    .dataframe tbody tr th {\n",
       "        vertical-align: top;\n",
       "    }\n",
       "\n",
       "    .dataframe thead th {\n",
       "        text-align: right;\n",
       "    }\n",
       "</style>\n",
       "<table border=\"1\" class=\"dataframe\">\n",
       "  <thead>\n",
       "    <tr style=\"text-align: right;\">\n",
       "      <th></th>\n",
       "      <th>березов</th>\n",
       "      <th>боксерск</th>\n",
       "      <th>глаш</th>\n",
       "      <th>двенадца</th>\n",
       "      <th>дом</th>\n",
       "      <th>имен</th>\n",
       "      <th>крошечн</th>\n",
       "      <th>ладон</th>\n",
       "      <th>лет</th>\n",
       "      <th>месячн</th>\n",
       "      <th>назад</th>\n",
       "      <th>напомина</th>\n",
       "      <th>нос</th>\n",
       "      <th>перчатк</th>\n",
       "      <th>принес</th>\n",
       "      <th>расцветк</th>\n",
       "      <th>чурочк</th>\n",
       "      <th>щенок-фокстерьер</th>\n",
       "      <th>эт</th>\n",
       "    </tr>\n",
       "  </thead>\n",
       "  <tbody>\n",
       "    <tr>\n",
       "      <th>0</th>\n",
       "      <td>0</td>\n",
       "      <td>0</td>\n",
       "      <td>0</td>\n",
       "      <td>0</td>\n",
       "      <td>1</td>\n",
       "      <td>0</td>\n",
       "      <td>0</td>\n",
       "      <td>1</td>\n",
       "      <td>0</td>\n",
       "      <td>0</td>\n",
       "      <td>0</td>\n",
       "      <td>0</td>\n",
       "      <td>0</td>\n",
       "      <td>0</td>\n",
       "      <td>1</td>\n",
       "      <td>0</td>\n",
       "      <td>0</td>\n",
       "      <td>0</td>\n",
       "      <td>0</td>\n",
       "    </tr>\n",
       "    <tr>\n",
       "      <th>1</th>\n",
       "      <td>0</td>\n",
       "      <td>0</td>\n",
       "      <td>0</td>\n",
       "      <td>1</td>\n",
       "      <td>0</td>\n",
       "      <td>0</td>\n",
       "      <td>0</td>\n",
       "      <td>0</td>\n",
       "      <td>1</td>\n",
       "      <td>0</td>\n",
       "      <td>1</td>\n",
       "      <td>0</td>\n",
       "      <td>0</td>\n",
       "      <td>0</td>\n",
       "      <td>0</td>\n",
       "      <td>0</td>\n",
       "      <td>0</td>\n",
       "      <td>0</td>\n",
       "      <td>1</td>\n",
       "    </tr>\n",
       "    <tr>\n",
       "      <th>2</th>\n",
       "      <td>0</td>\n",
       "      <td>0</td>\n",
       "      <td>1</td>\n",
       "      <td>0</td>\n",
       "      <td>0</td>\n",
       "      <td>1</td>\n",
       "      <td>0</td>\n",
       "      <td>0</td>\n",
       "      <td>0</td>\n",
       "      <td>1</td>\n",
       "      <td>0</td>\n",
       "      <td>0</td>\n",
       "      <td>0</td>\n",
       "      <td>0</td>\n",
       "      <td>0</td>\n",
       "      <td>0</td>\n",
       "      <td>0</td>\n",
       "      <td>1</td>\n",
       "      <td>0</td>\n",
       "    </tr>\n",
       "    <tr>\n",
       "      <th>3</th>\n",
       "      <td>1</td>\n",
       "      <td>0</td>\n",
       "      <td>0</td>\n",
       "      <td>0</td>\n",
       "      <td>0</td>\n",
       "      <td>0</td>\n",
       "      <td>0</td>\n",
       "      <td>0</td>\n",
       "      <td>0</td>\n",
       "      <td>0</td>\n",
       "      <td>0</td>\n",
       "      <td>1</td>\n",
       "      <td>0</td>\n",
       "      <td>0</td>\n",
       "      <td>0</td>\n",
       "      <td>1</td>\n",
       "      <td>1</td>\n",
       "      <td>0</td>\n",
       "      <td>0</td>\n",
       "    </tr>\n",
       "    <tr>\n",
       "      <th>4</th>\n",
       "      <td>0</td>\n",
       "      <td>1</td>\n",
       "      <td>0</td>\n",
       "      <td>0</td>\n",
       "      <td>0</td>\n",
       "      <td>0</td>\n",
       "      <td>1</td>\n",
       "      <td>0</td>\n",
       "      <td>0</td>\n",
       "      <td>0</td>\n",
       "      <td>0</td>\n",
       "      <td>0</td>\n",
       "      <td>1</td>\n",
       "      <td>1</td>\n",
       "      <td>0</td>\n",
       "      <td>0</td>\n",
       "      <td>0</td>\n",
       "      <td>0</td>\n",
       "      <td>0</td>\n",
       "    </tr>\n",
       "  </tbody>\n",
       "</table>\n",
       "</div>"
      ],
      "text/plain": [
       "   березов  боксерск  глаш  двенадца  дом  имен  крошечн  ладон  лет  месячн  \\\n",
       "0        0         0     0         0    1     0        0      1    0       0   \n",
       "1        0         0     0         1    0     0        0      0    1       0   \n",
       "2        0         0     1         0    0     1        0      0    0       1   \n",
       "3        1         0     0         0    0     0        0      0    0       0   \n",
       "4        0         1     0         0    0     0        1      0    0       0   \n",
       "\n",
       "   назад  напомина  нос  перчатк  принес  расцветк  чурочк  щенок-фокстерьер  \\\n",
       "0      0         0    0        0       1         0       0                 0   \n",
       "1      1         0    0        0       0         0       0                 0   \n",
       "2      0         0    0        0       0         0       0                 1   \n",
       "3      0         1    0        0       0         1       1                 0   \n",
       "4      0         0    1        1       0         0       0                 0   \n",
       "\n",
       "   эт  \n",
       "0   0  \n",
       "1   1  \n",
       "2   0  \n",
       "3   0  \n",
       "4   0  "
      ]
     },
     "execution_count": 20,
     "metadata": {},
     "output_type": "execute_result"
    }
   ],
   "source": [
    "import pandas as pd\n",
    "from sklearn.feature_extraction.text import CountVectorizer\n",
    "\n",
    "stemmer = SnowballStemmer('russian')\n",
    "russian_stopwords = stopwords.words('russian')\n",
    "\n",
    "def preprocess(text):\n",
    "    stemmed_words = []\n",
    "    for token in text.split():\n",
    "        token = token.lower()\n",
    "        if token not in russian_stopwords:\n",
    "            stemmed_words.append(stemmer.stem(token))\n",
    "            \n",
    "    return ' '.join(stemmed_words)\n",
    "\n",
    "count_vectorizer = CountVectorizer(\n",
    "    tokenizer=lambda x: x.split(),\n",
    "    preprocessor=preprocess\n",
    ")\n",
    "\n",
    "count_matrix = count_vectorizer.fit_transform(corpus)\n",
    "count_array = count_matrix.toarray()\n",
    "\n",
    "df = pd.DataFrame(\n",
    "    data=count_array,\n",
    "    columns=count_vectorizer.get_feature_names_out()\n",
    ")\n",
    "\n",
    "df.head()"
   ]
  },
  {
   "cell_type": "code",
   "execution_count": null,
   "id": "07108d21",
   "metadata": {
    "id": "07108d21"
   },
   "outputs": [],
   "source": []
  }
 ],
 "metadata": {
  "colab": {
   "provenance": []
  },
  "kernelspec": {
   "display_name": "Python 3 (ipykernel)",
   "language": "python",
   "name": "python3"
  },
  "language_info": {
   "codemirror_mode": {
    "name": "ipython",
    "version": 3
   },
   "file_extension": ".py",
   "mimetype": "text/x-python",
   "name": "python",
   "nbconvert_exporter": "python",
   "pygments_lexer": "ipython3",
   "version": "3.11.5"
  }
 },
 "nbformat": 4,
 "nbformat_minor": 5
}
