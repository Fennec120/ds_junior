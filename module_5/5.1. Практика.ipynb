{
 "cells": [
  {
   "cell_type": "markdown",
   "metadata": {
    "id": "47TV_9yv8xLv"
   },
   "source": [
    "# Практика. Анализ результатов линейной регрессии"
   ]
  },
  {
   "cell_type": "markdown",
   "metadata": {
    "id": "086gkcsC81Ci"
   },
   "source": [
    "## Цели практической работы\n",
    "\n",
    "Научиться строить модель линейной регрессии и производить отбор признаков."
   ]
  },
  {
   "cell_type": "markdown",
   "metadata": {
    "id": "J87KqvPh81FI"
   },
   "source": [
    "## Что входит в практическую работу\n",
    "\n",
    "- Загрузить данные и ознакомиться с ними.\n",
    "- Реализовать цикл отбора переменных.\n",
    "- Реализовать построение модели с помощью библиотеки Scikit-learn.\n",
    "- Получить качество модели с помощью MSE, MAE, R^2.\n",
    "- Сравнить полученные модели и сделать выводы."
   ]
  },
  {
   "cell_type": "markdown",
   "metadata": {
    "id": "qWVDfsH881Km"
   },
   "source": [
    "Задание не нужно сдавать на проверку. После его выполнения сверьтесь с ответами ниже."
   ]
  },
  {
   "cell_type": "markdown",
   "metadata": {
    "id": "4kf2Jvd5FlCV"
   },
   "source": [
    "Пусть у нас имеется некоторый набор данных `Salary_Data.csv` о заработной плате сотрудников одной специальности."
   ]
  },
  {
   "cell_type": "markdown",
   "metadata": {
    "id": "5XwITrrWFnFa"
   },
   "source": [
    "В этих данных:\n",
    "- Salary — заработная плата.\n",
    "- YearsExperience — опыт работы.\n",
    "- Floor — этаж, на котором работает сотрудник.\n",
    "- Type — тип работы: офлайн или онлайн."
   ]
  },
  {
   "cell_type": "markdown",
   "metadata": {
    "id": "1Y42YaIUK6XY"
   },
   "source": [
    "Постройте модель линейной регрессии зависимости Salary от остальных параметров. "
   ]
  },
  {
   "cell_type": "markdown",
   "metadata": {
    "id": "Oc75wA7gFnPi"
   },
   "source": [
    "Реализуйте построение модели линейной регрессии, используя только одну переменную, и посмотрите на качество модели. Сделайте так циклом по всем переменным. Далее, наоборот, реализуйте построение модели без участия каждой переменной по очереди.\n",
    "\n",
    "На каждом шаге проверьте качество модели с помощью MAE, MSE, R^2. Сделайте выводы о важности переменных."
   ]
  },
  {
   "cell_type": "markdown",
   "metadata": {
    "id": "-UHjeb1081OF"
   },
   "source": [
    "## Задача"
   ]
  },
  {
   "cell_type": "code",
   "execution_count": 1,
   "metadata": {
    "id": "61rJ1Jgi7I4d"
   },
   "outputs": [],
   "source": [
    "# подключить необходимые библиотеки\n",
    "import pandas as pd\n",
    "import matplotlib.pyplot as plt\n",
    "from sklearn.model_selection import train_test_split\n",
    "from sklearn.linear_model import LinearRegression\n",
    "from sklearn.metrics import mean_squared_error\n",
    "from sklearn.metrics import r2_score\n",
    "from sklearn.metrics import mean_absolute_error\n",
    "from sklearn.metrics import mean_squared_error\n",
    "# Ваш код здесь"
   ]
  },
  {
   "cell_type": "code",
   "execution_count": 2,
   "metadata": {
    "id": "APZhsDjgGX-H"
   },
   "outputs": [
    {
     "data": {
      "text/plain": [
       "(30, 4)"
      ]
     },
     "execution_count": 2,
     "metadata": {},
     "output_type": "execute_result"
    }
   ],
   "source": [
    "# считать данные\n",
    "df = pd.read_csv(\"5.1 Salary_Data.csv\")\n",
    "df.shape\n",
    "# Ваш код здесь"
   ]
  },
  {
   "cell_type": "code",
   "execution_count": 3,
   "metadata": {},
   "outputs": [],
   "source": [
    "train, test = train_test_split(df, train_size=0.7, random_state=42)\n"
   ]
  },
  {
   "cell_type": "code",
   "execution_count": 4,
   "metadata": {},
   "outputs": [],
   "source": [
    "train = train.sort_values('Salary')\n"
   ]
  },
  {
   "cell_type": "code",
   "execution_count": 5,
   "metadata": {
    "id": "DQ7q-vVhGYDP"
   },
   "outputs": [
    {
     "name": "stdout",
     "output_type": "stream",
     "text": [
      "YearsExperience\n"
     ]
    },
    {
     "ename": "NameError",
     "evalue": "name 'model' is not defined",
     "output_type": "error",
     "traceback": [
      "\u001b[1;31m---------------------------------------------------------------------------\u001b[0m",
      "\u001b[1;31mNameError\u001b[0m                                 Traceback (most recent call last)",
      "Cell \u001b[1;32mIn[5], line 9\u001b[0m\n\u001b[0;32m      7\u001b[0m     \u001b[38;5;28;01mcontinue\u001b[39;00m\n\u001b[0;32m      8\u001b[0m \u001b[38;5;28mprint\u001b[39m(column)\n\u001b[1;32m----> 9\u001b[0m \u001b[43mmodel\u001b[49m\u001b[38;5;241m.\u001b[39mfit(train[[column]], train[[\u001b[38;5;124m'\u001b[39m\u001b[38;5;124mSalary\u001b[39m\u001b[38;5;124m'\u001b[39m]])\n\u001b[0;32m     10\u001b[0m y_predict_train \u001b[38;5;241m=\u001b[39m model\u001b[38;5;241m.\u001b[39mpredict(train[[column]])\n\u001b[0;32m     11\u001b[0m y_predict_test \u001b[38;5;241m=\u001b[39m model\u001b[38;5;241m.\u001b[39mpredict(test[[column]])\n",
      "\u001b[1;31mNameError\u001b[0m: name 'model' is not defined"
     ]
    }
   ],
   "source": [
    "# обучить модель линейной регрессии циклом для каждой отдельной переменной и \n",
    "# проверить качество модели на обучающей и тестовой выборках с помощью MAE, MSE, R^2\n",
    "\n",
    "# Ваш код здесь\n",
    "for column in df.columns:\n",
    "    if column == 'Salary':\n",
    "        continue\n",
    "    print(column)\n",
    "    model.fit(train[[column]], train[['Salary']])\n",
    "    y_predict_train = model.predict(train[[column]])\n",
    "    y_predict_test = model.predict(test[[column]])\n",
    "    \n",
    "    \n",
    "    train_mse = mean_squared_error(train[['Salary']], y_predict_train)\n",
    "    test_mse = mean_squared_error(test[['Salary']], y_predict_test)\n",
    "    print(\"Train MSE: {}\".format(train_mse))\n",
    "    print(\"Test MSE: {}\".format(test_mse))\n",
    "\n",
    "    train_mae = mean_absolute_error(train[['Salary']], y_predict_train)\n",
    "    test_mae = mean_absolute_error(test[['Salary']], y_predict_test)\n",
    "    print(\"Train MAE: {}\".format(train_mae))\n",
    "    print(\"Test MAE: {}\".format(test_mae))\n",
    "\n",
    "    train_r2 = r2_score(train[['Salary']], y_predict_train)\n",
    "    test_r2 = r2_score(test[['Salary']], y_predict_test)\n",
    "    print(\"Train R2: {}\".format(train_r2))\n",
    "    print(\"Test R2: {}\".format(test_r2))\n",
    "    print('----------')\n",
    "    print('----------')\n"
   ]
  },
  {
   "cell_type": "code",
   "execution_count": null,
   "metadata": {
    "id": "cR1RnsHfGYFt"
   },
   "outputs": [],
   "source": [
    "# обучить модель линейной регрессии циклом при исключении по очереди каждой отдельной переменной и \n",
    "# проверить качество модели на обучающей и тестовой выборках с помощью MAE, MSE, R^2\n",
    "\n",
    "# Ваш код здесь\n",
    "# обучить модель линейной регрессии циклом для каждой отдельной переменной и \n",
    "# проверить качество модели на обучающей и тестовой выборках с помощью MAE, MSE, R^2\n",
    "\n",
    "# Ваш код здесь\n",
    "train2, test2 = train_test_split(df, train_size=0.7, random_state=42)\n",
    "\n",
    "\n",
    "for column in df.columns:\n",
    "    if column == 'Salary':\n",
    "        continue\n",
    "    print(column)\n",
    "    \n",
    "    train = train2.copy()\n",
    "    test = test2.copy()\n",
    "    \n",
    "    train = train2.drop(column, axis=1)\n",
    "    test = test2.drop(column, axis=1)\n",
    "    \n",
    "\n",
    "    \n",
    "    model.fit(train.drop('Salary', axis=1), train[['Salary']])\n",
    "    \n",
    "    y_predict_train = model.predict(train.drop('Salary', axis=1))\n",
    "    y_predict_test = model.predict(test.drop('Salary', axis=1))\n",
    "    \n",
    "    \n",
    "    train_mse = mean_squared_error(train[['Salary']], y_predict_train)\n",
    "    test_mse = mean_squared_error(test[['Salary']], y_predict_test)\n",
    "    print(\"Train MSE: {}\".format(train_mse))\n",
    "    print(\"Test MSE: {}\".format(test_mse))\n",
    "\n",
    "    train_mae = mean_absolute_error(train[['Salary']], y_predict_train)\n",
    "    test_mae = mean_absolute_error(test[['Salary']], y_predict_test)\n",
    "    print(\"Train MAE: {}\".format(train_mae))\n",
    "    print(\"Test MAE: {}\".format(test_mae))\n",
    "\n",
    "    train_r2 = r2_score(train[['Salary']], y_predict_train)\n",
    "    test_r2 = r2_score(test[['Salary']], y_predict_test)\n",
    "    print(\"Train R2: {}\".format(train_r2))\n",
    "    print(\"Test R2: {}\".format(test_r2))\n",
    "    print('----------')\n",
    "    print('----------')\n"
   ]
  },
  {
   "cell_type": "code",
   "execution_count": null,
   "metadata": {
    "id": "OL37-A6fGsPB"
   },
   "outputs": [],
   "source": [
    "# какие выводы можно сделать?"
   ]
  },
  {
   "cell_type": "markdown",
   "metadata": {
    "id": "4Xsw3MkCGwrc"
   },
   "source": [
    "|"
   ]
  },
  {
   "cell_type": "markdown",
   "metadata": {
    "id": "a64xWjIrGw4I"
   },
   "source": [
    "|"
   ]
  },
  {
   "cell_type": "markdown",
   "metadata": {
    "id": "nh1Z8SEWG0o9"
   },
   "source": [
    "## Ответы для самостоятельной проверки"
   ]
  },
  {
   "cell_type": "code",
   "execution_count": null,
   "metadata": {
    "id": "B8GeMTmKG6Xn"
   },
   "outputs": [],
   "source": [
    "# подключить библиотеки\n",
    "import pandas as pd\n",
    "from sklearn.linear_model import LinearRegression\n",
    "from sklearn.model_selection import train_test_split\n",
    "from sklearn.metrics import mean_squared_error\n",
    "from sklearn.metrics import mean_absolute_error\n",
    "from sklearn.metrics import r2_score"
   ]
  },
  {
   "cell_type": "code",
   "execution_count": null,
   "metadata": {
    "id": "gNQm1n1-HAOw"
   },
   "outputs": [],
   "source": [
    "# считать данные\n",
    "df = pd.read_csv('Salary_Data.csv')"
   ]
  },
  {
   "cell_type": "code",
   "execution_count": null,
   "metadata": {
    "colab": {
     "base_uri": "https://localhost:8080/",
     "height": 260
    },
    "executionInfo": {
     "elapsed": 10,
     "status": "ok",
     "timestamp": 1656919802110,
     "user": {
      "displayName": "Маргарита Широбокова",
      "userId": "15867443346324107010"
     },
     "user_tz": -240
    },
    "id": "ePFMvKeGHGWa",
    "outputId": "de901924-3572-41f7-9d93-f1b45004eb98"
   },
   "outputs": [],
   "source": [
    "df.head()"
   ]
  },
  {
   "cell_type": "code",
   "execution_count": null,
   "metadata": {
    "colab": {
     "base_uri": "https://localhost:8080/"
    },
    "executionInfo": {
     "elapsed": 7,
     "status": "ok",
     "timestamp": 1656920094902,
     "user": {
      "displayName": "Маргарита Широбокова",
      "userId": "15867443346324107010"
     },
     "user_tz": -240
    },
    "id": "zjWJQCyUHYdj",
    "outputId": "f561183e-2c78-4601-aa63-e5f7afa07822"
   },
   "outputs": [],
   "source": [
    "df.columns"
   ]
  },
  {
   "cell_type": "code",
   "execution_count": null,
   "metadata": {
    "id": "buElfo0iHjkh"
   },
   "outputs": [],
   "source": [
    "var = ['YearsExperience', 'Floor', 'Type']"
   ]
  },
  {
   "cell_type": "code",
   "execution_count": null,
   "metadata": {
    "colab": {
     "base_uri": "https://localhost:8080/"
    },
    "executionInfo": {
     "elapsed": 287,
     "status": "ok",
     "timestamp": 1656920244037,
     "user": {
      "displayName": "Маргарита Широбокова",
      "userId": "15867443346324107010"
     },
     "user_tz": -240
    },
    "id": "wPaARYS4HSKr",
    "outputId": "8fe7a7a8-ea0d-4faa-99df-d3a1c0c7f765"
   },
   "outputs": [],
   "source": [
    "# обучить модель линейной регрессии циклом для каждой отдельной переменной\n",
    "\n",
    "for i in var:\n",
    "  print('-'*10, i, '-'*10)\n",
    "  train_X = df[[i]]\n",
    "  train_y = df[['Salary']]\n",
    "\n",
    "  model = LinearRegression() \n",
    "  model.fit(train_X, train_y)\n",
    "\n",
    "  y_predict_train = model.predict(train_X)\n",
    "\n",
    "  train_mse = mean_squared_error(train_y, y_predict_train)\n",
    "  print(\"Train MSE: {}\".format(train_mse))\n",
    "\n",
    "  train_mae = mean_absolute_error(train_y, y_predict_train)\n",
    "  print(\"Train MAE: {}\".format(train_mae))\n",
    "\n",
    "  train_r2 = r2_score(train_y, y_predict_train)\n",
    "  print(\"Train R2: {}\".format(train_r2))\n",
    "  print()"
   ]
  },
  {
   "cell_type": "code",
   "execution_count": null,
   "metadata": {
    "colab": {
     "base_uri": "https://localhost:8080/"
    },
    "executionInfo": {
     "elapsed": 9,
     "status": "ok",
     "timestamp": 1656920462303,
     "user": {
      "displayName": "Маргарита Широбокова",
      "userId": "15867443346324107010"
     },
     "user_tz": -240
    },
    "id": "dxQD1vBpHJ0l",
    "outputId": "41f46f97-af4e-40c8-e3a6-ee64437ff73f"
   },
   "outputs": [],
   "source": [
    "# обучить модель линейной регрессии циклом при исключении по очереди каждой отдельной переменной\n",
    "\n",
    "for i in var:\n",
    "  var_new = var.copy()\n",
    "  var_new.remove(i)\n",
    "\n",
    "  print('-'*10, ' + '.join(var_new), '-'*10)\n",
    "  train_X = df[var_new]\n",
    "  train_y = df[['Salary']]\n",
    "\n",
    "  model = LinearRegression() \n",
    "  model.fit(train_X, train_y)\n",
    "\n",
    "  y_predict_train = model.predict(train_X)\n",
    "\n",
    "  train_mse = mean_squared_error(train_y, y_predict_train)\n",
    "  print(\"Train MSE: {}\".format(train_mse))\n",
    "\n",
    "  train_mae = mean_absolute_error(train_y, y_predict_train)\n",
    "  print(\"Train MAE: {}\".format(train_mae))\n",
    "\n",
    "  train_r2 = r2_score(train_y, y_predict_train)\n",
    "  print(\"Train R2: {}\".format(train_r2))\n",
    "  print()"
   ]
  },
  {
   "cell_type": "markdown",
   "metadata": {
    "id": "dkhk8fhFKALj"
   },
   "source": [
    "Данные показывают, что наилучшая модель получается при использовании переменной YearsExperience, при этом добавление переменных Type или Floor вдобавок к переменной YearsExperience не даёт значительного прироста к качеству модели. Таким образом, важная переменная — YearsExperience, а переменные Type и Floor не важные."
   ]
  },
  {
   "cell_type": "code",
   "execution_count": null,
   "metadata": {},
   "outputs": [],
   "source": []
  },
  {
   "cell_type": "code",
   "execution_count": null,
   "metadata": {},
   "outputs": [],
   "source": []
  },
  {
   "cell_type": "code",
   "execution_count": null,
   "metadata": {},
   "outputs": [],
   "source": []
  },
  {
   "cell_type": "code",
   "execution_count": null,
   "metadata": {},
   "outputs": [],
   "source": []
  },
  {
   "cell_type": "code",
   "execution_count": null,
   "metadata": {},
   "outputs": [],
   "source": []
  },
  {
   "cell_type": "code",
   "execution_count": null,
   "metadata": {},
   "outputs": [],
   "source": []
  },
  {
   "cell_type": "code",
   "execution_count": null,
   "metadata": {},
   "outputs": [],
   "source": []
  },
  {
   "cell_type": "code",
   "execution_count": null,
   "metadata": {},
   "outputs": [],
   "source": []
  },
  {
   "cell_type": "code",
   "execution_count": null,
   "metadata": {},
   "outputs": [],
   "source": []
  },
  {
   "cell_type": "code",
   "execution_count": null,
   "metadata": {},
   "outputs": [],
   "source": []
  },
  {
   "cell_type": "code",
   "execution_count": null,
   "metadata": {},
   "outputs": [],
   "source": []
  },
  {
   "cell_type": "code",
   "execution_count": null,
   "metadata": {},
   "outputs": [],
   "source": []
  },
  {
   "cell_type": "code",
   "execution_count": null,
   "metadata": {},
   "outputs": [],
   "source": []
  },
  {
   "cell_type": "code",
   "execution_count": null,
   "metadata": {},
   "outputs": [],
   "source": []
  },
  {
   "cell_type": "code",
   "execution_count": null,
   "metadata": {},
   "outputs": [],
   "source": []
  },
  {
   "cell_type": "code",
   "execution_count": null,
   "metadata": {},
   "outputs": [],
   "source": []
  },
  {
   "cell_type": "code",
   "execution_count": null,
   "metadata": {},
   "outputs": [],
   "source": []
  },
  {
   "cell_type": "code",
   "execution_count": null,
   "metadata": {},
   "outputs": [],
   "source": []
  },
  {
   "cell_type": "code",
   "execution_count": null,
   "metadata": {},
   "outputs": [],
   "source": []
  }
 ],
 "metadata": {
  "colab": {
   "collapsed_sections": [],
   "name": "5.1. Практика.ipynb",
   "provenance": []
  },
  "kernelspec": {
   "display_name": "Python 3 (ipykernel)",
   "language": "python",
   "name": "python3"
  },
  "language_info": {
   "codemirror_mode": {
    "name": "ipython",
    "version": 3
   },
   "file_extension": ".py",
   "mimetype": "text/x-python",
   "name": "python",
   "nbconvert_exporter": "python",
   "pygments_lexer": "ipython3",
   "version": "3.10.9"
  }
 },
 "nbformat": 4,
 "nbformat_minor": 1
}
