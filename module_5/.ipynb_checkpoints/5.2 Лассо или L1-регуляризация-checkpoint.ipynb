{
 "cells": [
  {
   "cell_type": "markdown",
   "metadata": {
    "id": "AV2wSDkkNGhD"
   },
   "source": [
    "## Линейная регрессия"
   ]
  },
  {
   "cell_type": "code",
   "execution_count": 1,
   "metadata": {
    "id": "BKIUvvmWGAMT"
   },
   "outputs": [],
   "source": [
    "# импорт библиотек\n",
    "from sklearn.linear_model import LinearRegression\n",
    "from sklearn.model_selection import train_test_split\n",
    "import pandas as pd\n",
    "import matplotlib.pyplot as plt"
   ]
  },
  {
   "cell_type": "markdown",
   "metadata": {
    "id": "KgFMgKS9ePkM"
   },
   "source": [
    "Загрузим данные о заработной плате сотрудников одной специальности."
   ]
  },
  {
   "cell_type": "code",
   "execution_count": 2,
   "metadata": {
    "id": "McbhMDA8eTK2"
   },
   "outputs": [],
   "source": [
    "df = pd.read_csv('5.2 Salary_Data.csv')"
   ]
  },
  {
   "cell_type": "markdown",
   "metadata": {
    "id": "uf1_x0i7NWo_"
   },
   "source": [
    "Посмотрим сами данные."
   ]
  },
  {
   "cell_type": "code",
   "execution_count": 3,
   "metadata": {
    "colab": {
     "base_uri": "https://localhost:8080/",
     "height": 204
    },
    "executionInfo": {
     "elapsed": 316,
     "status": "ok",
     "timestamp": 1656941447552,
     "user": {
      "displayName": "Маргарита Широбокова",
      "userId": "15867443346324107010"
     },
     "user_tz": -240
    },
    "id": "t5gTeY1ENUJV",
    "outputId": "9445038b-6749-4c86-e225-d4de4aa4a993"
   },
   "outputs": [
    {
     "data": {
      "text/html": [
       "<div>\n",
       "<style scoped>\n",
       "    .dataframe tbody tr th:only-of-type {\n",
       "        vertical-align: middle;\n",
       "    }\n",
       "\n",
       "    .dataframe tbody tr th {\n",
       "        vertical-align: top;\n",
       "    }\n",
       "\n",
       "    .dataframe thead th {\n",
       "        text-align: right;\n",
       "    }\n",
       "</style>\n",
       "<table border=\"1\" class=\"dataframe\">\n",
       "  <thead>\n",
       "    <tr style=\"text-align: right;\">\n",
       "      <th></th>\n",
       "      <th>YearsExperience</th>\n",
       "      <th>Floor</th>\n",
       "      <th>Type</th>\n",
       "      <th>Salary</th>\n",
       "    </tr>\n",
       "  </thead>\n",
       "  <tbody>\n",
       "    <tr>\n",
       "      <th>0</th>\n",
       "      <td>1.1</td>\n",
       "      <td>18</td>\n",
       "      <td>1</td>\n",
       "      <td>39343.0</td>\n",
       "    </tr>\n",
       "    <tr>\n",
       "      <th>1</th>\n",
       "      <td>1.3</td>\n",
       "      <td>17</td>\n",
       "      <td>1</td>\n",
       "      <td>46205.0</td>\n",
       "    </tr>\n",
       "    <tr>\n",
       "      <th>2</th>\n",
       "      <td>1.5</td>\n",
       "      <td>10</td>\n",
       "      <td>0</td>\n",
       "      <td>37731.0</td>\n",
       "    </tr>\n",
       "    <tr>\n",
       "      <th>3</th>\n",
       "      <td>2.0</td>\n",
       "      <td>13</td>\n",
       "      <td>0</td>\n",
       "      <td>73525.0</td>\n",
       "    </tr>\n",
       "    <tr>\n",
       "      <th>4</th>\n",
       "      <td>2.2</td>\n",
       "      <td>1</td>\n",
       "      <td>0</td>\n",
       "      <td>39891.0</td>\n",
       "    </tr>\n",
       "  </tbody>\n",
       "</table>\n",
       "</div>"
      ],
      "text/plain": [
       "   YearsExperience  Floor  Type   Salary\n",
       "0              1.1     18     1  39343.0\n",
       "1              1.3     17     1  46205.0\n",
       "2              1.5     10     0  37731.0\n",
       "3              2.0     13     0  73525.0\n",
       "4              2.2      1     0  39891.0"
      ]
     },
     "execution_count": 3,
     "metadata": {},
     "output_type": "execute_result"
    }
   ],
   "source": [
    "df.head()"
   ]
  },
  {
   "cell_type": "markdown",
   "metadata": {
    "id": "Xa2WwGnneugE"
   },
   "source": [
    "В данных:\n",
    "- Salary — заработная плата.\n",
    "- YearsExperience — опыт работы.\n",
    "- Floor — этаж, на котором работает сотрудник.\n",
    "- Type — тип работы: офлайн или онлайн."
   ]
  },
  {
   "cell_type": "markdown",
   "metadata": {
    "id": "hCQUU8gaMcR6"
   },
   "source": [
    "Скорее всего, зарплата зависит от опыта работы сотрудников. Проверим это с помощью графиков."
   ]
  },
  {
   "cell_type": "code",
   "execution_count": 4,
   "metadata": {
    "colab": {
     "base_uri": "https://localhost:8080/",
     "height": 295
    },
    "executionInfo": {
     "elapsed": 456,
     "status": "ok",
     "timestamp": 1656838464892,
     "user": {
      "displayName": "Маргарита Широбокова",
      "userId": "15867443346324107010"
     },
     "user_tz": -240
    },
    "id": "Myn7T6ccfDH5",
    "outputId": "1a60ac2e-925e-4cc3-ccf1-94c56c20dd8b"
   },
   "outputs": [
    {
     "data": {
      "text/plain": [
       "<matplotlib.collections.PathCollection at 0x1aaa86b1b10>"
      ]
     },
     "execution_count": 4,
     "metadata": {},
     "output_type": "execute_result"
    },
    {
     "data": {
      "image/png": "[encoded data removed]",
      "text/plain": [
       "<Figure size 640x480 with 1 Axes>"
      ]
     },
     "metadata": {},
     "output_type": "display_data"
    }
   ],
   "source": [
    "plt.xlabel(\"YearsExperience\")\n",
    "plt.ylabel(\"Salary\")\n",
    "plt.scatter(x=df['YearsExperience'],y=df['Salary'])"
   ]
  },
  {
   "cell_type": "markdown",
   "metadata": {
    "id": "wm1kjYmGM0pa"
   },
   "source": [
    "Наблюдается линейная зависимость, однако в данных присутствуют выбросы."
   ]
  },
  {
   "cell_type": "markdown",
   "metadata": {
    "id": "WLWBDbd_fDyG"
   },
   "source": [
    "Очевидно, что зарплата не должна зависеть от этажа, на котором работает сотрудник. Проверим это с помощью графиков."
   ]
  },
  {
   "cell_type": "code",
   "execution_count": 5,
   "metadata": {
    "colab": {
     "base_uri": "https://localhost:8080/",
     "height": 295
    },
    "executionInfo": {
     "elapsed": 434,
     "status": "ok",
     "timestamp": 1656838465319,
     "user": {
      "displayName": "Маргарита Широбокова",
      "userId": "15867443346324107010"
     },
     "user_tz": -240
    },
    "id": "qv63Hpm6fDQR",
    "outputId": "360eb0a1-4cb6-4eec-e909-c0cb9ea5887e"
   },
   "outputs": [
    {
     "data": {
      "text/plain": [
       "<matplotlib.collections.PathCollection at 0x1aaa891d3f0>"
      ]
     },
     "execution_count": 5,
     "metadata": {},
     "output_type": "execute_result"
    },
    {
     "data": {
      "image/png": "[encoded data removed]",
      "text/plain": [
       "<Figure size 640x480 with 1 Axes>"
      ]
     },
     "metadata": {},
     "output_type": "display_data"
    }
   ],
   "source": [
    "plt.xlabel(\"Floor\")\n",
    "plt.ylabel(\"Salary\")\n",
    "plt.scatter(x=df['Floor'],y=df['Salary'])"
   ]
  },
  {
   "cell_type": "markdown",
   "metadata": {
    "id": "mBCaTH1kM73R"
   },
   "source": [
    "Зависимости не наблюдается."
   ]
  },
  {
   "cell_type": "markdown",
   "metadata": {
    "id": "GVztgN2rMm7l"
   },
   "source": [
    "И, скорее всего, зарплата не зависит от типа работы."
   ]
  },
  {
   "cell_type": "code",
   "execution_count": 6,
   "metadata": {
    "colab": {
     "base_uri": "https://localhost:8080/",
     "height": 295
    },
    "executionInfo": {
     "elapsed": 336,
     "status": "ok",
     "timestamp": 1656838465645,
     "user": {
      "displayName": "Маргарита Широбокова",
      "userId": "15867443346324107010"
     },
     "user_tz": -240
    },
    "id": "8NCf4sZzLtjA",
    "outputId": "b87e1344-f8ec-4d81-b7c0-d6ee0b59f69a"
   },
   "outputs": [
    {
     "data": {
      "text/plain": [
       "<matplotlib.collections.PathCollection at 0x1aaa9953040>"
      ]
     },
     "execution_count": 6,
     "metadata": {},
     "output_type": "execute_result"
    },
    {
     "data": {
      "image/png": "[encoded data removed]",
      "text/plain": [
       "<Figure size 640x480 with 1 Axes>"
      ]
     },
     "metadata": {},
     "output_type": "display_data"
    }
   ],
   "source": [
    "plt.xlabel(\"Type\")\n",
    "plt.ylabel(\"Salary\")\n",
    "plt.scatter(x=df['Type'],y=df['Salary'])"
   ]
  },
  {
   "cell_type": "markdown",
   "metadata": {
    "id": "i5Z_M-fCM-e4"
   },
   "source": [
    "Зависимости также не наблюдается."
   ]
  },
  {
   "cell_type": "markdown",
   "metadata": {
    "id": "7UHUEKZDfYcD"
   },
   "source": [
    "Действительно, зарплата явно зависит от опыта работы сотрудника и не зависит от этажа, на котором он работает, и типа работы."
   ]
  },
  {
   "cell_type": "markdown",
   "metadata": {
    "id": "uDqcVwBlekw8"
   },
   "source": [
    "Попробуем построить модель линейной регрессии зависимости Salary от остальных параметров. И дополнительно добавим ещё признаков на незначимых переменных."
   ]
  },
  {
   "cell_type": "code",
   "execution_count": 7,
   "metadata": {
    "id": "aoZpHRHjHtN7"
   },
   "outputs": [],
   "source": [
    "df['x'] = df['Floor'] ** 2"
   ]
  },
  {
   "cell_type": "code",
   "execution_count": 8,
   "metadata": {
    "id": "o4aooT8KNR1Q"
   },
   "outputs": [],
   "source": [
    "train_df, test_df  = train_test_split(df, test_size=0.3, random_state=3)"
   ]
  },
  {
   "cell_type": "code",
   "execution_count": 9,
   "metadata": {
    "id": "Y1MxTKNEQRp8"
   },
   "outputs": [],
   "source": [
    "train_df = train_df.sort_values(by='YearsExperience', ascending=False)\n",
    "train_X = train_df[['YearsExperience', 'Floor', 'Type', 'x']]\n",
    "train_y = train_df[['Salary']]\n",
    "\n",
    "test_df = test_df.sort_values(by='YearsExperience', ascending=False)\n",
    "test_X = test_df[['YearsExperience', 'Floor', 'Type', 'x']]\n",
    "test_y = test_df[['Salary']]"
   ]
  },
  {
   "cell_type": "markdown",
   "metadata": {
    "id": "n8YiUjiNNiUf"
   },
   "source": [
    "Построим простую модель регресии на всех данных и оценим её качество."
   ]
  },
  {
   "cell_type": "code",
   "execution_count": 10,
   "metadata": {
    "colab": {
     "base_uri": "https://localhost:8080/"
    },
    "executionInfo": {
     "elapsed": 21,
     "status": "ok",
     "timestamp": 1656838465646,
     "user": {
      "displayName": "Маргарита Широбокова",
      "userId": "15867443346324107010"
     },
     "user_tz": -240
    },
    "id": "KhrEHu9dNM4X",
    "outputId": "50bad4b8-4e36-4767-e490-48a6be7f5ba6"
   },
   "outputs": [
    {
     "data": {
      "text/html": [
       "<style>#sk-container-id-1 {color: black;background-color: white;}#sk-container-id-1 pre{padding: 0;}#sk-container-id-1 div.sk-toggleable {background-color: white;}#sk-container-id-1 label.sk-toggleable__label {cursor: pointer;display: block;width: 100%;margin-bottom: 0;padding: 0.3em;box-sizing: border-box;text-align: center;}#sk-container-id-1 label.sk-toggleable__label-arrow:before {content: \"▸\";float: left;margin-right: 0.25em;color: #696969;}#sk-container-id-1 label.sk-toggleable__label-arrow:hover:before {color: black;}#sk-container-id-1 div.sk-estimator:hover label.sk-toggleable__label-arrow:before {color: black;}#sk-container-id-1 div.sk-toggleable__content {max-height: 0;max-width: 0;overflow: hidden;text-align: left;background-color: #f0f8ff;}#sk-container-id-1 div.sk-toggleable__content pre {margin: 0.2em;color: black;border-radius: 0.25em;background-color: #f0f8ff;}#sk-container-id-1 input.sk-toggleable__control:checked~div.sk-toggleable__content {max-height: 200px;max-width: 100%;overflow: auto;}#sk-container-id-1 input.sk-toggleable__control:checked~label.sk-toggleable__label-arrow:before {content: \"▾\";}#sk-container-id-1 div.sk-estimator input.sk-toggleable__control:checked~label.sk-toggleable__label {background-color: #d4ebff;}#sk-container-id-1 div.sk-label input.sk-toggleable__control:checked~label.sk-toggleable__label {background-color: #d4ebff;}#sk-container-id-1 input.sk-hidden--visually {border: 0;clip: rect(1px 1px 1px 1px);clip: rect(1px, 1px, 1px, 1px);height: 1px;margin: -1px;overflow: hidden;padding: 0;position: absolute;width: 1px;}#sk-container-id-1 div.sk-estimator {font-family: monospace;background-color: #f0f8ff;border: 1px dotted black;border-radius: 0.25em;box-sizing: border-box;margin-bottom: 0.5em;}#sk-container-id-1 div.sk-estimator:hover {background-color: #d4ebff;}#sk-container-id-1 div.sk-parallel-item::after {content: \"\";width: 100%;border-bottom: 1px solid gray;flex-grow: 1;}#sk-container-id-1 div.sk-label:hover label.sk-toggleable__label {background-color: #d4ebff;}#sk-container-id-1 div.sk-serial::before {content: \"\";position: absolute;border-left: 1px solid gray;box-sizing: border-box;top: 0;bottom: 0;left: 50%;z-index: 0;}#sk-container-id-1 div.sk-serial {display: flex;flex-direction: column;align-items: center;background-color: white;padding-right: 0.2em;padding-left: 0.2em;position: relative;}#sk-container-id-1 div.sk-item {position: relative;z-index: 1;}#sk-container-id-1 div.sk-parallel {display: flex;align-items: stretch;justify-content: center;background-color: white;position: relative;}#sk-container-id-1 div.sk-item::before, #sk-container-id-1 div.sk-parallel-item::before {content: \"\";position: absolute;border-left: 1px solid gray;box-sizing: border-box;top: 0;bottom: 0;left: 50%;z-index: -1;}#sk-container-id-1 div.sk-parallel-item {display: flex;flex-direction: column;z-index: 1;position: relative;background-color: white;}#sk-container-id-1 div.sk-parallel-item:first-child::after {align-self: flex-end;width: 50%;}#sk-container-id-1 div.sk-parallel-item:last-child::after {align-self: flex-start;width: 50%;}#sk-container-id-1 div.sk-parallel-item:only-child::after {width: 0;}#sk-container-id-1 div.sk-dashed-wrapped {border: 1px dashed gray;margin: 0 0.4em 0.5em 0.4em;box-sizing: border-box;padding-bottom: 0.4em;background-color: white;}#sk-container-id-1 div.sk-label label {font-family: monospace;font-weight: bold;display: inline-block;line-height: 1.2em;}#sk-container-id-1 div.sk-label-container {text-align: center;}#sk-container-id-1 div.sk-container {/* jupyter's `normalize.less` sets `[hidden] { display: none; }` but bootstrap.min.css set `[hidden] { display: none !important; }` so we also need the `!important` here to be able to override the default hidden behavior on the sphinx rendered scikit-learn.org. See: https://github.com/scikit-learn/scikit-learn/issues/21755 */display: inline-block !important;position: relative;}#sk-container-id-1 div.sk-text-repr-fallback {display: none;}</style><div id=\"sk-container-id-1\" class=\"sk-top-container\"><div class=\"sk-text-repr-fallback\"><pre>LinearRegression()</pre><b>In a Jupyter environment, please rerun this cell to show the HTML representation or trust the notebook. <br />On GitHub, the HTML representation is unable to render, please try loading this page with nbviewer.org.</b></div><div class=\"sk-container\" hidden><div class=\"sk-item\"><div class=\"sk-estimator sk-toggleable\"><input class=\"sk-toggleable__control sk-hidden--visually\" id=\"sk-estimator-id-1\" type=\"checkbox\" checked><label for=\"sk-estimator-id-1\" class=\"sk-toggleable__label sk-toggleable__label-arrow\">LinearRegression</label><div class=\"sk-toggleable__content\"><pre>LinearRegression()</pre></div></div></div></div></div>"
      ],
      "text/plain": [
       "LinearRegression()"
      ]
     },
     "execution_count": 10,
     "metadata": {},
     "output_type": "execute_result"
    }
   ],
   "source": [
    "linear_regression = LinearRegression() \n",
    "linear_regression.fit(train_X, train_y)"
   ]
  },
  {
   "cell_type": "code",
   "execution_count": 11,
   "metadata": {
    "colab": {
     "base_uri": "https://localhost:8080/"
    },
    "executionInfo": {
     "elapsed": 14,
     "status": "ok",
     "timestamp": 1656838465646,
     "user": {
      "displayName": "Маргарита Широбокова",
      "userId": "15867443346324107010"
     },
     "user_tz": -240
    },
    "id": "vPTIMs29NQqk",
    "outputId": "6fa8334b-5e02-4a3b-d38a-59dcd6817174"
   },
   "outputs": [
    {
     "name": "stdout",
     "output_type": "stream",
     "text": [
      "0.5880177111217567\n",
      "0.26143206957081666\n"
     ]
    }
   ],
   "source": [
    "# вывод точности предсказания\n",
    "print(linear_regression.score(train_X, train_y))\n",
    "print(linear_regression.score(test_X, test_y))"
   ]
  },
  {
   "cell_type": "code",
   "execution_count": 12,
   "metadata": {},
   "outputs": [
    {
     "data": {
      "text/plain": [
       "array([[6698.54772188, 6284.3315403 , 6926.78221863, -328.8162341 ]])"
      ]
     },
     "execution_count": 12,
     "metadata": {},
     "output_type": "execute_result"
    }
   ],
   "source": [
    "linear_regression.coef_"
   ]
  },
  {
   "cell_type": "code",
   "execution_count": 17,
   "metadata": {},
   "outputs": [
    {
     "data": {
      "text/plain": [
       "[6698.547721881238, 6284.331540304577, 6926.782218631149, -328.8162340973977]"
      ]
     },
     "execution_count": 17,
     "metadata": {},
     "output_type": "execute_result"
    }
   ],
   "source": [
    "coef = list(linear_regression.coef_[0])\n",
    "coef"
   ]
  },
  {
   "cell_type": "code",
   "execution_count": 18,
   "metadata": {
    "colab": {
     "base_uri": "https://localhost:8080/"
    },
    "executionInfo": {
     "elapsed": 10,
     "status": "ok",
     "timestamp": 1656838465646,
     "user": {
      "displayName": "Маргарита Широбокова",
      "userId": "15867443346324107010"
     },
     "user_tz": -240
    },
    "id": "XFGJhRFjfq3y",
    "outputId": "ab2a43ae-7a30-4b86-9e83-7a8044adb014"
   },
   "outputs": [
    {
     "name": "stdout",
     "output_type": "stream",
     "text": [
      "w_0: [20548.76734613]\n",
      "w_1: 6698.547721881238 YearsExperience\n",
      "w_2: 6284.331540304577 Floor\n",
      "w_3: 6926.782218631149 Type\n",
      "w_4: -328.8162340973977 x\n"
     ]
    }
   ],
   "source": [
    "# коэффициенты модели\n",
    "print('w_0:', linear_regression.intercept_)\n",
    "coef = list(linear_regression.coef_[0])\n",
    "for i in range(len(coef)):\n",
    "    print(f'w_{i+1}:', coef[i], train_X.columns[i])"
   ]
  },
  {
   "cell_type": "markdown",
   "metadata": {
    "id": "E70XckSaf5Df"
   },
   "source": [
    "Несмотря на то, что этаж никак не влияет на целевую функцию, эта переменная присутствует в модели с коэффициентом 6698, а квадрат этой переменной — с отрицательным знаком. Что явно вносит путаницу в понимание модели.\n",
    "Более того, качество модели на тестовой выборке сильно ниже, чем на обучающей."
   ]
  },
  {
   "cell_type": "markdown",
   "metadata": {
    "id": "eAE4CNsEPJ4X"
   },
   "source": [
    "Посмотрим на предсказания модели."
   ]
  },
  {
   "cell_type": "code",
   "execution_count": 19,
   "metadata": {
    "colab": {
     "base_uri": "https://localhost:8080/",
     "height": 278
    },
    "executionInfo": {
     "elapsed": 673,
     "status": "ok",
     "timestamp": 1656838466314,
     "user": {
      "displayName": "Маргарита Широбокова",
      "userId": "15867443346324107010"
     },
     "user_tz": -240
    },
    "id": "isFnBDyzPGkf",
    "outputId": "08642ef8-0cf9-4057-a0ae-a83f084cce5e"
   },
   "outputs": [
    {
     "data": {
      "image/png": "[encoded data removed]",
      "text/plain": [
       "<Figure size 640x480 with 1 Axes>"
      ]
     },
     "metadata": {},
     "output_type": "display_data"
    }
   ],
   "source": [
    "y_predict_train = linear_regression.predict(train_X)\n",
    "\n",
    "plt.scatter(train_X['YearsExperience'], train_y, s=10, c='b')\n",
    "plt.scatter(test_X['YearsExperience'], test_y, s=10, c='r')\n",
    "plt.plot(train_X['YearsExperience'], y_predict_train, c='g')\n",
    "plt.xlabel('YearsExperience')\n",
    "plt.ylabel('Salary')\n",
    "plt.show()"
   ]
  },
  {
   "cell_type": "markdown",
   "metadata": {
    "id": "Wdqvl5HYgG40"
   },
   "source": [
    "Воспользуемся регуляризацией."
   ]
  },
  {
   "cell_type": "markdown",
   "metadata": {
    "id": "88KMTE23F4OW"
   },
   "source": [
    "## Lasso"
   ]
  },
  {
   "cell_type": "markdown",
   "metadata": {
    "id": "9I-MBW-bODzD"
   },
   "source": [
    "Для обучения модели с L1-регуляризацией импортрируем `from sklearn.linear_model import Lasso`."
   ]
  },
  {
   "cell_type": "code",
   "execution_count": 20,
   "metadata": {
    "colab": {
     "base_uri": "https://localhost:8080/"
    },
    "executionInfo": {
     "elapsed": 17,
     "status": "ok",
     "timestamp": 1656838466315,
     "user": {
      "displayName": "Маргарита Широбокова",
      "userId": "15867443346324107010"
     },
     "user_tz": -240
    },
    "id": "e_WPE1ukFuED",
    "outputId": "6dcf5c41-e03a-44b5-b910-3b5afd0241ca"
   },
   "outputs": [
    {
     "data": {
      "text/html": [
       "<style>#sk-container-id-2 {color: black;background-color: white;}#sk-container-id-2 pre{padding: 0;}#sk-container-id-2 div.sk-toggleable {background-color: white;}#sk-container-id-2 label.sk-toggleable__label {cursor: pointer;display: block;width: 100%;margin-bottom: 0;padding: 0.3em;box-sizing: border-box;text-align: center;}#sk-container-id-2 label.sk-toggleable__label-arrow:before {content: \"▸\";float: left;margin-right: 0.25em;color: #696969;}#sk-container-id-2 label.sk-toggleable__label-arrow:hover:before {color: black;}#sk-container-id-2 div.sk-estimator:hover label.sk-toggleable__label-arrow:before {color: black;}#sk-container-id-2 div.sk-toggleable__content {max-height: 0;max-width: 0;overflow: hidden;text-align: left;background-color: #f0f8ff;}#sk-container-id-2 div.sk-toggleable__content pre {margin: 0.2em;color: black;border-radius: 0.25em;background-color: #f0f8ff;}#sk-container-id-2 input.sk-toggleable__control:checked~div.sk-toggleable__content {max-height: 200px;max-width: 100%;overflow: auto;}#sk-container-id-2 input.sk-toggleable__control:checked~label.sk-toggleable__label-arrow:before {content: \"▾\";}#sk-container-id-2 div.sk-estimator input.sk-toggleable__control:checked~label.sk-toggleable__label {background-color: #d4ebff;}#sk-container-id-2 div.sk-label input.sk-toggleable__control:checked~label.sk-toggleable__label {background-color: #d4ebff;}#sk-container-id-2 input.sk-hidden--visually {border: 0;clip: rect(1px 1px 1px 1px);clip: rect(1px, 1px, 1px, 1px);height: 1px;margin: -1px;overflow: hidden;padding: 0;position: absolute;width: 1px;}#sk-container-id-2 div.sk-estimator {font-family: monospace;background-color: #f0f8ff;border: 1px dotted black;border-radius: 0.25em;box-sizing: border-box;margin-bottom: 0.5em;}#sk-container-id-2 div.sk-estimator:hover {background-color: #d4ebff;}#sk-container-id-2 div.sk-parallel-item::after {content: \"\";width: 100%;border-bottom: 1px solid gray;flex-grow: 1;}#sk-container-id-2 div.sk-label:hover label.sk-toggleable__label {background-color: #d4ebff;}#sk-container-id-2 div.sk-serial::before {content: \"\";position: absolute;border-left: 1px solid gray;box-sizing: border-box;top: 0;bottom: 0;left: 50%;z-index: 0;}#sk-container-id-2 div.sk-serial {display: flex;flex-direction: column;align-items: center;background-color: white;padding-right: 0.2em;padding-left: 0.2em;position: relative;}#sk-container-id-2 div.sk-item {position: relative;z-index: 1;}#sk-container-id-2 div.sk-parallel {display: flex;align-items: stretch;justify-content: center;background-color: white;position: relative;}#sk-container-id-2 div.sk-item::before, #sk-container-id-2 div.sk-parallel-item::before {content: \"\";position: absolute;border-left: 1px solid gray;box-sizing: border-box;top: 0;bottom: 0;left: 50%;z-index: -1;}#sk-container-id-2 div.sk-parallel-item {display: flex;flex-direction: column;z-index: 1;position: relative;background-color: white;}#sk-container-id-2 div.sk-parallel-item:first-child::after {align-self: flex-end;width: 50%;}#sk-container-id-2 div.sk-parallel-item:last-child::after {align-self: flex-start;width: 50%;}#sk-container-id-2 div.sk-parallel-item:only-child::after {width: 0;}#sk-container-id-2 div.sk-dashed-wrapped {border: 1px dashed gray;margin: 0 0.4em 0.5em 0.4em;box-sizing: border-box;padding-bottom: 0.4em;background-color: white;}#sk-container-id-2 div.sk-label label {font-family: monospace;font-weight: bold;display: inline-block;line-height: 1.2em;}#sk-container-id-2 div.sk-label-container {text-align: center;}#sk-container-id-2 div.sk-container {/* jupyter's `normalize.less` sets `[hidden] { display: none; }` but bootstrap.min.css set `[hidden] { display: none !important; }` so we also need the `!important` here to be able to override the default hidden behavior on the sphinx rendered scikit-learn.org. See: https://github.com/scikit-learn/scikit-learn/issues/21755 */display: inline-block !important;position: relative;}#sk-container-id-2 div.sk-text-repr-fallback {display: none;}</style><div id=\"sk-container-id-2\" class=\"sk-top-container\"><div class=\"sk-text-repr-fallback\"><pre>Lasso(alpha=0.1)</pre><b>In a Jupyter environment, please rerun this cell to show the HTML representation or trust the notebook. <br />On GitHub, the HTML representation is unable to render, please try loading this page with nbviewer.org.</b></div><div class=\"sk-container\" hidden><div class=\"sk-item\"><div class=\"sk-estimator sk-toggleable\"><input class=\"sk-toggleable__control sk-hidden--visually\" id=\"sk-estimator-id-2\" type=\"checkbox\" checked><label for=\"sk-estimator-id-2\" class=\"sk-toggleable__label sk-toggleable__label-arrow\">Lasso</label><div class=\"sk-toggleable__content\"><pre>Lasso(alpha=0.1)</pre></div></div></div></div></div>"
      ],
      "text/plain": [
       "Lasso(alpha=0.1)"
      ]
     },
     "execution_count": 20,
     "metadata": {},
     "output_type": "execute_result"
    }
   ],
   "source": [
    "from sklearn.linear_model import Lasso\n",
    "\n",
    "lasso_regression = Lasso(alpha=0.1) # alpha — величина регуляризации\n",
    "\n",
    "# обучение\n",
    "lasso_regression.fit(train_X, train_y)"
   ]
  },
  {
   "cell_type": "code",
   "execution_count": 21,
   "metadata": {
    "colab": {
     "base_uri": "https://localhost:8080/"
    },
    "executionInfo": {
     "elapsed": 12,
     "status": "ok",
     "timestamp": 1656838466315,
     "user": {
      "displayName": "Маргарита Широбокова",
      "userId": "15867443346324107010"
     },
     "user_tz": -240
    },
    "id": "_YNgltiTOXky",
    "outputId": "5cac0401-1c53-4631-fbbb-961e388dd644"
   },
   "outputs": [
    {
     "name": "stdout",
     "output_type": "stream",
     "text": [
      "0.5880177110381943\n",
      "0.26144553489542444\n"
     ]
    }
   ],
   "source": [
    "# вывод точности предсказания\n",
    "print(lasso_regression.score(train_X, train_y))\n",
    "print(lasso_regression.score(test_X, test_y))"
   ]
  },
  {
   "cell_type": "code",
   "execution_count": 22,
   "metadata": {
    "colab": {
     "base_uri": "https://localhost:8080/"
    },
    "executionInfo": {
     "elapsed": 9,
     "status": "ok",
     "timestamp": 1656838466315,
     "user": {
      "displayName": "Маргарита Широбокова",
      "userId": "15867443346324107010"
     },
     "user_tz": -240
    },
    "id": "7tTsoBlsgSPU",
    "outputId": "31077a68-895a-4b4e-c9ab-6c98658e5fce"
   },
   "outputs": [
    {
     "name": "stdout",
     "output_type": "stream",
     "text": [
      "w_0: [20549.31008519]\n",
      "w_i: [6698.52177015 6284.24112134 6926.16258239 -328.81091035]\n"
     ]
    }
   ],
   "source": [
    "# коэффициенты модели\n",
    "print('w_0:', lasso_regression.intercept_)\n",
    "print('w_i:', lasso_regression.coef_)"
   ]
  },
  {
   "cell_type": "markdown",
   "metadata": {
    "id": "5q-QWL6uOdcz"
   },
   "source": [
    "Попробуем подобрать параметр регуляризации."
   ]
  },
  {
   "cell_type": "code",
   "execution_count": 23,
   "metadata": {
    "colab": {
     "base_uri": "https://localhost:8080/"
    },
    "executionInfo": {
     "elapsed": 281,
     "status": "ok",
     "timestamp": 1656838487606,
     "user": {
      "displayName": "Маргарита Широбокова",
      "userId": "15867443346324107010"
     },
     "user_tz": -240
    },
    "id": "cCDTUHb_LaYv",
    "outputId": "652c1db5-8bac-4b78-d5ce-b3f35ae9507d"
   },
   "outputs": [
    {
     "name": "stdout",
     "output_type": "stream",
     "text": [
      "----- lambda = 0.0001 -----\n",
      "0.5880177111217568\n",
      "0.2614320830353576\n",
      "----- lambda = 0.001 -----\n",
      "0.5880177111217483\n",
      "0.2614322042193741\n",
      "----- lambda = 0.01 -----\n",
      "0.588017711120921\n",
      "0.2614334160865118\n",
      "----- lambda = 0.1 -----\n",
      "0.5880177110381943\n",
      "0.26144553489542444\n",
      "----- lambda = 1 -----\n",
      "0.5880177027652842\n",
      "0.2615667110281219\n",
      "----- lambda = 10 -----\n",
      "0.5880168754579567\n",
      "0.2627770185184066\n",
      "----- lambda = 100 -----\n",
      "0.5879342374354077\n",
      "0.27472037687042716\n",
      "----- lambda = 1000 -----\n",
      "0.5796934531913988\n",
      "0.3791523421746933\n",
      "----- lambda = 10000 -----\n",
      "0.5060302010854066\n",
      "0.4282012086805883\n"
     ]
    }
   ],
   "source": [
    "coef = []\n",
    "for i in range(-4, 5):\n",
    "    alpha = 10**i\n",
    "    lasso_regression = Lasso(alpha=alpha) # alpha — величина регуляризации\n",
    "\n",
    "    # обучение\n",
    "    lasso_regression.fit(train_X, train_y)\n",
    "\n",
    "    coef.append(list(lasso_regression.coef_))\n",
    "\n",
    "    # вывод точности предсказания\n",
    "    print('-'*5, 'lambda =', alpha, '-'*5)\n",
    "    print(lasso_regression.score(train_X, train_y))\n",
    "    print(lasso_regression.score(test_X, test_y))"
   ]
  },
  {
   "cell_type": "code",
   "execution_count": 24,
   "metadata": {
    "colab": {
     "base_uri": "https://localhost:8080/",
     "height": 322
    },
    "executionInfo": {
     "elapsed": 284,
     "status": "ok",
     "timestamp": 1656838490256,
     "user": {
      "displayName": "Маргарита Широбокова",
      "userId": "15867443346324107010"
     },
     "user_tz": -240
    },
    "id": "W2lO6DXfgpb8",
    "outputId": "644c7351-6a9d-489c-9ed3-4122a24b1e73"
   },
   "outputs": [
    {
     "data": {
      "text/html": [
       "<div>\n",
       "<style scoped>\n",
       "    .dataframe tbody tr th:only-of-type {\n",
       "        vertical-align: middle;\n",
       "    }\n",
       "\n",
       "    .dataframe tbody tr th {\n",
       "        vertical-align: top;\n",
       "    }\n",
       "\n",
       "    .dataframe thead th {\n",
       "        text-align: right;\n",
       "    }\n",
       "</style>\n",
       "<table border=\"1\" class=\"dataframe\">\n",
       "  <thead>\n",
       "    <tr style=\"text-align: right;\">\n",
       "      <th></th>\n",
       "      <th>YearsExperience</th>\n",
       "      <th>Floor</th>\n",
       "      <th>Type</th>\n",
       "      <th>x</th>\n",
       "    </tr>\n",
       "  </thead>\n",
       "  <tbody>\n",
       "    <tr>\n",
       "      <th>0</th>\n",
       "      <td>6698.547696</td>\n",
       "      <td>6284.331450</td>\n",
       "      <td>6926.781599</td>\n",
       "      <td>-328.816229</td>\n",
       "    </tr>\n",
       "    <tr>\n",
       "      <th>1</th>\n",
       "      <td>6698.547462</td>\n",
       "      <td>6284.330636</td>\n",
       "      <td>6926.776022</td>\n",
       "      <td>-328.816181</td>\n",
       "    </tr>\n",
       "    <tr>\n",
       "      <th>2</th>\n",
       "      <td>6698.545127</td>\n",
       "      <td>6284.322499</td>\n",
       "      <td>6926.720255</td>\n",
       "      <td>-328.815702</td>\n",
       "    </tr>\n",
       "    <tr>\n",
       "      <th>3</th>\n",
       "      <td>6698.521770</td>\n",
       "      <td>6284.241121</td>\n",
       "      <td>6926.162582</td>\n",
       "      <td>-328.810910</td>\n",
       "    </tr>\n",
       "    <tr>\n",
       "      <th>4</th>\n",
       "      <td>6698.288210</td>\n",
       "      <td>6283.427289</td>\n",
       "      <td>6920.585815</td>\n",
       "      <td>-328.762994</td>\n",
       "    </tr>\n",
       "    <tr>\n",
       "      <th>5</th>\n",
       "      <td>6695.952637</td>\n",
       "      <td>6275.288584</td>\n",
       "      <td>6864.817882</td>\n",
       "      <td>-328.283808</td>\n",
       "    </tr>\n",
       "    <tr>\n",
       "      <th>6</th>\n",
       "      <td>6672.576323</td>\n",
       "      <td>6194.150782</td>\n",
       "      <td>6307.306095</td>\n",
       "      <td>-323.503855</td>\n",
       "    </tr>\n",
       "    <tr>\n",
       "      <th>7</th>\n",
       "      <td>6438.319469</td>\n",
       "      <td>5388.751357</td>\n",
       "      <td>736.206886</td>\n",
       "      <td>-275.989714</td>\n",
       "    </tr>\n",
       "    <tr>\n",
       "      <th>8</th>\n",
       "      <td>5960.493518</td>\n",
       "      <td>0.000000</td>\n",
       "      <td>0.000000</td>\n",
       "      <td>-24.824674</td>\n",
       "    </tr>\n",
       "  </tbody>\n",
       "</table>\n",
       "</div>"
      ],
      "text/plain": [
       "   YearsExperience        Floor         Type           x\n",
       "0      6698.547696  6284.331450  6926.781599 -328.816229\n",
       "1      6698.547462  6284.330636  6926.776022 -328.816181\n",
       "2      6698.545127  6284.322499  6926.720255 -328.815702\n",
       "3      6698.521770  6284.241121  6926.162582 -328.810910\n",
       "4      6698.288210  6283.427289  6920.585815 -328.762994\n",
       "5      6695.952637  6275.288584  6864.817882 -328.283808\n",
       "6      6672.576323  6194.150782  6307.306095 -323.503855\n",
       "7      6438.319469  5388.751357   736.206886 -275.989714\n",
       "8      5960.493518     0.000000     0.000000  -24.824674"
      ]
     },
     "execution_count": 24,
     "metadata": {},
     "output_type": "execute_result"
    }
   ],
   "source": [
    "coef = pd.DataFrame(coef, columns=train_X.columns)\n",
    "coef"
   ]
  },
  {
   "cell_type": "code",
   "execution_count": 25,
   "metadata": {
    "colab": {
     "base_uri": "https://localhost:8080/",
     "height": 281
    },
    "executionInfo": {
     "elapsed": 489,
     "status": "ok",
     "timestamp": 1656838492376,
     "user": {
      "displayName": "Маргарита Широбокова",
      "userId": "15867443346324107010"
     },
     "user_tz": -240
    },
    "id": "UlIzwd8dg0io",
    "outputId": "985f33ec-9c9b-4d0d-d8ef-df17079b753c"
   },
   "outputs": [
    {
     "data": {
      "text/plain": [
       "<Axes: >"
      ]
     },
     "execution_count": 25,
     "metadata": {},
     "output_type": "execute_result"
    },
    {
     "data": {
      "image/png": "[encoded data removed]",
      "text/plain": [
       "<Figure size 640x480 with 1 Axes>"
      ]
     },
     "metadata": {},
     "output_type": "display_data"
    }
   ],
   "source": [
    "coef.plot()"
   ]
  },
  {
   "cell_type": "markdown",
   "metadata": {
    "id": "IlZ0iu1DRVn6"
   },
   "source": [
    "Посмотрим, как изменились предсказания модели."
   ]
  },
  {
   "cell_type": "code",
   "execution_count": 26,
   "metadata": {
    "colab": {
     "base_uri": "https://localhost:8080/",
     "height": 278
    },
    "executionInfo": {
     "elapsed": 867,
     "status": "ok",
     "timestamp": 1656838496030,
     "user": {
      "displayName": "Маргарита Широбокова",
      "userId": "15867443346324107010"
     },
     "user_tz": -240
    },
    "id": "-nAT_BHgO0iS",
    "outputId": "53bbd88c-f435-4a69-ffce-e3adff5f8b78"
   },
   "outputs": [
    {
     "data": {
      "image/png": "[encoded data removed]",
      "text/plain": [
       "<Figure size 640x480 with 1 Axes>"
      ]
     },
     "metadata": {},
     "output_type": "display_data"
    }
   ],
   "source": [
    "y_predict_train = lasso_regression.predict(train_X)\n",
    "\n",
    "plt.scatter(train_X['YearsExperience'], train_y, s=10, c='b')\n",
    "plt.scatter(test_X['YearsExperience'], test_y, s=10, c='r')\n",
    "plt.plot(train_X['YearsExperience'], y_predict_train, c='g')\n",
    "plt.xlabel('YearsExperience')\n",
    "plt.ylabel('Salary')\n",
    "plt.show()"
   ]
  },
  {
   "cell_type": "markdown",
   "metadata": {
    "id": "K_gDIH7XPKom"
   },
   "source": [
    "Видим, что при правильном подборе параметра `lambda` с помощью регуляризации можно не только упростить модель, но и повысить её качество. При этом коэффициент при переменных, которые незначимы, приблизится к нулю."
   ]
  },
  {
   "cell_type": "code",
   "execution_count": null,
   "metadata": {},
   "outputs": [],
   "source": []
  },
  {
   "cell_type": "code",
   "execution_count": null,
   "metadata": {},
   "outputs": [],
   "source": []
  },
  {
   "cell_type": "code",
   "execution_count": null,
   "metadata": {},
   "outputs": [],
   "source": []
  },
  {
   "cell_type": "code",
   "execution_count": null,
   "metadata": {},
   "outputs": [],
   "source": []
  },
  {
   "cell_type": "code",
   "execution_count": null,
   "metadata": {},
   "outputs": [],
   "source": []
  },
  {
   "cell_type": "code",
   "execution_count": null,
   "metadata": {},
   "outputs": [],
   "source": []
  },
  {
   "cell_type": "code",
   "execution_count": null,
   "metadata": {},
   "outputs": [],
   "source": []
  },
  {
   "cell_type": "code",
   "execution_count": null,
   "metadata": {},
   "outputs": [],
   "source": []
  }
 ],
 "metadata": {
  "colab": {
   "collapsed_sections": [],
   "name": "5.2 Лассо или L1-регуляризация",
   "provenance": []
  },
  "kernelspec": {
   "display_name": "Python 3 (ipykernel)",
   "language": "python",
   "name": "python3"
  },
  "language_info": {
   "codemirror_mode": {
    "name": "ipython",
    "version": 3
   },
   "file_extension": ".py",
   "mimetype": "text/x-python",
   "name": "python",
   "nbconvert_exporter": "python",
   "pygments_lexer": "ipython3",
   "version": "3.10.9"
  }
 },
 "nbformat": 4,
 "nbformat_minor": 1
}
