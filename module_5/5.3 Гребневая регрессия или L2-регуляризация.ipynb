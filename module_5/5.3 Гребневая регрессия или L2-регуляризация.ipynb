{
 "cells": [
  {
   "cell_type": "markdown",
   "metadata": {
    "id": "AV2wSDkkNGhD"
   },
   "source": [
    "## Линейная регрессия"
   ]
  },
  {
   "cell_type": "code",
   "execution_count": 1,
   "metadata": {
    "id": "BKIUvvmWGAMT"
   },
   "outputs": [],
   "source": [
    "# импорт библиотек\n",
    "from sklearn.linear_model import LinearRegression\n",
    "from sklearn.model_selection import train_test_split\n",
    "import pandas as pd\n",
    "import matplotlib.pyplot as plt"
   ]
  },
  {
   "cell_type": "markdown",
   "metadata": {
    "id": "KgFMgKS9ePkM"
   },
   "source": [
    "Загрузим данные о заработной плате сотрудников одной специальности."
   ]
  },
  {
   "cell_type": "code",
   "execution_count": 2,
   "metadata": {
    "id": "McbhMDA8eTK2"
   },
   "outputs": [],
   "source": [
    "df = pd.read_csv('5.1 Salary_Data.csv')"
   ]
  },
  {
   "cell_type": "markdown",
   "metadata": {
    "id": "uf1_x0i7NWo_"
   },
   "source": [
    "Посмотрим сами данные."
   ]
  },
  {
   "cell_type": "code",
   "execution_count": 3,
   "metadata": {
    "colab": {
     "base_uri": "https://localhost:8080/",
     "height": 260
    },
    "executionInfo": {
     "elapsed": 8,
     "status": "ok",
     "timestamp": 1656839928986,
     "user": {
      "displayName": "Маргарита Широбокова",
      "userId": "15867443346324107010"
     },
     "user_tz": -240
    },
    "id": "t5gTeY1ENUJV",
    "outputId": "b329f6d3-2619-470c-a557-53709f9b782e"
   },
   "outputs": [
    {
     "data": {
      "text/html": [
       "<div>\n",
       "<style scoped>\n",
       "    .dataframe tbody tr th:only-of-type {\n",
       "        vertical-align: middle;\n",
       "    }\n",
       "\n",
       "    .dataframe tbody tr th {\n",
       "        vertical-align: top;\n",
       "    }\n",
       "\n",
       "    .dataframe thead th {\n",
       "        text-align: right;\n",
       "    }\n",
       "</style>\n",
       "<table border=\"1\" class=\"dataframe\">\n",
       "  <thead>\n",
       "    <tr style=\"text-align: right;\">\n",
       "      <th></th>\n",
       "      <th>YearsExperience</th>\n",
       "      <th>Floor</th>\n",
       "      <th>Type</th>\n",
       "      <th>Salary</th>\n",
       "    </tr>\n",
       "  </thead>\n",
       "  <tbody>\n",
       "    <tr>\n",
       "      <th>0</th>\n",
       "      <td>1.1</td>\n",
       "      <td>18</td>\n",
       "      <td>1</td>\n",
       "      <td>39343.0</td>\n",
       "    </tr>\n",
       "    <tr>\n",
       "      <th>1</th>\n",
       "      <td>1.3</td>\n",
       "      <td>17</td>\n",
       "      <td>1</td>\n",
       "      <td>46205.0</td>\n",
       "    </tr>\n",
       "    <tr>\n",
       "      <th>2</th>\n",
       "      <td>1.5</td>\n",
       "      <td>10</td>\n",
       "      <td>0</td>\n",
       "      <td>37731.0</td>\n",
       "    </tr>\n",
       "    <tr>\n",
       "      <th>3</th>\n",
       "      <td>2.0</td>\n",
       "      <td>13</td>\n",
       "      <td>0</td>\n",
       "      <td>73525.0</td>\n",
       "    </tr>\n",
       "    <tr>\n",
       "      <th>4</th>\n",
       "      <td>2.2</td>\n",
       "      <td>1</td>\n",
       "      <td>0</td>\n",
       "      <td>39891.0</td>\n",
       "    </tr>\n",
       "  </tbody>\n",
       "</table>\n",
       "</div>"
      ],
      "text/plain": [
       "   YearsExperience  Floor  Type   Salary\n",
       "0              1.1     18     1  39343.0\n",
       "1              1.3     17     1  46205.0\n",
       "2              1.5     10     0  37731.0\n",
       "3              2.0     13     0  73525.0\n",
       "4              2.2      1     0  39891.0"
      ]
     },
     "execution_count": 3,
     "metadata": {},
     "output_type": "execute_result"
    }
   ],
   "source": [
    "df.head()"
   ]
  },
  {
   "cell_type": "markdown",
   "metadata": {
    "id": "Xa2WwGnneugE"
   },
   "source": [
    "В данных:\n",
    "- Salary — заработная плата.\n",
    "- YearsExperience — опыт работы.\n",
    "- Floor — этаж, на котором работает сотрудник.\n",
    "- Type — тип работы: офлайн или онлайн."
   ]
  },
  {
   "cell_type": "markdown",
   "metadata": {
    "id": "hCQUU8gaMcR6"
   },
   "source": [
    "Скорее всего, зарплата зависит от опыта работы сотрудников. Проверим это с помощью графиков."
   ]
  },
  {
   "cell_type": "code",
   "execution_count": 4,
   "metadata": {
    "colab": {
     "base_uri": "https://localhost:8080/",
     "height": 302
    },
    "executionInfo": {
     "elapsed": 617,
     "status": "ok",
     "timestamp": 1656839929597,
     "user": {
      "displayName": "Маргарита Широбокова",
      "userId": "15867443346324107010"
     },
     "user_tz": -240
    },
    "id": "Myn7T6ccfDH5",
    "outputId": "fd8fb49d-38e3-403c-ed90-abb6d2cec3a6"
   },
   "outputs": [
    {
     "data": {
      "text/plain": [
       "<matplotlib.collections.PathCollection at 0x22d03215960>"
      ]
     },
     "execution_count": 4,
     "metadata": {},
     "output_type": "execute_result"
    },
    {
     "data": {
      "image/png": "[encoded data removed]",
      "text/plain": [
       "<Figure size 640x480 with 1 Axes>"
      ]
     },
     "metadata": {},
     "output_type": "display_data"
    }
   ],
   "source": [
    "plt.xlabel(\"YearsExperience\")\n",
    "plt.ylabel(\"Salary\")\n",
    "plt.scatter(x=df['YearsExperience'],y=df['Salary'])"
   ]
  },
  {
   "cell_type": "markdown",
   "metadata": {
    "id": "wm1kjYmGM0pa"
   },
   "source": [
    "Наблюдается линейная зависимость, однако в данных присутствуют выбросы."
   ]
  },
  {
   "cell_type": "markdown",
   "metadata": {
    "id": "WLWBDbd_fDyG"
   },
   "source": [
    "Очевидно, что зарплата не должна зависеть от этажа, на котором работает сотрудник. Проверим это с помощью графиков."
   ]
  },
  {
   "cell_type": "code",
   "execution_count": 5,
   "metadata": {
    "colab": {
     "base_uri": "https://localhost:8080/",
     "height": 302
    },
    "executionInfo": {
     "elapsed": 7,
     "status": "ok",
     "timestamp": 1656839929598,
     "user": {
      "displayName": "Маргарита Широбокова",
      "userId": "15867443346324107010"
     },
     "user_tz": -240
    },
    "id": "qv63Hpm6fDQR",
    "outputId": "0fe2f148-f7d7-4f23-976b-4c76cabd6b55"
   },
   "outputs": [
    {
     "data": {
      "text/plain": [
       "<matplotlib.collections.PathCollection at 0x22d033490f0>"
      ]
     },
     "execution_count": 5,
     "metadata": {},
     "output_type": "execute_result"
    },
    {
     "data": {
      "image/png": "[encoded data removed]",
      "text/plain": [
       "<Figure size 640x480 with 1 Axes>"
      ]
     },
     "metadata": {},
     "output_type": "display_data"
    }
   ],
   "source": [
    "plt.xlabel(\"Floor\")\n",
    "plt.ylabel(\"Salary\")\n",
    "plt.scatter(x=df['Floor'],y=df['Salary'])"
   ]
  },
  {
   "cell_type": "markdown",
   "metadata": {
    "id": "mBCaTH1kM73R"
   },
   "source": [
    "Зависимости не наблюдается."
   ]
  },
  {
   "cell_type": "markdown",
   "metadata": {
    "id": "GVztgN2rMm7l"
   },
   "source": [
    "И, скорее всего, зарплата не зависит от типа работы."
   ]
  },
  {
   "cell_type": "code",
   "execution_count": 6,
   "metadata": {
    "colab": {
     "base_uri": "https://localhost:8080/",
     "height": 302
    },
    "executionInfo": {
     "elapsed": 589,
     "status": "ok",
     "timestamp": 1656839930184,
     "user": {
      "displayName": "Маргарита Широбокова",
      "userId": "15867443346324107010"
     },
     "user_tz": -240
    },
    "id": "8NCf4sZzLtjA",
    "outputId": "3c710ca5-01a6-474d-cb57-c68d6632d327"
   },
   "outputs": [
    {
     "data": {
      "text/plain": [
       "<matplotlib.collections.PathCollection at 0x22d033b6dd0>"
      ]
     },
     "execution_count": 6,
     "metadata": {},
     "output_type": "execute_result"
    },
    {
     "data": {
      "image/png": "[encoded data removed]",
      "text/plain": [
       "<Figure size 640x480 with 1 Axes>"
      ]
     },
     "metadata": {},
     "output_type": "display_data"
    }
   ],
   "source": [
    "plt.xlabel(\"Type\")\n",
    "plt.ylabel(\"Salary\")\n",
    "plt.scatter(x=df['Type'],y=df['Salary'])"
   ]
  },
  {
   "cell_type": "markdown",
   "metadata": {
    "id": "i5Z_M-fCM-e4"
   },
   "source": [
    "Зависимости также не наблюдается."
   ]
  },
  {
   "cell_type": "markdown",
   "metadata": {
    "id": "7UHUEKZDfYcD"
   },
   "source": [
    "Действительно, зарплата явно зависит от опыта работы сотрудника и не зависит от этажа, на котором он работает, и типа работы."
   ]
  },
  {
   "cell_type": "markdown",
   "metadata": {
    "id": "uDqcVwBlekw8"
   },
   "source": [
    "Попробуем построить модель линейной регрессии зависимости Salary от остальных параметров. И дополнительно добавим ещё признаков на незначимых переменных."
   ]
  },
  {
   "cell_type": "code",
   "execution_count": 7,
   "metadata": {
    "id": "aoZpHRHjHtN7"
   },
   "outputs": [],
   "source": [
    "df['x'] = df['Floor'] ** 2"
   ]
  },
  {
   "cell_type": "code",
   "execution_count": 8,
   "metadata": {
    "id": "o4aooT8KNR1Q"
   },
   "outputs": [],
   "source": [
    "train_df, test_df  = train_test_split(df, test_size=0.3, random_state=3)"
   ]
  },
  {
   "cell_type": "code",
   "execution_count": 9,
   "metadata": {
    "id": "Y1MxTKNEQRp8"
   },
   "outputs": [],
   "source": [
    "train_df = train_df.sort_values(by='YearsExperience', ascending=False)\n",
    "train_X = train_df[['YearsExperience', 'Floor', 'Type', 'x']]\n",
    "train_y = train_df[['Salary']]\n",
    "\n",
    "test_df = test_df.sort_values(by='YearsExperience', ascending=False)\n",
    "test_X = test_df[['YearsExperience', 'Floor', 'Type', 'x']]\n",
    "test_y = test_df[['Salary']]"
   ]
  },
  {
   "cell_type": "markdown",
   "metadata": {
    "id": "n8YiUjiNNiUf"
   },
   "source": [
    "Построим простую модель регресии на всех данных и оценим её качество."
   ]
  },
  {
   "cell_type": "code",
   "execution_count": 10,
   "metadata": {
    "colab": {
     "base_uri": "https://localhost:8080/"
    },
    "executionInfo": {
     "elapsed": 23,
     "status": "ok",
     "timestamp": 1656839930185,
     "user": {
      "displayName": "Маргарита Широбокова",
      "userId": "15867443346324107010"
     },
     "user_tz": -240
    },
    "id": "KhrEHu9dNM4X",
    "outputId": "cafb01d0-9e9c-4c6a-9c80-89e9ba9580d8"
   },
   "outputs": [
    {
     "data": {
      "text/html": [
       "<style>#sk-container-id-1 {color: black;background-color: white;}#sk-container-id-1 pre{padding: 0;}#sk-container-id-1 div.sk-toggleable {background-color: white;}#sk-container-id-1 label.sk-toggleable__label {cursor: pointer;display: block;width: 100%;margin-bottom: 0;padding: 0.3em;box-sizing: border-box;text-align: center;}#sk-container-id-1 label.sk-toggleable__label-arrow:before {content: \"▸\";float: left;margin-right: 0.25em;color: #696969;}#sk-container-id-1 label.sk-toggleable__label-arrow:hover:before {color: black;}#sk-container-id-1 div.sk-estimator:hover label.sk-toggleable__label-arrow:before {color: black;}#sk-container-id-1 div.sk-toggleable__content {max-height: 0;max-width: 0;overflow: hidden;text-align: left;background-color: #f0f8ff;}#sk-container-id-1 div.sk-toggleable__content pre {margin: 0.2em;color: black;border-radius: 0.25em;background-color: #f0f8ff;}#sk-container-id-1 input.sk-toggleable__control:checked~div.sk-toggleable__content {max-height: 200px;max-width: 100%;overflow: auto;}#sk-container-id-1 input.sk-toggleable__control:checked~label.sk-toggleable__label-arrow:before {content: \"▾\";}#sk-container-id-1 div.sk-estimator input.sk-toggleable__control:checked~label.sk-toggleable__label {background-color: #d4ebff;}#sk-container-id-1 div.sk-label input.sk-toggleable__control:checked~label.sk-toggleable__label {background-color: #d4ebff;}#sk-container-id-1 input.sk-hidden--visually {border: 0;clip: rect(1px 1px 1px 1px);clip: rect(1px, 1px, 1px, 1px);height: 1px;margin: -1px;overflow: hidden;padding: 0;position: absolute;width: 1px;}#sk-container-id-1 div.sk-estimator {font-family: monospace;background-color: #f0f8ff;border: 1px dotted black;border-radius: 0.25em;box-sizing: border-box;margin-bottom: 0.5em;}#sk-container-id-1 div.sk-estimator:hover {background-color: #d4ebff;}#sk-container-id-1 div.sk-parallel-item::after {content: \"\";width: 100%;border-bottom: 1px solid gray;flex-grow: 1;}#sk-container-id-1 div.sk-label:hover label.sk-toggleable__label {background-color: #d4ebff;}#sk-container-id-1 div.sk-serial::before {content: \"\";position: absolute;border-left: 1px solid gray;box-sizing: border-box;top: 0;bottom: 0;left: 50%;z-index: 0;}#sk-container-id-1 div.sk-serial {display: flex;flex-direction: column;align-items: center;background-color: white;padding-right: 0.2em;padding-left: 0.2em;position: relative;}#sk-container-id-1 div.sk-item {position: relative;z-index: 1;}#sk-container-id-1 div.sk-parallel {display: flex;align-items: stretch;justify-content: center;background-color: white;position: relative;}#sk-container-id-1 div.sk-item::before, #sk-container-id-1 div.sk-parallel-item::before {content: \"\";position: absolute;border-left: 1px solid gray;box-sizing: border-box;top: 0;bottom: 0;left: 50%;z-index: -1;}#sk-container-id-1 div.sk-parallel-item {display: flex;flex-direction: column;z-index: 1;position: relative;background-color: white;}#sk-container-id-1 div.sk-parallel-item:first-child::after {align-self: flex-end;width: 50%;}#sk-container-id-1 div.sk-parallel-item:last-child::after {align-self: flex-start;width: 50%;}#sk-container-id-1 div.sk-parallel-item:only-child::after {width: 0;}#sk-container-id-1 div.sk-dashed-wrapped {border: 1px dashed gray;margin: 0 0.4em 0.5em 0.4em;box-sizing: border-box;padding-bottom: 0.4em;background-color: white;}#sk-container-id-1 div.sk-label label {font-family: monospace;font-weight: bold;display: inline-block;line-height: 1.2em;}#sk-container-id-1 div.sk-label-container {text-align: center;}#sk-container-id-1 div.sk-container {/* jupyter's `normalize.less` sets `[hidden] { display: none; }` but bootstrap.min.css set `[hidden] { display: none !important; }` so we also need the `!important` here to be able to override the default hidden behavior on the sphinx rendered scikit-learn.org. See: https://github.com/scikit-learn/scikit-learn/issues/21755 */display: inline-block !important;position: relative;}#sk-container-id-1 div.sk-text-repr-fallback {display: none;}</style><div id=\"sk-container-id-1\" class=\"sk-top-container\"><div class=\"sk-text-repr-fallback\"><pre>LinearRegression()</pre><b>In a Jupyter environment, please rerun this cell to show the HTML representation or trust the notebook. <br />On GitHub, the HTML representation is unable to render, please try loading this page with nbviewer.org.</b></div><div class=\"sk-container\" hidden><div class=\"sk-item\"><div class=\"sk-estimator sk-toggleable\"><input class=\"sk-toggleable__control sk-hidden--visually\" id=\"sk-estimator-id-1\" type=\"checkbox\" checked><label for=\"sk-estimator-id-1\" class=\"sk-toggleable__label sk-toggleable__label-arrow\">LinearRegression</label><div class=\"sk-toggleable__content\"><pre>LinearRegression()</pre></div></div></div></div></div>"
      ],
      "text/plain": [
       "LinearRegression()"
      ]
     },
     "execution_count": 10,
     "metadata": {},
     "output_type": "execute_result"
    }
   ],
   "source": [
    "linear_regression = LinearRegression() \n",
    "linear_regression.fit(train_X, train_y)"
   ]
  },
  {
   "cell_type": "code",
   "execution_count": 11,
   "metadata": {
    "colab": {
     "base_uri": "https://localhost:8080/"
    },
    "executionInfo": {
     "elapsed": 19,
     "status": "ok",
     "timestamp": 1656839930185,
     "user": {
      "displayName": "Маргарита Широбокова",
      "userId": "15867443346324107010"
     },
     "user_tz": -240
    },
    "id": "vPTIMs29NQqk",
    "outputId": "889bf636-3972-4818-dd79-f519c733f1ce"
   },
   "outputs": [
    {
     "name": "stdout",
     "output_type": "stream",
     "text": [
      "0.5880177111217567\n",
      "0.26143206957081666\n"
     ]
    }
   ],
   "source": [
    "# вывод точности предсказания\n",
    "print(linear_regression.score(train_X, train_y))\n",
    "print(linear_regression.score(test_X, test_y))"
   ]
  },
  {
   "cell_type": "code",
   "execution_count": 12,
   "metadata": {
    "colab": {
     "base_uri": "https://localhost:8080/"
    },
    "executionInfo": {
     "elapsed": 16,
     "status": "ok",
     "timestamp": 1656839930185,
     "user": {
      "displayName": "Маргарита Широбокова",
      "userId": "15867443346324107010"
     },
     "user_tz": -240
    },
    "id": "XFGJhRFjfq3y",
    "outputId": "44571db7-783b-4c45-92de-1c388f30ca05"
   },
   "outputs": [
    {
     "name": "stdout",
     "output_type": "stream",
     "text": [
      "w_0: [20548.76734613]\n",
      "w_1: 6698.547721881238 YearsExperience\n",
      "w_2: 6284.331540304577 Floor\n",
      "w_3: 6926.782218631149 Type\n",
      "w_4: -328.8162340973977 x\n"
     ]
    }
   ],
   "source": [
    "# коэффициенты модели\n",
    "print('w_0:', linear_regression.intercept_)\n",
    "coef = list(linear_regression.coef_[0])\n",
    "for i in range(len(coef)):\n",
    "    print(f'w_{i+1}:', coef[i], train_X.columns[i])"
   ]
  },
  {
   "cell_type": "markdown",
   "metadata": {
    "id": "E70XckSaf5Df"
   },
   "source": [
    "Несмотря на то, что этаж никак не влияет на целевую функцию, эта переменная присутствует в модели с коэффициентом 6698, а квадрат этой переменной — с отрицательным знаком. Что явно вносит путаницу в понимание модели.\n",
    "Более того, качество модели на тестовой выборке сильно ниже, чем на обучающей."
   ]
  },
  {
   "cell_type": "markdown",
   "metadata": {
    "id": "eAE4CNsEPJ4X"
   },
   "source": [
    "Посмотрим на предсказания модели."
   ]
  },
  {
   "cell_type": "code",
   "execution_count": 13,
   "metadata": {
    "colab": {
     "base_uri": "https://localhost:8080/",
     "height": 280
    },
    "executionInfo": {
     "elapsed": 14,
     "status": "ok",
     "timestamp": 1656839930185,
     "user": {
      "displayName": "Маргарита Широбокова",
      "userId": "15867443346324107010"
     },
     "user_tz": -240
    },
    "id": "isFnBDyzPGkf",
    "outputId": "33356cbb-74e6-4072-bbe9-c14ef148ae91"
   },
   "outputs": [
    {
     "data": {
      "image/png": "[encoded data removed]",
      "text/plain": [
       "<Figure size 640x480 with 1 Axes>"
      ]
     },
     "metadata": {},
     "output_type": "display_data"
    }
   ],
   "source": [
    "y_predict_train = linear_regression.predict(train_X)\n",
    "\n",
    "plt.scatter(train_X['YearsExperience'], train_y, s=10, c='b')\n",
    "plt.scatter(test_X['YearsExperience'], test_y, s=10, c='r')\n",
    "plt.plot(train_X['YearsExperience'], y_predict_train, c='g')\n",
    "plt.xlabel('YearsExperience')\n",
    "plt.ylabel('Salary')\n",
    "plt.show()"
   ]
  },
  {
   "cell_type": "markdown",
   "metadata": {
    "id": "Wdqvl5HYgG40"
   },
   "source": [
    "Воспользуемся регуляризацией."
   ]
  },
  {
   "cell_type": "markdown",
   "metadata": {
    "id": "88KMTE23F4OW"
   },
   "source": [
    "## Ridge"
   ]
  },
  {
   "cell_type": "markdown",
   "metadata": {
    "id": "9I-MBW-bODzD"
   },
   "source": [
    "Для обучения модели с L2-регуляризацией импортрируем `from sklearn.linear_model import Ridge`."
   ]
  },
  {
   "cell_type": "code",
   "execution_count": 14,
   "metadata": {
    "colab": {
     "base_uri": "https://localhost:8080/"
    },
    "executionInfo": {
     "elapsed": 13,
     "status": "ok",
     "timestamp": 1656839930185,
     "user": {
      "displayName": "Маргарита Широбокова",
      "userId": "15867443346324107010"
     },
     "user_tz": -240
    },
    "id": "e_WPE1ukFuED",
    "outputId": "4bf91d45-17b5-4e5b-bd6a-6b67062258b8"
   },
   "outputs": [
    {
     "data": {
      "text/html": [
       "<style>#sk-container-id-2 {color: black;background-color: white;}#sk-container-id-2 pre{padding: 0;}#sk-container-id-2 div.sk-toggleable {background-color: white;}#sk-container-id-2 label.sk-toggleable__label {cursor: pointer;display: block;width: 100%;margin-bottom: 0;padding: 0.3em;box-sizing: border-box;text-align: center;}#sk-container-id-2 label.sk-toggleable__label-arrow:before {content: \"▸\";float: left;margin-right: 0.25em;color: #696969;}#sk-container-id-2 label.sk-toggleable__label-arrow:hover:before {color: black;}#sk-container-id-2 div.sk-estimator:hover label.sk-toggleable__label-arrow:before {color: black;}#sk-container-id-2 div.sk-toggleable__content {max-height: 0;max-width: 0;overflow: hidden;text-align: left;background-color: #f0f8ff;}#sk-container-id-2 div.sk-toggleable__content pre {margin: 0.2em;color: black;border-radius: 0.25em;background-color: #f0f8ff;}#sk-container-id-2 input.sk-toggleable__control:checked~div.sk-toggleable__content {max-height: 200px;max-width: 100%;overflow: auto;}#sk-container-id-2 input.sk-toggleable__control:checked~label.sk-toggleable__label-arrow:before {content: \"▾\";}#sk-container-id-2 div.sk-estimator input.sk-toggleable__control:checked~label.sk-toggleable__label {background-color: #d4ebff;}#sk-container-id-2 div.sk-label input.sk-toggleable__control:checked~label.sk-toggleable__label {background-color: #d4ebff;}#sk-container-id-2 input.sk-hidden--visually {border: 0;clip: rect(1px 1px 1px 1px);clip: rect(1px, 1px, 1px, 1px);height: 1px;margin: -1px;overflow: hidden;padding: 0;position: absolute;width: 1px;}#sk-container-id-2 div.sk-estimator {font-family: monospace;background-color: #f0f8ff;border: 1px dotted black;border-radius: 0.25em;box-sizing: border-box;margin-bottom: 0.5em;}#sk-container-id-2 div.sk-estimator:hover {background-color: #d4ebff;}#sk-container-id-2 div.sk-parallel-item::after {content: \"\";width: 100%;border-bottom: 1px solid gray;flex-grow: 1;}#sk-container-id-2 div.sk-label:hover label.sk-toggleable__label {background-color: #d4ebff;}#sk-container-id-2 div.sk-serial::before {content: \"\";position: absolute;border-left: 1px solid gray;box-sizing: border-box;top: 0;bottom: 0;left: 50%;z-index: 0;}#sk-container-id-2 div.sk-serial {display: flex;flex-direction: column;align-items: center;background-color: white;padding-right: 0.2em;padding-left: 0.2em;position: relative;}#sk-container-id-2 div.sk-item {position: relative;z-index: 1;}#sk-container-id-2 div.sk-parallel {display: flex;align-items: stretch;justify-content: center;background-color: white;position: relative;}#sk-container-id-2 div.sk-item::before, #sk-container-id-2 div.sk-parallel-item::before {content: \"\";position: absolute;border-left: 1px solid gray;box-sizing: border-box;top: 0;bottom: 0;left: 50%;z-index: -1;}#sk-container-id-2 div.sk-parallel-item {display: flex;flex-direction: column;z-index: 1;position: relative;background-color: white;}#sk-container-id-2 div.sk-parallel-item:first-child::after {align-self: flex-end;width: 50%;}#sk-container-id-2 div.sk-parallel-item:last-child::after {align-self: flex-start;width: 50%;}#sk-container-id-2 div.sk-parallel-item:only-child::after {width: 0;}#sk-container-id-2 div.sk-dashed-wrapped {border: 1px dashed gray;margin: 0 0.4em 0.5em 0.4em;box-sizing: border-box;padding-bottom: 0.4em;background-color: white;}#sk-container-id-2 div.sk-label label {font-family: monospace;font-weight: bold;display: inline-block;line-height: 1.2em;}#sk-container-id-2 div.sk-label-container {text-align: center;}#sk-container-id-2 div.sk-container {/* jupyter's `normalize.less` sets `[hidden] { display: none; }` but bootstrap.min.css set `[hidden] { display: none !important; }` so we also need the `!important` here to be able to override the default hidden behavior on the sphinx rendered scikit-learn.org. See: https://github.com/scikit-learn/scikit-learn/issues/21755 */display: inline-block !important;position: relative;}#sk-container-id-2 div.sk-text-repr-fallback {display: none;}</style><div id=\"sk-container-id-2\" class=\"sk-top-container\"><div class=\"sk-text-repr-fallback\"><pre>Ridge(alpha=0.1)</pre><b>In a Jupyter environment, please rerun this cell to show the HTML representation or trust the notebook. <br />On GitHub, the HTML representation is unable to render, please try loading this page with nbviewer.org.</b></div><div class=\"sk-container\" hidden><div class=\"sk-item\"><div class=\"sk-estimator sk-toggleable\"><input class=\"sk-toggleable__control sk-hidden--visually\" id=\"sk-estimator-id-2\" type=\"checkbox\" checked><label for=\"sk-estimator-id-2\" class=\"sk-toggleable__label sk-toggleable__label-arrow\">Ridge</label><div class=\"sk-toggleable__content\"><pre>Ridge(alpha=0.1)</pre></div></div></div></div></div>"
      ],
      "text/plain": [
       "Ridge(alpha=0.1)"
      ]
     },
     "execution_count": 14,
     "metadata": {},
     "output_type": "execute_result"
    }
   ],
   "source": [
    "from sklearn.linear_model import Ridge\n",
    "\n",
    "ridge_regression = Ridge(alpha=0.1)  # alpha — величина регуляризации\n",
    "\n",
    "# обучение\n",
    "ridge_regression.fit(train_X, train_y)"
   ]
  },
  {
   "cell_type": "code",
   "execution_count": 15,
   "metadata": {
    "colab": {
     "base_uri": "https://localhost:8080/"
    },
    "executionInfo": {
     "elapsed": 11,
     "status": "ok",
     "timestamp": 1656839930186,
     "user": {
      "displayName": "Маргарита Широбокова",
      "userId": "15867443346324107010"
     },
     "user_tz": -240
    },
    "id": "_YNgltiTOXky",
    "outputId": "96cef1d9-c6a5-4c30-fb76-c8271baeb669"
   },
   "outputs": [
    {
     "name": "stdout",
     "output_type": "stream",
     "text": [
      "0.5880094396660369\n",
      "0.2655790324482359\n"
     ]
    }
   ],
   "source": [
    "# вывод точности предсказания\n",
    "print(ridge_regression.score(train_X, train_y))\n",
    "print(ridge_regression.score(test_X, test_y))"
   ]
  },
  {
   "cell_type": "code",
   "execution_count": 16,
   "metadata": {
    "colab": {
     "base_uri": "https://localhost:8080/"
    },
    "executionInfo": {
     "elapsed": 622,
     "status": "ok",
     "timestamp": 1656839930799,
     "user": {
      "displayName": "Маргарита Широбокова",
      "userId": "15867443346324107010"
     },
     "user_tz": -240
    },
    "id": "7tTsoBlsgSPU",
    "outputId": "4d5eb89e-1800-43d2-b5e9-eb1a6998ccf1"
   },
   "outputs": [
    {
     "name": "stdout",
     "output_type": "stream",
     "text": [
      "w_0: [20713.09231767]\n",
      "w_i: [[6689.99028928 6258.35506226 6729.75540192 -327.2544208 ]]\n"
     ]
    }
   ],
   "source": [
    "# коэффициенты модели\n",
    "print('w_0:', ridge_regression.intercept_)\n",
    "print('w_i:', ridge_regression.coef_)"
   ]
  },
  {
   "cell_type": "markdown",
   "metadata": {
    "id": "5q-QWL6uOdcz"
   },
   "source": [
    "Попробуем подобрать параметр регуляризации."
   ]
  },
  {
   "cell_type": "code",
   "execution_count": 17,
   "metadata": {
    "colab": {
     "base_uri": "https://localhost:8080/"
    },
    "executionInfo": {
     "elapsed": 33,
     "status": "ok",
     "timestamp": 1656839930799,
     "user": {
      "displayName": "Маргарита Широбокова",
      "userId": "15867443346324107010"
     },
     "user_tz": -240
    },
    "id": "cCDTUHb_LaYv",
    "outputId": "4db67258-e0a6-4e93-ba6e-d676fb26c4f1"
   },
   "outputs": [
    {
     "name": "stdout",
     "output_type": "stream",
     "text": [
      "----- lambda = 1e-07 -----\n",
      "0.5880177111217565\n",
      "0.2614320738423861\n",
      "----- lambda = 1e-06 -----\n",
      "0.5880177111217557\n",
      "0.2614321122864771\n",
      "----- lambda = 1e-05 -----\n",
      "0.5880177111216698\n",
      "0.26143249672625735\n",
      "----- lambda = 0.0001 -----\n",
      "0.5880177111130565\n",
      "0.2614363410095356\n",
      "----- lambda = 0.001 -----\n",
      "0.5880177102521478\n",
      "0.2614747723998999\n",
      "----- lambda = 0.01 -----\n",
      "0.5880176245610711\n",
      "0.26185794558800934\n"
     ]
    }
   ],
   "source": [
    "coef = []\n",
    "for i in range(-7, -1):\n",
    "    alpha = 10**i\n",
    "    ridge_regression = Ridge(alpha=alpha)  # alpha — величина регуляризации\n",
    "\n",
    "    # обучение\n",
    "    ridge_regression.fit(train_X, train_y)\n",
    "\n",
    "    coef.extend(list(ridge_regression.coef_))\n",
    "\n",
    "    # вывод точности предсказания\n",
    "    print('-'*5, 'lambda =', alpha, '-'*5)\n",
    "    print(ridge_regression.score(train_X, train_y))\n",
    "    print(ridge_regression.score(test_X, test_y))"
   ]
  },
  {
   "cell_type": "code",
   "execution_count": 18,
   "metadata": {
    "colab": {
     "base_uri": "https://localhost:8080/",
     "height": 300
    },
    "executionInfo": {
     "elapsed": 26,
     "status": "ok",
     "timestamp": 1656839930800,
     "user": {
      "displayName": "Маргарита Широбокова",
      "userId": "15867443346324107010"
     },
     "user_tz": -240
    },
    "id": "W2lO6DXfgpb8",
    "outputId": "cfd00340-7ee0-457e-8f25-1cbe789a8559"
   },
   "outputs": [
    {
     "data": {
      "text/html": [
       "<div>\n",
       "<style scoped>\n",
       "    .dataframe tbody tr th:only-of-type {\n",
       "        vertical-align: middle;\n",
       "    }\n",
       "\n",
       "    .dataframe tbody tr th {\n",
       "        vertical-align: top;\n",
       "    }\n",
       "\n",
       "    .dataframe thead th {\n",
       "        text-align: right;\n",
       "    }\n",
       "</style>\n",
       "<table border=\"1\" class=\"dataframe\">\n",
       "  <thead>\n",
       "    <tr style=\"text-align: right;\">\n",
       "      <th></th>\n",
       "      <th>YearsExperience</th>\n",
       "      <th>Floor</th>\n",
       "      <th>Type</th>\n",
       "      <th>x</th>\n",
       "    </tr>\n",
       "  </thead>\n",
       "  <tbody>\n",
       "    <tr>\n",
       "      <th>0</th>\n",
       "      <td>6698.547713</td>\n",
       "      <td>6284.331514</td>\n",
       "      <td>6926.782016</td>\n",
       "      <td>-328.816233</td>\n",
       "    </tr>\n",
       "    <tr>\n",
       "      <th>1</th>\n",
       "      <td>6698.547634</td>\n",
       "      <td>6284.331278</td>\n",
       "      <td>6926.780194</td>\n",
       "      <td>-328.816218</td>\n",
       "    </tr>\n",
       "    <tr>\n",
       "      <th>2</th>\n",
       "      <td>6698.546848</td>\n",
       "      <td>6284.328912</td>\n",
       "      <td>6926.761975</td>\n",
       "      <td>-328.816076</td>\n",
       "    </tr>\n",
       "    <tr>\n",
       "      <th>3</th>\n",
       "      <td>6698.538981</td>\n",
       "      <td>6284.305262</td>\n",
       "      <td>6926.579783</td>\n",
       "      <td>-328.814648</td>\n",
       "    </tr>\n",
       "    <tr>\n",
       "      <th>4</th>\n",
       "      <td>6698.460326</td>\n",
       "      <td>6284.068780</td>\n",
       "      <td>6924.758364</td>\n",
       "      <td>-328.800379</td>\n",
       "    </tr>\n",
       "    <tr>\n",
       "      <th>5</th>\n",
       "      <td>6697.675460</td>\n",
       "      <td>6281.706718</td>\n",
       "      <td>6906.593581</td>\n",
       "      <td>-328.657905</td>\n",
       "    </tr>\n",
       "  </tbody>\n",
       "</table>\n",
       "</div>"
      ],
      "text/plain": [
       "   YearsExperience        Floor         Type           x\n",
       "0      6698.547713  6284.331514  6926.782016 -328.816233\n",
       "1      6698.547634  6284.331278  6926.780194 -328.816218\n",
       "2      6698.546848  6284.328912  6926.761975 -328.816076\n",
       "3      6698.538981  6284.305262  6926.579783 -328.814648\n",
       "4      6698.460326  6284.068780  6924.758364 -328.800379\n",
       "5      6697.675460  6281.706718  6906.593581 -328.657905"
      ]
     },
     "execution_count": 18,
     "metadata": {},
     "output_type": "execute_result"
    }
   ],
   "source": [
    "coef = pd.DataFrame(coef, columns=train_X.columns)\n",
    "coef"
   ]
  },
  {
   "cell_type": "code",
   "execution_count": 19,
   "metadata": {
    "colab": {
     "base_uri": "https://localhost:8080/",
     "height": 288
    },
    "executionInfo": {
     "elapsed": 24,
     "status": "ok",
     "timestamp": 1656839930800,
     "user": {
      "displayName": "Маргарита Широбокова",
      "userId": "15867443346324107010"
     },
     "user_tz": -240
    },
    "id": "UlIzwd8dg0io",
    "outputId": "cf7bc726-7e89-48a8-fd2a-82828e3e4a1d"
   },
   "outputs": [
    {
     "data": {
      "text/plain": [
       "<Axes: >"
      ]
     },
     "execution_count": 19,
     "metadata": {},
     "output_type": "execute_result"
    },
    {
     "data": {
      "image/png": "[encoded data removed]",
      "text/plain": [
       "<Figure size 640x480 with 1 Axes>"
      ]
     },
     "metadata": {},
     "output_type": "display_data"
    }
   ],
   "source": [
    "coef.plot()"
   ]
  },
  {
   "cell_type": "markdown",
   "metadata": {
    "id": "IlZ0iu1DRVn6"
   },
   "source": [
    "Посмотрим, как изменились предсказания модели."
   ]
  },
  {
   "cell_type": "code",
   "execution_count": 20,
   "metadata": {
    "colab": {
     "base_uri": "https://localhost:8080/",
     "height": 280
    },
    "executionInfo": {
     "elapsed": 17,
     "status": "ok",
     "timestamp": 1656839930800,
     "user": {
      "displayName": "Маргарита Широбокова",
      "userId": "15867443346324107010"
     },
     "user_tz": -240
    },
    "id": "-nAT_BHgO0iS",
    "outputId": "76769589-b252-437a-ad9c-844f96a5a96b"
   },
   "outputs": [
    {
     "data": {
      "image/png": "[encoded data removed]",
      "text/plain": [
       "<Figure size 640x480 with 1 Axes>"
      ]
     },
     "metadata": {},
     "output_type": "display_data"
    }
   ],
   "source": [
    "y_predict_train = ridge_regression.predict(train_X)\n",
    "\n",
    "plt.scatter(train_X['YearsExperience'], train_y, s=10, c='b')\n",
    "plt.scatter(test_X['YearsExperience'], test_y, s=10, c='r')\n",
    "plt.plot(train_X['YearsExperience'], y_predict_train, c='g')\n",
    "plt.xlabel('YearsExperience')\n",
    "plt.ylabel('Salary')\n",
    "plt.show()"
   ]
  },
  {
   "cell_type": "markdown",
   "metadata": {
    "id": "63fwjoK0UQGm"
   },
   "source": [
    "Видим, что почти ничего не изменилось.\n",
    "Попробуем предварительно нормализовать данные и только потом строить модель."
   ]
  },
  {
   "cell_type": "markdown",
   "metadata": {
    "id": "6RR2MkidUney"
   },
   "source": [
    "Нормализация — это процесс масштабирования отдельных образцов в единичную норму."
   ]
  },
  {
   "cell_type": "markdown",
   "metadata": {
    "id": "glC4_wCbUZBJ"
   },
   "source": [
    "Произведём номализацию с помощью метода `normalize()` в `sklearn`."
   ]
  },
  {
   "cell_type": "markdown",
   "metadata": {
    "id": "2Pf9AfxWW3Ix"
   },
   "source": [
    "Посмотрите пример:"
   ]
  },
  {
   "cell_type": "code",
   "execution_count": 21,
   "metadata": {
    "colab": {
     "base_uri": "https://localhost:8080/",
     "height": 180
    },
    "executionInfo": {
     "elapsed": 15,
     "status": "ok",
     "timestamp": 1656839930800,
     "user": {
      "displayName": "Маргарита Широбокова",
      "userId": "15867443346324107010"
     },
     "user_tz": -240
    },
    "id": "6l5D8a2RVmHi",
    "outputId": "e97316fb-94c2-4622-8c03-b6a888c39077"
   },
   "outputs": [
    {
     "data": {
      "text/html": [
       "<div>\n",
       "<style scoped>\n",
       "    .dataframe tbody tr th:only-of-type {\n",
       "        vertical-align: middle;\n",
       "    }\n",
       "\n",
       "    .dataframe tbody tr th {\n",
       "        vertical-align: top;\n",
       "    }\n",
       "\n",
       "    .dataframe thead th {\n",
       "        text-align: right;\n",
       "    }\n",
       "</style>\n",
       "<table border=\"1\" class=\"dataframe\">\n",
       "  <thead>\n",
       "    <tr style=\"text-align: right;\">\n",
       "      <th></th>\n",
       "      <th>x1</th>\n",
       "      <th>x2</th>\n",
       "    </tr>\n",
       "  </thead>\n",
       "  <tbody>\n",
       "    <tr>\n",
       "      <th>0</th>\n",
       "      <td>0</td>\n",
       "      <td>1000</td>\n",
       "    </tr>\n",
       "    <tr>\n",
       "      <th>1</th>\n",
       "      <td>1</td>\n",
       "      <td>1500</td>\n",
       "    </tr>\n",
       "    <tr>\n",
       "      <th>2</th>\n",
       "      <td>200</td>\n",
       "      <td>2000</td>\n",
       "    </tr>\n",
       "  </tbody>\n",
       "</table>\n",
       "</div>"
      ],
      "text/plain": [
       "    x1    x2\n",
       "0    0  1000\n",
       "1    1  1500\n",
       "2  200  2000"
      ]
     },
     "execution_count": 21,
     "metadata": {},
     "output_type": "execute_result"
    }
   ],
   "source": [
    "from sklearn import preprocessing\n",
    "\n",
    "example = pd.DataFrame({'x1': [0, 1, 200], \n",
    "                        'x2': [1000, 1500, 2000]})\n",
    "example"
   ]
  },
  {
   "cell_type": "code",
   "execution_count": 22,
   "metadata": {
    "colab": {
     "base_uri": "https://localhost:8080/"
    },
    "executionInfo": {
     "elapsed": 14,
     "status": "ok",
     "timestamp": 1656839930800,
     "user": {
      "displayName": "Маргарита Широбокова",
      "userId": "15867443346324107010"
     },
     "user_tz": -240
    },
    "id": "2ngnoUy2V1xD",
    "outputId": "9decb19e-85bd-4b54-916c-85b998ed0096"
   },
   "outputs": [
    {
     "data": {
      "text/plain": [
       "array([[0.        , 0.37139068],\n",
       "       [0.00499994, 0.55708601],\n",
       "       [0.9999875 , 0.74278135]])"
      ]
     },
     "execution_count": 22,
     "metadata": {},
     "output_type": "execute_result"
    }
   ],
   "source": [
    "preprocessing.normalize(example, axis=0)"
   ]
  },
  {
   "cell_type": "markdown",
   "metadata": {
    "id": "5fd3BTtAW5Vo"
   },
   "source": [
    "Произведём нормализацию наших данных."
   ]
  },
  {
   "cell_type": "code",
   "execution_count": 23,
   "metadata": {
    "colab": {
     "base_uri": "https://localhost:8080/",
     "height": 260
    },
    "executionInfo": {
     "elapsed": 10,
     "status": "ok",
     "timestamp": 1656839930801,
     "user": {
      "displayName": "Маргарита Широбокова",
      "userId": "15867443346324107010"
     },
     "user_tz": -240
    },
    "id": "G83C3XF2UYXl",
    "outputId": "09b4fe5a-61a5-4fac-baed-d86146844b11"
   },
   "outputs": [
    {
     "data": {
      "text/html": [
       "<div>\n",
       "<style scoped>\n",
       "    .dataframe tbody tr th:only-of-type {\n",
       "        vertical-align: middle;\n",
       "    }\n",
       "\n",
       "    .dataframe tbody tr th {\n",
       "        vertical-align: top;\n",
       "    }\n",
       "\n",
       "    .dataframe thead th {\n",
       "        text-align: right;\n",
       "    }\n",
       "</style>\n",
       "<table border=\"1\" class=\"dataframe\">\n",
       "  <thead>\n",
       "    <tr style=\"text-align: right;\">\n",
       "      <th></th>\n",
       "      <th>YearsExperience</th>\n",
       "      <th>Floor</th>\n",
       "      <th>Type</th>\n",
       "      <th>Salary</th>\n",
       "      <th>x</th>\n",
       "    </tr>\n",
       "  </thead>\n",
       "  <tbody>\n",
       "    <tr>\n",
       "      <th>0</th>\n",
       "      <td>0.033464</td>\n",
       "      <td>0.260569</td>\n",
       "      <td>0.288675</td>\n",
       "      <td>0.091122</td>\n",
       "      <td>0.299985</td>\n",
       "    </tr>\n",
       "    <tr>\n",
       "      <th>1</th>\n",
       "      <td>0.039549</td>\n",
       "      <td>0.246093</td>\n",
       "      <td>0.288675</td>\n",
       "      <td>0.107015</td>\n",
       "      <td>0.267579</td>\n",
       "    </tr>\n",
       "    <tr>\n",
       "      <th>2</th>\n",
       "      <td>0.045633</td>\n",
       "      <td>0.144760</td>\n",
       "      <td>0.000000</td>\n",
       "      <td>0.087388</td>\n",
       "      <td>0.092588</td>\n",
       "    </tr>\n",
       "    <tr>\n",
       "      <th>3</th>\n",
       "      <td>0.060844</td>\n",
       "      <td>0.188189</td>\n",
       "      <td>0.000000</td>\n",
       "      <td>0.170290</td>\n",
       "      <td>0.156474</td>\n",
       "    </tr>\n",
       "    <tr>\n",
       "      <th>4</th>\n",
       "      <td>0.066928</td>\n",
       "      <td>0.014476</td>\n",
       "      <td>0.000000</td>\n",
       "      <td>0.092391</td>\n",
       "      <td>0.000926</td>\n",
       "    </tr>\n",
       "  </tbody>\n",
       "</table>\n",
       "</div>"
      ],
      "text/plain": [
       "   YearsExperience     Floor      Type    Salary         x\n",
       "0         0.033464  0.260569  0.288675  0.091122  0.299985\n",
       "1         0.039549  0.246093  0.288675  0.107015  0.267579\n",
       "2         0.045633  0.144760  0.000000  0.087388  0.092588\n",
       "3         0.060844  0.188189  0.000000  0.170290  0.156474\n",
       "4         0.066928  0.014476  0.000000  0.092391  0.000926"
      ]
     },
     "execution_count": 23,
     "metadata": {},
     "output_type": "execute_result"
    }
   ],
   "source": [
    "from sklearn import preprocessing\n",
    "\n",
    "d = preprocessing.normalize(df, axis=0)\n",
    "scaled_df = pd.DataFrame(d, columns=df.columns)\n",
    "scaled_df.head()"
   ]
  },
  {
   "cell_type": "code",
   "execution_count": 24,
   "metadata": {
    "id": "i6CFdWX0WOBU"
   },
   "outputs": [],
   "source": [
    "train_df, test_df  = train_test_split(scaled_df, test_size=0.3, random_state=3)"
   ]
  },
  {
   "cell_type": "code",
   "execution_count": 25,
   "metadata": {
    "id": "ZlkqTOzEWOEF"
   },
   "outputs": [],
   "source": [
    "train_df = train_df.sort_values(by='YearsExperience', ascending=False)\n",
    "train_X = train_df[['YearsExperience', 'Floor', 'Type', 'x']]\n",
    "train_y = train_df[['Salary']]\n",
    "\n",
    "test_df = test_df.sort_values(by='YearsExperience', ascending=False)\n",
    "test_X = test_df[['YearsExperience', 'Floor', 'Type', 'x']]\n",
    "test_y = test_df[['Salary']]"
   ]
  },
  {
   "cell_type": "code",
   "execution_count": 26,
   "metadata": {
    "colab": {
     "base_uri": "https://localhost:8080/"
    },
    "executionInfo": {
     "elapsed": 403,
     "status": "ok",
     "timestamp": 1656840019956,
     "user": {
      "displayName": "Маргарита Широбокова",
      "userId": "15867443346324107010"
     },
     "user_tz": -240
    },
    "id": "Duiq1KZ7WOGi",
    "outputId": "5848b27e-6544-4237-9a8b-4cd4d227150f"
   },
   "outputs": [
    {
     "name": "stdout",
     "output_type": "stream",
     "text": [
      "----- lambda = 1e-07 -----\n",
      "0.5880177110819766\n",
      "0.261439747197183\n",
      "----- lambda = 1e-06 -----\n",
      "0.5880177071454734\n",
      "0.2615088222981532\n",
      "----- lambda = 1e-05 -----\n",
      "0.5880173152121784\n",
      "0.26219725045418485\n",
      "----- lambda = 0.0001 -----\n",
      "0.5879797790140981\n",
      "0.2688562747594192\n",
      "----- lambda = 0.001 -----\n",
      "0.5854326622531717\n",
      "0.31833030794961537\n",
      "----- lambda = 0.01 -----\n",
      "0.5524439588412444\n",
      "0.4192029149476896\n"
     ]
    }
   ],
   "source": [
    "coef = []\n",
    "for i in range(-7, -1):\n",
    "    alpha = 10**i\n",
    "    ridge_regression = Ridge(alpha=alpha)  # alpha — величина регуляризации\n",
    "\n",
    "    # обучение\n",
    "    ridge_regression.fit(train_X, train_y)\n",
    "\n",
    "    coef.extend(list(ridge_regression.coef_))\n",
    "\n",
    "    # вывод точности предсказания\n",
    "    print('-'*5, 'lambda =', alpha, '-'*5)\n",
    "    print(ridge_regression.score(train_X, train_y))\n",
    "    print(ridge_regression.score(test_X, test_y))"
   ]
  },
  {
   "cell_type": "code",
   "execution_count": 27,
   "metadata": {
    "colab": {
     "base_uri": "https://localhost:8080/",
     "height": 300
    },
    "executionInfo": {
     "elapsed": 10,
     "status": "ok",
     "timestamp": 1656839931315,
     "user": {
      "displayName": "Маргарита Широбокова",
      "userId": "15867443346324107010"
     },
     "user_tz": -240
    },
    "id": "3M6imvUJWOIb",
    "outputId": "939024ad-5fe2-4eec-d668-fa22115c94e5"
   },
   "outputs": [
    {
     "data": {
      "text/html": [
       "<div>\n",
       "<style scoped>\n",
       "    .dataframe tbody tr th:only-of-type {\n",
       "        vertical-align: middle;\n",
       "    }\n",
       "\n",
       "    .dataframe tbody tr th {\n",
       "        vertical-align: top;\n",
       "    }\n",
       "\n",
       "    .dataframe thead th {\n",
       "        text-align: right;\n",
       "    }\n",
       "</style>\n",
       "<table border=\"1\" class=\"dataframe\">\n",
       "  <thead>\n",
       "    <tr style=\"text-align: right;\">\n",
       "      <th></th>\n",
       "      <th>YearsExperience</th>\n",
       "      <th>Floor</th>\n",
       "      <th>Type</th>\n",
       "      <th>x</th>\n",
       "    </tr>\n",
       "  </thead>\n",
       "  <tbody>\n",
       "    <tr>\n",
       "      <th>0</th>\n",
       "      <td>0.509974</td>\n",
       "      <td>1.005432</td>\n",
       "      <td>0.055574</td>\n",
       "      <td>-0.822513</td>\n",
       "    </tr>\n",
       "    <tr>\n",
       "      <th>1</th>\n",
       "      <td>0.509980</td>\n",
       "      <td>1.005210</td>\n",
       "      <td>0.055568</td>\n",
       "      <td>-0.822346</td>\n",
       "    </tr>\n",
       "    <tr>\n",
       "      <th>2</th>\n",
       "      <td>0.510045</td>\n",
       "      <td>1.002988</td>\n",
       "      <td>0.055509</td>\n",
       "      <td>-0.820672</td>\n",
       "    </tr>\n",
       "    <tr>\n",
       "      <th>3</th>\n",
       "      <td>0.510671</td>\n",
       "      <td>0.981293</td>\n",
       "      <td>0.054933</td>\n",
       "      <td>-0.804322</td>\n",
       "    </tr>\n",
       "    <tr>\n",
       "      <th>4</th>\n",
       "      <td>0.515128</td>\n",
       "      <td>0.806242</td>\n",
       "      <td>0.050141</td>\n",
       "      <td>-0.672311</td>\n",
       "    </tr>\n",
       "    <tr>\n",
       "      <th>5</th>\n",
       "      <td>0.508236</td>\n",
       "      <td>0.283210</td>\n",
       "      <td>0.031046</td>\n",
       "      <td>-0.274886</td>\n",
       "    </tr>\n",
       "  </tbody>\n",
       "</table>\n",
       "</div>"
      ],
      "text/plain": [
       "   YearsExperience     Floor      Type         x\n",
       "0         0.509974  1.005432  0.055574 -0.822513\n",
       "1         0.509980  1.005210  0.055568 -0.822346\n",
       "2         0.510045  1.002988  0.055509 -0.820672\n",
       "3         0.510671  0.981293  0.054933 -0.804322\n",
       "4         0.515128  0.806242  0.050141 -0.672311\n",
       "5         0.508236  0.283210  0.031046 -0.274886"
      ]
     },
     "execution_count": 27,
     "metadata": {},
     "output_type": "execute_result"
    }
   ],
   "source": [
    "coef = pd.DataFrame(coef, columns=train_X.columns)\n",
    "coef"
   ]
  },
  {
   "cell_type": "code",
   "execution_count": 28,
   "metadata": {
    "colab": {
     "base_uri": "https://localhost:8080/",
     "height": 288
    },
    "executionInfo": {
     "elapsed": 10,
     "status": "ok",
     "timestamp": 1656839931315,
     "user": {
      "displayName": "Маргарита Широбокова",
      "userId": "15867443346324107010"
     },
     "user_tz": -240
    },
    "id": "uW-Pz1jqWOK-",
    "outputId": "675d1cf7-d016-446e-821f-627cd48cbc9d"
   },
   "outputs": [
    {
     "data": {
      "text/plain": [
       "<Axes: >"
      ]
     },
     "execution_count": 28,
     "metadata": {},
     "output_type": "execute_result"
    },
    {
     "data": {
      "image/png": "[encoded data removed]",
      "text/plain": [
       "<Figure size 640x480 with 1 Axes>"
      ]
     },
     "metadata": {},
     "output_type": "display_data"
    }
   ],
   "source": [
    "coef.plot()"
   ]
  },
  {
   "cell_type": "markdown",
   "metadata": {
    "id": "8peICxg7Wlly"
   },
   "source": [
    "Посмотрим, как изменились предсказания модели."
   ]
  },
  {
   "cell_type": "code",
   "execution_count": 29,
   "metadata": {
    "colab": {
     "base_uri": "https://localhost:8080/",
     "height": 280
    },
    "executionInfo": {
     "elapsed": 861,
     "status": "ok",
     "timestamp": 1656840025419,
     "user": {
      "displayName": "Маргарита Широбокова",
      "userId": "15867443346324107010"
     },
     "user_tz": -240
    },
    "id": "wKohhV9JWkPf",
    "outputId": "63c4fd93-d5da-49e9-f32c-50c051b5efd1"
   },
   "outputs": [
    {
     "data": {
      "image/png": "[encoded data removed]",
      "text/plain": [
       "<Figure size 640x480 with 1 Axes>"
      ]
     },
     "metadata": {},
     "output_type": "display_data"
    }
   ],
   "source": [
    "y_predict_train = ridge_regression.predict(train_X)\n",
    "\n",
    "plt.scatter(train_X['YearsExperience'], train_y, s=10, c='b')\n",
    "plt.scatter(test_X['YearsExperience'], test_y, s=10, c='r')\n",
    "plt.plot(train_X['YearsExperience'], y_predict_train, c='g')\n",
    "plt.xlabel('YearsExperience')\n",
    "plt.ylabel('Salary')\n",
    "plt.show()"
   ]
  },
  {
   "cell_type": "markdown",
   "metadata": {
    "id": "K_gDIH7XPKom"
   },
   "source": [
    "Видим, что при нормализации данных и правильном подборе параметра `lambda` с помощью регуляризации можно повысить её качество."
   ]
  },
  {
   "cell_type": "code",
   "execution_count": null,
   "metadata": {},
   "outputs": [],
   "source": []
  },
  {
   "cell_type": "code",
   "execution_count": null,
   "metadata": {},
   "outputs": [],
   "source": []
  }
 ],
 "metadata": {
  "colab": {
   "collapsed_sections": [],
   "name": "5.3 Гребневая регрессия или L2-регуляризация",
   "provenance": []
  },
  "kernelspec": {
   "display_name": "Python 3 (ipykernel)",
   "language": "python",
   "name": "python3"
  },
  "language_info": {
   "codemirror_mode": {
    "name": "ipython",
    "version": 3
   },
   "file_extension": ".py",
   "mimetype": "text/x-python",
   "name": "python",
   "nbconvert_exporter": "python",
   "pygments_lexer": "ipython3",
   "version": "3.10.9"
  }
 },
 "nbformat": 4,
 "nbformat_minor": 1
}
