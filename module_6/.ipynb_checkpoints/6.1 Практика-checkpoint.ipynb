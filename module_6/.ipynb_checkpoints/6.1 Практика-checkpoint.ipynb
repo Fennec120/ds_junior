{
 "cells": [
  {
   "cell_type": "markdown",
   "metadata": {
    "id": "JDUXJoRRRlvf"
   },
   "source": [
    "У нас есть два объекта, описанных десятью признаками:"
   ]
  },
  {
   "cell_type": "code",
   "execution_count": null,
   "metadata": {
    "id": "6V66vYHV9BlT"
   },
   "outputs": [],
   "source": [
    "A = [2, 1, 2, 1, 2, 1, 2, 1, 10, 10]\n",
    "B = [3, 2, 5, 2, 2, 5, 4, 5, 6, 1]"
   ]
  },
  {
   "cell_type": "markdown",
   "metadata": {
    "id": "REhRZXAoRzTQ"
   },
   "source": [
    "Нужно определить, к какому объекту — А или В — ближе объект X со следующими признаками:"
   ]
  },
  {
   "cell_type": "code",
   "execution_count": null,
   "metadata": {
    "id": "37RROnapR5sq"
   },
   "outputs": [],
   "source": [
    "X = [2, 2, 2, 2, 2, 2, 2, 2, 2, 2]"
   ]
  },
  {
   "cell_type": "markdown",
   "metadata": {
    "id": "00OBDGOLRkVO"
   },
   "source": [
    "Для этого:\n",
    "\n",
    "*   рассчитайте евклидово расстояние между объектами A и Х тремя способами: проведите ручные расчёты, реализуйте с помощью python и сверьте результаты с функцией distance библиотеки scipy.spatial;\n",
    "*   рассчитайте евклидово расстояние между объектами B и Х тремя способами: проведите ручные расчеты, реализуйте с помощью python и сверьте результаты с функцией distance библиотеки scipy.spatial;\n",
    "*   определите, какой объект ближе и сделайте выводы."
   ]
  },
  {
   "cell_type": "code",
   "execution_count": null,
   "metadata": {
    "id": "N29q6OIDRm0V"
   },
   "outputs": [],
   "source": []
  },
  {
   "cell_type": "code",
   "execution_count": null,
   "metadata": {
    "id": "AM6zo4l9Rm3x"
   },
   "outputs": [],
   "source": []
  },
  {
   "cell_type": "code",
   "execution_count": null,
   "metadata": {
    "id": "h-LAqDjMRm69"
   },
   "outputs": [],
   "source": []
  },
  {
   "cell_type": "code",
   "execution_count": null,
   "metadata": {
    "id": "Yf4AV7xsRm94"
   },
   "outputs": [],
   "source": []
  },
  {
   "cell_type": "code",
   "execution_count": null,
   "metadata": {
    "id": "RrvyBICQRnA4"
   },
   "outputs": [],
   "source": []
  },
  {
   "cell_type": "code",
   "execution_count": null,
   "metadata": {
    "id": "RAn0DERLRnDm"
   },
   "outputs": [],
   "source": []
  },
  {
   "cell_type": "code",
   "execution_count": null,
   "metadata": {
    "id": "hgiAPofsRnGr"
   },
   "outputs": [],
   "source": []
  },
  {
   "cell_type": "code",
   "execution_count": null,
   "metadata": {
    "id": "ibyAnRoORnJn"
   },
   "outputs": [],
   "source": []
  },
  {
   "cell_type": "markdown",
   "metadata": {
    "id": "XKDic5hiSo56"
   },
   "source": [
    "**Решение**"
   ]
  },
  {
   "cell_type": "markdown",
   "metadata": {
    "id": "_APYzVZASG7-"
   },
   "source": [
    "Евклидово расстояние между объектами A и Х:"
   ]
  },
  {
   "cell_type": "code",
   "execution_count": null,
   "metadata": {
    "colab": {
     "base_uri": "https://localhost:8080/"
    },
    "executionInfo": {
     "elapsed": 286,
     "status": "ok",
     "timestamp": 1658147620781,
     "user": {
      "displayName": "Маргарита Широбокова",
      "userId": "15867443346324107010"
     },
     "user_tz": -240
    },
    "id": "VSW0mDegSKh8",
    "outputId": "874a3f67-576a-4baa-8de7-c0f0dfc676d9"
   },
   "outputs": [
    {
     "data": {
      "text/plain": [
       "11.489125293076057"
      ]
     },
     "execution_count": 12,
     "metadata": {},
     "output_type": "execute_result"
    }
   ],
   "source": [
    "p_A_X = sum([(a-x)**2 for a, x in zip(A, X)])**(1/2)\n",
    "p_A_X"
   ]
  },
  {
   "cell_type": "markdown",
   "metadata": {
    "id": "QwUbi7MBStlh"
   },
   "source": [
    "Или можно воспользоваться библиотекой [scipy](https://scipy.org), предназначенной для выполнения научных и инженерных расчётов:\n",
    "\n"
   ]
  },
  {
   "cell_type": "code",
   "execution_count": null,
   "metadata": {
    "id": "LbiyovQHU0B4"
   },
   "outputs": [],
   "source": [
    "from scipy.spatial import distance"
   ]
  },
  {
   "cell_type": "code",
   "execution_count": null,
   "metadata": {
    "colab": {
     "base_uri": "https://localhost:8080/"
    },
    "executionInfo": {
     "elapsed": 3,
     "status": "ok",
     "timestamp": 1658147957464,
     "user": {
      "displayName": "Маргарита Широбокова",
      "userId": "15867443346324107010"
     },
     "user_tz": -240
    },
    "id": "7qpn770wUd55",
    "outputId": "54797500-76b1-4509-eb4a-3dc2233ddd83"
   },
   "outputs": [
    {
     "data": {
      "text/plain": [
       "11.489125293076057"
      ]
     },
     "execution_count": 18,
     "metadata": {},
     "output_type": "execute_result"
    }
   ],
   "source": [
    "distance.euclidean(A, X)"
   ]
  },
  {
   "cell_type": "markdown",
   "metadata": {
    "id": "8EZCaObOSj1w"
   },
   "source": [
    "Евклидово расстояние между объектами B и Х:"
   ]
  },
  {
   "cell_type": "code",
   "execution_count": null,
   "metadata": {
    "colab": {
     "base_uri": "https://localhost:8080/"
    },
    "executionInfo": {
     "elapsed": 303,
     "status": "ok",
     "timestamp": 1658147645382,
     "user": {
      "displayName": "Маргарита Широбокова",
      "userId": "15867443346324107010"
     },
     "user_tz": -240
    },
    "id": "vrOkKoODShUE",
    "outputId": "4f5903d5-5dd9-4792-d36b-c2f236294c30"
   },
   "outputs": [
    {
     "data": {
      "text/plain": [
       "7.0"
      ]
     },
     "execution_count": 13,
     "metadata": {},
     "output_type": "execute_result"
    }
   ],
   "source": [
    "p_B_X = sum([(b-x)**2 for b, x in zip(B, X)])**(1/2)\n",
    "p_B_X"
   ]
  },
  {
   "cell_type": "code",
   "execution_count": null,
   "metadata": {
    "colab": {
     "base_uri": "https://localhost:8080/"
    },
    "executionInfo": {
     "elapsed": 293,
     "status": "ok",
     "timestamp": 1658148063614,
     "user": {
      "displayName": "Маргарита Широбокова",
      "userId": "15867443346324107010"
     },
     "user_tz": -240
    },
    "id": "68Fk1IQ_UY68",
    "outputId": "cb71d4d2-badd-4a44-b334-dba4264a1b21"
   },
   "outputs": [
    {
     "data": {
      "text/plain": [
       "7.0"
      ]
     },
     "execution_count": 19,
     "metadata": {},
     "output_type": "execute_result"
    }
   ],
   "source": [
    "distance.euclidean(B, X)"
   ]
  }
 ],
 "metadata": {
  "colab": {
   "collapsed_sections": [],
   "name": "Видео 1. Практика.ipynb",
   "provenance": []
  },
  "kernelspec": {
   "display_name": "Python 3 (ipykernel)",
   "language": "python",
   "name": "python3"
  },
  "language_info": {
   "codemirror_mode": {
    "name": "ipython",
    "version": 3
   },
   "file_extension": ".py",
   "mimetype": "text/x-python",
   "name": "python",
   "nbconvert_exporter": "python",
   "pygments_lexer": "ipython3",
   "version": "3.10.9"
  }
 },
 "nbformat": 4,
 "nbformat_minor": 1
}
