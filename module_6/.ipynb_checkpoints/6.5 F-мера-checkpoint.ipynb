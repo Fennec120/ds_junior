{
 "cells": [
  {
   "cell_type": "code",
   "execution_count": 1,
   "metadata": {
    "executionInfo": {
     "elapsed": 579,
     "status": "ok",
     "timestamp": 1658054290304,
     "user": {
      "displayName": "Валерия Чурсина",
      "userId": "11879646019918403150"
     },
     "user_tz": -180
    },
    "id": "VpvbyQs8uaY1"
   },
   "outputs": [],
   "source": [
    "from sklearn.metrics import classification_report"
   ]
  },
  {
   "cell_type": "code",
   "execution_count": 2,
   "metadata": {
    "executionInfo": {
     "elapsed": 4,
     "status": "ok",
     "timestamp": 1658054332501,
     "user": {
      "displayName": "Валерия Чурсина",
      "userId": "11879646019918403150"
     },
     "user_tz": -180
    },
    "id": "hrx7TeAKvPXr"
   },
   "outputs": [],
   "source": [
    "y_true = [0, 1, 2, 2, 2]\n",
    "y_pred = [0, 0, 2, 2, 1]"
   ]
  },
  {
   "cell_type": "code",
   "execution_count": 3,
   "metadata": {
    "executionInfo": {
     "elapsed": 404,
     "status": "ok",
     "timestamp": 1658054364292,
     "user": {
      "displayName": "Валерия Чурсина",
      "userId": "11879646019918403150"
     },
     "user_tz": -180
    },
    "id": "_GllPLipvWjI"
   },
   "outputs": [],
   "source": [
    "target_names = ['class_0', 'class_1', 'class_2']"
   ]
  },
  {
   "cell_type": "code",
   "execution_count": 4,
   "metadata": {
    "colab": {
     "base_uri": "https://localhost:8080/"
    },
    "executionInfo": {
     "elapsed": 330,
     "status": "ok",
     "timestamp": 1658054408364,
     "user": {
      "displayName": "Валерия Чурсина",
      "userId": "11879646019918403150"
     },
     "user_tz": -180
    },
    "id": "N30TBNXkvfV1",
    "outputId": "99027511-0871-4018-cfb6-f642f8dfae24"
   },
   "outputs": [
    {
     "name": "stdout",
     "output_type": "stream",
     "text": [
      "              precision    recall  f1-score   support\n",
      "\n",
      "     class_0       0.50      1.00      0.67         1\n",
      "     class_1       0.00      0.00      0.00         1\n",
      "     class_2       1.00      0.67      0.80         3\n",
      "\n",
      "    accuracy                           0.60         5\n",
      "   macro avg       0.50      0.56      0.49         5\n",
      "weighted avg       0.70      0.60      0.61         5\n",
      "\n"
     ]
    }
   ],
   "source": [
    "res = classification_report(y_true, y_pred, target_names=target_names)\n",
    "print(res)"
   ]
  },
  {
   "cell_type": "code",
   "execution_count": 6,
   "metadata": {
    "id": "7LQnU1I5vyuj"
   },
   "outputs": [],
   "source": [
    "y_true = [0, 1, 1, 1, 1]\n",
    "y_pred = [0, 0, 1, 1, 1]"
   ]
  },
  {
   "cell_type": "code",
   "execution_count": 7,
   "metadata": {
    "executionInfo": {
     "elapsed": 3,
     "status": "ok",
     "timestamp": 1658054534663,
     "user": {
      "displayName": "Валерия Чурсина",
      "userId": "11879646019918403150"
     },
     "user_tz": -180
    },
    "id": "rdKFbnUrv2sC"
   },
   "outputs": [],
   "source": [
    "TP = 3\n",
    "TN = 1\n",
    "FP = 0\n",
    "FN = 1"
   ]
  },
  {
   "cell_type": "code",
   "execution_count": 8,
   "metadata": {
    "colab": {
     "base_uri": "https://localhost:8080/"
    },
    "executionInfo": {
     "elapsed": 7,
     "status": "ok",
     "timestamp": 1658054564488,
     "user": {
      "displayName": "Валерия Чурсина",
      "userId": "11879646019918403150"
     },
     "user_tz": -180
    },
    "id": "sA2Xj1bwwIbR",
    "outputId": "90c3529d-19fc-4705-8d0b-9600eef0377e"
   },
   "outputs": [
    {
     "data": {
      "text/plain": [
       "1.0"
      ]
     },
     "execution_count": 8,
     "metadata": {},
     "output_type": "execute_result"
    }
   ],
   "source": [
    "precision = TP/(TP+FP)\n",
    "precision"
   ]
  },
  {
   "cell_type": "code",
   "execution_count": 9,
   "metadata": {
    "colab": {
     "base_uri": "https://localhost:8080/"
    },
    "executionInfo": {
     "elapsed": 5,
     "status": "ok",
     "timestamp": 1658054583771,
     "user": {
      "displayName": "Валерия Чурсина",
      "userId": "11879646019918403150"
     },
     "user_tz": -180
    },
    "id": "rsnZS_dXwOXE",
    "outputId": "30fc3a49-cd4a-4e25-fa27-a50feb2b6192"
   },
   "outputs": [
    {
     "data": {
      "text/plain": [
       "0.75"
      ]
     },
     "execution_count": 9,
     "metadata": {},
     "output_type": "execute_result"
    }
   ],
   "source": [
    "recall = TP/(TP+FN)\n",
    "recall"
   ]
  },
  {
   "cell_type": "code",
   "execution_count": 10,
   "metadata": {
    "colab": {
     "base_uri": "https://localhost:8080/"
    },
    "executionInfo": {
     "elapsed": 4,
     "status": "ok",
     "timestamp": 1658054621445,
     "user": {
      "displayName": "Валерия Чурсина",
      "userId": "11879646019918403150"
     },
     "user_tz": -180
    },
    "id": "uE8Pth5swUul",
    "outputId": "ec7ee701-f25c-4819-edca-f62f2c9143a7"
   },
   "outputs": [
    {
     "data": {
      "text/plain": [
       "0.8571428571428571"
      ]
     },
     "execution_count": 10,
     "metadata": {},
     "output_type": "execute_result"
    }
   ],
   "source": [
    "f1 = 2*precision*recall/(precision+recall)\n",
    "f1"
   ]
  },
  {
   "cell_type": "code",
   "execution_count": 11,
   "metadata": {
    "id": "9rwTZMELwgVh"
   },
   "outputs": [],
   "source": [
    "y_true = [0, 1, 0, 0, 0]\n",
    "y_pred = [0, 0, 0, 0, 1]"
   ]
  },
  {
   "cell_type": "code",
   "execution_count": 12,
   "metadata": {
    "executionInfo": {
     "elapsed": 343,
     "status": "ok",
     "timestamp": 1658054693963,
     "user": {
      "displayName": "Валерия Чурсина",
      "userId": "11879646019918403150"
     },
     "user_tz": -180
    },
    "id": "aLhijM7fwn-L"
   },
   "outputs": [],
   "source": [
    "TP = 0\n",
    "TN = 3\n",
    "FP = 1\n",
    "FN = 1"
   ]
  },
  {
   "cell_type": "code",
   "execution_count": 13,
   "metadata": {
    "colab": {
     "base_uri": "https://localhost:8080/"
    },
    "executionInfo": {
     "elapsed": 357,
     "status": "ok",
     "timestamp": 1658054707015,
     "user": {
      "displayName": "Валерия Чурсина",
      "userId": "11879646019918403150"
     },
     "user_tz": -180
    },
    "id": "mj56nEmwwv-Q",
    "outputId": "241ddadd-2d9a-45d4-a742-898752d97453"
   },
   "outputs": [
    {
     "data": {
      "text/plain": [
       "0.0"
      ]
     },
     "execution_count": 13,
     "metadata": {},
     "output_type": "execute_result"
    }
   ],
   "source": [
    "precision = TP/(TP+FP)\n",
    "precision"
   ]
  },
  {
   "cell_type": "code",
   "execution_count": 14,
   "metadata": {
    "colab": {
     "base_uri": "https://localhost:8080/"
    },
    "executionInfo": {
     "elapsed": 5,
     "status": "ok",
     "timestamp": 1658054716276,
     "user": {
      "displayName": "Валерия Чурсина",
      "userId": "11879646019918403150"
     },
     "user_tz": -180
    },
    "id": "E7WuVTo7wyMa",
    "outputId": "b22d33e5-5210-404f-b5c6-2fad1d4078cb"
   },
   "outputs": [
    {
     "data": {
      "text/plain": [
       "0.0"
      ]
     },
     "execution_count": 14,
     "metadata": {},
     "output_type": "execute_result"
    }
   ],
   "source": [
    "recall = TP/(TP+FN)\n",
    "recall"
   ]
  },
  {
   "cell_type": "code",
   "execution_count": 15,
   "metadata": {
    "colab": {
     "base_uri": "https://localhost:8080/",
     "height": 183
    },
    "executionInfo": {
     "elapsed": 9,
     "status": "error",
     "timestamp": 1658054729381,
     "user": {
      "displayName": "Валерия Чурсина",
      "userId": "11879646019918403150"
     },
     "user_tz": -180
    },
    "id": "MUyYm-pow1Wb",
    "outputId": "95757a74-3cef-4722-e86d-379959536b5d"
   },
   "outputs": [
    {
     "ename": "ZeroDivisionError",
     "evalue": "float division by zero",
     "output_type": "error",
     "traceback": [
      "\u001b[1;31m---------------------------------------------------------------------------\u001b[0m",
      "\u001b[1;31mZeroDivisionError\u001b[0m                         Traceback (most recent call last)",
      "Cell \u001b[1;32mIn[15], line 1\u001b[0m\n\u001b[1;32m----> 1\u001b[0m f1 \u001b[38;5;241m=\u001b[39m \u001b[38;5;241;43m2\u001b[39;49m\u001b[38;5;241;43m*\u001b[39;49m\u001b[43mprecision\u001b[49m\u001b[38;5;241;43m*\u001b[39;49m\u001b[43mrecall\u001b[49m\u001b[38;5;241;43m/\u001b[39;49m\u001b[43m(\u001b[49m\u001b[43mprecision\u001b[49m\u001b[38;5;241;43m+\u001b[39;49m\u001b[43mrecall\u001b[49m\u001b[43m)\u001b[49m\n\u001b[0;32m      2\u001b[0m f1\n",
      "\u001b[1;31mZeroDivisionError\u001b[0m: float division by zero"
     ]
    }
   ],
   "source": [
    "f1 = 2*precision*recall/(precision+recall)\n",
    "f1"
   ]
  },
  {
   "cell_type": "code",
   "execution_count": 16,
   "metadata": {
    "colab": {
     "base_uri": "https://localhost:8080/"
    },
    "executionInfo": {
     "elapsed": 395,
     "status": "ok",
     "timestamp": 1658054751962,
     "user": {
      "displayName": "Валерия Чурсина",
      "userId": "11879646019918403150"
     },
     "user_tz": -180
    },
    "id": "VC_38U8qw5Jc",
    "outputId": "25122a72-4a70-4458-fd0b-8897c4a1c75b"
   },
   "outputs": [
    {
     "data": {
      "text/plain": [
       "0.0"
      ]
     },
     "execution_count": 16,
     "metadata": {},
     "output_type": "execute_result"
    }
   ],
   "source": [
    "f1 = 2*precision*recall/(precision+recall+0.0000000000000001)\n",
    "f1"
   ]
  },
  {
   "cell_type": "code",
   "execution_count": 17,
   "metadata": {
    "id": "FMr_HJ7uxAH_"
   },
   "outputs": [],
   "source": [
    "y_true = [0, 0, 1, 1, 1]\n",
    "y_pred = [0, 0, 1, 1, 0]"
   ]
  },
  {
   "cell_type": "code",
   "execution_count": 18,
   "metadata": {
    "executionInfo": {
     "elapsed": 375,
     "status": "ok",
     "timestamp": 1658054816996,
     "user": {
      "displayName": "Валерия Чурсина",
      "userId": "11879646019918403150"
     },
     "user_tz": -180
    },
    "id": "mzsHWNYexHUM"
   },
   "outputs": [],
   "source": [
    "TP = 2\n",
    "TN = 2\n",
    "FP = 0\n",
    "FN = 1"
   ]
  },
  {
   "cell_type": "code",
   "execution_count": 19,
   "metadata": {
    "colab": {
     "base_uri": "https://localhost:8080/"
    },
    "executionInfo": {
     "elapsed": 6,
     "status": "ok",
     "timestamp": 1658054839340,
     "user": {
      "displayName": "Валерия Чурсина",
      "userId": "11879646019918403150"
     },
     "user_tz": -180
    },
    "id": "QsznmUihxN4i",
    "outputId": "b34730a8-2719-4017-832b-ff82ce0a0e1f"
   },
   "outputs": [
    {
     "data": {
      "text/plain": [
       "1.0"
      ]
     },
     "execution_count": 19,
     "metadata": {},
     "output_type": "execute_result"
    }
   ],
   "source": [
    "precision = TP/(TP+FP)\n",
    "precision"
   ]
  },
  {
   "cell_type": "code",
   "execution_count": 20,
   "metadata": {
    "colab": {
     "base_uri": "https://localhost:8080/"
    },
    "executionInfo": {
     "elapsed": 4,
     "status": "ok",
     "timestamp": 1658054850121,
     "user": {
      "displayName": "Валерия Чурсина",
      "userId": "11879646019918403150"
     },
     "user_tz": -180
    },
    "id": "Gb_6qVxAxSzg",
    "outputId": "287dcba3-d7f3-4164-e49a-d75031f53501"
   },
   "outputs": [
    {
     "data": {
      "text/plain": [
       "0.6666666666666666"
      ]
     },
     "execution_count": 20,
     "metadata": {},
     "output_type": "execute_result"
    }
   ],
   "source": [
    "recall = TP/(TP+FN)\n",
    "recall"
   ]
  },
  {
   "cell_type": "code",
   "execution_count": 21,
   "metadata": {
    "colab": {
     "base_uri": "https://localhost:8080/"
    },
    "executionInfo": {
     "elapsed": 5,
     "status": "ok",
     "timestamp": 1658054867175,
     "user": {
      "displayName": "Валерия Чурсина",
      "userId": "11879646019918403150"
     },
     "user_tz": -180
    },
    "id": "47qRI6FxxW_U",
    "outputId": "13efa5f2-17cf-43a2-aea6-ac8f2eed8e3d"
   },
   "outputs": [
    {
     "data": {
      "text/plain": [
       "0.8"
      ]
     },
     "execution_count": 21,
     "metadata": {},
     "output_type": "execute_result"
    }
   ],
   "source": [
    "f1 = 2*precision*recall/(precision+recall)\n",
    "f1"
   ]
  },
  {
   "cell_type": "code",
   "execution_count": 22,
   "metadata": {
    "colab": {
     "base_uri": "https://localhost:8080/"
    },
    "executionInfo": {
     "elapsed": 326,
     "status": "ok",
     "timestamp": 1658054877924,
     "user": {
      "displayName": "Валерия Чурсина",
      "userId": "11879646019918403150"
     },
     "user_tz": -180
    },
    "id": "RrvDTt7gxY_-",
    "outputId": "53408d5e-a702-46bb-cb70-f5b2bcceceec"
   },
   "outputs": [
    {
     "name": "stdout",
     "output_type": "stream",
     "text": [
      "              precision    recall  f1-score   support\n",
      "\n",
      "     class_0       0.50      1.00      0.67         1\n",
      "     class_1       0.00      0.00      0.00         1\n",
      "     class_2       1.00      0.67      0.80         3\n",
      "\n",
      "    accuracy                           0.60         5\n",
      "   macro avg       0.50      0.56      0.49         5\n",
      "weighted avg       0.70      0.60      0.61         5\n",
      "\n"
     ]
    }
   ],
   "source": [
    "print(res)"
   ]
  },
  {
   "cell_type": "code",
   "execution_count": 23,
   "metadata": {
    "colab": {
     "base_uri": "https://localhost:8080/"
    },
    "executionInfo": {
     "elapsed": 355,
     "status": "ok",
     "timestamp": 1658054914814,
     "user": {
      "displayName": "Валерия Чурсина",
      "userId": "11879646019918403150"
     },
     "user_tz": -180
    },
    "id": "QKjgjB57xf_t",
    "outputId": "49faa13a-fd6a-4607-a7c6-1f0225703255"
   },
   "outputs": [
    {
     "data": {
      "text/plain": [
       "0.5"
      ]
     },
     "execution_count": 23,
     "metadata": {},
     "output_type": "execute_result"
    }
   ],
   "source": [
    "(0.5+0.0+1.0)/3"
   ]
  },
  {
   "cell_type": "code",
   "execution_count": 25,
   "metadata": {
    "colab": {
     "base_uri": "https://localhost:8080/"
    },
    "executionInfo": {
     "elapsed": 338,
     "status": "ok",
     "timestamp": 1658054968651,
     "user": {
      "displayName": "Валерия Чурсина",
      "userId": "11879646019918403150"
     },
     "user_tz": -180
    },
    "id": "HSoOsobLxmQy",
    "outputId": "5312a0ee-23c0-4a23-a2d9-b7d88d98b42c"
   },
   "outputs": [
    {
     "data": {
      "text/plain": [
       "0.7"
      ]
     },
     "execution_count": 25,
     "metadata": {},
     "output_type": "execute_result"
    }
   ],
   "source": [
    "(0.5 * 1 + 0.0 * 1 + 1.0 * 3) / 5"
   ]
  },
  {
   "cell_type": "code",
   "execution_count": null,
   "metadata": {},
   "outputs": [],
   "source": []
  }
 ],
 "metadata": {
  "colab": {
   "authorship_tag": "ABX9TyML/GaD7a5OwN/HOtddOTTC",
   "collapsed_sections": [],
   "name": "F-мера.ipynb",
   "provenance": []
  },
  "kernelspec": {
   "display_name": "Python 3 (ipykernel)",
   "language": "python",
   "name": "python3"
  },
  "language_info": {
   "codemirror_mode": {
    "name": "ipython",
    "version": 3
   },
   "file_extension": ".py",
   "mimetype": "text/x-python",
   "name": "python",
   "nbconvert_exporter": "python",
   "pygments_lexer": "ipython3",
   "version": "3.10.9"
  }
 },
 "nbformat": 4,
 "nbformat_minor": 1
}
