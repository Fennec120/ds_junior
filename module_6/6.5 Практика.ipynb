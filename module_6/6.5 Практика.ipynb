{
 "cells": [
  {
   "cell_type": "markdown",
   "metadata": {
    "id": "m9QWlN-lq0qw"
   },
   "source": [
    "# F-мера. Практика"
   ]
  },
  {
   "cell_type": "markdown",
   "metadata": {
    "id": "mbvb7kgYlESw"
   },
   "source": [
    "## Цели практической работы\n",
    "Научиться:\n",
    "- строить модель методом ближайших соседей с помощью библиотеки Scikit-learn;\n",
    "- пользоваться матрицей ошибок;\n",
    "- определять F-меру."
   ]
  },
  {
   "cell_type": "markdown",
   "metadata": {
    "id": "voCLRWvvllfQ"
   },
   "source": [
    "## Что входит в практическое задание\n",
    "\n",
    "\n",
    "- Загрузить данные и ознакомиться с ними.\n",
    "- Изучить данные и провести анализ (делить данные на обучающую и тестовую не нужно, представьте, что у вас имеется только `train`).\n",
    "- Реализовать построение модели с помощью библиотеки Scikit-learn.\n",
    "- Реализовать расчёт для получения качества модели с помощью F-мера.\n",
    "- Получить качество модели с помощью F-мера и библиотеки Scikit-learn."
   ]
  },
  {
   "cell_type": "markdown",
   "metadata": {
    "id": "xDZKZYCtmbwi"
   },
   "source": [
    "Пусть у нас имеется некоторый набор данных `knn_practice1.csv`.\n",
    "\n",
    "- `x1`, `x2` — это признаки, \n",
    "\n",
    "- `class` — это класс наших объектов."
   ]
  },
  {
   "cell_type": "markdown",
   "metadata": {
    "id": "b6goKA2-mrnv"
   },
   "source": [
    "Постройте модель методом ближайших соседей зависимости class от остальных параметров. "
   ]
  },
  {
   "cell_type": "markdown",
   "metadata": {
    "id": "gJCAiMPemxqH"
   },
   "source": [
    "Реализуйте расчёт для получения качества модели с помощью Accuracy, Precision и Recall.\n",
    "А также получите качество модели с помощью Accuracy, Precision и Recall с помощью библиотеки Scikit-learn."
   ]
  },
  {
   "cell_type": "markdown",
   "metadata": {
    "id": "_YfM3BCjmVFw"
   },
   "source": [
    "Задание не нужно сдавать на проверку. После его выполнения сверьтесь с ответами ниже."
   ]
  },
  {
   "cell_type": "markdown",
   "metadata": {
    "id": "GERgJvyYmQEZ"
   },
   "source": [
    "## Задача"
   ]
  },
  {
   "cell_type": "code",
   "execution_count": 2,
   "metadata": {
    "id": "bQvgKoWyid7b"
   },
   "outputs": [],
   "source": [
    "# подключить необходимые библиотеки\n",
    "from sklearn.metrics import classification_report\n",
    "import pandas as pd\n",
    "import numpy as np\n",
    "from sklearn.model_selection import train_test_split\n",
    "from sklearn.neighbors import KNeighborsClassifier\n",
    "from sklearn.metrics import  confusion_matrix\n",
    "from sklearn.metrics import precision_score, recall_score\n",
    "# Ваш код здесь"
   ]
  },
  {
   "cell_type": "code",
   "execution_count": 4,
   "metadata": {
    "id": "bKtwCaVgm-g2"
   },
   "outputs": [],
   "source": [
    "# считать данные\n",
    "df = pd.read_csv('6.5 knn_practice1.csv')\n",
    "# Ваш код здесь"
   ]
  },
  {
   "cell_type": "code",
   "execution_count": 7,
   "metadata": {
    "id": "rgudcaaPnBgB"
   },
   "outputs": [
    {
     "data": {
      "text/html": [
       "<style>#sk-container-id-1 {color: black;background-color: white;}#sk-container-id-1 pre{padding: 0;}#sk-container-id-1 div.sk-toggleable {background-color: white;}#sk-container-id-1 label.sk-toggleable__label {cursor: pointer;display: block;width: 100%;margin-bottom: 0;padding: 0.3em;box-sizing: border-box;text-align: center;}#sk-container-id-1 label.sk-toggleable__label-arrow:before {content: \"▸\";float: left;margin-right: 0.25em;color: #696969;}#sk-container-id-1 label.sk-toggleable__label-arrow:hover:before {color: black;}#sk-container-id-1 div.sk-estimator:hover label.sk-toggleable__label-arrow:before {color: black;}#sk-container-id-1 div.sk-toggleable__content {max-height: 0;max-width: 0;overflow: hidden;text-align: left;background-color: #f0f8ff;}#sk-container-id-1 div.sk-toggleable__content pre {margin: 0.2em;color: black;border-radius: 0.25em;background-color: #f0f8ff;}#sk-container-id-1 input.sk-toggleable__control:checked~div.sk-toggleable__content {max-height: 200px;max-width: 100%;overflow: auto;}#sk-container-id-1 input.sk-toggleable__control:checked~label.sk-toggleable__label-arrow:before {content: \"▾\";}#sk-container-id-1 div.sk-estimator input.sk-toggleable__control:checked~label.sk-toggleable__label {background-color: #d4ebff;}#sk-container-id-1 div.sk-label input.sk-toggleable__control:checked~label.sk-toggleable__label {background-color: #d4ebff;}#sk-container-id-1 input.sk-hidden--visually {border: 0;clip: rect(1px 1px 1px 1px);clip: rect(1px, 1px, 1px, 1px);height: 1px;margin: -1px;overflow: hidden;padding: 0;position: absolute;width: 1px;}#sk-container-id-1 div.sk-estimator {font-family: monospace;background-color: #f0f8ff;border: 1px dotted black;border-radius: 0.25em;box-sizing: border-box;margin-bottom: 0.5em;}#sk-container-id-1 div.sk-estimator:hover {background-color: #d4ebff;}#sk-container-id-1 div.sk-parallel-item::after {content: \"\";width: 100%;border-bottom: 1px solid gray;flex-grow: 1;}#sk-container-id-1 div.sk-label:hover label.sk-toggleable__label {background-color: #d4ebff;}#sk-container-id-1 div.sk-serial::before {content: \"\";position: absolute;border-left: 1px solid gray;box-sizing: border-box;top: 0;bottom: 0;left: 50%;z-index: 0;}#sk-container-id-1 div.sk-serial {display: flex;flex-direction: column;align-items: center;background-color: white;padding-right: 0.2em;padding-left: 0.2em;position: relative;}#sk-container-id-1 div.sk-item {position: relative;z-index: 1;}#sk-container-id-1 div.sk-parallel {display: flex;align-items: stretch;justify-content: center;background-color: white;position: relative;}#sk-container-id-1 div.sk-item::before, #sk-container-id-1 div.sk-parallel-item::before {content: \"\";position: absolute;border-left: 1px solid gray;box-sizing: border-box;top: 0;bottom: 0;left: 50%;z-index: -1;}#sk-container-id-1 div.sk-parallel-item {display: flex;flex-direction: column;z-index: 1;position: relative;background-color: white;}#sk-container-id-1 div.sk-parallel-item:first-child::after {align-self: flex-end;width: 50%;}#sk-container-id-1 div.sk-parallel-item:last-child::after {align-self: flex-start;width: 50%;}#sk-container-id-1 div.sk-parallel-item:only-child::after {width: 0;}#sk-container-id-1 div.sk-dashed-wrapped {border: 1px dashed gray;margin: 0 0.4em 0.5em 0.4em;box-sizing: border-box;padding-bottom: 0.4em;background-color: white;}#sk-container-id-1 div.sk-label label {font-family: monospace;font-weight: bold;display: inline-block;line-height: 1.2em;}#sk-container-id-1 div.sk-label-container {text-align: center;}#sk-container-id-1 div.sk-container {/* jupyter's `normalize.less` sets `[hidden] { display: none; }` but bootstrap.min.css set `[hidden] { display: none !important; }` so we also need the `!important` here to be able to override the default hidden behavior on the sphinx rendered scikit-learn.org. See: https://github.com/scikit-learn/scikit-learn/issues/21755 */display: inline-block !important;position: relative;}#sk-container-id-1 div.sk-text-repr-fallback {display: none;}</style><div id=\"sk-container-id-1\" class=\"sk-top-container\"><div class=\"sk-text-repr-fallback\"><pre>KNeighborsClassifier(n_neighbors=3)</pre><b>In a Jupyter environment, please rerun this cell to show the HTML representation or trust the notebook. <br />On GitHub, the HTML representation is unable to render, please try loading this page with nbviewer.org.</b></div><div class=\"sk-container\" hidden><div class=\"sk-item\"><div class=\"sk-estimator sk-toggleable\"><input class=\"sk-toggleable__control sk-hidden--visually\" id=\"sk-estimator-id-1\" type=\"checkbox\" checked><label for=\"sk-estimator-id-1\" class=\"sk-toggleable__label sk-toggleable__label-arrow\">KNeighborsClassifier</label><div class=\"sk-toggleable__content\"><pre>KNeighborsClassifier(n_neighbors=3)</pre></div></div></div></div></div>"
      ],
      "text/plain": [
       "KNeighborsClassifier(n_neighbors=3)"
      ]
     },
     "execution_count": 7,
     "metadata": {},
     "output_type": "execute_result"
    }
   ],
   "source": [
    "# обучить модель методом ближайших соседей\n",
    "x = df.drop('class', axis=1)\n",
    "y = df['class']\n",
    "knn = KNeighborsClassifier(n_neighbors=3)\n",
    "knn.fit(x, y)\n",
    "# Ваш код здесь"
   ]
  },
  {
   "cell_type": "code",
   "execution_count": null,
   "metadata": {
    "id": "3-7UbixvnYB8"
   },
   "outputs": [],
   "source": [
    "# реализовать расчет Precision и Recall\n",
    "# confusion_matrix(y, knn.predict(x), normalize='all')\n",
    "# confusion_matrix(y, knn.predict(x))\n",
    "\n",
    "pres = precision_score(y, knn.predict(x))   \n",
    "rec =    recall_score(y, knn.predict(x)\n",
    "score =    knn.score(x, y)\n",
    "# Ваш код здесь"
   ]
  },
  {
   "cell_type": "code",
   "execution_count": 8,
   "metadata": {},
   "outputs": [],
   "source": [
    "df['pred_class'] = knn.predict(x)"
   ]
  },
  {
   "cell_type": "code",
   "execution_count": 9,
   "metadata": {},
   "outputs": [
    {
     "data": {
      "text/html": [
       "<div>\n",
       "<style scoped>\n",
       "    .dataframe tbody tr th:only-of-type {\n",
       "        vertical-align: middle;\n",
       "    }\n",
       "\n",
       "    .dataframe tbody tr th {\n",
       "        vertical-align: top;\n",
       "    }\n",
       "\n",
       "    .dataframe thead th {\n",
       "        text-align: right;\n",
       "    }\n",
       "</style>\n",
       "<table border=\"1\" class=\"dataframe\">\n",
       "  <thead>\n",
       "    <tr style=\"text-align: right;\">\n",
       "      <th></th>\n",
       "      <th>x1</th>\n",
       "      <th>x2</th>\n",
       "      <th>class</th>\n",
       "      <th>pred_class</th>\n",
       "    </tr>\n",
       "  </thead>\n",
       "  <tbody>\n",
       "    <tr>\n",
       "      <th>0</th>\n",
       "      <td>0.682983</td>\n",
       "      <td>2.623853</td>\n",
       "      <td>0</td>\n",
       "      <td>0</td>\n",
       "    </tr>\n",
       "    <tr>\n",
       "      <th>1</th>\n",
       "      <td>1.722355</td>\n",
       "      <td>2.620148</td>\n",
       "      <td>0</td>\n",
       "      <td>0</td>\n",
       "    </tr>\n",
       "    <tr>\n",
       "      <th>2</th>\n",
       "      <td>0.690297</td>\n",
       "      <td>2.471199</td>\n",
       "      <td>0</td>\n",
       "      <td>0</td>\n",
       "    </tr>\n",
       "    <tr>\n",
       "      <th>3</th>\n",
       "      <td>0.204169</td>\n",
       "      <td>2.238051</td>\n",
       "      <td>0</td>\n",
       "      <td>0</td>\n",
       "    </tr>\n",
       "    <tr>\n",
       "      <th>4</th>\n",
       "      <td>1.808596</td>\n",
       "      <td>2.617183</td>\n",
       "      <td>0</td>\n",
       "      <td>0</td>\n",
       "    </tr>\n",
       "    <tr>\n",
       "      <th>5</th>\n",
       "      <td>0.744809</td>\n",
       "      <td>2.982096</td>\n",
       "      <td>0</td>\n",
       "      <td>0</td>\n",
       "    </tr>\n",
       "    <tr>\n",
       "      <th>6</th>\n",
       "      <td>0.447922</td>\n",
       "      <td>3.530334</td>\n",
       "      <td>0</td>\n",
       "      <td>0</td>\n",
       "    </tr>\n",
       "    <tr>\n",
       "      <th>7</th>\n",
       "      <td>0.974316</td>\n",
       "      <td>1.373314</td>\n",
       "      <td>0</td>\n",
       "      <td>1</td>\n",
       "    </tr>\n",
       "    <tr>\n",
       "      <th>8</th>\n",
       "      <td>0.937468</td>\n",
       "      <td>1.968258</td>\n",
       "      <td>0</td>\n",
       "      <td>1</td>\n",
       "    </tr>\n",
       "    <tr>\n",
       "      <th>9</th>\n",
       "      <td>1.364354</td>\n",
       "      <td>2.692558</td>\n",
       "      <td>0</td>\n",
       "      <td>0</td>\n",
       "    </tr>\n",
       "    <tr>\n",
       "      <th>10</th>\n",
       "      <td>2.144215</td>\n",
       "      <td>3.070463</td>\n",
       "      <td>1</td>\n",
       "      <td>1</td>\n",
       "    </tr>\n",
       "    <tr>\n",
       "      <th>11</th>\n",
       "      <td>1.421811</td>\n",
       "      <td>1.735413</td>\n",
       "      <td>1</td>\n",
       "      <td>1</td>\n",
       "    </tr>\n",
       "    <tr>\n",
       "      <th>12</th>\n",
       "      <td>1.579155</td>\n",
       "      <td>1.658870</td>\n",
       "      <td>1</td>\n",
       "      <td>1</td>\n",
       "    </tr>\n",
       "    <tr>\n",
       "      <th>13</th>\n",
       "      <td>1.200650</td>\n",
       "      <td>2.764433</td>\n",
       "      <td>1</td>\n",
       "      <td>0</td>\n",
       "    </tr>\n",
       "    <tr>\n",
       "      <th>14</th>\n",
       "      <td>1.745948</td>\n",
       "      <td>2.068060</td>\n",
       "      <td>1</td>\n",
       "      <td>1</td>\n",
       "    </tr>\n",
       "    <tr>\n",
       "      <th>15</th>\n",
       "      <td>1.577477</td>\n",
       "      <td>0.940538</td>\n",
       "      <td>1</td>\n",
       "      <td>1</td>\n",
       "    </tr>\n",
       "    <tr>\n",
       "      <th>16</th>\n",
       "      <td>1.791215</td>\n",
       "      <td>2.474895</td>\n",
       "      <td>1</td>\n",
       "      <td>0</td>\n",
       "    </tr>\n",
       "    <tr>\n",
       "      <th>17</th>\n",
       "      <td>0.796844</td>\n",
       "      <td>1.531865</td>\n",
       "      <td>1</td>\n",
       "      <td>0</td>\n",
       "    </tr>\n",
       "    <tr>\n",
       "      <th>18</th>\n",
       "      <td>1.183482</td>\n",
       "      <td>1.826333</td>\n",
       "      <td>1</td>\n",
       "      <td>1</td>\n",
       "    </tr>\n",
       "    <tr>\n",
       "      <th>19</th>\n",
       "      <td>1.592647</td>\n",
       "      <td>3.143232</td>\n",
       "      <td>1</td>\n",
       "      <td>0</td>\n",
       "    </tr>\n",
       "  </tbody>\n",
       "</table>\n",
       "</div>"
      ],
      "text/plain": [
       "          x1        x2  class  pred_class\n",
       "0   0.682983  2.623853      0           0\n",
       "1   1.722355  2.620148      0           0\n",
       "2   0.690297  2.471199      0           0\n",
       "3   0.204169  2.238051      0           0\n",
       "4   1.808596  2.617183      0           0\n",
       "5   0.744809  2.982096      0           0\n",
       "6   0.447922  3.530334      0           0\n",
       "7   0.974316  1.373314      0           1\n",
       "8   0.937468  1.968258      0           1\n",
       "9   1.364354  2.692558      0           0\n",
       "10  2.144215  3.070463      1           1\n",
       "11  1.421811  1.735413      1           1\n",
       "12  1.579155  1.658870      1           1\n",
       "13  1.200650  2.764433      1           0\n",
       "14  1.745948  2.068060      1           1\n",
       "15  1.577477  0.940538      1           1\n",
       "16  1.791215  2.474895      1           0\n",
       "17  0.796844  1.531865      1           0\n",
       "18  1.183482  1.826333      1           1\n",
       "19  1.592647  3.143232      1           0"
      ]
     },
     "execution_count": 9,
     "metadata": {},
     "output_type": "execute_result"
    }
   ],
   "source": [
    "df"
   ]
  },
  {
   "cell_type": "code",
   "execution_count": 21,
   "metadata": {},
   "outputs": [],
   "source": [
    "# проверить качество модели с помощью Accuracy, Precision и Recall\n",
    "\n",
    "TP = len(df[(df['pred_class']==1) & (df['class'] == df['pred_class'])])\n",
    "TN = len(df[(df['pred_class']==0) & (df['class'] == df['pred_class'])])\n",
    "FP = len(df[(df['pred_class']==1) & (df['class'] != df['pred_class'])])\n",
    "FN = len(df[(df['pred_class']==0) & (df['class'] != df['pred_class'])])\n"
   ]
  },
  {
   "cell_type": "code",
   "execution_count": 24,
   "metadata": {},
   "outputs": [
    {
     "data": {
      "text/plain": [
       "20"
      ]
     },
     "execution_count": 24,
     "metadata": {},
     "output_type": "execute_result"
    }
   ],
   "source": [
    "sum([TP, TN, FP, FN])"
   ]
  },
  {
   "cell_type": "code",
   "execution_count": 26,
   "metadata": {
    "id": "nMnv3sSK0I4x"
   },
   "outputs": [
    {
     "data": {
      "text/plain": [
       "0.7"
      ]
     },
     "execution_count": 26,
     "metadata": {},
     "output_type": "execute_result"
    }
   ],
   "source": [
    "# реализовать расчет F-мера\n",
    "\n",
    "accuracy = (TP+TN)/len(df)\n",
    "accuracy\n",
    "# Ваш код здесь"
   ]
  },
  {
   "cell_type": "code",
   "execution_count": 29,
   "metadata": {},
   "outputs": [
    {
     "name": "stdout",
     "output_type": "stream",
     "text": [
      "              precision    recall  f1-score   support\n",
      "\n",
      "           0       0.67      0.80      0.73        10\n",
      "           1       0.75      0.60      0.67        10\n",
      "\n",
      "    accuracy                           0.70        20\n",
      "   macro avg       0.71      0.70      0.70        20\n",
      "weighted avg       0.71      0.70      0.70        20\n",
      "\n"
     ]
    }
   ],
   "source": [
    "# проверить качество модели с помощью Precision и Recall из sklearn\n",
    "# реализовать расчет F-мера\n",
    "precision = TP/(TP+FP)\n",
    "recall = TP/(TP+FN)\n",
    "f1 = 2*precision*recall/(precision+recall)\n",
    "\n",
    "from sklearn.metrics import precision_score, recall_score\n",
    "\n",
    "\n",
    "precision_score(df['class'], df['pred_class'])\n",
    "recall_score(df['class'], df['pred_class'])\n",
    "\n",
    "# проверить качество модели с помощью F-мера из sklearn\n",
    "\n",
    "from sklearn.metrics import classification_report\n",
    "\n",
    "res = classification_report(df['class'], df[['pred_class']])\n",
    "print(res)"
   ]
  },
  {
   "cell_type": "code",
   "execution_count": 30,
   "metadata": {},
   "outputs": [
    {
     "data": {
      "text/plain": [
       "0.6666666666666665"
      ]
     },
     "execution_count": 30,
     "metadata": {},
     "output_type": "execute_result"
    }
   ],
   "source": [
    "f1"
   ]
  },
  {
   "cell_type": "code",
   "execution_count": null,
   "metadata": {
    "id": "hv_u7OuDnJEr"
   },
   "outputs": [],
   "source": [
    "# проверить качество модели с помощью F-мера\n",
    "\n",
    "# Ваш код здесь"
   ]
  },
  {
   "cell_type": "code",
   "execution_count": null,
   "metadata": {
    "id": "CKDRfal9ncAq"
   },
   "outputs": [],
   "source": [
    "# проверить качество модели с помощью F-мера\n",
    "\n",
    "# Ваш код здесь"
   ]
  },
  {
   "cell_type": "markdown",
   "metadata": {
    "id": "zM5VWAa5oMyy"
   },
   "source": [
    "|"
   ]
  },
  {
   "cell_type": "markdown",
   "metadata": {
    "id": "P0p4gUd_oNxE"
   },
   "source": [
    "|"
   ]
  },
  {
   "cell_type": "markdown",
   "metadata": {
    "id": "qWQ-ToESoN-C"
   },
   "source": [
    "|"
   ]
  },
  {
   "cell_type": "markdown",
   "metadata": {
    "id": "RZX0pp64oOH-"
   },
   "source": [
    "|"
   ]
  },
  {
   "cell_type": "markdown",
   "metadata": {
    "id": "RKmx3sILoORV"
   },
   "source": [
    "|"
   ]
  },
  {
   "cell_type": "markdown",
   "metadata": {
    "id": "AItgZceToOaW"
   },
   "source": [
    "|"
   ]
  },
  {
   "cell_type": "markdown",
   "metadata": {
    "id": "uVN79AraoOj4"
   },
   "source": [
    "|"
   ]
  },
  {
   "cell_type": "markdown",
   "metadata": {
    "id": "-sQFbg3-oOsY"
   },
   "source": [
    "|"
   ]
  },
  {
   "cell_type": "markdown",
   "metadata": {
    "id": "BbSWFL8IoO1b"
   },
   "source": [
    "|"
   ]
  },
  {
   "cell_type": "markdown",
   "metadata": {
    "id": "nAN5oxfNoPCO"
   },
   "source": [
    "|"
   ]
  },
  {
   "cell_type": "markdown",
   "metadata": {
    "id": "aR8oM_InoPNB"
   },
   "source": [
    "|"
   ]
  },
  {
   "cell_type": "markdown",
   "metadata": {
    "id": "LcUFzfggoPYq"
   },
   "source": [
    "|"
   ]
  },
  {
   "cell_type": "markdown",
   "metadata": {
    "id": "rHUve4AxoPiy"
   },
   "source": [
    "|"
   ]
  },
  {
   "cell_type": "markdown",
   "metadata": {
    "id": "9VcDsU8poPsS"
   },
   "source": [
    "|"
   ]
  },
  {
   "cell_type": "markdown",
   "metadata": {
    "id": "zUMnH7N4oP4Q"
   },
   "source": [
    "|"
   ]
  },
  {
   "cell_type": "markdown",
   "metadata": {
    "id": "pOPAXz8UoQBv"
   },
   "source": [
    "|"
   ]
  },
  {
   "cell_type": "markdown",
   "metadata": {
    "id": "Q7ytv2GMjpGZ"
   },
   "source": [
    "## Ответы для самопроверки"
   ]
  },
  {
   "cell_type": "code",
   "execution_count": null,
   "metadata": {
    "id": "aPDB2wP8jndz"
   },
   "outputs": [],
   "source": [
    "# подключить библиотеки\n",
    "%matplotlib inline\n",
    "import matplotlib.pyplot as plt\n",
    "import numpy as np\n",
    "import pandas as pd\n",
    "\n",
    "import warnings\n",
    "warnings.filterwarnings(\"ignore\")"
   ]
  },
  {
   "cell_type": "code",
   "execution_count": null,
   "metadata": {
    "id": "7Zw7RmtAjn8O"
   },
   "outputs": [],
   "source": [
    "# считать данные\n",
    "data = pd.read_csv('knn_practice1.csv')"
   ]
  },
  {
   "cell_type": "code",
   "execution_count": null,
   "metadata": {
    "colab": {
     "base_uri": "https://localhost:8080/",
     "height": 260
    },
    "executionInfo": {
     "elapsed": 323,
     "status": "ok",
     "timestamp": 1657867126965,
     "user": {
      "displayName": "Маргарита Широбокова",
      "userId": "15867443346324107010"
     },
     "user_tz": -240
    },
    "id": "3QbRGWqJjxOv",
    "outputId": "ee9bea9a-adf4-41ba-8baa-31272ef1ef63"
   },
   "outputs": [
    {
     "data": {
      "text/html": [
       "\n",
       "  <div id=\"df-0dbbdf46-b425-4b7a-97ff-8d741c3a00c6\">\n",
       "    <div class=\"colab-df-container\">\n",
       "      <div>\n",
       "<style scoped>\n",
       "    .dataframe tbody tr th:only-of-type {\n",
       "        vertical-align: middle;\n",
       "    }\n",
       "\n",
       "    .dataframe tbody tr th {\n",
       "        vertical-align: top;\n",
       "    }\n",
       "\n",
       "    .dataframe thead th {\n",
       "        text-align: right;\n",
       "    }\n",
       "</style>\n",
       "<table border=\"1\" class=\"dataframe\">\n",
       "  <thead>\n",
       "    <tr style=\"text-align: right;\">\n",
       "      <th></th>\n",
       "      <th>x1</th>\n",
       "      <th>x2</th>\n",
       "      <th>class</th>\n",
       "    </tr>\n",
       "  </thead>\n",
       "  <tbody>\n",
       "    <tr>\n",
       "      <th>0</th>\n",
       "      <td>0.682983</td>\n",
       "      <td>2.623853</td>\n",
       "      <td>0</td>\n",
       "    </tr>\n",
       "    <tr>\n",
       "      <th>1</th>\n",
       "      <td>1.722355</td>\n",
       "      <td>2.620148</td>\n",
       "      <td>0</td>\n",
       "    </tr>\n",
       "    <tr>\n",
       "      <th>2</th>\n",
       "      <td>0.690297</td>\n",
       "      <td>2.471199</td>\n",
       "      <td>0</td>\n",
       "    </tr>\n",
       "    <tr>\n",
       "      <th>3</th>\n",
       "      <td>0.204169</td>\n",
       "      <td>2.238051</td>\n",
       "      <td>0</td>\n",
       "    </tr>\n",
       "    <tr>\n",
       "      <th>4</th>\n",
       "      <td>1.808596</td>\n",
       "      <td>2.617183</td>\n",
       "      <td>0</td>\n",
       "    </tr>\n",
       "  </tbody>\n",
       "</table>\n",
       "</div>\n",
       "      <button class=\"colab-df-convert\" onclick=\"convertToInteractive('df-0dbbdf46-b425-4b7a-97ff-8d741c3a00c6')\"\n",
       "              title=\"Convert this dataframe to an interactive table.\"\n",
       "              style=\"display:none;\">\n",
       "        \n",
       "  <svg xmlns=\"http://www.w3.org/2000/svg\" height=\"24px\"viewBox=\"0 0 24 24\"\n",
       "       width=\"24px\">\n",
       "    <path d=\"M0 0h24v24H0V0z\" fill=\"none\"/>\n",
       "    <path d=\"M18.56 5.44l.94 2.06.94-2.06 2.06-.94-2.06-.94-.94-2.06-.94 2.06-2.06.94zm-11 1L8.5 8.5l.94-2.06 2.06-.94-2.06-.94L8.5 2.5l-.94 2.06-2.06.94zm10 10l.94 2.06.94-2.06 2.06-.94-2.06-.94-.94-2.06-.94 2.06-2.06.94z\"/><path d=\"M17.41 7.96l-1.37-1.37c-.4-.4-.92-.59-1.43-.59-.52 0-1.04.2-1.43.59L10.3 9.45l-7.72 7.72c-.78.78-.78 2.05 0 2.83L4 21.41c.39.39.9.59 1.41.59.51 0 1.02-.2 1.41-.59l7.78-7.78 2.81-2.81c.8-.78.8-2.07 0-2.86zM5.41 20L4 18.59l7.72-7.72 1.47 1.35L5.41 20z\"/>\n",
       "  </svg>\n",
       "      </button>\n",
       "      \n",
       "  <style>\n",
       "    .colab-df-container {\n",
       "      display:flex;\n",
       "      flex-wrap:wrap;\n",
       "      gap: 12px;\n",
       "    }\n",
       "\n",
       "    .colab-df-convert {\n",
       "      background-color: #E8F0FE;\n",
       "      border: none;\n",
       "      border-radius: 50%;\n",
       "      cursor: pointer;\n",
       "      display: none;\n",
       "      fill: #1967D2;\n",
       "      height: 32px;\n",
       "      padding: 0 0 0 0;\n",
       "      width: 32px;\n",
       "    }\n",
       "\n",
       "    .colab-df-convert:hover {\n",
       "      background-color: #E2EBFA;\n",
       "      box-shadow: 0px 1px 2px rgba(60, 64, 67, 0.3), 0px 1px 3px 1px rgba(60, 64, 67, 0.15);\n",
       "      fill: #174EA6;\n",
       "    }\n",
       "\n",
       "    [theme=dark] .colab-df-convert {\n",
       "      background-color: #3B4455;\n",
       "      fill: #D2E3FC;\n",
       "    }\n",
       "\n",
       "    [theme=dark] .colab-df-convert:hover {\n",
       "      background-color: #434B5C;\n",
       "      box-shadow: 0px 1px 3px 1px rgba(0, 0, 0, 0.15);\n",
       "      filter: drop-shadow(0px 1px 2px rgba(0, 0, 0, 0.3));\n",
       "      fill: #FFFFFF;\n",
       "    }\n",
       "  </style>\n",
       "\n",
       "      <script>\n",
       "        const buttonEl =\n",
       "          document.querySelector('#df-0dbbdf46-b425-4b7a-97ff-8d741c3a00c6 button.colab-df-convert');\n",
       "        buttonEl.style.display =\n",
       "          google.colab.kernel.accessAllowed ? 'block' : 'none';\n",
       "\n",
       "        async function convertToInteractive(key) {\n",
       "          const element = document.querySelector('#df-0dbbdf46-b425-4b7a-97ff-8d741c3a00c6');\n",
       "          const dataTable =\n",
       "            await google.colab.kernel.invokeFunction('convertToInteractive',\n",
       "                                                     [key], {});\n",
       "          if (!dataTable) return;\n",
       "\n",
       "          const docLinkHtml = 'Like what you see? Visit the ' +\n",
       "            '<a target=\"_blank\" href=https://colab.research.google.com/notebooks/data_table.ipynb>data table notebook</a>'\n",
       "            + ' to learn more about interactive tables.';\n",
       "          element.innerHTML = '';\n",
       "          dataTable['output_type'] = 'display_data';\n",
       "          await google.colab.output.renderOutput(dataTable, element);\n",
       "          const docLink = document.createElement('div');\n",
       "          docLink.innerHTML = docLinkHtml;\n",
       "          element.appendChild(docLink);\n",
       "        }\n",
       "      </script>\n",
       "    </div>\n",
       "  </div>\n",
       "  "
      ],
      "text/plain": [
       "         x1        x2  class\n",
       "0  0.682983  2.623853      0\n",
       "1  1.722355  2.620148      0\n",
       "2  0.690297  2.471199      0\n",
       "3  0.204169  2.238051      0\n",
       "4  1.808596  2.617183      0"
      ]
     },
     "execution_count": 46,
     "metadata": {},
     "output_type": "execute_result"
    }
   ],
   "source": [
    "data.head()"
   ]
  },
  {
   "cell_type": "code",
   "execution_count": null,
   "metadata": {
    "colab": {
     "base_uri": "https://localhost:8080/",
     "height": 288
    },
    "executionInfo": {
     "elapsed": 435,
     "status": "ok",
     "timestamp": 1657867127396,
     "user": {
      "displayName": "Маргарита Широбокова",
      "userId": "15867443346324107010"
     },
     "user_tz": -240
    },
    "id": "z4Xxn4XCkhQq",
    "outputId": "018cadcc-636d-4f38-da1d-893314c1b801"
   },
   "outputs": [
    {
     "data": {
      "text/plain": [
       "<matplotlib.axes._subplots.AxesSubplot at 0x7f6ba0721ed0>"
      ]
     },
     "execution_count": 47,
     "metadata": {},
     "output_type": "execute_result"
    },
    {
     "data": {
      "image/png": "[encoded data removed]",
      "text/plain": [
       "<Figure size 432x288 with 1 Axes>"
      ]
     },
     "metadata": {
      "needs_background": "light"
     },
     "output_type": "display_data"
    }
   ],
   "source": [
    "data['class'].hist()"
   ]
  },
  {
   "cell_type": "code",
   "execution_count": null,
   "metadata": {
    "colab": {
     "base_uri": "https://localhost:8080/",
     "height": 280
    },
    "executionInfo": {
     "elapsed": 494,
     "status": "ok",
     "timestamp": 1657867127885,
     "user": {
      "displayName": "Маргарита Широбокова",
      "userId": "15867443346324107010"
     },
     "user_tz": -240
    },
    "id": "Joq5fS6vjzCJ",
    "outputId": "23c91020-72cc-475b-b01c-d3a0f33323b0"
   },
   "outputs": [
    {
     "data": {
      "image/png": "[encoded data removed]",
      "text/plain": [
       "<Figure size 432x288 with 1 Axes>"
      ]
     },
     "metadata": {
      "needs_background": "light"
     },
     "output_type": "display_data"
    }
   ],
   "source": [
    "plt.scatter(data['x1'], data['x2'], c=data['class'])\n",
    "plt.xlabel('x1')\n",
    "plt.ylabel('x2')\n",
    "plt.show()"
   ]
  },
  {
   "cell_type": "code",
   "execution_count": null,
   "metadata": {
    "id": "ea_L3OGpj7WH"
   },
   "outputs": [],
   "source": [
    "# обучить модель методом ближайших соседей\n",
    "\n",
    "X_train = data[['x1', 'x2']]\n",
    "y_train = data[['class']]"
   ]
  },
  {
   "cell_type": "code",
   "execution_count": null,
   "metadata": {
    "id": "efySFKgej1_1"
   },
   "outputs": [],
   "source": [
    "from sklearn.neighbors import KNeighborsClassifier\n",
    "knn = KNeighborsClassifier(n_neighbors=3)"
   ]
  },
  {
   "cell_type": "code",
   "execution_count": null,
   "metadata": {
    "colab": {
     "base_uri": "https://localhost:8080/"
    },
    "executionInfo": {
     "elapsed": 29,
     "status": "ok",
     "timestamp": 1657867127886,
     "user": {
      "displayName": "Маргарита Широбокова",
      "userId": "15867443346324107010"
     },
     "user_tz": -240
    },
    "id": "QzR_npzTj5OC",
    "outputId": "fd25317c-6836-4e8b-e55c-bdf6ec9195d0"
   },
   "outputs": [
    {
     "data": {
      "text/plain": [
       "KNeighborsClassifier(n_neighbors=3)"
      ]
     },
     "execution_count": 51,
     "metadata": {},
     "output_type": "execute_result"
    }
   ],
   "source": [
    "knn.fit(X_train, y_train)"
   ]
  },
  {
   "cell_type": "code",
   "execution_count": null,
   "metadata": {
    "colab": {
     "base_uri": "https://localhost:8080/"
    },
    "executionInfo": {
     "elapsed": 24,
     "status": "ok",
     "timestamp": 1657867127887,
     "user": {
      "displayName": "Маргарита Широбокова",
      "userId": "15867443346324107010"
     },
     "user_tz": -240
    },
    "id": "9aR5YlFDkBbJ",
    "outputId": "b9f97f63-bbfc-4e44-d4f4-a1c71b8becb8"
   },
   "outputs": [
    {
     "name": "stdout",
     "output_type": "stream",
     "text": [
      "Точность для обучающей выборки: 0.7\n"
     ]
    }
   ],
   "source": [
    "print(\"Точность для обучающей выборки:\", knn.score(X_train, y_train))"
   ]
  },
  {
   "cell_type": "code",
   "execution_count": null,
   "metadata": {
    "colab": {
     "base_uri": "https://localhost:8080/"
    },
    "executionInfo": {
     "elapsed": 20,
     "status": "ok",
     "timestamp": 1657867127887,
     "user": {
      "displayName": "Маргарита Широбокова",
      "userId": "15867443346324107010"
     },
     "user_tz": -240
    },
    "id": "3ju2imOUkECr",
    "outputId": "07e39608-6703-4feb-eb07-24db1c8cc28a"
   },
   "outputs": [
    {
     "name": "stdout",
     "output_type": "stream",
     "text": [
      "Прогнозы для тестовой выборки: [0 0 0 0 0 0 0 1 1 0 1 1 1 0 1 1 0 0 1 0]\n"
     ]
    }
   ],
   "source": [
    "print(\"Прогнозы для обучающей выборки:\", knn.predict(X_train))"
   ]
  },
  {
   "cell_type": "code",
   "execution_count": null,
   "metadata": {
    "colab": {
     "base_uri": "https://localhost:8080/"
    },
    "executionInfo": {
     "elapsed": 16,
     "status": "ok",
     "timestamp": 1657867127887,
     "user": {
      "displayName": "Маргарита Широбокова",
      "userId": "15867443346324107010"
     },
     "user_tz": -240
    },
    "id": "JqQ_Q6EYkFzL",
    "outputId": "154c28cf-e0de-4148-e0e1-4546e10631b3"
   },
   "outputs": [
    {
     "name": "stdout",
     "output_type": "stream",
     "text": [
      "Прогнозы для тестовой выборки: [[1.         0.        ]\n",
      " [0.66666667 0.33333333]\n",
      " [1.         0.        ]\n",
      " [1.         0.        ]\n",
      " [0.66666667 0.33333333]\n",
      " [0.66666667 0.33333333]\n",
      " [1.         0.        ]\n",
      " [0.33333333 0.66666667]\n",
      " [0.33333333 0.66666667]\n",
      " [0.66666667 0.33333333]\n",
      " [0.33333333 0.66666667]\n",
      " [0.         1.        ]\n",
      " [0.         1.        ]\n",
      " [0.66666667 0.33333333]\n",
      " [0.         1.        ]\n",
      " [0.33333333 0.66666667]\n",
      " [0.66666667 0.33333333]\n",
      " [0.66666667 0.33333333]\n",
      " [0.33333333 0.66666667]\n",
      " [0.66666667 0.33333333]]\n"
     ]
    }
   ],
   "source": [
    "print(\"Прогнозы для обучающей выборки:\", knn.predict_proba(X_train))"
   ]
  },
  {
   "cell_type": "code",
   "execution_count": null,
   "metadata": {
    "id": "0PWCCKurkI_o"
   },
   "outputs": [],
   "source": [
    "data['predict_class'] = knn.predict(data[['x1', 'x2']])"
   ]
  },
  {
   "cell_type": "code",
   "execution_count": null,
   "metadata": {
    "colab": {
     "base_uri": "https://localhost:8080/",
     "height": 280
    },
    "executionInfo": {
     "elapsed": 12,
     "status": "ok",
     "timestamp": 1657867127887,
     "user": {
      "displayName": "Маргарита Широбокова",
      "userId": "15867443346324107010"
     },
     "user_tz": -240
    },
    "id": "C4oSBy93kK48",
    "outputId": "f15d7a02-c9c1-45d5-9d64-56c365375231"
   },
   "outputs": [
    {
     "data": {
      "image/png": "[encoded data removed]",
      "text/plain": [
       "<Figure size 432x288 with 1 Axes>"
      ]
     },
     "metadata": {
      "needs_background": "light"
     },
     "output_type": "display_data"
    }
   ],
   "source": [
    "data_error = data[data['class'] != data['predict_class']]\n",
    "plt.scatter(data['x1'], data['x2'], c=data['class'])\n",
    "plt.scatter(data_error['x1'], data_error['x2'], c='red')\n",
    "plt.xlabel('x1')\n",
    "plt.ylabel('x2')\n",
    "plt.show()"
   ]
  },
  {
   "cell_type": "code",
   "execution_count": null,
   "metadata": {
    "id": "JXRX33FOlO6L"
   },
   "outputs": [],
   "source": [
    "# проверить качество модели с помощью Accuracy, Precision и Recall\n",
    "\n",
    "TP = len(data[data['predict_class']==1][data['class'] == data['predict_class']])\n",
    "TN = len(data[data['predict_class']==0][data['class'] == data['predict_class']])\n",
    "FP = len(data[data['predict_class']==1][data['class'] != data['predict_class']])\n",
    "FN = len(data[data['predict_class']==0][data['class'] != data['predict_class']])"
   ]
  },
  {
   "cell_type": "code",
   "execution_count": null,
   "metadata": {
    "colab": {
     "base_uri": "https://localhost:8080/"
    },
    "executionInfo": {
     "elapsed": 282,
     "status": "ok",
     "timestamp": 1657868549299,
     "user": {
      "displayName": "Маргарита Широбокова",
      "userId": "15867443346324107010"
     },
     "user_tz": -240
    },
    "id": "8X7bxiYmlija",
    "outputId": "edf3e821-3026-4987-a13e-4c7a2a862293"
   },
   "outputs": [
    {
     "name": "stdout",
     "output_type": "stream",
     "text": [
      "6 8 2 4\n"
     ]
    }
   ],
   "source": [
    "print(TP, TN, FP, FN)"
   ]
  },
  {
   "cell_type": "code",
   "execution_count": null,
   "metadata": {
    "colab": {
     "base_uri": "https://localhost:8080/"
    },
    "executionInfo": {
     "elapsed": 3,
     "status": "ok",
     "timestamp": 1657868550347,
     "user": {
      "displayName": "Маргарита Широбокова",
      "userId": "15867443346324107010"
     },
     "user_tz": -240
    },
    "id": "TWAy7XFsloiY",
    "outputId": "3d38caf8-a3f4-4982-fd65-b1199b62c944"
   },
   "outputs": [
    {
     "data": {
      "text/plain": [
       "20"
      ]
     },
     "execution_count": 111,
     "metadata": {},
     "output_type": "execute_result"
    }
   ],
   "source": [
    "sum([TP, TN, FP, FN])"
   ]
  },
  {
   "cell_type": "code",
   "execution_count": null,
   "metadata": {
    "colab": {
     "base_uri": "https://localhost:8080/"
    },
    "executionInfo": {
     "elapsed": 6,
     "status": "ok",
     "timestamp": 1657868551415,
     "user": {
      "displayName": "Маргарита Широбокова",
      "userId": "15867443346324107010"
     },
     "user_tz": -240
    },
    "id": "0snJCPR8lxJL",
    "outputId": "5bef83ef-67a9-4fae-c144-b2a302f05ae7"
   },
   "outputs": [
    {
     "data": {
      "text/plain": [
       "0.7"
      ]
     },
     "execution_count": 112,
     "metadata": {},
     "output_type": "execute_result"
    }
   ],
   "source": [
    "print(TP, TN, FP, FN)\n",
    "accuracy = (TP+TN)/len(data)\n",
    "accuracy"
   ]
  },
  {
   "cell_type": "code",
   "execution_count": null,
   "metadata": {
    "colab": {
     "base_uri": "https://localhost:8080/"
    },
    "executionInfo": {
     "elapsed": 9,
     "status": "ok",
     "timestamp": 1657868554793,
     "user": {
      "displayName": "Маргарита Широбокова",
      "userId": "15867443346324107010"
     },
     "user_tz": -240
    },
    "id": "N2E4eyJLl7Zb",
    "outputId": "30c235ec-fdcb-4d24-ca14-e5cd349a3b7a"
   },
   "outputs": [
    {
     "data": {
      "text/plain": [
       "0.75"
      ]
     },
     "execution_count": 114,
     "metadata": {},
     "output_type": "execute_result"
    }
   ],
   "source": [
    "precision = TP/(TP+FP)\n",
    "precision"
   ]
  },
  {
   "cell_type": "code",
   "execution_count": null,
   "metadata": {
    "colab": {
     "base_uri": "https://localhost:8080/"
    },
    "executionInfo": {
     "elapsed": 273,
     "status": "ok",
     "timestamp": 1657868553578,
     "user": {
      "displayName": "Маргарита Широбокова",
      "userId": "15867443346324107010"
     },
     "user_tz": -240
    },
    "id": "wKflH4v6mGPD",
    "outputId": "291a652c-739a-49f1-cf2c-77e8d2e47d35"
   },
   "outputs": [
    {
     "data": {
      "text/plain": [
       "0.6"
      ]
     },
     "execution_count": 113,
     "metadata": {},
     "output_type": "execute_result"
    }
   ],
   "source": [
    "precision = TP/(TP+FP)\n",
    "precision\n",
    "recall = TP/(TP+FN)\n",
    "recall"
   ]
  },
  {
   "cell_type": "code",
   "execution_count": null,
   "metadata": {
    "id": "1xwNR09Z0Pu6"
   },
   "outputs": [],
   "source": [
    "# реализовать расчет F-мера\n",
    "precision = TP/(TP+FP)\n",
    "precision\n",
    "recall = TP/(TP+FN)\n",
    "recall\n",
    "f1 = 2*precision*recall/(precision+recall)\n",
    "f1"
   ]
  },
  {
   "cell_type": "code",
   "execution_count": null,
   "metadata": {
    "id": "fY-DVQvYnyS-"
   },
   "outputs": [],
   "source": [
    "# проверить качество модели с помощью Precision и Recall из sklearn\n",
    "# реализовать расчет F-мера\n",
    "precision = TP/(TP+FP)\n",
    "precision\n",
    "recall = TP/(TP+FN)\n",
    "recall\n",
    "f1 = 2*precision*recall/(precision+recall)\n",
    "f1\n",
    "from sklearn.metrics import precision_score, recall_score"
   ]
  },
  {
   "cell_type": "code",
   "execution_count": null,
   "metadata": {
    "id": "RHp881btnz4R"
   },
   "outputs": [],
   "source": [
    "# проверить качество модели с помощью Precision и Recall из sklearn\n",
    "# реализовать расчет F-мера\n",
    "precision = TP/(TP+FP)\n",
    "precision\n",
    "recall = TP/(TP+FN)\n",
    "recall\n",
    "f1 = 2*precision*recall/(precision+recall)\n",
    "f1\n",
    "from sklearn.metrics import precision_score, recall_score\n",
    "precision_score(data['class'], data['predict_class'])"
   ]
  },
  {
   "cell_type": "code",
   "execution_count": null,
   "metadata": {
    "id": "iGz95lsvn1Vt"
   },
   "outputs": [],
   "source": [
    "# проверить качество модели с помощью Precision и Recall из sklearn\n",
    "# реализовать расчет F-мера\n",
    "precision = TP/(TP+FP)\n",
    "precision\n",
    "recall = TP/(TP+FN)\n",
    "recall\n",
    "f1 = 2*precision*recall/(precision+recall)\n",
    "f1\n",
    "from sklearn.metrics import precision_score, recall_score\n",
    "precision_score(data['class'], data['predict_class'])\n",
    "recall_score(data['class'], data['predict_class'])"
   ]
  },
  {
   "cell_type": "code",
   "execution_count": null,
   "metadata": {
    "id": "6cTGjVNp0SJ_"
   },
   "outputs": [],
   "source": [
    "# проверить качество модели с помощью Precision и Recall из sklearn\n",
    "# реализовать расчет F-мера\n",
    "precision = TP/(TP+FP)\n",
    "precision\n",
    "recall = TP/(TP+FN)\n",
    "recall\n",
    "f1 = 2*precision*recall/(precision+recall)\n",
    "f1\n",
    "from sklearn.metrics import precision_score, recall_score\n",
    "precision_score(data['class'], data['predict_class'])\n",
    "recall_score(data['class'], data['predict_class'])\n",
    "\n",
    "# проверить качество модели с помощью F-мера из sklearn\n",
    "\n",
    "from sklearn.metrics import classification_report\n",
    "\n",
    "res = classification_report(data['class'], data[['predict_class']])\n",
    "print(res)"
   ]
  }
 ],
 "metadata": {
  "colab": {
   "collapsed_sections": [],
   "name": "Видео 5. Практика.ipynb",
   "provenance": []
  },
  "kernelspec": {
   "display_name": "Python 3 (ipykernel)",
   "language": "python",
   "name": "python3"
  },
  "language_info": {
   "codemirror_mode": {
    "name": "ipython",
    "version": 3
   },
   "file_extension": ".py",
   "mimetype": "text/x-python",
   "name": "python",
   "nbconvert_exporter": "python",
   "pygments_lexer": "ipython3",
   "version": "3.10.9"
  }
 },
 "nbformat": 4,
 "nbformat_minor": 1
}
