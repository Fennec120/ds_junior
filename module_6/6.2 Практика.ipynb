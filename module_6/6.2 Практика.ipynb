{
 "cells": [
  {
   "cell_type": "code",
   "execution_count": 1,
   "id": "f64e567f",
   "metadata": {},
   "outputs": [],
   "source": [
    "import matplotlib.pyplot as plt\n",
    "import numpy as np\n",
    "import pandas as pd\n",
    "import plotly\n",
    "import plotly.express as px\n",
    "from sklearn.model_selection import LeaveOneOut\n",
    "from sklearn.model_selection import cross_val_score\n",
    "from sklearn.neighbors import KNeighborsClassifier\n",
    "from sklearn.model_selection import train_test_split"
   ]
  },
  {
   "cell_type": "code",
   "execution_count": 85,
   "id": "3c126837",
   "metadata": {},
   "outputs": [
    {
     "data": {
      "text/html": [
       "<div>\n",
       "<style scoped>\n",
       "    .dataframe tbody tr th:only-of-type {\n",
       "        vertical-align: middle;\n",
       "    }\n",
       "\n",
       "    .dataframe tbody tr th {\n",
       "        vertical-align: top;\n",
       "    }\n",
       "\n",
       "    .dataframe thead th {\n",
       "        text-align: right;\n",
       "    }\n",
       "</style>\n",
       "<table border=\"1\" class=\"dataframe\">\n",
       "  <thead>\n",
       "    <tr style=\"text-align: right;\">\n",
       "      <th></th>\n",
       "      <th>Площадь</th>\n",
       "      <th>Этаж</th>\n",
       "      <th>Класс</th>\n",
       "    </tr>\n",
       "  </thead>\n",
       "  <tbody>\n",
       "    <tr>\n",
       "      <th>0</th>\n",
       "      <td>70</td>\n",
       "      <td>7</td>\n",
       "      <td>Комфорт</td>\n",
       "    </tr>\n",
       "    <tr>\n",
       "      <th>1</th>\n",
       "      <td>30</td>\n",
       "      <td>1</td>\n",
       "      <td>Эконом</td>\n",
       "    </tr>\n",
       "    <tr>\n",
       "      <th>2</th>\n",
       "      <td>38</td>\n",
       "      <td>2</td>\n",
       "      <td>Эконом</td>\n",
       "    </tr>\n",
       "    <tr>\n",
       "      <th>3</th>\n",
       "      <td>55</td>\n",
       "      <td>12</td>\n",
       "      <td>Комфорт</td>\n",
       "    </tr>\n",
       "    <tr>\n",
       "      <th>4</th>\n",
       "      <td>40</td>\n",
       "      <td>10</td>\n",
       "      <td>Комфорт</td>\n",
       "    </tr>\n",
       "    <tr>\n",
       "      <th>5</th>\n",
       "      <td>30</td>\n",
       "      <td>10</td>\n",
       "      <td>Эконом</td>\n",
       "    </tr>\n",
       "    <tr>\n",
       "      <th>6</th>\n",
       "      <td>100</td>\n",
       "      <td>2</td>\n",
       "      <td>Комфорт</td>\n",
       "    </tr>\n",
       "  </tbody>\n",
       "</table>\n",
       "</div>"
      ],
      "text/plain": [
       "   Площадь    Этаж     Класс \n",
       "0        70       7   Комфорт\n",
       "1        30       1    Эконом\n",
       "2        38       2    Эконом\n",
       "3        55      12   Комфорт\n",
       "4        40      10  Комфорт \n",
       "5        30      10    Эконом\n",
       "6       100       2   Комфорт"
      ]
     },
     "execution_count": 85,
     "metadata": {},
     "output_type": "execute_result"
    }
   ],
   "source": [
    "df = pd.read_excel('6.2 data.xlsx')\n",
    "df"
   ]
  },
  {
   "cell_type": "code",
   "execution_count": 86,
   "id": "e6528305",
   "metadata": {},
   "outputs": [],
   "source": [
    "flat_1 = [60, 5, 'who_knows']\n",
    "flat_2 = [40, 2, 'who_knows']"
   ]
  },
  {
   "cell_type": "code",
   "execution_count": 87,
   "id": "41f7f351",
   "metadata": {},
   "outputs": [],
   "source": [
    "def distance(A, X):\n",
    "    dist = 0\n",
    "    for i in range(len(A)):\n",
    "        dist += (A[i] - X[i])**2\n",
    "    dist = dist ** 0.5\n",
    "    return dist"
   ]
  },
  {
   "cell_type": "code",
   "execution_count": 80,
   "id": "898c4349",
   "metadata": {},
   "outputs": [
    {
     "data": {
      "text/plain": [
       "[10.198039027185569,\n",
       " 30.265491900843113,\n",
       " 22.20360331117452,\n",
       " 8.602325267042627,\n",
       " 20.615528128088304,\n",
       " 30.4138126514911,\n",
       " 40.11234224026316]"
      ]
     },
     "execution_count": 80,
     "metadata": {},
     "output_type": "execute_result"
    }
   ],
   "source": [
    "dist_to_other_flats = []\n",
    "for i in range (len( df)):\n",
    "    dist_to_other_flats.append(  distance(   df[df.index == i].values[0][:-1], flat_1[:-1]   )      )\n",
    "dist_to_other_flats\n",
    "    "
   ]
  },
  {
   "cell_type": "code",
   "execution_count": 81,
   "id": "7136d73d",
   "metadata": {},
   "outputs": [],
   "source": [
    "df['dist_to_flat_1'] = dist_to_other_flats"
   ]
  },
  {
   "cell_type": "code",
   "execution_count": 82,
   "id": "e46d9c65",
   "metadata": {},
   "outputs": [],
   "source": [
    "df = df.sort_values('dist_to_flat_1')"
   ]
  },
  {
   "cell_type": "code",
   "execution_count": 83,
   "id": "dff335c2",
   "metadata": {},
   "outputs": [
    {
     "data": {
      "text/html": [
       "<div>\n",
       "<style scoped>\n",
       "    .dataframe tbody tr th:only-of-type {\n",
       "        vertical-align: middle;\n",
       "    }\n",
       "\n",
       "    .dataframe tbody tr th {\n",
       "        vertical-align: top;\n",
       "    }\n",
       "\n",
       "    .dataframe thead th {\n",
       "        text-align: right;\n",
       "    }\n",
       "</style>\n",
       "<table border=\"1\" class=\"dataframe\">\n",
       "  <thead>\n",
       "    <tr style=\"text-align: right;\">\n",
       "      <th></th>\n",
       "      <th>Класс</th>\n",
       "    </tr>\n",
       "  </thead>\n",
       "  <tbody>\n",
       "    <tr>\n",
       "      <th>3</th>\n",
       "      <td>Комфорт</td>\n",
       "    </tr>\n",
       "    <tr>\n",
       "      <th>0</th>\n",
       "      <td>Комфорт</td>\n",
       "    </tr>\n",
       "    <tr>\n",
       "      <th>4</th>\n",
       "      <td>Комфорт</td>\n",
       "    </tr>\n",
       "  </tbody>\n",
       "</table>\n",
       "</div>"
      ],
      "text/plain": [
       "     Класс \n",
       "3   Комфорт\n",
       "0   Комфорт\n",
       "4  Комфорт "
      ]
     },
     "execution_count": 83,
     "metadata": {},
     "output_type": "execute_result"
    }
   ],
   "source": [
    "df.iloc[0:3,2:3]"
   ]
  },
  {
   "cell_type": "code",
   "execution_count": 88,
   "id": "2507b441",
   "metadata": {},
   "outputs": [
    {
     "data": {
      "text/plain": [
       "[30.4138126514911,\n",
       " 10.04987562112089,\n",
       " 2.0,\n",
       " 18.027756377319946,\n",
       " 8.0,\n",
       " 12.806248474865697,\n",
       " 60.0]"
      ]
     },
     "execution_count": 88,
     "metadata": {},
     "output_type": "execute_result"
    }
   ],
   "source": [
    "dist_to_other_flats = []\n",
    "for i in range (len( df)):\n",
    "    dist_to_other_flats.append(  distance(   df[df.index == i].values[0][:-1], flat_2[:-1]   )      )\n",
    "dist_to_other_flats"
   ]
  },
  {
   "cell_type": "code",
   "execution_count": 89,
   "id": "afccf708",
   "metadata": {},
   "outputs": [],
   "source": [
    "df['dist_to_flat_2'] = dist_to_other_flats"
   ]
  },
  {
   "cell_type": "code",
   "execution_count": 90,
   "id": "6c3385b5",
   "metadata": {},
   "outputs": [],
   "source": [
    "df = df.sort_values('dist_to_flat_2')"
   ]
  },
  {
   "cell_type": "code",
   "execution_count": 91,
   "id": "e3eabab3",
   "metadata": {},
   "outputs": [
    {
     "data": {
      "text/html": [
       "<div>\n",
       "<style scoped>\n",
       "    .dataframe tbody tr th:only-of-type {\n",
       "        vertical-align: middle;\n",
       "    }\n",
       "\n",
       "    .dataframe tbody tr th {\n",
       "        vertical-align: top;\n",
       "    }\n",
       "\n",
       "    .dataframe thead th {\n",
       "        text-align: right;\n",
       "    }\n",
       "</style>\n",
       "<table border=\"1\" class=\"dataframe\">\n",
       "  <thead>\n",
       "    <tr style=\"text-align: right;\">\n",
       "      <th></th>\n",
       "      <th>Класс</th>\n",
       "    </tr>\n",
       "  </thead>\n",
       "  <tbody>\n",
       "    <tr>\n",
       "      <th>2</th>\n",
       "      <td>Эконом</td>\n",
       "    </tr>\n",
       "    <tr>\n",
       "      <th>4</th>\n",
       "      <td>Комфорт</td>\n",
       "    </tr>\n",
       "    <tr>\n",
       "      <th>1</th>\n",
       "      <td>Эконом</td>\n",
       "    </tr>\n",
       "  </tbody>\n",
       "</table>\n",
       "</div>"
      ],
      "text/plain": [
       "     Класс \n",
       "2    Эконом\n",
       "4  Комфорт \n",
       "1    Эконом"
      ]
     },
     "execution_count": 91,
     "metadata": {},
     "output_type": "execute_result"
    }
   ],
   "source": [
    "df.iloc[0:3,2:3]"
   ]
  },
  {
   "cell_type": "code",
   "execution_count": null,
   "id": "965c8f86",
   "metadata": {},
   "outputs": [],
   "source": []
  }
 ],
 "metadata": {
  "kernelspec": {
   "display_name": "Python 3 (ipykernel)",
   "language": "python",
   "name": "python3"
  },
  "language_info": {
   "codemirror_mode": {
    "name": "ipython",
    "version": 3
   },
   "file_extension": ".py",
   "mimetype": "text/x-python",
   "name": "python",
   "nbconvert_exporter": "python",
   "pygments_lexer": "ipython3",
   "version": "3.10.9"
  }
 },
 "nbformat": 4,
 "nbformat_minor": 5
}
