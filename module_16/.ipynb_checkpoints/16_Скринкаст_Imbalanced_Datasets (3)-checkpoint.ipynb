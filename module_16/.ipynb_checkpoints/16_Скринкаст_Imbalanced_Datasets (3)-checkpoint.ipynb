{
 "cells": [
  {
   "cell_type": "code",
   "execution_count": 1,
   "metadata": {
    "id": "IBecLGGltCeU"
   },
   "outputs": [],
   "source": [
    "import pandas as pd"
   ]
  },
  {
   "cell_type": "code",
   "execution_count": 2,
   "metadata": {},
   "outputs": [],
   "source": [
    "import numpy as np"
   ]
  },
  {
   "cell_type": "code",
   "execution_count": 3,
   "metadata": {},
   "outputs": [],
   "source": [
    "tst = [\n",
    "'0000',\n",
    "'1111',\n",
    "'1000',\n",
    "'0100',\n",
    "'0010',\n",
    "'0001',\n",
    "'1100',\n",
    "'0110',\n",
    "'0011',\n",
    "'1110',\n",
    "'0111',\n",
    "'1011',\n",
    "'1101',\n",
    "'1110',\n",
    "'0011',\n",
    "'1001',\n",
    "'1100',\n",
    "'0001',\n",
    "'1000',\n",
    "]"
   ]
  },
  {
   "cell_type": "code",
   "execution_count": 4,
   "metadata": {},
   "outputs": [
    {
     "data": {
      "text/plain": [
       "19"
      ]
     },
     "execution_count": 4,
     "metadata": {},
     "output_type": "execute_result"
    }
   ],
   "source": [
    "len(tst)"
   ]
  },
  {
   "cell_type": "code",
   "execution_count": 5,
   "metadata": {},
   "outputs": [
    {
     "data": {
      "text/plain": [
       "14"
      ]
     },
     "execution_count": 5,
     "metadata": {},
     "output_type": "execute_result"
    }
   ],
   "source": [
    "check = []\n",
    "for entry in tst:\n",
    "    if entry not in check:\n",
    "        check.append(entry)\n",
    "len(check)"
   ]
  },
  {
   "cell_type": "code",
   "execution_count": 6,
   "metadata": {},
   "outputs": [],
   "source": [
    "import random"
   ]
  },
  {
   "cell_type": "code",
   "execution_count": null,
   "metadata": {},
   "outputs": [],
   "source": []
  },
  {
   "cell_type": "code",
   "execution_count": 7,
   "metadata": {},
   "outputs": [],
   "source": [
    "plot_res = []\n",
    "for b in range(25):\n",
    "    counter = 0\n",
    "    results = []\n",
    "    for i in range(5000):\n",
    "        res = []\n",
    "        for k in range(b):\n",
    "            res.append(random.randint(0,1))\n",
    "        if res not in results:\n",
    "            results.append(res)\n",
    "            counter +=1\n",
    "    plot_res.append(b / counter)\n",
    "    "
   ]
  },
  {
   "cell_type": "code",
   "execution_count": 8,
   "metadata": {},
   "outputs": [],
   "source": [
    "\n",
    "import matplotlib.pyplot as plt"
   ]
  },
  {
   "cell_type": "code",
   "execution_count": 9,
   "metadata": {},
   "outputs": [
    {
     "data": {
      "text/plain": [
       "4032"
      ]
     },
     "execution_count": 9,
     "metadata": {},
     "output_type": "execute_result"
    }
   ],
   "source": [
    "res = []\n",
    "for i in range (64):\n",
    "    for k in range(64):\n",
    "        if i == k:\n",
    "            continue\n",
    "        if (i, k) in res:\n",
    "            continue\n",
    "        res.append((i,k))\n",
    "len(res)"
   ]
  },
  {
   "cell_type": "code",
   "execution_count": 10,
   "metadata": {},
   "outputs": [],
   "source": [
    "boys = [1,2,3,4,5,6]\n",
    "girls = [7,8,9,10]\n",
    "\n"
   ]
  },
  {
   "cell_type": "code",
   "execution_count": 11,
   "metadata": {},
   "outputs": [
    {
     "data": {
      "text/plain": [
       "3.6296296296296298"
      ]
     },
     "execution_count": 11,
     "metadata": {},
     "output_type": "execute_result"
    }
   ],
   "source": [
    "98/27"
   ]
  },
  {
   "cell_type": "code",
   "execution_count": 12,
   "metadata": {},
   "outputs": [
    {
     "data": {
      "text/plain": [
       "3.4074074074074074"
      ]
     },
     "execution_count": 12,
     "metadata": {},
     "output_type": "execute_result"
    }
   ],
   "source": [
    "(2*6+3*8+4*9+5*4) / (6+8+9+4)"
   ]
  },
  {
   "cell_type": "code",
   "execution_count": 13,
   "metadata": {},
   "outputs": [],
   "source": [
    "tst = '222222333333334444444445555'"
   ]
  },
  {
   "cell_type": "code",
   "execution_count": 14,
   "metadata": {},
   "outputs": [],
   "source": [
    "tst = list(tst)"
   ]
  },
  {
   "cell_type": "code",
   "execution_count": 15,
   "metadata": {},
   "outputs": [],
   "source": [
    "for i in range (len(tst)):\n",
    "    tst[i] = eval(tst[i])"
   ]
  },
  {
   "cell_type": "code",
   "execution_count": 17,
   "metadata": {},
   "outputs": [
    {
     "ename": "AttributeError",
     "evalue": "'list' object has no attribute 'mode'",
     "output_type": "error",
     "traceback": [
      "\u001b[1;31m---------------------------------------------------------------------------\u001b[0m",
      "\u001b[1;31mAttributeError\u001b[0m                            Traceback (most recent call last)",
      "Cell \u001b[1;32mIn[17], line 1\u001b[0m\n\u001b[1;32m----> 1\u001b[0m tst\u001b[38;5;241m.\u001b[39mmode()\n",
      "\u001b[1;31mAttributeError\u001b[0m: 'list' object has no attribute 'mode'"
     ]
    }
   ],
   "source": [
    "tst.mode()"
   ]
  },
  {
   "cell_type": "code",
   "execution_count": null,
   "metadata": {},
   "outputs": [],
   "source": [
    "len(tst) // 2"
   ]
  },
  {
   "cell_type": "code",
   "execution_count": null,
   "metadata": {},
   "outputs": [],
   "source": [
    "tst[13]"
   ]
  },
  {
   "cell_type": "code",
   "execution_count": null,
   "metadata": {},
   "outputs": [],
   "source": [
    "98/27"
   ]
  },
  {
   "cell_type": "code",
   "execution_count": null,
   "metadata": {},
   "outputs": [],
   "source": [
    "10*0.3+20*0.2+-30*0.1+40*0.2+50*0.2"
   ]
  },
  {
   "cell_type": "code",
   "execution_count": null,
   "metadata": {},
   "outputs": [],
   "source": [
    "plt.figure(figsize=(4,4))\n",
    "plt.plot(list(range(len(plot_res))), plot_res)\n",
    "plt.show()"
   ]
  },
  {
   "cell_type": "code",
   "execution_count": null,
   "metadata": {},
   "outputs": [],
   "source": [
    "results"
   ]
  },
  {
   "cell_type": "code",
   "execution_count": null,
   "metadata": {},
   "outputs": [],
   "source": [
    "len(tst)"
   ]
  },
  {
   "cell_type": "code",
   "execution_count": null,
   "metadata": {
    "colab": {
     "base_uri": "https://localhost:8080/",
     "height": 204
    },
    "id": "3FD8pxH7tMbZ",
    "outputId": "4bfedeac-25aa-4a29-a2d0-edaec857c186"
   },
   "outputs": [],
   "source": [
    "df = pd.read_csv('16_data.csv')\n",
    "df.head()"
   ]
  },
  {
   "cell_type": "code",
   "execution_count": null,
   "metadata": {
    "colab": {
     "base_uri": "https://localhost:8080/"
    },
    "id": "HFeDCJK0wkFg",
    "outputId": "308379a8-549c-4c1f-e513-680010f990c7"
   },
   "outputs": [],
   "source": [
    "df['target'].value_counts()"
   ]
  },
  {
   "cell_type": "code",
   "execution_count": null,
   "metadata": {
    "id": "J_oFIyKew05Q"
   },
   "outputs": [],
   "source": [
    "from sklearn.model_selection import train_test_split\n",
    "\n",
    "RANDOM_SEED = 1\n",
    "\n",
    "df_train, df_test = train_test_split(df, stratify=df['target'], test_size=0.2, random_state=RANDOM_SEED)"
   ]
  },
  {
   "cell_type": "code",
   "execution_count": null,
   "metadata": {
    "colab": {
     "base_uri": "https://localhost:8080/"
    },
    "id": "VN1Y7svayaaW",
    "outputId": "63166833-a3b4-49ec-d5a1-bdad5c164327"
   },
   "outputs": [],
   "source": [
    "from sklearn.utils import resample\n",
    "\n",
    "df_min = df_train[df_train['target'] == 1]\n",
    "df_maj = df_train[df_train['target'] == 0]\n",
    "\n",
    "df_min_upsample = resample(df_min, replace=True, n_samples=len(df_maj), random_state=RANDOM_SEED)\n",
    "\n",
    "print(df_min_upsample.shape)\n",
    "print(df_maj.shape)\n"
   ]
  },
  {
   "cell_type": "code",
   "execution_count": null,
   "metadata": {
    "colab": {
     "base_uri": "https://localhost:8080/",
     "height": 419
    },
    "id": "kcgwV9XYzrqy",
    "outputId": "b6d3d183-5eb5-4c74-ad0a-4febaab5dc2e"
   },
   "outputs": [],
   "source": [
    "df_1 = pd.concat([df_min_upsample, df_maj], ignore_index=True).sample(frac=1.)\n",
    "df_1"
   ]
  },
  {
   "cell_type": "code",
   "execution_count": null,
   "metadata": {
    "colab": {
     "base_uri": "https://localhost:8080/"
    },
    "id": "dF9vbIabz_Ps",
    "outputId": "2e9be497-1ea7-4ab5-aaaa-807446e5f7cc"
   },
   "outputs": [],
   "source": [
    "from sklearn.ensemble import RandomForestClassifier\n",
    "from sklearn.metrics import roc_auc_score\n",
    "\n",
    "features = ['age', 'surgery_year', 'positive_nodes']\n",
    "target = 'target'\n",
    "\n",
    "X_train, y_train = df_1[features], df_1[target]\n",
    "model = RandomForestClassifier(n_estimators=10, max_depth=3, random_state=RANDOM_SEED)\n",
    "model.fit(X_train, y_train)\n",
    "\n",
    "X_test, y_test = df_test[features], df_test[target]\n",
    "print(roc_auc_score(y_test, model.predict_proba(X_test)[:, 1]))"
   ]
  },
  {
   "cell_type": "code",
   "execution_count": null,
   "metadata": {
    "colab": {
     "base_uri": "https://localhost:8080/"
    },
    "id": "bcE5UYLr1d6C",
    "outputId": "09acf35f-d30a-4cfd-cbb6-24420e907a4d"
   },
   "outputs": [],
   "source": [
    "df_maj_downsample = resample(df_maj, replace=False, n_samples=len(df_min), random_state=RANDOM_SEED)\n",
    "\n",
    "print(df_maj_downsample.shape)\n",
    "print(df_min.shape)"
   ]
  },
  {
   "cell_type": "code",
   "execution_count": null,
   "metadata": {
    "colab": {
     "base_uri": "https://localhost:8080/"
    },
    "id": "bvsMUdBn2Gfg",
    "outputId": "23008960-edb4-4830-9fa1-9efce54476a0"
   },
   "outputs": [],
   "source": [
    "df_2 = pd.concat([df_maj_downsample, df_min], ignore_index=True).sample(frac=1.)\n",
    "\n",
    "X_train, y_train = df_2[features], df_2[target]\n",
    "model = RandomForestClassifier(n_estimators=10, max_depth=3, random_state=RANDOM_SEED)\n",
    "model.fit(X_train, y_train)\n",
    "\n",
    "X_test, y_test = df_test[features], df_test[target]\n",
    "print(roc_auc_score(y_test, model.predict_proba(X_test)[:, 1]))"
   ]
  },
  {
   "cell_type": "markdown",
   "metadata": {
    "id": "KkKeWNe_3M1K"
   },
   "source": [
    "## Видео 2"
   ]
  },
  {
   "cell_type": "markdown",
   "metadata": {
    "colab": {
     "base_uri": "https://localhost:8080/"
    },
    "id": "OMQj9l_b2cip",
    "outputId": "2118962b-504c-49ed-9507-197e0ca51362"
   },
   "source": [
    "!pip install imbalanced-learn"
   ]
  },
  {
   "cell_type": "code",
   "execution_count": null,
   "metadata": {
    "colab": {
     "base_uri": "https://localhost:8080/"
    },
    "id": "iJy7W1pv4-wd",
    "outputId": "d810e40e-c8e4-45a9-944e-2c6d1ba54e5a"
   },
   "outputs": [],
   "source": [
    "df_train.shape"
   ]
  },
  {
   "cell_type": "code",
   "execution_count": null,
   "metadata": {
    "colab": {
     "base_uri": "https://localhost:8080/"
    },
    "id": "-u1UwoG-5ETI",
    "outputId": "7732b2c2-b75b-43bc-bf7c-431d6e8ca300"
   },
   "outputs": [],
   "source": [
    "df_test.shape"
   ]
  },
  {
   "cell_type": "code",
   "execution_count": null,
   "metadata": {},
   "outputs": [],
   "source": [
    "import imblearn"
   ]
  },
  {
   "cell_type": "code",
   "execution_count": null,
   "metadata": {},
   "outputs": [],
   "source": [
    "?SMOTE"
   ]
  },
  {
   "cell_type": "code",
   "execution_count": null,
   "metadata": {
    "id": "jOBTGuga5FyE"
   },
   "outputs": [],
   "source": [
    "from imblearn.over_sampling import SMOTE\n",
    "\n",
    "os = SMOTE(random_state=RANDOM_SEED, k_neighbors=2)\n",
    "\n",
    "features = ['age', 'surgery_year', 'positive_nodes']\n",
    "target = 'target'\n",
    "\n",
    "X_train, y_train = os.fit_resample(df_train[features], df_train[target])"
   ]
  },
  {
   "cell_type": "code",
   "execution_count": null,
   "metadata": {
    "colab": {
     "base_uri": "https://localhost:8080/"
    },
    "id": "VesRNOzA5021",
    "outputId": "10270841-00bf-4db2-8a0e-2b7d92bd12f2"
   },
   "outputs": [],
   "source": [
    "y_train.value_counts()"
   ]
  },
  {
   "cell_type": "code",
   "execution_count": null,
   "metadata": {
    "colab": {
     "base_uri": "https://localhost:8080/"
    },
    "id": "0zzFmXI254ad",
    "outputId": "a42a4536-b145-4e1c-f65d-41969acfb410"
   },
   "outputs": [],
   "source": [
    "model = RandomForestClassifier(n_estimators=10, max_depth=3, random_state=RANDOM_SEED)\n",
    "model.fit(X_train, y_train)\n",
    "\n",
    "X_test, y_test = df_test[features], df_test[target]\n",
    "print(roc_auc_score(y_test, model.predict_proba(X_test)[:, 1]))"
   ]
  },
  {
   "cell_type": "markdown",
   "metadata": {
    "id": "xQZFIGBE7G9F"
   },
   "source": [
    "## Видео 3"
   ]
  },
  {
   "cell_type": "code",
   "execution_count": null,
   "metadata": {
    "colab": {
     "base_uri": "https://localhost:8080/"
    },
    "id": "tTQ4xx2H6SsW",
    "outputId": "3616a698-261f-4e77-c52a-18e748991e53"
   },
   "outputs": [],
   "source": [
    "df_train[df_train['target'] == 0].shape"
   ]
  },
  {
   "cell_type": "code",
   "execution_count": null,
   "metadata": {
    "colab": {
     "base_uri": "https://localhost:8080/"
    },
    "id": "GbofSXv89Jx_",
    "outputId": "4de5a3d6-c0b8-42f2-df40-3ae9469e8e45"
   },
   "outputs": [],
   "source": [
    "df_train[df_train['target'] == 1].shape"
   ]
  },
  {
   "cell_type": "code",
   "execution_count": null,
   "metadata": {
    "id": "ipAvVWyZ9MLH"
   },
   "outputs": [],
   "source": [
    "class_weights = {\n",
    "    0: 1,\n",
    "    1: (df_train[df_train['target'] == 0].shape[0] / df_train[df_train['target'] == 1].shape[0]) ** 3\n",
    "}"
   ]
  },
  {
   "cell_type": "code",
   "execution_count": null,
   "metadata": {
    "colab": {
     "base_uri": "https://localhost:8080/"
    },
    "id": "_n8oQBxv9eyN",
    "outputId": "2198be3e-33a0-428b-af8c-74da3943b7fa"
   },
   "outputs": [],
   "source": [
    "features = ['age', 'surgery_year', 'positive_nodes']\n",
    "target = 'target'\n",
    "\n",
    "X_train, y_train = df_train[features], df_train[target]\n",
    "\n",
    "model = RandomForestClassifier(n_estimators=10, max_depth=3, random_state=RANDOM_SEED, class_weight=class_weights)\n",
    "\n",
    "model.fit(X_train, y_train)\n",
    "\n",
    "X_test, y_test = df_test[features], df_test[target]\n",
    "print(roc_auc_score(y_test, model.predict_proba(X_test)[:, 1]))"
   ]
  },
  {
   "cell_type": "markdown",
   "metadata": {
    "id": "IGdlmTd__PPT"
   },
   "source": [
    "## Видео 4"
   ]
  },
  {
   "cell_type": "code",
   "execution_count": null,
   "metadata": {
    "colab": {
     "base_uri": "https://localhost:8080/"
    },
    "id": "9_pFOb0hCFha",
    "outputId": "94f61db4-b8e1-4cc3-9c47-09b6246b8c78"
   },
   "outputs": [],
   "source": [
    "from sklearn.model_selection import StratifiedKFold\n",
    "\n",
    "kf = StratifiedKFold(n_splits=3, shuffle=True, random_state=RANDOM_SEED)\n",
    "\n",
    "models = []\n",
    "metrics = []\n",
    "\n",
    "features = ['age', 'surgery_year', 'positive_nodes']\n",
    "target = 'target'\n",
    "X, y = df[features], df[target]\n",
    "\n",
    "for train_index, test_index in kf.split(X, y):\n",
    "  X_train, y_train = X.values[train_index], y.values[train_index]\n",
    "  X_test, y_test = X.values[test_index], y.values[test_index]\n",
    "\n",
    "  model = RandomForestClassifier(n_estimators=10, max_depth=3, random_state=RANDOM_SEED, class_weight='balanced')\n",
    "\n",
    "  model.fit(X_train, y_train)\n",
    "  score = roc_auc_score(y_test, model.predict_proba(X_test)[:, 1])\n",
    "  print(score)\n",
    "\n",
    "  models.append(model)\n",
    "  metrics.append(score)"
   ]
  },
  {
   "cell_type": "code",
   "execution_count": null,
   "metadata": {
    "colab": {
     "base_uri": "https://localhost:8080/"
    },
    "id": "7JUOEMK7Dx4T",
    "outputId": "51f616ee-0a18-42c4-a3e7-028411921494"
   },
   "outputs": [],
   "source": [
    "sum(metrics) / len(metrics)"
   ]
  },
  {
   "cell_type": "code",
   "execution_count": null,
   "metadata": {
    "id": "RNWt48deD4H5"
   },
   "outputs": [],
   "source": []
  }
 ],
 "metadata": {
  "colab": {
   "provenance": []
  },
  "gpuClass": "standard",
  "kernelspec": {
   "display_name": "Python 3 (ipykernel)",
   "language": "python",
   "name": "python3"
  },
  "language_info": {
   "codemirror_mode": {
    "name": "ipython",
    "version": 3
   },
   "file_extension": ".py",
   "mimetype": "text/x-python",
   "name": "python",
   "nbconvert_exporter": "python",
   "pygments_lexer": "ipython3",
   "version": "3.11.5"
  }
 },
 "nbformat": 4,
 "nbformat_minor": 1
}
