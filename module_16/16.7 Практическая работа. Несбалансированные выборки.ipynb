{
 "cells": [
  {
   "cell_type": "markdown",
   "metadata": {
    "id": "9eF9F2FVBpWX"
   },
   "source": [
    "# Несбалансированные выборки. Практическая работа"
   ]
  },
  {
   "cell_type": "markdown",
   "metadata": {
    "id": "MUo9HeJiBmFx"
   },
   "source": [
    "## Цель практической работы\n",
    "\n",
    "Научиться обрабатывать несбалансированные данные и обучать модели машинного обучения на таких данных."
   ]
  },
  {
   "cell_type": "markdown",
   "metadata": {
    "id": "Vzx_4gqxB6Ug"
   },
   "source": [
    "## Что входит в работу\n",
    "\n",
    "\n",
    "1. Загрузить данные и провести разведочный анализ.\n",
    "2. Разделить данные на обучающую и тестовую выборки.\n",
    "3. Подготовить данные для моделирования.\n",
    "4. Сбалансировать данные методом SMOTE и обучить модель машинного обучения.\n",
    "5. Обучить модель машинного обучения с использованием весов классов и кросс-валидации.\n",
    "6. Сравнить метрики качества четырёх моделей.\n",
    "\n",
    "\n"
   ]
  },
  {
   "cell_type": "markdown",
   "metadata": {
    "id": "mIR4D9d7B90r"
   },
   "source": [
    "## Что оценивается \n",
    "\n",
    "- Выполнены все этапы работы.\n",
    "- Не допущена утечка данных при разделении выборок и подготовке данных.\n",
    "- Данные корректным образом сбалансированы.\n",
    "- Модели не переобучены.\n"
   ]
  },
  {
   "cell_type": "markdown",
   "metadata": {
    "id": "eCZ1TMt0CBBY"
   },
   "source": [
    "## Как отправить работу на проверку\n",
    "\n",
    "Скачайте файл с заданиями в материалах, откройте его через Jupyter Notebook и выполните задания. Сохраните изменения при помощи опции Save and Checkpoint из вкладки меню File или кнопки Save and Checkpoint на панели инструментов. Отправьте через форму ниже итоговый файл Jupyter Notebook (в формате .ipynb) или ссылку на него.\n"
   ]
  },
  {
   "cell_type": "markdown",
   "metadata": {
    "id": "byYgWFXWCEUP"
   },
   "source": [
    "# Задача\n",
    "\n",
    "Пусть у нас имеется некоторый набор данных `german_credit_data.csv` о заёмщиках банка:"
   ]
  },
  {
   "cell_type": "markdown",
   "metadata": {
    "id": "A2jH3ATlCG8g"
   },
   "source": [
    "* Age — возраст заёмщика.\n",
    "* Sex — пол заёмщика.\n",
    "* Job — тип работы заёмщика.\n",
    "* Housing — тип жилья заёмщика.\n",
    "* Saving accounts — объём средств на сберегательных счетах заёмщика.\n",
    "* Checking account — объём средств на основном счёте заёмщика.\n",
    "* Credit amount — размер кредита. \n",
    "* Duration — срок кредита (в месяцах).\n",
    "* Purpose — цель кредита.\n",
    "* Risk — таргет, допустил ли заёмщик просрочку платежей по кредиту.\n",
    "\n",
    "Решите задачу классификации заёмщиков, чтобы банк умел заранее предсказывать просрочку платежей по кредиту. \n",
    "\n"
   ]
  },
  {
   "cell_type": "markdown",
   "metadata": {
    "id": "vsKhI6p8CQ5b"
   },
   "source": [
    "# Задание 1\n",
    "\n",
    "Загрузите датасет и выполните разведочный анализ данных. Сделайте выводы о найденных закономерностях, особенностях и других свойствах данных, которые вы обнаружите."
   ]
  },
  {
   "cell_type": "code",
   "execution_count": 75,
   "metadata": {
    "id": "UNvKHWNjzGxw"
   },
   "outputs": [],
   "source": [
    "import pandas as pd\n",
    "from sklearn.model_selection import train_test_split\n",
    "from sklearn.ensemble import RandomForestClassifier\n",
    "from sklearn.metrics import roc_auc_score\n",
    "from imblearn.over_sampling import SMOTE\n",
    "from sklearn.model_selection import StratifiedKFold\n",
    "import matplotlib.pyplot as plt\n",
    "from scipy import stats\n",
    "from sklearn.preprocessing import LabelEncoder"
   ]
  },
  {
   "cell_type": "code",
   "execution_count": 103,
   "metadata": {},
   "outputs": [],
   "source": [
    "df = pd.read_csv('german_credit_data.csv')"
   ]
  },
  {
   "cell_type": "code",
   "execution_count": 104,
   "metadata": {},
   "outputs": [],
   "source": [
    "# очень недобные названия\n",
    "col_names = dict()\n",
    "for col in df.columns:\n",
    "    col_names[col] = col.replace(' ','_').lower() if ' ' in col.lower() else (col.lower()[3:] if 'num' in col.lower() else  col.lower())\n",
    "df = df.rename(columns=col_names)"
   ]
  },
  {
   "cell_type": "code",
   "execution_count": 105,
   "metadata": {},
   "outputs": [
    {
     "data": {
      "text/plain": [
       "1000"
      ]
     },
     "execution_count": 105,
     "metadata": {},
     "output_type": "execute_result"
    }
   ],
   "source": [
    "len(df)"
   ]
  },
  {
   "cell_type": "code",
   "execution_count": 106,
   "metadata": {},
   "outputs": [
    {
     "data": {
      "text/plain": [
       "age                   0\n",
       "sex                   0\n",
       "job                   0\n",
       "housing               0\n",
       "saving_accounts     183\n",
       "checking_account    394\n",
       "credit_amount         0\n",
       "duration              0\n",
       "purpose               0\n",
       "risk                  0\n",
       "dtype: int64"
      ]
     },
     "execution_count": 106,
     "metadata": {},
     "output_type": "execute_result"
    }
   ],
   "source": [
    "df.isna().sum()"
   ]
  },
  {
   "cell_type": "code",
   "execution_count": 107,
   "metadata": {},
   "outputs": [],
   "source": [
    "df.loc[df['checking_account'].isna() == True, 'checking_account'] = 'unknown'"
   ]
  },
  {
   "cell_type": "code",
   "execution_count": 108,
   "metadata": {},
   "outputs": [],
   "source": [
    "df.loc[df['saving_accounts'].isna() == True, 'saving_accounts'] = 'unknown'"
   ]
  },
  {
   "cell_type": "code",
   "execution_count": 109,
   "metadata": {},
   "outputs": [
    {
     "name": "stdout",
     "output_type": "stream",
     "text": [
      "age  - not normal dist\n",
      "job  - not normal dist\n",
      "credit_amount  - not normal dist\n",
      "duration  - not normal dist\n"
     ]
    }
   ],
   "source": [
    "for col in df.columns:\n",
    "    if df[col].dtype == 'O':\n",
    "        continue\n",
    "\n",
    "    res = stats.shapiro(df[col])\n",
    "#     print(res[1] > 0.05)\n",
    "    print(col,' - not normal dist' if res.pvalue <= 0.05  else '- normal dist')"
   ]
  },
  {
   "cell_type": "code",
   "execution_count": 110,
   "metadata": {},
   "outputs": [],
   "source": [
    "from sklearn.preprocessing import MinMaxScaler"
   ]
  },
  {
   "cell_type": "code",
   "execution_count": 111,
   "metadata": {},
   "outputs": [
    {
     "data": {
      "text/plain": [
       "['sex', 'housing', 'saving_accounts', 'checking_account', 'purpose', 'risk']"
      ]
     },
     "execution_count": 111,
     "metadata": {},
     "output_type": "execute_result"
    }
   ],
   "source": [
    "obj_cols = []\n",
    "for col in df.columns:\n",
    "    if df[col].dtype == 'O':\n",
    "        obj_cols.append(col)\n",
    "        \n",
    "obj_cols\n"
   ]
  },
  {
   "cell_type": "code",
   "execution_count": 139,
   "metadata": {},
   "outputs": [],
   "source": [
    "classes = dict()\n",
    "for col in obj_cols:\n",
    "\n",
    "    encoder = LabelEncoder()\n",
    "    new_name = col+'_le'\n",
    "    df[new_name] = encoder.fit_transform(df[col])\n",
    "\n",
    "    classes[col] = list(zip(df[col].value_counts().keys(), df[new_name].value_counts().keys()))\n",
    "    df = df.drop(col, axis=1)"
   ]
  },
  {
   "cell_type": "code",
   "execution_count": 153,
   "metadata": {},
   "outputs": [],
   "source": [
    "num_cols = []\n",
    "for col in df.columns:\n",
    "    if '_le' in col:\n",
    "        continue\n",
    "    num_cols.append(col)"
   ]
  },
  {
   "cell_type": "code",
   "execution_count": 165,
   "metadata": {},
   "outputs": [
    {
     "data": {
      "text/plain": [
       "1    700\n",
       "0    300\n",
       "Name: risk_le, dtype: int64"
      ]
     },
     "execution_count": 165,
     "metadata": {},
     "output_type": "execute_result"
    }
   ],
   "source": [
    "df.risk_le.value_counts()"
   ]
  },
  {
   "cell_type": "code",
   "execution_count": 164,
   "metadata": {},
   "outputs": [
    {
     "data": {
      "text/plain": [
       "{'sex': [('male', 1), ('female', 0)],\n",
       " 'housing': [('own', 1), ('rent', 2), ('free', 0)],\n",
       " 'saving_accounts': [('little', 0),\n",
       "  ('unknown', 4),\n",
       "  ('moderate', 1),\n",
       "  ('quite rich', 2),\n",
       "  ('rich', 3)],\n",
       " 'checking_account': [('unknown', 3),\n",
       "  ('little', 0),\n",
       "  ('moderate', 1),\n",
       "  ('rich', 2)],\n",
       " 'purpose': [('car', 1),\n",
       "  ('radio/TV', 5),\n",
       "  ('furniture/equipment', 4),\n",
       "  ('business', 0),\n",
       "  ('education', 3),\n",
       "  ('repairs', 6),\n",
       "  ('domestic appliances', 2),\n",
       "  ('vacation/others', 7)],\n",
       " 'risk': [('good', 1), ('bad', 0)]}"
      ]
     },
     "execution_count": 164,
     "metadata": {},
     "output_type": "execute_result"
    }
   ],
   "source": [
    "classes"
   ]
  },
  {
   "cell_type": "code",
   "execution_count": 160,
   "metadata": {},
   "outputs": [
    {
     "data": {
      "image/png": "[encoded data removed]",
      "text/plain": [
       "<Figure size 864x216 with 4 Axes>"
      ]
     },
     "metadata": {
      "needs_background": "light"
     },
     "output_type": "display_data"
    }
   ],
   "source": [
    "ax = plt.subplots(1, len(num_cols) , figsize=(12,3), )[1]\n",
    "# i = 0\n",
    "# k = 0\n",
    "counter = 0\n",
    "for col in num_cols:\n",
    "    ax[counter].hist(df[col], bins=100)\n",
    "    ax[counter].set_title(f'{col}')#, rotation=30)\n",
    "    counter += 1\n"
   ]
  },
  {
   "cell_type": "markdown",
   "metadata": {
    "id": "lYEL0ZX_REkj"
   },
   "source": [
    "# Задание 2\n",
    "\n",
    "Разделите датасет на обучающую и тестовую выборки в пропорции 80:20. Разделение должно быть стратифицированным по таргету Risk.\n",
    "\n",
    "В этом и следующих заданиях используйте random_state = 1."
   ]
  },
  {
   "cell_type": "code",
   "execution_count": null,
   "metadata": {
    "id": "PY2Ea9ETzH9f"
   },
   "outputs": [],
   "source": []
  },
  {
   "cell_type": "markdown",
   "metadata": {
    "id": "W9rsryWmVTm_"
   },
   "source": [
    "# Задание 3\n",
    "\n",
    "Проведите этап очистки и подготовки данных (data preparation) и подготовьте данные к моделированию."
   ]
  },
  {
   "cell_type": "code",
   "execution_count": null,
   "metadata": {
    "id": "pRD0SVykzKDV"
   },
   "outputs": [],
   "source": []
  },
  {
   "cell_type": "markdown",
   "metadata": {
    "id": "Lfve80cbldFX"
   },
   "source": [
    "# Задание 4\n",
    "\n",
    "Сбалансируйте обучающую выборку методом SMOTE и обучите модель RandomForestClassifier. Подберите оптимальные гиперпараметры с помощью GridSearch. Посчитайте метрику ROC-AUC на тестовой выборке."
   ]
  },
  {
   "cell_type": "code",
   "execution_count": null,
   "metadata": {
    "id": "yVfrSFCszMD_"
   },
   "outputs": [],
   "source": []
  },
  {
   "cell_type": "markdown",
   "metadata": {
    "id": "B1ysndUDu5YU"
   },
   "source": [
    "# Задание 5\n",
    "\n",
    "Обучите модель RandomForestClassifier с использованием весов классов. Подберите оптимальные веса и гиперпараметры с помощью GridSearch. Посчитайте метрику ROC-AUC на тестовой выборке."
   ]
  },
  {
   "cell_type": "code",
   "execution_count": null,
   "metadata": {
    "id": "3IQbqeCvzNAp"
   },
   "outputs": [],
   "source": []
  }
 ],
 "metadata": {
  "colab": {
   "provenance": []
  },
  "gpuClass": "standard",
  "kernelspec": {
   "display_name": "Python 3",
   "language": "python",
   "name": "python3"
  },
  "language_info": {
   "codemirror_mode": {
    "name": "ipython",
    "version": 3
   },
   "file_extension": ".py",
   "mimetype": "text/x-python",
   "name": "python",
   "nbconvert_exporter": "python",
   "pygments_lexer": "ipython3",
   "version": "3.8.8"
  }
 },
 "nbformat": 4,
 "nbformat_minor": 1
}
