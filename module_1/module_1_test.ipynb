{
 "cells": [
  {
   "cell_type": "code",
   "execution_count": 1,
   "id": "66c0d937",
   "metadata": {},
   "outputs": [],
   "source": [
    "import pandas as pd\n"
   ]
  },
  {
   "cell_type": "code",
   "execution_count": 2,
   "id": "82ff017b",
   "metadata": {},
   "outputs": [],
   "source": [
    "df = pd.read_csv('DatafinitiElectronicsProductsPricingData - DatafinitiElectronicsProductsPricingData.csv')"
   ]
  },
  {
   "cell_type": "code",
   "execution_count": 5,
   "id": "883c0e72",
   "metadata": {},
   "outputs": [
    {
     "data": {
      "text/plain": [
       "835"
      ]
     },
     "execution_count": 5,
     "metadata": {},
     "output_type": "execute_result"
    }
   ],
   "source": [
    "len(df.id.unique())"
   ]
  },
  {
   "cell_type": "code",
   "execution_count": 18,
   "id": "64532780",
   "metadata": {},
   "outputs": [
    {
     "data": {
      "text/plain": [
       "Index(['id', 'prices.amountMax', 'prices.amountMin', 'prices.availability',\n",
       "       'prices.currency', 'prices.dateSeen', 'prices.isSale',\n",
       "       'prices.merchant', 'prices.shipping', 'brand', 'manufacturer',\n",
       "       'primaryCategories', 'weight', 'Unnamed: 13', 'Unnamed: 14',\n",
       "       'Unnamed: 15', 'Unnamed: 16', 'Unnamed: 17'],\n",
       "      dtype='object')"
      ]
     },
     "execution_count": 18,
     "metadata": {},
     "output_type": "execute_result"
    }
   ],
   "source": [
    "df.columns"
   ]
  },
  {
   "cell_type": "code",
   "execution_count": 19,
   "id": "4b241e32",
   "metadata": {},
   "outputs": [],
   "source": [
    "feature_list = df.columns"
   ]
  },
  {
   "cell_type": "code",
   "execution_count": 20,
   "id": "b423694a",
   "metadata": {},
   "outputs": [
    {
     "name": "stdout",
     "output_type": "stream",
     "text": [
      "xyi\n",
      "xyi\n",
      "xyi\n",
      "xyi\n",
      "xyi\n",
      "xyi\n",
      "xyi\n",
      "xyi\n",
      "xyi\n",
      "xyi\n",
      "xyi\n",
      "xyi\n",
      "xyi\n"
     ]
    }
   ],
   "source": [
    "for feature in feature_list:\n",
    "    if 'Unnam' in feature:\n",
    "        df = df.drop(feature, axis=1)\n",
    "    else:\n",
    "        print('xyi')"
   ]
  },
  {
   "cell_type": "code",
   "execution_count": 26,
   "id": "807bed75",
   "metadata": {},
   "outputs": [],
   "source": [
    "feature_list = df.columns"
   ]
  },
  {
   "cell_type": "code",
   "execution_count": 35,
   "id": "b1805a00",
   "metadata": {},
   "outputs": [
    {
     "data": {
      "text/html": [
       "<div>\n",
       "<style scoped>\n",
       "    .dataframe tbody tr th:only-of-type {\n",
       "        vertical-align: middle;\n",
       "    }\n",
       "\n",
       "    .dataframe tbody tr th {\n",
       "        vertical-align: top;\n",
       "    }\n",
       "\n",
       "    .dataframe thead th {\n",
       "        text-align: right;\n",
       "    }\n",
       "</style>\n",
       "<table border=\"1\" class=\"dataframe\">\n",
       "  <thead>\n",
       "    <tr style=\"text-align: right;\">\n",
       "      <th></th>\n",
       "      <th>id</th>\n",
       "      <th>prices.amountMax</th>\n",
       "      <th>prices.amountMin</th>\n",
       "      <th>prices.availability</th>\n",
       "      <th>prices.currency</th>\n",
       "      <th>prices.dateSeen</th>\n",
       "      <th>prices.isSale</th>\n",
       "      <th>prices.merchant</th>\n",
       "      <th>prices.shipping</th>\n",
       "      <th>brand</th>\n",
       "      <th>manufacturer</th>\n",
       "      <th>primaryCategories</th>\n",
       "      <th>weight</th>\n",
       "    </tr>\n",
       "  </thead>\n",
       "  <tbody>\n",
       "    <tr>\n",
       "      <th>0</th>\n",
       "      <td>AVphzgbJLJeJML43fA0o</td>\n",
       "      <td>104.99</td>\n",
       "      <td>104.99</td>\n",
       "      <td>Yes</td>\n",
       "      <td>USD</td>\n",
       "      <td>2017-03-30T06:00:00Z,2017-03-10T22:00:00Z,2017...</td>\n",
       "      <td>False</td>\n",
       "      <td>Bestbuy.com</td>\n",
       "      <td>NaN</td>\n",
       "      <td>Sanus</td>\n",
       "      <td>NaN</td>\n",
       "      <td>Electronics</td>\n",
       "      <td>32.8 pounds</td>\n",
       "    </tr>\n",
       "    <tr>\n",
       "      <th>1</th>\n",
       "      <td>AVpgMuGwLJeJML43KY_c</td>\n",
       "      <td>69.00</td>\n",
       "      <td>64.99</td>\n",
       "      <td>In Stock</td>\n",
       "      <td>USD</td>\n",
       "      <td>2017-12-14T06:00:00Z</td>\n",
       "      <td>True</td>\n",
       "      <td>Walmart.com</td>\n",
       "      <td>Expedited</td>\n",
       "      <td>Boytone</td>\n",
       "      <td>Boytone</td>\n",
       "      <td>Electronics</td>\n",
       "      <td>14 pounds</td>\n",
       "    </tr>\n",
       "    <tr>\n",
       "      <th>2</th>\n",
       "      <td>AVpgMuGwLJeJML43KY_c</td>\n",
       "      <td>69.00</td>\n",
       "      <td>69.00</td>\n",
       "      <td>In Stock</td>\n",
       "      <td>USD</td>\n",
       "      <td>2017-09-08T05:00:00Z</td>\n",
       "      <td>False</td>\n",
       "      <td>Walmart.com</td>\n",
       "      <td>Expedited</td>\n",
       "      <td>Boytone</td>\n",
       "      <td>Boytone</td>\n",
       "      <td>Electronics</td>\n",
       "      <td>14 pounds</td>\n",
       "    </tr>\n",
       "    <tr>\n",
       "      <th>3</th>\n",
       "      <td>AVpgMuGwLJeJML43KY_c</td>\n",
       "      <td>69.99</td>\n",
       "      <td>69.99</td>\n",
       "      <td>Yes</td>\n",
       "      <td>USD</td>\n",
       "      <td>2017-10-10T05:00:00Z</td>\n",
       "      <td>False</td>\n",
       "      <td>Bestbuy.com</td>\n",
       "      <td>NaN</td>\n",
       "      <td>Boytone</td>\n",
       "      <td>Boytone</td>\n",
       "      <td>Electronics</td>\n",
       "      <td>14 pounds</td>\n",
       "    </tr>\n",
       "    <tr>\n",
       "      <th>4</th>\n",
       "      <td>AVpgMuGwLJeJML43KY_c</td>\n",
       "      <td>66.99</td>\n",
       "      <td>66.99</td>\n",
       "      <td>Yes</td>\n",
       "      <td>USD</td>\n",
       "      <td>2017-08-28T07:00:00Z</td>\n",
       "      <td>False</td>\n",
       "      <td>Bestbuy.com</td>\n",
       "      <td>NaN</td>\n",
       "      <td>Boytone</td>\n",
       "      <td>Boytone</td>\n",
       "      <td>Electronics</td>\n",
       "      <td>14 pounds</td>\n",
       "    </tr>\n",
       "  </tbody>\n",
       "</table>\n",
       "</div>"
      ],
      "text/plain": [
       "                     id  prices.amountMax  prices.amountMin  \\\n",
       "0  AVphzgbJLJeJML43fA0o            104.99            104.99   \n",
       "1  AVpgMuGwLJeJML43KY_c             69.00             64.99   \n",
       "2  AVpgMuGwLJeJML43KY_c             69.00             69.00   \n",
       "3  AVpgMuGwLJeJML43KY_c             69.99             69.99   \n",
       "4  AVpgMuGwLJeJML43KY_c             66.99             66.99   \n",
       "\n",
       "  prices.availability prices.currency  \\\n",
       "0                 Yes             USD   \n",
       "1            In Stock             USD   \n",
       "2            In Stock             USD   \n",
       "3                 Yes             USD   \n",
       "4                 Yes             USD   \n",
       "\n",
       "                                     prices.dateSeen  prices.isSale  \\\n",
       "0  2017-03-30T06:00:00Z,2017-03-10T22:00:00Z,2017...          False   \n",
       "1                               2017-12-14T06:00:00Z           True   \n",
       "2                               2017-09-08T05:00:00Z          False   \n",
       "3                               2017-10-10T05:00:00Z          False   \n",
       "4                               2017-08-28T07:00:00Z          False   \n",
       "\n",
       "  prices.merchant prices.shipping    brand manufacturer primaryCategories  \\\n",
       "0     Bestbuy.com             NaN    Sanus          NaN       Electronics   \n",
       "1     Walmart.com       Expedited  Boytone      Boytone       Electronics   \n",
       "2     Walmart.com       Expedited  Boytone      Boytone       Electronics   \n",
       "3     Bestbuy.com             NaN  Boytone      Boytone       Electronics   \n",
       "4     Bestbuy.com             NaN  Boytone      Boytone       Electronics   \n",
       "\n",
       "        weight  \n",
       "0  32.8 pounds  \n",
       "1    14 pounds  \n",
       "2    14 pounds  \n",
       "3    14 pounds  \n",
       "4    14 pounds  "
      ]
     },
     "execution_count": 35,
     "metadata": {},
     "output_type": "execute_result"
    }
   ],
   "source": [
    "df.head()"
   ]
  },
  {
   "cell_type": "code",
   "execution_count": 31,
   "id": "aa33a7a3",
   "metadata": {},
   "outputs": [
    {
     "name": "stdout",
     "output_type": "stream",
     "text": [
      "id\n",
      "object\n",
      "835\n",
      " \n",
      "prices.amountMax\n",
      "float64\n",
      "2519\n",
      " \n",
      "prices.amountMin\n",
      "float64\n",
      "2668\n",
      " \n",
      "prices.availability\n",
      "object\n",
      "14\n",
      " \n",
      "prices.currency\n",
      "object\n",
      "2\n",
      " \n",
      "prices.dateSeen\n",
      "object\n",
      "3834\n",
      " \n",
      "prices.isSale\n",
      "bool\n",
      "2\n",
      " \n",
      "prices.merchant\n",
      "object\n",
      "693\n",
      " \n",
      "prices.shipping\n",
      "object\n",
      "75\n",
      " \n",
      "brand\n",
      "object\n",
      "257\n",
      " \n",
      "manufacturer\n",
      "object\n",
      "199\n",
      " \n",
      "primaryCategories\n",
      "object\n",
      "5\n",
      " \n",
      "weight\n",
      "object\n",
      "587\n",
      " \n"
     ]
    }
   ],
   "source": [
    "for feature in feature_list:\n",
    "    print(feature)\n",
    "    print(df[feature].dtype)\n",
    "    print(len(df[feature].unique()))\n",
    "    print(' ')"
   ]
  }
 ],
 "metadata": {
  "kernelspec": {
   "display_name": "Python 3 (ipykernel)",
   "language": "python",
   "name": "python3"
  },
  "language_info": {
   "codemirror_mode": {
    "name": "ipython",
    "version": 3
   },
   "file_extension": ".py",
   "mimetype": "text/x-python",
   "name": "python",
   "nbconvert_exporter": "python",
   "pygments_lexer": "ipython3",
   "version": "3.10.9"
  }
 },
 "nbformat": 4,
 "nbformat_minor": 5
}
