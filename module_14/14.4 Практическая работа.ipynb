{
 "cells": [
  {
   "cell_type": "markdown",
   "metadata": {
    "id": "Fa8xrPtQigaq"
   },
   "source": [
    "# Интерпретация. Практическая работа"
   ]
  },
  {
   "cell_type": "markdown",
   "metadata": {
    "id": "rM7f0TqsimDn"
   },
   "source": [
    "## Цель практической работы\n",
    "\n",
    "Научиться интерпретировать модели кластеризации."
   ]
  },
  {
   "cell_type": "markdown",
   "metadata": {
    "id": "yeRAMOIyjGyE"
   },
   "source": [
    "## Что входит в практическую работу\n",
    "\n",
    "\n",
    "1. Загрузить данные и провести разведочный анализ.\n",
    "2. Предположить оптимальное количество кластеров.\n",
    "3. Очистить и подготовить данные для использования в моделях машинного обучения.\n",
    "4. Построить модель кластеризации с помощью библиотеки Scikit-learn и вычислить оптимальное количество кластеров.\n",
    "5. Визуализировать результаты кластеризации.\n",
    "6. Интерпретировать полученные результаты.\n",
    "7. Подкрепить выводы интерпретации визуализациями."
   ]
  },
  {
   "cell_type": "markdown",
   "metadata": {
    "id": "SpyrwrqMm7cb"
   },
   "source": [
    "## Что оценивается \n",
    "\n",
    "* Выполнены все этапы работы.\n",
    "* Сделаны выводы по результатам разведочного анализа данных.\n",
    "* Выполнена и обоснована подготовка данных.\n",
    "* Выбор количества кластеров обоснован и подкреплён визуализацией. \n",
    "* Выбор гиперпараметров метода понижения размерности обоснован.\n",
    "* Интерпретация кластеров подкреплена расчётами и визуализацией. \n",
    "\n"
   ]
  },
  {
   "cell_type": "markdown",
   "metadata": {
    "id": "WZ-WRPIQn8ks"
   },
   "source": [
    "# Задача\n",
    "\n",
    "У вас имеется некоторый набор данных `marketing_campaign.csv` о покупателях супермаркета."
   ]
  },
  {
   "cell_type": "markdown",
   "metadata": {
    "id": "yBTmtB2BoCSD"
   },
   "source": [
    "* ID — уникальный идентификатор клиента.\n",
    "* Year_Birth — год рождения клиента.\n",
    "* Dt_Customer — дата регистрации клиента на сайте.\n",
    "* Recency — количество дней с момента последней покупки клиента.\n",
    "* MntFruits — сумма, потраченная на фрукты за последние два года.\n",
    "* MntMeatProducts — сумма, потраченная на мясо за последние два года.\n",
    "* MntFishProducts — сумма, потраченная на рыбу за последние два года.\n",
    "* MntSweetProducts — сумма, потраченная на сладости за последние два года.\n",
    "* NumWebPurchases — количество покупок, совершённых через сайт.\n",
    "* NumStorePurchases — количество покупок, совершённых непосредственно в магазинах.\n",
    "* Response: 1, если клиент участвовал в последней рекламной кампании, 0 — в противном случае.\n",
    "\n",
    "Решите задачу кластеризации покупателей, чтобы в дальнейшем планировать маркетинговые акции для каждой группы покупателей. Подготовьте результаты своей работы для демонстрации заказчику, не погружённому в машинное обучение."
   ]
  },
  {
   "cell_type": "markdown",
   "metadata": {
    "id": "Wyxcu8IA9Xlv"
   },
   "source": [
    "# Задание 1\n",
    "\n",
    "Загрузите датасет и выполните разведочный анализ данных. Сделайте выводы о найденных закономерностях, особенностях и других свойствах данных, которые вы обнаружите."
   ]
  },
  {
   "cell_type": "code",
   "execution_count": 1,
   "metadata": {
    "id": "_W82JYp6YiVT"
   },
   "outputs": [],
   "source": [
    "import numpy as np\n",
    "import pandas as pd\n",
    "import matplotlib.pyplot as plt\n",
    "import seaborn as sns\n",
    "\n",
    "from sklearn.cluster import KMeans\n",
    "from sklearn.preprocessing import LabelEncoder\n",
    "from sklearn.preprocessing import OneHotEncoder\n",
    "from sklearn.preprocessing import MinMaxScaler\n",
    "from sklearn.preprocessing import StandardScaler\n",
    "from scipy import stats\n",
    "\n",
    "import warnings\n",
    "warnings.filterwarnings('ignore')"
   ]
  },
  {
   "cell_type": "code",
   "execution_count": 15,
   "metadata": {},
   "outputs": [],
   "source": [
    "df = pd.read_csv('14.4 marketing campaign.csv')"
   ]
  },
  {
   "cell_type": "code",
   "execution_count": 16,
   "metadata": {},
   "outputs": [
    {
     "data": {
      "text/html": [
       "<div>\n",
       "<style scoped>\n",
       "    .dataframe tbody tr th:only-of-type {\n",
       "        vertical-align: middle;\n",
       "    }\n",
       "\n",
       "    .dataframe tbody tr th {\n",
       "        vertical-align: top;\n",
       "    }\n",
       "\n",
       "    .dataframe thead th {\n",
       "        text-align: right;\n",
       "    }\n",
       "</style>\n",
       "<table border=\"1\" class=\"dataframe\">\n",
       "  <thead>\n",
       "    <tr style=\"text-align: right;\">\n",
       "      <th></th>\n",
       "      <th>ID</th>\n",
       "      <th>Year_Birth</th>\n",
       "      <th>Dt_Customer</th>\n",
       "      <th>Recency</th>\n",
       "      <th>MntFruits</th>\n",
       "      <th>MntMeatProducts</th>\n",
       "      <th>MntFishProducts</th>\n",
       "      <th>MntSweetProducts</th>\n",
       "      <th>NumWebPurchases</th>\n",
       "      <th>NumStorePurchases</th>\n",
       "      <th>Response</th>\n",
       "    </tr>\n",
       "  </thead>\n",
       "  <tbody>\n",
       "    <tr>\n",
       "      <th>0</th>\n",
       "      <td>5524</td>\n",
       "      <td>1957</td>\n",
       "      <td>04-09-2012</td>\n",
       "      <td>58</td>\n",
       "      <td>88</td>\n",
       "      <td>546</td>\n",
       "      <td>172</td>\n",
       "      <td>88</td>\n",
       "      <td>8</td>\n",
       "      <td>4</td>\n",
       "      <td>1</td>\n",
       "    </tr>\n",
       "    <tr>\n",
       "      <th>1</th>\n",
       "      <td>2174</td>\n",
       "      <td>1954</td>\n",
       "      <td>08-03-2014</td>\n",
       "      <td>38</td>\n",
       "      <td>1</td>\n",
       "      <td>6</td>\n",
       "      <td>2</td>\n",
       "      <td>1</td>\n",
       "      <td>1</td>\n",
       "      <td>2</td>\n",
       "      <td>0</td>\n",
       "    </tr>\n",
       "    <tr>\n",
       "      <th>2</th>\n",
       "      <td>4141</td>\n",
       "      <td>1965</td>\n",
       "      <td>21-08-2013</td>\n",
       "      <td>26</td>\n",
       "      <td>49</td>\n",
       "      <td>127</td>\n",
       "      <td>111</td>\n",
       "      <td>21</td>\n",
       "      <td>8</td>\n",
       "      <td>10</td>\n",
       "      <td>0</td>\n",
       "    </tr>\n",
       "    <tr>\n",
       "      <th>3</th>\n",
       "      <td>6182</td>\n",
       "      <td>1984</td>\n",
       "      <td>10-02-2014</td>\n",
       "      <td>26</td>\n",
       "      <td>4</td>\n",
       "      <td>20</td>\n",
       "      <td>10</td>\n",
       "      <td>3</td>\n",
       "      <td>2</td>\n",
       "      <td>4</td>\n",
       "      <td>0</td>\n",
       "    </tr>\n",
       "    <tr>\n",
       "      <th>4</th>\n",
       "      <td>5324</td>\n",
       "      <td>1981</td>\n",
       "      <td>19-01-2014</td>\n",
       "      <td>94</td>\n",
       "      <td>43</td>\n",
       "      <td>118</td>\n",
       "      <td>46</td>\n",
       "      <td>27</td>\n",
       "      <td>5</td>\n",
       "      <td>6</td>\n",
       "      <td>0</td>\n",
       "    </tr>\n",
       "  </tbody>\n",
       "</table>\n",
       "</div>"
      ],
      "text/plain": [
       "     ID  Year_Birth Dt_Customer  Recency  MntFruits  MntMeatProducts  \\\n",
       "0  5524        1957  04-09-2012       58         88              546   \n",
       "1  2174        1954  08-03-2014       38          1                6   \n",
       "2  4141        1965  21-08-2013       26         49              127   \n",
       "3  6182        1984  10-02-2014       26          4               20   \n",
       "4  5324        1981  19-01-2014       94         43              118   \n",
       "\n",
       "   MntFishProducts  MntSweetProducts  NumWebPurchases  NumStorePurchases  \\\n",
       "0              172                88                8                  4   \n",
       "1                2                 1                1                  2   \n",
       "2              111                21                8                 10   \n",
       "3               10                 3                2                  4   \n",
       "4               46                27                5                  6   \n",
       "\n",
       "   Response  \n",
       "0         1  \n",
       "1         0  \n",
       "2         0  \n",
       "3         0  \n",
       "4         0  "
      ]
     },
     "execution_count": 16,
     "metadata": {},
     "output_type": "execute_result"
    }
   ],
   "source": [
    "df.head()"
   ]
  },
  {
   "cell_type": "code",
   "execution_count": 17,
   "metadata": {
    "scrolled": true
   },
   "outputs": [
    {
     "data": {
      "text/plain": [
       "0"
      ]
     },
     "execution_count": 17,
     "metadata": {},
     "output_type": "execute_result"
    }
   ],
   "source": [
    "# пропусков нет, уже приятно\n",
    "sum(df.isna().sum())"
   ]
  },
  {
   "cell_type": "code",
   "execution_count": 18,
   "metadata": {},
   "outputs": [
    {
     "data": {
      "text/plain": [
       "{'ID': 'id',\n",
       " 'Year_Birth': 'year_birth',\n",
       " 'Dt_Customer': 'dt_customer',\n",
       " 'Recency': 'recency',\n",
       " 'MntFruits': 'fruits',\n",
       " 'MntMeatProducts': 'meatproducts',\n",
       " 'MntFishProducts': 'fishproducts',\n",
       " 'MntSweetProducts': 'sweetproducts',\n",
       " 'NumWebPurchases': 'webpurchases',\n",
       " 'NumStorePurchases': 'storepurchases',\n",
       " 'Response': 'response'}"
      ]
     },
     "execution_count": 18,
     "metadata": {},
     "output_type": "execute_result"
    }
   ],
   "source": [
    "col_names = dict()\n",
    "for col in df.columns:\n",
    "    col_names[col] = col.lower()[3:] if 'mnt' in col.lower() else (col.lower()[3:] if 'num' in col.lower() else  col.lower())\n",
    "col_names"
   ]
  },
  {
   "cell_type": "code",
   "execution_count": 19,
   "metadata": {},
   "outputs": [],
   "source": [
    "df = df.rename(columns=col_names)"
   ]
  },
  {
   "cell_type": "code",
   "execution_count": 20,
   "metadata": {},
   "outputs": [
    {
     "data": {
      "text/html": [
       "<div>\n",
       "<style scoped>\n",
       "    .dataframe tbody tr th:only-of-type {\n",
       "        vertical-align: middle;\n",
       "    }\n",
       "\n",
       "    .dataframe tbody tr th {\n",
       "        vertical-align: top;\n",
       "    }\n",
       "\n",
       "    .dataframe thead th {\n",
       "        text-align: right;\n",
       "    }\n",
       "</style>\n",
       "<table border=\"1\" class=\"dataframe\">\n",
       "  <thead>\n",
       "    <tr style=\"text-align: right;\">\n",
       "      <th></th>\n",
       "      <th>id</th>\n",
       "      <th>year_birth</th>\n",
       "      <th>dt_customer</th>\n",
       "      <th>recency</th>\n",
       "      <th>fruits</th>\n",
       "      <th>meatproducts</th>\n",
       "      <th>fishproducts</th>\n",
       "      <th>sweetproducts</th>\n",
       "      <th>webpurchases</th>\n",
       "      <th>storepurchases</th>\n",
       "      <th>response</th>\n",
       "    </tr>\n",
       "  </thead>\n",
       "  <tbody>\n",
       "    <tr>\n",
       "      <th>0</th>\n",
       "      <td>5524</td>\n",
       "      <td>1957</td>\n",
       "      <td>04-09-2012</td>\n",
       "      <td>58</td>\n",
       "      <td>88</td>\n",
       "      <td>546</td>\n",
       "      <td>172</td>\n",
       "      <td>88</td>\n",
       "      <td>8</td>\n",
       "      <td>4</td>\n",
       "      <td>1</td>\n",
       "    </tr>\n",
       "    <tr>\n",
       "      <th>1</th>\n",
       "      <td>2174</td>\n",
       "      <td>1954</td>\n",
       "      <td>08-03-2014</td>\n",
       "      <td>38</td>\n",
       "      <td>1</td>\n",
       "      <td>6</td>\n",
       "      <td>2</td>\n",
       "      <td>1</td>\n",
       "      <td>1</td>\n",
       "      <td>2</td>\n",
       "      <td>0</td>\n",
       "    </tr>\n",
       "    <tr>\n",
       "      <th>2</th>\n",
       "      <td>4141</td>\n",
       "      <td>1965</td>\n",
       "      <td>21-08-2013</td>\n",
       "      <td>26</td>\n",
       "      <td>49</td>\n",
       "      <td>127</td>\n",
       "      <td>111</td>\n",
       "      <td>21</td>\n",
       "      <td>8</td>\n",
       "      <td>10</td>\n",
       "      <td>0</td>\n",
       "    </tr>\n",
       "    <tr>\n",
       "      <th>3</th>\n",
       "      <td>6182</td>\n",
       "      <td>1984</td>\n",
       "      <td>10-02-2014</td>\n",
       "      <td>26</td>\n",
       "      <td>4</td>\n",
       "      <td>20</td>\n",
       "      <td>10</td>\n",
       "      <td>3</td>\n",
       "      <td>2</td>\n",
       "      <td>4</td>\n",
       "      <td>0</td>\n",
       "    </tr>\n",
       "    <tr>\n",
       "      <th>4</th>\n",
       "      <td>5324</td>\n",
       "      <td>1981</td>\n",
       "      <td>19-01-2014</td>\n",
       "      <td>94</td>\n",
       "      <td>43</td>\n",
       "      <td>118</td>\n",
       "      <td>46</td>\n",
       "      <td>27</td>\n",
       "      <td>5</td>\n",
       "      <td>6</td>\n",
       "      <td>0</td>\n",
       "    </tr>\n",
       "    <tr>\n",
       "      <th>...</th>\n",
       "      <td>...</td>\n",
       "      <td>...</td>\n",
       "      <td>...</td>\n",
       "      <td>...</td>\n",
       "      <td>...</td>\n",
       "      <td>...</td>\n",
       "      <td>...</td>\n",
       "      <td>...</td>\n",
       "      <td>...</td>\n",
       "      <td>...</td>\n",
       "      <td>...</td>\n",
       "    </tr>\n",
       "    <tr>\n",
       "      <th>2235</th>\n",
       "      <td>10870</td>\n",
       "      <td>1967</td>\n",
       "      <td>13-06-2013</td>\n",
       "      <td>46</td>\n",
       "      <td>43</td>\n",
       "      <td>182</td>\n",
       "      <td>42</td>\n",
       "      <td>118</td>\n",
       "      <td>9</td>\n",
       "      <td>4</td>\n",
       "      <td>0</td>\n",
       "    </tr>\n",
       "    <tr>\n",
       "      <th>2236</th>\n",
       "      <td>4001</td>\n",
       "      <td>1946</td>\n",
       "      <td>10-06-2014</td>\n",
       "      <td>56</td>\n",
       "      <td>0</td>\n",
       "      <td>30</td>\n",
       "      <td>0</td>\n",
       "      <td>0</td>\n",
       "      <td>8</td>\n",
       "      <td>5</td>\n",
       "      <td>0</td>\n",
       "    </tr>\n",
       "    <tr>\n",
       "      <th>2237</th>\n",
       "      <td>7270</td>\n",
       "      <td>1981</td>\n",
       "      <td>25-01-2014</td>\n",
       "      <td>91</td>\n",
       "      <td>48</td>\n",
       "      <td>217</td>\n",
       "      <td>32</td>\n",
       "      <td>12</td>\n",
       "      <td>2</td>\n",
       "      <td>13</td>\n",
       "      <td>0</td>\n",
       "    </tr>\n",
       "    <tr>\n",
       "      <th>2238</th>\n",
       "      <td>8235</td>\n",
       "      <td>1956</td>\n",
       "      <td>24-01-2014</td>\n",
       "      <td>8</td>\n",
       "      <td>30</td>\n",
       "      <td>214</td>\n",
       "      <td>80</td>\n",
       "      <td>30</td>\n",
       "      <td>6</td>\n",
       "      <td>10</td>\n",
       "      <td>0</td>\n",
       "    </tr>\n",
       "    <tr>\n",
       "      <th>2239</th>\n",
       "      <td>9405</td>\n",
       "      <td>1954</td>\n",
       "      <td>15-10-2012</td>\n",
       "      <td>40</td>\n",
       "      <td>3</td>\n",
       "      <td>61</td>\n",
       "      <td>2</td>\n",
       "      <td>1</td>\n",
       "      <td>3</td>\n",
       "      <td>4</td>\n",
       "      <td>1</td>\n",
       "    </tr>\n",
       "  </tbody>\n",
       "</table>\n",
       "<p>2240 rows × 11 columns</p>\n",
       "</div>"
      ],
      "text/plain": [
       "         id  year_birth dt_customer  recency  fruits  meatproducts  \\\n",
       "0      5524        1957  04-09-2012       58      88           546   \n",
       "1      2174        1954  08-03-2014       38       1             6   \n",
       "2      4141        1965  21-08-2013       26      49           127   \n",
       "3      6182        1984  10-02-2014       26       4            20   \n",
       "4      5324        1981  19-01-2014       94      43           118   \n",
       "...     ...         ...         ...      ...     ...           ...   \n",
       "2235  10870        1967  13-06-2013       46      43           182   \n",
       "2236   4001        1946  10-06-2014       56       0            30   \n",
       "2237   7270        1981  25-01-2014       91      48           217   \n",
       "2238   8235        1956  24-01-2014        8      30           214   \n",
       "2239   9405        1954  15-10-2012       40       3            61   \n",
       "\n",
       "      fishproducts  sweetproducts  webpurchases  storepurchases  response  \n",
       "0              172             88             8               4         1  \n",
       "1                2              1             1               2         0  \n",
       "2              111             21             8              10         0  \n",
       "3               10              3             2               4         0  \n",
       "4               46             27             5               6         0  \n",
       "...            ...            ...           ...             ...       ...  \n",
       "2235            42            118             9               4         0  \n",
       "2236             0              0             8               5         0  \n",
       "2237            32             12             2              13         0  \n",
       "2238            80             30             6              10         0  \n",
       "2239             2              1             3               4         1  \n",
       "\n",
       "[2240 rows x 11 columns]"
      ]
     },
     "execution_count": 20,
     "metadata": {},
     "output_type": "execute_result"
    }
   ],
   "source": [
    "df"
   ]
  },
  {
   "cell_type": "code",
   "execution_count": 24,
   "metadata": {},
   "outputs": [
    {
     "name": "stdout",
     "output_type": "stream",
     "text": [
      "year_birth  - not normal dist\n",
      "recency  - not normal dist\n",
      "fruits  - not normal dist\n",
      "meatproducts  - not normal dist\n",
      "fishproducts  - not normal dist\n",
      "sweetproducts  - not normal dist\n",
      "webpurchases  - not normal dist\n",
      "storepurchases  - not normal dist\n",
      "response  - not normal dist\n"
     ]
    }
   ],
   "source": [
    "for col in df.columns:\n",
    "\n",
    "    if col == 'id':\n",
    "        continue\n",
    "    if col == 'dt_customer':\n",
    "        continue\n",
    "    res = stats.shapiro(df[col])\n",
    "#     print(res[1] > 0.05)\n",
    "    print(col,' - not normal dist' if res.pvalue <= 0.05  else '- normal dist')"
   ]
  },
  {
   "cell_type": "code",
   "execution_count": 53,
   "metadata": {
    "scrolled": false
   },
   "outputs": [
    {
     "data": {
      "image/png": "[encoded data removed]",
      "text/plain": [
       "<Figure size 1000x800 with 12 Axes>"
      ]
     },
     "metadata": {},
     "output_type": "display_data"
    }
   ],
   "source": [
    "ax = plt.subplots(3, (len(df.columns) // 3 + 1), figsize=(10,8), )[1]\n",
    "i = 0\n",
    "k = 0\n",
    "counter = 0\n",
    "for col in df.columns:\n",
    "    if counter == 4:\n",
    "        i +=1\n",
    "        counter = 0\n",
    "        k = 0\n",
    "    ax[i][k].hist(df[col])\n",
    "    ax[i][k].set_title(f'{col}')#, rotation=30)\n",
    "    k += 1\n",
    "    counter += 1\n"
   ]
  },
  {
   "cell_type": "code",
   "execution_count": null,
   "metadata": {},
   "outputs": [],
   "source": []
  },
  {
   "cell_type": "markdown",
   "metadata": {
    "id": "pqyP34ti9gNX"
   },
   "source": [
    "# Задание 2\n",
    "\n",
    "Метод k-средних требует явно задать количество кластеров, на которые будут разбиваться данные. Данных может быть так много, что построение одной модели будет занимать несколько часов, поэтому важно заранее примерно представлять количество кластеров до запуска обучения модели.\n",
    "\n",
    "На основе проведённого разведочного анализа данных предположите, какое количество кластеров будет оптимальным, аргументируйте своё предположение."
   ]
  },
  {
   "cell_type": "markdown",
   "metadata": {
    "id": "KK_NoLgO9jeN"
   },
   "source": [
    "Напишите ваш ответ ниже\n"
   ]
  },
  {
   "cell_type": "markdown",
   "metadata": {
    "id": "QOgH7n4H_i_6"
   },
   "source": [
    "# Задание 3\n",
    "\n",
    "Выполните очистку и подготовку данных для дальнейшего использования при построении моделей машинного обучения. Аргументируйте выбранные шаги подготовки данных. "
   ]
  },
  {
   "cell_type": "code",
   "execution_count": null,
   "metadata": {
    "id": "QMpybzSJYlSX"
   },
   "outputs": [],
   "source": []
  },
  {
   "cell_type": "markdown",
   "metadata": {
    "id": "FJluelbRAL_m"
   },
   "source": [
    "# Задание 4\n",
    "\n",
    "Постройте модель кластеризации с помощью метода k-средних. Определите оптимальное количество кластеров с помощью метода локтя и метрики silhouette score. \n",
    "\n",
    "Помните, что аналитический способ определения количества кластеров не является единственно верным. Если ваше понимание предметной области и результаты анализа данных расходятся с результатами метода локтя, вы можете выбрать и обосновать количество кластеров, исходя из своего опыта."
   ]
  },
  {
   "cell_type": "code",
   "execution_count": null,
   "metadata": {
    "id": "ev0CM8N_YsuI"
   },
   "outputs": [],
   "source": []
  },
  {
   "cell_type": "markdown",
   "metadata": {
    "id": "fu6KHi83BhP3"
   },
   "source": [
    "# Задание 5\n",
    "\n",
    "Визуализируйте результаты кластеризации на двумерном графике с помощью метода t-SNE. Обоснуйте выбранные значения его гиперпараметров."
   ]
  },
  {
   "cell_type": "code",
   "execution_count": null,
   "metadata": {
    "id": "-lZU0PikYtn9"
   },
   "outputs": [],
   "source": []
  },
  {
   "cell_type": "markdown",
   "metadata": {
    "id": "mhmmvnkZB02h"
   },
   "source": [
    "# Задание 6\n",
    "\n",
    "Постройте профили кластеров и опишите их."
   ]
  },
  {
   "cell_type": "code",
   "execution_count": null,
   "metadata": {
    "id": "G1Pk1-khYusN"
   },
   "outputs": [],
   "source": []
  },
  {
   "cell_type": "markdown",
   "metadata": {
    "id": "6FCZqcWLDN38"
   },
   "source": [
    "# Задание 7\n",
    "\n",
    "Визуализируйте профили кластеров. Подготовьте краткое резюме результатов вашего исследования для заказчика."
   ]
  },
  {
   "cell_type": "markdown",
   "metadata": {
    "id": "ERoaEjkJn26M"
   },
   "source": [
    "## Как отправить работу на проверку\n",
    "\n",
    "Скачайте файл с заданием в материалах, откройте его через Jupyter Notebook и выполните задания. Сохраните изменения при помощи опции Save and Checkpoint из вкладки меню File или кнопки Save and Checkpoint на панели инструментов. Отправьте через форму ниже итоговый файл Jupyter Notebook (.ipynb) или ссылку на него."
   ]
  },
  {
   "cell_type": "code",
   "execution_count": null,
   "metadata": {
    "id": "_xK9dAu7SQkL"
   },
   "outputs": [],
   "source": []
  }
 ],
 "metadata": {
  "colab": {
   "provenance": []
  },
  "gpuClass": "standard",
  "kernelspec": {
   "display_name": "Python 3 (ipykernel)",
   "language": "python",
   "name": "python3"
  },
  "language_info": {
   "codemirror_mode": {
    "name": "ipython",
    "version": 3
   },
   "file_extension": ".py",
   "mimetype": "text/x-python",
   "name": "python",
   "nbconvert_exporter": "python",
   "pygments_lexer": "ipython3",
   "version": "3.11.5"
  }
 },
 "nbformat": 4,
 "nbformat_minor": 1
}
