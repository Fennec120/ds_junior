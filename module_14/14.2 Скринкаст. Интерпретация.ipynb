{
  "nbformat": 4,
  "nbformat_minor": 0,
  "metadata": {
    "colab": {
      "provenance": []
    },
    "kernelspec": {
      "name": "python3",
      "display_name": "Python 3"
    },
    "language_info": {
      "name": "python"
    },
    "gpuClass": "standard"
  },
  "cells": [
    {
      "cell_type": "code",
      "execution_count": null,
      "metadata": {
        "id": "9y_C-3-DcdQw"
      },
      "outputs": [],
      "source": [
        "import pandas as pd\n",
        "\n",
        "import matplotlib.pyplot as plt\n",
        "import seaborn as sns\n",
        "%matplotlib inline\n",
        "\n",
        "from sklearn.metrics import silhouette_score\n",
        "from sklearn.cluster import KMeans"
      ]
    },
    {
      "cell_type": "code",
      "source": [
        "df = pd.read_csv('data.csv')\n",
        "df.head()"
      ],
      "metadata": {
        "id": "hMgaslxicvEP"
      },
      "execution_count": null,
      "outputs": []
    },
    {
      "cell_type": "code",
      "source": [
        "sns.scatterplot(df['Sum'], df['Days']);"
      ],
      "metadata": {
        "id": "gn5F9Nk4kl2k"
      },
      "execution_count": null,
      "outputs": []
    },
    {
      "cell_type": "code",
      "source": [
        "data = df[['Sum', 'Days']]\n",
        "\n",
        "n_clusters = list(range(2, 7))\n",
        "metrics = []\n",
        "\n",
        "for k in n_clusters:\n",
        "  km = KMeans(n_clusters=k).fit(data)\n",
        "  score = silhouette_score(data, km.labels_)\n",
        "  metrics.append(score)"
      ],
      "metadata": {
        "id": "y9mg_MPzlF4n"
      },
      "execution_count": null,
      "outputs": []
    },
    {
      "cell_type": "code",
      "source": [
        "sns.lineplot(n_clusters, metrics);\n"
      ],
      "metadata": {
        "id": "B200di0qmBtj"
      },
      "execution_count": null,
      "outputs": []
    },
    {
      "cell_type": "code",
      "source": [
        "\n",
        "print('\\n' * 20)"
      ],
      "metadata": {
        "id": "Rim2gwNmnnaB"
      },
      "execution_count": null,
      "outputs": []
    },
    {
      "cell_type": "markdown",
      "source": [
        "# Видео 2"
      ],
      "metadata": {
        "id": "7pSEv8WInZuY"
      }
    },
    {
      "cell_type": "code",
      "source": [
        "import pandas as pd\n",
        "\n",
        "import matplotlib.pyplot as plt\n",
        "import seaborn as sns\n",
        "%matplotlib inline"
      ],
      "metadata": {
        "id": "x0toGvlunM3w"
      },
      "execution_count": null,
      "outputs": []
    },
    {
      "cell_type": "code",
      "source": [
        "df = pd.read_csv('data.csv')\n",
        "df.head()"
      ],
      "metadata": {
        "id": "DBGVGdkLnrSx"
      },
      "execution_count": null,
      "outputs": []
    },
    {
      "cell_type": "code",
      "source": [
        "sns.scatterplot(df['Sum'], df['Days'], hue=df['Color'])"
      ],
      "metadata": {
        "id": "7FSsVqploknn"
      },
      "execution_count": null,
      "outputs": []
    },
    {
      "cell_type": "code",
      "source": [
        "features = ['Sum', 'Days']\n",
        "\n",
        "df_g = df.groupby('Color').agg({x: ['mean', 'std'] for x in features}).T\n",
        "df_g"
      ],
      "metadata": {
        "id": "LIH5hzHxo3Ts"
      },
      "execution_count": null,
      "outputs": []
    },
    {
      "cell_type": "code",
      "source": [
        "import numpy as np\n",
        "\n",
        "functions = ['mean', 'std']\n",
        "\n",
        "stat = np.array([[df[feature].apply(f) for f in functions] for feature in features]).flatten()\n",
        "\n",
        "df_g_rel = df_g.copy()\n",
        "df_g_rel['Global'] = stat\n",
        "df_g_rel"
      ],
      "metadata": {
        "id": "v4sJAZTCrCfh"
      },
      "execution_count": null,
      "outputs": []
    },
    {
      "cell_type": "code",
      "source": [
        "cluster_labels = [0, 1, 2]\n",
        "\n",
        "for label in cluster_labels:\n",
        "  df_g_rel[label] = 100 * df_g_rel[label] / df_g_rel['Global'] - 100\n",
        "\n",
        "df_g_rel"
      ],
      "metadata": {
        "id": "NLUyBSGFr1Vl"
      },
      "execution_count": null,
      "outputs": []
    },
    {
      "cell_type": "code",
      "source": [
        "sns.heatmap(df_g_rel[cluster_labels], cmap='coolwarm')"
      ],
      "metadata": {
        "id": "Gl6438tdsfal"
      },
      "execution_count": null,
      "outputs": []
    },
    {
      "cell_type": "markdown",
      "source": [
        "# Видео 3"
      ],
      "metadata": {
        "id": "fWNFZPH8uJok"
      }
    },
    {
      "cell_type": "code",
      "source": [
        "import pandas as pd\n",
        "import numpy as np\n",
        "\n",
        "import matplotlib.pyplot as plt\n",
        "import seaborn as sns\n",
        "%matplotlib inline\n",
        "\n",
        "from sklearn.cluster import KMeans"
      ],
      "metadata": {
        "id": "j1V8PQsNsu71"
      },
      "execution_count": null,
      "outputs": []
    },
    {
      "cell_type": "code",
      "source": [
        "df = pd.read_csv('st900.csv')\n",
        "df.head()"
      ],
      "metadata": {
        "id": "cOKt2y6p0G7U"
      },
      "execution_count": null,
      "outputs": []
    },
    {
      "cell_type": "code",
      "source": [
        "df.shape"
      ],
      "metadata": {
        "id": "1hv58umH3Mmb"
      },
      "execution_count": null,
      "outputs": []
    },
    {
      "cell_type": "code",
      "source": [
        "km = KMeans(n_clusters=4).fit(df)\n",
        "labels = km.labels_"
      ],
      "metadata": {
        "id": "wKBgj-um3VHW"
      },
      "execution_count": null,
      "outputs": []
    },
    {
      "cell_type": "code",
      "source": [
        "from sklearn.manifold import TSNE\n",
        "\n",
        "tsne = TSNE(n_components=2, perplexity=20)\n",
        "df_emb = tsne.fit_transform(df)\n",
        "data = pd.DataFrame(df_emb)\n",
        "data"
      ],
      "metadata": {
        "id": "do6BP3dr3ecM"
      },
      "execution_count": null,
      "outputs": []
    },
    {
      "cell_type": "code",
      "source": [
        "sns.scatterplot(data[0], data[1], hue=labels)"
      ],
      "metadata": {
        "id": "WWsi9MmN4JF-"
      },
      "execution_count": null,
      "outputs": []
    },
    {
      "cell_type": "code",
      "source": [],
      "metadata": {
        "id": "9FZyIe1l4f37"
      },
      "execution_count": null,
      "outputs": []
    }
  ]
}