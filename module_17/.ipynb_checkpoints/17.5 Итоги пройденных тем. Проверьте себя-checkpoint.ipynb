{
 "cells": [
  {
   "cell_type": "markdown",
   "metadata": {
    "id": "z22HWwyNWY8T"
   },
   "source": [
    "# Модуль 17. Практическая работа\n",
    "\n",
    "## Цели работы\n",
    "\n",
    "1. Познакомиться с фреймворком PyTorch, закрепить навыки из видео.\n",
    "1. Обучить простую полносвязную нейронную сеть, которая решает задачу регрессии.\n",
    "\n",
    "## Что нужно сделать\n",
    "\n",
    "1. Загрузите датасет `california_housing` из пакета `sklearn.datasets`.\n",
    "1. Разделите датасет на тренировочную и тестовую выборки. \n",
    "1. Реализуйте абстракцию доступа к тренировочным данным на основе `torch.utils.data.Dataset` и `torch.utils.data.DataLoader`. \n",
    "1. Соберите нейронную сеть из слоёв пакета torch.nn.\n",
    "1. Создайте экзепляры классов для функции потерь (`torch.nn.MSELoss`) и оптимизатора (`torch.optim.Adam`).\n",
    "1. Реализуйте тренировочный цикл.\n",
    "1. Вычислите значение функции потерь на тестовой выборке после каждой каждой эпохи и сохраните его в Python-список.\n",
    "1. После завершения тренировочного цикла нарисуйте график зависимости функции потерь на тестовой выборке от количества эпох обучения.\n",
    "\n",
    "## Что оценивается\n",
    "\n",
    "Это задание с самопроверкой, сдавать его не нужно. Просто сверьтесь с решением в конце ноутбука.\n",
    "\n",
    "## Информация о задаче\n",
    "\n",
    "### Описание датасета \n",
    "\n",
    "Набор данных, описывающий среднюю стоимость дома в округах Калифорнии. Целевая переменная — медианная стоимость дома в 100 000 долларов США в 1990 году, независимые переменные – характеристики дома:\n",
    "\n",
    "1. MedInc: медианный доход жильцов домов в квартале.\n",
    "1. HouseAge: средний возраст дома в квартале.\n",
    "1. AveRooms: среднее количество комнат.\n",
    "1. AveBedrms: среднее количество спален. \n",
    "1. Population: число жильцов в квартале.\n",
    "1. AveOccup: среднее число жильцов в квартире.\n",
    "1. Latitude: широта центра квартала.\n",
    "1. Longitude: долгота центра квартала.\n",
    "\n",
    "Данные в датасете имеют разный масштаб. Например, обычно количество комнат в доме невелико, а население в расчёте на группу домов (квартал) — велико. Более того, большинство признаков должны быть положительными, а долгота — отрицательной (потому что речь идёт о Калифорнии). \n",
    "\n",
    "### Порядок выполнения задания\n",
    "\n",
    "1. Ниже приведены семь ячеек с кодом, в котором есть недостающие фрагменты. \n",
    "1. Такие фрагменты выделены комментарием `# ВАШ КОД ЗДЕСЬ`. Ориентируйтесь на комментарии в коде. Они поясняют задания, где это необходимо. \n",
    "1. Заполните недостаюшие фрагменты так, чтобы семь ячеек, запущенные по порядку, приводили к обучению нейронной сети, которая решает задачу регрессии и предсказывает стоимость дома в Калифорнии по восьми характеристикам. Качество обучения контролируйте с помощью графика функции потерь на тестовой выборке, которая рассчитывается в конце каждой тренировочной эпохи. Если всё сделаете правильно, получится убывающий тренд: ошибка должна падать с ростом числа эпох. \n",
    "\n",
    "Опционально:\n",
    "\n",
    "1. Экспериментируйте. Меняйте гиперпараметры модели: архитектуру сети, размер батча, число эпох и learning rate. Если интересно, можете поменять оптимизатор. По-умолчанию исплользуем [Adam](https://pytorch.org/docs/stable/generated/torch.optim.Adam.html) (вариация градиентного спуска, которая адаптивно подстраивает learning rate) – в этой задаче этот численный алгоритм хорошо работает и быстро сходится. Замените его на классический стохастический градиентный спуск [SGD](https://pytorch.org/docs/stable/generated/torch.optim.SGD.html), сходимость почти наверняка упадёт. Меняйте всё что хотите, наблюдайте, как это сказывается на качестве обучения. Так нарабатывается профессиональная интуиция и опыт.  \n",
    "1. Подумайте, как улучшить модель. Например, в описании датасета неспроста указано, что данные в нём разного масштаба. Попробуйте привести их к одному масштабу, проверьте сходимость обучения. Это должно сработать.   \n",
    "\n",
    "\n"
   ]
  },
  {
   "cell_type": "code",
   "execution_count": 2,
   "metadata": {
    "id": "1fyURDqAzt-6"
   },
   "outputs": [],
   "source": [
    "# ЯЧЕЙКА 1\n",
    "\n",
    "import numpy as np\n",
    "\n",
    "import torch\n",
    "from torch import nn\n",
    "from torch.utils.data import Dataset\n",
    "from torch.utils.data import DataLoader\n",
    "\n",
    "from sklearn.model_selection import train_test_split\n",
    "from sklearn.datasets import fetch_california_housing\n",
    "import matplotlib.pyplot as plt"
   ]
  },
  {
   "cell_type": "code",
   "execution_count": 3,
   "metadata": {
    "id": "DUp4FFOGz62s"
   },
   "outputs": [],
   "source": [
    "# ЯЧЕЙКА 2 \n",
    "\n",
    "d = fetch_california_housing()\n",
    "X, y = d.data, d.target\n",
    "\n",
    "# Разделение данных на тренировочную и тестовую выборки. Используйте соотношение 80/20\n",
    "#\n",
    "X_train, X_test, y_train, y_test = train_test_split(X, y, test_size=0.2)# ВАШ КОД ЗДЕСЬ\n"
   ]
  },
  {
   "cell_type": "code",
   "execution_count": null,
   "metadata": {
    "id": "ALqmjPtQ0e66"
   },
   "outputs": [],
   "source": [
    "# ЯЧЕЙКА 3 \n",
    "\n",
    "class MyDataset(Dataset):\n",
    "  #\n",
    "  # Определите конструктор и методы __getitem__ и __len__\n",
    "  # Сделайте всё в точности так, как мы делали в видео\n",
    "  #\n",
    "  # ВАШ КОД ЗДЕСЬ\n",
    "  #\n",
    "    \n",
    "\n",
    "# Инициализируем тренировочный torch.dataset\n",
    "train_dataset = MyDataset(X_train, y_train)\n",
    "\n",
    "# Преобразуем тестовую выборку в torch-тензоры всю целиком\n",
    "X_test_tensor = torch.from_numpy(X_test.astype(np.float32))\n",
    "y_test_tensor = torch.from_numpy(y_test.astype(np.float32))"
   ]
  },
  {
   "cell_type": "code",
   "execution_count": null,
   "metadata": {
    "id": "004MOyn209Il"
   },
   "outputs": [],
   "source": [
    "# ЯЧЕЙКА 4\n",
    "\n",
    "# Пусть размер батча у нас равен 16\n",
    "batch_size = 128\n",
    "\n",
    "# Создайте Dataloader для тренировочной выборки на основе экземпляра train_dataset\n",
    "# Делайте как в видео, размер батча – batch_size\n",
    "train_dataloader = # ВАШ КОД ЗДЕСЬ"
   ]
  },
  {
   "cell_type": "code",
   "execution_count": null,
   "metadata": {
    "id": "azz4oXqs1y83"
   },
   "outputs": [],
   "source": [
    "# ЯЧЕЙКА 5\n",
    "\n",
    "# Создайте нейронную сеть, которая состоит \n",
    "# из одного входного, трёх скрытых и одного выходного слоя \n",
    "# Архитектура сети такая:\n",
    "#\n",
    "# RegressionNet(\n",
    "#   (hidden1): Linear(in_features=8, out_features=24, bias=True)\n",
    "#   (f1): ReLU()\n",
    "#   (hidden2): Linear(in_features=24, out_features=12, bias=True)\n",
    "#   (f2): ReLU()\n",
    "#   (hidden3): Linear(in_features=12, out_features=6, bias=True)\n",
    "#   (f3): ReLU()\n",
    "#   (output): Linear(in_features=6, out_features=1, bias=True)\n",
    "# )\n",
    "#\n",
    "# Другими словами, во входном слое восемь нейронов (по числу независимых переменных \n",
    "# в датасете), в первом скрытом – 24 нейрона, во втором скрытом – 12, в третьем \n",
    "# скрытом – шесть, и в выходном слое – всего один нейрон. Функции активации всюду – ReLU.\n",
    "# У входного слоя функции активации нет, у единственного нейрона выходного слоя – тоже\n",
    "# нет \n",
    "#\n",
    "# Определите для функции сети метод forward, который последовательно применяет \n",
    "# к входным данным слои сети и функции активации \n",
    "#   \n",
    "class RegressionNet(nn.Module):\n",
    "  #\n",
    "  # ВАШ КОД ЗДЕСЬ\n",
    "  #\n",
    "\n",
    "\n",
    "# Объявляем экземпляр класса нейронной сети\n",
    "model = RegressionNet()\n",
    "\n",
    "# Должен напечатать следующее:\n",
    "#\n",
    "# RegressionNet(\n",
    "#   (hidden1): Linear(in_features=8, out_features=24, bias=True)\n",
    "#   (f1): ReLU()\n",
    "#   (hidden2): Linear(in_features=24, out_features=12, bias=True)\n",
    "#   (f2): ReLU()\n",
    "#   (hidden3): Linear(in_features=12, out_features=6, bias=True)\n",
    "#   (f3): ReLU()\n",
    "#   (output): Linear(in_features=6, out_features=1, bias=True)\n",
    "# )\n",
    "#\n",
    "print(model)"
   ]
  },
  {
   "cell_type": "code",
   "execution_count": null,
   "metadata": {
    "id": "k0piamN8K0wC"
   },
   "outputs": [],
   "source": [
    "# ЯЧЕЙКА 6\n",
    "\n",
    "# Создайте объект класса, который реализует среднеквадратичную ошибку (MSE).\n",
    "loss_fn = # ВАШ КОД ЗДЕСЬ\n",
    "\n",
    "# Создаём оптимизатор. Тут будем использовать вариацию стохастического \n",
    "# градиентного спуска Adam. Это адаптивный алгоритм, который выбирает\n",
    "# шаг изменения весов (learning rate) в зависимости от текущей ситуации. \n",
    "# Это очень эффективный алгоритм, который в большинстве случаев работает \n",
    "# лучше, чем обычный градиентный спуск с постоянным шагом. В этой задаче – \n",
    "# точно лучше. Если хотите убедиться, замените Adam на torch.optim.SDG\n",
    "optimizer = torch.optim.Adam(model.parameters(), lr=0.0001)\n",
    "\n",
    "# Делаем 100 эпох\n",
    "num_epochs = 100\n",
    "\n",
    "# Сюда будем сохранять значение функции потерь на тестовой выборке\n",
    "# после каждой эпохи обучения\n",
    "loss_test = []\n",
    "\n",
    "# Реализуйте тренировочный цикл\n",
    "for i in # ВАШ КОД ЗДЕСЬ\n",
    "  for X, y in # ВАШ КОД ЗДЕСЬ\n",
    "    \n",
    "   # Реализуйте все шаги тренировочного цикла PyTorch\n",
    "   #\n",
    "   # ВАШ КОД ЗДЕСЬ\n",
    "   #\n",
    "  \n",
    "\n",
    "  with torch.no_grad():\n",
    "    # Конец эпохи: считаем функцию потерь на тестовой выборке, \n",
    "    # сохраняем в список, чтобы потом нарисовать график\n",
    "    loss = loss_fn(\n",
    "        model(X_test_tensor),\n",
    "        y_test_tensor.unsqueeze(-1)\n",
    "    ).item()\n",
    "    loss_test.append(loss)\n",
    "    print(f'epoch {i} loss {loss}')"
   ]
  },
  {
   "cell_type": "code",
   "execution_count": null,
   "metadata": {
    "id": "BrRQHzHPPNpQ"
   },
   "outputs": [],
   "source": [
    "# ЯЧЕЙКА 7\n",
    "\n",
    "step = np.arange(0, num_epochs)\n",
    "\n",
    "fig, ax = plt.subplots(figsize=(8,5))\n",
    "\n",
    "# Рисуем зависимость ошибки от эпохи обучения\n",
    "plt.plot(step, np.array(loss_test))\n",
    "\n",
    "plt.title(\"Loss\")\n",
    "plt.xlabel(\"Epochs\")\n",
    "plt.ylabel(\"Loss\")\n",
    "plt.show()"
   ]
  },
  {
   "cell_type": "markdown",
   "metadata": {
    "id": "v0iDuhE4zwuB"
   },
   "source": [
    "# Решение для самоконтроля "
   ]
  },
  {
   "cell_type": "code",
   "execution_count": null,
   "metadata": {
    "id": "bS6OX0gqPXPP"
   },
   "outputs": [],
   "source": [
    "# ЯЧЕЙКА 1 \n",
    "\n",
    "import numpy as np\n",
    "\n",
    "import torch\n",
    "from torch import nn\n",
    "from torch.utils.data import Dataset\n",
    "from torch.utils.data import DataLoader\n",
    "\n",
    "from sklearn.model_selection import train_test_split\n",
    "from sklearn.datasets import fetch_california_housing\n",
    "import matplotlib.pyplot as plt"
   ]
  },
  {
   "cell_type": "code",
   "execution_count": null,
   "metadata": {
    "id": "wgZliO3rPX8t"
   },
   "outputs": [],
   "source": [
    "# ЯЧЕЙКА 2 \n",
    "\n",
    "d = fetch_california_housing()\n",
    "X, y = d.data, d.target\n",
    "\n",
    "# Разделение данных на тренировочную и тестовую выборки. Используйте соотношение 80/20\n",
    "X_train, X_test, y_train, y_test = train_test_split(\n",
    "    X, \n",
    "    y,                                                 \n",
    "    train_size=0.8, \n",
    "    shuffle=True\n",
    ")"
   ]
  },
  {
   "cell_type": "code",
   "execution_count": null,
   "metadata": {
    "id": "YRoqKRkRPgoy"
   },
   "outputs": [],
   "source": [
    "# ЯЧЕЙКА 3 \n",
    "\n",
    "class MyDataset(Dataset):\n",
    "  def __init__(self, X, y):\n",
    "    self.X = torch.from_numpy(X.astype(np.float32))\n",
    "    self.y = torch.from_numpy(y.astype(np.float32))\n",
    "\n",
    "  def __getitem__(self, index):\n",
    "    return self.X[index], self.y[index]\n",
    "\n",
    "  def __len__(self):\n",
    "      return self.X.shape[0]\n",
    "\n",
    "# Инициализируем тренировочный torch.dataset\n",
    "train_dataset = MyDataset(X_train, y_train)\n",
    "\n",
    "# Преобразуем всю тестовую выборку в torch-тензоры\n",
    "X_test_tensor = torch.from_numpy(X_test.astype(np.float32))\n",
    "y_test_tensor = torch.from_numpy(y_test.astype(np.float32))"
   ]
  },
  {
   "cell_type": "code",
   "execution_count": null,
   "metadata": {
    "id": "tU9ArFQgPoWv"
   },
   "outputs": [],
   "source": [
    "# ЯЧЕЙКА 4\n",
    "\n",
    "# Пусть размер батча у нас — 16\n",
    "batch_size = 128\n",
    "\n",
    "# Создайте Dataloader для тренировочной выборки на основе экземпляра train_dataset\n",
    "# Делайте как в видео, размер батча – batch_size\n",
    "train_dataloader = DataLoader(\n",
    "    train_dataset, \n",
    "    batch_size=batch_size,\n",
    "    # Миксуем семплы в случайном порядке \n",
    "    shuffle=True\n",
    ")"
   ]
  },
  {
   "cell_type": "code",
   "execution_count": null,
   "metadata": {
    "colab": {
     "base_uri": "https://localhost:8080/"
    },
    "id": "CqKE1EC9Pv4L",
    "outputId": "e17e6ba2-2475-42ff-ae93-f6f54a858ff5"
   },
   "outputs": [
    {
     "name": "stdout",
     "output_type": "stream",
     "text": [
      "RegressionNet(\n",
      "  (hidden1): Linear(in_features=8, out_features=24, bias=True)\n",
      "  (f1): ReLU()\n",
      "  (hidden2): Linear(in_features=24, out_features=12, bias=True)\n",
      "  (f2): ReLU()\n",
      "  (hidden3): Linear(in_features=12, out_features=6, bias=True)\n",
      "  (f3): ReLU()\n",
      "  (output): Linear(in_features=6, out_features=1, bias=True)\n",
      ")\n"
     ]
    }
   ],
   "source": [
    "# ЯЧЕЙКА 5\n",
    "\n",
    "class RegressionNet(nn.Module):\n",
    "  def __init__(self):\n",
    "    super().__init__()\n",
    "    self.hidden1 = nn.Linear(8, 24)\n",
    "    self.f1 = nn.ReLU()\n",
    "    self.hidden2 = nn.Linear(24, 12)\n",
    "    self.f2 = nn.ReLU()\n",
    "    self.hidden3 = nn.Linear(12, 6)\n",
    "    self.f3 = nn.ReLU()\n",
    "    self.output = nn.Linear(6, 1)\n",
    "\n",
    "  def forward(self, x):\n",
    "    x = self.f1(self.hidden1(x))\n",
    "    x = self.f2(self.hidden2(x))\n",
    "    x = self.f3(self.hidden3(x))\n",
    "    return self.output(x)\n",
    "\n",
    "# Объявляем экземпляр класса нейронной сети\n",
    "model = RegressionNet()\n",
    "\n",
    "print(model)"
   ]
  },
  {
   "cell_type": "code",
   "execution_count": null,
   "metadata": {
    "colab": {
     "base_uri": "https://localhost:8080/"
    },
    "id": "HE5ENj-cT6ul",
    "outputId": "a6dfb03e-70b2-49e2-9c7f-85f10805fd92"
   },
   "outputs": [
    {
     "name": "stdout",
     "output_type": "stream",
     "text": [
      "epoch 0 loss 7.42102575302124\n",
      "epoch 1 loss 2.479506015777588\n",
      "epoch 2 loss 2.048407554626465\n",
      "epoch 3 loss 1.7961219549179077\n",
      "epoch 4 loss 1.7146196365356445\n",
      "epoch 5 loss 1.6548351049423218\n",
      "epoch 6 loss 1.6148735284805298\n",
      "epoch 7 loss 1.580538034439087\n",
      "epoch 8 loss 1.5550051927566528\n",
      "epoch 9 loss 1.5353519916534424\n",
      "epoch 10 loss 1.5155779123306274\n",
      "epoch 11 loss 1.5042157173156738\n",
      "epoch 12 loss 1.4873510599136353\n",
      "epoch 13 loss 1.4760081768035889\n",
      "epoch 14 loss 1.4624991416931152\n",
      "epoch 15 loss 1.4500643014907837\n",
      "epoch 16 loss 1.43660306930542\n",
      "epoch 17 loss 1.4290493726730347\n",
      "epoch 18 loss 1.4225633144378662\n",
      "epoch 19 loss 1.4062650203704834\n",
      "epoch 20 loss 1.3970619440078735\n",
      "epoch 21 loss 1.3874530792236328\n",
      "epoch 22 loss 1.3805581331253052\n",
      "epoch 23 loss 1.393587350845337\n",
      "epoch 24 loss 1.3649468421936035\n",
      "epoch 25 loss 1.351947546005249\n",
      "epoch 26 loss 1.3491663932800293\n",
      "epoch 27 loss 1.334468126296997\n",
      "epoch 28 loss 1.3262449502944946\n",
      "epoch 29 loss 1.3172557353973389\n",
      "epoch 30 loss 1.3234692811965942\n",
      "epoch 31 loss 1.3014427423477173\n",
      "epoch 32 loss 1.2923316955566406\n",
      "epoch 33 loss 1.285778522491455\n",
      "epoch 34 loss 1.2753664255142212\n",
      "epoch 35 loss 1.2648247480392456\n",
      "epoch 36 loss 1.2574979066848755\n",
      "epoch 37 loss 1.2481509447097778\n",
      "epoch 38 loss 1.244583249092102\n",
      "epoch 39 loss 1.2385938167572021\n",
      "epoch 40 loss 1.2204805612564087\n",
      "epoch 41 loss 1.2236353158950806\n",
      "epoch 42 loss 1.2029041051864624\n",
      "epoch 43 loss 1.1938209533691406\n",
      "epoch 44 loss 1.1825220584869385\n",
      "epoch 45 loss 1.1894418001174927\n",
      "epoch 46 loss 1.1639260053634644\n",
      "epoch 47 loss 1.1569944620132446\n",
      "epoch 48 loss 1.146022081375122\n",
      "epoch 49 loss 1.1510848999023438\n",
      "epoch 50 loss 1.1280982494354248\n",
      "epoch 51 loss 1.116073727607727\n",
      "epoch 52 loss 1.106520414352417\n",
      "epoch 53 loss 1.0912272930145264\n",
      "epoch 54 loss 1.0794668197631836\n",
      "epoch 55 loss 1.0687241554260254\n",
      "epoch 56 loss 1.0598011016845703\n",
      "epoch 57 loss 1.0883996486663818\n",
      "epoch 58 loss 1.0402928590774536\n",
      "epoch 59 loss 1.0396552085876465\n",
      "epoch 60 loss 1.0159881114959717\n",
      "epoch 61 loss 1.0018852949142456\n",
      "epoch 62 loss 0.9920700192451477\n",
      "epoch 63 loss 0.9750663638114929\n",
      "epoch 64 loss 0.97535240650177\n",
      "epoch 65 loss 0.9654411673545837\n",
      "epoch 66 loss 0.9477263689041138\n",
      "epoch 67 loss 0.9245736002922058\n",
      "epoch 68 loss 0.9107365012168884\n",
      "epoch 69 loss 0.8964238166809082\n",
      "epoch 70 loss 0.8834601044654846\n",
      "epoch 71 loss 0.8695325255393982\n",
      "epoch 72 loss 0.8582878708839417\n",
      "epoch 73 loss 0.8475257754325867\n",
      "epoch 74 loss 0.8325100541114807\n",
      "epoch 75 loss 0.8183011412620544\n",
      "epoch 76 loss 0.802336573600769\n",
      "epoch 77 loss 0.7895936369895935\n",
      "epoch 78 loss 0.778098464012146\n",
      "epoch 79 loss 0.7667176127433777\n",
      "epoch 80 loss 0.7568319439888\n",
      "epoch 81 loss 0.7689058780670166\n",
      "epoch 82 loss 0.7490724325180054\n",
      "epoch 83 loss 0.7573214769363403\n",
      "epoch 84 loss 0.717826247215271\n",
      "epoch 85 loss 0.7095746397972107\n",
      "epoch 86 loss 0.6965474486351013\n",
      "epoch 87 loss 0.6881193518638611\n",
      "epoch 88 loss 0.7020652294158936\n",
      "epoch 89 loss 0.673543393611908\n",
      "epoch 90 loss 0.6671686768531799\n",
      "epoch 91 loss 0.6709144711494446\n",
      "epoch 92 loss 0.6734994053840637\n",
      "epoch 93 loss 0.6764798164367676\n",
      "epoch 94 loss 0.6479235291481018\n",
      "epoch 95 loss 0.6835116744041443\n",
      "epoch 96 loss 0.640476405620575\n",
      "epoch 97 loss 0.6454238295555115\n",
      "epoch 98 loss 0.6472745537757874\n",
      "epoch 99 loss 0.6316271424293518\n"
     ]
    }
   ],
   "source": [
    "# ЯЧЕЙКА 6\n",
    "\n",
    "loss_fn = nn.MSELoss()\n",
    "\n",
    "optimizer = torch.optim.Adam(model.parameters(), lr=0.0001)\n",
    "\n",
    "num_epochs = 100\n",
    "\n",
    "loss_train = []\n",
    "loss_test = []\n",
    "\n",
    "for i in range(num_epochs):\n",
    "  for X, y in train_dataloader:\n",
    "    \n",
    "    pred = model(X)   \n",
    "\n",
    "    loss = loss_fn(pred, y.unsqueeze(-1))\n",
    "\n",
    "    optimizer.zero_grad()\n",
    "         \n",
    "    loss.backward()\n",
    "            \n",
    "    optimizer.step()\n",
    "  \n",
    "  with torch.no_grad():\n",
    "    loss = loss_fn(\n",
    "        model(X_test_tensor),\n",
    "        y_test_tensor.unsqueeze(-1)\n",
    "    ).item()\n",
    "    loss_test.append(loss)\n",
    "    print(f'epoch {i} loss {loss}')"
   ]
  },
  {
   "cell_type": "code",
   "execution_count": null,
   "metadata": {
    "colab": {
     "base_uri": "https://localhost:8080/",
     "height": 350
    },
    "id": "LCgaLPVMUIC8",
    "outputId": "4cad9106-88ef-45d7-8cb3-74255f6f746f"
   },
   "outputs": [
    {
     "data": {
      "image/png": "[encoded data removed]",
      "text/plain": [
       "<Figure size 576x360 with 1 Axes>"
      ]
     },
     "metadata": {
      "needs_background": "light"
     },
     "output_type": "display_data"
    }
   ],
   "source": [
    "# ЯЧЕЙКА 7\n",
    "\n",
    "step = np.arange(0, num_epochs)\n",
    "\n",
    "fig, ax = plt.subplots(figsize=(8,5))\n",
    "\n",
    "# Рисуем зависимость ошибки от эпохи обучения\n",
    "plt.plot(step, np.array(loss_test))\n",
    "\n",
    "plt.title(\"Loss\")\n",
    "plt.xlabel(\"Epochs\")\n",
    "plt.ylabel(\"Loss\")\n",
    "plt.show()"
   ]
  }
 ],
 "metadata": {
  "colab": {
   "provenance": []
  },
  "kernelspec": {
   "display_name": "Python 3 (ipykernel)",
   "language": "python",
   "name": "python3"
  },
  "language_info": {
   "codemirror_mode": {
    "name": "ipython",
    "version": 3
   },
   "file_extension": ".py",
   "mimetype": "text/x-python",
   "name": "python",
   "nbconvert_exporter": "python",
   "pygments_lexer": "ipython3",
   "version": "3.11.5"
  }
 },
 "nbformat": 4,
 "nbformat_minor": 1
}
