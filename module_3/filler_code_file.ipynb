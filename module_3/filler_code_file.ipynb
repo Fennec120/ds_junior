{
 "cells": [
  {
   "cell_type": "code",
   "execution_count": 1,
   "id": "1a300c36",
   "metadata": {},
   "outputs": [],
   "source": [
    "import random"
   ]
  },
  {
   "cell_type": "code",
   "execution_count": 164,
   "id": "279d2753",
   "metadata": {},
   "outputs": [],
   "source": [
    "ranges = {'pc': (1121,1225), 'laptop': (2121, 2225), 'printer': (3121, 3225)}\n",
    "model_ranges = dict()\n",
    "groups= ['pc', 'laptop', 'printer']\n",
    "for group in groups:\n",
    "    models = []\n",
    "    for model_counter in range(ranges[group][0], ranges[group][1]):\n",
    "        models.append(model_counter)\n",
    "    model_ranges[group] = models\n",
    "    "
   ]
  },
  {
   "cell_type": "code",
   "execution_count": 190,
   "id": "463663f3",
   "metadata": {},
   "outputs": [],
   "source": [
    "with open('create_and_fill_PC.sql', 'w') as file:\n",
    "    file.write(\n",
    "        'CREATE TABLE PC (code INTEGER, model INTEGER, speed INTEGER, ram INTEGER, '\n",
    "        'hd NUMERIC(10,1), cd VARCHAR(50), price NUMERIC(10,4));\\n'\n",
    "    )\n",
    "    file.write('INSERT INTO PC\\n')\n",
    "    file.write('VALUES\\n')\n",
    "\n",
    "    values = []\n",
    "    pc_models = []\n",
    "    for code in range(1121, 1225):\n",
    "        #pc_models.append(random.randrange(model_ranges['pc'][0], model_ranges['pc'][-1]))\n",
    "        pc_models.append(code)\n",
    "        values.append(\n",
    "            f\"({code-1120}, {code}, {random.randrange(500, 901, 100)},\"\n",
    "            f' {random.randrange(32, 129, 32)}, {random.randrange(5, 21, 5)},'\n",
    "            f' \\'{random.randrange(12, 53, 4)}x\\', {random.randrange(350, 1001, 50)})'\n",
    "        )\n",
    "\n",
    "    # Чтобы в конце не стояла запятая и код корректно сработал\n",
    "    file.write(',\\n'.join(values) + ';\\n')"
   ]
  },
  {
   "cell_type": "code",
   "execution_count": 191,
   "id": "b1b8b651",
   "metadata": {},
   "outputs": [],
   "source": [
    "\n",
    "with open('create_and_fill_Laptop.sql', 'w') as file:\n",
    "    file.write(\n",
    "        'CREATE TABLE Laptop (code INTEGER, model INTEGER, speed INTEGER, ram INTEGER, '\n",
    "        'hd NUMERIC(10,1), price NUMERIC(10,4), screen NUMERIC(10,4));\\n'\n",
    "    )\n",
    "    file.write('INSERT INTO Laptop\\n')\n",
    "    file.write('VALUES\\n')\n",
    "    values = []\n",
    "    laptop_models = []\n",
    "    for code in range(1, 105):\n",
    "        laptop_models.append(code+2120)\n",
    "        values.append(\n",
    "            f\"({code}, \"\n",
    "            f\"{laptop_models[-1]}, \"\n",
    "            f\"{random.randrange(500, 901, 100)}, \"\n",
    "            f\"{random.randrange(32, 129, 32)}, \"\n",
    "            f\"{random.randrange(5, 21, 5)}, \"\n",
    "            f\"{random.randrange(350, 1001, 50)}, \"\n",
    "            f\"{random.randrange(15,21,2)})\"\n",
    "        )\n",
    "    \n",
    "\n",
    "    # Чтобы в конце не стояла запятая и код корректно сработал\n",
    "    file.write(',\\n'.join(values) + ';\\n')"
   ]
  },
  {
   "cell_type": "code",
   "execution_count": 192,
   "id": "059ae8f8",
   "metadata": {},
   "outputs": [],
   "source": [
    "colours = [\n",
    "    'r',\n",
    "    'g',\n",
    "    'b'    \n",
    "]\n",
    "p_types = ['Laser', 'Matrix']\n",
    "\n",
    "\n",
    "with open('create_and_fill_Printer.sql', 'w') as file:\n",
    "    file.write(\n",
    "        'CREATE TABLE Printer (code INTEGER, model INTEGER, color VARCHAR(50), type VARCHAR(50), '\n",
    "        'price NUMERIC(10,4));\\n'\n",
    "    )\n",
    "    file.write('INSERT INTO Printer\\n')\n",
    "    file.write('VALUES\\n')\n",
    "    values = []\n",
    "    printer_models = []\n",
    "    for i in range(1, 105):\n",
    "        printer_models.append(i+3120)\n",
    "        values.append(\n",
    "            f\"({i}, \"\n",
    "            f\"{printer_models[-1]}, \"\n",
    "            f\"'{colours[random.randint(0,2)]}', \"\n",
    "            f\"'{p_types[random.randint(0,1)]}', \"\n",
    "            f\"{random.randrange(50, 801, 40)})\"\n",
    "        )\n",
    "    \n",
    "\n",
    "    # Чтобы в конце не стояла запятая и код корректно сработал\n",
    "    file.write(',\\n'.join(values) + ';\\n')"
   ]
  },
  {
   "cell_type": "code",
   "execution_count": 193,
   "id": "b3d76ca6",
   "metadata": {},
   "outputs": [],
   "source": [
    "models_all = dict()\n",
    "models_all['pc'] = pc_models\n",
    "models_all['printer'] = printer_models\n",
    "models_all['laptop'] = laptop_models\n"
   ]
  },
  {
   "cell_type": "code",
   "execution_count": 194,
   "id": "3e051cc7",
   "metadata": {},
   "outputs": [],
   "source": [
    "manufacturers = [\n",
    "    'Red LTD',\n",
    "    'Blue Inc.',\n",
    "    'GreenCorp'    \n",
    "]\n",
    "\n",
    "\n",
    "with open('create_and_fill_Product.sql', 'w') as file:\n",
    "    file.write(\n",
    "        'CREATE TABLE Product (maker VARCHAR(50), model INTEGER, type VARCHAR(50));\\n'\n",
    "    )\n",
    "    file.write('INSERT INTO Product\\n')\n",
    "    file.write('VALUES\\n')\n",
    "\n",
    "    values = []\n",
    "    for group in groups:\n",
    "        for i in range(104):\n",
    "            values.append(\n",
    "                f\"('{manufacturers[random.randint(0,1)] if group == groups[1] else manufacturers[random.randint(0,2)]}', \"\n",
    "                f\"{models_all[group][i]}, \"\n",
    "                f\"'{group}')\")\n",
    "\n",
    "\n",
    "    # Чтобы в конце не стояла запятая и код корректно сработал\n",
    "    file.write(',\\n'.join(values) + ';\\n')"
   ]
  },
  {
   "cell_type": "code",
   "execution_count": 173,
   "id": "754e825b",
   "metadata": {},
   "outputs": [
    {
     "data": {
      "text/plain": [
       "['pc', 'laptop', 'printer']"
      ]
     },
     "execution_count": 173,
     "metadata": {},
     "output_type": "execute_result"
    }
   ],
   "source": [
    "groups"
   ]
  },
  {
   "cell_type": "code",
   "execution_count": null,
   "id": "61e0a645",
   "metadata": {},
   "outputs": [],
   "source": []
  }
 ],
 "metadata": {
  "kernelspec": {
   "display_name": "Python 3 (ipykernel)",
   "language": "python",
   "name": "python3"
  },
  "language_info": {
   "codemirror_mode": {
    "name": "ipython",
    "version": 3
   },
   "file_extension": ".py",
   "mimetype": "text/x-python",
   "name": "python",
   "nbconvert_exporter": "python",
   "pygments_lexer": "ipython3",
   "version": "3.9.13"
  }
 },
 "nbformat": 4,
 "nbformat_minor": 5
}
