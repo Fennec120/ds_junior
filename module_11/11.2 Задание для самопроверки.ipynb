{
  "nbformat": 4,
  "nbformat_minor": 0,
  "metadata": {
    "colab": {
      "provenance": [],
      "collapsed_sections": [
        "fXc3niR9PbGL",
        "C8YKyXPnPbGM",
        "TXDXq9oUPbGN",
        "Xg32f6pTPbGP",
        "ydp7Rt5zPbGQ",
        "GZCJNfIiPbGR"
      ]
    },
    "kernelspec": {
      "name": "python3",
      "display_name": "Python 3"
    },
    "language_info": {
      "name": "python"
    }
  },
  "cells": [
    {
      "cell_type": "markdown",
      "source": [
        "# Тюнинг решающих деревьев. Практическая работа"
      ],
      "metadata": {
        "id": "NIyp4JA0HvJb"
      }
    },
    {
      "cell_type": "markdown",
      "source": [
        "## Цель практической работы\n",
        "\n",
        "Научиться снижать переобучение дерева и увеличивать его предсказательную способность на реальных данных."
      ],
      "metadata": {
        "id": "_ohvVK9tqXJI"
      }
    },
    {
      "cell_type": "markdown",
      "source": [
        "## Что нужно сделать\n",
        "\n",
        "- Загрузить данные и ознакомиться с ними.\n",
        "- Реализовать построение решающего дерева с помощью  библиотеки Scikit-learn.\n",
        "- Подобрать гиперпараметры дерева.\n",
        "- Поэкспериментировать со стрижкой (cost-complexity pruning) дерева."
      ],
      "metadata": {
        "id": "pTiwLOIHqXRw"
      }
    },
    {
      "cell_type": "markdown",
      "source": [
        "## Как выполнить задание\n",
        "- Обратите внимание, что задание не нужно сдавать на проверку\n",
        "- Выполните все пункты задания и проверьте себя с ответами ниже\n",
        "- Важно, чтобы модель получилась хорошего качества и не была переобучена.\n"
      ],
      "metadata": {
        "id": "fWl_mCkdqXUG"
      }
    },
    {
      "cell_type": "markdown",
      "source": [
        "Скачайте файл с заданием в материалах, откройте его через Jupyter Notebook и выполните задачи."
      ],
      "metadata": {
        "id": "mQ04nzTSqXWw"
      }
    },
    {
      "cell_type": "markdown",
      "source": [
        "Пусть у нас имеется некоторый набор данных `sales.csv` – данные о продажах квартир."
      ],
      "metadata": {
        "id": "NkvSJDW6qhe-"
      }
    },
    {
      "cell_type": "markdown",
      "source": [
        "- цена продажи (SalePrice) – зависимая переменная;\n",
        "- наземная жилая зона (GrLivArea);\n",
        "- общее качество (Overall Quality);\n",
        "- территория гаража (GarageArea);\n",
        "- условия сделки (SaleCondition)."
      ],
      "metadata": {
        "id": "NlcYMEEG1bqD"
      }
    },
    {
      "cell_type": "markdown",
      "source": [
        "Реализуйте построение модели решающего дерева на этих данных. Проверьте качество модели на обучающей и тестовой выборках с помощью R^2. Определите, что вы не переобучились."
      ],
      "metadata": {
        "id": "Fn4XZ1cgqm1N"
      }
    },
    {
      "cell_type": "markdown",
      "source": [
        "## Загрузка и предобработка данных\n",
        "\n",
        "В модуле 5 вы уже работали с этим набором данных, решали задачу при помощи линейной регрессии.\n",
        "\n",
        "Повторим блок загрузки, предобработки и разделения данных на тренировочную и тестовую части из практики пятого модуля."
      ],
      "metadata": {
        "id": "svOtYfEuPbGH"
      }
    },
    {
      "cell_type": "code",
      "source": [
        "import pandas as pd\n",
        "import matplotlib.pyplot as plt\n",
        "import seaborn as sns\n",
        "import numpy as np\n",
        "import warnings\n",
        "warnings.filterwarnings('ignore')\n",
        "%matplotlib inline"
      ],
      "metadata": {
        "id": "HUhq3m7ZPbGI"
      },
      "execution_count": null,
      "outputs": []
    },
    {
      "cell_type": "code",
      "source": [
        "data = pd.read_csv('sales.csv')"
      ],
      "metadata": {
        "id": "uA_mTzU3PbGI"
      },
      "execution_count": null,
      "outputs": []
    },
    {
      "cell_type": "code",
      "source": [
        "data.head()"
      ],
      "metadata": {
        "colab": {
          "base_uri": "https://localhost:8080/",
          "height": 206
        },
        "outputId": "cb893a77-1629-4ef5-a0ee-a187eeed1e00",
        "id": "qS3t2MHzPbGJ"
      },
      "execution_count": null,
      "outputs": [
        {
          "output_type": "execute_result",
          "data": {
            "text/plain": [
              "   SalePrice  GrLivArea  GarageArea  OverallQual Street SaleCondition\n",
              "0     208500       1710         548            7   Pave        Normal\n",
              "1     181500       1262         460            6   Pave        Normal\n",
              "2     223500       1786         608            7   Pave        Normal\n",
              "3     140000       1717         642            7   Pave       Abnorml\n",
              "4     250000       2198         836            8   Pave        Normal"
            ],
            "text/html": [
              "\n",
              "  <div id=\"df-4a29b867-3e0b-4847-954d-a52d82930d2a\">\n",
              "    <div class=\"colab-df-container\">\n",
              "      <div>\n",
              "<style scoped>\n",
              "    .dataframe tbody tr th:only-of-type {\n",
              "        vertical-align: middle;\n",
              "    }\n",
              "\n",
              "    .dataframe tbody tr th {\n",
              "        vertical-align: top;\n",
              "    }\n",
              "\n",
              "    .dataframe thead th {\n",
              "        text-align: right;\n",
              "    }\n",
              "</style>\n",
              "<table border=\"1\" class=\"dataframe\">\n",
              "  <thead>\n",
              "    <tr style=\"text-align: right;\">\n",
              "      <th></th>\n",
              "      <th>SalePrice</th>\n",
              "      <th>GrLivArea</th>\n",
              "      <th>GarageArea</th>\n",
              "      <th>OverallQual</th>\n",
              "      <th>Street</th>\n",
              "      <th>SaleCondition</th>\n",
              "    </tr>\n",
              "  </thead>\n",
              "  <tbody>\n",
              "    <tr>\n",
              "      <th>0</th>\n",
              "      <td>208500</td>\n",
              "      <td>1710</td>\n",
              "      <td>548</td>\n",
              "      <td>7</td>\n",
              "      <td>Pave</td>\n",
              "      <td>Normal</td>\n",
              "    </tr>\n",
              "    <tr>\n",
              "      <th>1</th>\n",
              "      <td>181500</td>\n",
              "      <td>1262</td>\n",
              "      <td>460</td>\n",
              "      <td>6</td>\n",
              "      <td>Pave</td>\n",
              "      <td>Normal</td>\n",
              "    </tr>\n",
              "    <tr>\n",
              "      <th>2</th>\n",
              "      <td>223500</td>\n",
              "      <td>1786</td>\n",
              "      <td>608</td>\n",
              "      <td>7</td>\n",
              "      <td>Pave</td>\n",
              "      <td>Normal</td>\n",
              "    </tr>\n",
              "    <tr>\n",
              "      <th>3</th>\n",
              "      <td>140000</td>\n",
              "      <td>1717</td>\n",
              "      <td>642</td>\n",
              "      <td>7</td>\n",
              "      <td>Pave</td>\n",
              "      <td>Abnorml</td>\n",
              "    </tr>\n",
              "    <tr>\n",
              "      <th>4</th>\n",
              "      <td>250000</td>\n",
              "      <td>2198</td>\n",
              "      <td>836</td>\n",
              "      <td>8</td>\n",
              "      <td>Pave</td>\n",
              "      <td>Normal</td>\n",
              "    </tr>\n",
              "  </tbody>\n",
              "</table>\n",
              "</div>\n",
              "      <button class=\"colab-df-convert\" onclick=\"convertToInteractive('df-4a29b867-3e0b-4847-954d-a52d82930d2a')\"\n",
              "              title=\"Convert this dataframe to an interactive table.\"\n",
              "              style=\"display:none;\">\n",
              "        \n",
              "  <svg xmlns=\"http://www.w3.org/2000/svg\" height=\"24px\"viewBox=\"0 0 24 24\"\n",
              "       width=\"24px\">\n",
              "    <path d=\"M0 0h24v24H0V0z\" fill=\"none\"/>\n",
              "    <path d=\"M18.56 5.44l.94 2.06.94-2.06 2.06-.94-2.06-.94-.94-2.06-.94 2.06-2.06.94zm-11 1L8.5 8.5l.94-2.06 2.06-.94-2.06-.94L8.5 2.5l-.94 2.06-2.06.94zm10 10l.94 2.06.94-2.06 2.06-.94-2.06-.94-.94-2.06-.94 2.06-2.06.94z\"/><path d=\"M17.41 7.96l-1.37-1.37c-.4-.4-.92-.59-1.43-.59-.52 0-1.04.2-1.43.59L10.3 9.45l-7.72 7.72c-.78.78-.78 2.05 0 2.83L4 21.41c.39.39.9.59 1.41.59.51 0 1.02-.2 1.41-.59l7.78-7.78 2.81-2.81c.8-.78.8-2.07 0-2.86zM5.41 20L4 18.59l7.72-7.72 1.47 1.35L5.41 20z\"/>\n",
              "  </svg>\n",
              "      </button>\n",
              "      \n",
              "  <style>\n",
              "    .colab-df-container {\n",
              "      display:flex;\n",
              "      flex-wrap:wrap;\n",
              "      gap: 12px;\n",
              "    }\n",
              "\n",
              "    .colab-df-convert {\n",
              "      background-color: #E8F0FE;\n",
              "      border: none;\n",
              "      border-radius: 50%;\n",
              "      cursor: pointer;\n",
              "      display: none;\n",
              "      fill: #1967D2;\n",
              "      height: 32px;\n",
              "      padding: 0 0 0 0;\n",
              "      width: 32px;\n",
              "    }\n",
              "\n",
              "    .colab-df-convert:hover {\n",
              "      background-color: #E2EBFA;\n",
              "      box-shadow: 0px 1px 2px rgba(60, 64, 67, 0.3), 0px 1px 3px 1px rgba(60, 64, 67, 0.15);\n",
              "      fill: #174EA6;\n",
              "    }\n",
              "\n",
              "    [theme=dark] .colab-df-convert {\n",
              "      background-color: #3B4455;\n",
              "      fill: #D2E3FC;\n",
              "    }\n",
              "\n",
              "    [theme=dark] .colab-df-convert:hover {\n",
              "      background-color: #434B5C;\n",
              "      box-shadow: 0px 1px 3px 1px rgba(0, 0, 0, 0.15);\n",
              "      filter: drop-shadow(0px 1px 2px rgba(0, 0, 0, 0.3));\n",
              "      fill: #FFFFFF;\n",
              "    }\n",
              "  </style>\n",
              "\n",
              "      <script>\n",
              "        const buttonEl =\n",
              "          document.querySelector('#df-4a29b867-3e0b-4847-954d-a52d82930d2a button.colab-df-convert');\n",
              "        buttonEl.style.display =\n",
              "          google.colab.kernel.accessAllowed ? 'block' : 'none';\n",
              "\n",
              "        async function convertToInteractive(key) {\n",
              "          const element = document.querySelector('#df-4a29b867-3e0b-4847-954d-a52d82930d2a');\n",
              "          const dataTable =\n",
              "            await google.colab.kernel.invokeFunction('convertToInteractive',\n",
              "                                                     [key], {});\n",
              "          if (!dataTable) return;\n",
              "\n",
              "          const docLinkHtml = 'Like what you see? Visit the ' +\n",
              "            '<a target=\"_blank\" href=https://colab.research.google.com/notebooks/data_table.ipynb>data table notebook</a>'\n",
              "            + ' to learn more about interactive tables.';\n",
              "          element.innerHTML = '';\n",
              "          dataTable['output_type'] = 'display_data';\n",
              "          await google.colab.output.renderOutput(dataTable, element);\n",
              "          const docLink = document.createElement('div');\n",
              "          docLink.innerHTML = docLinkHtml;\n",
              "          element.appendChild(docLink);\n",
              "        }\n",
              "      </script>\n",
              "    </div>\n",
              "  </div>\n",
              "  "
            ]
          },
          "metadata": {},
          "execution_count": 21
        }
      ]
    },
    {
      "cell_type": "code",
      "source": [
        "data['Street'] = pd.get_dummies(data['Street'], drop_first=True)\n",
        "SaleCondition = pd.get_dummies(data['SaleCondition'], drop_first=True)\n",
        "data = data.drop(['SaleCondition'], axis=1)\n",
        "data = pd.concat([data, SaleCondition], axis=1)"
      ],
      "metadata": {
        "id": "huD-w0YgPbGK"
      },
      "execution_count": null,
      "outputs": []
    },
    {
      "cell_type": "code",
      "source": [
        "data['part_garage'] = data['GarageArea']/data['GrLivArea']"
      ],
      "metadata": {
        "id": "iQxNvpF3PbGK"
      },
      "execution_count": null,
      "outputs": []
    },
    {
      "cell_type": "code",
      "source": [
        "x = ['GrLivArea', 'GarageArea', 'OverallQual', 'Street', 'AdjLand', 'Alloca',\n",
        "       'Family', 'Normal', 'Partial', 'part_garage']\n",
        "y = ['SalePrice']"
      ],
      "metadata": {
        "id": "zatATk0UPbGK"
      },
      "execution_count": null,
      "outputs": []
    },
    {
      "cell_type": "code",
      "source": [
        "from sklearn.model_selection import train_test_split\n",
        "\n",
        "Xtrain, Xtest, ytrain, ytest = train_test_split(data[x], data[y], train_size=0.7, random_state=123) # random_state нужен для воспроизводимости результата"
      ],
      "metadata": {
        "id": "6wZmnhN_PbGK"
      },
      "execution_count": null,
      "outputs": []
    },
    {
      "cell_type": "markdown",
      "source": [
        "Обучите решающее дерево с параметрами по умолчанию на тренировочных данных, затем оцените качество на тренировочных и тестовых данных.\n",
        "\n",
        "Везде далее качество – это значении метрики $R^2$.\n",
        "\n",
        "Сделайте выводы:\n",
        "*  хорошая ли получилась модель (по качеству на тесте)?\n",
        "*  переобучена ли модель?"
      ],
      "metadata": {
        "id": "3FiknUs7PbGK"
      }
    },
    {
      "cell_type": "code",
      "source": [
        "# ваш код здесь"
      ],
      "metadata": {
        "id": "xVbIexiiPbGL"
      },
      "execution_count": null,
      "outputs": []
    },
    {
      "cell_type": "markdown",
      "source": [
        "### Ваши выводы тут"
      ],
      "metadata": {
        "id": "fXc3niR9PbGL"
      }
    },
    {
      "cell_type": "markdown",
      "source": [
        "Теперь оцените качество модели (r2) на кросс-валидации с тремя фолдами.\n",
        "\n",
        "Для кросс-валидации используйте все обучающие данные (до разбиения на трейн и тест)."
      ],
      "metadata": {
        "id": "4zDIYmGbPbGL"
      }
    },
    {
      "cell_type": "code",
      "source": [
        "# ваш код здесь"
      ],
      "metadata": {
        "id": "QRIF8VEBPbGM"
      },
      "execution_count": null,
      "outputs": []
    },
    {
      "cell_type": "markdown",
      "source": [
        "Что вы можете сказать о качестве модели? Совпало ли среднее качество на кросс-валидацией со значением $R^2$ на тестовых данных? Почему?"
      ],
      "metadata": {
        "id": "-zk0b_DcPbGM"
      }
    },
    {
      "cell_type": "markdown",
      "source": [
        "### Ваши выводы тут"
      ],
      "metadata": {
        "id": "C8YKyXPnPbGM"
      }
    },
    {
      "cell_type": "markdown",
      "source": [
        "Давайте улучшать модель.\n",
        "\n",
        "Для начала подберите по кросс-валидации в цикле оптимальную глубину дерева:\n",
        "*   кросс-валидацию делайте только по тренировочным данным (cv=3, scoring='r2')\n",
        "*   глубину ищите в диапазоне от 1 до 20 включительно\n",
        "*   выведите на экран значение max_depth, для которого значение метрики на кросс-валидации максимально"
      ],
      "metadata": {
        "id": "MB_0Xyd3PbGM"
      }
    },
    {
      "cell_type": "code",
      "source": [
        "# ваш код здесь"
      ],
      "metadata": {
        "id": "U-ta8EcfPbGM"
      },
      "execution_count": null,
      "outputs": []
    },
    {
      "cell_type": "markdown",
      "source": [
        "Теперь для найденного значения max_depth обучите дерево на всех тренировочных данных, сделайте предсказание на трейне и на тесте и оцените значения метрики.\n",
        "\n",
        "Удалось ли:\n",
        "*  улучшить качество предсказания на тесте?\n",
        "*  снизить переобучение?"
      ],
      "metadata": {
        "id": "QpRMgwdPPbGN"
      }
    },
    {
      "cell_type": "code",
      "source": [
        "# ваш код здесь"
      ],
      "metadata": {
        "id": "wiQJHkgFPbGN"
      },
      "execution_count": null,
      "outputs": []
    },
    {
      "cell_type": "markdown",
      "source": [
        "### Ваши выводы тут"
      ],
      "metadata": {
        "id": "TXDXq9oUPbGN"
      }
    },
    {
      "cell_type": "markdown",
      "source": [
        "Теперь для найденной оптимальной глубины дерева подберите значение min_samples_split в диапазоне от 1 до 15 с шагом 1. Также по кросс-валидации на тренировочных данных (как и при подборе max_depth)."
      ],
      "metadata": {
        "id": "iT2-BKGVPbGO"
      }
    },
    {
      "cell_type": "code",
      "source": [
        "# ваш код здесь"
      ],
      "metadata": {
        "id": "fAotth14PbGO"
      },
      "execution_count": null,
      "outputs": []
    },
    {
      "cell_type": "markdown",
      "source": [
        "Теперь для найденного значения max_depth и найденного min_samples_split обучите дерево на всех тренировочных данных, сделайте предсказание на трейне и на тесте и оцените значения метрики.\n",
        "\n",
        "Удалось ли:\n",
        "*  ещё улучшить качество предсказания на тесте?\n",
        "*  ещё снизить переобучение?"
      ],
      "metadata": {
        "id": "M0pxonvWPbGO"
      }
    },
    {
      "cell_type": "code",
      "source": [
        "# ваш код здесь"
      ],
      "metadata": {
        "id": "-d1OCzUoPbGO"
      },
      "execution_count": null,
      "outputs": []
    },
    {
      "cell_type": "markdown",
      "source": [
        "### Ваши выводы тут"
      ],
      "metadata": {
        "id": "Xg32f6pTPbGP"
      }
    },
    {
      "cell_type": "markdown",
      "source": [
        "Сейчас вы подбирали max_depth и min_samples_split последовательно, но, возможно, при одновременном подборе этих гиперпараметров оптимальный набор значений этих гиперпараметров получится другим.\n",
        "\n",
        "При помощи вложенного цикла по той же схеме с кросс-валидацией на тренировочных данных подберите пару значений (max_depth, min_samples_split), для которых достигается наилучшее среднее значение метрики на кросс-валидации.\n",
        "\n",
        "Выведите на экран найденные значения гиперпараметров."
      ],
      "metadata": {
        "id": "3vLXeLSbPbGP"
      }
    },
    {
      "cell_type": "code",
      "source": [
        "# ваш код здесь"
      ],
      "metadata": {
        "id": "RXuct0r6PbGP"
      },
      "execution_count": null,
      "outputs": []
    },
    {
      "cell_type": "markdown",
      "source": [
        "Теперь для найденного значения max_depth и найденного min_samples_split обучите дерево на всех тренировочных данных, сделайте предсказание на трейне и на тесте и оцените значения метрики.\n",
        "\n",
        "*  Лучше ли подбирать гиперпараметры одновременно? Что можно сказать о качестве и переобученности алгоритма?"
      ],
      "metadata": {
        "id": "-I497OyVPbGP"
      }
    },
    {
      "cell_type": "code",
      "source": [
        "# ваш код здесь"
      ],
      "metadata": {
        "id": "IgMUDLHjPbGP"
      },
      "execution_count": null,
      "outputs": []
    },
    {
      "cell_type": "markdown",
      "source": [
        "### Ваши выводы тут"
      ],
      "metadata": {
        "id": "ydp7Rt5zPbGQ"
      }
    },
    {
      "cell_type": "markdown",
      "source": [
        "А теперь попробуйте снизить переобучение не за счёт подбора различных гиперпараметров, ограничивающих структуру дерева, а за счёт стрижки.\n",
        "\n",
        "По аналогии с тем, как было сделано в уроке про стрижку найдите список возможных значений $\\alpha$ для стрижки, вычисляя их по тренировочным данным (нужна функция cost_complexity_pruning_path)."
      ],
      "metadata": {
        "id": "tnDUMH41PbGQ"
      }
    },
    {
      "cell_type": "code",
      "source": [
        "# ваш код здесь"
      ],
      "metadata": {
        "id": "sA188Us7PbGQ"
      },
      "execution_count": null,
      "outputs": []
    },
    {
      "cell_type": "markdown",
      "source": [
        "Следуя ноутбуку из того же скринкаста про стрижку, для каждого из найденных значений $\\alpha$ обучите решающее дерево на тренировочных данных, сделайте предсказания на трейне и тесте и вычислите метрику. \n",
        "\n",
        "Постройте графики ошибки на трейне и тесте в зависимости от значения $\\alpha$, оба графика на одной координатной плоскости.\n",
        "\n",
        "Также вычислите значение $\\alpha$, для которого качество на тесте максимально. Выведите его на экран."
      ],
      "metadata": {
        "id": "tmbrc3hdPbGQ"
      }
    },
    {
      "cell_type": "code",
      "source": [
        "# ваш код здесь"
      ],
      "metadata": {
        "id": "6YFs98bFPbGQ"
      },
      "execution_count": null,
      "outputs": []
    },
    {
      "cell_type": "markdown",
      "source": [
        "Для найденного значения $\\alpha$ обучите дерево с параметром ccp_alpha равным $\\alpha$ на тренировочных данных, сделайте предсказание на трейне и тесте и оцените качество предсказания на новых данных и переобучение модели.\n",
        "\n",
        "Какая модель в итоге получилась лучше: с ограничением max_depth и min_samples_split или при помощи стрижки?"
      ],
      "metadata": {
        "id": "hjojS0A3PbGR"
      }
    },
    {
      "cell_type": "code",
      "source": [
        "# ваш код здесь"
      ],
      "metadata": {
        "id": "7VOjKzQxPbGR"
      },
      "execution_count": null,
      "outputs": []
    },
    {
      "cell_type": "markdown",
      "source": [
        "### Ваши выводы тут"
      ],
      "metadata": {
        "id": "GZCJNfIiPbGR"
      }
    },
    {
      "cell_type": "markdown",
      "source": [
        "|"
      ],
      "metadata": {
        "id": "e6jsvwpOPaZE"
      }
    },
    {
      "cell_type": "markdown",
      "source": [
        "|"
      ],
      "metadata": {
        "id": "JrSB8ytHPdmU"
      }
    },
    {
      "cell_type": "markdown",
      "source": [
        "|"
      ],
      "metadata": {
        "id": "TMdq7W_TPfBU"
      }
    },
    {
      "cell_type": "markdown",
      "source": [
        "|"
      ],
      "metadata": {
        "id": "ofiYLKLUPf49"
      }
    },
    {
      "cell_type": "markdown",
      "source": [
        "|"
      ],
      "metadata": {
        "id": "2TXOLduOPggJ"
      }
    },
    {
      "cell_type": "markdown",
      "source": [
        "## Ответы для самопроверки"
      ],
      "metadata": {
        "id": "i1n39NoJ1Y8W"
      }
    },
    {
      "cell_type": "markdown",
      "source": [
        "Обучите решающее дерево с параметрами по умолчанию на тренировочных данных, затем оцените качество на тренировочных и тестовых данных.\n",
        "\n",
        "Везде далее качество – это значении метрики $R^2$.\n",
        "\n",
        "Сделайте выводы:\n",
        "*  хорошая ли получилась модель (по качеству на тесте)?\n",
        "*  переобучена ли модель?"
      ],
      "metadata": {
        "id": "nT-wKoPuIMdh"
      }
    },
    {
      "cell_type": "code",
      "source": [
        "from sklearn.tree import DecisionTreeRegressor\n",
        "\n",
        "tree = DecisionTreeRegressor()\n",
        "\n",
        "tree.fit(Xtrain, ytrain)\n",
        "\n",
        "pred_train = tree.predict(Xtrain)\n",
        "pred_test = tree.predict(Xtest)"
      ],
      "metadata": {
        "id": "6Eo9R--rFTut"
      },
      "execution_count": null,
      "outputs": []
    },
    {
      "cell_type": "code",
      "source": [
        "from sklearn.metrics import r2_score\n",
        "\n",
        "r2_score(ytrain, pred_train), r2_score(ytest, pred_test)"
      ],
      "metadata": {
        "colab": {
          "base_uri": "https://localhost:8080/"
        },
        "id": "rjiOaONCIX7J",
        "outputId": "77e04751-df3f-4e08-f28b-1304c5e32d55"
      },
      "execution_count": null,
      "outputs": [
        {
          "output_type": "execute_result",
          "data": {
            "text/plain": [
              "(0.9997875001371536, 0.621767874481379)"
            ]
          },
          "metadata": {},
          "execution_count": 29
        }
      ]
    },
    {
      "cell_type": "markdown",
      "source": [
        "Дерево получилось сильно переобученным. Качество предсказания на новых данных невысокое."
      ],
      "metadata": {
        "id": "_oxC0EisIqCP"
      }
    },
    {
      "cell_type": "markdown",
      "source": [
        "Теперь оцените качество модели (r2) на кросс-валидации с тремя фолдами.\n",
        "\n",
        "Для кросс-валидации используйте все обучающие данные (до разбиения на трейн и тест)."
      ],
      "metadata": {
        "id": "EyzglRYwIux_"
      }
    },
    {
      "cell_type": "code",
      "source": [
        "from sklearn.model_selection import cross_val_score\n",
        "\n",
        "cross_val_score(tree, data[x], data[y], cv=3, scoring='r2').mean()"
      ],
      "metadata": {
        "colab": {
          "base_uri": "https://localhost:8080/"
        },
        "id": "KFOm2EFhIbWB",
        "outputId": "74482ad7-d054-475f-ee87-1dbb0a22a330"
      },
      "execution_count": null,
      "outputs": [
        {
          "output_type": "execute_result",
          "data": {
            "text/plain": [
              "0.5766292377175918"
            ]
          },
          "metadata": {},
          "execution_count": 30
        }
      ]
    },
    {
      "cell_type": "markdown",
      "source": [
        "Что вы можете сказать о качестве модели? Совпало ли среднее качество на кросс-валидацией со значением $R^2$ на тестовых данных? Почему?"
      ],
      "metadata": {
        "id": "XyZ-cCbdJECy"
      }
    },
    {
      "cell_type": "markdown",
      "source": [
        "По кросс-валидации качество отличается от скора на тесте в силу того, что модель сильно привязана к разбиению на трейн-тест. Лучше оценивать среднее качество при нескольких разбиениях, то есть по кросс-валидации."
      ],
      "metadata": {
        "id": "uD1oL6xSJMeD"
      }
    },
    {
      "cell_type": "markdown",
      "source": [
        "Давайте улучшать модель.\n",
        "\n",
        "Для начала по кросс-валидации в цикле подберите оптимальную глубину дерева:\n",
        "*   кросс-валидацию делайте только по тренировочным данным (cv=3, scoring='r2');\n",
        "*   глубину ищите в диапазоне от 1 до 20 включительно;\n",
        "*   выведите на экран значение max_depth, для которого значение метрики на кросс-валидации максимально."
      ],
      "metadata": {
        "id": "wLaIuACGJQdf"
      }
    },
    {
      "cell_type": "code",
      "source": [
        "max_score = -1\n",
        "depth = -1\n",
        "\n",
        "for d in np.arange(1,21):\n",
        "    tree = DecisionTreeRegressor(max_depth = d)\n",
        "\n",
        "    score = cross_val_score(tree, Xtrain, ytrain, cv=3, scoring='r2').mean()\n",
        "    print(d, score)\n",
        "\n",
        "    if score > max_score:\n",
        "        max_score = score\n",
        "        depth = d\n",
        "\n",
        "print(depth)"
      ],
      "metadata": {
        "colab": {
          "base_uri": "https://localhost:8080/"
        },
        "id": "nOnHM1ZdJO5w",
        "outputId": "8de38784-11df-4d2d-a727-8bf11cd0fe7c"
      },
      "execution_count": null,
      "outputs": [
        {
          "output_type": "stream",
          "name": "stdout",
          "text": [
            "1 0.4730286732671081\n",
            "2 0.5848595301105214\n",
            "3 0.5704306628708652\n",
            "4 0.5988254812315529\n",
            "5 0.613141168470157\n",
            "6 0.6142723013418843\n",
            "7 0.5945088256234881\n",
            "8 0.594931027780477\n",
            "9 0.5962672634579836\n",
            "10 0.5811833340079992\n",
            "11 0.5492549954831768\n",
            "12 0.5416982403574959\n",
            "13 0.5360269331294188\n",
            "14 0.5522864929770348\n",
            "15 0.5413494374004723\n",
            "16 0.5600645407892677\n",
            "17 0.5497188578011336\n",
            "18 0.5575258861753952\n",
            "19 0.5415662488177513\n",
            "20 0.5349656580181782\n",
            "6\n"
          ]
        }
      ]
    },
    {
      "cell_type": "markdown",
      "source": [
        "Теперь для найденного значения max_depth обучите дерево на всех тренировочных данных, сделайте предсказание на трейне и на тесте и оцените значения метрики.\n",
        "\n",
        "Удалось ли:\n",
        "*  улучшить качество предсказания на тесте?\n",
        "*  снизить переобучение?"
      ],
      "metadata": {
        "id": "yu5Twp5CKjeZ"
      }
    },
    {
      "cell_type": "code",
      "source": [
        "tree2 = DecisionTreeRegressor(max_depth = depth)\n",
        "\n",
        "tree2.fit(Xtrain, ytrain)\n",
        "\n",
        "pred_train = tree2.predict(Xtrain)\n",
        "pred_test = tree2.predict(Xtest)"
      ],
      "metadata": {
        "id": "06L4MR7xJDAl"
      },
      "execution_count": null,
      "outputs": []
    },
    {
      "cell_type": "code",
      "source": [
        "r2_score(ytrain, pred_train), r2_score(ytest, pred_test)"
      ],
      "metadata": {
        "colab": {
          "base_uri": "https://localhost:8080/"
        },
        "id": "xjbSODsFKuwL",
        "outputId": "6666b487-1ec0-474b-f0b1-94b21da4efa5"
      },
      "execution_count": null,
      "outputs": [
        {
          "output_type": "execute_result",
          "data": {
            "text/plain": [
              "(0.8793304502214313, 0.7470043177837036)"
            ]
          },
          "metadata": {},
          "execution_count": 41
        }
      ]
    },
    {
      "cell_type": "markdown",
      "source": [
        "Переобучение снизилось. Качество предсказания на новых данных подросло."
      ],
      "metadata": {
        "id": "ZCeOy3WnLCg-"
      }
    },
    {
      "cell_type": "markdown",
      "source": [
        "Теперь для найденной оптимальной глубины дерева подберите значение min_samples_split в диапазоне от 1 до 15 с шагом 1. Также по кросс-валидации на тренировочных данных (как и при подборе max_depth)."
      ],
      "metadata": {
        "id": "LRpEOfRqLJVk"
      }
    },
    {
      "cell_type": "code",
      "source": [
        "max_score = -1\n",
        "mss = -1\n",
        "\n",
        "for m in np.arange(1,16):\n",
        "    tree = DecisionTreeRegressor(max_depth = depth, min_samples_split = m)\n",
        "\n",
        "    score = cross_val_score(tree, Xtrain, ytrain, cv=3, scoring='r2').mean()\n",
        "\n",
        "    if score > max_score:\n",
        "        max_score = score\n",
        "        mss = m\n",
        "\n",
        "print(mss)"
      ],
      "metadata": {
        "colab": {
          "base_uri": "https://localhost:8080/"
        },
        "id": "6pOpbuMBLAV2",
        "outputId": "c1bfc6dc-dd2e-435f-8ef2-c85c3ceb065d"
      },
      "execution_count": null,
      "outputs": [
        {
          "output_type": "stream",
          "name": "stdout",
          "text": [
            "10\n"
          ]
        }
      ]
    },
    {
      "cell_type": "markdown",
      "source": [
        "Теперь для найденного значения max_depth и найденного min_samples_split обучите дерево на всех тренировочных данных, сделайте предсказание на трейне и на тесте и оцените значения метрики.\n",
        "\n",
        "Удалось ли:\n",
        "*  ещё улучшить качество предсказания на тесте?\n",
        "*  ещё снизить переобучение?"
      ],
      "metadata": {
        "id": "mqzwtbBRLyjf"
      }
    },
    {
      "cell_type": "code",
      "source": [
        "tree3 = DecisionTreeRegressor(max_depth = depth, min_samples_split = mss)\n",
        "\n",
        "tree3.fit(Xtrain, ytrain)\n",
        "\n",
        "pred_train = tree3.predict(Xtrain)\n",
        "pred_test = tree3.predict(Xtest)\n",
        "\n",
        "r2_score(ytrain, pred_train), r2_score(ytest, pred_test)"
      ],
      "metadata": {
        "colab": {
          "base_uri": "https://localhost:8080/"
        },
        "id": "fStIH36QLi2e",
        "outputId": "3867b94a-7d45-4c90-eafd-bfb4800e30b6"
      },
      "execution_count": null,
      "outputs": [
        {
          "output_type": "execute_result",
          "data": {
            "text/plain": [
              "(0.874009469665285, 0.7622744406802879)"
            ]
          },
          "metadata": {},
          "execution_count": 52
        }
      ]
    },
    {
      "cell_type": "markdown",
      "source": [
        "Переобучение снизилось ещё сильнее. Модель стала работать на новых данных ещё лучше."
      ],
      "metadata": {
        "id": "yCLhoEExMCal"
      }
    },
    {
      "cell_type": "markdown",
      "source": [
        "Сейчас вы подбирали max_depth и min_samples_split последовательно, но, возможно, при одновременном подборе этих гиперпараметров оптимальный набор значений этих гиперпараметров получится другим.\n",
        "\n",
        "При помощи вложенного цикла по той же схеме с кросс-валидацией на тренировочных данных подберите пару значений (max_depth, min_samples_split), для которых достигается наилучшее среднее значение метрики на кросс-валидации.\n",
        "\n",
        "Выведите на экран найденные значения гиперпараметров."
      ],
      "metadata": {
        "id": "3EeC5xIjMFPs"
      }
    },
    {
      "cell_type": "code",
      "source": [
        "max_score = -1\n",
        "depth = -1\n",
        "mss = -1\n",
        "\n",
        "for d in np.arange(1,21):\n",
        "    for m in np.arange(1,16):\n",
        "        tree = DecisionTreeRegressor(max_depth = d, min_samples_split = m)\n",
        "\n",
        "        score = cross_val_score(tree, Xtrain, ytrain, cv=3, scoring='r2').mean()\n",
        "\n",
        "        if score > max_score:\n",
        "            max_score = score\n",
        "            depth = d\n",
        "            mss = m\n",
        "\n",
        "print(depth, mss)"
      ],
      "metadata": {
        "colab": {
          "base_uri": "https://localhost:8080/"
        },
        "id": "3kMJB5nHMAI7",
        "outputId": "39fbcbd9-537e-4dcd-de4b-7e7c2158178f"
      },
      "execution_count": null,
      "outputs": [
        {
          "output_type": "stream",
          "name": "stdout",
          "text": [
            "5 9\n"
          ]
        }
      ]
    },
    {
      "cell_type": "markdown",
      "source": [
        "Теперь для найденного значения max_depth и найденного min_samples_split обучите дерево на всех тренировочных данных, сделайте предсказание на трейне и на тесте и оцените значения метрики.\n",
        "\n",
        "*  Лучше ли подбирать гиперпараметры одновременно? Что можно сказать о качестве и переобученности алгоритма?"
      ],
      "metadata": {
        "id": "OBwguQwGMstG"
      }
    },
    {
      "cell_type": "code",
      "source": [
        "tree4 = DecisionTreeRegressor(max_depth = depth, min_samples_split = mss)\n",
        "\n",
        "tree4.fit(Xtrain, ytrain)\n",
        "\n",
        "pred_train = tree4.predict(Xtrain)\n",
        "pred_test = tree4.predict(Xtest)\n",
        "\n",
        "r2_score(ytrain, pred_train), r2_score(ytest, pred_test)"
      ],
      "metadata": {
        "colab": {
          "base_uri": "https://localhost:8080/"
        },
        "id": "_y6UZft3MrVT",
        "outputId": "557086e7-ae7d-4e47-e2bd-7a4a6b30c9dd"
      },
      "execution_count": null,
      "outputs": [
        {
          "output_type": "execute_result",
          "data": {
            "text/plain": [
              "(0.8304914297420238, 0.7811238056960585)"
            ]
          },
          "metadata": {},
          "execution_count": 54
        }
      ]
    },
    {
      "cell_type": "markdown",
      "source": [
        "Одновременный подбор гиперпараметров точнее, чем поочередный. Это можно видеть по метрикам."
      ],
      "metadata": {
        "id": "n-KZ3YTIM95e"
      }
    },
    {
      "cell_type": "markdown",
      "source": [
        "А теперь попробуйте снизить переобучение не за счёт подбора различных гиперпараметров, ограничивающих структуру дерева, а за счёт стрижки.\n",
        "\n",
        "По аналогии с тем, как было сделано в уроке про стрижку, найдите список возможных значений $\\alpha$ для стрижки, вычисляя их по тренировочным данным (нужна функция cost_complexity_pruning_path)."
      ],
      "metadata": {
        "id": "7FBe8oQWM_tc"
      }
    },
    {
      "cell_type": "code",
      "source": [
        "tree = DecisionTreeRegressor()\n",
        "\n",
        "path = tree.cost_complexity_pruning_path(Xtrain, ytrain)\n",
        "alphas = path['ccp_alphas']"
      ],
      "metadata": {
        "id": "0DijmR91M7Ql"
      },
      "execution_count": null,
      "outputs": []
    },
    {
      "cell_type": "markdown",
      "source": [
        "Следуя ноутбуку из того же скринкаста про стрижку, для каждого из найденных значений $\\alpha$ обучите решающее дерево на тренировочных данных, сделайте предсказания на трейне и тесте и вычислите метрику. \n",
        "\n",
        "Постройте графики ошибки на трейне и тесте в зависимости от значения $\\alpha$, оба графика на одной координатной плоскости.\n",
        "\n",
        "Также вычислите значение $\\alpha$, для которого качество на тесте максимально. Выведите его на экран."
      ],
      "metadata": {
        "id": "usTnmyQ1N6P2"
      }
    },
    {
      "cell_type": "code",
      "source": [
        "r2_train, r2_test=[], []\n",
        "\n",
        "max_score = -1\n",
        "alpha = -1\n",
        "\n",
        "for i in alphas:\n",
        "    tree = DecisionTreeRegressor(ccp_alpha = i)\n",
        "    \n",
        "    tree.fit(Xtrain, ytrain)\n",
        "    ytrain_pred = tree.predict(Xtrain)\n",
        "    ytest_pred = tree.predict(Xtest)\n",
        "    \n",
        "    r2_train.append(r2_score(ytrain, ytrain_pred))\n",
        "    r2_test.append(r2_score(ytest, ytest_pred))\n",
        "\n",
        "    if r2_score(ytest, ytest_pred) > max_score:\n",
        "        max_score = r2_score(ytest, ytest_pred)\n",
        "        alpha = i\n",
        "    \n",
        "    \n",
        "sns.set()\n",
        "plt.figure(figsize=(14,7))\n",
        "sns.lineplot(y = r2_train, x = alphas, label = \"Train r2\")\n",
        "sns.lineplot(y = r2_test, x = alphas, label = \"Test r2\")\n",
        "plt.show()\n",
        "print(alpha)"
      ],
      "metadata": {
        "colab": {
          "base_uri": "https://localhost:8080/",
          "height": 461
        },
        "id": "u4wlnAKeNjGQ",
        "outputId": "38594822-ceac-4f1c-a8eb-2e1c5bfe8b42"
      },
      "execution_count": null,
      "outputs": [
        {
          "output_type": "display_data",
          "data": {
            "text/plain": [
              "<Figure size 1008x504 with 1 Axes>"
            ],
            "image/png": "[encoded data removed]"
          },
          "metadata": {}
        },
        {
          "output_type": "stream",
          "name": "stdout",
          "text": [
            "15142504.949450381\n"
          ]
        }
      ]
    },
    {
      "cell_type": "markdown",
      "source": [
        "Для найденного значения $\\alpha$ обучите дерево с параметром ccp_alpha равным $\\alpha$ на тренировочных данных, сделайте предсказание на трейне и тесте и оцените качество предсказания на новых данных и переобучение модели.\n",
        "\n",
        "Какая модель в итоге получилась лучше: с ограничением max_depth и min_samples_split или при помощи стрижки?"
      ],
      "metadata": {
        "id": "dw062q8TOgWY"
      }
    },
    {
      "cell_type": "code",
      "source": [
        "tree5 = DecisionTreeRegressor(ccp_alpha = alpha)\n",
        "\n",
        "tree5.fit(Xtrain, ytrain)\n",
        "\n",
        "pred_train = tree5.predict(Xtrain)\n",
        "pred_test = tree5.predict(Xtest)\n",
        "\n",
        "r2_score(ytrain, pred_train), r2_score(ytest, pred_test)"
      ],
      "metadata": {
        "colab": {
          "base_uri": "https://localhost:8080/"
        },
        "id": "JOVRCfRpNs8N",
        "outputId": "af68b36a-9c0d-473a-d2fc-a5e396475347"
      },
      "execution_count": null,
      "outputs": [
        {
          "output_type": "execute_result",
          "data": {
            "text/plain": [
              "(0.8605964058410931, 0.798560696099226)"
            ]
          },
          "metadata": {},
          "execution_count": 65
        }
      ]
    },
    {
      "cell_type": "markdown",
      "source": [
        "Стрижка выдала наиболее качественную модель: она лучше всех предсказывает на новых данных и при этом слабо переобучена."
      ],
      "metadata": {
        "id": "mqVkwTfDPOdY"
      }
    }
  ]
}