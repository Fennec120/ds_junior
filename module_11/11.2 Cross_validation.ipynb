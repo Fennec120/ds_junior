{
  "nbformat": 4,
  "nbformat_minor": 0,
  "metadata": {
    "colab": {
      "provenance": []
    },
    "kernelspec": {
      "name": "python3",
      "display_name": "Python 3"
    },
    "language_info": {
      "name": "python"
    }
  },
  "cells": [
    {
      "cell_type": "markdown",
      "metadata": {
        "id": "vKifZUayFThN"
      },
      "source": [
        "## Кросс-валидация"
      ]
    },
    {
      "cell_type": "markdown",
      "metadata": {
        "id": "kk2IT3r4EgN4"
      },
      "source": [
        "Будем решать задачу классификации на примере известного датасета о цветках ирисов.\n",
        "\n",
        "\n",
        "В этом датасете каждый объект (цветок) имеет четыре числовые характеристики: \n",
        "*    длина и ширина лепестка;\n",
        "*    длина и ширина чашелистика."
      ]
    },
    {
      "cell_type": "markdown",
      "source": [
        "Сначала для оценки качества модели используем отложенную выборку.\n",
        "\n",
        "Затем применим только что изученную нами технику и будем оценивать качество модели при помощи кросс-валидации.\n",
        "\n",
        "Затем сделаем выводы — посмотрим, какую информацию даст нам кросс-валидация относительно качества модели и её степени подгонки под данные."
      ],
      "metadata": {
        "id": "h0AOquvJJeaQ"
      }
    },
    {
      "cell_type": "code",
      "source": [
        "import pandas as pd\n",
        "import matplotlib.pyplot as plt\n",
        "import seaborn as sns\n",
        "import numpy as np\n",
        "from sklearn.datasets import load_iris\n",
        "\n",
        "data = load_iris(as_frame=True)\n",
        "\n",
        "X = data.data[['sepal length (cm)', 'sepal width (cm)']]\n",
        "y = data.target"
      ],
      "metadata": {
        "id": "FU5SCGXNZcCi"
      },
      "execution_count": null,
      "outputs": []
    },
    {
      "cell_type": "markdown",
      "source": [
        "Для простоты переведём задачу к бинарной классификации."
      ],
      "metadata": {
        "id": "NRa9ZVVH_od4"
      }
    },
    {
      "cell_type": "code",
      "source": [
        "y[y!=1] = -1"
      ],
      "metadata": {
        "id": "3NxbML_s_rmt"
      },
      "execution_count": null,
      "outputs": []
    },
    {
      "cell_type": "code",
      "source": [
        "X.head()"
      ],
      "metadata": {
        "id": "IReROSE_ZcEn",
        "colab": {
          "base_uri": "https://localhost:8080/",
          "height": 206
        },
        "outputId": "32969ed4-5600-441c-a7e0-537a3965ac8e"
      },
      "execution_count": null,
      "outputs": [
        {
          "output_type": "execute_result",
          "data": {
            "text/plain": [
              "   sepal length (cm)  sepal width (cm)\n",
              "0                5.1               3.5\n",
              "1                4.9               3.0\n",
              "2                4.7               3.2\n",
              "3                4.6               3.1\n",
              "4                5.0               3.6"
            ],
            "text/html": [
              "\n",
              "  <div id=\"df-f7bafb42-cd2e-49a7-8eda-5798804440f3\">\n",
              "    <div class=\"colab-df-container\">\n",
              "      <div>\n",
              "<style scoped>\n",
              "    .dataframe tbody tr th:only-of-type {\n",
              "        vertical-align: middle;\n",
              "    }\n",
              "\n",
              "    .dataframe tbody tr th {\n",
              "        vertical-align: top;\n",
              "    }\n",
              "\n",
              "    .dataframe thead th {\n",
              "        text-align: right;\n",
              "    }\n",
              "</style>\n",
              "<table border=\"1\" class=\"dataframe\">\n",
              "  <thead>\n",
              "    <tr style=\"text-align: right;\">\n",
              "      <th></th>\n",
              "      <th>sepal length (cm)</th>\n",
              "      <th>sepal width (cm)</th>\n",
              "    </tr>\n",
              "  </thead>\n",
              "  <tbody>\n",
              "    <tr>\n",
              "      <th>0</th>\n",
              "      <td>5.1</td>\n",
              "      <td>3.5</td>\n",
              "    </tr>\n",
              "    <tr>\n",
              "      <th>1</th>\n",
              "      <td>4.9</td>\n",
              "      <td>3.0</td>\n",
              "    </tr>\n",
              "    <tr>\n",
              "      <th>2</th>\n",
              "      <td>4.7</td>\n",
              "      <td>3.2</td>\n",
              "    </tr>\n",
              "    <tr>\n",
              "      <th>3</th>\n",
              "      <td>4.6</td>\n",
              "      <td>3.1</td>\n",
              "    </tr>\n",
              "    <tr>\n",
              "      <th>4</th>\n",
              "      <td>5.0</td>\n",
              "      <td>3.6</td>\n",
              "    </tr>\n",
              "  </tbody>\n",
              "</table>\n",
              "</div>\n",
              "      <button class=\"colab-df-convert\" onclick=\"convertToInteractive('df-f7bafb42-cd2e-49a7-8eda-5798804440f3')\"\n",
              "              title=\"Convert this dataframe to an interactive table.\"\n",
              "              style=\"display:none;\">\n",
              "        \n",
              "  <svg xmlns=\"http://www.w3.org/2000/svg\" height=\"24px\"viewBox=\"0 0 24 24\"\n",
              "       width=\"24px\">\n",
              "    <path d=\"M0 0h24v24H0V0z\" fill=\"none\"/>\n",
              "    <path d=\"M18.56 5.44l.94 2.06.94-2.06 2.06-.94-2.06-.94-.94-2.06-.94 2.06-2.06.94zm-11 1L8.5 8.5l.94-2.06 2.06-.94-2.06-.94L8.5 2.5l-.94 2.06-2.06.94zm10 10l.94 2.06.94-2.06 2.06-.94-2.06-.94-.94-2.06-.94 2.06-2.06.94z\"/><path d=\"M17.41 7.96l-1.37-1.37c-.4-.4-.92-.59-1.43-.59-.52 0-1.04.2-1.43.59L10.3 9.45l-7.72 7.72c-.78.78-.78 2.05 0 2.83L4 21.41c.39.39.9.59 1.41.59.51 0 1.02-.2 1.41-.59l7.78-7.78 2.81-2.81c.8-.78.8-2.07 0-2.86zM5.41 20L4 18.59l7.72-7.72 1.47 1.35L5.41 20z\"/>\n",
              "  </svg>\n",
              "      </button>\n",
              "      \n",
              "  <style>\n",
              "    .colab-df-container {\n",
              "      display:flex;\n",
              "      flex-wrap:wrap;\n",
              "      gap: 12px;\n",
              "    }\n",
              "\n",
              "    .colab-df-convert {\n",
              "      background-color: #E8F0FE;\n",
              "      border: none;\n",
              "      border-radius: 50%;\n",
              "      cursor: pointer;\n",
              "      display: none;\n",
              "      fill: #1967D2;\n",
              "      height: 32px;\n",
              "      padding: 0 0 0 0;\n",
              "      width: 32px;\n",
              "    }\n",
              "\n",
              "    .colab-df-convert:hover {\n",
              "      background-color: #E2EBFA;\n",
              "      box-shadow: 0px 1px 2px rgba(60, 64, 67, 0.3), 0px 1px 3px 1px rgba(60, 64, 67, 0.15);\n",
              "      fill: #174EA6;\n",
              "    }\n",
              "\n",
              "    [theme=dark] .colab-df-convert {\n",
              "      background-color: #3B4455;\n",
              "      fill: #D2E3FC;\n",
              "    }\n",
              "\n",
              "    [theme=dark] .colab-df-convert:hover {\n",
              "      background-color: #434B5C;\n",
              "      box-shadow: 0px 1px 3px 1px rgba(0, 0, 0, 0.15);\n",
              "      filter: drop-shadow(0px 1px 2px rgba(0, 0, 0, 0.3));\n",
              "      fill: #FFFFFF;\n",
              "    }\n",
              "  </style>\n",
              "\n",
              "      <script>\n",
              "        const buttonEl =\n",
              "          document.querySelector('#df-f7bafb42-cd2e-49a7-8eda-5798804440f3 button.colab-df-convert');\n",
              "        buttonEl.style.display =\n",
              "          google.colab.kernel.accessAllowed ? 'block' : 'none';\n",
              "\n",
              "        async function convertToInteractive(key) {\n",
              "          const element = document.querySelector('#df-f7bafb42-cd2e-49a7-8eda-5798804440f3');\n",
              "          const dataTable =\n",
              "            await google.colab.kernel.invokeFunction('convertToInteractive',\n",
              "                                                     [key], {});\n",
              "          if (!dataTable) return;\n",
              "\n",
              "          const docLinkHtml = 'Like what you see? Visit the ' +\n",
              "            '<a target=\"_blank\" href=https://colab.research.google.com/notebooks/data_table.ipynb>data table notebook</a>'\n",
              "            + ' to learn more about interactive tables.';\n",
              "          element.innerHTML = '';\n",
              "          dataTable['output_type'] = 'display_data';\n",
              "          await google.colab.output.renderOutput(dataTable, element);\n",
              "          const docLink = document.createElement('div');\n",
              "          docLink.innerHTML = docLinkHtml;\n",
              "          element.appendChild(docLink);\n",
              "        }\n",
              "      </script>\n",
              "    </div>\n",
              "  </div>\n",
              "  "
            ]
          },
          "metadata": {},
          "execution_count": 4
        }
      ]
    },
    {
      "cell_type": "markdown",
      "source": [
        "Разобьём данные на тренировочную и тестовую части. Затем обучим модель на тренировочных данных и оценим её качество на train и test."
      ],
      "metadata": {
        "id": "xHYuUuAWAGfl"
      }
    },
    {
      "cell_type": "code",
      "source": [
        "from sklearn.model_selection import train_test_split\n",
        "X_train, X_test, y_train, y_test = train_test_split(X, y, test_size=0.2)"
      ],
      "metadata": {
        "id": "nCOEwj04ZcHd"
      },
      "execution_count": null,
      "outputs": []
    },
    {
      "cell_type": "code",
      "source": [
        "from sklearn.tree import DecisionTreeClassifier\n",
        "\n",
        "tree = DecisionTreeClassifier()\n",
        "tree.fit(X_train, y_train)\n",
        "\n",
        "y_train_pred = tree.predict(X_train)\n",
        "y_test_pred = tree.predict(X_test)"
      ],
      "metadata": {
        "id": "TFqTF14RaJGY"
      },
      "execution_count": null,
      "outputs": []
    },
    {
      "cell_type": "code",
      "source": [
        "from sklearn.metrics import accuracy_score\n",
        "\n",
        "accuracy_score(y_train, y_train_pred), accuracy_score(y_test, y_test_pred)"
      ],
      "metadata": {
        "id": "zwtrC-U1aULm",
        "colab": {
          "base_uri": "https://localhost:8080/"
        },
        "outputId": "be9b3485-2398-47a4-928a-a57a1bb46266"
      },
      "execution_count": null,
      "outputs": [
        {
          "output_type": "execute_result",
          "data": {
            "text/plain": [
              "(0.9583333333333334, 0.5666666666666667)"
            ]
          },
          "metadata": {},
          "execution_count": 8
        }
      ]
    },
    {
      "cell_type": "markdown",
      "source": [
        "Заново разобьём данные на train и test и повторим процесс обучения и оценки качества модели."
      ],
      "metadata": {
        "id": "8lE7dVZJ9hdM"
      }
    },
    {
      "cell_type": "code",
      "source": [
        "X_train, X_test, y_train, y_test = train_test_split(X, y, test_size=0.2)\n",
        "\n",
        "tree = DecisionTreeClassifier()\n",
        "tree.fit(X_train, y_train)\n",
        "y_train_pred = tree.predict(X_train)\n",
        "y_test_pred = tree.predict(X_test)\n",
        "\n",
        "accuracy_score(y_train, y_train_pred), accuracy_score(y_test, y_test_pred)"
      ],
      "metadata": {
        "id": "kXN5Ui_v9qJe",
        "colab": {
          "base_uri": "https://localhost:8080/"
        },
        "outputId": "506d3c22-ef53-4aa5-9c13-df49c8b2067d"
      },
      "execution_count": null,
      "outputs": [
        {
          "output_type": "execute_result",
          "data": {
            "text/plain": [
              "(0.9166666666666666, 0.7333333333333333)"
            ]
          },
          "metadata": {},
          "execution_count": 9
        }
      ]
    },
    {
      "cell_type": "markdown",
      "source": [
        "Получили другие значения метрик! То есть значения метрик зависят от разбиения данных на train и test."
      ],
      "metadata": {
        "id": "uOilkmXK9uT4"
      }
    },
    {
      "cell_type": "markdown",
      "source": [
        "Теперь используем кросс-валидацию k-fold для оценки качества.\n",
        "\n",
        "В sklearn есть два способа её осуществить:\n",
        "*  cross_val_score\n",
        "*  cross_validate"
      ],
      "metadata": {
        "id": "osPWl-40dJDn"
      }
    },
    {
      "cell_type": "code",
      "source": [
        "from sklearn.model_selection import cross_val_score\n",
        "\n",
        "scores = cross_val_score(DecisionTreeClassifier(), X, y, cv=3, scoring='accuracy')"
      ],
      "metadata": {
        "id": "M6CbjU30aWsS"
      },
      "execution_count": null,
      "outputs": []
    },
    {
      "cell_type": "code",
      "source": [
        "scores"
      ],
      "metadata": {
        "colab": {
          "base_uri": "https://localhost:8080/"
        },
        "id": "ALyp7HlPneEP",
        "outputId": "19fd6258-3345-4f9d-a994-b9862015c678"
      },
      "execution_count": null,
      "outputs": [
        {
          "output_type": "execute_result",
          "data": {
            "text/plain": [
              "array([0.78, 0.7 , 0.58])"
            ]
          },
          "metadata": {},
          "execution_count": 11
        }
      ]
    },
    {
      "cell_type": "markdown",
      "source": [
        "Мы сделали кросс-валидацию с тремя фолдами и на каждом фолде получили различные значения accuracy. Визуально разброс значений довольно большой!\n",
        "\n",
        "Посчитаем среднее значение и стандартное отклонение."
      ],
      "metadata": {
        "id": "kGvzHYla-D8D"
      }
    },
    {
      "cell_type": "code",
      "source": [
        "scores.mean()"
      ],
      "metadata": {
        "id": "C31iAtnE-RDQ",
        "colab": {
          "base_uri": "https://localhost:8080/"
        },
        "outputId": "df4242ae-7f5d-4390-da75-2f410c2a21f7"
      },
      "execution_count": null,
      "outputs": [
        {
          "output_type": "execute_result",
          "data": {
            "text/plain": [
              "0.6866666666666666"
            ]
          },
          "metadata": {},
          "execution_count": 12
        }
      ]
    },
    {
      "cell_type": "code",
      "source": [
        "scores.std()"
      ],
      "metadata": {
        "id": "z0CZ1xVx-Tiz",
        "colab": {
          "base_uri": "https://localhost:8080/"
        },
        "outputId": "68bfd969-4ceb-4627-dbc5-79f4239485df"
      },
      "execution_count": null,
      "outputs": [
        {
          "output_type": "execute_result",
          "data": {
            "text/plain": [
              "0.08219218670625304"
            ]
          },
          "metadata": {},
          "execution_count": 13
        }
      ]
    },
    {
      "cell_type": "markdown",
      "source": [
        "Теперь по среднему значению accuracy на кросс-валидации мы получили более корректную оценку метрики качества.\n",
        "\n",
        "Кроме того, значение стандартного отклонения говорит о том, что метрика довольно сильно зависит от разбиения данных. То есть может иметь место переобучение."
      ],
      "metadata": {
        "id": "R2cOmsOZeX87"
      }
    },
    {
      "cell_type": "markdown",
      "source": [
        "Второй способ — это cross_validate. Он отличается от cross_val_score тем, что:\n",
        "\n",
        "*    позволяет измерять несколько метрик одновременно;\n",
        "*    возвращает словарь, содержащий время обучения, время применения, значения метрик на тестовых данных (и опционально — значения метрик на тренировочных данных)."
      ],
      "metadata": {
        "id": "sCmPCj8z-93T"
      }
    },
    {
      "cell_type": "code",
      "source": [
        "from sklearn.model_selection import cross_validate\n",
        "\n",
        "res = cross_validate(DecisionTreeClassifier(), X, y, cv=3, scoring=['accuracy','roc_auc'])"
      ],
      "metadata": {
        "id": "Rxfu6dd__QzG"
      },
      "execution_count": null,
      "outputs": []
    },
    {
      "cell_type": "code",
      "source": [
        "res"
      ],
      "metadata": {
        "id": "EQb4tnND_Xf0",
        "colab": {
          "base_uri": "https://localhost:8080/"
        },
        "outputId": "a55af342-2a4d-44b6-917e-071b5beb626c"
      },
      "execution_count": null,
      "outputs": [
        {
          "output_type": "execute_result",
          "data": {
            "text/plain": [
              "{'fit_time': array([0.00589919, 0.00215006, 0.00199604]),\n",
              " 'score_time': array([0.00893593, 0.00371289, 0.00353289]),\n",
              " 'test_accuracy': array([0.78, 0.7 , 0.58]),\n",
              " 'test_roc_auc': array([0.71875   , 0.67290553, 0.64795009])}"
            ]
          },
          "metadata": {},
          "execution_count": 15
        }
      ]
    },
    {
      "cell_type": "markdown",
      "source": [
        "Из полученной информации мы также можем извлечь среднее качество на тестовых данных и стандартное отклонение."
      ],
      "metadata": {
        "id": "Zjr60kfj_brh"
      }
    },
    {
      "cell_type": "code",
      "source": [
        "res['test_accuracy'].mean(), res['test_accuracy'].std()"
      ],
      "metadata": {
        "id": "l8TqEdSM_6E3",
        "colab": {
          "base_uri": "https://localhost:8080/"
        },
        "outputId": "475da050-00ce-449a-a401-f34617fef09b"
      },
      "execution_count": null,
      "outputs": [
        {
          "output_type": "execute_result",
          "data": {
            "text/plain": [
              "(0.6866666666666666, 0.08219218670625304)"
            ]
          },
          "metadata": {},
          "execution_count": 16
        }
      ]
    },
    {
      "cell_type": "markdown",
      "source": [
        "Кроме того, получаем довольно много дополнительной диагностической информации, такой как:\n",
        "*   время обучения модели на каждом запуске кросс-валидации;\n",
        "*   время применения модели.\n",
        "\n",
        "Это полезная информация. Оценивая время обучения и время применения модели, мы можем оценить временные затраты на обучение и на применение модели на всём датасете, а также при увеличении количества данных."
      ],
      "metadata": {
        "id": "6WicoIv1_987"
      }
    }
  ]
}