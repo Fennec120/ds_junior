{
 "cells": [
  {
   "cell_type": "markdown",
   "metadata": {
    "id": "vKifZUayFThN"
   },
   "source": [
    "## Кросс-валидация"
   ]
  },
  {
   "cell_type": "markdown",
   "metadata": {
    "id": "kk2IT3r4EgN4"
   },
   "source": [
    "Будем решать задачу классификации на примере известного датасета о цветках ирисов.\n",
    "\n",
    "\n",
    "В этом датасете каждый объект (цветок) имеет четыре числовые характеристики: \n",
    "*    длина и ширина лепестка;\n",
    "*    длина и ширина чашелистика."
   ]
  },
  {
   "cell_type": "markdown",
   "metadata": {
    "id": "h0AOquvJJeaQ"
   },
   "source": [
    "Сначала для оценки качества модели используем отложенную выборку.\n",
    "\n",
    "Затем применим только что изученную нами технику и будем оценивать качество модели при помощи кросс-валидации.\n",
    "\n",
    "Затем сделаем выводы — посмотрим, какую информацию даст нам кросс-валидация относительно качества модели и её степени подгонки под данные."
   ]
  },
  {
   "cell_type": "code",
   "execution_count": 2,
   "metadata": {
    "id": "FU5SCGXNZcCi"
   },
   "outputs": [],
   "source": [
    "import pandas as pd\n",
    "import matplotlib.pyplot as plt\n",
    "import seaborn as sns\n",
    "import numpy as np\n",
    "from sklearn.datasets import load_iris\n",
    "\n",
    "data = load_iris(as_frame=True)\n",
    "\n",
    "X = data.data[['sepal length (cm)', 'sepal width (cm)']]\n",
    "y = data.target"
   ]
  },
  {
   "cell_type": "markdown",
   "metadata": {
    "id": "NRa9ZVVH_od4"
   },
   "source": [
    "Для простоты переведём задачу к бинарной классификации."
   ]
  },
  {
   "cell_type": "code",
   "execution_count": 6,
   "metadata": {},
   "outputs": [
    {
     "data": {
      "text/plain": [
       "target\n",
       "-1    100\n",
       " 1     50\n",
       "Name: count, dtype: int64"
      ]
     },
     "execution_count": 6,
     "metadata": {},
     "output_type": "execute_result"
    }
   ],
   "source": [
    "y.value_counts()"
   ]
  },
  {
   "cell_type": "code",
   "execution_count": 5,
   "metadata": {
    "id": "3NxbML_s_rmt"
   },
   "outputs": [],
   "source": [
    "y[y!=1] = -1"
   ]
  },
  {
   "cell_type": "code",
   "execution_count": null,
   "metadata": {},
   "outputs": [],
   "source": []
  },
  {
   "cell_type": "code",
   "execution_count": 8,
   "metadata": {
    "colab": {
     "base_uri": "https://localhost:8080/",
     "height": 206
    },
    "id": "IReROSE_ZcEn",
    "outputId": "32969ed4-5600-441c-a7e0-537a3965ac8e"
   },
   "outputs": [
    {
     "data": {
      "text/html": [
       "<div>\n",
       "<style scoped>\n",
       "    .dataframe tbody tr th:only-of-type {\n",
       "        vertical-align: middle;\n",
       "    }\n",
       "\n",
       "    .dataframe tbody tr th {\n",
       "        vertical-align: top;\n",
       "    }\n",
       "\n",
       "    .dataframe thead th {\n",
       "        text-align: right;\n",
       "    }\n",
       "</style>\n",
       "<table border=\"1\" class=\"dataframe\">\n",
       "  <thead>\n",
       "    <tr style=\"text-align: right;\">\n",
       "      <th></th>\n",
       "      <th>sepal length (cm)</th>\n",
       "      <th>sepal width (cm)</th>\n",
       "    </tr>\n",
       "  </thead>\n",
       "  <tbody>\n",
       "    <tr>\n",
       "      <th>0</th>\n",
       "      <td>5.1</td>\n",
       "      <td>3.5</td>\n",
       "    </tr>\n",
       "    <tr>\n",
       "      <th>1</th>\n",
       "      <td>4.9</td>\n",
       "      <td>3.0</td>\n",
       "    </tr>\n",
       "    <tr>\n",
       "      <th>2</th>\n",
       "      <td>4.7</td>\n",
       "      <td>3.2</td>\n",
       "    </tr>\n",
       "    <tr>\n",
       "      <th>3</th>\n",
       "      <td>4.6</td>\n",
       "      <td>3.1</td>\n",
       "    </tr>\n",
       "    <tr>\n",
       "      <th>4</th>\n",
       "      <td>5.0</td>\n",
       "      <td>3.6</td>\n",
       "    </tr>\n",
       "  </tbody>\n",
       "</table>\n",
       "</div>"
      ],
      "text/plain": [
       "   sepal length (cm)  sepal width (cm)\n",
       "0                5.1               3.5\n",
       "1                4.9               3.0\n",
       "2                4.7               3.2\n",
       "3                4.6               3.1\n",
       "4                5.0               3.6"
      ]
     },
     "execution_count": 8,
     "metadata": {},
     "output_type": "execute_result"
    }
   ],
   "source": [
    "X.head()"
   ]
  },
  {
   "cell_type": "markdown",
   "metadata": {
    "id": "xHYuUuAWAGfl"
   },
   "source": [
    "Разобьём данные на тренировочную и тестовую части. Затем обучим модель на тренировочных данных и оценим её качество на train и test."
   ]
  },
  {
   "cell_type": "code",
   "execution_count": 9,
   "metadata": {
    "id": "nCOEwj04ZcHd"
   },
   "outputs": [],
   "source": [
    "from sklearn.model_selection import train_test_split\n",
    "X_train, X_test, y_train, y_test = train_test_split(X, y, test_size=0.2)"
   ]
  },
  {
   "cell_type": "code",
   "execution_count": 10,
   "metadata": {
    "id": "TFqTF14RaJGY"
   },
   "outputs": [],
   "source": [
    "from sklearn.tree import DecisionTreeClassifier\n",
    "\n",
    "tree = DecisionTreeClassifier()\n",
    "tree.fit(X_train, y_train)\n",
    "\n",
    "y_train_pred = tree.predict(X_train)\n",
    "y_test_pred = tree.predict(X_test)"
   ]
  },
  {
   "cell_type": "code",
   "execution_count": 11,
   "metadata": {
    "colab": {
     "base_uri": "https://localhost:8080/"
    },
    "id": "zwtrC-U1aULm",
    "outputId": "be9b3485-2398-47a4-928a-a57a1bb46266"
   },
   "outputs": [
    {
     "data": {
      "text/plain": [
       "(0.9333333333333333, 0.6666666666666666)"
      ]
     },
     "execution_count": 11,
     "metadata": {},
     "output_type": "execute_result"
    }
   ],
   "source": [
    "from sklearn.metrics import accuracy_score\n",
    "\n",
    "accuracy_score(y_train, y_train_pred), accuracy_score(y_test, y_test_pred)"
   ]
  },
  {
   "cell_type": "markdown",
   "metadata": {
    "id": "8lE7dVZJ9hdM"
   },
   "source": [
    "Заново разобьём данные на train и test и повторим процесс обучения и оценки качества модели."
   ]
  },
  {
   "cell_type": "code",
   "execution_count": 12,
   "metadata": {
    "colab": {
     "base_uri": "https://localhost:8080/"
    },
    "id": "kXN5Ui_v9qJe",
    "outputId": "506d3c22-ef53-4aa5-9c13-df49c8b2067d"
   },
   "outputs": [
    {
     "data": {
      "text/plain": [
       "(0.9333333333333333, 0.7333333333333333)"
      ]
     },
     "execution_count": 12,
     "metadata": {},
     "output_type": "execute_result"
    }
   ],
   "source": [
    "X_train, X_test, y_train, y_test = train_test_split(X, y, test_size=0.2)\n",
    "\n",
    "tree = DecisionTreeClassifier()\n",
    "tree.fit(X_train, y_train)\n",
    "y_train_pred = tree.predict(X_train)\n",
    "y_test_pred = tree.predict(X_test)\n",
    "\n",
    "accuracy_score(y_train, y_train_pred), accuracy_score(y_test, y_test_pred)"
   ]
  },
  {
   "cell_type": "markdown",
   "metadata": {
    "id": "uOilkmXK9uT4"
   },
   "source": [
    "Получили другие значения метрик! То есть значения метрик зависят от разбиения данных на train и test."
   ]
  },
  {
   "cell_type": "markdown",
   "metadata": {
    "id": "osPWl-40dJDn"
   },
   "source": [
    "Теперь используем кросс-валидацию k-fold для оценки качества.\n",
    "\n",
    "В sklearn есть два способа её осуществить:\n",
    "*  cross_val_score\n",
    "*  cross_validate"
   ]
  },
  {
   "cell_type": "code",
   "execution_count": 13,
   "metadata": {
    "id": "M6CbjU30aWsS"
   },
   "outputs": [],
   "source": [
    "from sklearn.model_selection import cross_val_score\n",
    "\n",
    "scores = cross_val_score(DecisionTreeClassifier(), X, y, cv=3, scoring='accuracy')"
   ]
  },
  {
   "cell_type": "code",
   "execution_count": 15,
   "metadata": {
    "colab": {
     "base_uri": "https://localhost:8080/"
    },
    "id": "ALyp7HlPneEP",
    "outputId": "19fd6258-3345-4f9d-a994-b9862015c678"
   },
   "outputs": [
    {
     "data": {
      "text/plain": [
       "array([0.78, 0.7 , 0.56])"
      ]
     },
     "execution_count": 15,
     "metadata": {},
     "output_type": "execute_result"
    }
   ],
   "source": [
    "scores"
   ]
  },
  {
   "cell_type": "markdown",
   "metadata": {
    "id": "kGvzHYla-D8D"
   },
   "source": [
    "Мы сделали кросс-валидацию с тремя фолдами и на каждом фолде получили различные значения accuracy. Визуально разброс значений довольно большой!\n",
    "\n",
    "Посчитаем среднее значение и стандартное отклонение."
   ]
  },
  {
   "cell_type": "code",
   "execution_count": 16,
   "metadata": {
    "colab": {
     "base_uri": "https://localhost:8080/"
    },
    "id": "C31iAtnE-RDQ",
    "outputId": "df4242ae-7f5d-4390-da75-2f410c2a21f7"
   },
   "outputs": [
    {
     "data": {
      "text/plain": [
       "0.68"
      ]
     },
     "execution_count": 16,
     "metadata": {},
     "output_type": "execute_result"
    }
   ],
   "source": [
    "scores.mean()"
   ]
  },
  {
   "cell_type": "code",
   "execution_count": 17,
   "metadata": {
    "colab": {
     "base_uri": "https://localhost:8080/"
    },
    "id": "z0CZ1xVx-Tiz",
    "outputId": "68bfd969-4ceb-4627-dbc5-79f4239485df"
   },
   "outputs": [
    {
     "data": {
      "text/plain": [
       "0.09092121131323902"
      ]
     },
     "execution_count": 17,
     "metadata": {},
     "output_type": "execute_result"
    }
   ],
   "source": [
    "scores.std()"
   ]
  },
  {
   "cell_type": "markdown",
   "metadata": {
    "id": "R2cOmsOZeX87"
   },
   "source": [
    "Теперь по среднему значению accuracy на кросс-валидации мы получили более корректную оценку метрики качества.\n",
    "\n",
    "Кроме того, значение стандартного отклонения говорит о том, что метрика довольно сильно зависит от разбиения данных. То есть может иметь место переобучение."
   ]
  },
  {
   "cell_type": "markdown",
   "metadata": {
    "id": "sCmPCj8z-93T"
   },
   "source": [
    "Второй способ — это cross_validate. Он отличается от cross_val_score тем, что:\n",
    "\n",
    "*    позволяет измерять несколько метрик одновременно;\n",
    "*    возвращает словарь, содержащий время обучения, время применения, значения метрик на тестовых данных (и опционально — значения метрик на тренировочных данных)."
   ]
  },
  {
   "cell_type": "code",
   "execution_count": 18,
   "metadata": {
    "id": "Rxfu6dd__QzG"
   },
   "outputs": [],
   "source": [
    "from sklearn.model_selection import cross_validate\n",
    "\n",
    "res = cross_validate(DecisionTreeClassifier(), X, y, cv=3, scoring=['accuracy','roc_auc'])"
   ]
  },
  {
   "cell_type": "code",
   "execution_count": 19,
   "metadata": {
    "colab": {
     "base_uri": "https://localhost:8080/"
    },
    "id": "EQb4tnND_Xf0",
    "outputId": "a55af342-2a4d-44b6-917e-071b5beb626c"
   },
   "outputs": [
    {
     "data": {
      "text/plain": [
       "{'fit_time': array([0.00299978, 0.00320387, 0.        ]),\n",
       " 'score_time': array([0.01055431, 0.00352097, 0.01113319]),\n",
       " 'test_accuracy': array([0.78, 0.7 , 0.56]),\n",
       " 'test_roc_auc': array([0.71875   , 0.67290553, 0.63190731])}"
      ]
     },
     "execution_count": 19,
     "metadata": {},
     "output_type": "execute_result"
    }
   ],
   "source": [
    "res"
   ]
  },
  {
   "cell_type": "markdown",
   "metadata": {
    "id": "Zjr60kfj_brh"
   },
   "source": [
    "Из полученной информации мы также можем извлечь среднее качество на тестовых данных и стандартное отклонение."
   ]
  },
  {
   "cell_type": "code",
   "execution_count": 20,
   "metadata": {
    "colab": {
     "base_uri": "https://localhost:8080/"
    },
    "id": "l8TqEdSM_6E3",
    "outputId": "475da050-00ce-449a-a401-f34617fef09b"
   },
   "outputs": [
    {
     "data": {
      "text/plain": [
       "(0.68, 0.09092121131323902)"
      ]
     },
     "execution_count": 20,
     "metadata": {},
     "output_type": "execute_result"
    }
   ],
   "source": [
    "res['test_accuracy'].mean(), res['test_accuracy'].std()"
   ]
  },
  {
   "cell_type": "markdown",
   "metadata": {
    "id": "6WicoIv1_987"
   },
   "source": [
    "Кроме того, получаем довольно много дополнительной диагностической информации, такой как:\n",
    "*   время обучения модели на каждом запуске кросс-валидации;\n",
    "*   время применения модели.\n",
    "\n",
    "Это полезная информация. Оценивая время обучения и время применения модели, мы можем оценить временные затраты на обучение и на применение модели на всём датасете, а также при увеличении количества данных."
   ]
  },
  {
   "cell_type": "code",
   "execution_count": null,
   "metadata": {},
   "outputs": [],
   "source": []
  }
 ],
 "metadata": {
  "colab": {
   "provenance": []
  },
  "kernelspec": {
   "display_name": "Python 3 (ipykernel)",
   "language": "python",
   "name": "python3"
  },
  "language_info": {
   "codemirror_mode": {
    "name": "ipython",
    "version": 3
   },
   "file_extension": ".py",
   "mimetype": "text/x-python",
   "name": "python",
   "nbconvert_exporter": "python",
   "pygments_lexer": "ipython3",
   "version": "3.11.5"
  }
 },
 "nbformat": 4,
 "nbformat_minor": 1
}
