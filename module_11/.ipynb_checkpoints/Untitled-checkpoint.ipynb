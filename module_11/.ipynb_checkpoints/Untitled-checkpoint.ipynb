{
 "cells": [
  {
   "cell_type": "markdown",
   "id": "ebbc6294",
   "metadata": {
    "id": "wGUh9-kKDVk_"
   },
   "source": [
    "# Случайный лес\n",
    "\n",
    "В этом практическом задании вы решите задачу регрессии на реальных данных при помощи линейной модели и случайного леса. "
   ]
  },
  {
   "cell_type": "markdown",
   "id": "2651a734",
   "metadata": {
    "id": "RS-i_3wQqtxS"
   },
   "source": [
    "## Цели практической работы\n",
    "\n",
    "* Научиться применять случайный лес в задаче регрессии.\n",
    "* Научиться сравнивать качество случайного леса с качеством линейной модели.\n",
    "* Научиться настраивать гиперпараметры леса."
   ]
  },
  {
   "cell_type": "markdown",
   "id": "0397482c",
   "metadata": {
    "id": "4Uo9gVtsqbJX"
   },
   "source": [
    "## Что входит в работу\n",
    "\n",
    "* Выполнить предобработку данных.\n",
    "* Обучить линейную регрессию на данных задачи.\n",
    "* Обучить случайный лес на данных задачи.\n",
    "* Подобрать гиперпараметры для леса.\n",
    "* Визуализировать важность признаков у леса."
   ]
  },
  {
   "cell_type": "markdown",
   "id": "bb16dcc7",
   "metadata": {
    "id": "9WSnh3hKrFZX"
   },
   "source": [
    "## Что оценивается\n",
    "\n",
    "*  Все ячейки заполнены; при запуске ячеек  Python не выдаёт информацию об ошибках.\n",
    "*  Качество итоговой модели $R^2$ превышает 0,95.\n"
   ]
  },
  {
   "cell_type": "markdown",
   "id": "9f5bdff6",
   "metadata": {
    "id": "Tb-5iUrybT-m"
   },
   "source": [
    "## Что нужно сделать\n",
    "\n",
    "Постройте модели, предсказывающие стоимость автомобилей по характеристикам.\n",
    "\n",
    "Признаков у машин много, но в этой работе обойдёмся только числовыми признаками:\n",
    "*  year — год производства автомобиля;\n",
    "*  km_driven — пробег;\n",
    "*  seats — количество посадочных мест;\n",
    "*  mileage — другая характеристика пробега;\n",
    "*  engine — мощность двигателя;\n",
    "*  max_power — мощность автомобиля.\n",
    "\n",
    "Целевая переменная — selling_price."
   ]
  },
  {
   "cell_type": "code",
   "execution_count": 494,
   "id": "37968602",
   "metadata": {
    "id": "0smCupJnhCRx"
   },
   "outputs": [],
   "source": [
    "import pandas as pd\n",
    "import numpy as np\n",
    "from sklearn.model_selection import train_test_split\n",
    "# Ваш код здесь\n",
    "from sklearn.linear_model import LinearRegression\n",
    "from sklearn.metrics import r2_score\n",
    "from sklearn.ensemble import RandomForestRegressor\n",
    "from sklearn.model_selection import GridSearchCV\n",
    "    "
   ]
  },
  {
   "cell_type": "code",
   "execution_count": 495,
   "id": "60f12d21",
   "metadata": {},
   "outputs": [],
   "source": [
    "\n",
    "\n",
    "train2 = pd.read_csv('11.6 cars_train.csv')\n",
    "test = pd.read_csv(\"11.6 cars_test.csv\")"
   ]
  },
  {
   "cell_type": "markdown",
   "id": "464790af",
   "metadata": {
    "id": "jTjAo4UEL3IG"
   },
   "source": [
    "Создайте объекты Xtrain, ytrain, Xtest, ytest. Запишите в них матрицы «объект — признак» и векторы целевой переменной для тренировочного и тестового датасетов."
   ]
  },
  {
   "cell_type": "code",
   "execution_count": 496,
   "id": "525bd376",
   "metadata": {},
   "outputs": [],
   "source": [
    "train2 = train2[train2.selling_price.isna() == False]"
   ]
  },
  {
   "cell_type": "code",
   "execution_count": 497,
   "id": "221d3acc",
   "metadata": {},
   "outputs": [],
   "source": [
    "# я изначально не догадался, что с 'тестом' нужно будет проделать тоже самое... вышел из положения превратив имя \"train\" в своего рода i в цикле:)\n",
    "dfs = [train2, test]\n",
    "for train in dfs:\n",
    "    train['mileage'] = train['mileage'].apply(lambda x: 'ffs' if type(x) != str else ('ffs' if x.split(' ')[1] != 'kmpl' else eval(x.replace(' kmpl',''))))\n",
    "    mean = train[train['mileage'].apply(lambda x: not isinstance(x, str))]['mileage'].mean()\n",
    "    mean = round( mean, 2)\n",
    "    train.loc[train['mileage'].apply(lambda x: isinstance(x, str)), 'mileage'] = mean\n",
    "    train['mileage'] = train['mileage'].astype(float)\n",
    "\n",
    "#     train['engine'] = train['engine'].apply(lambda x: 'ffs' if  not isinstance(x, str) else x.split(' ')[0])\n",
    "#     train.loc[train['engine'] == 'ffs','engine'] = round(train[train['engine'] != 'ffs']['engine'].mean(), 2)\n",
    "#     train['engine'] = train['engine'].astype(float)\n",
    "    train['engine'] = train['engine'].apply(lambda x: x.split(' ')[0] if isinstance(x, str) else 'ffs')\n",
    "    train.loc[train['engine'] == 'ffs','engine'] = round(train[train['engine'] != 'ffs']['engine'].astype(float).mean(), 2)\n",
    "    train['engine'] = train['engine'].astype(float)\n",
    "\n",
    "    train['max_power'] = train['max_power'].apply(lambda x: x.split(' ')[0] if isinstance(x, str) else 'ffs')\n",
    "    train.loc[train['max_power'] == 'ffs','max_power'] = round(train[train['max_power'] != 'ffs']['max_power'].astype(float).mean(), 2)\n",
    "    train['max_power'] = train['max_power'].astype(float)"
   ]
  },
  {
   "cell_type": "code",
   "execution_count": 498,
   "id": "5c28cbdf",
   "metadata": {},
   "outputs": [],
   "source": [
    "train = train2.copy()"
   ]
  },
  {
   "cell_type": "code",
   "execution_count": 499,
   "id": "69af95e0",
   "metadata": {},
   "outputs": [],
   "source": [
    "train.loc[train['seats'].isna(), 'seats'] = round(train[train['seats'].isna() == False]['seats'].mean(), 2)"
   ]
  },
  {
   "cell_type": "code",
   "execution_count": 500,
   "id": "5900db2b",
   "metadata": {},
   "outputs": [],
   "source": [
    "cols = ['year', 'km_driven','selling_price',  'seats', 'engine', 'mileage', 'max_power']\n",
    "train = train[cols]\n",
    "test = test[cols]"
   ]
  },
  {
   "cell_type": "code",
   "execution_count": 501,
   "id": "596544a6",
   "metadata": {},
   "outputs": [],
   "source": [
    "X = train.drop(train.columns[2], axis=1)\n",
    "y = train[train.columns[2]]"
   ]
  },
  {
   "cell_type": "code",
   "execution_count": 502,
   "id": "c5f619fa",
   "metadata": {
    "id": "2tLR6TQAiuXf"
   },
   "outputs": [],
   "source": [
    "# Ваш код здесь\n",
    "\n",
    "Xtrain, Xtest, ytrain, ytest = train_test_split(X, y, test_size=0.25, random_state=42)#:)"
   ]
  },
  {
   "cell_type": "markdown",
   "id": "92824549",
   "metadata": {
    "id": "TWiEH5reAKTF"
   },
   "source": [
    "В тренировочных данных есть автомобили, для которых неизвестна стоимость. Удалите эти автомобили из трейна."
   ]
  },
  {
   "cell_type": "code",
   "execution_count": 503,
   "id": "850c01dd",
   "metadata": {
    "id": "B151ci2AASUb"
   },
   "outputs": [],
   "source": [
    "# выше на всем трэйне целиком"
   ]
  },
  {
   "cell_type": "markdown",
   "id": "7b2e55eb",
   "metadata": {
    "id": "3HbVvXLSlVK-"
   },
   "source": [
    "Перед обучением моделей обработайте данные.\n",
    "\n",
    "Обратите внимание, что столбцы mileage, engine и max_power по смыслу числовые. Чтобы превратить их в числовые столбцы, отбросьте единицы измерения и оставьте только числа. В столбцах есть пропущенные значения, их при обработке трогать не нужно."
   ]
  },
  {
   "cell_type": "code",
   "execution_count": 504,
   "id": "f8824b40",
   "metadata": {},
   "outputs": [],
   "source": [
    "# выше на всем трэйне целиком"
   ]
  },
  {
   "cell_type": "markdown",
   "id": "1d0f17c9",
   "metadata": {
    "id": "p43qUhHg-_-e"
   },
   "source": [
    "Оставьте в данных только шесть числовых столбцов:\n",
    "\n",
    "year, km_driven, seats, engine, mileage, max_power"
   ]
  },
  {
   "cell_type": "code",
   "execution_count": 505,
   "id": "103bc537",
   "metadata": {
    "id": "vP0FYosyix7_"
   },
   "outputs": [],
   "source": [
    "# выше на всем трэйне целиком"
   ]
  },
  {
   "cell_type": "markdown",
   "id": "cfe103b9",
   "metadata": {
    "id": "Q0AsRR_69ZFH"
   },
   "source": [
    "Теперь заполните пропуски следующим образом:\n",
    "\n",
    "*    вычислите средние значения по столбцам тренировочной выборки;\n",
    "\n",
    "*    добавьте в пропуски в тренировочных и тестовых данных вычисленные средние."
   ]
  },
  {
   "cell_type": "code",
   "execution_count": 506,
   "id": "9a1bd37c",
   "metadata": {
    "id": "yk0P1b6X9qqh"
   },
   "outputs": [],
   "source": [
    "# выше на всем трэйне целиком"
   ]
  },
  {
   "cell_type": "markdown",
   "id": "83ba0170",
   "metadata": {
    "id": "BUatWsDGi_rj"
   },
   "source": [
    "Теперь на обработанных тренировочных данных обучите:\n",
    "\n",
    "*  линейную регрессию,\n",
    "*  случайный лес с параметрами по умолчанию.\n",
    "\n",
    "На обработанных тестовых данных сделайте предсказание и вычислите метрику $R^2$. "
   ]
  },
  {
   "cell_type": "code",
   "execution_count": 507,
   "id": "1cfacc90",
   "metadata": {
    "id": "cQ7iS1eu-s_8",
    "scrolled": true
   },
   "outputs": [
    {
     "name": "stdout",
     "output_type": "stream",
     "text": [
      "LinearR test  r2 score 0.6276800500237365\n",
      "TreeR test r2 score 0.9421570086753323\n"
     ]
    }
   ],
   "source": [
    "\n",
    "linr = LinearRegression()\n",
    "tree_def = RandomForestRegressor()\n",
    "tree_def.fit(Xtrain, ytrain)\n",
    "linr.fit(Xtrain, ytrain)\n",
    "\n",
    "\n",
    "\n",
    "print('LinearR test  r2 score ', end='')\n",
    "print(r2_score(ytest, linr.predict(Xtest)))\n",
    "\n",
    "print('TreeR test r2 score ', end='')\n",
    "print(r2_score(ytest, tree_def.predict(Xtest)))"
   ]
  },
  {
   "cell_type": "markdown",
   "id": "f846316e",
   "metadata": {
    "id": "LbbD1-qC76HW"
   },
   "source": [
    "Какая модель получилась лучше?"
   ]
  },
  {
   "cell_type": "code",
   "execution_count": 508,
   "id": "cdba80fc",
   "metadata": {
    "id": "j3N-kazm767P"
   },
   "outputs": [],
   "source": [
    "# Ваш ответ здесь\n",
    "# похоже дерево справилось гораздо лучше"
   ]
  },
  {
   "cell_type": "markdown",
   "id": "3fc9b594",
   "metadata": {
    "id": "J36iRaNoBEkT"
   },
   "source": [
    "Улучшите качество предсказания случайного леса путём подбора гиперпараметров:\n",
    "\n",
    "*   n_estimators,\n",
    "*   max_depth,\n",
    "*   max_features,\n",
    "*   min_samples_leaf,\n",
    "*   min_samples_split.\n",
    "\n",
    "Для подбора гиперпараметров используйте GridSearchCV. Обучайте GridSearchCV по тренировочным данным с разбивкой на три фолда и метрикой $R^2$."
   ]
  },
  {
   "cell_type": "code",
   "execution_count": 509,
   "id": "74f5a439",
   "metadata": {},
   "outputs": [
    {
     "name": "stdout",
     "output_type": "stream",
     "text": [
      "RandomForestRegressor(max_depth=18, max_features='sqrt', n_estimators=90)\n",
      "0.9580328057501738\n"
     ]
    }
   ],
   "source": [
    "param_grid = {\n",
    "    'n_estimators': np.arange(10, 120, 20),\n",
    "#     'max_depth': np.arange(2, 25, 4),\n",
    "#     'max_features': ['sqrt', 'log2', None],\n",
    "#     'min_samples_leaf': [1, 2, 3, 4, 5],\n",
    "#     'min_samples_split': range(2,17),\n",
    "                     }\n",
    "model = RandomForestRegressor()\n",
    "gs = GridSearchCV(model, param_grid, cv=3, scoring='r2')\n",
    "gs.fit(Xtrain, ytrain)\n",
    "\n",
    "\n",
    "\n",
    "param_grid = {\n",
    "#     'n_estimators': np.arange(10, 120, 20),\n",
    "    'max_depth': np.arange(2, 25, 4),\n",
    "    'max_features': ['sqrt', 'log2', None],\n",
    "#     'min_samples_leaf': [1, 2, 3, 4, 5],\n",
    "#     'min_samples_split': range(2,17),\n",
    "                     }\n",
    "model = gs.best_estimator_\n",
    "gs = GridSearchCV(model, param_grid, cv=3, scoring='r2')\n",
    "gs.fit(Xtrain, ytrain)\n",
    "\n",
    "\n",
    "\n",
    "\n",
    "param_grid = {\n",
    "#     'n_estimators': np.arange(10, 120, 20),\n",
    "#     'max_depth': np.arange(2, 25, 4),\n",
    "#     'max_features': ['sqrt', 'log2', None],\n",
    "    'min_samples_leaf': [1, 2, 3, 4, 5],\n",
    "    'min_samples_split': range(2,17),\n",
    "                     }\n",
    "\n",
    "model = gs.best_estimator_\n",
    "gs = GridSearchCV(model, param_grid, cv=3, scoring='r2')\n",
    "gs.fit(Xtrain, ytrain)\n",
    "\n",
    "\n",
    "\n",
    "\n",
    "print(gs.best_estimator_)\n",
    "print(gs.best_score_)"
   ]
  },
  {
   "cell_type": "code",
   "execution_count": 510,
   "id": "5c0c18a3",
   "metadata": {
    "id": "3IWEulMqBXlv"
   },
   "outputs": [
    {
     "data": {
      "text/html": [
       "<style>#sk-container-id-1 {color: black;}#sk-container-id-1 pre{padding: 0;}#sk-container-id-1 div.sk-toggleable {background-color: white;}#sk-container-id-1 label.sk-toggleable__label {cursor: pointer;display: block;width: 100%;margin-bottom: 0;padding: 0.3em;box-sizing: border-box;text-align: center;}#sk-container-id-1 label.sk-toggleable__label-arrow:before {content: \"▸\";float: left;margin-right: 0.25em;color: #696969;}#sk-container-id-1 label.sk-toggleable__label-arrow:hover:before {color: black;}#sk-container-id-1 div.sk-estimator:hover label.sk-toggleable__label-arrow:before {color: black;}#sk-container-id-1 div.sk-toggleable__content {max-height: 0;max-width: 0;overflow: hidden;text-align: left;background-color: #f0f8ff;}#sk-container-id-1 div.sk-toggleable__content pre {margin: 0.2em;color: black;border-radius: 0.25em;background-color: #f0f8ff;}#sk-container-id-1 input.sk-toggleable__control:checked~div.sk-toggleable__content {max-height: 200px;max-width: 100%;overflow: auto;}#sk-container-id-1 input.sk-toggleable__control:checked~label.sk-toggleable__label-arrow:before {content: \"▾\";}#sk-container-id-1 div.sk-estimator input.sk-toggleable__control:checked~label.sk-toggleable__label {background-color: #d4ebff;}#sk-container-id-1 div.sk-label input.sk-toggleable__control:checked~label.sk-toggleable__label {background-color: #d4ebff;}#sk-container-id-1 input.sk-hidden--visually {border: 0;clip: rect(1px 1px 1px 1px);clip: rect(1px, 1px, 1px, 1px);height: 1px;margin: -1px;overflow: hidden;padding: 0;position: absolute;width: 1px;}#sk-container-id-1 div.sk-estimator {font-family: monospace;background-color: #f0f8ff;border: 1px dotted black;border-radius: 0.25em;box-sizing: border-box;margin-bottom: 0.5em;}#sk-container-id-1 div.sk-estimator:hover {background-color: #d4ebff;}#sk-container-id-1 div.sk-parallel-item::after {content: \"\";width: 100%;border-bottom: 1px solid gray;flex-grow: 1;}#sk-container-id-1 div.sk-label:hover label.sk-toggleable__label {background-color: #d4ebff;}#sk-container-id-1 div.sk-serial::before {content: \"\";position: absolute;border-left: 1px solid gray;box-sizing: border-box;top: 0;bottom: 0;left: 50%;z-index: 0;}#sk-container-id-1 div.sk-serial {display: flex;flex-direction: column;align-items: center;background-color: white;padding-right: 0.2em;padding-left: 0.2em;position: relative;}#sk-container-id-1 div.sk-item {position: relative;z-index: 1;}#sk-container-id-1 div.sk-parallel {display: flex;align-items: stretch;justify-content: center;background-color: white;position: relative;}#sk-container-id-1 div.sk-item::before, #sk-container-id-1 div.sk-parallel-item::before {content: \"\";position: absolute;border-left: 1px solid gray;box-sizing: border-box;top: 0;bottom: 0;left: 50%;z-index: -1;}#sk-container-id-1 div.sk-parallel-item {display: flex;flex-direction: column;z-index: 1;position: relative;background-color: white;}#sk-container-id-1 div.sk-parallel-item:first-child::after {align-self: flex-end;width: 50%;}#sk-container-id-1 div.sk-parallel-item:last-child::after {align-self: flex-start;width: 50%;}#sk-container-id-1 div.sk-parallel-item:only-child::after {width: 0;}#sk-container-id-1 div.sk-dashed-wrapped {border: 1px dashed gray;margin: 0 0.4em 0.5em 0.4em;box-sizing: border-box;padding-bottom: 0.4em;background-color: white;}#sk-container-id-1 div.sk-label label {font-family: monospace;font-weight: bold;display: inline-block;line-height: 1.2em;}#sk-container-id-1 div.sk-label-container {text-align: center;}#sk-container-id-1 div.sk-container {/* jupyter's `normalize.less` sets `[hidden] { display: none; }` but bootstrap.min.css set `[hidden] { display: none !important; }` so we also need the `!important` here to be able to override the default hidden behavior on the sphinx rendered scikit-learn.org. See: https://github.com/scikit-learn/scikit-learn/issues/21755 */display: inline-block !important;position: relative;}#sk-container-id-1 div.sk-text-repr-fallback {display: none;}</style><div id=\"sk-container-id-1\" class=\"sk-top-container\"><div class=\"sk-text-repr-fallback\"><pre>RandomForestRegressor(max_depth=18, max_features=&#x27;sqrt&#x27;, n_estimators=90)</pre><b>In a Jupyter environment, please rerun this cell to show the HTML representation or trust the notebook. <br />On GitHub, the HTML representation is unable to render, please try loading this page with nbviewer.org.</b></div><div class=\"sk-container\" hidden><div class=\"sk-item\"><div class=\"sk-estimator sk-toggleable\"><input class=\"sk-toggleable__control sk-hidden--visually\" id=\"sk-estimator-id-1\" type=\"checkbox\" checked><label for=\"sk-estimator-id-1\" class=\"sk-toggleable__label sk-toggleable__label-arrow\">RandomForestRegressor</label><div class=\"sk-toggleable__content\"><pre>RandomForestRegressor(max_depth=18, max_features=&#x27;sqrt&#x27;, n_estimators=90)</pre></div></div></div></div></div>"
      ],
      "text/plain": [
       "RandomForestRegressor(max_depth=18, max_features='sqrt', n_estimators=90)"
      ]
     },
     "execution_count": 510,
     "metadata": {},
     "output_type": "execute_result"
    }
   ],
   "source": [
    "# Ваш код здесь\n",
    "model = RandomForestRegressor(max_depth=18, max_features='sqrt', n_estimators=90)"
   ]
  },
  {
   "cell_type": "code",
   "execution_count": 511,
   "id": "c3954306",
   "metadata": {},
   "outputs": [
    {
     "data": {
      "text/html": [
       "<style>#sk-container-id-2 {color: black;}#sk-container-id-2 pre{padding: 0;}#sk-container-id-2 div.sk-toggleable {background-color: white;}#sk-container-id-2 label.sk-toggleable__label {cursor: pointer;display: block;width: 100%;margin-bottom: 0;padding: 0.3em;box-sizing: border-box;text-align: center;}#sk-container-id-2 label.sk-toggleable__label-arrow:before {content: \"▸\";float: left;margin-right: 0.25em;color: #696969;}#sk-container-id-2 label.sk-toggleable__label-arrow:hover:before {color: black;}#sk-container-id-2 div.sk-estimator:hover label.sk-toggleable__label-arrow:before {color: black;}#sk-container-id-2 div.sk-toggleable__content {max-height: 0;max-width: 0;overflow: hidden;text-align: left;background-color: #f0f8ff;}#sk-container-id-2 div.sk-toggleable__content pre {margin: 0.2em;color: black;border-radius: 0.25em;background-color: #f0f8ff;}#sk-container-id-2 input.sk-toggleable__control:checked~div.sk-toggleable__content {max-height: 200px;max-width: 100%;overflow: auto;}#sk-container-id-2 input.sk-toggleable__control:checked~label.sk-toggleable__label-arrow:before {content: \"▾\";}#sk-container-id-2 div.sk-estimator input.sk-toggleable__control:checked~label.sk-toggleable__label {background-color: #d4ebff;}#sk-container-id-2 div.sk-label input.sk-toggleable__control:checked~label.sk-toggleable__label {background-color: #d4ebff;}#sk-container-id-2 input.sk-hidden--visually {border: 0;clip: rect(1px 1px 1px 1px);clip: rect(1px, 1px, 1px, 1px);height: 1px;margin: -1px;overflow: hidden;padding: 0;position: absolute;width: 1px;}#sk-container-id-2 div.sk-estimator {font-family: monospace;background-color: #f0f8ff;border: 1px dotted black;border-radius: 0.25em;box-sizing: border-box;margin-bottom: 0.5em;}#sk-container-id-2 div.sk-estimator:hover {background-color: #d4ebff;}#sk-container-id-2 div.sk-parallel-item::after {content: \"\";width: 100%;border-bottom: 1px solid gray;flex-grow: 1;}#sk-container-id-2 div.sk-label:hover label.sk-toggleable__label {background-color: #d4ebff;}#sk-container-id-2 div.sk-serial::before {content: \"\";position: absolute;border-left: 1px solid gray;box-sizing: border-box;top: 0;bottom: 0;left: 50%;z-index: 0;}#sk-container-id-2 div.sk-serial {display: flex;flex-direction: column;align-items: center;background-color: white;padding-right: 0.2em;padding-left: 0.2em;position: relative;}#sk-container-id-2 div.sk-item {position: relative;z-index: 1;}#sk-container-id-2 div.sk-parallel {display: flex;align-items: stretch;justify-content: center;background-color: white;position: relative;}#sk-container-id-2 div.sk-item::before, #sk-container-id-2 div.sk-parallel-item::before {content: \"\";position: absolute;border-left: 1px solid gray;box-sizing: border-box;top: 0;bottom: 0;left: 50%;z-index: -1;}#sk-container-id-2 div.sk-parallel-item {display: flex;flex-direction: column;z-index: 1;position: relative;background-color: white;}#sk-container-id-2 div.sk-parallel-item:first-child::after {align-self: flex-end;width: 50%;}#sk-container-id-2 div.sk-parallel-item:last-child::after {align-self: flex-start;width: 50%;}#sk-container-id-2 div.sk-parallel-item:only-child::after {width: 0;}#sk-container-id-2 div.sk-dashed-wrapped {border: 1px dashed gray;margin: 0 0.4em 0.5em 0.4em;box-sizing: border-box;padding-bottom: 0.4em;background-color: white;}#sk-container-id-2 div.sk-label label {font-family: monospace;font-weight: bold;display: inline-block;line-height: 1.2em;}#sk-container-id-2 div.sk-label-container {text-align: center;}#sk-container-id-2 div.sk-container {/* jupyter's `normalize.less` sets `[hidden] { display: none; }` but bootstrap.min.css set `[hidden] { display: none !important; }` so we also need the `!important` here to be able to override the default hidden behavior on the sphinx rendered scikit-learn.org. See: https://github.com/scikit-learn/scikit-learn/issues/21755 */display: inline-block !important;position: relative;}#sk-container-id-2 div.sk-text-repr-fallback {display: none;}</style><div id=\"sk-container-id-2\" class=\"sk-top-container\"><div class=\"sk-text-repr-fallback\"><pre>GridSearchCV(cv=3, estimator=RandomForestRegressor(),\n",
       "             param_grid={&#x27;min_samples_leaf&#x27;: [1, 2, 3, 4, 5],\n",
       "                         &#x27;min_samples_split&#x27;: range(2, 17)},\n",
       "             scoring=&#x27;r2&#x27;)</pre><b>In a Jupyter environment, please rerun this cell to show the HTML representation or trust the notebook. <br />On GitHub, the HTML representation is unable to render, please try loading this page with nbviewer.org.</b></div><div class=\"sk-container\" hidden><div class=\"sk-item sk-dashed-wrapped\"><div class=\"sk-label-container\"><div class=\"sk-label sk-toggleable\"><input class=\"sk-toggleable__control sk-hidden--visually\" id=\"sk-estimator-id-2\" type=\"checkbox\" ><label for=\"sk-estimator-id-2\" class=\"sk-toggleable__label sk-toggleable__label-arrow\">GridSearchCV</label><div class=\"sk-toggleable__content\"><pre>GridSearchCV(cv=3, estimator=RandomForestRegressor(),\n",
       "             param_grid={&#x27;min_samples_leaf&#x27;: [1, 2, 3, 4, 5],\n",
       "                         &#x27;min_samples_split&#x27;: range(2, 17)},\n",
       "             scoring=&#x27;r2&#x27;)</pre></div></div></div><div class=\"sk-parallel\"><div class=\"sk-parallel-item\"><div class=\"sk-item\"><div class=\"sk-label-container\"><div class=\"sk-label sk-toggleable\"><input class=\"sk-toggleable__control sk-hidden--visually\" id=\"sk-estimator-id-3\" type=\"checkbox\" ><label for=\"sk-estimator-id-3\" class=\"sk-toggleable__label sk-toggleable__label-arrow\">estimator: RandomForestRegressor</label><div class=\"sk-toggleable__content\"><pre>RandomForestRegressor()</pre></div></div></div><div class=\"sk-serial\"><div class=\"sk-item\"><div class=\"sk-estimator sk-toggleable\"><input class=\"sk-toggleable__control sk-hidden--visually\" id=\"sk-estimator-id-4\" type=\"checkbox\" ><label for=\"sk-estimator-id-4\" class=\"sk-toggleable__label sk-toggleable__label-arrow\">RandomForestRegressor</label><div class=\"sk-toggleable__content\"><pre>RandomForestRegressor()</pre></div></div></div></div></div></div></div></div></div></div>"
      ],
      "text/plain": [
       "GridSearchCV(cv=3, estimator=RandomForestRegressor(),\n",
       "             param_grid={'min_samples_leaf': [1, 2, 3, 4, 5],\n",
       "                         'min_samples_split': range(2, 17)},\n",
       "             scoring='r2')"
      ]
     },
     "execution_count": 511,
     "metadata": {},
     "output_type": "execute_result"
    }
   ],
   "source": [
    "param_grid = {\n",
    "#     'n_estimators': np.arange(10, 120, 20),\n",
    "#     'max_depth': np.arange(2, 25, 4),\n",
    "#     'max_features': ['sqrt', 'log2', None],\n",
    "    'min_samples_leaf': [1, 2, 3, 4, 5],\n",
    "    'min_samples_split': range(2,17),\n",
    "                     }\n",
    "\n",
    "gs = GridSearchCV(model, param_grid, cv=3, scoring='r2')\n",
    "gs.fit(Xtrain, ytrain)"
   ]
  },
  {
   "cell_type": "code",
   "execution_count": 512,
   "id": "7133e763",
   "metadata": {},
   "outputs": [
    {
     "name": "stdout",
     "output_type": "stream",
     "text": [
      "RandomForestRegressor(min_samples_split=3)\n",
      "0.957441435174969\n"
     ]
    }
   ],
   "source": [
    "print(gs.best_estimator_)\n",
    "print(gs.best_score_)"
   ]
  },
  {
   "cell_type": "markdown",
   "id": "241fd0c4",
   "metadata": {
    "id": "TPNNp6cPDsjD"
   },
   "source": [
    "Теперь обучите на тренировочных данных случайный лес с найденными гиперпараметрами. Сделайте предсказание на тестовых данных и оцените его качество ($R^2$)."
   ]
  },
  {
   "cell_type": "code",
   "execution_count": null,
   "id": "f9ed1ea9",
   "metadata": {
    "id": "MPdZ9qCxDrkF"
   },
   "outputs": [],
   "source": [
    "# Ваш код здесь"
   ]
  },
  {
   "cell_type": "markdown",
   "id": "c563608e",
   "metadata": {
    "id": "dpWSQeD4ENby"
   },
   "source": [
    "Модель готова. Осталось её проинтерпретировать.\n",
    "\n",
    "При помощи метода model.feature_importances_ визуализируйте гистограмму важности признаков у случайного леса с настроенными гиперпараметрами."
   ]
  },
  {
   "cell_type": "code",
   "execution_count": null,
   "id": "58702713",
   "metadata": {
    "id": "7uZzKbUnD54w"
   },
   "outputs": [],
   "source": [
    "# Ваш код здесь"
   ]
  },
  {
   "cell_type": "code",
   "execution_count": null,
   "id": "260b3ab9",
   "metadata": {},
   "outputs": [],
   "source": []
  }
 ],
 "metadata": {
  "kernelspec": {
   "display_name": "Python 3 (ipykernel)",
   "language": "python",
   "name": "python3"
  },
  "language_info": {
   "codemirror_mode": {
    "name": "ipython",
    "version": 3
   },
   "file_extension": ".py",
   "mimetype": "text/x-python",
   "name": "python",
   "nbconvert_exporter": "python",
   "pygments_lexer": "ipython3",
   "version": "3.11.5"
  }
 },
 "nbformat": 4,
 "nbformat_minor": 5
}
