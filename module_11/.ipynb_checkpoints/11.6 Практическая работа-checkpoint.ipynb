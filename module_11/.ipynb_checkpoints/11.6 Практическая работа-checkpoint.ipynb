{
 "cells": [
  {
   "cell_type": "markdown",
   "metadata": {
    "id": "wGUh9-kKDVk_"
   },
   "source": [
    "# Случайный лес\n",
    "\n",
    "В этом практическом задании вы решите задачу регрессии на реальных данных при помощи линейной модели и случайного леса. "
   ]
  },
  {
   "cell_type": "markdown",
   "metadata": {
    "id": "RS-i_3wQqtxS"
   },
   "source": [
    "## Цели практической работы\n",
    "\n",
    "* Научиться применять случайный лес в задаче регрессии.\n",
    "* Научиться сравнивать качество случайного леса с качеством линейной модели.\n",
    "* Научиться настраивать гиперпараметры леса."
   ]
  },
  {
   "cell_type": "markdown",
   "metadata": {
    "id": "4Uo9gVtsqbJX"
   },
   "source": [
    "## Что входит в работу\n",
    "\n",
    "* Выполнить предобработку данных.\n",
    "* Обучить линейную регрессию на данных задачи.\n",
    "* Обучить случайный лес на данных задачи.\n",
    "* Подобрать гиперпараметры для леса.\n",
    "* Визуализировать важность признаков у леса."
   ]
  },
  {
   "cell_type": "markdown",
   "metadata": {
    "id": "9WSnh3hKrFZX"
   },
   "source": [
    "## Что оценивается\n",
    "\n",
    "*  Все ячейки заполнены; при запуске ячеек  Python не выдаёт информацию об ошибках.\n",
    "*  Качество итоговой модели $R^2$ превышает 0,95.\n"
   ]
  },
  {
   "cell_type": "markdown",
   "metadata": {
    "id": "Tb-5iUrybT-m"
   },
   "source": [
    "## Что нужно сделать\n",
    "\n",
    "Постройте модели, предсказывающие стоимость автомобилей по характеристикам.\n",
    "\n",
    "Признаков у машин много, но в этой работе обойдёмся только числовыми признаками:\n",
    "*  year — год производства автомобиля;\n",
    "*  km_driven — пробег;\n",
    "*  seats — количество посадочных мест;\n",
    "*  mileage — другая характеристика пробега;\n",
    "*  engine — мощность двигателя;\n",
    "*  max_power — мощность автомобиля.\n",
    "\n",
    "Целевая переменная — selling_price."
   ]
  },
  {
   "cell_type": "code",
   "execution_count": 1,
   "metadata": {
    "id": "0smCupJnhCRx"
   },
   "outputs": [],
   "source": [
    "import pandas as pd\n",
    "import numpy as np\n",
    "from sklearn.model_selection import train_test_split\n",
    "# Ваш код здесь\n",
    "from sklearn.linear_model import LinearRegression\n",
    "from sklearn.metrics import r2_score\n",
    "from sklearn.ensemble import RandomForestRegressor\n",
    "from sklearn.model_selection import GridSearchCV\n",
    "\n",
    "from matplotlib import pyplot as plt\n",
    "\n"
   ]
  },
  {
   "cell_type": "code",
   "execution_count": 2,
   "metadata": {},
   "outputs": [],
   "source": [
    "\n",
    "\n",
    "train2 = pd.read_csv('11.6 cars_train.csv')\n",
    "test = pd.read_csv(\"11.6 cars_test.csv\")"
   ]
  },
  {
   "cell_type": "markdown",
   "metadata": {
    "id": "jTjAo4UEL3IG"
   },
   "source": [
    "Создайте объекты Xtrain, ytrain, Xtest, ytest. Запишите в них матрицы «объект — признак» и векторы целевой переменной для тренировочного и тестового датасетов."
   ]
  },
  {
   "cell_type": "code",
   "execution_count": 3,
   "metadata": {},
   "outputs": [],
   "source": [
    "train2 = train2[train2.selling_price.isna() == False]"
   ]
  },
  {
   "cell_type": "code",
   "execution_count": 4,
   "metadata": {},
   "outputs": [],
   "source": [
    "# я изначально не догадался, что с 'тестом' нужно будет проделать тоже самое... вышел из положения превратив имя \"train\" в своего рода i в цикле:)\n",
    "dfs = [train2, test]\n",
    "for train in dfs:\n",
    "    train['mileage'] = train['mileage'].apply(lambda x: 'ffs' if type(x) != str else ('ffs' if x.split(' ')[1] != 'kmpl' else eval(x.replace(' kmpl',''))))\n",
    "    mean = train[train['mileage'].apply(lambda x: not isinstance(x, str))]['mileage'].mean()\n",
    "    mean = round( mean, 2)\n",
    "    train.loc[train['mileage'].apply(lambda x: isinstance(x, str)), 'mileage'] = mean\n",
    "    train['mileage'] = train['mileage'].astype(float)\n",
    "\n",
    "#     train['engine'] = train['engine'].apply(lambda x: 'ffs' if  not isinstance(x, str) else x.split(' ')[0])\n",
    "#     train.loc[train['engine'] == 'ffs','engine'] = round(train[train['engine'] != 'ffs']['engine'].mean(), 2)\n",
    "#     train['engine'] = train['engine'].astype(float)\n",
    "    train['engine'] = train['engine'].apply(lambda x: x.split(' ')[0] if isinstance(x, str) else 'ffs')\n",
    "    train.loc[train['engine'] == 'ffs','engine'] = round(train[train['engine'] != 'ffs']['engine'].astype(float).mean(), 2)\n",
    "    train['engine'] = train['engine'].astype(float)\n",
    "\n",
    "    train['max_power'] = train['max_power'].apply(lambda x: x.split(' ')[0] if isinstance(x, str) else 'ffs')\n",
    "    train.loc[train['max_power'] == 'ffs','max_power'] = round(train[train['max_power'] != 'ffs']['max_power'].astype(float).mean(), 2)\n",
    "    train['max_power'] = train['max_power'].astype(float)"
   ]
  },
  {
   "cell_type": "code",
   "execution_count": 5,
   "metadata": {},
   "outputs": [],
   "source": [
    "train = train2.copy()"
   ]
  },
  {
   "cell_type": "code",
   "execution_count": 6,
   "metadata": {},
   "outputs": [],
   "source": [
    "train.loc[train['seats'].isna(), 'seats'] = round(train[train['seats'].isna() == False]['seats'].mean(), 2)"
   ]
  },
  {
   "cell_type": "code",
   "execution_count": 7,
   "metadata": {},
   "outputs": [],
   "source": [
    "test.loc[test['seats'].isna(), 'seats'] = round(test[test['seats'].isna() == False]['seats'].mean(), 2)"
   ]
  },
  {
   "cell_type": "code",
   "execution_count": 8,
   "metadata": {},
   "outputs": [],
   "source": [
    "cols = ['year', 'km_driven','selling_price',  'seats', 'engine', 'mileage', 'max_power']\n",
    "train = train[cols]\n",
    "test = test[cols]"
   ]
  },
  {
   "cell_type": "code",
   "execution_count": 9,
   "metadata": {},
   "outputs": [],
   "source": [
    "X = train.drop(train.columns[2], axis=1)\n",
    "y = train[train.columns[2]]"
   ]
  },
  {
   "cell_type": "code",
   "execution_count": 10,
   "metadata": {
    "id": "2tLR6TQAiuXf"
   },
   "outputs": [],
   "source": [
    "# Ваш код здесь\n",
    "\n",
    "Xtrain, Xtest, ytrain, ytest = train_test_split(X, y, test_size=0.25, random_state=42)#:)"
   ]
  },
  {
   "cell_type": "markdown",
   "metadata": {
    "id": "TWiEH5reAKTF"
   },
   "source": [
    "В тренировочных данных есть автомобили, для которых неизвестна стоимость. Удалите эти автомобили из трейна."
   ]
  },
  {
   "cell_type": "code",
   "execution_count": 11,
   "metadata": {
    "id": "B151ci2AASUb"
   },
   "outputs": [],
   "source": [
    "# выше на всем трэйне целиком"
   ]
  },
  {
   "cell_type": "markdown",
   "metadata": {
    "id": "3HbVvXLSlVK-"
   },
   "source": [
    "Перед обучением моделей обработайте данные.\n",
    "\n",
    "Обратите внимание, что столбцы mileage, engine и max_power по смыслу числовые. Чтобы превратить их в числовые столбцы, отбросьте единицы измерения и оставьте только числа. В столбцах есть пропущенные значения, их при обработке трогать не нужно."
   ]
  },
  {
   "cell_type": "code",
   "execution_count": 12,
   "metadata": {},
   "outputs": [],
   "source": [
    "# выше на всем трэйне целиком"
   ]
  },
  {
   "cell_type": "markdown",
   "metadata": {
    "id": "p43qUhHg-_-e"
   },
   "source": [
    "Оставьте в данных только шесть числовых столбцов:\n",
    "\n",
    "year, km_driven, seats, engine, mileage, max_power"
   ]
  },
  {
   "cell_type": "code",
   "execution_count": 13,
   "metadata": {
    "id": "vP0FYosyix7_"
   },
   "outputs": [],
   "source": [
    "# выше на всем трэйне целиком"
   ]
  },
  {
   "cell_type": "markdown",
   "metadata": {
    "id": "Q0AsRR_69ZFH"
   },
   "source": [
    "Теперь заполните пропуски следующим образом:\n",
    "\n",
    "*    вычислите средние значения по столбцам тренировочной выборки;\n",
    "\n",
    "*    добавьте в пропуски в тренировочных и тестовых данных вычисленные средние."
   ]
  },
  {
   "cell_type": "code",
   "execution_count": 14,
   "metadata": {
    "id": "yk0P1b6X9qqh"
   },
   "outputs": [],
   "source": [
    "# выше на всем трэйне целиком"
   ]
  },
  {
   "cell_type": "markdown",
   "metadata": {
    "id": "BUatWsDGi_rj"
   },
   "source": [
    "Теперь на обработанных тренировочных данных обучите:\n",
    "\n",
    "*  линейную регрессию,\n",
    "*  случайный лес с параметрами по умолчанию.\n",
    "\n",
    "На обработанных тестовых данных сделайте предсказание и вычислите метрику $R^2$. "
   ]
  },
  {
   "cell_type": "code",
   "execution_count": 15,
   "metadata": {
    "id": "cQ7iS1eu-s_8",
    "scrolled": true
   },
   "outputs": [
    {
     "name": "stdout",
     "output_type": "stream",
     "text": [
      "LinearR test  r2 score 0.6276800500237365\n",
      "TreeR test r2 score 0.9379892804988307\n"
     ]
    }
   ],
   "source": [
    "\n",
    "linr = LinearRegression()\n",
    "tree_def = RandomForestRegressor()\n",
    "tree_def.fit(Xtrain, ytrain)\n",
    "linr.fit(Xtrain, ytrain)\n",
    "\n",
    "\n",
    "\n",
    "print('LinearR test  r2 score ', end='')\n",
    "print(r2_score(ytest, linr.predict(Xtest)))\n",
    "\n",
    "print('TreeR test r2 score ', end='')\n",
    "print(r2_score(ytest, tree_def.predict(Xtest)))"
   ]
  },
  {
   "cell_type": "markdown",
   "metadata": {
    "id": "LbbD1-qC76HW"
   },
   "source": [
    "Какая модель получилась лучше?"
   ]
  },
  {
   "cell_type": "code",
   "execution_count": 16,
   "metadata": {
    "id": "j3N-kazm767P"
   },
   "outputs": [],
   "source": [
    "# Ваш ответ здесь\n",
    "# похоже дерево справилось гораздо лучше"
   ]
  },
  {
   "cell_type": "markdown",
   "metadata": {
    "id": "J36iRaNoBEkT"
   },
   "source": [
    "Улучшите качество предсказания случайного леса путём подбора гиперпараметров:\n",
    "\n",
    "*   n_estimators,\n",
    "*   max_depth,\n",
    "*   max_features,\n",
    "*   min_samples_leaf,\n",
    "*   min_samples_split.\n",
    "\n",
    "Для подбора гиперпараметров используйте GridSearchCV. Обучайте GridSearchCV по тренировочным данным с разбивкой на три фолда и метрикой $R^2$."
   ]
  },
  {
   "cell_type": "code",
   "execution_count": 17,
   "metadata": {},
   "outputs": [
    {
     "name": "stdout",
     "output_type": "stream",
     "text": [
      "RandomForestRegressor(max_depth=22, max_features='sqrt', min_samples_split=5,\n",
      "                      n_estimators=110)\n",
      "0.958544480185091\n"
     ]
    }
   ],
   "source": [
    "param_grid = {\n",
    "    'n_estimators': np.arange(10, 120, 20),\n",
    "#     'max_depth': np.arange(2, 25, 4),\n",
    "#     'max_features': ['sqrt', 'log2', None],\n",
    "#     'min_samples_leaf': [1, 2, 3, 4, 5],\n",
    "#     'min_samples_split': range(2,17),\n",
    "                     }\n",
    "model = RandomForestRegressor()\n",
    "gs = GridSearchCV(model, param_grid, cv=3, scoring='r2')\n",
    "gs.fit(Xtrain, ytrain)\n",
    "\n",
    "\n",
    "\n",
    "param_grid = {\n",
    "#     'n_estimators': np.arange(10, 120, 20),\n",
    "    'max_depth': np.arange(2, 25, 4),\n",
    "    'max_features': ['sqrt', 'log2', None],\n",
    "#     'min_samples_leaf': [1, 2, 3, 4, 5],\n",
    "#     'min_samples_split': range(2,17),\n",
    "                     }\n",
    "model = gs.best_estimator_\n",
    "gs = GridSearchCV(model, param_grid, cv=3, scoring='r2')\n",
    "gs.fit(Xtrain, ytrain)\n",
    "\n",
    "\n",
    "\n",
    "\n",
    "param_grid = {\n",
    "#     'n_estimators': np.arange(10, 120, 20),\n",
    "#     'max_depth': np.arange(2, 25, 4),\n",
    "#     'max_features': ['sqrt', 'log2', None],\n",
    "    'min_samples_leaf': [1, 2, 3, 4, 5],\n",
    "    'min_samples_split': range(2,17),\n",
    "                     }\n",
    "\n",
    "model = gs.best_estimator_\n",
    "gs = GridSearchCV(model, param_grid, cv=3, scoring='r2')\n",
    "gs.fit(Xtrain, ytrain)\n",
    "\n",
    "\n",
    "\n",
    "\n",
    "print(gs.best_estimator_)\n",
    "print(gs.best_score_)"
   ]
  },
  {
   "cell_type": "markdown",
   "metadata": {
    "id": "TPNNp6cPDsjD"
   },
   "source": [
    "Теперь обучите на тренировочных данных случайный лес с найденными гиперпараметрами. Сделайте предсказание на тестовых данных и оцените его качество ($R^2$)."
   ]
  },
  {
   "cell_type": "code",
   "execution_count": null,
   "metadata": {},
   "outputs": [],
   "source": []
  },
  {
   "cell_type": "code",
   "execution_count": 18,
   "metadata": {},
   "outputs": [],
   "source": [
    "Xtest = test.drop(test.columns[2], axis=1)\n",
    "ytest = test[test.columns[2]]"
   ]
  },
  {
   "cell_type": "code",
   "execution_count": 19,
   "metadata": {},
   "outputs": [],
   "source": [
    "model = gs.best_estimator_"
   ]
  },
  {
   "cell_type": "code",
   "execution_count": 20,
   "metadata": {
    "id": "MPdZ9qCxDrkF"
   },
   "outputs": [],
   "source": [
    "# Ваш код здесь\n",
    "model.fit(X, y)\n",
    "preds = model.predict(Xtest)"
   ]
  },
  {
   "cell_type": "code",
   "execution_count": 21,
   "metadata": {},
   "outputs": [
    {
     "name": "stdout",
     "output_type": "stream",
     "text": [
      "r2 score is  0.9614820411298017\n"
     ]
    }
   ],
   "source": [
    "print('r2 score is ', end=' ')\n",
    "print(r2_score(ytest, preds))"
   ]
  },
  {
   "cell_type": "markdown",
   "metadata": {
    "id": "dpWSQeD4ENby"
   },
   "source": [
    "Модель готова. Осталось её проинтерпретировать.\n",
    "\n",
    "При помощи метода model.feature_importances_ визуализируйте гистограмму важности признаков у случайного леса с настроенными гиперпараметрами."
   ]
  },
  {
   "cell_type": "code",
   "execution_count": 22,
   "metadata": {
    "id": "7uZzKbUnD54w"
   },
   "outputs": [
    {
     "data": {
      "text/plain": [
       "Text(0, 0.5, 'columns')"
      ]
     },
     "execution_count": 22,
     "metadata": {},
     "output_type": "execute_result"
    },
    {
     "data": {
      "image/png": "[encoded data removed]",
      "text/plain": [
       "<Figure size 640x480 with 1 Axes>"
      ]
     },
     "metadata": {},
     "output_type": "display_data"
    }
   ],
   "source": [
    "# Ваш код здесь\n",
    "plt.barh(Xtest.columns, model.feature_importances_)\n",
    "plt.xlabel('importance')\n",
    "plt.ylabel('columns')\n"
   ]
  }
 ],
 "metadata": {
  "colab": {
   "provenance": []
  },
  "kernelspec": {
   "display_name": "Python 3 (ipykernel)",
   "language": "python",
   "name": "python3"
  },
  "language_info": {
   "codemirror_mode": {
    "name": "ipython",
    "version": 3
   },
   "file_extension": ".py",
   "mimetype": "text/x-python",
   "name": "python",
   "nbconvert_exporter": "python",
   "pygments_lexer": "ipython3",
   "version": "3.11.5"
  }
 },
 "nbformat": 4,
 "nbformat_minor": 1
}
