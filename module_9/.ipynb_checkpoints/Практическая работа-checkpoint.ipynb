{
 "cells": [
  {
   "cell_type": "markdown",
   "metadata": {
    "id": "CIu2DPx5tWcg"
   },
   "source": [
    "## Практическая работа"
   ]
  },
  {
   "cell_type": "markdown",
   "metadata": {
    "id": "MEdLy24do28f"
   },
   "source": [
    "## Цели практической работы\n",
    "\n",
    "*  решить реальную задачу;\n",
    "*  потренироваться в обработке данных;\n",
    "*  обучить различные модели классификации, подобрать гиперпараметры и выбрать лучшую модель;\n",
    "*  добиться наилучшего качества в задаче."
   ]
  },
  {
   "cell_type": "markdown",
   "metadata": {
    "id": "d6oxDXgFpD_6"
   },
   "source": [
    "## Что входит в практическую работу\n",
    "\n",
    "*  исследование датасета и обработка данных (работа с пропущенными и ошибочными значениями);\n",
    "*  обучение различных моделей классификации с параметрами по умолчанию;\n",
    "*  подбор гиперпараметров моделей;\n",
    "*  смешивание моделей;\n",
    "*  оценка качества моделей."
   ]
  },
  {
   "cell_type": "markdown",
   "metadata": {
    "id": "WOZ8SueHpZGd"
   },
   "source": [
    "## Что оценивается\n",
    "\n",
    "*  Выполнены все этапы задания: код запускается, отрабатывает без ошибок; подробно и обоснованно написаны текстовые выводы, где это требуется."
   ]
  },
  {
   "cell_type": "markdown",
   "metadata": {
    "id": "UMr-wvh3pbrK"
   },
   "source": [
    "## Формат сдачи\n",
    "Выполните предложенные задания: впишите свой код (или, если требуется, текст) в ячейки после комментариев. \n",
    "\n",
    "*Комментарии — это текст, который начинается с символа #. Например: # ваш код здесь.*\n",
    "\n",
    "Сохраните изменения, используя опцию Save and Checkpoint из вкладки меню File или кнопку Save and Checkpoint на панели инструментов. Итоговый файл в формате .ipynb (файл Jupyter Notebook) загрузите в личный кабинет и отправьте на проверку."
   ]
  },
  {
   "cell_type": "markdown",
   "metadata": {
    "id": "ENiWYl_EtWcm"
   },
   "source": [
    "### 1. Загрузите тренировочные и тестовые датасеты"
   ]
  },
  {
   "cell_type": "code",
   "execution_count": 1,
   "metadata": {
    "id": "_uf-KNwQtWcn"
   },
   "outputs": [
    {
     "name": "stderr",
     "output_type": "stream",
     "text": [
      "Matplotlib is building the font cache; this may take a moment.\n"
     ]
    }
   ],
   "source": [
    "import numpy as np\n",
    "import pandas as pd\n",
    "#from category_encoders import TargetEncoder\n",
    "from sklearn.preprocessing import StandardScaler\n",
    "from sklearn.linear_model import LogisticRegression\n",
    "from sklearn.svm import SVC\n",
    "from sklearn.neighbors import KNeighborsClassifier\n",
    "from matplotlib import pyplot as plt\n",
    "\n",
    "x_train = pd.read_csv(\"TrainData.csv\")\n",
    "x_test = pd.read_csv(\"TestData.csv\")"
   ]
  },
  {
   "cell_type": "code",
   "execution_count": 2,
   "metadata": {},
   "outputs": [
    {
     "name": "stdout",
     "output_type": "stream",
     "text": [
      "0.30684788290642967\n",
      "0.31394533987386125\n"
     ]
    }
   ],
   "source": [
    "print(x_test.target.value_counts()[1] / x_test.target.value_counts()[0])\n",
    "print(x_train.target.value_counts()[1] / x_train.target.value_counts()[0])"
   ]
  },
  {
   "cell_type": "markdown",
   "metadata": {
    "id": "CaELM2gPtWcq"
   },
   "source": [
    "### 2. Изучите тренировочные и тестовые данные на наличие:\n",
    "- пропусков,\n",
    "- ошибочных значений.\n",
    "\n",
    "Обработайте пропуски и ошибочные значения способом, выбранным по своему усмотрению."
   ]
  },
  {
   "cell_type": "code",
   "execution_count": 18,
   "metadata": {
    "id": "sqevAjp-tWcr"
   },
   "outputs": [
    {
     "name": "stdout",
     "output_type": "stream",
     "text": [
      "0  -  f1\n",
      "0  -  f2\n",
      "0  -  f3\n",
      "0  -  f4\n",
      "0  -  f5\n",
      "0  -  f6\n",
      "1875  -  f7\n",
      "0  -  f8\n",
      "0  -  f9\n",
      "0  -  f10\n",
      "10  -  f11\n",
      "0  -  f12\n",
      "0  -  f13\n",
      "0  -  f14\n",
      "0  -  target\n"
     ]
    }
   ],
   "source": [
    "# Ваш код здесь\n",
    "for feature in x_train.columns:\n",
    "    print(len(x_train[x_train[feature].isna() == True]),' - ', feature)"
   ]
  },
  {
   "cell_type": "code",
   "execution_count": 4,
   "metadata": {},
   "outputs": [],
   "source": [
    "# выбросы в зарплатах\n",
    "\n",
    "def outliers(df3, feature_str):\n",
    "    #print('resolution_func start')\n",
    "    #outliers\n",
    "    bounds = []\n",
    "    q25 = df3[feature_str].quantile(0.25)\n",
    "    q75 = df3[feature_str].quantile(0.75)\n",
    "    iqr = q75 - q25\n",
    "    bounds = (round(q25 - 1.5 * iqr, 2), round(q75 + 1.5 * iqr, 2))\n",
    "#     print(bounds)\n",
    "    df3[feature_str] = df3[feature_str].apply(lambda x:bounds[0] if x < bounds[0] else ( bounds[1] if x > bounds[1] else x))\n",
    "\n",
    "\n",
    "\n",
    "    return df3"
   ]
  },
  {
   "cell_type": "code",
   "execution_count": 5,
   "metadata": {},
   "outputs": [],
   "source": [
    "def empties(df3, feature_str):\n",
    "    \n",
    "    mean = x_train[feature_str].mean()\n",
    "    x_train.loc[x_train[feature_str].isna() == True, feature_str] = mean\n",
    "    \n",
    "    return df3"
   ]
  },
  {
   "cell_type": "code",
   "execution_count": 6,
   "metadata": {},
   "outputs": [],
   "source": [
    "def how_many_empties(df3, feature_str):\n",
    "    \n",
    "    print(len(x_train[df3[feature_str].isna() == True]))\n",
    "    \n",
    "    pass\n",
    "\n",
    "    "
   ]
  },
  {
   "cell_type": "code",
   "execution_count": 7,
   "metadata": {},
   "outputs": [],
   "source": [
    "x_train = outliers(x_train, 'f2')\n",
    "x_train = empties(x_train, 'f2')"
   ]
  },
  {
   "cell_type": "code",
   "execution_count": null,
   "metadata": {},
   "outputs": [],
   "source": []
  },
  {
   "cell_type": "code",
   "execution_count": 8,
   "metadata": {},
   "outputs": [
    {
     "data": {
      "text/plain": [
       "count    5625.000000\n",
       "mean        0.240556\n",
       "std         0.147371\n",
       "min         0.000000\n",
       "25%         0.115721\n",
       "50%         0.241573\n",
       "75%         0.439103\n",
       "max         0.482222\n",
       "Name: f7, dtype: float64"
      ]
     },
     "execution_count": 8,
     "metadata": {},
     "output_type": "execute_result"
    }
   ],
   "source": [
    "x_train.f7.describe()"
   ]
  },
  {
   "cell_type": "code",
   "execution_count": 9,
   "metadata": {},
   "outputs": [
    {
     "data": {
      "text/plain": [
       "5625"
      ]
     },
     "execution_count": 9,
     "metadata": {},
     "output_type": "execute_result"
    }
   ],
   "source": [
    "len(x_train[x_train.f7.isna() == False])"
   ]
  },
  {
   "cell_type": "code",
   "execution_count": 10,
   "metadata": {},
   "outputs": [
    {
     "data": {
      "text/plain": [
       "0       0.274531\n",
       "1       0.439103\n",
       "2       0.274531\n",
       "3       0.044987\n",
       "4       0.115721\n",
       "          ...   \n",
       "7495         NaN\n",
       "7496    0.131370\n",
       "7497    0.482222\n",
       "7498    0.093897\n",
       "7499    0.131370\n",
       "Name: f7, Length: 7500, dtype: float64"
      ]
     },
     "execution_count": 10,
     "metadata": {},
     "output_type": "execute_result"
    }
   ],
   "source": [
    "x_train.f7"
   ]
  },
  {
   "cell_type": "code",
   "execution_count": 11,
   "metadata": {},
   "outputs": [
    {
     "data": {
      "text/plain": [
       "<matplotlib.collections.PathCollection at 0x18b532d0750>"
      ]
     },
     "execution_count": 11,
     "metadata": {},
     "output_type": "execute_result"
    },
    {
     "data": {
      "image/png": "[encoded data removed]",
      "text/plain": [
       "<Figure size 640x480 with 1 Axes>"
      ]
     },
     "metadata": {},
     "output_type": "display_data"
    }
   ],
   "source": [
    "plt.scatter( np.arange(0, 1, 1 / 7500), x_train.f7)"
   ]
  },
  {
   "cell_type": "markdown",
   "metadata": {},
   "source": [
    "# пора кончать, так что вот тебе план что делать дальше - \n",
    "1) мысль - аутлаеры - хуй пойми, что с ними делать, надо сообразить боксплот и в зависимости от того, насколько их дохуя - либо сгладить либо хуй с ними\n",
    "\n",
    "2) мысль - пропусков чеот дохуя - можно средним заменить, но хотелось бы выебнуться - идея: сделать \"срез\" с существующей выборки, сампл, и наложить на отсутствующий кусок. - сразу вопрос - корректно ли так делать - можно нарушить существующие закономерности сильнее, чем если просто ебануть среднее\n",
    "\n",
    "# все короче, пора передохнуть, удачи, будущий я:)\n"
   ]
  },
  {
   "cell_type": "markdown",
   "metadata": {
    "id": "oQkpwQGHtWcr"
   },
   "source": [
    "### 3. Оцените баланс классов в задаче\n",
    "- Затем попытайтесь устно ответить на вопрос, можно ли использовать accuracy как метрику качества в задаче? "
   ]
  },
  {
   "cell_type": "code",
   "execution_count": 12,
   "metadata": {
    "id": "csjvNCCutWcs"
   },
   "outputs": [],
   "source": [
    "# Ваш код здесь"
   ]
  },
  {
   "cell_type": "markdown",
   "metadata": {
    "id": "xB_ReQ62tWct"
   },
   "source": [
    "### 3. Постройте baseline-модель:\n",
    "- разбейте TrainData на тренировочные (Train) и тестовые данные (Test); \n",
    "- обучите KNN, LogisticRegression и SVC с параметрами по умолчанию на тренировочных данных (Train);\n",
    "- примените модели на тестовых данных (Test) и вычислите значение метрики f1."
   ]
  },
  {
   "cell_type": "code",
   "execution_count": 13,
   "metadata": {
    "id": "WUfRVj5ctWcu"
   },
   "outputs": [],
   "source": [
    "from sklearn.metrics import f1_score\n",
    "\n",
    "# Ваш код здесь"
   ]
  },
  {
   "cell_type": "markdown",
   "metadata": {
    "id": "KYQnr8CftWcv"
   },
   "source": [
    "### 4. Улучшите модели\n",
    "Попробуйте улучшить качество обученных моделей:\n",
    "- можете подбирать гиперпараметры моделей (лучше это делать по кросс-валидации на Train, то есть с помощью использования GridSearchCV на Train);\n",
    "- можете задавать class_weights;\n",
    "- можете вручную или при помощи методов Python генерировать новые признаки и/или удалять существующие.\n",
    "\n",
    "Это самая важная и творческая часть задания. Проводите как можно больше экспериментов!\n",
    "\n",
    "Проведите минимиум три эксперимента: для каждого типа модели минимум один эксперимент."
   ]
  },
  {
   "cell_type": "code",
   "execution_count": 14,
   "metadata": {
    "id": "ZJrKNIw8tWcw"
   },
   "outputs": [],
   "source": [
    "# Ваш код здесь"
   ]
  },
  {
   "cell_type": "markdown",
   "metadata": {
    "id": "yfu3yy_7tWcy"
   },
   "source": [
    "### 5. Оцените на отложенной выборке качество наилучшей модели\n",
    "В пунктах 3 и 4 вы построили много разных моделей.\n",
    "\n",
    "Возьмите ту, которая дала наилучшее качество на тестовых данных (Test). Примените её на отложенной выборке (TestData) и выведите на экран значение метрики f1."
   ]
  },
  {
   "cell_type": "code",
   "execution_count": 15,
   "metadata": {
    "id": "upHUOfrktWcy"
   },
   "outputs": [],
   "source": [
    "# Ваш код здесь"
   ]
  },
  {
   "cell_type": "markdown",
   "metadata": {
    "id": "YZT0rMuStWcz"
   },
   "source": [
    "### 6. Выполните хитрый трюк\n",
    "Часто смешивание различных моделей даёт улучшение итогового предсказания. Попробуйте смешать две лучшие модели по формуле:\n",
    "$$pred_{final} = \\alpha\\cdot pred_1 + (1-\\alpha)\\cdot pred_2$$.\n",
    "\n",
    "Значение $\\alpha$ подберите в цикле по Test-выборке. Оцените качество на отложенной выборке.\n",
    "\n",
    "Удалось ли добиться улучшения качества?"
   ]
  },
  {
   "cell_type": "code",
   "execution_count": 16,
   "metadata": {
    "id": "3DdSsk6gtWc7"
   },
   "outputs": [],
   "source": [
    "# Ваш код здесь"
   ]
  },
  {
   "cell_type": "markdown",
   "metadata": {
    "id": "9b9imFkLtWc8"
   },
   "source": [
    "### 7. Сделайте выводы\n",
    "\n",
    "Запишите в отдельной ячейке текстом выводы о проделанной работе. Для этого ответьте на вопросы:\n",
    "- Какие подходы вы использовали для улучшения работы baseline-моделей?\n",
    "- Какого максимального качества удалось добиться на Test-данных?\n",
    "- Какое при этом получилось качество на отложенной выборке? \n",
    "- Ваша модель переобучилась, недообучилась или обучилась как надо?"
   ]
  },
  {
   "cell_type": "code",
   "execution_count": 17,
   "metadata": {
    "id": "wWgT4ulytWc-"
   },
   "outputs": [],
   "source": [
    "# Ваш текст здесь"
   ]
  },
  {
   "cell_type": "markdown",
   "metadata": {
    "id": "cnFjm55atWc-"
   },
   "source": [
    "Важный комментарий! В реальных задачах не следует ожидать, что машинным обучением всегда удастся решить задачу с хорошим качеством. Но использовать все имеющиеся у вас в арсенале методы для достижения наилучшего результата нужно."
   ]
  }
 ],
 "metadata": {
  "colab": {
   "collapsed_sections": [],
   "provenance": []
  },
  "kernelspec": {
   "display_name": "Python 3 (ipykernel)",
   "language": "python",
   "name": "python3"
  },
  "language_info": {
   "codemirror_mode": {
    "name": "ipython",
    "version": 3
   },
   "file_extension": ".py",
   "mimetype": "text/x-python",
   "name": "python",
   "nbconvert_exporter": "python",
   "pygments_lexer": "ipython3",
   "version": "3.11.5"
  }
 },
 "nbformat": 4,
 "nbformat_minor": 1
}
