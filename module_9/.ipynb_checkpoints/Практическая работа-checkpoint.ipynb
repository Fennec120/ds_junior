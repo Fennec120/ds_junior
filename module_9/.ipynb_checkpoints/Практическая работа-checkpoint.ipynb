{
 "cells": [
  {
   "cell_type": "markdown",
   "metadata": {
    "id": "CIu2DPx5tWcg"
   },
   "source": [
    "## Практическая работа"
   ]
  },
  {
   "cell_type": "markdown",
   "metadata": {
    "id": "MEdLy24do28f"
   },
   "source": [
    "## Цели практической работы\n",
    "\n",
    "*  решить реальную задачу;\n",
    "*  потренироваться в обработке данных;\n",
    "*  обучить различные модели классификации, подобрать гиперпараметры и выбрать лучшую модель;\n",
    "*  добиться наилучшего качества в задаче."
   ]
  },
  {
   "cell_type": "markdown",
   "metadata": {
    "id": "d6oxDXgFpD_6"
   },
   "source": [
    "## Что входит в практическую работу\n",
    "\n",
    "*  исследование датасета и обработка данных (работа с пропущенными и ошибочными значениями);\n",
    "*  обучение различных моделей классификации с параметрами по умолчанию;\n",
    "*  подбор гиперпараметров моделей;\n",
    "*  смешивание моделей;\n",
    "*  оценка качества моделей."
   ]
  },
  {
   "cell_type": "markdown",
   "metadata": {
    "id": "WOZ8SueHpZGd"
   },
   "source": [
    "## Что оценивается\n",
    "\n",
    "*  Выполнены все этапы задания: код запускается, отрабатывает без ошибок; подробно и обоснованно написаны текстовые выводы, где это требуется."
   ]
  },
  {
   "cell_type": "markdown",
   "metadata": {
    "id": "UMr-wvh3pbrK"
   },
   "source": [
    "## Формат сдачи\n",
    "Выполните предложенные задания: впишите свой код (или, если требуется, текст) в ячейки после комментариев. \n",
    "\n",
    "*Комментарии — это текст, который начинается с символа #. Например: # ваш код здесь.*\n",
    "\n",
    "Сохраните изменения, используя опцию Save and Checkpoint из вкладки меню File или кнопку Save and Checkpoint на панели инструментов. Итоговый файл в формате .ipynb (файл Jupyter Notebook) загрузите в личный кабинет и отправьте на проверку."
   ]
  },
  {
   "cell_type": "markdown",
   "metadata": {
    "id": "ENiWYl_EtWcm"
   },
   "source": [
    "### 1. Загрузите тренировочные и тестовые датасеты"
   ]
  },
  {
   "cell_type": "code",
   "execution_count": 1,
   "metadata": {
    "id": "_uf-KNwQtWcn"
   },
   "outputs": [],
   "source": [
    "import numpy as np\n",
    "import pandas as pd\n",
    "#from category_encoders import TargetEncoder\n",
    "from sklearn.preprocessing import StandardScaler\n",
    "from sklearn.linear_model import LogisticRegression\n",
    "from sklearn.svm import SVC\n",
    "from sklearn.neighbors import KNeighborsClassifier\n",
    "from sklearn.model_selection import train_test_split\n",
    "from matplotlib import pyplot as plt\n",
    "from sklearn.metrics import f1_score\n",
    "from sklearn.metrics import recall_score\n",
    "from sklearn.metrics import precision_score\n",
    "from sklearn.metrics import accuracy_score\n",
    "from sklearn.model_selection import GridSearchCV\n",
    "from sklearn.metrics import confusion_matrix\n",
    "import warnings\n",
    "warnings.filterwarnings('ignore')\n"
   ]
  },
  {
   "cell_type": "code",
   "execution_count": 2,
   "metadata": {},
   "outputs": [],
   "source": [
    "\n",
    "df = pd.read_csv(\"TrainData.csv\")\n",
    "test_data = pd.read_csv(\"TestData.csv\")"
   ]
  },
  {
   "cell_type": "code",
   "execution_count": 3,
   "metadata": {},
   "outputs": [
    {
     "name": "stdout",
     "output_type": "stream",
     "text": [
      "0.31394533987386125\n",
      "0.30684788290642967\n"
     ]
    }
   ],
   "source": [
    "print(df.target.value_counts()[1] / df.target.value_counts()[0])\n",
    "print(test_data.target.value_counts()[1] / test_data.target.value_counts()[0])"
   ]
  },
  {
   "cell_type": "markdown",
   "metadata": {
    "id": "CaELM2gPtWcq"
   },
   "source": [
    "### 2. Изучите тренировочные и тестовые данные на наличие:\n",
    "- пропусков,\n",
    "- ошибочных значений.\n",
    "\n",
    "Обработайте пропуски и ошибочные значения способом, выбранным по своему усмотрению."
   ]
  },
  {
   "cell_type": "code",
   "execution_count": 4,
   "metadata": {
    "id": "sqevAjp-tWcr"
   },
   "outputs": [
    {
     "name": "stdout",
     "output_type": "stream",
     "text": [
      "0  -  f1\n",
      "75  -  f2\n",
      "0  -  f3\n",
      "0  -  f4\n",
      "0  -  f5\n",
      "0  -  f6\n",
      "1875  -  f7\n",
      "0  -  f8\n",
      "0  -  f9\n",
      "0  -  f10\n",
      "10  -  f11\n",
      "0  -  f12\n",
      "0  -  f13\n",
      "0  -  f14\n",
      "0  -  target\n"
     ]
    }
   ],
   "source": [
    "# Ваш код здесь\n",
    "for feature in df.columns:\n",
    "    print(len(df[df[feature].isna() == True]),' - ', feature)"
   ]
  },
  {
   "cell_type": "code",
   "execution_count": 5,
   "metadata": {},
   "outputs": [],
   "source": [
    "def outliers(df3, feature_str):\n",
    "    \n",
    "    if '_' in  feature_str:\n",
    "        return df3\n",
    "    \n",
    "    bounds = []\n",
    "#     print(feature_str, '\\n', df3.columns)\n",
    "    q25 = df3[feature_str].quantile(0.25)\n",
    "    q75 = df3[feature_str].quantile(0.75)\n",
    "    iqr = q75 - q25\n",
    "    bounds = (round(q25 - 1.5 * iqr, 2), round(q75 + 1.5 * iqr, 2))\n",
    "\n",
    "#     print(q75)\n",
    "#     print(q25)\n",
    "#     print(iqr)\n",
    "#     print(bounds)\n",
    "#     print('_______')\n",
    "    df3[feature_str] = df3[feature_str].apply(lambda x:bounds[0] if x < bounds[0] else ( bounds[1] if x > bounds[1] else x))\n",
    "\n",
    "\n",
    "\n",
    "    return df3"
   ]
  },
  {
   "cell_type": "code",
   "execution_count": 6,
   "metadata": {},
   "outputs": [],
   "source": [
    "def empties_remover(x_train, feature_str):\n",
    "    \n",
    "    \n",
    "    mean = x_train[feature_str].mean()\n",
    "    x_train.loc[x_train[feature_str].isna() == True, feature_str] = mean\n",
    "    \n",
    "    return x_train"
   ]
  },
  {
   "cell_type": "code",
   "execution_count": 7,
   "metadata": {},
   "outputs": [],
   "source": [
    "def how_many_empties(df3, feature_str):\n",
    "    \n",
    "    print(len(df3[df3[feature_str].isna() == True]))\n",
    "    \n",
    "    pass\n",
    "\n",
    "    "
   ]
  },
  {
   "cell_type": "code",
   "execution_count": 8,
   "metadata": {},
   "outputs": [],
   "source": [
    "#скалируем\n",
    "def scaler(df2):\n",
    "    cols_to_scale = []\n",
    "\n",
    "\n",
    "    cols_obj = []\n",
    "    for col in df2.columns:\n",
    "        if col == 'target':\n",
    "            continue\n",
    "        if '_' in col:\n",
    "            continue\n",
    "        if df2[col].dtype != 'object':\n",
    "            cols_to_scale.append(col)\n",
    "    col_names = cols_to_scale.copy()\n",
    "\n",
    "    for i in range(len(col_names)):\n",
    "        col_names[i] = col_names[i] + '_scaled'\n",
    "\n",
    "    scaler2 = StandardScaler()\n",
    "    df_scaled = scaler2.fit_transform(df2[cols_to_scale])\n",
    "    df2[col_names] = pd.DataFrame.from_records(df_scaled, columns=col_names)\n",
    "    df2 = df2.drop(cols_to_scale, axis=1)\n",
    "    return df2"
   ]
  },
  {
   "cell_type": "code",
   "execution_count": 9,
   "metadata": {},
   "outputs": [],
   "source": [
    "cols_obj_probably = ['f2', 'f5', 'f6', 'f8', 'f9', 'f10']"
   ]
  },
  {
   "cell_type": "code",
   "execution_count": 10,
   "metadata": {},
   "outputs": [],
   "source": [
    "df = pd.read_csv(\"TrainData.csv\")\n",
    "\n",
    "df = empties_remover(df, 'f2')\n",
    "df = empties_remover(df, 'f7')\n",
    "df = empties_remover(df, 'f11')\n",
    "\n",
    "for feat in cols_obj_probably:\n",
    "    df[feat] = df[feat].apply(lambda xx: str(xx))\n",
    "df_mid = pd.get_dummies(df[cols_obj_probably], dtype=int) #2, 6, 8, 9, 10\n",
    "df2 = pd.merge(df, df_mid, left_index=True, right_index=True)\n",
    "df = df2.drop(cols_obj_probably, axis=1)\n",
    "\n",
    "for feature in df.columns:\n",
    "    if df[feature].quantile(0.25) == df[feature].quantile(0.75):\n",
    "        continue\n",
    "    df = outliers(df, feature)\n",
    "\n",
    "df = scaler(df)\n"
   ]
  },
  {
   "cell_type": "code",
   "execution_count": 11,
   "metadata": {},
   "outputs": [],
   "source": [
    "test_data = pd.read_csv(\"TestData.csv\")\n",
    "\n",
    "test_data = empties_remover(test_data, 'f2')\n",
    "test_data = empties_remover(test_data, 'f7')\n",
    "test_data = empties_remover(test_data, 'f11')\n",
    "\n",
    "\n",
    "for feat in cols_obj_probably:\n",
    "    test_data[feat] = test_data[feat].apply(lambda xx: str(xx))\n",
    "test_data_mid = pd.get_dummies(test_data[cols_obj_probably], dtype=int) #2, 6, 8, 9, 10\n",
    "test_data2 = pd.merge(test_data, test_data_mid, left_index=True, right_index=True)\n",
    "test_data = test_data2.drop(cols_obj_probably, axis=1)\n",
    "\n",
    "for feature in test_data.columns:\n",
    "    if test_data[feature].quantile(0.25) == test_data[feature].quantile(0.75):\n",
    "        continue\n",
    "    test_data = outliers(test_data, feature)\n",
    "\n",
    "test_data = scaler(test_data)"
   ]
  },
  {
   "cell_type": "code",
   "execution_count": 12,
   "metadata": {},
   "outputs": [],
   "source": [
    "cols_max = list(df.columns)\n",
    "for feature in test_data.columns:\n",
    "    if feature in cols_max:\n",
    "        continue\n",
    "    else:\n",
    "        cols_max.append(str(feature))\n"
   ]
  },
  {
   "cell_type": "markdown",
   "metadata": {},
   "source": [
    "for feature in df.columns:\n",
    "    print(  \n",
    "        feature, \n",
    "        ' ',\n",
    "        len(df[feature].value_counts()     ),\n",
    "        '-------------',\n",
    "        feature, \n",
    "        ' ',\n",
    "        len(test_data[feature].value_counts()     ),\n",
    "    )"
   ]
  },
  {
   "cell_type": "code",
   "execution_count": 27,
   "metadata": {},
   "outputs": [],
   "source": [
    "\n",
    "df2 = pd.read_csv(\"TrainData.csv\")"
   ]
  },
  {
   "cell_type": "code",
   "execution_count": 28,
   "metadata": {},
   "outputs": [
    {
     "data": {
      "image/png": "[encoded data removed]",
      "text/plain": [
       "<Figure size 200x200 with 1 Axes>"
      ]
     },
     "metadata": {},
     "output_type": "display_data"
    },
    {
     "data": {
      "image/png": "[encoded data removed]",
      "text/plain": [
       "<Figure size 200x200 with 1 Axes>"
      ]
     },
     "metadata": {},
     "output_type": "display_data"
    },
    {
     "data": {
      "image/png": "[encoded data removed]",
      "text/plain": [
       "<Figure size 200x200 with 1 Axes>"
      ]
     },
     "metadata": {},
     "output_type": "display_data"
    },
    {
     "data": {
      "image/png": "[encoded data removed]",
      "text/plain": [
       "<Figure size 200x200 with 1 Axes>"
      ]
     },
     "metadata": {},
     "output_type": "display_data"
    },
    {
     "data": {
      "image/png": "[encoded data removed]",
      "text/plain": [
       "<Figure size 200x200 with 1 Axes>"
      ]
     },
     "metadata": {},
     "output_type": "display_data"
    },
    {
     "data": {
      "image/png": "[encoded data removed]",
      "text/plain": [
       "<Figure size 200x200 with 1 Axes>"
      ]
     },
     "metadata": {},
     "output_type": "display_data"
    },
    {
     "data": {
      "image/png": "[encoded data removed]",
      "text/plain": [
       "<Figure size 200x200 with 1 Axes>"
      ]
     },
     "metadata": {},
     "output_type": "display_data"
    },
    {
     "data": {
      "image/png": "[encoded data removed]",
      "text/plain": [
       "<Figure size 200x200 with 1 Axes>"
      ]
     },
     "metadata": {},
     "output_type": "display_data"
    },
    {
     "data": {
      "image/png": "[encoded data removed]",
      "text/plain": [
       "<Figure size 200x200 with 1 Axes>"
      ]
     },
     "metadata": {},
     "output_type": "display_data"
    },
    {
     "data": {
      "image/png": "[encoded data removed]",
      "text/plain": [
       "<Figure size 200x200 with 1 Axes>"
      ]
     },
     "metadata": {},
     "output_type": "display_data"
    },
    {
     "data": {
      "image/png": "[encoded data removed]",
      "text/plain": [
       "<Figure size 200x200 with 1 Axes>"
      ]
     },
     "metadata": {},
     "output_type": "display_data"
    },
    {
     "data": {
      "image/png": "[encoded data removed]",
      "text/plain": [
       "<Figure size 200x200 with 1 Axes>"
      ]
     },
     "metadata": {},
     "output_type": "display_data"
    },
    {
     "data": {
      "image/png": "[encoded data removed]",
      "text/plain": [
       "<Figure size 200x200 with 1 Axes>"
      ]
     },
     "metadata": {},
     "output_type": "display_data"
    },
    {
     "data": {
      "image/png": "[encoded data removed]",
      "text/plain": [
       "<Figure size 200x200 with 1 Axes>"
      ]
     },
     "metadata": {},
     "output_type": "display_data"
    },
    {
     "data": {
      "image/png": "[encoded data removed]",
      "text/plain": [
       "<Figure size 200x200 with 1 Axes>"
      ]
     },
     "metadata": {},
     "output_type": "display_data"
    }
   ],
   "source": [
    "for feature    in df2.columns:\n",
    "    plt.figure(figsize=(2,2))\n",
    "    # plt.plot(np.arange(0, len(x_train)), x_train.f1 )\n",
    "    plt.hist(df2[feature] )\n",
    "#     plt.xticks(x_train[feature].value_counts().keys())\n",
    "    plt.title(feature)\n",
    "    #x_train#.f11.value_counts()"
   ]
  },
  {
   "cell_type": "code",
   "execution_count": 14,
   "metadata": {},
   "outputs": [],
   "source": [
    "for feature    in df.columns:\n",
    "    if df[feature].quantile(0.25) == df[feature].quantile(0.75):\n",
    "        continue\n",
    "    df = outliers(df, feature)"
   ]
  },
  {
   "cell_type": "code",
   "execution_count": 15,
   "metadata": {},
   "outputs": [
    {
     "name": "stdout",
     "output_type": "stream",
     "text": [
      "target   2\n",
      "f2_114.41647597254   2\n",
      "f2_218.5939300806761   2\n",
      "f2_238.90530767637296   2\n",
      "f2_263.69168356997966   2\n",
      "f2_273.6486486486486   2\n",
      "f2_276.7710049423393   2\n",
      "f2_386.4734299516908   2\n",
      "f2_575.3968253968253   2\n",
      "f2_64.2590702793375   2\n",
      "f5_1   2\n",
      "f5_10   2\n",
      "f5_11   2\n",
      "f5_12   2\n",
      "f5_13   2\n",
      "f5_14   2\n",
      "f5_15   2\n",
      "f5_16   2\n",
      "f5_2   2\n",
      "f5_3   2\n",
      "f5_4   2\n",
      "f5_5   2\n",
      "f5_6   2\n",
      "f5_7   2\n",
      "f5_8   2\n",
      "f5_9   2\n",
      "f6_0.0491270807957775   2\n",
      "f6_0.0663716814159292   2\n",
      "f6_0.0663900414937759   2\n",
      "f6_0.0736842105263157   2\n",
      "f6_0.0988372093023255   2\n",
      "f6_0.2007002631078574   2\n",
      "f6_0.4450261780104712   2\n",
      "f8_0.0094991364421416   2\n",
      "f8_0.0230414746543778   2\n",
      "f8_0.0665813060179257   2\n",
      "f8_0.1030240902101486   2\n",
      "f8_0.4443336656696577   2\n",
      "f8_0.484375   2\n",
      "f9_10.29411764705882   2\n",
      "f9_12.46498599439775   2\n",
      "f9_20.62780269058296   2\n",
      "f9_25.606720597386428   2\n",
      "f9_5.97014925373134   2\n",
      "f10_0.1135902636916835   2\n",
      "f10_0.3002979145978153   2\n",
      "f1_scaled   60\n",
      "f3_scaled   6388\n",
      "f4_scaled   10\n",
      "f7_scaled   16\n",
      "f11_scaled   96\n",
      "f12_scaled   69\n",
      "f13_scaled   22\n",
      "f14_scaled   35\n"
     ]
    }
   ],
   "source": [
    "for feature in df.columns:\n",
    "    print(  feature, ' ',len(df[feature].value_counts()     ))"
   ]
  },
  {
   "cell_type": "markdown",
   "metadata": {
    "id": "oQkpwQGHtWcr"
   },
   "source": [
    "### 3. Оцените баланс классов в задаче\n",
    "- Затем попытайтесь устно ответить на вопрос, можно ли использовать accuracy как метрику качества в задаче? "
   ]
  },
  {
   "cell_type": "code",
   "execution_count": 16,
   "metadata": {
    "id": "csjvNCCutWcs"
   },
   "outputs": [],
   "source": [
    "# Ваш код здесь\n",
    "# я бы сказал, что accuracy может быть актуальной метрикой по двум причинам:\n",
    "# 1) перевес в сторону ноликов есть, но это не катастрофический - 0,7 к 0,3 - все еще это предположение - \n",
    "# размер набора данных позволяет немного поиграть с наполнением выборки, или с весами в самой модели\n",
    "# 2) по сути нам не известно про датасет ничего - т.е. как я это вижу - у нас нет \n",
    "# оснований отдавать предпочтение одной из альтернативных метрик"
   ]
  },
  {
   "cell_type": "markdown",
   "metadata": {
    "id": "xB_ReQ62tWct"
   },
   "source": [
    "### 3. Постройте baseline-модель:\n",
    "- разбейте TrainData на тренировочные (Train) и тестовые данные (Test); \n",
    "- обучите KNN, LogisticRegression и SVC с параметрами по умолчанию на тренировочных данных (Train);\n",
    "- примените модели на тестовых данных (Test) и вычислите значение метрики f1."
   ]
  },
  {
   "cell_type": "code",
   "execution_count": 17,
   "metadata": {
    "id": "WUfRVj5ctWcu"
   },
   "outputs": [
    {
     "name": "stdout",
     "output_type": "stream",
     "text": [
      "KNeighborsClassifier()-f1-score  -  0.6190935390549662\n",
      "KNeighborsClassifier()-acc-score  -  0.8244444444444444\n",
      "SVC()-f1-score  -  0.6373165618448637\n",
      "SVC()-acc-score  -  0.8462222222222222\n",
      "LogisticRegression()-f1-score  -  0.6274111675126904\n",
      "LogisticRegression()-acc-score  -  0.8368888888888889\n"
     ]
    }
   ],
   "source": [
    "test_data = pd.read_csv(\"TestData.csv\")\n",
    "df = pd.read_csv(\"TrainData.csv\")\n",
    "\n",
    "df = empties_remover(df, 'f2')\n",
    "df = empties_remover(df, 'f7')\n",
    "df = empties_remover(df, 'f11')\n",
    "df = scaler(df)\n",
    "test_data = empties_remover(test_data, 'f2')\n",
    "test_data = empties_remover(test_data, 'f7')\n",
    "test_data = empties_remover(test_data, 'f11')\n",
    "test_data = scaler(test_data)\n",
    "\n",
    "\n",
    "x = df.drop('target', axis=1)\n",
    "y = df['target']\n",
    "\n",
    "x_train, x_test, y_train, y_test = train_test_split(x, y, train_size=0.7, random_state=42)\n",
    "\n",
    "knn = KNeighborsClassifier()\n",
    "svc = SVC()\n",
    "logr = LogisticRegression()\n",
    "\n",
    "models = [\n",
    "    knn,\n",
    "    svc,\n",
    "    logr,\n",
    "]\n",
    "\n",
    "scores = dict()\n",
    "\n",
    "for model in models:\n",
    "    model.fit(x_train, y_train)\n",
    "    preds =  model.predict(x_test)\n",
    "    scores[f'{model}-f1-score'] =          f1_score( y_test, preds )\n",
    "    scores[f'{model}-acc-score'] =    accuracy_score( y_test, preds )\n",
    "\n",
    "for key in scores.keys():\n",
    "    print (  key, ' - ',   scores[key])\n",
    "\n",
    "# Ваш код здесь"
   ]
  },
  {
   "cell_type": "markdown",
   "metadata": {},
   "source": [
    "## небольшое отступление\n",
    "кажется, дальше мы не будем пробовать манипулировать составом выборки - по этому, \"пока не далеко ушли\" - попробуем это сделать"
   ]
  },
  {
   "cell_type": "code",
   "execution_count": 18,
   "metadata": {},
   "outputs": [],
   "source": [
    "def sample_df3(df3, total_rows =  200000, neg_percent = 50, pos_percent = 50):\n",
    "    print( 'sample_df3 start')\n",
    "    df3_pos = df3[df3['target'] == 1].sample(int(total_rows / 100 * pos_percent))\n",
    "    df3_neg = df3[df3['target'] == 0].sample(int(total_rows / 100 * neg_percent))\n",
    "    df3_pos = df3_pos.reset_index()\n",
    "    df3_neg = df3_neg.reset_index()\n",
    "    df3_pos = df3_pos.drop('index', axis=1)\n",
    "    df3_neg = df3_neg.drop('index', axis=1)\n",
    "    df3 = pd.concat([df3_pos, df3_neg])\n",
    "    \n",
    "    print( 'sample_df3 end')\n",
    "    print('-')      \n",
    "    #print('-')      \n",
    "    #print('-') \n",
    "    \n",
    "    return df3"
   ]
  },
  {
   "cell_type": "code",
   "execution_count": 19,
   "metadata": {},
   "outputs": [
    {
     "data": {
      "text/plain": [
       "1792"
      ]
     },
     "execution_count": 19,
     "metadata": {},
     "output_type": "execute_result"
    }
   ],
   "source": [
    "df.target.value_counts()[1]"
   ]
  },
  {
   "cell_type": "code",
   "execution_count": 20,
   "metadata": {},
   "outputs": [
    {
     "data": {
      "text/plain": [
       "1792"
      ]
     },
     "execution_count": 20,
     "metadata": {},
     "output_type": "execute_result"
    }
   ],
   "source": [
    "df.target.value_counts()[1]"
   ]
  },
  {
   "cell_type": "code",
   "execution_count": 21,
   "metadata": {},
   "outputs": [
    {
     "name": "stdout",
     "output_type": "stream",
     "text": [
      "sample_df3 start\n",
      "sample_df3 end\n",
      "-\n"
     ]
    }
   ],
   "source": [
    "df_tst = sample_df3(df, df.target.value_counts()[1] / 7 * 10, 30, 70)"
   ]
  },
  {
   "cell_type": "code",
   "execution_count": 22,
   "metadata": {},
   "outputs": [
    {
     "name": "stdout",
     "output_type": "stream",
     "text": [
      "KNeighborsClassifier()-f1-score  -  0.8984238178633975\n",
      "KNeighborsClassifier()-acc-score  -  0.8489583333333334\n",
      "SVC()-f1-score  -  0.9037294015611449\n",
      "SVC()-acc-score  -  0.85546875\n",
      "LogisticRegression()-f1-score  -  0.9097283085013147\n",
      "LogisticRegression()-acc-score  -  0.8658854166666666\n"
     ]
    }
   ],
   "source": [
    "\n",
    "\n",
    "x = df_tst.drop('target', axis=1)\n",
    "y = df_tst['target']\n",
    "\n",
    "x_train, x_test, y_train, y_test = train_test_split(x, y, train_size=0.7, random_state=42)\n",
    "\n",
    "knn = KNeighborsClassifier()\n",
    "svc = SVC()\n",
    "logr = LogisticRegression()\n",
    "\n",
    "models = [\n",
    "    knn,\n",
    "    svc,\n",
    "    logr,\n",
    "]\n",
    "\n",
    "scores = dict()\n",
    "\n",
    "for model in models:\n",
    "    model.fit(x_train, y_train)\n",
    "    preds =  model.predict(x_test)\n",
    "    scores[f'{model}-f1-score'] =          f1_score( y_test, preds )\n",
    "    scores[f'{model}-acc-score'] =    accuracy_score( y_test, preds )\n",
    "\n",
    "for key in scores.keys():\n",
    "    print (  key, ' - ',   scores[key])\n",
    "\n",
    "# Ваш код здесь"
   ]
  },
  {
   "cell_type": "code",
   "execution_count": 23,
   "metadata": {},
   "outputs": [
    {
     "name": "stdout",
     "output_type": "stream",
     "text": [
      "KNeighborsClassifier()-f1-score  -  0.8984238178633975\n",
      "KNeighborsClassifier()-acc-score  -  0.8489583333333334\n",
      "SVC()-f1-score  -  0.9037294015611449\n",
      "SVC()-acc-score  -  0.85546875\n",
      "LogisticRegression()-f1-score  -  0.9097283085013147\n",
      "LogisticRegression()-acc-score  -  0.8658854166666666\n",
      "KNeighborsClassifier()-f1-score_test_data  -  0.5111512959614225\n",
      "KNeighborsClassifier()-acc-score_test_data  -  0.6756\n",
      "SVC()-f1-score_test_data  -  0.5510086455331412\n",
      "SVC()-acc-score_test_data  -  0.6884\n",
      "LogisticRegression()-f1-score_test_data  -  0.5762273901808785\n",
      "LogisticRegression()-acc-score_test_data  -  0.7376\n"
     ]
    }
   ],
   "source": [
    "test_data = pd.read_csv(\"TestData.csv\")\n",
    "\n",
    "test_data = empties_remover(test_data, 'f2')\n",
    "test_data = empties_remover(test_data, 'f7')\n",
    "test_data = empties_remover(test_data, 'f11')\n",
    "test_data = scaler(test_data)\n",
    "\n",
    "\n",
    "x_test = test_data.drop('target', axis=1)\n",
    "y_test = test_data['target']\n",
    "\n",
    "for model in models:\n",
    "    \n",
    "    preds =  model.predict(x_test)\n",
    "    scores[f'{model}-f1-score_test_data'] =          f1_score( y_test, preds )\n",
    "    scores[f'{model}-acc-score_test_data'] =    accuracy_score( y_test, preds )\n",
    "\n",
    "for key in scores.keys():\n",
    "    print (  key, ' - ',   scores[key])\n",
    "\n",
    "# Ваш код здесь"
   ]
  },
  {
   "cell_type": "code",
   "execution_count": 24,
   "metadata": {},
   "outputs": [],
   "source": [
    "# по мере увеличения процента \"единичек\" в обучающей выборке accuracy понемногу падает сначала до уровня рандомного классификатора, \n",
    "# но потом чуть повышается, хотя ф1 показывает стабильный рост.\n",
    "# правда на отложенной выборке преимущество подхода как будто бы развеивается\n",
    "# но хватит баловаться, едем дальше:)"
   ]
  },
  {
   "cell_type": "markdown",
   "metadata": {
    "id": "KYQnr8CftWcv"
   },
   "source": [
    "### 4. Улучшите модели\n",
    "Попробуйте улучшить качество обученных моделей:\n",
    "- можете подбирать гиперпараметры моделей (лучше это делать по кросс-валидации на Train, то есть с помощью использования GridSearchCV на Train);\n",
    "- можете задавать class_weights;\n",
    "- можете вручную или при помощи методов Python генерировать новые признаки и/или удалять существующие.\n",
    "\n",
    "Это самая важная и творческая часть задания. Проводите как можно больше экспериментов!\n",
    "\n",
    "Проведите минимиум три эксперимента: для каждого типа модели минимум один эксперимент."
   ]
  },
  {
   "cell_type": "code",
   "execution_count": 70,
   "metadata": {},
   "outputs": [
    {
     "name": "stdout",
     "output_type": "stream",
     "text": [
      "<class 'sklearn.neighbors._classification.KNeighborsClassifier'>\n",
      "Best Parameters: {'algorithm': 'auto', 'n_neighbors': 3, 'weights': 'distance'}\n",
      "Best Score: 0.3665481539274131\n",
      "__________\n",
      "<class 'sklearn.svm._classes.SVC'>\n",
      "Best Parameters: {'C': 10, 'gamma': 0.001, 'kernel': 'rbf'}\n",
      "Best Score: 0.1002904073194172\n",
      "__________\n",
      "<class 'sklearn.linear_model._logistic.LogisticRegression'>\n",
      "Best Parameters: {'C': 2.701, 'penalty': 'l1', 'solver': 'liblinear'}\n",
      "Best Score: 0.637029773794033\n",
      "__________\n"
     ]
    }
   ],
   "source": [
    "df = pd.read_csv(\"TrainData.csv\")\n",
    "\n",
    "# cols_max был объявлен выше по ноутбуку и содержит все возможные имена колонок с учетом кодирования обоих сетов\n",
    "\n",
    "#necessary\n",
    "\n",
    "df = empties_remover(df, 'f2')\n",
    "df = empties_remover(df, 'f7')\n",
    "df = empties_remover(df, 'f11')\n",
    "\n",
    "\n",
    "# # encoding\n",
    "\n",
    "# cols_obj = ['f2', 'f6', 'f8', 'f9', 'f10']\n",
    "# for feat in cols_obj:\n",
    "#     df[feat] = df[feat].apply(lambda xx: str(xx))\n",
    "# df_mid = pd.get_dummies(df[cols_obj], dtype=int) #2, 6, 8, 9, 10\n",
    "# df2 = pd.merge(df, df_mid, left_index=True, right_index=True)\n",
    "# df = df2.drop(cols_obj, axis=1)\n",
    "\n",
    "# outliers    \n",
    "for feature in df.columns:\n",
    "    if df[feature].quantile(0.25) == df[feature].quantile(0.75):\n",
    "        continue\n",
    "#     print(feature, '\\n', df.columns)\n",
    "    df = outliers(df, feature)\n",
    "    \n",
    "# # scaling\n",
    "# df = scaler(df)\n",
    "\n",
    "# # dummies\n",
    "# for feature in cols_max:\n",
    "#     if feature in df.columns:\n",
    "#         continue\n",
    "#     else:\n",
    "#         df[feature] = 0\n",
    "# df = df.reindex(columns=cols_max)\n",
    "        \n",
    "\n",
    "\n",
    "scores = []\n",
    "\n",
    "\n",
    "x = df.drop('target', axis=1)\n",
    "y = df['target']\n",
    "x_train, x_test, y_train, y_test = train_test_split(x, y, train_size=0.7, random_state=42)\n",
    "\n",
    "\n",
    "knn = KNeighborsClassifier()\n",
    "svc = SVC()\n",
    "logr = LogisticRegression()\n",
    "\n",
    "models = [\n",
    "    knn,\n",
    "    svc,\n",
    "    logr,\n",
    "]\n",
    "\n",
    "\n",
    "param_grid = {\n",
    "    'KNeighborsClassifier()': {\n",
    "        'n_neighbors': [3, 5, 7], \n",
    "        'weights': ['uniform', 'distance'], \n",
    "        'algorithm': ['auto', 'ball_tree', 'kd_tree', 'brute'],\n",
    "    },\n",
    "    'SVC()': {\n",
    "        'C': [0.1, 1, 10],\n",
    "        'kernel': ['rbf'],#['linear', 'rbf', 'sigmoid'],\n",
    "        'gamma': [0.1, 0.01, 0.001],\n",
    "#         'class_weight':['balanced', None],\n",
    "    },\n",
    "    'LogisticRegression()': {\n",
    "        'penalty': ['l1', 'l2'], \n",
    "        'C': np.arange(0.001, 3, 0.1), \n",
    "        'solver': ['liblinear', 'saga'],\n",
    "#         'class_weight':['balanced', None],\n",
    "    },\n",
    "}\n",
    "\n",
    "      \n",
    "\n",
    "for model in models:\n",
    "    \n",
    "    grid_search = GridSearchCV(   model   , param_grid[str(    model    )], cv=3, scoring='f1')\n",
    "\n",
    "    grid_search.fit(x_train, y_train)\n",
    "    \n",
    "    scores.append(grid_search.best_score_)\n",
    "    print(type(model))\n",
    "    print(\"Best Parameters:\", grid_search.best_params_)\n",
    "    print(\"Best Score:\", scores[-1])\n",
    "    \n",
    "#     model.fit(x_train, y_train)\n",
    "#     scores_def = dict()\n",
    "#     preds =  model.predict(x_train)\n",
    "#     scores_def[f'{model}-f1-score'] =  f1_score( y_train, preds )\n",
    "#     print('baseline model f1 score is ', scores_def[f'{model}-f1-score'])\n",
    "    print(\"__________\")"
   ]
  },
  {
   "cell_type": "markdown",
   "metadata": {
    "id": "yfu3yy_7tWcy"
   },
   "source": [
    "### 5. Оцените на отложенной выборке качество наилучшей модели\n",
    "В пунктах 3 и 4 вы построили много разных моделей.\n",
    "\n",
    "Возьмите ту, которая дала наилучшее качество на тестовых данных (Test). Примените её на отложенной выборке (TestData) и выведите на экран значение метрики f1."
   ]
  },
  {
   "cell_type": "code",
   "execution_count": 71,
   "metadata": {
    "id": "upHUOfrktWcy"
   },
   "outputs": [],
   "source": [
    "# necessary\n",
    "test_data = pd.read_csv(\"TestData.csv\")\n",
    "\n",
    "\n",
    "test_data = empties_remover(test_data, 'f2')\n",
    "test_data = empties_remover(test_data, 'f7')\n",
    "test_data = empties_remover(test_data, 'f11')\n",
    "\n",
    "\n",
    "\n",
    "# # encoding\n",
    "\n",
    "# cols_obj = ['f2', 'f6', 'f8', 'f9', 'f10']\n",
    "# for feat in cols_obj:\n",
    "#     test_data[feat] = test_data[feat].apply(lambda xx: str(xx))\n",
    "# test_data_mid = pd.get_dummies(test_data[cols_obj], dtype=int) #2, 6, 8, 9, 10\n",
    "# test_data2 = pd.merge(test_data, test_data_mid, left_index=True, right_index=True)\n",
    "# test_data = test_data2.drop(cols_obj, axis=1)\n",
    "\n",
    "# outliers    \n",
    "for feature in test_data.columns:\n",
    "    if test_data[feature].quantile(0.25) == test_data[feature].quantile(0.75):\n",
    "        continue\n",
    "#     print(feature, '\\n', df.columns)\n",
    "    test_data = outliers(test_data, feature)\n",
    "    \n",
    "# # scaling\n",
    "# test_data = scaler(test_data)\n",
    "\n",
    "# # dummies\n",
    "# for feature in cols_max:\n",
    "#     if feature in test_data.columns:\n",
    "#         continue\n",
    "#     else:\n",
    "#         test_data[feature] = 0\n",
    "# test_data = test_data.reindex(columns=cols_max)\n",
    "\n",
    "\n",
    "    \n",
    "\n",
    "x = test_data.drop('target', axis=1)\n",
    "y = test_data['target']        \n"
   ]
  },
  {
   "cell_type": "code",
   "execution_count": 72,
   "metadata": {},
   "outputs": [
    {
     "name": "stdout",
     "output_type": "stream",
     "text": [
      "test_data score 0.3543956043956044\n",
      "train_test score 0.6362715298885512\n"
     ]
    }
   ],
   "source": [
    "best_model = LogisticRegression(penalty='l1',C=2.701, solver='liblinear')#, class_weight='balanced')\n",
    "# best_model = SVC(C=1, class_weight='balanced', gamma=0.1, kernel='rbf')\n",
    "# best_model = KNeighborsClassifier(algorithm='kd_tree', n_neighbors=3, weights='uniform')\n",
    "\n",
    "best_model.fit(x_train, y_train)\n",
    "scores_best = dict()\n",
    "preds_test = best_model.predict(x_test)\n",
    "preds =  best_model.predict(x)\n",
    "scores_best[f'{best_model}-f1-score'] =  f1_score( y, preds )\n",
    "print('test_data score', scores_best[f'{best_model}-f1-score'])\n",
    "print('train_test score', f1_score( y_test, preds_test ))\n",
    "# accuracy_score(y, preds)"
   ]
  },
  {
   "cell_type": "markdown",
   "metadata": {
    "id": "YZT0rMuStWcz"
   },
   "source": [
    "### 6. Выполните хитрый трюк\n",
    "Часто смешивание различных моделей даёт улучшение итогового предсказания. Попробуйте смешать две лучшие модели по формуле:\n",
    "$$pred_{final} = \\alpha\\cdot pred_1 + (1-\\alpha)\\cdot pred_2$$.\n",
    "\n",
    "Значение $\\alpha$ подберите в цикле по Test-выборке. Оцените качество на отложенной выборке.\n",
    "\n",
    "Удалось ли добиться улучшения качества?"
   ]
  },
  {
   "cell_type": "code",
   "execution_count": 73,
   "metadata": {
    "id": "3DdSsk6gtWc7"
   },
   "outputs": [
    {
     "data": {
      "text/plain": [
       "{\"LogisticRegression(C=2.701, penalty='l1', solver='liblinear')-f1-score\": 0.3543956043956044,\n",
       " \"KNeighborsClassifier(n_neighbors=3, weights='distance')-f1-score\": 0.3701550387596899}"
      ]
     },
     "execution_count": 73,
     "metadata": {},
     "output_type": "execute_result"
    }
   ],
   "source": [
    "# second_best model\n",
    "# second_best_model = LogisticRegression(C=0.801, penalty='l1', solver='liblinear') #, class_weight='balanced'\n",
    "# second_best_model = SVC(C=10, gamma=0.01, kernel='rbf') #, class_weight='balanced')\n",
    "second_best_model = KNeighborsClassifier(n_neighbors=3 ,algorithm= 'auto',  weights='distance')\n",
    "second_best_model.fit(x_train, y_train)\n",
    "preds2 =  second_best_model.predict(x)\n",
    "scores_best[f'{second_best_model}-f1-score'] =  f1_score( y, preds2 )\n",
    "scores_best"
   ]
  },
  {
   "cell_type": "code",
   "execution_count": 75,
   "metadata": {},
   "outputs": [
    {
     "name": "stdout",
     "output_type": "stream",
     "text": [
      "alpha is  0.01  thr is  0.98  and score is  0.3701550387596899\n"
     ]
    }
   ],
   "source": [
    "# Ваш код здесь\n",
    "super_best_score = -1\n",
    "# thr = 0.5\n",
    "best_thr = -1\n",
    "best_alpha = -1\n",
    "for thr in np.arange(0.01, 1, 0.01):\n",
    "    for alpha in np.arange(0.01, 1, 0.01):\n",
    "    #     preds_final = alpha * preds + (1 - alpha) * preds2\n",
    "        preds_final = (alpha * preds + (1 - alpha) * preds2 > thr).astype(int)\n",
    "        final_score = f1_score( y, preds_final )\n",
    "        if scores_best[f'{best_model}-f1-score'] < final_score:\n",
    "            super_best_score = final_score\n",
    "#             print(alpha, ' thr is ',thr,   ' and score is ', super_best_score)\n",
    "            best_thr = thr\n",
    "            best_alpha = alpha\n",
    "print('alpha is ',best_alpha, ' thr is ',best_thr,   ' and score is ', super_best_score)\n",
    "# print('baseline score was ' )\n"
   ]
  },
  {
   "cell_type": "code",
   "execution_count": 74,
   "metadata": {},
   "outputs": [
    {
     "name": "stdout",
     "output_type": "stream",
     "text": [
      "0.6363 0.3544\n"
     ]
    }
   ],
   "source": [
    "print(round(f1_score( y_test, preds_test), 4), round( scores_best[f'{best_model}-f1-score'], 4))"
   ]
  },
  {
   "cell_type": "code",
   "execution_count": 77,
   "metadata": {},
   "outputs": [],
   "source": [
    "scores_ultimate_list = [\n",
    "    ['V', 'V', 'V', 0.6767, 0.3582, 'V',  0.3597, 'logr'],\n",
    "    ['V', 'V', 'X', 0.6745, 0.5976, 'V', 0.5985, 'svc'],\n",
    "    ['V', 'X', 'V', 0.5871, 0.0, 'X', 0.0, 'logr'],\n",
    "    ['X', 'V', 'X', 0.6363, 0.2572, 'V', 0.3947, 'logr'],\n",
    "    ['X', 'V', 'V', 0.6449, 0.2927, 'V', 0.3000, 'logr'],\n",
    "    ['X', 'X', 'V', 0.5108, 0.3803, 'X', 0.0, 'knn'],\n",
    "    ['X', 'X', 'X', 0.6363, 0.3544, 'V', 0.3701, 'logr'],\n",
    "    \n",
    "        \n",
    "]\n",
    "cols = [\n",
    "    'балансировка',\n",
    "    'скалирование',\n",
    "    'кодирование',\n",
    "    'скор на train_test',\n",
    "    'скор на test_data',\n",
    "    'улучшение после смешения',\n",
    "    'улучшилось до',\n",
    "    'best model',\n",
    "]"
   ]
  },
  {
   "cell_type": "code",
   "execution_count": 78,
   "metadata": {},
   "outputs": [
    {
     "data": {
      "text/html": [
       "<div>\n",
       "<style scoped>\n",
       "    .dataframe tbody tr th:only-of-type {\n",
       "        vertical-align: middle;\n",
       "    }\n",
       "\n",
       "    .dataframe tbody tr th {\n",
       "        vertical-align: top;\n",
       "    }\n",
       "\n",
       "    .dataframe thead th {\n",
       "        text-align: right;\n",
       "    }\n",
       "</style>\n",
       "<table border=\"1\" class=\"dataframe\">\n",
       "  <thead>\n",
       "    <tr style=\"text-align: right;\">\n",
       "      <th></th>\n",
       "      <th>балансировка</th>\n",
       "      <th>скалирование</th>\n",
       "      <th>кодирование</th>\n",
       "      <th>скор на train_test</th>\n",
       "      <th>скор на test_data</th>\n",
       "      <th>улучшение после смешения</th>\n",
       "      <th>улучшилось до</th>\n",
       "      <th>best model</th>\n",
       "    </tr>\n",
       "  </thead>\n",
       "  <tbody>\n",
       "    <tr>\n",
       "      <th>0</th>\n",
       "      <td>V</td>\n",
       "      <td>V</td>\n",
       "      <td>V</td>\n",
       "      <td>0.6767</td>\n",
       "      <td>0.3582</td>\n",
       "      <td>V</td>\n",
       "      <td>0.3597</td>\n",
       "      <td>logr</td>\n",
       "    </tr>\n",
       "    <tr>\n",
       "      <th>1</th>\n",
       "      <td>V</td>\n",
       "      <td>V</td>\n",
       "      <td>X</td>\n",
       "      <td>0.6745</td>\n",
       "      <td>0.5976</td>\n",
       "      <td>V</td>\n",
       "      <td>0.5985</td>\n",
       "      <td>svc</td>\n",
       "    </tr>\n",
       "    <tr>\n",
       "      <th>2</th>\n",
       "      <td>V</td>\n",
       "      <td>X</td>\n",
       "      <td>V</td>\n",
       "      <td>0.5871</td>\n",
       "      <td>0.0000</td>\n",
       "      <td>X</td>\n",
       "      <td>0.0000</td>\n",
       "      <td>logr</td>\n",
       "    </tr>\n",
       "    <tr>\n",
       "      <th>3</th>\n",
       "      <td>X</td>\n",
       "      <td>V</td>\n",
       "      <td>X</td>\n",
       "      <td>0.6363</td>\n",
       "      <td>0.2572</td>\n",
       "      <td>V</td>\n",
       "      <td>0.3947</td>\n",
       "      <td>logr</td>\n",
       "    </tr>\n",
       "    <tr>\n",
       "      <th>4</th>\n",
       "      <td>X</td>\n",
       "      <td>V</td>\n",
       "      <td>V</td>\n",
       "      <td>0.6449</td>\n",
       "      <td>0.2927</td>\n",
       "      <td>V</td>\n",
       "      <td>0.3000</td>\n",
       "      <td>logr</td>\n",
       "    </tr>\n",
       "    <tr>\n",
       "      <th>5</th>\n",
       "      <td>X</td>\n",
       "      <td>X</td>\n",
       "      <td>V</td>\n",
       "      <td>0.5108</td>\n",
       "      <td>0.3803</td>\n",
       "      <td>X</td>\n",
       "      <td>0.0000</td>\n",
       "      <td>knn</td>\n",
       "    </tr>\n",
       "    <tr>\n",
       "      <th>6</th>\n",
       "      <td>X</td>\n",
       "      <td>X</td>\n",
       "      <td>X</td>\n",
       "      <td>0.6363</td>\n",
       "      <td>0.3544</td>\n",
       "      <td>V</td>\n",
       "      <td>0.3701</td>\n",
       "      <td>logr</td>\n",
       "    </tr>\n",
       "  </tbody>\n",
       "</table>\n",
       "</div>"
      ],
      "text/plain": [
       "  балансировка скалирование кодирование  скор на train_test  \\\n",
       "0            V            V           V              0.6767   \n",
       "1            V            V           X              0.6745   \n",
       "2            V            X           V              0.5871   \n",
       "3            X            V           X              0.6363   \n",
       "4            X            V           V              0.6449   \n",
       "5            X            X           V              0.5108   \n",
       "6            X            X           X              0.6363   \n",
       "\n",
       "   скор на test_data улучшение после смешения  улучшилось до best model  \n",
       "0             0.3582                        V         0.3597       logr  \n",
       "1             0.5976                        V         0.5985        svc  \n",
       "2             0.0000                        X         0.0000       logr  \n",
       "3             0.2572                        V         0.3947       logr  \n",
       "4             0.2927                        V         0.3000       logr  \n",
       "5             0.3803                        X         0.0000        knn  \n",
       "6             0.3544                        V         0.3701       logr  "
      ]
     },
     "execution_count": 78,
     "metadata": {},
     "output_type": "execute_result"
    }
   ],
   "source": [
    "scores_ultimate_df= pd.DataFrame(scores_ultimate_list, columns=cols)\n",
    "scores_ultimate_df\n"
   ]
  },
  {
   "cell_type": "markdown",
   "metadata": {
    "id": "9b9imFkLtWc8"
   },
   "source": [
    "### 7. Сделайте выводы\n",
    "\n",
    "Запишите в отдельной ячейке текстом выводы о проделанной работе. Для этого ответьте на вопросы:\n",
    "- Какие подходы вы использовали для улучшения работы baseline-моделей?\n",
    "- Какого максимального качества удалось добиться на Test-данных?\n",
    "- Какое при этом получилось качество на отложенной выборке? \n",
    "- Ваша модель переобучилась, недообучилась или обучилась как надо?"
   ]
  },
  {
   "cell_type": "markdown",
   "metadata": {
    "id": "wWgT4ulytWc-"
   },
   "source": [
    "1) в ход пошел подбор параметров по сетке, подбор порога, взвешенное смешение предиктов моделей, дополнительно попробовали манипулировать составом обучающих данных - на этот счет я не чувствую уверенности особой, но результаты как будто получились интереснее, чем манипулирование весами в рамках самой модели\n",
    "\n",
    "2) 0.6685 - цифра, возможно, не самая впечатляющая, по крайней мере если сравнивать с результатами некоторых участников чата ml_j-курса, нои до нее я дошел не сразу - в этот раз я опробовал подход \"заставь сначала работать, потом можно подрегулировать или прикрутить что то полезное\" - таким образом были прикручены скалирование и кодирование фичей, которые похожи на категориальные - с кодированием было достаточно весело, учитывая что это два разных датасета и там только цифры - пришлось поколхозить:) \n",
    "Минус такого подхода в том, что сложно остановиться - хотя, возможно тут еще очевидный недостаток опыта - в какой момент стоит \"сохранить и сдать\", а когда стоит еще поковыряться - опять же нужно идти же дальше по курсу - на каждой \"домашке\" сидеть по столько же, сколько заняла итоговая во \"введении\" тоже ведь неправильно, мне кажется\n",
    "\n",
    "3) 0.5976 (в какой то момент прокнуло 0.6733, но потом я что то \"доработал\" и больше таких цифр не видел:)) возможно, это все же была цифра с трейн-теста...) - интересный фокус со смешением предсказаний - к своему стыду я не сразу въехал, что вместе с альфой нужно еще и порог подбирать( (или не нужно и я все же не догадался, чего от меня хотят??) однако, я не уверен, что до конца понимаю, насколько это \"честно\" - дело в том, что мы же по сути перебираем предсказания двух \"хороших\" моделей и выбираем те, которые нам больше \"нравятся\" на основании той или иной метрики.\n",
    "Да, альфой мы регулируем уровень предпочтения отдаваемого предсказаниям одной или другой модели и, по сути, разве мы не подгоняем уже готовый результат под требования заказчика? Что в целом было бы не так страшно, но меня смущает то, что мы можем это делать только имея \"ответы\" к датасету - а ведь это все уже происходит на отложенной выборке, т.е., насколько я понимаю, там ответы \"разрешено\", \"по-честному\" использовать только для проверки результата, а не для того, чтобы отталкиваясь от них еще допиливать результат? \n",
    "Ведь по сути это еще один этап обучения. И не подумайте, меня смущает не чистота эксперимента - главное результат - но вопрос - ведь на реальном кейсе этот этап уже по сути будет недоступен? да, мы сможем использовать подобранные заранее альфу и порог - но мне кажется что мало того приемственность свойств данных (если можно так выразиться) от обучающих к реальным и так представляет из себя большой вопрос - все течет все меняется же, так теперь мы как будто еще и пропускаем результат через призму не одной, а двух моделей, точность которых и так как бы не 100% по определению - не делаем ли мы хуже? учитывая то, что проверить уже будет нельзя\n",
    "\n",
    "4) на трейне в основном результаты сильно лучше, полагаю, это свидетельствет о переобучении, хотя есть в датафрейме с результатами и вариант, где на отложенной выборке результаты практически совпадают, я бы сказал, что это максимально удачная модель, думаю, она не просто настроилась на тренировочный сет\n"
   ]
  },
  {
   "cell_type": "markdown",
   "metadata": {
    "id": "cnFjm55atWc-"
   },
   "source": [
    "Важный комментарий! В реальных задачах не следует ожидать, что машинным обучением всегда удастся решить задачу с хорошим качеством. Но использовать все имеющиеся у вас в арсенале методы для достижения наилучшего результата нужно."
   ]
  },
  {
   "cell_type": "markdown",
   "metadata": {},
   "source": [
    "а как же! в этом же весь интерес!))"
   ]
  }
 ],
 "metadata": {
  "colab": {
   "collapsed_sections": [],
   "provenance": []
  },
  "kernelspec": {
   "display_name": "Python 3 (ipykernel)",
   "language": "python",
   "name": "python3"
  },
  "language_info": {
   "codemirror_mode": {
    "name": "ipython",
    "version": 3
   },
   "file_extension": ".py",
   "mimetype": "text/x-python",
   "name": "python",
   "nbconvert_exporter": "python",
   "pygments_lexer": "ipython3",
   "version": "3.11.5"
  }
 },
 "nbformat": 4,
 "nbformat_minor": 1
}
