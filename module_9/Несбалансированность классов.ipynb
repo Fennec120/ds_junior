{
 "cells": [
  {
   "cell_type": "markdown",
   "metadata": {
    "id": "N_8Vd5PcvKmU"
   },
   "source": [
    "Рассмотрим задачу бинарной классификации. В этой задаче мы работаем с данными о мошенниках в банковской сфере.\n",
    "\n",
    "В качестве признаков f1 и f2 даны нормализованные рейтинги каждого клиента, полученные от двух независимых скоринговых компаний.\n",
    "\n",
    "Целевая переменная target — ответ, является клиент мошенником или нет. Если 0 — не мошенник, 1 — мошенник."
   ]
  },
  {
   "cell_type": "code",
   "execution_count": 5,
   "metadata": {
    "colab": {
     "base_uri": "https://localhost:8080/"
    },
    "id": "2W9DjSpSscIj",
    "outputId": "c8d85b95-8c3c-4959-e6ce-ef6660bac1f9"
   },
   "outputs": [
    {
     "name": "stdout",
     "output_type": "stream",
     "text": [
      "         f1        f2  target\n",
      "0  1.147058  1.047703       0\n",
      "1  0.733064  0.497771       0\n",
      "2  1.184146  1.630681       0\n",
      "3  1.409791  1.738476       0\n",
      "4  0.929529  0.581425       0\n"
     ]
    }
   ],
   "source": [
    "import pandas as pd\n",
    "\n",
    "df = pd.read_csv(\"Example unbalanced.csv\")\n",
    "print(df.head())\n",
    "\n",
    "X = df[['f1','f2']]\n",
    "y = df['target']"
   ]
  },
  {
   "cell_type": "markdown",
   "metadata": {
    "id": "ZA3BVjPEPBct"
   },
   "source": [
    "Посмотрим на количество объектов в каждом классе."
   ]
  },
  {
   "cell_type": "code",
   "execution_count": 6,
   "metadata": {
    "colab": {
     "base_uri": "https://localhost:8080/"
    },
    "id": "xsfHnw7GPEde",
    "outputId": "a38bfe07-eeaa-463c-ab11-1f81ac1880d4"
   },
   "outputs": [
    {
     "data": {
      "text/plain": [
       "0    4724\n",
       "1     276\n",
       "Name: target, dtype: int64"
      ]
     },
     "execution_count": 6,
     "metadata": {},
     "output_type": "execute_result"
    }
   ],
   "source": [
    "y.value_counts()"
   ]
  },
  {
   "cell_type": "markdown",
   "metadata": {
    "id": "76CxQNMOwAHD"
   },
   "source": [
    "Видим, что выборка сильно несбалансированная.\n",
    "\n",
    "Разобъём выборку на тренировочную и тестовую части."
   ]
  },
  {
   "cell_type": "code",
   "execution_count": 7,
   "metadata": {
    "id": "yy_P6ujgs11d"
   },
   "outputs": [],
   "source": [
    "from sklearn.model_selection import train_test_split\n",
    "\n",
    "X_train, X_test, y_train, y_test = train_test_split(X, y, test_size=0.25)"
   ]
  },
  {
   "cell_type": "markdown",
   "metadata": {
    "id": "Fib8w5lLwFo5"
   },
   "source": [
    "Обучим на тренировочных данных метод опорных векторов с параметрами по умолчанию, затем оценим качество на тестовой выборке."
   ]
  },
  {
   "cell_type": "code",
   "execution_count": 8,
   "metadata": {
    "id": "QFP9lOMGtMpd"
   },
   "outputs": [],
   "source": [
    "from sklearn.svm import SVC\n",
    "\n",
    "model = SVC()\n",
    "model.fit(X_train, y_train)\n",
    "\n",
    "pred_unb = model.predict(X_test)"
   ]
  },
  {
   "cell_type": "code",
   "execution_count": 9,
   "metadata": {
    "colab": {
     "base_uri": "https://localhost:8080/"
    },
    "id": "Tz7Wf-j0tkld",
    "outputId": "c3fef916-660a-4f8f-e9e0-35b469d1f241"
   },
   "outputs": [
    {
     "name": "stdout",
     "output_type": "stream",
     "text": [
      "              precision    recall  f1-score   support\n",
      "\n",
      "           0       0.98      1.00      0.99      1177\n",
      "           1       1.00      0.67      0.80        73\n",
      "\n",
      "    accuracy                           0.98      1250\n",
      "   macro avg       0.99      0.84      0.90      1250\n",
      "weighted avg       0.98      0.98      0.98      1250\n",
      "\n"
     ]
    }
   ],
   "source": [
    "from sklearn.metrics import classification_report\n",
    "\n",
    "print(classification_report(y_test, pred_unb))"
   ]
  },
  {
   "cell_type": "markdown",
   "metadata": {
    "id": "GICaXpRkwsD4"
   },
   "source": [
    "Модель хорошо справилась с нахождением объектов большего класса, при этом она не очень хорошо находит мошенников (только 70% среди всех мошенников найдены).\n",
    "\n",
    "Поставим параметр class_weight='balanced', тем самым заставляя модель обращать больше внимания на меньший класс."
   ]
  },
  {
   "cell_type": "code",
   "execution_count": 10,
   "metadata": {
    "colab": {
     "base_uri": "https://localhost:8080/"
    },
    "id": "kW_kouemtrBm",
    "outputId": "6a009e41-fbc1-4bc4-eb42-16899d209918"
   },
   "outputs": [
    {
     "name": "stdout",
     "output_type": "stream",
     "text": [
      "              precision    recall  f1-score   support\n",
      "\n",
      "           0       0.99      0.94      0.97      1177\n",
      "           1       0.49      0.86      0.63        73\n",
      "\n",
      "    accuracy                           0.94      1250\n",
      "   macro avg       0.74      0.90      0.80      1250\n",
      "weighted avg       0.96      0.94      0.95      1250\n",
      "\n"
     ]
    }
   ],
   "source": [
    "model = SVC(class_weight='balanced')\n",
    "model.fit(X_train, y_train)\n",
    "\n",
    "pred_b = model.predict(X_test)\n",
    "\n",
    "print(classification_report(y_test, pred_b))"
   ]
  },
  {
   "cell_type": "markdown",
   "metadata": {
    "id": "ZB2ERHiGvJTe"
   },
   "source": [
    "Видим, что модель гораздо лучше находит мошенников, если задать веса (найдено 86% мошенников). При этом качество модели остаётся почти таким же хорошим."
   ]
  }
 ],
 "metadata": {
  "colab": {
   "collapsed_sections": [],
   "provenance": []
  },
  "kernelspec": {
   "display_name": "Python 3 (ipykernel)",
   "language": "python",
   "name": "python3"
  },
  "language_info": {
   "codemirror_mode": {
    "name": "ipython",
    "version": 3
   },
   "file_extension": ".py",
   "mimetype": "text/x-python",
   "name": "python",
   "nbconvert_exporter": "python",
   "pygments_lexer": "ipython3",
   "version": "3.11.5"
  }
 },
 "nbformat": 4,
 "nbformat_minor": 1
}
