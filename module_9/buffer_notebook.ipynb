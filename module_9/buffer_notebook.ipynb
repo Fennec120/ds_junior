{
 "cells": [
  {
   "cell_type": "markdown",
   "id": "0cab87bb",
   "metadata": {
    "id": "CIu2DPx5tWcg"
   },
   "source": [
    "## Практическая работа"
   ]
  },
  {
   "cell_type": "markdown",
   "id": "52b20a29",
   "metadata": {
    "id": "MEdLy24do28f"
   },
   "source": [
    "## Цели практической работы\n",
    "\n",
    "*  решить реальную задачу;\n",
    "*  потренироваться в обработке данных;\n",
    "*  обучить различные модели классификации, подобрать гиперпараметры и выбрать лучшую модель;\n",
    "*  добиться наилучшего качества в задаче."
   ]
  },
  {
   "cell_type": "markdown",
   "id": "4b2b4b89",
   "metadata": {
    "id": "d6oxDXgFpD_6"
   },
   "source": [
    "## Что входит в практическую работу\n",
    "\n",
    "*  исследование датасета и обработка данных (работа с пропущенными и ошибочными значениями);\n",
    "*  обучение различных моделей классификации с параметрами по умолчанию;\n",
    "*  подбор гиперпараметров моделей;\n",
    "*  смешивание моделей;\n",
    "*  оценка качества моделей."
   ]
  },
  {
   "cell_type": "markdown",
   "id": "cdee88d8",
   "metadata": {
    "id": "WOZ8SueHpZGd"
   },
   "source": [
    "## Что оценивается\n",
    "\n",
    "*  Выполнены все этапы задания: код запускается, отрабатывает без ошибок; подробно и обоснованно написаны текстовые выводы, где это требуется."
   ]
  },
  {
   "cell_type": "markdown",
   "id": "95a0497b",
   "metadata": {
    "id": "UMr-wvh3pbrK"
   },
   "source": [
    "## Формат сдачи\n",
    "Выполните предложенные задания: впишите свой код (или, если требуется, текст) в ячейки после комментариев. \n",
    "\n",
    "*Комментарии — это текст, который начинается с символа #. Например: # ваш код здесь.*\n",
    "\n",
    "Сохраните изменения, используя опцию Save and Checkpoint из вкладки меню File или кнопку Save and Checkpoint на панели инструментов. Итоговый файл в формате .ipynb (файл Jupyter Notebook) загрузите в личный кабинет и отправьте на проверку."
   ]
  },
  {
   "cell_type": "markdown",
   "id": "3b964950",
   "metadata": {
    "id": "ENiWYl_EtWcm"
   },
   "source": [
    "### 1. Загрузите тренировочные и тестовые датасеты"
   ]
  },
  {
   "cell_type": "code",
   "execution_count": 1,
   "id": "b06bea41",
   "metadata": {
    "id": "_uf-KNwQtWcn"
   },
   "outputs": [],
   "source": [
    "import numpy as np\n",
    "import pandas as pd\n",
    "#from category_encoders import TargetEncoder\n",
    "from sklearn.preprocessing import StandardScaler\n",
    "from sklearn.linear_model import LogisticRegression\n",
    "from sklearn.svm import SVC\n",
    "from sklearn.neighbors import KNeighborsClassifier\n",
    "from sklearn.model_selection import train_test_split\n",
    "from matplotlib import pyplot as plt\n",
    "from sklearn.metrics import f1_score\n",
    "from sklearn.metrics import recall_score\n",
    "from sklearn.metrics import precision_score\n",
    "from sklearn.metrics import accuracy_score\n",
    "from sklearn.model_selection import GridSearchCV\n",
    "import warnings\n",
    "warnings.filterwarnings('ignore')\n"
   ]
  },
  {
   "cell_type": "code",
   "execution_count": 2,
   "id": "e27167ba",
   "metadata": {},
   "outputs": [],
   "source": [
    "\n",
    "df = pd.read_csv(\"TrainData.csv\")\n",
    "test_data = pd.read_csv(\"TestData.csv\")"
   ]
  },
  {
   "cell_type": "code",
   "execution_count": 3,
   "id": "eb66e10c",
   "metadata": {},
   "outputs": [
    {
     "name": "stdout",
     "output_type": "stream",
     "text": [
      "0.31394533987386125\n",
      "0.30684788290642967\n"
     ]
    }
   ],
   "source": [
    "print(df.target.value_counts()[1] / df.target.value_counts()[0])\n",
    "print(test_data.target.value_counts()[1] / test_data.target.value_counts()[0])"
   ]
  },
  {
   "cell_type": "markdown",
   "id": "a2f4070e",
   "metadata": {
    "id": "CaELM2gPtWcq"
   },
   "source": [
    "### 2. Изучите тренировочные и тестовые данные на наличие:\n",
    "- пропусков,\n",
    "- ошибочных значений.\n",
    "\n",
    "Обработайте пропуски и ошибочные значения способом, выбранным по своему усмотрению."
   ]
  },
  {
   "cell_type": "code",
   "execution_count": 4,
   "id": "b7e9c307",
   "metadata": {
    "id": "sqevAjp-tWcr"
   },
   "outputs": [
    {
     "name": "stdout",
     "output_type": "stream",
     "text": [
      "0  -  f1\n",
      "75  -  f2\n",
      "0  -  f3\n",
      "0  -  f4\n",
      "0  -  f5\n",
      "0  -  f6\n",
      "1875  -  f7\n",
      "0  -  f8\n",
      "0  -  f9\n",
      "0  -  f10\n",
      "10  -  f11\n",
      "0  -  f12\n",
      "0  -  f13\n",
      "0  -  f14\n",
      "0  -  target\n"
     ]
    }
   ],
   "source": [
    "# Ваш код здесь\n",
    "for feature in df.columns:\n",
    "    print(len(df[df[feature].isna() == True]),' - ', feature)"
   ]
  },
  {
   "cell_type": "code",
   "execution_count": 5,
   "id": "ce2a16ad",
   "metadata": {},
   "outputs": [],
   "source": [
    "# выбросы в зарплатах\n",
    "\n",
    "def outliers(df3, feature_str):\n",
    "    #print('resolution_func start')\n",
    "    #outliers\n",
    "    bounds = []\n",
    "    q25 = df3[feature_str].quantile(0.25)\n",
    "    q75 = df3[feature_str].quantile(0.75)\n",
    "    iqr = q75 - q25\n",
    "    bounds = (round(q25 - 1.5 * iqr, 2), round(q75 + 1.5 * iqr, 2))\n",
    "    print(feature_str)\n",
    "    print(q75)\n",
    "    print(q25)\n",
    "    print(iqr)\n",
    "    print(bounds)\n",
    "    print('_______')\n",
    "#     print(bounds)\n",
    "    df3[feature_str] = df3[feature_str].apply(lambda x:bounds[0] if x < bounds[0] else ( bounds[1] if x > bounds[1] else x))\n",
    "\n",
    "\n",
    "\n",
    "    return df3"
   ]
  },
  {
   "cell_type": "code",
   "execution_count": 6,
   "id": "1a2f6037",
   "metadata": {},
   "outputs": [],
   "source": [
    "def empties_remover(x_train, feature_str):\n",
    "    \n",
    "    \n",
    "    mean = x_train[feature_str].mean()\n",
    "    x_train.loc[x_train[feature_str].isna() == True, feature_str] = mean\n",
    "    \n",
    "    return x_train"
   ]
  },
  {
   "cell_type": "code",
   "execution_count": 7,
   "id": "ddb9a892",
   "metadata": {},
   "outputs": [],
   "source": [
    "def how_many_empties(df3, feature_str):\n",
    "    \n",
    "    print(len(df3[df3[feature_str].isna() == True]))\n",
    "    \n",
    "    pass\n",
    "\n",
    "    "
   ]
  },
  {
   "cell_type": "code",
   "execution_count": 8,
   "id": "cda803cb",
   "metadata": {},
   "outputs": [],
   "source": [
    "df = empties_remover(df, 'f2')\n",
    "df = empties_remover(df, 'f7')\n",
    "df = empties_remover(df, 'f11')"
   ]
  },
  {
   "cell_type": "code",
   "execution_count": 9,
   "id": "a2d59878",
   "metadata": {},
   "outputs": [
    {
     "name": "stdout",
     "output_type": "stream",
     "text": [
      "f1   70\n",
      "f2   9\n",
      "f3   6602\n",
      "f4   16\n",
      "f5   16\n",
      "f6   7\n",
      "f7   16\n",
      "f8   6\n",
      "f9   5\n",
      "f10   2\n",
      "f11   96\n",
      "f12   69\n",
      "f13   82\n",
      "f14   35\n",
      "target   2\n"
     ]
    }
   ],
   "source": [
    "for feature in df.columns:\n",
    "    print(  feature, ' ',len(df[feature].value_counts()     ))"
   ]
  },
  {
   "cell_type": "code",
   "execution_count": 10,
   "id": "1b82a452",
   "metadata": {},
   "outputs": [
    {
     "data": {
      "image/png": "[encoded data removed]",
      "text/plain": [
       "<Figure size 200x200 with 1 Axes>"
      ]
     },
     "metadata": {},
     "output_type": "display_data"
    },
    {
     "data": {
      "image/png": "[encoded data removed]",
      "text/plain": [
       "<Figure size 200x200 with 1 Axes>"
      ]
     },
     "metadata": {},
     "output_type": "display_data"
    },
    {
     "data": {
      "image/png": "[encoded data removed]",
      "text/plain": [
       "<Figure size 200x200 with 1 Axes>"
      ]
     },
     "metadata": {},
     "output_type": "display_data"
    },
    {
     "data": {
      "image/png": "[encoded data removed]",
      "text/plain": [
       "<Figure size 200x200 with 1 Axes>"
      ]
     },
     "metadata": {},
     "output_type": "display_data"
    },
    {
     "data": {
      "image/png": "[encoded data removed]",
      "text/plain": [
       "<Figure size 200x200 with 1 Axes>"
      ]
     },
     "metadata": {},
     "output_type": "display_data"
    },
    {
     "data": {
      "image/png": "[encoded data removed]",
      "text/plain": [
       "<Figure size 200x200 with 1 Axes>"
      ]
     },
     "metadata": {},
     "output_type": "display_data"
    },
    {
     "data": {
      "image/png": "[encoded data removed]",
      "text/plain": [
       "<Figure size 200x200 with 1 Axes>"
      ]
     },
     "metadata": {},
     "output_type": "display_data"
    },
    {
     "data": {
      "image/png": "[encoded data removed]",
      "text/plain": [
       "<Figure size 200x200 with 1 Axes>"
      ]
     },
     "metadata": {},
     "output_type": "display_data"
    },
    {
     "data": {
      "image/png": "[encoded data removed]",
      "text/plain": [
       "<Figure size 200x200 with 1 Axes>"
      ]
     },
     "metadata": {},
     "output_type": "display_data"
    },
    {
     "data": {
      "image/png": "[encoded data removed]",
      "text/plain": [
       "<Figure size 200x200 with 1 Axes>"
      ]
     },
     "metadata": {},
     "output_type": "display_data"
    },
    {
     "data": {
      "image/png": "[encoded data removed]",
      "text/plain": [
       "<Figure size 200x200 with 1 Axes>"
      ]
     },
     "metadata": {},
     "output_type": "display_data"
    },
    {
     "data": {
      "image/png": "[encoded data removed]",
      "text/plain": [
       "<Figure size 200x200 with 1 Axes>"
      ]
     },
     "metadata": {},
     "output_type": "display_data"
    },
    {
     "data": {
      "image/png": "[encoded data removed]",
      "text/plain": [
       "<Figure size 200x200 with 1 Axes>"
      ]
     },
     "metadata": {},
     "output_type": "display_data"
    },
    {
     "data": {
      "image/png": "[encoded data removed]",
      "text/plain": [
       "<Figure size 200x200 with 1 Axes>"
      ]
     },
     "metadata": {},
     "output_type": "display_data"
    },
    {
     "data": {
      "image/png": "[encoded data removed]",
      "text/plain": [
       "<Figure size 200x200 with 1 Axes>"
      ]
     },
     "metadata": {},
     "output_type": "display_data"
    }
   ],
   "source": [
    "for feature    in df.columns:\n",
    "    plt.figure(figsize=(2,2))\n",
    "    # plt.plot(np.arange(0, len(x_train)), x_train.f1 )\n",
    "    plt.hist(df[feature] )\n",
    "#     plt.xticks(x_train[feature].value_counts().keys())\n",
    "    plt.title(feature)\n",
    "    #x_train#.f11.value_counts()"
   ]
  },
  {
   "cell_type": "code",
   "execution_count": 11,
   "id": "097b7a40",
   "metadata": {},
   "outputs": [
    {
     "name": "stdout",
     "output_type": "stream",
     "text": [
      "f1\n",
      "47.0\n",
      "28.0\n",
      "19.0\n",
      "(-0.5, 75.5)\n",
      "_______\n",
      "f2\n",
      "238.90530767637296\n",
      "218.5939300806761\n",
      "20.311377595696854\n",
      "(188.13, 269.37)\n",
      "_______\n",
      "f3\n",
      "239441.75\n",
      "118019.0\n",
      "121422.75\n",
      "(-64115.12, 421575.88)\n",
      "_______\n",
      "f4\n",
      "0.2393162393162393\n",
      "0.1718170580964153\n",
      "0.06749918121982401\n",
      "(0.07, 0.34)\n",
      "_______\n",
      "f5\n",
      "12.0\n",
      "9.0\n",
      "3.0\n",
      "(4.5, 16.5)\n",
      "_______\n",
      "f6\n",
      "0.4450261780104712\n",
      "0.0491270807957775\n",
      "0.3958990972146937\n",
      "(-0.54, 1.04)\n",
      "_______\n",
      "f7\n",
      "0.2745314222712238\n",
      "0.131370328425821\n",
      "0.1431610938454028\n",
      "(-0.08, 0.49)\n",
      "_______\n",
      "f8\n",
      "0.4443336656696577\n",
      "0.0665813060179257\n",
      "0.37775235965173204\n",
      "(-0.5, 1.01)\n",
      "_______\n",
      "f10\n",
      "0.3002979145978153\n",
      "0.1135902636916835\n",
      "0.18670765090613178\n",
      "(-0.17, 0.58)\n",
      "_______\n",
      "f13\n",
      "45.0\n",
      "40.0\n",
      "5.0\n",
      "(32.5, 52.5)\n",
      "_______\n"
     ]
    }
   ],
   "source": [
    "for feature    in df.columns:\n",
    "    if df[feature].quantile(0.25) == df[feature].quantile(0.75):\n",
    "        continue\n",
    "    df = outliers(df, feature)"
   ]
  },
  {
   "cell_type": "code",
   "execution_count": 12,
   "id": "239b5e48",
   "metadata": {},
   "outputs": [
    {
     "name": "stdout",
     "output_type": "stream",
     "text": [
      "f1   60\n",
      "f2   5\n",
      "f3   6388\n",
      "f4   10\n",
      "f5   13\n",
      "f6   7\n",
      "f7   16\n",
      "f8   6\n",
      "f9   5\n",
      "f10   2\n",
      "f11   96\n",
      "f12   69\n",
      "f13   22\n",
      "f14   35\n",
      "target   2\n"
     ]
    }
   ],
   "source": [
    "for feature in df.columns:\n",
    "    print(  feature, ' ',len(df[feature].value_counts()     ))"
   ]
  },
  {
   "cell_type": "markdown",
   "id": "ffe99136",
   "metadata": {
    "id": "oQkpwQGHtWcr"
   },
   "source": [
    "### 3. Оцените баланс классов в задаче\n",
    "- Затем попытайтесь устно ответить на вопрос, можно ли использовать accuracy как метрику качества в задаче? "
   ]
  },
  {
   "cell_type": "code",
   "execution_count": 13,
   "id": "7059b8de",
   "metadata": {
    "id": "csjvNCCutWcs"
   },
   "outputs": [],
   "source": [
    "# Ваш код здесь\n",
    "# я бы сказал, что accuracy может быть актуальной метрикой по двум причинам:\n",
    "# 1) перевес в сторону ноликов есть, но это не катастрофический - 0,7 к 0,3 - все еще это предположение - \n",
    "# размер набора данных позволяет немного поиграть с наполнением выборки, или с весами в самой модели\n",
    "# 2) по сути нам не известно про датасет ничего - т.е. как я это вижу - у нас нет \n",
    "# оснований отдавать предпочтение одной из альтернативных метрик"
   ]
  },
  {
   "cell_type": "markdown",
   "id": "4a4ad939",
   "metadata": {
    "id": "xB_ReQ62tWct"
   },
   "source": [
    "### 3. Постройте baseline-модель:\n",
    "- разбейте TrainData на тренировочные (Train) и тестовые данные (Test); \n",
    "- обучите KNN, LogisticRegression и SVC с параметрами по умолчанию на тренировочных данных (Train);\n",
    "- примените модели на тестовых данных (Test) и вычислите значение метрики f1."
   ]
  },
  {
   "cell_type": "code",
   "execution_count": 14,
   "id": "5f84fea7",
   "metadata": {
    "id": "WUfRVj5ctWcu"
   },
   "outputs": [
    {
     "name": "stdout",
     "output_type": "stream",
     "text": [
      "KNeighborsClassifier()-f1-score  -  0.3133159268929504\n",
      "KNeighborsClassifier()-acc-score  -  0.7662222222222222\n",
      "SVC()-f1-score  -  0.09391304347826086\n",
      "SVC()-acc-score  -  0.7684444444444445\n",
      "LogisticRegression()-f1-score  -  0.39183673469387753\n",
      "LogisticRegression()-acc-score  -  0.8013333333333333\n"
     ]
    }
   ],
   "source": [
    "\n",
    "\n",
    "x = df.drop('target', axis=1)\n",
    "y = df['target']\n",
    "\n",
    "x_train, x_test, y_train, y_test = train_test_split(x, y, train_size=0.7, random_state=42)\n",
    "\n",
    "knn = KNeighborsClassifier()\n",
    "svc = SVC()\n",
    "logr = LogisticRegression()\n",
    "\n",
    "models = [\n",
    "    knn,\n",
    "    svc,\n",
    "    logr,\n",
    "]\n",
    "\n",
    "scores = dict()\n",
    "\n",
    "for model in models:\n",
    "    model.fit(x_train, y_train)\n",
    "    preds =  model.predict(x_test)\n",
    "    scores[f'{model}-f1-score'] =          f1_score( y_test, preds )\n",
    "    scores[f'{model}-acc-score'] =    accuracy_score( y_test, preds )\n",
    "\n",
    "for key in scores.keys():\n",
    "    print (  key, ' - ',   scores[key])\n",
    "\n",
    "# Ваш код здесь"
   ]
  },
  {
   "cell_type": "markdown",
   "id": "76b20dd3",
   "metadata": {},
   "source": [
    "## небольшое отступление\n",
    "кажется, дальше мы не будем пробовать манипулировать составом выборки - по этому, \"пока не далеко ушли\" - попробуем это сделать"
   ]
  },
  {
   "cell_type": "code",
   "execution_count": 15,
   "id": "6e505788",
   "metadata": {},
   "outputs": [],
   "source": [
    "def sample_df3(df3, total_rows =  200000, neg_percent = 50, pos_percent = 50):\n",
    "    print( 'sample_df3 start')\n",
    "    df3_pos = df3[df3['target'] == 1].sample(int(total_rows / 100 * pos_percent))\n",
    "    df3_neg = df3[df3['target'] == 0].sample(int(total_rows / 100 * neg_percent))\n",
    "    df3_pos = df3_pos.reset_index()\n",
    "    df3_neg = df3_neg.reset_index()\n",
    "    df3_pos = df3_pos.drop('index', axis=1)\n",
    "    df3_neg = df3_neg.drop('index', axis=1)\n",
    "    df3 = pd.concat([df3_pos, df3_neg])\n",
    "    \n",
    "    print( 'sample_df3 end')\n",
    "    print('-')      \n",
    "    #print('-')      \n",
    "    #print('-') \n",
    "    \n",
    "    return df3"
   ]
  },
  {
   "cell_type": "code",
   "execution_count": 16,
   "id": "26c44cfe",
   "metadata": {},
   "outputs": [
    {
     "data": {
      "text/plain": [
       "1792"
      ]
     },
     "execution_count": 16,
     "metadata": {},
     "output_type": "execute_result"
    }
   ],
   "source": [
    "df.target.value_counts()[1]"
   ]
  },
  {
   "cell_type": "code",
   "execution_count": 17,
   "id": "1f255a0f",
   "metadata": {},
   "outputs": [
    {
     "data": {
      "text/plain": [
       "1792"
      ]
     },
     "execution_count": 17,
     "metadata": {},
     "output_type": "execute_result"
    }
   ],
   "source": [
    "df.target.value_counts()[1]"
   ]
  },
  {
   "cell_type": "code",
   "execution_count": 18,
   "id": "e5e06894",
   "metadata": {},
   "outputs": [
    {
     "name": "stdout",
     "output_type": "stream",
     "text": [
      "sample_df3 start\n",
      "sample_df3 end\n",
      "-\n"
     ]
    }
   ],
   "source": [
    "df_tst = sample_df3(df, df.target.value_counts()[1] / 7 * 10, 30, 70)"
   ]
  },
  {
   "cell_type": "code",
   "execution_count": 19,
   "id": "ff5421ad",
   "metadata": {},
   "outputs": [
    {
     "name": "stdout",
     "output_type": "stream",
     "text": [
      "KNeighborsClassifier()-f1-score  -  0.7745762711864407\n",
      "KNeighborsClassifier()-acc-score  -  0.6536458333333334\n",
      "SVC()-f1-score  -  0.8354814253222138\n",
      "SVC()-acc-score  -  0.7174479166666666\n",
      "LogisticRegression()-f1-score  -  0.8354814253222138\n",
      "LogisticRegression()-acc-score  -  0.7174479166666666\n"
     ]
    }
   ],
   "source": [
    "\n",
    "\n",
    "x = df_tst.drop('target', axis=1)\n",
    "y = df_tst['target']\n",
    "\n",
    "x_train, x_test, y_train, y_test = train_test_split(x, y, train_size=0.7, random_state=42)\n",
    "\n",
    "knn = KNeighborsClassifier()\n",
    "svc = SVC()\n",
    "logr = LogisticRegression()\n",
    "\n",
    "models = [\n",
    "    knn,\n",
    "    svc,\n",
    "    logr,\n",
    "]\n",
    "\n",
    "scores = dict()\n",
    "\n",
    "for model in models:\n",
    "    model.fit(x_train, y_train)\n",
    "    preds =  model.predict(x_test)\n",
    "    scores[f'{model}-f1-score'] =          f1_score( y_test, preds )\n",
    "    scores[f'{model}-acc-score'] =    accuracy_score( y_test, preds )\n",
    "\n",
    "for key in scores.keys():\n",
    "    print (  key, ' - ',   scores[key])\n",
    "\n",
    "# Ваш код здесь"
   ]
  },
  {
   "cell_type": "code",
   "execution_count": 20,
   "id": "c39b2138",
   "metadata": {},
   "outputs": [],
   "source": [
    "# по мере увеличения процента \"единичек\" в обучающей выборке accuracy понемногу падает сначала до уровня рандомного классификатора, \n",
    "# но потом чуть повышается, хотя ф1 показывает стабильный рост.\n",
    "# но хватит баловаться, едем дальше:)"
   ]
  },
  {
   "cell_type": "markdown",
   "id": "325d8091",
   "metadata": {
    "id": "KYQnr8CftWcv"
   },
   "source": [
    "### 4. Улучшите модели\n",
    "Попробуйте улучшить качество обученных моделей:\n",
    "- можете подбирать гиперпараметры моделей (лучше это делать по кросс-валидации на Train, то есть с помощью использования GridSearchCV на Train);\n",
    "- можете задавать class_weights;\n",
    "- можете вручную или при помощи методов Python генерировать новые признаки и/или удалять существующие.\n",
    "\n",
    "Это самая важная и творческая часть задания. Проводите как можно больше экспериментов!\n",
    "\n",
    "Проведите минимиум три эксперимента: для каждого типа модели минимум один эксперимент."
   ]
  },
  {
   "cell_type": "markdown",
   "id": "a5dcdb57",
   "metadata": {
    "collapsed": true,
    "id": "ZJrKNIw8tWcw"
   },
   "source": [
    "scores = []\n",
    "\n",
    "x = df.drop('target', axis=1)\n",
    "y = df['target']\n",
    "x_train, x_test, y_train, y_test = train_test_split(x, y, train_size=0.7, random_state=42)\n",
    "\n",
    "knn = KNeighborsClassifier()\n",
    "svc = SVC()\n",
    "logr = LogisticRegression()\n",
    "\n",
    "models = [\n",
    "    knn,\n",
    "    svc,\n",
    "    logr,\n",
    "]\n",
    "\n",
    "\n",
    "# Define the parameter grid\n",
    "param_grid = {\n",
    "    'KNeighborsClassifier()': {\n",
    "        'n_neighbors': [3, 5, 7], \n",
    "        'weights': ['uniform', 'distance'], \n",
    "        'algorithm': ['auto', 'ball_tree', 'kd_tree', 'brute'],\n",
    "    },\n",
    "    'SVC()': {\n",
    "        'C': [0.1, 1, 10],\n",
    "        'kernel': ['linear', 'rbf'],\n",
    "        'gamma': [0.1, 0.01, 0.001],\n",
    "    },\n",
    "    'LogisticRegression()': {\n",
    "        'penalty': ['l1', 'l2'], \n",
    "        'C': [0.1, 1, 10], \n",
    "        'solver': ['liblinear', 'saga']\n",
    "    },\n",
    "}\n",
    "\n",
    "\n",
    "for model in models:\n",
    "    \n",
    "    grid_search = GridSearchCV(   model   , param_grid[str(    model    )], cv=5, scoring='f1')\n",
    "\n",
    "    grid_search.fit(x_train, y_train)\n",
    "    \n",
    "\n",
    "    print(type(model))\n",
    "    print(\"Best Parameters:\", grid_search.best_params_)\n",
    "    print(\"Best Score:\", grid_search.best_score_)\n",
    "    print(\"__________\")"
   ]
  },
  {
   "cell_type": "code",
   "execution_count": 21,
   "id": "b0105b2e",
   "metadata": {},
   "outputs": [
    {
     "name": "stdout",
     "output_type": "stream",
     "text": [
      "<class 'sklearn.neighbors._classification.KNeighborsClassifier'>\n",
      "Best Parameters: {'algorithm': 'auto', 'n_neighbors': 3, 'weights': 'distance'}\n",
      "Best Score: 0.3665481539274131\n",
      "baseline model f1 score is  0.5005452562704471\n",
      "__________\n",
      "<class 'sklearn.svm._classes.SVC'>\n",
      "Best Parameters: {'C': 10, 'gamma': 0.001, 'kernel': 'rbf'}\n",
      "Best Score: 0.1002904073194172\n",
      "baseline model f1 score is  0.12603150787696923\n",
      "__________\n",
      "<class 'sklearn.linear_model._logistic.LogisticRegression'>\n",
      "Best Parameters: {'C': 1.701, 'penalty': 'l1', 'solver': 'liblinear'}\n",
      "Best Score: 0.636015857545483\n",
      "baseline model f1 score is  0.3830041891083184\n",
      "__________\n"
     ]
    }
   ],
   "source": [
    "scores = []\n",
    "\n",
    "x = df.drop('target', axis=1)\n",
    "y = df['target']\n",
    "x_train, x_test, y_train, y_test = train_test_split(x, y, train_size=0.7, random_state=42)\n",
    "\n",
    "knn = KNeighborsClassifier()\n",
    "svc = SVC()\n",
    "logr = LogisticRegression()\n",
    "\n",
    "models = [\n",
    "    knn,\n",
    "    svc,\n",
    "    logr,\n",
    "]\n",
    "\n",
    "\n",
    "param_grid = {\n",
    "    'KNeighborsClassifier()': {\n",
    "        'n_neighbors': [3, 5, 7], \n",
    "        'weights': ['uniform', 'distance'], \n",
    "        'algorithm': ['auto', 'ball_tree', 'kd_tree', 'brute'],\n",
    "    },\n",
    "    'SVC()': {\n",
    "        'C': [0.1, 1, 10],\n",
    "        'kernel': ['rbf'],#['linear', 'rbf', 'sigmoid'],\n",
    "        'gamma': [0.1, 0.01, 0.001],\n",
    "    },\n",
    "    'LogisticRegression()': {\n",
    "        'penalty': ['l1', 'l2'], \n",
    "        'C': np.arange(0.001, 3, 0.1), \n",
    "        'solver': ['liblinear', 'saga']\n",
    "    },\n",
    "}\n",
    "\n",
    "\n",
    "for model in models:\n",
    "    \n",
    "    grid_search = GridSearchCV(   model   , param_grid[str(    model    )], cv=3, scoring='f1')\n",
    "\n",
    "    grid_search.fit(x_train, y_train)\n",
    "    \n",
    "    scores.append(grid_search.best_score_)\n",
    "    print(type(model))\n",
    "    print(\"Best Parameters:\", grid_search.best_params_)\n",
    "    print(\"Best Score:\", scores[-1])\n",
    "    \n",
    "    model.fit(x_train, y_train)\n",
    "    scores_def = dict()\n",
    "    preds =  model.predict(x_train)\n",
    "    scores_def[f'{model}-f1-score'] =  f1_score( y_train, preds )\n",
    "    print('baseline model f1 score is ', scores_def[f'{model}-f1-score'])\n",
    "    print(\"__________\")"
   ]
  },
  {
   "cell_type": "markdown",
   "id": "3a423fce",
   "metadata": {
    "id": "yfu3yy_7tWcy"
   },
   "source": [
    "### 5. Оцените на отложенной выборке качество наилучшей модели\n",
    "В пунктах 3 и 4 вы построили много разных моделей.\n",
    "\n",
    "Возьмите ту, которая дала наилучшее качество на тестовых данных (Test). Примените её на отложенной выборке (TestData) и выведите на экран значение метрики f1."
   ]
  },
  {
   "cell_type": "code",
   "execution_count": 22,
   "id": "49b2a3f6",
   "metadata": {
    "id": "upHUOfrktWcy"
   },
   "outputs": [
    {
     "name": "stdout",
     "output_type": "stream",
     "text": [
      "f1\n",
      "47.0\n",
      "28.0\n",
      "19.0\n",
      "(-0.5, 75.5)\n",
      "_______\n",
      "f2\n",
      "238.90530767637296\n",
      "218.5939300806761\n",
      "20.311377595696854\n",
      "(188.13, 269.37)\n",
      "_______\n",
      "f3\n",
      "239441.75\n",
      "118019.0\n",
      "121422.75\n",
      "(-64115.12, 421575.88)\n",
      "_______\n",
      "f4\n",
      "0.2393162393162393\n",
      "0.1718170580964153\n",
      "0.06749918121982401\n",
      "(0.07, 0.34)\n",
      "_______\n",
      "f5\n",
      "12.0\n",
      "9.0\n",
      "3.0\n",
      "(4.5, 16.5)\n",
      "_______\n",
      "f6\n",
      "0.4450261780104712\n",
      "0.0491270807957775\n",
      "0.3958990972146937\n",
      "(-0.54, 1.04)\n",
      "_______\n",
      "f7\n",
      "0.2745314222712238\n",
      "0.131370328425821\n",
      "0.1431610938454028\n",
      "(-0.08, 0.49)\n",
      "_______\n",
      "f8\n",
      "0.4443336656696577\n",
      "0.0665813060179257\n",
      "0.37775235965173204\n",
      "(-0.5, 1.01)\n",
      "_______\n",
      "f10\n",
      "0.3002979145978153\n",
      "0.1135902636916835\n",
      "0.18670765090613178\n",
      "(-0.17, 0.58)\n",
      "_______\n",
      "f13\n",
      "45.0\n",
      "40.0\n",
      "5.0\n",
      "(32.5, 52.5)\n",
      "_______\n"
     ]
    }
   ],
   "source": [
    "# Ваш код здесь\n",
    "test_data = empties_remover(test_data, 'f2')\n",
    "test_data = empties_remover(test_data, 'f7')\n",
    "test_data = empties_remover(test_data, 'f11')\n",
    "for feature    in df.columns:\n",
    "    if df[feature].quantile(0.25) == df[feature].quantile(0.75):\n",
    "        continue\n",
    "    df = outliers(df, feature)\n",
    "    \n",
    "x = test_data.drop('target', axis=1)\n",
    "y = test_data['target']"
   ]
  },
  {
   "cell_type": "code",
   "execution_count": 36,
   "id": "7ec4c795",
   "metadata": {},
   "outputs": [
    {
     "data": {
      "text/plain": [
       "{\"LogisticRegression(C=2.801, penalty='l1', solver='liblinear')-f1-score\": 0.36988110964332893}"
      ]
     },
     "execution_count": 36,
     "metadata": {},
     "output_type": "execute_result"
    }
   ],
   "source": [
    "best_model = LogisticRegression(penalty='l1',C=2.801, solver='liblinear')\n",
    "\n",
    "best_model.fit(x_train, y_train)\n",
    "scores_best = dict()\n",
    "preds =  best_model.predict(x)\n",
    "scores_best[f'{best_model}-f1-score'] =  f1_score( y, preds )\n",
    "scores_best\n",
    "# accuracy_score(y, preds)"
   ]
  },
  {
   "cell_type": "markdown",
   "id": "ae7879e8",
   "metadata": {
    "id": "YZT0rMuStWcz"
   },
   "source": [
    "### 6. Выполните хитрый трюк\n",
    "Часто смешивание различных моделей даёт улучшение итогового предсказания. Попробуйте смешать две лучшие модели по формуле:\n",
    "$$pred_{final} = \\alpha\\cdot pred_1 + (1-\\alpha)\\cdot pred_2$$.\n",
    "\n",
    "Значение $\\alpha$ подберите в цикле по Test-выборке. Оцените качество на отложенной выборке.\n",
    "\n",
    "Удалось ли добиться улучшения качества?"
   ]
  },
  {
   "cell_type": "code",
   "execution_count": 37,
   "id": "9fa70155",
   "metadata": {},
   "outputs": [
    {
     "data": {
      "text/plain": [
       "{\"LogisticRegression(C=2.801, penalty='l1', solver='liblinear')-f1-score\": 0.36988110964332893,\n",
       " 'KNeighborsClassifier()-f1-score': 0.34803337306317045}"
      ]
     },
     "execution_count": 37,
     "metadata": {},
     "output_type": "execute_result"
    }
   ],
   "source": [
    "#seciond_best model\n",
    "second_best_model = KNeighborsClassifier() #бэйслайн дает лучший ф1 отчего то, даже если \n",
    "# вручную задать все дефолтные (согласно документации) параметры \n",
    "second_best_model.fit(x_train, y_train)\n",
    "preds2 =  second_best_model.predict(x)\n",
    "scores_best[f'{second_best_model}-f1-score'] =  f1_score( y, preds2 )\n",
    "scores_best"
   ]
  },
  {
   "cell_type": "code",
   "execution_count": 38,
   "id": "b35d5659",
   "metadata": {
    "id": "3DdSsk6gtWc7"
   },
   "outputs": [
    {
     "name": "stdout",
     "output_type": "stream",
     "text": [
      "0.5  thr is  0.49  and score is  0.4162995594713656\n"
     ]
    }
   ],
   "source": [
    "# Ваш код здесь\n",
    "super_best_score = -1\n",
    "thr = 0.5\n",
    "best_thr = -1\n",
    "best_alpha = -1\n",
    "for thr in np.arange(0.01, 1, 0.01):\n",
    "    for alpha in np.arange(0.01, 1, 0.01):\n",
    "    #     preds_final = alpha * preds + (1 - alpha) * preds2\n",
    "        preds_final = (alpha * preds + (1 - alpha) * preds2 > thr).astype(int)\n",
    "        final_score = f1_score( y, preds_final )\n",
    "        if scores_best[f'{best_model}-f1-score'] < final_score:\n",
    "            super_best_score = final_score\n",
    "#             print(alpha, ' thr is ',thr,   ' and score is ', super_best_score)\n",
    "            best_thr = thr\n",
    "            best_alpha = alpha\n",
    "print(best_alpha, ' thr is ',best_thr,   ' and score is ', super_best_score)\n",
    "# print('baseline score was ' )\n"
   ]
  },
  {
   "cell_type": "markdown",
   "id": "18f2fed5",
   "metadata": {
    "id": "9b9imFkLtWc8"
   },
   "source": [
    "### 7. Сделайте выводы\n",
    "\n",
    "Запишите в отдельной ячейке текстом выводы о проделанной работе. Для этого ответьте на вопросы:\n",
    "- Какие подходы вы использовали для улучшения работы baseline-моделей?\n",
    "- Какого максимального качества удалось добиться на Test-данных?\n",
    "- Какое при этом получилось качество на отложенной выборке? \n",
    "- Ваша модель переобучилась, недообучилась или обучилась как надо?"
   ]
  },
  {
   "cell_type": "code",
   "execution_count": 17,
   "id": "255964b1",
   "metadata": {
    "id": "wWgT4ulytWc-"
   },
   "outputs": [],
   "source": [
    "# Ваш текст здесь"
   ]
  },
  {
   "cell_type": "markdown",
   "id": "099dc5b2",
   "metadata": {
    "id": "cnFjm55atWc-"
   },
   "source": [
    "Важный комментарий! В реальных задачах не следует ожидать, что машинным обучением всегда удастся решить задачу с хорошим качеством. Но использовать все имеющиеся у вас в арсенале методы для достижения наилучшего результата нужно."
   ]
  },
  {
   "cell_type": "code",
   "execution_count": null,
   "id": "6bd05095",
   "metadata": {},
   "outputs": [],
   "source": []
  }
 ],
 "metadata": {
  "kernelspec": {
   "display_name": "Python 3 (ipykernel)",
   "language": "python",
   "name": "python3"
  },
  "language_info": {
   "codemirror_mode": {
    "name": "ipython",
    "version": 3
   },
   "file_extension": ".py",
   "mimetype": "text/x-python",
   "name": "python",
   "nbconvert_exporter": "python",
   "pygments_lexer": "ipython3",
   "version": "3.11.5"
  }
 },
 "nbformat": 4,
 "nbformat_minor": 5
}
