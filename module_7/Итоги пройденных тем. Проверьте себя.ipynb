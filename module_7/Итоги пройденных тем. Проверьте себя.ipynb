{
 "cells": [
  {
   "cell_type": "markdown",
   "metadata": {
    "id": "UxKcKjF8qNWZ"
   },
   "source": [
    "\n",
    "# Numpy array. Практическая работа"
   ]
  },
  {
   "cell_type": "markdown",
   "metadata": {
    "id": "_ohvVK9tqXJI"
   },
   "source": [
    "## Цель практической работы\n",
    "\n",
    "Выполните задачи, чтобы потренироваться в использовании функционала NumPy."
   ]
  },
  {
   "cell_type": "markdown",
   "metadata": {
    "id": "pTiwLOIHqXRw"
   },
   "source": [
    "## Что входит в практическое задание\n",
    "\n",
    "10 задач на использование библиотеки NumPy.\n"
   ]
  },
  {
   "cell_type": "code",
   "execution_count": null,
   "metadata": {
    "id": "hE6zTfZ9yl9r"
   },
   "outputs": [],
   "source": []
  },
  {
   "cell_type": "markdown",
   "metadata": {
    "id": "mQ04nzTSqXWw"
   },
   "source": [
    "## Что нужно сделать\n",
    "\n",
    "Скачайте файл с заданием в материалах, откройте его через Jupyter Notebook и выполните задачи. Сверьтесь с ответами, представленными ниже. Обратите внимание, что это задание не нужно сдавать на проверку.\n"
   ]
  },
  {
   "cell_type": "markdown",
   "metadata": {
    "id": "NkvSJDW6qhe-"
   },
   "source": [
    "## Задачи\n"
   ]
  },
  {
   "cell_type": "markdown",
   "metadata": {
    "id": "w9M5Z24hoeDM"
   },
   "source": [
    "1. Создайте вектор размера 10, заполненный нулями, но пятый элемент которого равен 1."
   ]
  },
  {
   "cell_type": "code",
   "execution_count": 3,
   "metadata": {},
   "outputs": [],
   "source": [
    "import numpy as np"
   ]
  },
  {
   "cell_type": "code",
   "execution_count": 9,
   "metadata": {
    "id": "CtNBt-sBogeI"
   },
   "outputs": [
    {
     "data": {
      "text/plain": [
       "array([0, 0, 0, 0, 1, 0, 0, 0, 0, 0])"
      ]
     },
     "execution_count": 9,
     "metadata": {},
     "output_type": "execute_result"
    }
   ],
   "source": [
    "a = np.zeros(10, int)\n",
    "a [4] = 1\n",
    "a\n",
    "# ваш код здесь"
   ]
  },
  {
   "cell_type": "markdown",
   "metadata": {
    "id": "YG8zPQvAojpf"
   },
   "source": [
    "2. Создайте вектор со значениями от 10 до 49."
   ]
  },
  {
   "cell_type": "code",
   "execution_count": 10,
   "metadata": {
    "id": "KczCOV7KotMt"
   },
   "outputs": [
    {
     "data": {
      "text/plain": [
       "array([10, 11, 12, 13, 14, 15, 16, 17, 18, 19, 20, 21, 22, 23, 24, 25, 26,\n",
       "       27, 28, 29, 30, 31, 32, 33, 34, 35, 36, 37, 38, 39, 40, 41, 42, 43,\n",
       "       44, 45, 46, 47, 48, 49])"
      ]
     },
     "execution_count": 10,
     "metadata": {},
     "output_type": "execute_result"
    }
   ],
   "source": [
    "# ваш код здесь\n",
    "b = np.arange(10,50)\n",
    "b"
   ]
  },
  {
   "cell_type": "markdown",
   "metadata": {
    "id": "xUmlDf8JolXg"
   },
   "source": [
    "3. Создайте матрицу (двумерный массив) 3x3 со значениями от 0 до 8."
   ]
  },
  {
   "cell_type": "code",
   "execution_count": 12,
   "metadata": {
    "id": "EcJM6_Yvoto0"
   },
   "outputs": [
    {
     "data": {
      "text/plain": [
       "array([[0, 1, 2],\n",
       "       [3, 4, 5],\n",
       "       [6, 7, 8]])"
      ]
     },
     "execution_count": 12,
     "metadata": {},
     "output_type": "execute_result"
    }
   ],
   "source": [
    "c = np.arange(0, 9).reshape(3,3)\n",
    "c\n",
    "# ваш код здесь"
   ]
  },
  {
   "cell_type": "markdown",
   "metadata": {
    "id": "J1DcRIvkon9F"
   },
   "source": [
    "4. Создайте массив 3x3x3 со случайными значениями."
   ]
  },
  {
   "cell_type": "code",
   "execution_count": 37,
   "metadata": {
    "id": "_vcjs45couIe"
   },
   "outputs": [
    {
     "data": {
      "text/plain": [
       "array([[3, 1, 3],\n",
       "       [7, 7, 7],\n",
       "       [5, 3, 6]])"
      ]
     },
     "execution_count": 37,
     "metadata": {},
     "output_type": "execute_result"
    }
   ],
   "source": [
    "a =np.array( np.random.randint(0, 9, 9)).reshape(3,3)\n",
    "a\n"
   ]
  },
  {
   "cell_type": "code",
   "execution_count": 49,
   "metadata": {},
   "outputs": [
    {
     "data": {
      "text/plain": [
       "256"
      ]
     },
     "execution_count": 49,
     "metadata": {},
     "output_type": "execute_result"
    }
   ],
   "source": [
    "4*4*4*4"
   ]
  },
  {
   "cell_type": "code",
   "execution_count": 50,
   "metadata": {},
   "outputs": [
    {
     "data": {
      "text/plain": [
       "array([[[[81, 90, 12, 76],\n",
       "         [67, 76, 46, 60],\n",
       "         [84, 41, 63, 89],\n",
       "         [38, 58, 35, 61]],\n",
       "\n",
       "        [[20, 38, 90, 28],\n",
       "         [74, 57, 60, 53],\n",
       "         [10, 81, 69,  1],\n",
       "         [36, 96, 11, 39]],\n",
       "\n",
       "        [[97,  1, 83, 83],\n",
       "         [53, 88, 89,  3],\n",
       "         [34, 64, 55, 51],\n",
       "         [23, 23, 80, 44]],\n",
       "\n",
       "        [[16, 93, 33, 95],\n",
       "         [38, 36,  1, 94],\n",
       "         [90, 32, 41, 19],\n",
       "         [ 6, 78, 93, 42]]],\n",
       "\n",
       "\n",
       "       [[[13, 43, 38, 39],\n",
       "         [65, 33, 14, 71],\n",
       "         [ 2, 25, 88, 46],\n",
       "         [72, 19, 26, 60]],\n",
       "\n",
       "        [[54, 41, 37, 51],\n",
       "         [ 2,  5, 42, 38],\n",
       "         [13, 80, 32, 15],\n",
       "         [66, 11, 18, 96]],\n",
       "\n",
       "        [[59, 22, 87, 23],\n",
       "         [65, 28, 37, 52],\n",
       "         [38, 18,  7, 81],\n",
       "         [45, 52, 89, 97]],\n",
       "\n",
       "        [[57, 73, 93, 17],\n",
       "         [65, 50, 25, 19],\n",
       "         [96, 85, 46, 31],\n",
       "         [ 8, 14, 82, 78]]],\n",
       "\n",
       "\n",
       "       [[[79, 17, 71, 89],\n",
       "         [72, 59, 29, 37],\n",
       "         [32, 19, 63, 70],\n",
       "         [57, 50, 16, 94]],\n",
       "\n",
       "        [[60, 15, 87, 32],\n",
       "         [12, 97,  1, 33],\n",
       "         [16, 45, 74, 21],\n",
       "         [ 9,  4,  7, 12]],\n",
       "\n",
       "        [[78, 32, 59, 34],\n",
       "         [33, 15, 86, 91],\n",
       "         [63, 68, 78, 92],\n",
       "         [ 5, 96, 17, 26]],\n",
       "\n",
       "        [[93, 41, 83, 64],\n",
       "         [66, 13, 33,  7],\n",
       "         [87, 79, 94, 30],\n",
       "         [18, 52, 87,  1]]],\n",
       "\n",
       "\n",
       "       [[[71, 32, 11, 23],\n",
       "         [18, 19, 74, 69],\n",
       "         [17, 63, 86, 89],\n",
       "         [62, 16, 37, 33]],\n",
       "\n",
       "        [[ 9, 50, 81, 84],\n",
       "         [53, 29,  7, 44],\n",
       "         [16, 57, 14, 25],\n",
       "         [40, 19, 85, 74]],\n",
       "\n",
       "        [[25, 75, 46,  5],\n",
       "         [61, 92, 62, 28],\n",
       "         [78, 68, 31, 43],\n",
       "         [17, 86, 36, 66]],\n",
       "\n",
       "        [[93, 95, 36, 81],\n",
       "         [56, 18, 36, 27],\n",
       "         [41, 62, 48, 80],\n",
       "         [97, 50, 94,  7]]]])"
      ]
     },
     "execution_count": 50,
     "metadata": {},
     "output_type": "execute_result"
    }
   ],
   "source": [
    "A = np.random.randint(1,100, 256)\n",
    "A = A.reshape((4,4,4,4)) # не бойтесь брать размерность больше - сам функционал не меняется\n",
    "A"
   ]
  },
  {
   "cell_type": "markdown",
   "metadata": {
    "id": "YrfZeAw6opem"
   },
   "source": [
    "5. Создайте матрицу 10x10 с 0 внутри и 1 на границах."
   ]
  },
  {
   "cell_type": "code",
   "execution_count": 64,
   "metadata": {
    "id": "n5Zdwpdwoush"
   },
   "outputs": [],
   "source": [
    "# ваш код здесь\n",
    "q = np.zeros(8**2).reshape(8,8)\n",
    "q = np.vstack([q, np.ones(8).reshape(1,8)])\n",
    "q = np.vstack([np.ones(8).reshape(1,8), q])\n",
    "q = np.hstack([q, np.ones(10).reshape(10,1)])\n",
    "q = np.hstack([np.ones(10).reshape(10,1), q])"
   ]
  },
  {
   "cell_type": "code",
   "execution_count": 65,
   "metadata": {},
   "outputs": [
    {
     "data": {
      "text/plain": [
       "array([[1., 1., 1., 1., 1., 1., 1., 1., 1., 1.],\n",
       "       [1., 0., 0., 0., 0., 0., 0., 0., 0., 1.],\n",
       "       [1., 0., 0., 0., 0., 0., 0., 0., 0., 1.],\n",
       "       [1., 0., 0., 0., 0., 0., 0., 0., 0., 1.],\n",
       "       [1., 0., 0., 0., 0., 0., 0., 0., 0., 1.],\n",
       "       [1., 0., 0., 0., 0., 0., 0., 0., 0., 1.],\n",
       "       [1., 0., 0., 0., 0., 0., 0., 0., 0., 1.],\n",
       "       [1., 0., 0., 0., 0., 0., 0., 0., 0., 1.],\n",
       "       [1., 0., 0., 0., 0., 0., 0., 0., 0., 1.],\n",
       "       [1., 1., 1., 1., 1., 1., 1., 1., 1., 1.]])"
      ]
     },
     "execution_count": 65,
     "metadata": {},
     "output_type": "execute_result"
    }
   ],
   "source": [
    "q"
   ]
  },
  {
   "cell_type": "markdown",
   "metadata": {
    "id": "oG-pxHTHorF9"
   },
   "source": [
    "6. Создайте матрицы  5x3 и 3x2 со случайными значениями и перемножьте их."
   ]
  },
  {
   "cell_type": "code",
   "execution_count": 80,
   "metadata": {
    "id": "O4Z4f0xvovJC"
   },
   "outputs": [
    {
     "data": {
      "text/plain": [
       "array([[7230, 4413],\n",
       "       [2409, 3626],\n",
       "       [3361, 5845],\n",
       "       [7262, 2598],\n",
       "       [6075, 6096]])"
      ]
     },
     "execution_count": 80,
     "metadata": {},
     "output_type": "execute_result"
    }
   ],
   "source": [
    "# ваш код здесь\n",
    "a = np.array(np.random.randint(0,100,15)).reshape(5,3)\n",
    "\n",
    "b = np.array(np.random.randint(0,100,6)).reshape(3,2)\n",
    "\n",
    "                                                 \n",
    "c = np.dot(a,b)\n",
    "c"
   ]
  },
  {
   "cell_type": "markdown",
   "metadata": {
    "id": "0XvhU1pcowfP"
   },
   "source": [
    "Для выполнения задач 7–10 создайте массив 10x10 со значениями от 1 до 100 и все вычисления производите на нём.\n",
    "\n"
   ]
  },
  {
   "cell_type": "code",
   "execution_count": 81,
   "metadata": {},
   "outputs": [
    {
     "data": {
      "text/plain": [
       "array([[ 30,   8,  59,  48,  44,  85,   4,  87,  72, 100],\n",
       "       [ 84,  45,  85,  22,  57,  56,  32,  75,  84,  91],\n",
       "       [ 45,  31,  71,  19,  45,  38,  46,   3,  21,  33],\n",
       "       [ 83,  51,  98,   4,  86,  40,  54,  28,  10,  83],\n",
       "       [ 63,  71,   3,  71,  43,  30,  58,  82,   5,  40],\n",
       "       [ 84,  45,  62,  21,  39,  67,  69,  55,  94,  47],\n",
       "       [  7,  57,  60,  30,  93,  90,  67,  17,  27,  80],\n",
       "       [ 86,  92,  58,  83,  60,  64,  93,  14,  62,  85],\n",
       "       [ 31,  42,  58,  64,  27, 100,  70,  96,  99,  93],\n",
       "       [ 72,   2,  44,  32,  79,  51,   8,  54,  40, 100]])"
      ]
     },
     "execution_count": 81,
     "metadata": {},
     "output_type": "execute_result"
    }
   ],
   "source": [
    "a = np.array(np.random.randint(1, 101, 100)).reshape(10, 10)\n",
    "a"
   ]
  },
  {
   "cell_type": "markdown",
   "metadata": {
    "id": "CRKiFPKoo64r"
   },
   "source": [
    "7. Замените максимальный элемент матрицы на ноль."
   ]
  },
  {
   "cell_type": "code",
   "execution_count": 89,
   "metadata": {
    "id": "Z8_TRbhNpCCQ"
   },
   "outputs": [
    {
     "data": {
      "text/plain": [
       "array([94])"
      ]
     },
     "execution_count": 89,
     "metadata": {},
     "output_type": "execute_result"
    }
   ],
   "source": [
    "# ваш код здесьa\n",
    "a[a == a.max()] = 0\n",
    "a[a == a.max()] \n"
   ]
  },
  {
   "cell_type": "markdown",
   "metadata": {
    "id": "uWij1Utbo9Li"
   },
   "source": [
    "8. Отнимите среднее из каждой строки в матрице."
   ]
  },
  {
   "cell_type": "code",
   "execution_count": 92,
   "metadata": {
    "id": "R4ra66HNpCf7"
   },
   "outputs": [],
   "source": [
    "# ваш код здесь\n",
    "a = a - a.mean()"
   ]
  },
  {
   "cell_type": "code",
   "execution_count": 93,
   "metadata": {},
   "outputs": [
    {
     "data": {
      "text/plain": [
       "array([[-19., -41.,  10.,  -1.,  -5.,  36., -45.,  38.,  23., -49.],\n",
       "       [ 35.,  -4.,  36., -27.,   8.,   7., -17.,  26.,  35.,  42.],\n",
       "       [ -4., -18.,  22., -30.,  -4., -11.,  -3., -46., -28., -16.],\n",
       "       [ 34.,   2., -49., -45.,  37.,  -9.,   5., -21., -39.,  34.],\n",
       "       [ 14.,  22., -46.,  22.,  -6., -19.,   9.,  33., -44.,  -9.],\n",
       "       [ 35.,  -4.,  13., -28., -10.,  18.,  20.,   6.,  45.,  -2.],\n",
       "       [-42.,   8.,  11., -19.,  44.,  41.,  18., -32., -22.,  31.],\n",
       "       [ 37.,  43.,   9.,  34.,  11.,  15.,  44., -35.,  13.,  36.],\n",
       "       [-18.,  -7.,   9.,  15., -22., -49.,  21., -49., -49.,  44.],\n",
       "       [ 23., -47.,  -5., -17.,  30.,   2., -41.,   5.,  -9., -49.]])"
      ]
     },
     "execution_count": 93,
     "metadata": {},
     "output_type": "execute_result"
    }
   ],
   "source": [
    "a"
   ]
  },
  {
   "cell_type": "markdown",
   "metadata": {
    "id": "Rv5b6eNto-yK"
   },
   "source": [
    "9. Посчитайте сумму по последним двум осям."
   ]
  },
  {
   "cell_type": "code",
   "execution_count": 119,
   "metadata": {
    "id": "qh-NFJc7pDGF"
   },
   "outputs": [
    {
     "data": {
      "text/plain": [
       "-150.0"
      ]
     },
     "execution_count": 119,
     "metadata": {},
     "output_type": "execute_result"
    }
   ],
   "source": [
    "# ваш код здесь\n",
    "a[:,7:9].sum()"
   ]
  },
  {
   "cell_type": "code",
   "execution_count": 120,
   "metadata": {},
   "outputs": [
    {
     "data": {
      "text/plain": [
       "array([[-19., -41.,  10.,  -1.,  -5.,  36., -45.,  38.,  23., -49.],\n",
       "       [ 35.,  -4.,  36., -27.,   8.,   7., -17.,  26.,  35.,  42.],\n",
       "       [ -4., -18.,  22., -30.,  -4., -11.,  -3., -46., -28., -16.],\n",
       "       [ 34.,   2., -49., -45.,  37.,  -9.,   5., -21., -39.,  34.],\n",
       "       [ 14.,  22., -46.,  22.,  -6., -19.,   9.,  33., -44.,  -9.],\n",
       "       [ 35.,  -4.,  13., -28., -10.,  18.,  20.,   6.,  45.,  -2.],\n",
       "       [-42.,   8.,  11., -19.,  44.,  41.,  18., -32., -22.,  31.],\n",
       "       [ 37.,  43.,   9.,  34.,  11.,  15.,  44., -35.,  13.,  36.],\n",
       "       [-18.,  -7.,   9.,  15., -22., -49.,  21., -49., -49.,  44.],\n",
       "       [ 23., -47.,  -5., -17.,  30.,   2., -41.,   5.,  -9., -49.]])"
      ]
     },
     "execution_count": 120,
     "metadata": {},
     "output_type": "execute_result"
    }
   ],
   "source": [
    "a"
   ]
  },
  {
   "cell_type": "markdown",
   "metadata": {
    "id": "-XWpSOtSpAHW"
   },
   "source": [
    "10. Поменяйте две строки в матрице."
   ]
  },
  {
   "cell_type": "code",
   "execution_count": 124,
   "metadata": {
    "id": "BKUANcMOpDrA"
   },
   "outputs": [
    {
     "data": {
      "text/plain": [
       "array([[-19., -41.,  10.,  -1.,  -5.,  36., -45.,  38.,  23., -49.],\n",
       "       [ 35.,  -4.,  36., -27.,   8.,   7., -17.,  26.,  35.,  42.],\n",
       "       [ -4., -18.,  22., -30.,  -4., -11.,  -3., -46., -28., -16.],\n",
       "       [ 34.,   2., -49., -45.,  37.,  -9.,   5., -21., -39.,  34.],\n",
       "       [  0.,   0.,   0.,   0.,   0.,   0.,   0.,   0.,   0.,   0.],\n",
       "       [  0.,   0.,   0.,   0.,   0.,   0.,   0.,   0.,   0.,   0.],\n",
       "       [-42.,   8.,  11., -19.,  44.,  41.,  18., -32., -22.,  31.],\n",
       "       [ 37.,  43.,   9.,  34.,  11.,  15.,  44., -35.,  13.,  36.],\n",
       "       [-18.,  -7.,   9.,  15., -22., -49.,  21., -49., -49.,  44.],\n",
       "       [ 23., -47.,  -5., -17.,  30.,   2., -41.,   5.,  -9., -49.]])"
      ]
     },
     "execution_count": 124,
     "metadata": {},
     "output_type": "execute_result"
    }
   ],
   "source": [
    "# ваш код здесь\n",
    "a[4:6,] = 0\n",
    "a"
   ]
  },
  {
   "cell_type": "markdown",
   "metadata": {
    "id": "8zWUuIOL_jyo"
   },
   "source": [
    "|"
   ]
  },
  {
   "cell_type": "markdown",
   "metadata": {
    "id": "MSbNR9zl_lYv"
   },
   "source": [
    "|"
   ]
  },
  {
   "cell_type": "markdown",
   "metadata": {
    "id": "gmfCAgrM_lla"
   },
   "source": [
    "|"
   ]
  },
  {
   "cell_type": "markdown",
   "metadata": {
    "id": "_tASN9BU_l1S"
   },
   "source": [
    "|"
   ]
  },
  {
   "cell_type": "markdown",
   "metadata": {
    "id": "FL2Y-tPf_mBi"
   },
   "source": [
    "|"
   ]
  },
  {
   "cell_type": "markdown",
   "metadata": {
    "id": "LBda-jeb_mW9"
   },
   "source": [
    "|"
   ]
  },
  {
   "cell_type": "markdown",
   "metadata": {
    "id": "KqA6kmoN_mhI"
   },
   "source": [
    "|"
   ]
  },
  {
   "cell_type": "markdown",
   "metadata": {
    "id": "R8XwscHm_mp6"
   },
   "source": [
    "|"
   ]
  },
  {
   "cell_type": "markdown",
   "metadata": {
    "id": "LnTVMDp5_mzc"
   },
   "source": [
    "|"
   ]
  },
  {
   "cell_type": "markdown",
   "metadata": {
    "id": "YeI2QEV3_m8H"
   },
   "source": [
    "|"
   ]
  },
  {
   "cell_type": "markdown",
   "metadata": {
    "id": "vxm8mpkt_nF5"
   },
   "source": [
    "|"
   ]
  },
  {
   "cell_type": "markdown",
   "metadata": {
    "id": "NCTsTOXN_WQs"
   },
   "source": [
    "## Решения"
   ]
  },
  {
   "cell_type": "code",
   "execution_count": null,
   "metadata": {
    "id": "q9Z82X366oRv"
   },
   "outputs": [],
   "source": [
    "import numpy as np"
   ]
  },
  {
   "cell_type": "markdown",
   "metadata": {
    "id": "iknT6tu_7pZw"
   },
   "source": [
    "1. Создать вектор размера 10, заполненный нулями, но пятый элемент которого равен 1."
   ]
  },
  {
   "cell_type": "code",
   "execution_count": null,
   "metadata": {
    "colab": {
     "base_uri": "https://localhost:8080/"
    },
    "executionInfo": {
     "elapsed": 7,
     "status": "ok",
     "timestamp": 1657537505829,
     "user": {
      "displayName": "Маргарита Широбокова",
      "userId": "15867443346324107010"
     },
     "user_tz": -240
    },
    "id": "ctuIc2GG7qlo",
    "outputId": "861675ba-431e-4e46-8e74-01f3578ca81a"
   },
   "outputs": [
    {
     "data": {
      "text/plain": [
       "array([0., 0., 0., 0., 0., 1., 0., 0., 0., 0.])"
      ]
     },
     "execution_count": 7,
     "metadata": {},
     "output_type": "execute_result"
    }
   ],
   "source": [
    "A = np.zeros(10)\n",
    "A[5] = 1\n",
    "A"
   ]
  },
  {
   "cell_type": "markdown",
   "metadata": {
    "id": "EDMBbDhO70Ul"
   },
   "source": [
    "2. Создать вектор со значениями от 10 до 49."
   ]
  },
  {
   "cell_type": "code",
   "execution_count": null,
   "metadata": {
    "colab": {
     "base_uri": "https://localhost:8080/"
    },
    "executionInfo": {
     "elapsed": 363,
     "status": "ok",
     "timestamp": 1657537531255,
     "user": {
      "displayName": "Маргарита Широбокова",
      "userId": "15867443346324107010"
     },
     "user_tz": -240
    },
    "id": "JWlCwL-l70on",
    "outputId": "18f3a435-96c2-4034-c93b-463facb739e9"
   },
   "outputs": [
    {
     "data": {
      "text/plain": [
       "array([10, 11, 12, 13, 14, 15, 16, 17, 18, 19, 20, 21, 22, 23, 24, 25, 26,\n",
       "       27, 28, 29, 30, 31, 32, 33, 34, 35, 36, 37, 38, 39, 40, 41, 42, 43,\n",
       "       44, 45, 46, 47, 48, 49])"
      ]
     },
     "execution_count": 8,
     "metadata": {},
     "output_type": "execute_result"
    }
   ],
   "source": [
    "A = np.arange(10, 50)\n",
    "A"
   ]
  },
  {
   "cell_type": "markdown",
   "metadata": {
    "id": "IbN4_30O75Hg"
   },
   "source": [
    "3. Создать матрицу (двумерный массив) 3x3 со значениями от 0 до 8."
   ]
  },
  {
   "cell_type": "code",
   "execution_count": null,
   "metadata": {
    "colab": {
     "base_uri": "https://localhost:8080/"
    },
    "executionInfo": {
     "elapsed": 9,
     "status": "ok",
     "timestamp": 1657537575969,
     "user": {
      "displayName": "Маргарита Широбокова",
      "userId": "15867443346324107010"
     },
     "user_tz": -240
    },
    "id": "SIWP9HQF76lC",
    "outputId": "d1e671bc-47ea-4bf1-eec4-a173f15b3d68"
   },
   "outputs": [
    {
     "data": {
      "text/plain": [
       "array([[0, 1, 2],\n",
       "       [3, 4, 5],\n",
       "       [6, 7, 8]])"
      ]
     },
     "execution_count": 10,
     "metadata": {},
     "output_type": "execute_result"
    }
   ],
   "source": [
    "A = np.arange(9)\n",
    "A = np.reshape(A, (3,3))\n",
    "A"
   ]
  },
  {
   "cell_type": "markdown",
   "metadata": {
    "id": "EoMuV2nG8FOS"
   },
   "source": [
    "4. Создать массив 3x3x3 со случайными значениями."
   ]
  },
  {
   "cell_type": "code",
   "execution_count": null,
   "metadata": {
    "colab": {
     "base_uri": "https://localhost:8080/"
    },
    "executionInfo": {
     "elapsed": 356,
     "status": "ok",
     "timestamp": 1657537684506,
     "user": {
      "displayName": "Маргарита Широбокова",
      "userId": "15867443346324107010"
     },
     "user_tz": -240
    },
    "id": "7-p8nLyd8Mml",
    "outputId": "417598a0-0434-4b09-ad28-003d2282d207"
   },
   "outputs": [
    {
     "data": {
      "text/plain": [
       "array([[[-0.41336332,  0.24282681, -0.42799157],\n",
       "        [ 2.19514652, -0.08845199, -0.26187101],\n",
       "        [ 0.65486936,  1.58429859,  0.61049483]],\n",
       "\n",
       "       [[ 3.31091876,  0.31353579, -1.03678795],\n",
       "        [-0.03668153,  0.94854215, -0.34772407],\n",
       "        [-0.64978004, -0.04614266, -0.6312112 ]],\n",
       "\n",
       "       [[ 1.7907814 ,  0.04389523, -1.46941623],\n",
       "        [ 0.03594945, -0.62600865,  2.43020817],\n",
       "        [ 0.44822002,  1.57768507,  3.36214885]]])"
      ]
     },
     "execution_count": 11,
     "metadata": {},
     "output_type": "execute_result"
    }
   ],
   "source": [
    "A = np.random.randn(27)\n",
    "A = np.reshape(A, (3,3,3)) # не бойтесь брать размерность больше - сам функционал не меняется\n",
    "A"
   ]
  },
  {
   "cell_type": "markdown",
   "metadata": {
    "id": "R-AhCiqH7bVT"
   },
   "source": [
    "5. Создать матрицу 10x10 с 0 внутри и 1 на границах."
   ]
  },
  {
   "cell_type": "code",
   "execution_count": null,
   "metadata": {
    "colab": {
     "base_uri": "https://localhost:8080/"
    },
    "executionInfo": {
     "elapsed": 7,
     "status": "ok",
     "timestamp": 1657537442490,
     "user": {
      "displayName": "Маргарита Широбокова",
      "userId": "15867443346324107010"
     },
     "user_tz": -240
    },
    "id": "_F5CaZnr6oUE",
    "outputId": "3b2c082d-348f-4b9b-af31-7fe1258dacce"
   },
   "outputs": [
    {
     "data": {
      "text/plain": [
       "array([[1., 1., 1., 1., 1., 1., 1., 1., 1., 1.],\n",
       "       [1., 0., 0., 0., 0., 0., 0., 0., 0., 1.],\n",
       "       [1., 0., 0., 0., 0., 0., 0., 0., 0., 1.],\n",
       "       [1., 0., 0., 0., 0., 0., 0., 0., 0., 1.],\n",
       "       [1., 0., 0., 0., 0., 0., 0., 0., 0., 1.],\n",
       "       [1., 0., 0., 0., 0., 0., 0., 0., 0., 1.],\n",
       "       [1., 0., 0., 0., 0., 0., 0., 0., 0., 1.],\n",
       "       [1., 0., 0., 0., 0., 0., 0., 0., 0., 1.],\n",
       "       [1., 0., 0., 0., 0., 0., 0., 0., 0., 1.],\n",
       "       [1., 1., 1., 1., 1., 1., 1., 1., 1., 1.]])"
      ]
     },
     "execution_count": 3,
     "metadata": {},
     "output_type": "execute_result"
    }
   ],
   "source": [
    "A = np.ones([10,10])\n",
    "A [1:-1, 1:-1] = 0\n",
    "A"
   ]
  },
  {
   "cell_type": "markdown",
   "metadata": {
    "id": "l7W2brBF83_0"
   },
   "source": [
    "6. Создать матрицы  5x3 и 3x2 со случайными значениями и перемножить их."
   ]
  },
  {
   "cell_type": "code",
   "execution_count": null,
   "metadata": {
    "colab": {
     "base_uri": "https://localhost:8080/"
    },
    "executionInfo": {
     "elapsed": 396,
     "status": "ok",
     "timestamp": 1657537839438,
     "user": {
      "displayName": "Маргарита Широбокова",
      "userId": "15867443346324107010"
     },
     "user_tz": -240
    },
    "id": "EOoWON8N84iO",
    "outputId": "e98c6234-fd0a-43a7-9d5f-a8ab9cf4ee39"
   },
   "outputs": [
    {
     "data": {
      "text/plain": [
       "array([[-0.01722222, -1.41473573, -0.20005992],\n",
       "       [ 0.42191763, -0.04913356,  0.45401592],\n",
       "       [-0.18640826, -0.75528913, -1.0106215 ],\n",
       "       [ 0.68122794,  0.28916362,  1.21614174],\n",
       "       [ 0.32067439, -0.29316138,  1.45262855]])"
      ]
     },
     "execution_count": 13,
     "metadata": {},
     "output_type": "execute_result"
    }
   ],
   "source": [
    "A = np.random.randn(15)\n",
    "A = np.reshape(A, (5,3))\n",
    "A"
   ]
  },
  {
   "cell_type": "code",
   "execution_count": null,
   "metadata": {
    "colab": {
     "base_uri": "https://localhost:8080/"
    },
    "executionInfo": {
     "elapsed": 3,
     "status": "ok",
     "timestamp": 1657537840532,
     "user": {
      "displayName": "Маргарита Широбокова",
      "userId": "15867443346324107010"
     },
     "user_tz": -240
    },
    "id": "hW7CkzfF9ACg",
    "outputId": "2ae48874-8277-4b38-8396-4bbd82f2dad3"
   },
   "outputs": [
    {
     "data": {
      "text/plain": [
       "array([[ 1.08424121,  0.31301797],\n",
       "       [-0.24584297, -0.66979163],\n",
       "       [ 0.26456723,  0.15239299]])"
      ]
     },
     "execution_count": 14,
     "metadata": {},
     "output_type": "execute_result"
    }
   ],
   "source": [
    "B = np.random.randn(6)\n",
    "B = np.reshape(B, (3,2))\n",
    "B"
   ]
  },
  {
   "cell_type": "markdown",
   "metadata": {
    "id": "vkYRl6VS9JRl"
   },
   "source": [
    "В задании не сказано, как перемножать матрицы: поэлементно или согласно правилам матричного перемножения. Так как поэлементное умножение вызовет ошибку, потому что размерности матриц не согласуются, выполним матричное перемножение:"
   ]
  },
  {
   "cell_type": "code",
   "execution_count": null,
   "metadata": {
    "colab": {
     "base_uri": "https://localhost:8080/"
    },
    "executionInfo": {
     "elapsed": 10,
     "status": "ok",
     "timestamp": 1657537934804,
     "user": {
      "displayName": "Маргарита Широбокова",
      "userId": "15867443346324107010"
     },
     "user_tz": -240
    },
    "id": "7alu0yYD9Eqy",
    "outputId": "6ff8d7e3-25f1-4594-e9ea-424b7be75ecb"
   },
   "outputs": [
    {
     "data": {
      "text/plain": [
       "array([[ 0.2762005 ,  0.91169955],\n",
       "       [ 0.58965736,  0.23416589],\n",
       "       [-0.28380633,  0.29352557],\n",
       "       [ 0.98927781,  0.20488868],\n",
       "       [ 0.80407797,  0.51810428]])"
      ]
     },
     "execution_count": 17,
     "metadata": {},
     "output_type": "execute_result"
    }
   ],
   "source": [
    "np.dot(A, B)"
   ]
  },
  {
   "cell_type": "markdown",
   "metadata": {
    "id": "sDqzM6Gi9elx"
   },
   "source": [
    "|"
   ]
  },
  {
   "cell_type": "markdown",
   "metadata": {
    "id": "zFXChdIy8qAz"
   },
   "source": [
    "Создать массив 10x10 со значениями от 1 до 100."
   ]
  },
  {
   "cell_type": "code",
   "execution_count": null,
   "metadata": {
    "colab": {
     "base_uri": "https://localhost:8080/"
    },
    "executionInfo": {
     "elapsed": 77,
     "status": "ok",
     "timestamp": 1657538241343,
     "user": {
      "displayName": "Маргарита Широбокова",
      "userId": "15867443346324107010"
     },
     "user_tz": -240
    },
    "id": "TF6bOPfD8t36",
    "outputId": "d8bbfc0a-2ffc-488c-d507-797802680069"
   },
   "outputs": [
    {
     "data": {
      "text/plain": [
       "array([[  1,   2,   3,   4,   5,   6,   7,   8,   9,  10],\n",
       "       [ 11,  12,  13,  14,  15,  16,  17,  18,  19,  20],\n",
       "       [ 21,  22,  23,  24,  25,  26,  27,  28,  29,  30],\n",
       "       [ 31,  32,  33,  34,  35,  36,  37,  38,  39,  40],\n",
       "       [ 41,  42,  43,  44,  45,  46,  47,  48,  49,  50],\n",
       "       [ 51,  52,  53,  54,  55,  56,  57,  58,  59,  60],\n",
       "       [ 61,  62,  63,  64,  65,  66,  67,  68,  69,  70],\n",
       "       [ 71,  72,  73,  74,  75,  76,  77,  78,  79,  80],\n",
       "       [ 81,  82,  83,  84,  85,  86,  87,  88,  89,  90],\n",
       "       [ 91,  92,  93,  94,  95,  96,  97,  98,  99, 100]])"
      ]
     },
     "execution_count": 29,
     "metadata": {},
     "output_type": "execute_result"
    }
   ],
   "source": [
    "A = np.arange(1,101)\n",
    "A = np.reshape(A, (10,10))\n",
    "A"
   ]
  },
  {
   "cell_type": "markdown",
   "metadata": {
    "id": "KXgPmQ5e9yF6"
   },
   "source": [
    "7. Заменить максимальный элемент матрицы на ноль."
   ]
  },
  {
   "cell_type": "code",
   "execution_count": null,
   "metadata": {
    "colab": {
     "base_uri": "https://localhost:8080/"
    },
    "executionInfo": {
     "elapsed": 361,
     "status": "ok",
     "timestamp": 1657538261961,
     "user": {
      "displayName": "Маргарита Широбокова",
      "userId": "15867443346324107010"
     },
     "user_tz": -240
    },
    "id": "ojAZ3iXo9yeO",
    "outputId": "38b4f2e3-30f3-4206-9df4-e9daa11661e9"
   },
   "outputs": [
    {
     "data": {
      "text/plain": [
       "array([[ 1,  2,  3,  4,  5,  6,  7,  8,  9, 10],\n",
       "       [11, 12, 13, 14, 15, 16, 17, 18, 19, 20],\n",
       "       [21, 22, 23, 24, 25, 26, 27, 28, 29, 30],\n",
       "       [31, 32, 33, 34, 35, 36, 37, 38, 39, 40],\n",
       "       [41, 42, 43, 44, 45, 46, 47, 48, 49, 50],\n",
       "       [51, 52, 53, 54, 55, 56, 57, 58, 59, 60],\n",
       "       [61, 62, 63, 64, 65, 66, 67, 68, 69, 70],\n",
       "       [71, 72, 73, 74, 75, 76, 77, 78, 79, 80],\n",
       "       [81, 82, 83, 84, 85, 86, 87, 88, 89, 90],\n",
       "       [91, 92, 93, 94, 95, 96, 97, 98, 99,  0]])"
      ]
     },
     "execution_count": 30,
     "metadata": {},
     "output_type": "execute_result"
    }
   ],
   "source": [
    "A[A == A.max()] = 0\n",
    "A"
   ]
  },
  {
   "cell_type": "markdown",
   "metadata": {
    "id": "wlIBv7eB-Cm9"
   },
   "source": [
    "8. Отнять среднее из каждой строки в матрице."
   ]
  },
  {
   "cell_type": "code",
   "execution_count": null,
   "metadata": {
    "colab": {
     "base_uri": "https://localhost:8080/"
    },
    "executionInfo": {
     "elapsed": 419,
     "status": "ok",
     "timestamp": 1657538265630,
     "user": {
      "displayName": "Маргарита Широбокова",
      "userId": "15867443346324107010"
     },
     "user_tz": -240
    },
    "id": "L85bzdwN-CKE",
    "outputId": "7d76080f-929e-478e-fd72-e6d5b1c1a3db"
   },
   "outputs": [
    {
     "data": {
      "text/plain": [
       "array([[-48.5, -47.5, -46.5, -45.5, -44.5, -43.5, -42.5, -41.5, -40.5,\n",
       "        -39.5],\n",
       "       [-38.5, -37.5, -36.5, -35.5, -34.5, -33.5, -32.5, -31.5, -30.5,\n",
       "        -29.5],\n",
       "       [-28.5, -27.5, -26.5, -25.5, -24.5, -23.5, -22.5, -21.5, -20.5,\n",
       "        -19.5],\n",
       "       [-18.5, -17.5, -16.5, -15.5, -14.5, -13.5, -12.5, -11.5, -10.5,\n",
       "         -9.5],\n",
       "       [ -8.5,  -7.5,  -6.5,  -5.5,  -4.5,  -3.5,  -2.5,  -1.5,  -0.5,\n",
       "          0.5],\n",
       "       [  1.5,   2.5,   3.5,   4.5,   5.5,   6.5,   7.5,   8.5,   9.5,\n",
       "         10.5],\n",
       "       [ 11.5,  12.5,  13.5,  14.5,  15.5,  16.5,  17.5,  18.5,  19.5,\n",
       "         20.5],\n",
       "       [ 21.5,  22.5,  23.5,  24.5,  25.5,  26.5,  27.5,  28.5,  29.5,\n",
       "         30.5],\n",
       "       [ 31.5,  32.5,  33.5,  34.5,  35.5,  36.5,  37.5,  38.5,  39.5,\n",
       "         40.5],\n",
       "       [ 41.5,  42.5,  43.5,  44.5,  45.5,  46.5,  47.5,  48.5,  49.5,\n",
       "        -49.5]])"
      ]
     },
     "execution_count": 31,
     "metadata": {},
     "output_type": "execute_result"
    }
   ],
   "source": [
    "A - A.mean()"
   ]
  },
  {
   "cell_type": "markdown",
   "metadata": {
    "id": "O3rzv1Lk-KUN"
   },
   "source": [
    "9. Посчитать сумму по последним двум строкам."
   ]
  },
  {
   "cell_type": "code",
   "execution_count": null,
   "metadata": {
    "colab": {
     "base_uri": "https://localhost:8080/"
    },
    "executionInfo": {
     "elapsed": 9,
     "status": "ok",
     "timestamp": 1657538302814,
     "user": {
      "displayName": "Маргарита Широбокова",
      "userId": "15867443346324107010"
     },
     "user_tz": -240
    },
    "id": "0eoFBghh-Kyc",
    "outputId": "017bab20-346e-42db-99da-d19a94f37c16"
   },
   "outputs": [
    {
     "data": {
      "text/plain": [
       "array([855, 855])"
      ]
     },
     "execution_count": 36,
     "metadata": {},
     "output_type": "execute_result"
    }
   ],
   "source": [
    "A[-2:].sum(axis=1)"
   ]
  },
  {
   "cell_type": "markdown",
   "metadata": {
    "id": "-YfWoJp2-5Wt"
   },
   "source": [
    "10. Поменять две строки в матрице."
   ]
  },
  {
   "cell_type": "markdown",
   "metadata": {
    "id": "sc-zENX7_ELX"
   },
   "source": [
    "Поменяем первую и последнюю строки:"
   ]
  },
  {
   "cell_type": "code",
   "execution_count": null,
   "metadata": {
    "colab": {
     "base_uri": "https://localhost:8080/"
    },
    "executionInfo": {
     "elapsed": 9,
     "status": "ok",
     "timestamp": 1657538411240,
     "user": {
      "displayName": "Маргарита Широбокова",
      "userId": "15867443346324107010"
     },
     "user_tz": -240
    },
    "id": "qEQP1lor_HSE",
    "outputId": "f3cd5736-a30e-47ed-b891-846a06be92db"
   },
   "outputs": [
    {
     "data": {
      "text/plain": [
       "array([[91, 92, 93, 94, 95, 96, 97, 98, 99,  0],\n",
       "       [11, 12, 13, 14, 15, 16, 17, 18, 19, 20],\n",
       "       [21, 22, 23, 24, 25, 26, 27, 28, 29, 30],\n",
       "       [31, 32, 33, 34, 35, 36, 37, 38, 39, 40],\n",
       "       [41, 42, 43, 44, 45, 46, 47, 48, 49, 50],\n",
       "       [51, 52, 53, 54, 55, 56, 57, 58, 59, 60],\n",
       "       [61, 62, 63, 64, 65, 66, 67, 68, 69, 70],\n",
       "       [71, 72, 73, 74, 75, 76, 77, 78, 79, 80],\n",
       "       [81, 82, 83, 84, 85, 86, 87, 88, 89, 90],\n",
       "       [ 1,  2,  3,  4,  5,  6,  7,  8,  9, 10]])"
      ]
     },
     "execution_count": 39,
     "metadata": {},
     "output_type": "execute_result"
    }
   ],
   "source": [
    "A[[0,9]] = A[[9,0]]\n",
    "A"
   ]
  },
  {
   "cell_type": "code",
   "execution_count": null,
   "metadata": {
    "id": "MptKTCvRPd9C"
   },
   "outputs": [],
   "source": []
  }
 ],
 "metadata": {
  "colab": {
   "collapsed_sections": [],
   "name": "Модуль 7. Практическая работа.ipynb",
   "provenance": []
  },
  "kernelspec": {
   "display_name": "Python 3",
   "language": "python",
   "name": "python3"
  },
  "language_info": {
   "codemirror_mode": {
    "name": "ipython",
    "version": 3
   },
   "file_extension": ".py",
   "mimetype": "text/x-python",
   "name": "python",
   "nbconvert_exporter": "python",
   "pygments_lexer": "ipython3",
   "version": "3.8.8"
  }
 },
 "nbformat": 4,
 "nbformat_minor": 1
}
