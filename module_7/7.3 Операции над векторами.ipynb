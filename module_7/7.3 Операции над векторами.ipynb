{
 "cells": [
  {
   "cell_type": "code",
   "execution_count": 1,
   "metadata": {
    "executionInfo": {
     "elapsed": 4,
     "status": "ok",
     "timestamp": 1658062337592,
     "user": {
      "displayName": "Валерия Чурсина",
      "userId": "11879646019918403150"
     },
     "user_tz": -180
    },
    "id": "j2O1RkMPMo0W"
   },
   "outputs": [],
   "source": [
    "import numpy as np"
   ]
  },
  {
   "cell_type": "code",
   "execution_count": 2,
   "metadata": {
    "executionInfo": {
     "elapsed": 338,
     "status": "ok",
     "timestamp": 1658062377758,
     "user": {
      "displayName": "Валерия Чурсина",
      "userId": "11879646019918403150"
     },
     "user_tz": -180
    },
    "id": "Te1p7ZVIN4iw"
   },
   "outputs": [],
   "source": [
    "A = np.array([[1, 2], [3, 4]])\n",
    "B = np.array([[5, 6], [7, 8]])"
   ]
  },
  {
   "cell_type": "code",
   "execution_count": 3,
   "metadata": {
    "colab": {
     "base_uri": "https://localhost:8080/"
    },
    "executionInfo": {
     "elapsed": 342,
     "status": "ok",
     "timestamp": 1658062380962,
     "user": {
      "displayName": "Валерия Чурсина",
      "userId": "11879646019918403150"
     },
     "user_tz": -180
    },
    "id": "akj49mFHOBWZ",
    "outputId": "de6b2c25-0392-47d4-f685-05b874dee8b2"
   },
   "outputs": [
    {
     "data": {
      "text/plain": [
       "array([[1, 2],\n",
       "       [3, 4]])"
      ]
     },
     "execution_count": 3,
     "metadata": {},
     "output_type": "execute_result"
    }
   ],
   "source": [
    "A"
   ]
  },
  {
   "cell_type": "code",
   "execution_count": 4,
   "metadata": {
    "colab": {
     "base_uri": "https://localhost:8080/"
    },
    "executionInfo": {
     "elapsed": 4,
     "status": "ok",
     "timestamp": 1658062383614,
     "user": {
      "displayName": "Валерия Чурсина",
      "userId": "11879646019918403150"
     },
     "user_tz": -180
    },
    "id": "q2ekMmpQOB9w",
    "outputId": "e3aa4199-51a2-41a8-f064-93191ea8ea9a"
   },
   "outputs": [
    {
     "data": {
      "text/plain": [
       "array([[5, 6],\n",
       "       [7, 8]])"
      ]
     },
     "execution_count": 4,
     "metadata": {},
     "output_type": "execute_result"
    }
   ],
   "source": [
    "B"
   ]
  },
  {
   "cell_type": "code",
   "execution_count": 5,
   "metadata": {
    "colab": {
     "base_uri": "https://localhost:8080/"
    },
    "executionInfo": {
     "elapsed": 322,
     "status": "ok",
     "timestamp": 1658062497699,
     "user": {
      "displayName": "Валерия Чурсина",
      "userId": "11879646019918403150"
     },
     "user_tz": -180
    },
    "id": "rgKqNrdFObwG",
    "outputId": "4ce08012-13cd-449e-aa89-caad8389d60c"
   },
   "outputs": [
    {
     "data": {
      "text/plain": [
       "array([[1, 2, 5, 6],\n",
       "       [3, 4, 7, 8]])"
      ]
     },
     "execution_count": 5,
     "metadata": {},
     "output_type": "execute_result"
    }
   ],
   "source": [
    "np.hstack([A, B])"
   ]
  },
  {
   "cell_type": "code",
   "execution_count": 6,
   "metadata": {
    "colab": {
     "base_uri": "https://localhost:8080/"
    },
    "executionInfo": {
     "elapsed": 320,
     "status": "ok",
     "timestamp": 1658062522970,
     "user": {
      "displayName": "Валерия Чурсина",
      "userId": "11879646019918403150"
     },
     "user_tz": -180
    },
    "id": "m8aHcrm1OhWk",
    "outputId": "3e4d2a1c-ead0-4e0b-c389-c40c7ab31643"
   },
   "outputs": [
    {
     "data": {
      "text/plain": [
       "array([[1, 2],\n",
       "       [3, 4],\n",
       "       [5, 6],\n",
       "       [7, 8]])"
      ]
     },
     "execution_count": 6,
     "metadata": {},
     "output_type": "execute_result"
    }
   ],
   "source": [
    "np.vstack([A, B])"
   ]
  },
  {
   "cell_type": "code",
   "execution_count": 7,
   "metadata": {
    "executionInfo": {
     "elapsed": 326,
     "status": "ok",
     "timestamp": 1658062582132,
     "user": {
      "displayName": "Валерия Чурсина",
      "userId": "11879646019918403150"
     },
     "user_tz": -180
    },
    "id": "jsOcP_ndOoUb"
   },
   "outputs": [],
   "source": [
    "A = np.array([[1], [2], [3], [4]])\n",
    "B = np.array([[5], [6], [7], [8]])"
   ]
  },
  {
   "cell_type": "code",
   "execution_count": 8,
   "metadata": {
    "colab": {
     "base_uri": "https://localhost:8080/"
    },
    "executionInfo": {
     "elapsed": 324,
     "status": "ok",
     "timestamp": 1658062588288,
     "user": {
      "displayName": "Валерия Чурсина",
      "userId": "11879646019918403150"
     },
     "user_tz": -180
    },
    "id": "xVoxUu8GOzeb",
    "outputId": "95ba3ab0-76c6-4f8b-8b22-ac3d526917e4"
   },
   "outputs": [
    {
     "data": {
      "text/plain": [
       "array([[1],\n",
       "       [2],\n",
       "       [3],\n",
       "       [4]])"
      ]
     },
     "execution_count": 8,
     "metadata": {},
     "output_type": "execute_result"
    }
   ],
   "source": [
    "A"
   ]
  },
  {
   "cell_type": "code",
   "execution_count": 9,
   "metadata": {
    "colab": {
     "base_uri": "https://localhost:8080/"
    },
    "executionInfo": {
     "elapsed": 416,
     "status": "ok",
     "timestamp": 1658062594251,
     "user": {
      "displayName": "Валерия Чурсина",
      "userId": "11879646019918403150"
     },
     "user_tz": -180
    },
    "id": "PPtL1Qa4O1Eu",
    "outputId": "6053c007-0382-4fc1-f0fa-9b5ad280776e"
   },
   "outputs": [
    {
     "data": {
      "text/plain": [
       "array([[5],\n",
       "       [6],\n",
       "       [7],\n",
       "       [8]])"
      ]
     },
     "execution_count": 9,
     "metadata": {},
     "output_type": "execute_result"
    }
   ],
   "source": [
    "B"
   ]
  },
  {
   "cell_type": "code",
   "execution_count": 10,
   "metadata": {
    "colab": {
     "base_uri": "https://localhost:8080/"
    },
    "executionInfo": {
     "elapsed": 347,
     "status": "ok",
     "timestamp": 1658062610629,
     "user": {
      "displayName": "Валерия Чурсина",
      "userId": "11879646019918403150"
     },
     "user_tz": -180
    },
    "id": "cvuyDH02O3F7",
    "outputId": "027295da-7197-4c03-eeb7-b71980ceda26"
   },
   "outputs": [
    {
     "data": {
      "text/plain": [
       "array([[1, 5],\n",
       "       [2, 6],\n",
       "       [3, 7],\n",
       "       [4, 8]])"
      ]
     },
     "execution_count": 10,
     "metadata": {},
     "output_type": "execute_result"
    }
   ],
   "source": [
    "np.hstack([A, B])"
   ]
  },
  {
   "cell_type": "code",
   "execution_count": 11,
   "metadata": {
    "colab": {
     "base_uri": "https://localhost:8080/"
    },
    "executionInfo": {
     "elapsed": 357,
     "status": "ok",
     "timestamp": 1658062631150,
     "user": {
      "displayName": "Валерия Чурсина",
      "userId": "11879646019918403150"
     },
     "user_tz": -180
    },
    "id": "uplr6h4KO8ay",
    "outputId": "1d02f9e0-d93c-4016-fda2-0a4d2de8cf5e"
   },
   "outputs": [
    {
     "data": {
      "text/plain": [
       "array([[1],\n",
       "       [2],\n",
       "       [3],\n",
       "       [4],\n",
       "       [5],\n",
       "       [6],\n",
       "       [7],\n",
       "       [8]])"
      ]
     },
     "execution_count": 11,
     "metadata": {},
     "output_type": "execute_result"
    }
   ],
   "source": [
    "np.vstack([A, B])"
   ]
  },
  {
   "cell_type": "code",
   "execution_count": 12,
   "metadata": {
    "executionInfo": {
     "elapsed": 396,
     "status": "ok",
     "timestamp": 1658062702993,
     "user": {
      "displayName": "Валерия Чурсина",
      "userId": "11879646019918403150"
     },
     "user_tz": -180
    },
    "id": "JZXLCFVQPKiy"
   },
   "outputs": [],
   "source": [
    "A = np.array([1, 2, 3, 4])\n",
    "B = np.array([5, 6, 7, 8])"
   ]
  },
  {
   "cell_type": "code",
   "execution_count": 13,
   "metadata": {
    "colab": {
     "base_uri": "https://localhost:8080/"
    },
    "executionInfo": {
     "elapsed": 415,
     "status": "ok",
     "timestamp": 1658062716088,
     "user": {
      "displayName": "Валерия Чурсина",
      "userId": "11879646019918403150"
     },
     "user_tz": -180
    },
    "id": "k4C2cPtIPQ41",
    "outputId": "f91a32e6-6b1d-49a5-e998-0a9f1108b3f1"
   },
   "outputs": [
    {
     "data": {
      "text/plain": [
       "array([1, 2, 3, 4, 5, 6, 7, 8])"
      ]
     },
     "execution_count": 13,
     "metadata": {},
     "output_type": "execute_result"
    }
   ],
   "source": [
    "np.hstack([A, B])"
   ]
  },
  {
   "cell_type": "code",
   "execution_count": 14,
   "metadata": {
    "colab": {
     "base_uri": "https://localhost:8080/"
    },
    "executionInfo": {
     "elapsed": 4,
     "status": "ok",
     "timestamp": 1658062730217,
     "user": {
      "displayName": "Валерия Чурсина",
      "userId": "11879646019918403150"
     },
     "user_tz": -180
    },
    "id": "zvXqbRUWPVPl",
    "outputId": "5f0ca0c8-5b32-4a64-99e5-79d50cb70aa9"
   },
   "outputs": [
    {
     "data": {
      "text/plain": [
       "array([[1, 2, 3, 4],\n",
       "       [5, 6, 7, 8]])"
      ]
     },
     "execution_count": 14,
     "metadata": {},
     "output_type": "execute_result"
    }
   ],
   "source": [
    "np.vstack([A, B])"
   ]
  },
  {
   "cell_type": "code",
   "execution_count": 15,
   "metadata": {
    "executionInfo": {
     "elapsed": 412,
     "status": "ok",
     "timestamp": 1658062770324,
     "user": {
      "displayName": "Валерия Чурсина",
      "userId": "11879646019918403150"
     },
     "user_tz": -180
    },
    "id": "yjvOKweuPcuP"
   },
   "outputs": [],
   "source": [
    "A = np.array([1, 2, 3, 4, 5, 6, 7, 8])"
   ]
  },
  {
   "cell_type": "code",
   "execution_count": 16,
   "metadata": {
    "colab": {
     "base_uri": "https://localhost:8080/"
    },
    "executionInfo": {
     "elapsed": 451,
     "status": "ok",
     "timestamp": 1658062775681,
     "user": {
      "displayName": "Валерия Чурсина",
      "userId": "11879646019918403150"
     },
     "user_tz": -180
    },
    "id": "vB94cSNlPhjj",
    "outputId": "1a2956ca-6a28-44a9-eb61-0873b237ac3e"
   },
   "outputs": [
    {
     "data": {
      "text/plain": [
       "array([1, 2, 3, 4, 5, 6, 7, 8])"
      ]
     },
     "execution_count": 16,
     "metadata": {},
     "output_type": "execute_result"
    }
   ],
   "source": [
    "A"
   ]
  },
  {
   "cell_type": "code",
   "execution_count": 17,
   "metadata": {
    "colab": {
     "base_uri": "https://localhost:8080/"
    },
    "executionInfo": {
     "elapsed": 4,
     "status": "ok",
     "timestamp": 1658062809105,
     "user": {
      "displayName": "Валерия Чурсина",
      "userId": "11879646019918403150"
     },
     "user_tz": -180
    },
    "id": "mlokUC8OPoi0",
    "outputId": "0a15889d-7dc2-4c69-ed12-c7891151a071"
   },
   "outputs": [
    {
     "data": {
      "text/plain": [
       "[array([1, 2, 3, 4]), array([5, 6, 7, 8])]"
      ]
     },
     "execution_count": 17,
     "metadata": {},
     "output_type": "execute_result"
    }
   ],
   "source": [
    "np.hsplit(A, 2)"
   ]
  },
  {
   "cell_type": "code",
   "execution_count": 18,
   "metadata": {
    "colab": {
     "base_uri": "https://localhost:8080/",
     "height": 381
    },
    "executionInfo": {
     "elapsed": 9,
     "status": "error",
     "timestamp": 1658062847707,
     "user": {
      "displayName": "Валерия Чурсина",
      "userId": "11879646019918403150"
     },
     "user_tz": -180
    },
    "id": "OWrnyigmPxH4",
    "outputId": "f39e8001-4b14-47aa-c2a8-78881e47ceb6"
   },
   "outputs": [
    {
     "ename": "ValueError",
     "evalue": "array split does not result in an equal division",
     "output_type": "error",
     "traceback": [
      "\u001b[1;31m---------------------------------------------------------------------------\u001b[0m",
      "\u001b[1;31mValueError\u001b[0m                                Traceback (most recent call last)",
      "\u001b[1;32m<ipython-input-18-aac7863fb3f3>\u001b[0m in \u001b[0;36m<module>\u001b[1;34m\u001b[0m\n\u001b[1;32m----> 1\u001b[1;33m \u001b[0mnp\u001b[0m\u001b[1;33m.\u001b[0m\u001b[0mhsplit\u001b[0m\u001b[1;33m(\u001b[0m\u001b[0mA\u001b[0m\u001b[1;33m,\u001b[0m \u001b[1;36m3\u001b[0m\u001b[1;33m)\u001b[0m\u001b[1;33m\u001b[0m\u001b[1;33m\u001b[0m\u001b[0m\n\u001b[0m",
      "\u001b[1;32m<__array_function__ internals>\u001b[0m in \u001b[0;36mhsplit\u001b[1;34m(*args, **kwargs)\u001b[0m\n",
      "\u001b[1;32mD:\\Entertaments\\anaconda3\\lib\\site-packages\\numpy\\lib\\shape_base.py\u001b[0m in \u001b[0;36mhsplit\u001b[1;34m(ary, indices_or_sections)\u001b[0m\n\u001b[0;32m    940\u001b[0m         \u001b[1;32mreturn\u001b[0m \u001b[0msplit\u001b[0m\u001b[1;33m(\u001b[0m\u001b[0mary\u001b[0m\u001b[1;33m,\u001b[0m \u001b[0mindices_or_sections\u001b[0m\u001b[1;33m,\u001b[0m \u001b[1;36m1\u001b[0m\u001b[1;33m)\u001b[0m\u001b[1;33m\u001b[0m\u001b[1;33m\u001b[0m\u001b[0m\n\u001b[0;32m    941\u001b[0m     \u001b[1;32melse\u001b[0m\u001b[1;33m:\u001b[0m\u001b[1;33m\u001b[0m\u001b[1;33m\u001b[0m\u001b[0m\n\u001b[1;32m--> 942\u001b[1;33m         \u001b[1;32mreturn\u001b[0m \u001b[0msplit\u001b[0m\u001b[1;33m(\u001b[0m\u001b[0mary\u001b[0m\u001b[1;33m,\u001b[0m \u001b[0mindices_or_sections\u001b[0m\u001b[1;33m,\u001b[0m \u001b[1;36m0\u001b[0m\u001b[1;33m)\u001b[0m\u001b[1;33m\u001b[0m\u001b[1;33m\u001b[0m\u001b[0m\n\u001b[0m\u001b[0;32m    943\u001b[0m \u001b[1;33m\u001b[0m\u001b[0m\n\u001b[0;32m    944\u001b[0m \u001b[1;33m\u001b[0m\u001b[0m\n",
      "\u001b[1;32m<__array_function__ internals>\u001b[0m in \u001b[0;36msplit\u001b[1;34m(*args, **kwargs)\u001b[0m\n",
      "\u001b[1;32mD:\\Entertaments\\anaconda3\\lib\\site-packages\\numpy\\lib\\shape_base.py\u001b[0m in \u001b[0;36msplit\u001b[1;34m(ary, indices_or_sections, axis)\u001b[0m\n\u001b[0;32m    870\u001b[0m         \u001b[0mN\u001b[0m \u001b[1;33m=\u001b[0m \u001b[0mary\u001b[0m\u001b[1;33m.\u001b[0m\u001b[0mshape\u001b[0m\u001b[1;33m[\u001b[0m\u001b[0maxis\u001b[0m\u001b[1;33m]\u001b[0m\u001b[1;33m\u001b[0m\u001b[1;33m\u001b[0m\u001b[0m\n\u001b[0;32m    871\u001b[0m         \u001b[1;32mif\u001b[0m \u001b[0mN\u001b[0m \u001b[1;33m%\u001b[0m \u001b[0msections\u001b[0m\u001b[1;33m:\u001b[0m\u001b[1;33m\u001b[0m\u001b[1;33m\u001b[0m\u001b[0m\n\u001b[1;32m--> 872\u001b[1;33m             raise ValueError(\n\u001b[0m\u001b[0;32m    873\u001b[0m                 'array split does not result in an equal division') from None\n\u001b[0;32m    874\u001b[0m     \u001b[1;32mreturn\u001b[0m \u001b[0marray_split\u001b[0m\u001b[1;33m(\u001b[0m\u001b[0mary\u001b[0m\u001b[1;33m,\u001b[0m \u001b[0mindices_or_sections\u001b[0m\u001b[1;33m,\u001b[0m \u001b[0maxis\u001b[0m\u001b[1;33m)\u001b[0m\u001b[1;33m\u001b[0m\u001b[1;33m\u001b[0m\u001b[0m\n",
      "\u001b[1;31mValueError\u001b[0m: array split does not result in an equal division"
     ]
    }
   ],
   "source": [
    "np.hsplit(A, 3)"
   ]
  },
  {
   "cell_type": "code",
   "execution_count": null,
   "metadata": {
    "colab": {
     "base_uri": "https://localhost:8080/"
    },
    "executionInfo": {
     "elapsed": 349,
     "status": "ok",
     "timestamp": 1658062869884,
     "user": {
      "displayName": "Валерия Чурсина",
      "userId": "11879646019918403150"
     },
     "user_tz": -180
    },
    "id": "GzO47h55P2gb",
    "outputId": "a34c5d5a-f265-429b-8ab2-413d2ce373fd"
   },
   "outputs": [],
   "source": [
    "np.hsplit(A, 4)"
   ]
  },
  {
   "cell_type": "code",
   "execution_count": 19,
   "metadata": {
    "colab": {
     "base_uri": "https://localhost:8080/",
     "height": 322
    },
    "executionInfo": {
     "elapsed": 7,
     "status": "error",
     "timestamp": 1658062896354,
     "user": {
      "displayName": "Валерия Чурсина",
      "userId": "11879646019918403150"
     },
     "user_tz": -180
    },
    "id": "uCieMJ55P9sF",
    "outputId": "d838d04d-14e3-4ba5-d5e7-83996156b66c"
   },
   "outputs": [
    {
     "ename": "ValueError",
     "evalue": "vsplit only works on arrays of 2 or more dimensions",
     "output_type": "error",
     "traceback": [
      "\u001b[1;31m---------------------------------------------------------------------------\u001b[0m",
      "\u001b[1;31mValueError\u001b[0m                                Traceback (most recent call last)",
      "\u001b[1;32m<ipython-input-19-8b65fc87e96b>\u001b[0m in \u001b[0;36m<module>\u001b[1;34m\u001b[0m\n\u001b[1;32m----> 1\u001b[1;33m \u001b[0mnp\u001b[0m\u001b[1;33m.\u001b[0m\u001b[0mvsplit\u001b[0m\u001b[1;33m(\u001b[0m\u001b[0mA\u001b[0m\u001b[1;33m,\u001b[0m \u001b[1;36m2\u001b[0m\u001b[1;33m)\u001b[0m\u001b[1;33m\u001b[0m\u001b[1;33m\u001b[0m\u001b[0m\n\u001b[0m",
      "\u001b[1;32m<__array_function__ internals>\u001b[0m in \u001b[0;36mvsplit\u001b[1;34m(*args, **kwargs)\u001b[0m\n",
      "\u001b[1;32mD:\\Entertaments\\anaconda3\\lib\\site-packages\\numpy\\lib\\shape_base.py\u001b[0m in \u001b[0;36mvsplit\u001b[1;34m(ary, indices_or_sections)\u001b[0m\n\u001b[0;32m    988\u001b[0m     \"\"\"\n\u001b[0;32m    989\u001b[0m     \u001b[1;32mif\u001b[0m \u001b[0m_nx\u001b[0m\u001b[1;33m.\u001b[0m\u001b[0mndim\u001b[0m\u001b[1;33m(\u001b[0m\u001b[0mary\u001b[0m\u001b[1;33m)\u001b[0m \u001b[1;33m<\u001b[0m \u001b[1;36m2\u001b[0m\u001b[1;33m:\u001b[0m\u001b[1;33m\u001b[0m\u001b[1;33m\u001b[0m\u001b[0m\n\u001b[1;32m--> 990\u001b[1;33m         \u001b[1;32mraise\u001b[0m \u001b[0mValueError\u001b[0m\u001b[1;33m(\u001b[0m\u001b[1;34m'vsplit only works on arrays of 2 or more dimensions'\u001b[0m\u001b[1;33m)\u001b[0m\u001b[1;33m\u001b[0m\u001b[1;33m\u001b[0m\u001b[0m\n\u001b[0m\u001b[0;32m    991\u001b[0m     \u001b[1;32mreturn\u001b[0m \u001b[0msplit\u001b[0m\u001b[1;33m(\u001b[0m\u001b[0mary\u001b[0m\u001b[1;33m,\u001b[0m \u001b[0mindices_or_sections\u001b[0m\u001b[1;33m,\u001b[0m \u001b[1;36m0\u001b[0m\u001b[1;33m)\u001b[0m\u001b[1;33m\u001b[0m\u001b[1;33m\u001b[0m\u001b[0m\n\u001b[0;32m    992\u001b[0m \u001b[1;33m\u001b[0m\u001b[0m\n",
      "\u001b[1;31mValueError\u001b[0m: vsplit only works on arrays of 2 or more dimensions"
     ]
    }
   ],
   "source": [
    "np.vsplit(A, 2)"
   ]
  },
  {
   "cell_type": "code",
   "execution_count": 23,
   "metadata": {},
   "outputs": [
    {
     "data": {
      "text/plain": [
       "array([[1],\n",
       "       [2],\n",
       "       [3],\n",
       "       [4],\n",
       "       [5],\n",
       "       [6],\n",
       "       [7],\n",
       "       [8]])"
      ]
     },
     "execution_count": 23,
     "metadata": {},
     "output_type": "execute_result"
    }
   ],
   "source": [
    "A"
   ]
  },
  {
   "cell_type": "code",
   "execution_count": 20,
   "metadata": {
    "colab": {
     "base_uri": "https://localhost:8080/"
    },
    "executionInfo": {
     "elapsed": 378,
     "status": "ok",
     "timestamp": 1658062909735,
     "user": {
      "displayName": "Валерия Чурсина",
      "userId": "11879646019918403150"
     },
     "user_tz": -180
    },
    "id": "F3Cyz2EHQBUf",
    "outputId": "69400d92-8b85-4484-d734-406ca382cbbe"
   },
   "outputs": [
    {
     "data": {
      "text/plain": [
       "(8,)"
      ]
     },
     "execution_count": 20,
     "metadata": {},
     "output_type": "execute_result"
    }
   ],
   "source": [
    "A.shape"
   ]
  },
  {
   "cell_type": "code",
   "execution_count": 24,
   "metadata": {
    "colab": {
     "base_uri": "https://localhost:8080/"
    },
    "executionInfo": {
     "elapsed": 4,
     "status": "ok",
     "timestamp": 1658062932038,
     "user": {
      "displayName": "Валерия Чурсина",
      "userId": "11879646019918403150"
     },
     "user_tz": -180
    },
    "id": "avWJDq6aQFv7",
    "outputId": "f78642c0-8a10-4588-f2ac-1bbac0572b84"
   },
   "outputs": [
    {
     "data": {
      "text/plain": [
       "array([[1],\n",
       "       [2],\n",
       "       [3],\n",
       "       [4],\n",
       "       [5],\n",
       "       [6],\n",
       "       [7],\n",
       "       [8]])"
      ]
     },
     "execution_count": 24,
     "metadata": {},
     "output_type": "execute_result"
    }
   ],
   "source": [
    "A = A.reshape(8,1)\n",
    "A"
   ]
  },
  {
   "cell_type": "code",
   "execution_count": 25,
   "metadata": {
    "colab": {
     "base_uri": "https://localhost:8080/"
    },
    "executionInfo": {
     "elapsed": 5,
     "status": "ok",
     "timestamp": 1658062969391,
     "user": {
      "displayName": "Валерия Чурсина",
      "userId": "11879646019918403150"
     },
     "user_tz": -180
    },
    "id": "CzfxRGkCQPDN",
    "outputId": "f561b8d2-4ad6-429b-b9f6-bfeafa085412"
   },
   "outputs": [
    {
     "data": {
      "text/plain": [
       "[array([[1],\n",
       "        [2],\n",
       "        [3],\n",
       "        [4]]),\n",
       " array([[5],\n",
       "        [6],\n",
       "        [7],\n",
       "        [8]])]"
      ]
     },
     "execution_count": 25,
     "metadata": {},
     "output_type": "execute_result"
    }
   ],
   "source": [
    "np.vsplit(A, 2)"
   ]
  },
  {
   "cell_type": "code",
   "execution_count": 26,
   "metadata": {
    "colab": {
     "base_uri": "https://localhost:8080/"
    },
    "executionInfo": {
     "elapsed": 412,
     "status": "ok",
     "timestamp": 1658063006337,
     "user": {
      "displayName": "Валерия Чурсина",
      "userId": "11879646019918403150"
     },
     "user_tz": -180
    },
    "id": "q0dved3OQT04",
    "outputId": "3de1187c-01eb-4b86-eb2e-f590a94ea6a3"
   },
   "outputs": [
    {
     "data": {
      "text/plain": [
       "array([[1, 2],\n",
       "       [3, 4],\n",
       "       [5, 6],\n",
       "       [7, 8]])"
      ]
     },
     "execution_count": 26,
     "metadata": {},
     "output_type": "execute_result"
    }
   ],
   "source": [
    "A = np.array([[1, 2], [3, 4], [5,6], [7,8]])\n",
    "A"
   ]
  },
  {
   "cell_type": "code",
   "execution_count": 27,
   "metadata": {
    "colab": {
     "base_uri": "https://localhost:8080/"
    },
    "executionInfo": {
     "elapsed": 354,
     "status": "ok",
     "timestamp": 1658063021569,
     "user": {
      "displayName": "Валерия Чурсина",
      "userId": "11879646019918403150"
     },
     "user_tz": -180
    },
    "id": "bE1voN7VQbr3",
    "outputId": "3b7fe71d-22d0-4f4c-f83c-d024fa683326"
   },
   "outputs": [
    {
     "data": {
      "text/plain": [
       "[array([[1],\n",
       "        [3],\n",
       "        [5],\n",
       "        [7]]),\n",
       " array([[2],\n",
       "        [4],\n",
       "        [6],\n",
       "        [8]])]"
      ]
     },
     "execution_count": 27,
     "metadata": {},
     "output_type": "execute_result"
    }
   ],
   "source": [
    "np.hsplit(A, 2)"
   ]
  },
  {
   "cell_type": "code",
   "execution_count": 28,
   "metadata": {
    "colab": {
     "base_uri": "https://localhost:8080/"
    },
    "executionInfo": {
     "elapsed": 3,
     "status": "ok",
     "timestamp": 1658063035944,
     "user": {
      "displayName": "Валерия Чурсина",
      "userId": "11879646019918403150"
     },
     "user_tz": -180
    },
    "id": "UZzGhdS6QfXH",
    "outputId": "7fd6d586-ff59-4b42-a253-ed01dc5dbde8"
   },
   "outputs": [
    {
     "data": {
      "text/plain": [
       "[array([[1, 2],\n",
       "        [3, 4]]),\n",
       " array([[5, 6],\n",
       "        [7, 8]])]"
      ]
     },
     "execution_count": 28,
     "metadata": {},
     "output_type": "execute_result"
    }
   ],
   "source": [
    "np.vsplit(A, 2)"
   ]
  },
  {
   "cell_type": "code",
   "execution_count": 29,
   "metadata": {
    "executionInfo": {
     "elapsed": 440,
     "status": "ok",
     "timestamp": 1658063129970,
     "user": {
      "displayName": "Валерия Чурсина",
      "userId": "11879646019918403150"
     },
     "user_tz": -180
    },
    "id": "hxWqLy0xQxaq"
   },
   "outputs": [],
   "source": [
    "A_list = [1, 2, 3, 4]\n",
    "A_np = np.array([1, 2, 3, 4])"
   ]
  },
  {
   "cell_type": "code",
   "execution_count": 30,
   "metadata": {
    "colab": {
     "base_uri": "https://localhost:8080/"
    },
    "executionInfo": {
     "elapsed": 4,
     "status": "ok",
     "timestamp": 1658063142330,
     "user": {
      "displayName": "Валерия Чурсина",
      "userId": "11879646019918403150"
     },
     "user_tz": -180
    },
    "id": "tqA6R51MQ6cY",
    "outputId": "c0cf040b-a3ea-4324-ec21-a3e075fbf325"
   },
   "outputs": [
    {
     "data": {
      "text/plain": [
       "[1, 2, 3, 4, 1, 2, 3, 4]"
      ]
     },
     "execution_count": 30,
     "metadata": {},
     "output_type": "execute_result"
    }
   ],
   "source": [
    "A_list * 2"
   ]
  },
  {
   "cell_type": "code",
   "execution_count": 31,
   "metadata": {
    "colab": {
     "base_uri": "https://localhost:8080/"
    },
    "executionInfo": {
     "elapsed": 4,
     "status": "ok",
     "timestamp": 1658063151139,
     "user": {
      "displayName": "Валерия Чурсина",
      "userId": "11879646019918403150"
     },
     "user_tz": -180
    },
    "id": "XkVKn5S1Q9Af",
    "outputId": "3b7a928b-0f29-4dbb-c5ef-6858ccc16deb"
   },
   "outputs": [
    {
     "data": {
      "text/plain": [
       "array([2, 4, 6, 8])"
      ]
     },
     "execution_count": 31,
     "metadata": {},
     "output_type": "execute_result"
    }
   ],
   "source": [
    "A_np * 2"
   ]
  },
  {
   "cell_type": "code",
   "execution_count": 32,
   "metadata": {
    "colab": {
     "base_uri": "https://localhost:8080/"
    },
    "executionInfo": {
     "elapsed": 3,
     "status": "ok",
     "timestamp": 1658063209756,
     "user": {
      "displayName": "Валерия Чурсина",
      "userId": "11879646019918403150"
     },
     "user_tz": -180
    },
    "id": "MzlJf48RRJi7",
    "outputId": "21b691c5-9de7-41eb-d58e-4cd11ada99ea"
   },
   "outputs": [
    {
     "data": {
      "text/plain": [
       "[2, 4, 6, 8]"
      ]
     },
     "execution_count": 32,
     "metadata": {},
     "output_type": "execute_result"
    }
   ],
   "source": [
    "[i*2 for i in A_list]"
   ]
  },
  {
   "cell_type": "code",
   "execution_count": 33,
   "metadata": {
    "executionInfo": {
     "elapsed": 447,
     "status": "ok",
     "timestamp": 1658063417193,
     "user": {
      "displayName": "Валерия Чурсина",
      "userId": "11879646019918403150"
     },
     "user_tz": -180
    },
    "id": "w9qBe_uOR7-t"
   },
   "outputs": [],
   "source": [
    "A = np.array([1, 2, 3, 4])"
   ]
  },
  {
   "cell_type": "code",
   "execution_count": 34,
   "metadata": {
    "colab": {
     "base_uri": "https://localhost:8080/"
    },
    "executionInfo": {
     "elapsed": 4,
     "status": "ok",
     "timestamp": 1658063433619,
     "user": {
      "displayName": "Валерия Чурсина",
      "userId": "11879646019918403150"
     },
     "user_tz": -180
    },
    "id": "vGG_UTpiSCP8",
    "outputId": "812f5a38-7698-4f31-d64b-40b965cc5ac5"
   },
   "outputs": [
    {
     "data": {
      "text/plain": [
       "array([-1, -2, -3, -4])"
      ]
     },
     "execution_count": 34,
     "metadata": {},
     "output_type": "execute_result"
    }
   ],
   "source": [
    "- A"
   ]
  },
  {
   "cell_type": "code",
   "execution_count": 35,
   "metadata": {
    "colab": {
     "base_uri": "https://localhost:8080/"
    },
    "executionInfo": {
     "elapsed": 403,
     "status": "ok",
     "timestamp": 1658063441435,
     "user": {
      "displayName": "Валерия Чурсина",
      "userId": "11879646019918403150"
     },
     "user_tz": -180
    },
    "id": "pU1uKXe8SD_x",
    "outputId": "28330e04-afd2-44b6-ba74-14d5865b6285"
   },
   "outputs": [
    {
     "data": {
      "text/plain": [
       "array([2, 3, 4, 5])"
      ]
     },
     "execution_count": 35,
     "metadata": {},
     "output_type": "execute_result"
    }
   ],
   "source": [
    "A+1"
   ]
  },
  {
   "cell_type": "code",
   "execution_count": 36,
   "metadata": {
    "colab": {
     "base_uri": "https://localhost:8080/"
    },
    "executionInfo": {
     "elapsed": 322,
     "status": "ok",
     "timestamp": 1658063448001,
     "user": {
      "displayName": "Валерия Чурсина",
      "userId": "11879646019918403150"
     },
     "user_tz": -180
    },
    "id": "YAq6quo1SFc9",
    "outputId": "de562b18-c3df-41e2-fbf7-dc97a099858a"
   },
   "outputs": [
    {
     "data": {
      "text/plain": [
       "array([2, 3, 4, 5])"
      ]
     },
     "execution_count": 36,
     "metadata": {},
     "output_type": "execute_result"
    }
   ],
   "source": [
    "1+A"
   ]
  },
  {
   "cell_type": "code",
   "execution_count": 37,
   "metadata": {
    "colab": {
     "base_uri": "https://localhost:8080/"
    },
    "executionInfo": {
     "elapsed": 4,
     "status": "ok",
     "timestamp": 1658063457711,
     "user": {
      "displayName": "Валерия Чурсина",
      "userId": "11879646019918403150"
     },
     "user_tz": -180
    },
    "id": "13Mn74xrSIE1",
    "outputId": "0b2b4970-5ce2-42f8-cb17-59ee34616711"
   },
   "outputs": [
    {
     "data": {
      "text/plain": [
       "array([0, 1, 2, 3])"
      ]
     },
     "execution_count": 37,
     "metadata": {},
     "output_type": "execute_result"
    }
   ],
   "source": [
    "A-1"
   ]
  },
  {
   "cell_type": "code",
   "execution_count": 38,
   "metadata": {
    "colab": {
     "base_uri": "https://localhost:8080/"
    },
    "executionInfo": {
     "elapsed": 410,
     "status": "ok",
     "timestamp": 1658063465900,
     "user": {
      "displayName": "Валерия Чурсина",
      "userId": "11879646019918403150"
     },
     "user_tz": -180
    },
    "id": "DIUpIIMgSJ7i",
    "outputId": "ea7e9d1e-ab08-4faf-c733-f9c91b102fd3"
   },
   "outputs": [
    {
     "data": {
      "text/plain": [
       "array([ 0, -1, -2, -3])"
      ]
     },
     "execution_count": 38,
     "metadata": {},
     "output_type": "execute_result"
    }
   ],
   "source": [
    "1-A"
   ]
  },
  {
   "cell_type": "code",
   "execution_count": 39,
   "metadata": {
    "colab": {
     "base_uri": "https://localhost:8080/"
    },
    "executionInfo": {
     "elapsed": 379,
     "status": "ok",
     "timestamp": 1658063479198,
     "user": {
      "displayName": "Валерия Чурсина",
      "userId": "11879646019918403150"
     },
     "user_tz": -180
    },
    "id": "JnErNW2dSNHV",
    "outputId": "ec216fff-9bf2-4a54-ed29-f283290179f3"
   },
   "outputs": [
    {
     "data": {
      "text/plain": [
       "array([2, 4, 6, 8])"
      ]
     },
     "execution_count": 39,
     "metadata": {},
     "output_type": "execute_result"
    }
   ],
   "source": [
    "A*2"
   ]
  },
  {
   "cell_type": "code",
   "execution_count": 40,
   "metadata": {
    "colab": {
     "base_uri": "https://localhost:8080/"
    },
    "executionInfo": {
     "elapsed": 417,
     "status": "ok",
     "timestamp": 1658063485956,
     "user": {
      "displayName": "Валерия Чурсина",
      "userId": "11879646019918403150"
     },
     "user_tz": -180
    },
    "id": "V8UHnyuTSOu8",
    "outputId": "44f6f7df-8707-49c2-a438-f4e5d32245ba"
   },
   "outputs": [
    {
     "data": {
      "text/plain": [
       "array([2, 4, 6, 8])"
      ]
     },
     "execution_count": 40,
     "metadata": {},
     "output_type": "execute_result"
    }
   ],
   "source": [
    "2*A"
   ]
  },
  {
   "cell_type": "code",
   "execution_count": 41,
   "metadata": {
    "colab": {
     "base_uri": "https://localhost:8080/"
    },
    "executionInfo": {
     "elapsed": 6,
     "status": "ok",
     "timestamp": 1658063494076,
     "user": {
      "displayName": "Валерия Чурсина",
      "userId": "11879646019918403150"
     },
     "user_tz": -180
    },
    "id": "-xn8gn7OSQ4I",
    "outputId": "cc690edf-88ec-4ce6-f423-84f4f7aabc3e"
   },
   "outputs": [
    {
     "data": {
      "text/plain": [
       "array([0.5, 1. , 1.5, 2. ])"
      ]
     },
     "execution_count": 41,
     "metadata": {},
     "output_type": "execute_result"
    }
   ],
   "source": [
    "A/2"
   ]
  },
  {
   "cell_type": "code",
   "execution_count": 42,
   "metadata": {
    "colab": {
     "base_uri": "https://localhost:8080/"
    },
    "executionInfo": {
     "elapsed": 407,
     "status": "ok",
     "timestamp": 1658063502730,
     "user": {
      "displayName": "Валерия Чурсина",
      "userId": "11879646019918403150"
     },
     "user_tz": -180
    },
    "id": "a3_LI5eUSSnn",
    "outputId": "e0cd7cc2-d72e-45f3-8898-afd835d8d06c"
   },
   "outputs": [
    {
     "data": {
      "text/plain": [
       "array([8.        , 4.        , 2.66666667, 2.        ])"
      ]
     },
     "execution_count": 42,
     "metadata": {},
     "output_type": "execute_result"
    }
   ],
   "source": [
    "8/A"
   ]
  },
  {
   "cell_type": "code",
   "execution_count": 43,
   "metadata": {
    "colab": {
     "base_uri": "https://localhost:8080/"
    },
    "executionInfo": {
     "elapsed": 413,
     "status": "ok",
     "timestamp": 1658063515017,
     "user": {
      "displayName": "Валерия Чурсина",
      "userId": "11879646019918403150"
     },
     "user_tz": -180
    },
    "id": "nXP38F1-SVee",
    "outputId": "673b4ff6-f463-4204-be6f-55ec2fd85691"
   },
   "outputs": [
    {
     "data": {
      "text/plain": [
       "array([0, 1, 1, 2], dtype=int32)"
      ]
     },
     "execution_count": 43,
     "metadata": {},
     "output_type": "execute_result"
    }
   ],
   "source": [
    "A//2"
   ]
  },
  {
   "cell_type": "code",
   "execution_count": 44,
   "metadata": {
    "colab": {
     "base_uri": "https://localhost:8080/"
    },
    "executionInfo": {
     "elapsed": 413,
     "status": "ok",
     "timestamp": 1658063527500,
     "user": {
      "displayName": "Валерия Чурсина",
      "userId": "11879646019918403150"
     },
     "user_tz": -180
    },
    "id": "bYIu8LBCSX4H",
    "outputId": "cf5f6477-effd-4e18-c17f-d18a64e51abe"
   },
   "outputs": [
    {
     "data": {
      "text/plain": [
       "array([8, 4, 2, 2], dtype=int32)"
      ]
     },
     "execution_count": 44,
     "metadata": {},
     "output_type": "execute_result"
    }
   ],
   "source": [
    "8//A"
   ]
  },
  {
   "cell_type": "code",
   "execution_count": 45,
   "metadata": {
    "colab": {
     "base_uri": "https://localhost:8080/"
    },
    "executionInfo": {
     "elapsed": 445,
     "status": "ok",
     "timestamp": 1658063539476,
     "user": {
      "displayName": "Валерия Чурсина",
      "userId": "11879646019918403150"
     },
     "user_tz": -180
    },
    "id": "MWCmazV9SblT",
    "outputId": "2f7dca78-73ad-4b21-b0b4-95f7924d7c0d"
   },
   "outputs": [
    {
     "data": {
      "text/plain": [
       "array([1, 0, 1, 0], dtype=int32)"
      ]
     },
     "execution_count": 45,
     "metadata": {},
     "output_type": "execute_result"
    }
   ],
   "source": [
    "A%2"
   ]
  },
  {
   "cell_type": "code",
   "execution_count": 46,
   "metadata": {
    "colab": {
     "base_uri": "https://localhost:8080/"
    },
    "executionInfo": {
     "elapsed": 410,
     "status": "ok",
     "timestamp": 1658063549196,
     "user": {
      "displayName": "Валерия Чурсина",
      "userId": "11879646019918403150"
     },
     "user_tz": -180
    },
    "id": "Iil6SY38SeGp",
    "outputId": "c14ce84f-7043-48d5-d27e-d8b53c17d0ab"
   },
   "outputs": [
    {
     "data": {
      "text/plain": [
       "array([ 1,  4,  9, 16], dtype=int32)"
      ]
     },
     "execution_count": 46,
     "metadata": {},
     "output_type": "execute_result"
    }
   ],
   "source": [
    "A**2"
   ]
  },
  {
   "cell_type": "code",
   "execution_count": 47,
   "metadata": {
    "colab": {
     "base_uri": "https://localhost:8080/"
    },
    "executionInfo": {
     "elapsed": 517,
     "status": "ok",
     "timestamp": 1658063561578,
     "user": {
      "displayName": "Валерия Чурсина",
      "userId": "11879646019918403150"
     },
     "user_tz": -180
    },
    "id": "WDo6HrJYSg1t",
    "outputId": "c45425cf-9712-4270-b950-8d5c769d0d26"
   },
   "outputs": [
    {
     "data": {
      "text/plain": [
       "array([ 2,  4,  8, 16], dtype=int32)"
      ]
     },
     "execution_count": 47,
     "metadata": {},
     "output_type": "execute_result"
    }
   ],
   "source": [
    "2**A"
   ]
  },
  {
   "cell_type": "code",
   "execution_count": 48,
   "metadata": {
    "executionInfo": {
     "elapsed": 413,
     "status": "ok",
     "timestamp": 1658063625127,
     "user": {
      "displayName": "Валерия Чурсина",
      "userId": "11879646019918403150"
     },
     "user_tz": -180
    },
    "id": "oqzA2lbFSrhZ"
   },
   "outputs": [],
   "source": [
    "A = np.array([1, 2, 3, 4])\n",
    "B = np.array([5, 6, 7, 8])"
   ]
  },
  {
   "cell_type": "code",
   "execution_count": 49,
   "metadata": {
    "colab": {
     "base_uri": "https://localhost:8080/"
    },
    "executionInfo": {
     "elapsed": 339,
     "status": "ok",
     "timestamp": 1658063632535,
     "user": {
      "displayName": "Валерия Чурсина",
      "userId": "11879646019918403150"
     },
     "user_tz": -180
    },
    "id": "y0kZGaAnSye7",
    "outputId": "4c634af7-d05f-4073-d1d7-9bc3ebdd25b4"
   },
   "outputs": [
    {
     "data": {
      "text/plain": [
       "array([ 6,  8, 10, 12])"
      ]
     },
     "execution_count": 49,
     "metadata": {},
     "output_type": "execute_result"
    }
   ],
   "source": [
    "A+B"
   ]
  },
  {
   "cell_type": "code",
   "execution_count": 50,
   "metadata": {
    "colab": {
     "base_uri": "https://localhost:8080/"
    },
    "executionInfo": {
     "elapsed": 3,
     "status": "ok",
     "timestamp": 1658063645207,
     "user": {
      "displayName": "Валерия Чурсина",
      "userId": "11879646019918403150"
     },
     "user_tz": -180
    },
    "id": "r_6RC-MOS14o",
    "outputId": "9e969245-15c9-432d-c79e-96f2e90a55ba"
   },
   "outputs": [
    {
     "data": {
      "text/plain": [
       "array([-4, -4, -4, -4])"
      ]
     },
     "execution_count": 50,
     "metadata": {},
     "output_type": "execute_result"
    }
   ],
   "source": [
    "A-B"
   ]
  },
  {
   "cell_type": "code",
   "execution_count": 51,
   "metadata": {
    "colab": {
     "base_uri": "https://localhost:8080/"
    },
    "executionInfo": {
     "elapsed": 404,
     "status": "ok",
     "timestamp": 1658063659915,
     "user": {
      "displayName": "Валерия Чурсина",
      "userId": "11879646019918403150"
     },
     "user_tz": -180
    },
    "id": "y1ERC5hVS4-Y",
    "outputId": "062e4dd0-b4ff-4168-8c39-710bbe116774"
   },
   "outputs": [
    {
     "data": {
      "text/plain": [
       "array([ 5, 12, 21, 32])"
      ]
     },
     "execution_count": 51,
     "metadata": {},
     "output_type": "execute_result"
    }
   ],
   "source": [
    "A*B"
   ]
  },
  {
   "cell_type": "code",
   "execution_count": 52,
   "metadata": {
    "colab": {
     "base_uri": "https://localhost:8080/"
    },
    "executionInfo": {
     "elapsed": 322,
     "status": "ok",
     "timestamp": 1658063670373,
     "user": {
      "displayName": "Валерия Чурсина",
      "userId": "11879646019918403150"
     },
     "user_tz": -180
    },
    "id": "3ArHfhOHS7p-",
    "outputId": "a98a342c-ee67-417c-d4c3-9b27f9728c22"
   },
   "outputs": [
    {
     "data": {
      "text/plain": [
       "array([0.2       , 0.33333333, 0.42857143, 0.5       ])"
      ]
     },
     "execution_count": 52,
     "metadata": {},
     "output_type": "execute_result"
    }
   ],
   "source": [
    "A/B"
   ]
  },
  {
   "cell_type": "code",
   "execution_count": 53,
   "metadata": {
    "colab": {
     "base_uri": "https://localhost:8080/"
    },
    "executionInfo": {
     "elapsed": 359,
     "status": "ok",
     "timestamp": 1658063679667,
     "user": {
      "displayName": "Валерия Чурсина",
      "userId": "11879646019918403150"
     },
     "user_tz": -180
    },
    "id": "CGFlvHsLS-B4",
    "outputId": "58224351-cc92-4266-b94e-a113b8a6648e"
   },
   "outputs": [
    {
     "data": {
      "text/plain": [
       "array([0, 0, 0, 0], dtype=int32)"
      ]
     },
     "execution_count": 53,
     "metadata": {},
     "output_type": "execute_result"
    }
   ],
   "source": [
    "A//B"
   ]
  },
  {
   "cell_type": "code",
   "execution_count": 58,
   "metadata": {},
   "outputs": [],
   "source": [
    "B = np.array([4,5, 6, 7])"
   ]
  },
  {
   "cell_type": "code",
   "execution_count": 59,
   "metadata": {
    "colab": {
     "base_uri": "https://localhost:8080/"
    },
    "executionInfo": {
     "elapsed": 412,
     "status": "ok",
     "timestamp": 1658063684887,
     "user": {
      "displayName": "Валерия Чурсина",
      "userId": "11879646019918403150"
     },
     "user_tz": -180
    },
    "id": "s2i2rLrLS_Z1",
    "outputId": "51e1c816-d47e-442a-f009-79847792fff4"
   },
   "outputs": [
    {
     "data": {
      "text/plain": [
       "array([1, 2, 3, 4], dtype=int32)"
      ]
     },
     "execution_count": 59,
     "metadata": {},
     "output_type": "execute_result"
    }
   ],
   "source": [
    "A%B"
   ]
  },
  {
   "cell_type": "code",
   "execution_count": 60,
   "metadata": {
    "colab": {
     "base_uri": "https://localhost:8080/"
    },
    "executionInfo": {
     "elapsed": 332,
     "status": "ok",
     "timestamp": 1658063692688,
     "user": {
      "displayName": "Валерия Чурсина",
      "userId": "11879646019918403150"
     },
     "user_tz": -180
    },
    "id": "SkHFcywzTA3t",
    "outputId": "8033feae-f9c8-4560-fa63-d2354946196f"
   },
   "outputs": [
    {
     "data": {
      "text/plain": [
       "array([    1,    32,   729, 16384], dtype=int32)"
      ]
     },
     "execution_count": 60,
     "metadata": {},
     "output_type": "execute_result"
    }
   ],
   "source": [
    "A**B"
   ]
  },
  {
   "cell_type": "code",
   "execution_count": 63,
   "metadata": {
    "colab": {
     "base_uri": "https://localhost:8080/",
     "height": 183
    },
    "executionInfo": {
     "elapsed": 7,
     "status": "error",
     "timestamp": 1658063717952,
     "user": {
      "displayName": "Валерия Чурсина",
      "userId": "11879646019918403150"
     },
     "user_tz": -180
    },
    "id": "IHuo8rjzTFCl",
    "outputId": "031ee316-7ad7-4cca-9886-d607113ed2e8"
   },
   "outputs": [
    {
     "data": {
      "text/plain": [
       "array([4, 5, 6, 7])"
      ]
     },
     "execution_count": 63,
     "metadata": {},
     "output_type": "execute_result"
    }
   ],
   "source": [
    "C = np.array([3])\n",
    "A+C"
   ]
  },
  {
   "cell_type": "code",
   "execution_count": 64,
   "metadata": {
    "executionInfo": {
     "elapsed": 359,
     "status": "ok",
     "timestamp": 1658063882877,
     "user": {
      "displayName": "Валерия Чурсина",
      "userId": "11879646019918403150"
     },
     "user_tz": -180
    },
    "id": "f2kyMt_uTN1u"
   },
   "outputs": [],
   "source": [
    "A = np.arange(0, 10, 2)\n",
    "B = np.arange(9, 0, -2)"
   ]
  },
  {
   "cell_type": "code",
   "execution_count": 65,
   "metadata": {
    "colab": {
     "base_uri": "https://localhost:8080/"
    },
    "executionInfo": {
     "elapsed": 466,
     "status": "ok",
     "timestamp": 1658063887993,
     "user": {
      "displayName": "Валерия Чурсина",
      "userId": "11879646019918403150"
     },
     "user_tz": -180
    },
    "id": "zhc9FhtfTxG0",
    "outputId": "ba5e1f65-9de5-4c90-8973-0bef5e1ab9cb"
   },
   "outputs": [
    {
     "data": {
      "text/plain": [
       "array([0, 2, 4, 6, 8])"
      ]
     },
     "execution_count": 65,
     "metadata": {},
     "output_type": "execute_result"
    }
   ],
   "source": [
    "A"
   ]
  },
  {
   "cell_type": "code",
   "execution_count": 66,
   "metadata": {
    "colab": {
     "base_uri": "https://localhost:8080/"
    },
    "executionInfo": {
     "elapsed": 5,
     "status": "ok",
     "timestamp": 1658063889907,
     "user": {
      "displayName": "Валерия Чурсина",
      "userId": "11879646019918403150"
     },
     "user_tz": -180
    },
    "id": "ou7JpOPOTxxy",
    "outputId": "53af243f-da29-4415-dff5-b982196bc641"
   },
   "outputs": [
    {
     "data": {
      "text/plain": [
       "array([9, 7, 5, 3, 1])"
      ]
     },
     "execution_count": 66,
     "metadata": {},
     "output_type": "execute_result"
    }
   ],
   "source": [
    "B"
   ]
  },
  {
   "cell_type": "code",
   "execution_count": 67,
   "metadata": {
    "colab": {
     "base_uri": "https://localhost:8080/"
    },
    "executionInfo": {
     "elapsed": 321,
     "status": "ok",
     "timestamp": 1658063899228,
     "user": {
      "displayName": "Валерия Чурсина",
      "userId": "11879646019918403150"
     },
     "user_tz": -180
    },
    "id": "yWP9zpR9TzEs",
    "outputId": "0c4f5e33-8691-4755-9b9c-d53980e240e2"
   },
   "outputs": [
    {
     "data": {
      "text/plain": [
       "array([9, 9, 9, 9, 9])"
      ]
     },
     "execution_count": 67,
     "metadata": {},
     "output_type": "execute_result"
    }
   ],
   "source": [
    "A+B"
   ]
  },
  {
   "cell_type": "code",
   "execution_count": null,
   "metadata": {},
   "outputs": [],
   "source": []
  }
 ],
 "metadata": {
  "colab": {
   "authorship_tag": "ABX9TyOFXK4vDyY7eOMK+OsMGX+a",
   "collapsed_sections": [],
   "name": "Операции над векторами.ipynb",
   "provenance": []
  },
  "kernelspec": {
   "display_name": "Python 3",
   "language": "python",
   "name": "python3"
  },
  "language_info": {
   "codemirror_mode": {
    "name": "ipython",
    "version": 3
   },
   "file_extension": ".py",
   "mimetype": "text/x-python",
   "name": "python",
   "nbconvert_exporter": "python",
   "pygments_lexer": "ipython3",
   "version": "3.8.8"
  }
 },
 "nbformat": 4,
 "nbformat_minor": 1
}
