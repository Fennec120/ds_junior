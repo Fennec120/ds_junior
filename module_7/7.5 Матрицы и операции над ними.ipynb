{
 "cells": [
  {
   "cell_type": "code",
   "execution_count": 1,
   "metadata": {
    "executionInfo": {
     "elapsed": 6,
     "status": "ok",
     "timestamp": 1658064846502,
     "user": {
      "displayName": "Валерия Чурсина",
      "userId": "11879646019918403150"
     },
     "user_tz": -180
    },
    "id": "Mbxdooh1XNwO"
   },
   "outputs": [],
   "source": [
    "import numpy as np"
   ]
  },
  {
   "cell_type": "code",
   "execution_count": 2,
   "metadata": {
    "executionInfo": {
     "elapsed": 238,
     "status": "ok",
     "timestamp": 1658064872009,
     "user": {
      "displayName": "Валерия Чурсина",
      "userId": "11879646019918403150"
     },
     "user_tz": -180
    },
    "id": "6ZNjp7b-Xc0Z"
   },
   "outputs": [],
   "source": [
    "A = np.array([[1, 2], [3, 4], [5, 6], [7, 8]])"
   ]
  },
  {
   "cell_type": "code",
   "execution_count": 3,
   "metadata": {
    "colab": {
     "base_uri": "https://localhost:8080/"
    },
    "executionInfo": {
     "elapsed": 7,
     "status": "ok",
     "timestamp": 1658064883188,
     "user": {
      "displayName": "Валерия Чурсина",
      "userId": "11879646019918403150"
     },
     "user_tz": -180
    },
    "id": "F4XDCSZzXkBl",
    "outputId": "a404624e-4ef5-43ff-b27f-0d754caac2ca"
   },
   "outputs": [
    {
     "data": {
      "text/plain": [
       "array([[11, 12],\n",
       "       [13, 14],\n",
       "       [15, 16],\n",
       "       [17, 18]])"
      ]
     },
     "execution_count": 3,
     "metadata": {},
     "output_type": "execute_result"
    }
   ],
   "source": [
    "A + 10"
   ]
  },
  {
   "cell_type": "code",
   "execution_count": 4,
   "metadata": {
    "colab": {
     "base_uri": "https://localhost:8080/"
    },
    "executionInfo": {
     "elapsed": 4,
     "status": "ok",
     "timestamp": 1658064887359,
     "user": {
      "displayName": "Валерия Чурсина",
      "userId": "11879646019918403150"
     },
     "user_tz": -180
    },
    "id": "Le7Nz1L4XlJF",
    "outputId": "8e2aafe0-e340-439e-c896-e3c0f43c554c"
   },
   "outputs": [
    {
     "data": {
      "text/plain": [
       "array([[-9, -8],\n",
       "       [-7, -6],\n",
       "       [-5, -4],\n",
       "       [-3, -2]])"
      ]
     },
     "execution_count": 4,
     "metadata": {},
     "output_type": "execute_result"
    }
   ],
   "source": [
    "A - 10"
   ]
  },
  {
   "cell_type": "code",
   "execution_count": 5,
   "metadata": {
    "colab": {
     "base_uri": "https://localhost:8080/"
    },
    "executionInfo": {
     "elapsed": 5,
     "status": "ok",
     "timestamp": 1658064892653,
     "user": {
      "displayName": "Валерия Чурсина",
      "userId": "11879646019918403150"
     },
     "user_tz": -180
    },
    "id": "8TpTDFRjXmXX",
    "outputId": "c84ecd1d-91db-46ca-94f8-f0c3058a8718"
   },
   "outputs": [
    {
     "data": {
      "text/plain": [
       "array([[ 1,  4],\n",
       "       [ 9, 16],\n",
       "       [25, 36],\n",
       "       [49, 64]], dtype=int32)"
      ]
     },
     "execution_count": 5,
     "metadata": {},
     "output_type": "execute_result"
    }
   ],
   "source": [
    "A ** 2"
   ]
  },
  {
   "cell_type": "code",
   "execution_count": 6,
   "metadata": {
    "executionInfo": {
     "elapsed": 226,
     "status": "ok",
     "timestamp": 1658064938637,
     "user": {
      "displayName": "Валерия Чурсина",
      "userId": "11879646019918403150"
     },
     "user_tz": -180
    },
    "id": "T6XzQ8QuXu2c"
   },
   "outputs": [],
   "source": [
    "A = np.array([[1, 2], [3, 4], [5, 6], [7, 8]])\n",
    "B = np.array([[10, 20]])"
   ]
  },
  {
   "cell_type": "code",
   "execution_count": 7,
   "metadata": {
    "colab": {
     "base_uri": "https://localhost:8080/"
    },
    "executionInfo": {
     "elapsed": 224,
     "status": "ok",
     "timestamp": 1658064941757,
     "user": {
      "displayName": "Валерия Чурсина",
      "userId": "11879646019918403150"
     },
     "user_tz": -180
    },
    "id": "Fcp3m75yXynk",
    "outputId": "feefd257-52a4-418d-d3ed-17af0d84aabe"
   },
   "outputs": [
    {
     "data": {
      "text/plain": [
       "array([[1, 2],\n",
       "       [3, 4],\n",
       "       [5, 6],\n",
       "       [7, 8]])"
      ]
     },
     "execution_count": 7,
     "metadata": {},
     "output_type": "execute_result"
    }
   ],
   "source": [
    "A"
   ]
  },
  {
   "cell_type": "code",
   "execution_count": 8,
   "metadata": {
    "colab": {
     "base_uri": "https://localhost:8080/"
    },
    "executionInfo": {
     "elapsed": 5,
     "status": "ok",
     "timestamp": 1658064944595,
     "user": {
      "displayName": "Валерия Чурсина",
      "userId": "11879646019918403150"
     },
     "user_tz": -180
    },
    "id": "xcMQKIdsXzSi",
    "outputId": "32c8df7d-3ddd-4800-990f-c47b0b39f47e"
   },
   "outputs": [
    {
     "data": {
      "text/plain": [
       "array([[10, 20]])"
      ]
     },
     "execution_count": 8,
     "metadata": {},
     "output_type": "execute_result"
    }
   ],
   "source": [
    "B"
   ]
  },
  {
   "cell_type": "code",
   "execution_count": 9,
   "metadata": {
    "colab": {
     "base_uri": "https://localhost:8080/"
    },
    "executionInfo": {
     "elapsed": 5,
     "status": "ok",
     "timestamp": 1658064950115,
     "user": {
      "displayName": "Валерия Чурсина",
      "userId": "11879646019918403150"
     },
     "user_tz": -180
    },
    "id": "h8HSeQOEX0FA",
    "outputId": "06eef685-6bc4-43d3-9763-6d9fbcc307c9"
   },
   "outputs": [
    {
     "data": {
      "text/plain": [
       "(4, 2)"
      ]
     },
     "execution_count": 9,
     "metadata": {},
     "output_type": "execute_result"
    }
   ],
   "source": [
    "A.shape"
   ]
  },
  {
   "cell_type": "code",
   "execution_count": 10,
   "metadata": {
    "colab": {
     "base_uri": "https://localhost:8080/"
    },
    "executionInfo": {
     "elapsed": 7,
     "status": "ok",
     "timestamp": 1658064957631,
     "user": {
      "displayName": "Валерия Чурсина",
      "userId": "11879646019918403150"
     },
     "user_tz": -180
    },
    "id": "b7zP4uy1X156",
    "outputId": "d8713bd7-647e-4a9b-d127-5f5e3a31809c"
   },
   "outputs": [
    {
     "data": {
      "text/plain": [
       "(1, 2)"
      ]
     },
     "execution_count": 10,
     "metadata": {},
     "output_type": "execute_result"
    }
   ],
   "source": [
    "B.shape"
   ]
  },
  {
   "cell_type": "code",
   "execution_count": 11,
   "metadata": {
    "colab": {
     "base_uri": "https://localhost:8080/"
    },
    "executionInfo": {
     "elapsed": 220,
     "status": "ok",
     "timestamp": 1658064979663,
     "user": {
      "displayName": "Валерия Чурсина",
      "userId": "11879646019918403150"
     },
     "user_tz": -180
    },
    "id": "wO_WNRQCX7pE",
    "outputId": "8a258dad-2cf7-4868-b544-1256c53a59f6"
   },
   "outputs": [
    {
     "data": {
      "text/plain": [
       "array([[11, 22],\n",
       "       [13, 24],\n",
       "       [15, 26],\n",
       "       [17, 28]])"
      ]
     },
     "execution_count": 11,
     "metadata": {},
     "output_type": "execute_result"
    }
   ],
   "source": [
    "A+B"
   ]
  },
  {
   "cell_type": "code",
   "execution_count": 12,
   "metadata": {
    "colab": {
     "base_uri": "https://localhost:8080/"
    },
    "executionInfo": {
     "elapsed": 5,
     "status": "ok",
     "timestamp": 1658064984225,
     "user": {
      "displayName": "Валерия Чурсина",
      "userId": "11879646019918403150"
     },
     "user_tz": -180
    },
    "id": "ryYKCx1QX87_",
    "outputId": "a9f72eb4-fe47-427e-efea-25308a01ee3e"
   },
   "outputs": [
    {
     "data": {
      "text/plain": [
       "array([[ -9, -18],\n",
       "       [ -7, -16],\n",
       "       [ -5, -14],\n",
       "       [ -3, -12]])"
      ]
     },
     "execution_count": 12,
     "metadata": {},
     "output_type": "execute_result"
    }
   ],
   "source": [
    "A-B"
   ]
  },
  {
   "cell_type": "code",
   "execution_count": 13,
   "metadata": {
    "colab": {
     "base_uri": "https://localhost:8080/"
    },
    "executionInfo": {
     "elapsed": 6,
     "status": "ok",
     "timestamp": 1658064990030,
     "user": {
      "displayName": "Валерия Чурсина",
      "userId": "11879646019918403150"
     },
     "user_tz": -180
    },
    "id": "ZrfGxSOGX-K2",
    "outputId": "51612c05-9b67-4516-b8e9-ef21ac90ddd6"
   },
   "outputs": [
    {
     "data": {
      "text/plain": [
       "array([[0.1, 0.1],\n",
       "       [0.3, 0.2],\n",
       "       [0.5, 0.3],\n",
       "       [0.7, 0.4]])"
      ]
     },
     "execution_count": 13,
     "metadata": {},
     "output_type": "execute_result"
    }
   ],
   "source": [
    "A/B"
   ]
  },
  {
   "cell_type": "code",
   "execution_count": 14,
   "metadata": {
    "colab": {
     "base_uri": "https://localhost:8080/",
     "height": 200
    },
    "executionInfo": {
     "elapsed": 213,
     "status": "error",
     "timestamp": 1658065023080,
     "user": {
      "displayName": "Валерия Чурсина",
      "userId": "11879646019918403150"
     },
     "user_tz": -180
    },
    "id": "vNK-HOiXYDaT",
    "outputId": "138388ef-e98a-43ba-a2f8-175484f47207"
   },
   "outputs": [
    {
     "ename": "ValueError",
     "evalue": "operands could not be broadcast together with shapes (4,2) (3,) ",
     "output_type": "error",
     "traceback": [
      "\u001b[1;31m---------------------------------------------------------------------------\u001b[0m",
      "\u001b[1;31mValueError\u001b[0m                                Traceback (most recent call last)",
      "\u001b[1;32m<ipython-input-14-ef19f9b68865>\u001b[0m in \u001b[0;36m<module>\u001b[1;34m\u001b[0m\n\u001b[0;32m      1\u001b[0m \u001b[0mA\u001b[0m \u001b[1;33m=\u001b[0m \u001b[0mnp\u001b[0m\u001b[1;33m.\u001b[0m\u001b[0marray\u001b[0m\u001b[1;33m(\u001b[0m\u001b[1;33m[\u001b[0m\u001b[1;33m[\u001b[0m\u001b[1;36m1\u001b[0m\u001b[1;33m,\u001b[0m \u001b[1;36m2\u001b[0m\u001b[1;33m]\u001b[0m\u001b[1;33m,\u001b[0m \u001b[1;33m[\u001b[0m\u001b[1;36m3\u001b[0m\u001b[1;33m,\u001b[0m \u001b[1;36m4\u001b[0m\u001b[1;33m]\u001b[0m\u001b[1;33m,\u001b[0m \u001b[1;33m[\u001b[0m\u001b[1;36m5\u001b[0m\u001b[1;33m,\u001b[0m \u001b[1;36m6\u001b[0m\u001b[1;33m]\u001b[0m\u001b[1;33m,\u001b[0m \u001b[1;33m[\u001b[0m\u001b[1;36m7\u001b[0m\u001b[1;33m,\u001b[0m \u001b[1;36m8\u001b[0m\u001b[1;33m]\u001b[0m\u001b[1;33m]\u001b[0m\u001b[1;33m)\u001b[0m\u001b[1;33m\u001b[0m\u001b[1;33m\u001b[0m\u001b[0m\n\u001b[0;32m      2\u001b[0m \u001b[0mB\u001b[0m \u001b[1;33m=\u001b[0m \u001b[0mnp\u001b[0m\u001b[1;33m.\u001b[0m\u001b[0marray\u001b[0m\u001b[1;33m(\u001b[0m\u001b[1;33m[\u001b[0m\u001b[1;36m10\u001b[0m\u001b[1;33m,\u001b[0m \u001b[1;36m20\u001b[0m\u001b[1;33m,\u001b[0m \u001b[1;36m30\u001b[0m\u001b[1;33m]\u001b[0m\u001b[1;33m)\u001b[0m\u001b[1;33m\u001b[0m\u001b[1;33m\u001b[0m\u001b[0m\n\u001b[1;32m----> 3\u001b[1;33m \u001b[0mA\u001b[0m\u001b[1;33m+\u001b[0m\u001b[0mB\u001b[0m\u001b[1;33m\u001b[0m\u001b[1;33m\u001b[0m\u001b[0m\n\u001b[0m",
      "\u001b[1;31mValueError\u001b[0m: operands could not be broadcast together with shapes (4,2) (3,) "
     ]
    }
   ],
   "source": [
    "A = np.array([[1, 2], [3, 4], [5, 6], [7, 8]])\n",
    "B = np.array([10, 20, 30])\n",
    "A+B"
   ]
  },
  {
   "cell_type": "code",
   "execution_count": 15,
   "metadata": {
    "colab": {
     "base_uri": "https://localhost:8080/",
     "height": 200
    },
    "executionInfo": {
     "elapsed": 249,
     "status": "error",
     "timestamp": 1658065048524,
     "user": {
      "displayName": "Валерия Чурсина",
      "userId": "11879646019918403150"
     },
     "user_tz": -180
    },
    "id": "n3UOdSyoYJ64",
    "outputId": "cb96d4ba-2d59-49bf-8cb8-ef0474d30799"
   },
   "outputs": [
    {
     "ename": "ValueError",
     "evalue": "operands could not be broadcast together with shapes (4,2) (1,4) ",
     "output_type": "error",
     "traceback": [
      "\u001b[1;31m---------------------------------------------------------------------------\u001b[0m",
      "\u001b[1;31mValueError\u001b[0m                                Traceback (most recent call last)",
      "\u001b[1;32m<ipython-input-15-02a6c8b07432>\u001b[0m in \u001b[0;36m<module>\u001b[1;34m\u001b[0m\n\u001b[0;32m      1\u001b[0m \u001b[0mA\u001b[0m \u001b[1;33m=\u001b[0m \u001b[0mnp\u001b[0m\u001b[1;33m.\u001b[0m\u001b[0marray\u001b[0m\u001b[1;33m(\u001b[0m\u001b[1;33m[\u001b[0m\u001b[1;33m[\u001b[0m\u001b[1;36m1\u001b[0m\u001b[1;33m,\u001b[0m \u001b[1;36m2\u001b[0m\u001b[1;33m]\u001b[0m\u001b[1;33m,\u001b[0m \u001b[1;33m[\u001b[0m\u001b[1;36m3\u001b[0m\u001b[1;33m,\u001b[0m \u001b[1;36m4\u001b[0m\u001b[1;33m]\u001b[0m\u001b[1;33m,\u001b[0m \u001b[1;33m[\u001b[0m\u001b[1;36m5\u001b[0m\u001b[1;33m,\u001b[0m \u001b[1;36m6\u001b[0m\u001b[1;33m]\u001b[0m\u001b[1;33m,\u001b[0m \u001b[1;33m[\u001b[0m\u001b[1;36m7\u001b[0m\u001b[1;33m,\u001b[0m \u001b[1;36m8\u001b[0m\u001b[1;33m]\u001b[0m\u001b[1;33m]\u001b[0m\u001b[1;33m)\u001b[0m\u001b[1;33m\u001b[0m\u001b[1;33m\u001b[0m\u001b[0m\n\u001b[0;32m      2\u001b[0m \u001b[0mB\u001b[0m \u001b[1;33m=\u001b[0m \u001b[0mnp\u001b[0m\u001b[1;33m.\u001b[0m\u001b[0marray\u001b[0m\u001b[1;33m(\u001b[0m\u001b[1;33m[\u001b[0m\u001b[1;33m[\u001b[0m\u001b[1;36m10\u001b[0m\u001b[1;33m,\u001b[0m \u001b[1;36m20\u001b[0m\u001b[1;33m,\u001b[0m \u001b[1;36m30\u001b[0m\u001b[1;33m,\u001b[0m \u001b[1;36m40\u001b[0m\u001b[1;33m]\u001b[0m\u001b[1;33m]\u001b[0m\u001b[1;33m)\u001b[0m\u001b[1;33m\u001b[0m\u001b[1;33m\u001b[0m\u001b[0m\n\u001b[1;32m----> 3\u001b[1;33m \u001b[0mA\u001b[0m\u001b[1;33m+\u001b[0m\u001b[0mB\u001b[0m\u001b[1;33m\u001b[0m\u001b[1;33m\u001b[0m\u001b[0m\n\u001b[0m",
      "\u001b[1;31mValueError\u001b[0m: operands could not be broadcast together with shapes (4,2) (1,4) "
     ]
    }
   ],
   "source": [
    "A = np.array([[1, 2], [3, 4], [5, 6], [7, 8]])\n",
    "B = np.array([[10, 20, 30, 40]])\n",
    "A+B"
   ]
  },
  {
   "cell_type": "code",
   "execution_count": 37,
   "metadata": {
    "executionInfo": {
     "elapsed": 219,
     "status": "ok",
     "timestamp": 1658065110221,
     "user": {
      "displayName": "Валерия Чурсина",
      "userId": "11879646019918403150"
     },
     "user_tz": -180
    },
    "id": "kn9KO9K3YTe6"
   },
   "outputs": [],
   "source": [
    "A = np.array([[1, 2], [3, 4], [5, 6], [7, 8]])\n",
    "B = np.arange(10, 21, 10)\n",
    "B = np.reshape(B, (1,2))"
   ]
  },
  {
   "cell_type": "code",
   "execution_count": 38,
   "metadata": {
    "colab": {
     "base_uri": "https://localhost:8080/"
    },
    "executionInfo": {
     "elapsed": 238,
     "status": "ok",
     "timestamp": 1658065114078,
     "user": {
      "displayName": "Валерия Чурсина",
      "userId": "11879646019918403150"
     },
     "user_tz": -180
    },
    "id": "AHBzWztwYcwm",
    "outputId": "e835296c-35e0-4379-bbfb-c2f464549004"
   },
   "outputs": [
    {
     "data": {
      "text/plain": [
       "array([[1, 2],\n",
       "       [3, 4],\n",
       "       [5, 6],\n",
       "       [7, 8]])"
      ]
     },
     "execution_count": 38,
     "metadata": {},
     "output_type": "execute_result"
    }
   ],
   "source": [
    "A"
   ]
  },
  {
   "cell_type": "code",
   "execution_count": 39,
   "metadata": {
    "colab": {
     "base_uri": "https://localhost:8080/"
    },
    "executionInfo": {
     "elapsed": 211,
     "status": "ok",
     "timestamp": 1658065117799,
     "user": {
      "displayName": "Валерия Чурсина",
      "userId": "11879646019918403150"
     },
     "user_tz": -180
    },
    "id": "RMIK71xSYdbD",
    "outputId": "efacf263-48b9-40e4-e160-bb76064f122f"
   },
   "outputs": [
    {
     "data": {
      "text/plain": [
       "array([[10, 20]])"
      ]
     },
     "execution_count": 39,
     "metadata": {},
     "output_type": "execute_result"
    }
   ],
   "source": [
    "B"
   ]
  },
  {
   "cell_type": "code",
   "execution_count": 40,
   "metadata": {
    "colab": {
     "base_uri": "https://localhost:8080/"
    },
    "executionInfo": {
     "elapsed": 228,
     "status": "ok",
     "timestamp": 1658065138746,
     "user": {
      "displayName": "Валерия Чурсина",
      "userId": "11879646019918403150"
     },
     "user_tz": -180
    },
    "id": "n9OLMdi2YiSe",
    "outputId": "4d57ce99-43fe-421b-a262-3351d299df61"
   },
   "outputs": [
    {
     "data": {
      "text/plain": [
       "array([[11, 22],\n",
       "       [13, 24],\n",
       "       [15, 26],\n",
       "       [17, 28]])"
      ]
     },
     "execution_count": 40,
     "metadata": {},
     "output_type": "execute_result"
    }
   ],
   "source": [
    "A+B"
   ]
  },
  {
   "cell_type": "code",
   "execution_count": 20,
   "metadata": {
    "colab": {
     "base_uri": "https://localhost:8080/"
    },
    "executionInfo": {
     "elapsed": 221,
     "status": "ok",
     "timestamp": 1658065151540,
     "user": {
      "displayName": "Валерия Чурсина",
      "userId": "11879646019918403150"
     },
     "user_tz": -180
    },
    "id": "AnUHvGHlYlsP",
    "outputId": "e0ba6b8b-6673-4c4f-8232-2675631aa6cb"
   },
   "outputs": [
    {
     "data": {
      "text/plain": [
       "array([[ -9, -18],\n",
       "       [-27, -36],\n",
       "       [-45, -54],\n",
       "       [-63, -72]])"
      ]
     },
     "execution_count": 20,
     "metadata": {},
     "output_type": "execute_result"
    }
   ],
   "source": [
    "A-B"
   ]
  },
  {
   "cell_type": "code",
   "execution_count": 21,
   "metadata": {
    "colab": {
     "base_uri": "https://localhost:8080/"
    },
    "executionInfo": {
     "elapsed": 309,
     "status": "ok",
     "timestamp": 1658065165369,
     "user": {
      "displayName": "Валерия Чурсина",
      "userId": "11879646019918403150"
     },
     "user_tz": -180
    },
    "id": "I4LspCY4Yoyc",
    "outputId": "2004e9ae-1af6-4c08-e5de-81df6d83727c"
   },
   "outputs": [
    {
     "data": {
      "text/plain": [
       "array([[ 9, 18],\n",
       "       [27, 36],\n",
       "       [45, 54],\n",
       "       [63, 72]])"
      ]
     },
     "execution_count": 21,
     "metadata": {},
     "output_type": "execute_result"
    }
   ],
   "source": [
    "B-A"
   ]
  },
  {
   "cell_type": "code",
   "execution_count": 22,
   "metadata": {
    "colab": {
     "base_uri": "https://localhost:8080/"
    },
    "executionInfo": {
     "elapsed": 324,
     "status": "ok",
     "timestamp": 1658065179909,
     "user": {
      "displayName": "Валерия Чурсина",
      "userId": "11879646019918403150"
     },
     "user_tz": -180
    },
    "id": "U3MpNO0CYsZf",
    "outputId": "79c43f4f-f632-4f98-fd3a-ed661cc737fd"
   },
   "outputs": [
    {
     "data": {
      "text/plain": [
       "array([[ 10,  40],\n",
       "       [ 90, 160],\n",
       "       [250, 360],\n",
       "       [490, 640]])"
      ]
     },
     "execution_count": 22,
     "metadata": {},
     "output_type": "execute_result"
    }
   ],
   "source": [
    "A*B"
   ]
  },
  {
   "cell_type": "code",
   "execution_count": 23,
   "metadata": {
    "colab": {
     "base_uri": "https://localhost:8080/"
    },
    "executionInfo": {
     "elapsed": 349,
     "status": "ok",
     "timestamp": 1658065185132,
     "user": {
      "displayName": "Валерия Чурсина",
      "userId": "11879646019918403150"
     },
     "user_tz": -180
    },
    "id": "6NsruWraYt2S",
    "outputId": "86ca07c6-c977-46d6-ab17-22e4bf7ecaf0"
   },
   "outputs": [
    {
     "data": {
      "text/plain": [
       "array([[0.1, 0.1],\n",
       "       [0.1, 0.1],\n",
       "       [0.1, 0.1],\n",
       "       [0.1, 0.1]])"
      ]
     },
     "execution_count": 23,
     "metadata": {},
     "output_type": "execute_result"
    }
   ],
   "source": [
    "A/B"
   ]
  },
  {
   "cell_type": "code",
   "execution_count": 24,
   "metadata": {
    "colab": {
     "base_uri": "https://localhost:8080/"
    },
    "executionInfo": {
     "elapsed": 238,
     "status": "ok",
     "timestamp": 1658065190921,
     "user": {
      "displayName": "Валерия Чурсина",
      "userId": "11879646019918403150"
     },
     "user_tz": -180
    },
    "id": "jUBkZkF2YvK8",
    "outputId": "f3c45c09-f230-495f-8f9d-84ba1886131f"
   },
   "outputs": [
    {
     "data": {
      "text/plain": [
       "array([[10., 10.],\n",
       "       [10., 10.],\n",
       "       [10., 10.],\n",
       "       [10., 10.]])"
      ]
     },
     "execution_count": 24,
     "metadata": {},
     "output_type": "execute_result"
    }
   ],
   "source": [
    "B/A"
   ]
  },
  {
   "cell_type": "code",
   "execution_count": 25,
   "metadata": {
    "colab": {
     "base_uri": "https://localhost:8080/"
    },
    "executionInfo": {
     "elapsed": 229,
     "status": "ok",
     "timestamp": 1658065199628,
     "user": {
      "displayName": "Валерия Чурсина",
      "userId": "11879646019918403150"
     },
     "user_tz": -180
    },
    "id": "hbC4WV4IYxUP",
    "outputId": "223f82d5-b46e-4d92-b14e-60ee0133dd25"
   },
   "outputs": [
    {
     "data": {
      "text/plain": [
       "array([[0, 0],\n",
       "       [0, 0],\n",
       "       [0, 0],\n",
       "       [0, 0]], dtype=int32)"
      ]
     },
     "execution_count": 25,
     "metadata": {},
     "output_type": "execute_result"
    }
   ],
   "source": [
    "A//B"
   ]
  },
  {
   "cell_type": "code",
   "execution_count": 26,
   "metadata": {
    "colab": {
     "base_uri": "https://localhost:8080/"
    },
    "executionInfo": {
     "elapsed": 3,
     "status": "ok",
     "timestamp": 1658065206730,
     "user": {
      "displayName": "Валерия Чурсина",
      "userId": "11879646019918403150"
     },
     "user_tz": -180
    },
    "id": "dC4K39-WYyqT",
    "outputId": "bf62d1dd-a7ed-4114-f651-658ad3005d38"
   },
   "outputs": [
    {
     "data": {
      "text/plain": [
       "array([[1, 2],\n",
       "       [3, 4],\n",
       "       [5, 6],\n",
       "       [7, 8]], dtype=int32)"
      ]
     },
     "execution_count": 26,
     "metadata": {},
     "output_type": "execute_result"
    }
   ],
   "source": [
    "A%B"
   ]
  },
  {
   "cell_type": "code",
   "execution_count": 27,
   "metadata": {
    "colab": {
     "base_uri": "https://localhost:8080/"
    },
    "executionInfo": {
     "elapsed": 242,
     "status": "ok",
     "timestamp": 1658065226337,
     "user": {
      "displayName": "Валерия Чурсина",
      "userId": "11879646019918403150"
     },
     "user_tz": -180
    },
    "id": "V7V-8jDrY3sa",
    "outputId": "2065ea6f-bcea-40b5-c05b-59b923b42c21"
   },
   "outputs": [
    {
     "data": {
      "text/plain": [
       "array([[        10,        400],\n",
       "       [     27000,    2560000],\n",
       "       [ 312500000, -588640256],\n",
       "       [1977693568,          0]], dtype=int32)"
      ]
     },
     "execution_count": 27,
     "metadata": {},
     "output_type": "execute_result"
    }
   ],
   "source": [
    "B**A"
   ]
  },
  {
   "cell_type": "code",
   "execution_count": 28,
   "metadata": {
    "colab": {
     "base_uri": "https://localhost:8080/",
     "height": 183
    },
    "executionInfo": {
     "elapsed": 255,
     "status": "error",
     "timestamp": 1658065258335,
     "user": {
      "displayName": "Валерия Чурсина",
      "userId": "11879646019918403150"
     },
     "user_tz": -180
    },
    "id": "MQtTIpJcY7f1",
    "outputId": "5ba3c7c2-264a-458a-bd4c-0f6fb0d969dd"
   },
   "outputs": [
    {
     "ename": "ValueError",
     "evalue": "operands could not be broadcast together with shapes (4,2) (2,3) ",
     "output_type": "error",
     "traceback": [
      "\u001b[1;31m---------------------------------------------------------------------------\u001b[0m",
      "\u001b[1;31mValueError\u001b[0m                                Traceback (most recent call last)",
      "\u001b[1;32m<ipython-input-28-3272c93efa3b>\u001b[0m in \u001b[0;36m<module>\u001b[1;34m\u001b[0m\n\u001b[0;32m      1\u001b[0m \u001b[0mC\u001b[0m \u001b[1;33m=\u001b[0m \u001b[0mnp\u001b[0m\u001b[1;33m.\u001b[0m\u001b[0marray\u001b[0m\u001b[1;33m(\u001b[0m\u001b[1;33m[\u001b[0m\u001b[1;33m[\u001b[0m\u001b[1;36m1\u001b[0m\u001b[1;33m,\u001b[0m \u001b[1;36m2\u001b[0m\u001b[1;33m,\u001b[0m \u001b[1;36m3\u001b[0m\u001b[1;33m]\u001b[0m\u001b[1;33m,\u001b[0m \u001b[1;33m[\u001b[0m\u001b[1;36m4\u001b[0m\u001b[1;33m,\u001b[0m \u001b[1;36m5\u001b[0m\u001b[1;33m,\u001b[0m \u001b[1;36m6\u001b[0m\u001b[1;33m]\u001b[0m\u001b[1;33m]\u001b[0m\u001b[1;33m)\u001b[0m\u001b[1;33m\u001b[0m\u001b[1;33m\u001b[0m\u001b[0m\n\u001b[1;32m----> 2\u001b[1;33m \u001b[0mA\u001b[0m\u001b[1;33m+\u001b[0m\u001b[0mC\u001b[0m\u001b[1;33m\u001b[0m\u001b[1;33m\u001b[0m\u001b[0m\n\u001b[0m",
      "\u001b[1;31mValueError\u001b[0m: operands could not be broadcast together with shapes (4,2) (2,3) "
     ]
    }
   ],
   "source": [
    "C = np.array([[1, 2, 3], [4, 5, 6]])\n",
    "A+C"
   ]
  },
  {
   "cell_type": "code",
   "execution_count": 29,
   "metadata": {
    "colab": {
     "base_uri": "https://localhost:8080/"
    },
    "executionInfo": {
     "elapsed": 225,
     "status": "ok",
     "timestamp": 1658065271111,
     "user": {
      "displayName": "Валерия Чурсина",
      "userId": "11879646019918403150"
     },
     "user_tz": -180
    },
    "id": "kOa-ms4DZC4p",
    "outputId": "298232d8-bf28-4361-d733-3cd8a824f07f"
   },
   "outputs": [
    {
     "data": {
      "text/plain": [
       "array([[1, 2],\n",
       "       [3, 4],\n",
       "       [5, 6],\n",
       "       [7, 8]])"
      ]
     },
     "execution_count": 29,
     "metadata": {},
     "output_type": "execute_result"
    }
   ],
   "source": [
    "A"
   ]
  },
  {
   "cell_type": "code",
   "execution_count": 30,
   "metadata": {
    "colab": {
     "base_uri": "https://localhost:8080/"
    },
    "executionInfo": {
     "elapsed": 245,
     "status": "ok",
     "timestamp": 1658065286871,
     "user": {
      "displayName": "Валерия Чурсина",
      "userId": "11879646019918403150"
     },
     "user_tz": -180
    },
    "id": "ETezArRmZD1J",
    "outputId": "f12ef89e-dbbc-4f0c-c7c8-c735030550fb"
   },
   "outputs": [
    {
     "data": {
      "text/plain": [
       "array([[ 4,  6],\n",
       "       [ 6,  8],\n",
       "       [ 8, 10],\n",
       "       [10, 12]])"
      ]
     },
     "execution_count": 30,
     "metadata": {},
     "output_type": "execute_result"
    }
   ],
   "source": [
    "C = np.array([3, 4])\n",
    "A+C"
   ]
  },
  {
   "cell_type": "code",
   "execution_count": 31,
   "metadata": {
    "colab": {
     "base_uri": "https://localhost:8080/"
    },
    "executionInfo": {
     "elapsed": 220,
     "status": "ok",
     "timestamp": 1658065303962,
     "user": {
      "displayName": "Валерия Чурсина",
      "userId": "11879646019918403150"
     },
     "user_tz": -180
    },
    "id": "E_3rCsb7ZLEY",
    "outputId": "3468d6aa-8bfb-4874-be59-b0f995947dc1"
   },
   "outputs": [
    {
     "data": {
      "text/plain": [
       "array([3, 4])"
      ]
     },
     "execution_count": 31,
     "metadata": {},
     "output_type": "execute_result"
    }
   ],
   "source": [
    "C"
   ]
  },
  {
   "cell_type": "code",
   "execution_count": 32,
   "metadata": {
    "colab": {
     "base_uri": "https://localhost:8080/"
    },
    "executionInfo": {
     "elapsed": 5,
     "status": "ok",
     "timestamp": 1658065334363,
     "user": {
      "displayName": "Валерия Чурсина",
      "userId": "11879646019918403150"
     },
     "user_tz": -180
    },
    "id": "MttzJLPiZSUM",
    "outputId": "f5f97bb0-bfb2-4136-a338-4588374c49e4"
   },
   "outputs": [
    {
     "data": {
      "text/plain": [
       "array([[101, 102],\n",
       "       [103, 104],\n",
       "       [105, 106],\n",
       "       [107, 108]])"
      ]
     },
     "execution_count": 32,
     "metadata": {},
     "output_type": "execute_result"
    }
   ],
   "source": [
    "A+100"
   ]
  },
  {
   "cell_type": "code",
   "execution_count": 33,
   "metadata": {
    "executionInfo": {
     "elapsed": 230,
     "status": "ok",
     "timestamp": 1658065384681,
     "user": {
      "displayName": "Валерия Чурсина",
      "userId": "11879646019918403150"
     },
     "user_tz": -180
    },
    "id": "YPH3hdbjZYF0"
   },
   "outputs": [],
   "source": [
    "A = np.array([[1, 2, 3], [4, 5, 6], [7, 8, 9]])\n",
    "B = np.ones((3, 3))"
   ]
  },
  {
   "cell_type": "code",
   "execution_count": 34,
   "metadata": {
    "colab": {
     "base_uri": "https://localhost:8080/"
    },
    "executionInfo": {
     "elapsed": 281,
     "status": "ok",
     "timestamp": 1658065387919,
     "user": {
      "displayName": "Валерия Чурсина",
      "userId": "11879646019918403150"
     },
     "user_tz": -180
    },
    "id": "mtneAOT6ZfmC",
    "outputId": "54eb5a4b-7337-4ab6-bc62-427d2df597f4"
   },
   "outputs": [
    {
     "data": {
      "text/plain": [
       "array([[1, 2, 3],\n",
       "       [4, 5, 6],\n",
       "       [7, 8, 9]])"
      ]
     },
     "execution_count": 34,
     "metadata": {},
     "output_type": "execute_result"
    }
   ],
   "source": [
    "A"
   ]
  },
  {
   "cell_type": "code",
   "execution_count": 35,
   "metadata": {
    "colab": {
     "base_uri": "https://localhost:8080/"
    },
    "executionInfo": {
     "elapsed": 222,
     "status": "ok",
     "timestamp": 1658065391173,
     "user": {
      "displayName": "Валерия Чурсина",
      "userId": "11879646019918403150"
     },
     "user_tz": -180
    },
    "id": "RLJfZJebZgVU",
    "outputId": "9f6c5689-c6ec-4d01-d34d-333e9d625406"
   },
   "outputs": [
    {
     "data": {
      "text/plain": [
       "array([[1., 1., 1.],\n",
       "       [1., 1., 1.],\n",
       "       [1., 1., 1.]])"
      ]
     },
     "execution_count": 35,
     "metadata": {},
     "output_type": "execute_result"
    }
   ],
   "source": [
    "B"
   ]
  },
  {
   "cell_type": "code",
   "execution_count": 36,
   "metadata": {
    "colab": {
     "base_uri": "https://localhost:8080/"
    },
    "executionInfo": {
     "elapsed": 252,
     "status": "ok",
     "timestamp": 1658065407434,
     "user": {
      "displayName": "Валерия Чурсина",
      "userId": "11879646019918403150"
     },
     "user_tz": -180
    },
    "id": "6LHf7t1MZhLC",
    "outputId": "6e43afa2-7382-4b57-e5d7-8cc9caa7bdd6"
   },
   "outputs": [
    {
     "data": {
      "text/plain": [
       "array([[5., 4., 4.],\n",
       "       [3., 3., 2.],\n",
       "       [2., 1., 1.]])"
      ]
     },
     "execution_count": 36,
     "metadata": {},
     "output_type": "execute_result"
    }
   ],
   "source": [
    "B*5 - A//2"
   ]
  },
  {
   "cell_type": "code",
   "execution_count": 37,
   "metadata": {
    "colab": {
     "base_uri": "https://localhost:8080/"
    },
    "executionInfo": {
     "elapsed": 224,
     "status": "ok",
     "timestamp": 1658065431265,
     "user": {
      "displayName": "Валерия Чурсина",
      "userId": "11879646019918403150"
     },
     "user_tz": -180
    },
    "id": "naZcLwQPZnFl",
    "outputId": "818ba097-02a6-4922-871f-0449225d1d40"
   },
   "outputs": [
    {
     "data": {
      "text/plain": [
       "array([[5., 4., 4.],\n",
       "       [3., 3., 2.],\n",
       "       [2., 1., 1.]])"
      ]
     },
     "execution_count": 37,
     "metadata": {},
     "output_type": "execute_result"
    }
   ],
   "source": [
    "B *= 5\n",
    "B -= A//2\n",
    "B"
   ]
  },
  {
   "cell_type": "code",
   "execution_count": 38,
   "metadata": {
    "colab": {
     "base_uri": "https://localhost:8080/"
    },
    "executionInfo": {
     "elapsed": 4,
     "status": "ok",
     "timestamp": 1658065451436,
     "user": {
      "displayName": "Валерия Чурсина",
      "userId": "11879646019918403150"
     },
     "user_tz": -180
    },
    "id": "j-G_AMwGZtSi",
    "outputId": "4feb8502-ff96-44d8-b3cd-c6e0fb86f2a7"
   },
   "outputs": [
    {
     "data": {
      "text/plain": [
       "array([[1., 0., 0.],\n",
       "       [0., 1., 0.],\n",
       "       [0., 0., 1.]])"
      ]
     },
     "execution_count": 38,
     "metadata": {},
     "output_type": "execute_result"
    }
   ],
   "source": [
    "I = np.eye(3)\n",
    "I"
   ]
  },
  {
   "cell_type": "code",
   "execution_count": 39,
   "metadata": {
    "colab": {
     "base_uri": "https://localhost:8080/"
    },
    "executionInfo": {
     "elapsed": 224,
     "status": "ok",
     "timestamp": 1658065458292,
     "user": {
      "displayName": "Валерия Чурсина",
      "userId": "11879646019918403150"
     },
     "user_tz": -180
    },
    "id": "-vq6c1piZwVs",
    "outputId": "72f71fc0-f4b3-45ff-a4ee-4f4c1b220998"
   },
   "outputs": [
    {
     "data": {
      "text/plain": [
       "array([[1., 0., 0.],\n",
       "       [0., 5., 0.],\n",
       "       [0., 0., 9.]])"
      ]
     },
     "execution_count": 39,
     "metadata": {},
     "output_type": "execute_result"
    }
   ],
   "source": [
    "A*I"
   ]
  },
  {
   "cell_type": "code",
   "execution_count": 40,
   "metadata": {
    "colab": {
     "base_uri": "https://localhost:8080/"
    },
    "executionInfo": {
     "elapsed": 219,
     "status": "ok",
     "timestamp": 1658065468321,
     "user": {
      "displayName": "Валерия Чурсина",
      "userId": "11879646019918403150"
     },
     "user_tz": -180
    },
    "id": "KTA5-c2fZzEB",
    "outputId": "cf9802d4-af81-425a-cb77-dddaa0bcc5e6"
   },
   "outputs": [
    {
     "data": {
      "text/plain": [
       "array([[1, 2, 3],\n",
       "       [4, 5, 6],\n",
       "       [7, 8, 9]])"
      ]
     },
     "execution_count": 40,
     "metadata": {},
     "output_type": "execute_result"
    }
   ],
   "source": [
    "A"
   ]
  },
  {
   "cell_type": "code",
   "execution_count": 41,
   "metadata": {
    "colab": {
     "base_uri": "https://localhost:8080/"
    },
    "executionInfo": {
     "elapsed": 265,
     "status": "ok",
     "timestamp": 1658065476123,
     "user": {
      "displayName": "Валерия Чурсина",
      "userId": "11879646019918403150"
     },
     "user_tz": -180
    },
    "id": "w9LtfTj6Z0aQ",
    "outputId": "57058fb6-b8b5-4e52-f673-994f83e93076"
   },
   "outputs": [
    {
     "data": {
      "text/plain": [
       "array([[1, 4, 7],\n",
       "       [2, 5, 8],\n",
       "       [3, 6, 9]])"
      ]
     },
     "execution_count": 41,
     "metadata": {},
     "output_type": "execute_result"
    }
   ],
   "source": [
    "A.T"
   ]
  }
 ],
 "metadata": {
  "colab": {
   "authorship_tag": "ABX9TyNGOYoy3myNv+sYUKfTrN3l",
   "collapsed_sections": [],
   "name": "Матрицы и операции над ними.ipynb",
   "provenance": []
  },
  "kernelspec": {
   "display_name": "Python 3",
   "language": "python",
   "name": "python3"
  },
  "language_info": {
   "codemirror_mode": {
    "name": "ipython",
    "version": 3
   },
   "file_extension": ".py",
   "mimetype": "text/x-python",
   "name": "python",
   "nbconvert_exporter": "python",
   "pygments_lexer": "ipython3",
   "version": "3.8.8"
  }
 },
 "nbformat": 4,
 "nbformat_minor": 1
}
