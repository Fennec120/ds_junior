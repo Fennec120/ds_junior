{
 "cells": [
  {
   "cell_type": "code",
   "execution_count": 1,
   "id": "ebe41648-0509-46e2-b690-7781e668e97f",
   "metadata": {
    "id": "ebe41648-0509-46e2-b690-7781e668e97f"
   },
   "outputs": [],
   "source": [
    "import numpy.linalg as nl\n",
    "import numpy as np"
   ]
  },
  {
   "cell_type": "markdown",
   "id": "4f0b325e-faf7-4b73-b1e9-0e91fc618ab3",
   "metadata": {
    "id": "4f0b325e-faf7-4b73-b1e9-0e91fc618ab3",
    "tags": []
   },
   "source": [
    "1. Определим матрицы $X$ и $Y$:"
   ]
  },
  {
   "cell_type": "code",
   "execution_count": 2,
   "id": "d8daa4af-b741-41b8-b58e-d4a7724c04e8",
   "metadata": {
    "id": "d8daa4af-b741-41b8-b58e-d4a7724c04e8"
   },
   "outputs": [],
   "source": [
    "X = np.array([[1, 2], [3, 6], [5, 10], [7, 14], [9, 18]])\n",
    "Y = np.array([13, 19, 25, 31, 37])"
   ]
  },
  {
   "cell_type": "code",
   "execution_count": 3,
   "id": "1da57b86-d011-4daf-b567-ef6d4a73a30b",
   "metadata": {
    "id": "1da57b86-d011-4daf-b567-ef6d4a73a30b",
    "outputId": "502cc2a8-e877-448e-8ad5-0a1b84088f71"
   },
   "outputs": [
    {
     "data": {
      "text/plain": [
       "array([[ 1,  1,  2],\n",
       "       [ 1,  3,  6],\n",
       "       [ 1,  5, 10],\n",
       "       [ 1,  7, 14],\n",
       "       [ 1,  9, 18]])"
      ]
     },
     "execution_count": 3,
     "metadata": {},
     "output_type": "execute_result"
    }
   ],
   "source": [
    "X = np.insert(X, 0, 1, axis=1)\n",
    "X"
   ]
  },
  {
   "cell_type": "markdown",
   "id": "e6159723-f42b-41f6-a0f1-03711894e3b6",
   "metadata": {
    "id": "e6159723-f42b-41f6-a0f1-03711894e3b6"
   },
   "source": [
    "2. Транспонируем матрицу $X$:"
   ]
  },
  {
   "cell_type": "code",
   "execution_count": 4,
   "id": "64097498-bbad-484a-8549-a4712a2e8cf3",
   "metadata": {
    "id": "64097498-bbad-484a-8549-a4712a2e8cf3",
    "outputId": "dbefba6e-0ef4-4aed-8046-c336f66fa137"
   },
   "outputs": [
    {
     "data": {
      "text/plain": [
       "array([[ 1,  1,  1,  1,  1],\n",
       "       [ 1,  3,  5,  7,  9],\n",
       "       [ 2,  6, 10, 14, 18]])"
      ]
     },
     "execution_count": 4,
     "metadata": {},
     "output_type": "execute_result"
    }
   ],
   "source": [
    "X_T = X.T\n",
    "X_T"
   ]
  },
  {
   "cell_type": "markdown",
   "id": "5ec8d172-14e6-4cf9-ac8d-8b40512c82ba",
   "metadata": {
    "id": "5ec8d172-14e6-4cf9-ac8d-8b40512c82ba"
   },
   "source": [
    "3. Перемножим матрицы ${X}^T$ и $X$:"
   ]
  },
  {
   "cell_type": "code",
   "execution_count": 5,
   "id": "85c69dce-55b8-4926-a5b3-9afd7dc934d6",
   "metadata": {
    "id": "85c69dce-55b8-4926-a5b3-9afd7dc934d6",
    "outputId": "ecb0646b-c6d0-423e-d259-4fdaed61319c"
   },
   "outputs": [
    {
     "data": {
      "text/plain": [
       "array([[  5,  25,  50],\n",
       "       [ 25, 165, 330],\n",
       "       [ 50, 330, 660]])"
      ]
     },
     "execution_count": 5,
     "metadata": {},
     "output_type": "execute_result"
    }
   ],
   "source": [
    "X_TX = X_T @ X\n",
    "X_TX"
   ]
  },
  {
   "cell_type": "markdown",
   "id": "7929565a-f1d6-4465-92c7-00b5bf81e5bb",
   "metadata": {
    "id": "7929565a-f1d6-4465-92c7-00b5bf81e5bb"
   },
   "source": [
    "4. Найдём определитель матрицы ${X}^TX$:"
   ]
  },
  {
   "cell_type": "code",
   "execution_count": 6,
   "id": "bce6d4d3-c74d-4042-833c-ea48643865a6",
   "metadata": {
    "id": "bce6d4d3-c74d-4042-833c-ea48643865a6",
    "outputId": "8d6a80a2-c017-4478-d106-c01638331479"
   },
   "outputs": [
    {
     "data": {
      "text/plain": [
       "0.0"
      ]
     },
     "execution_count": 6,
     "metadata": {},
     "output_type": "execute_result"
    }
   ],
   "source": [
    "X_TX_det = nl.det(X_TX)\n",
    "X_TX_det"
   ]
  },
  {
   "cell_type": "markdown",
   "id": "cc390bf1-b936-4c46-b391-56725b9f0d0a",
   "metadata": {
    "id": "cc390bf1-b936-4c46-b391-56725b9f0d0a"
   },
   "source": [
    "5. Дополним матрицу ${X}^TX+\\alpha I$:"
   ]
  },
  {
   "cell_type": "code",
   "execution_count": 7,
   "id": "edec7380-77d2-4046-bcc4-0798f771f92f",
   "metadata": {
    "id": "edec7380-77d2-4046-bcc4-0798f771f92f",
    "outputId": "f48299b7-e5f9-492c-c29a-ecbd9f25b2e4"
   },
   "outputs": [
    {
     "data": {
      "text/plain": [
       "array([[0.1, 0. , 0. ],\n",
       "       [0. , 0.1, 0. ],\n",
       "       [0. , 0. , 0.1]])"
      ]
     },
     "execution_count": 7,
     "metadata": {},
     "output_type": "execute_result"
    }
   ],
   "source": [
    "alpha = 0.1\n",
    "I = np.eye(3)\n",
    "\n",
    "aI = alpha * I\n",
    "aI"
   ]
  },
  {
   "cell_type": "code",
   "execution_count": 8,
   "id": "2f77e5c2-8760-4ab4-a6fb-678dee0fca28",
   "metadata": {
    "id": "2f77e5c2-8760-4ab4-a6fb-678dee0fca28",
    "outputId": "372df416-3368-4be5-8a1f-fe98fb834c7a"
   },
   "outputs": [
    {
     "data": {
      "text/plain": [
       "array([[  5.1,  25. ,  50. ],\n",
       "       [ 25. , 165.1, 330. ],\n",
       "       [ 50. , 330. , 660.1]])"
      ]
     },
     "execution_count": 8,
     "metadata": {},
     "output_type": "execute_result"
    }
   ],
   "source": [
    "augmented_matrix = X_TX + aI\n",
    "augmented_matrix"
   ]
  },
  {
   "cell_type": "markdown",
   "id": "da55b0ac-b715-45f7-9319-f4a1b2f02874",
   "metadata": {
    "id": "da55b0ac-b715-45f7-9319-f4a1b2f02874"
   },
   "source": [
    "6. Найдём определитель матприцы ${X}^TX+\\alpha I$:"
   ]
  },
  {
   "cell_type": "code",
   "execution_count": 9,
   "id": "d5cc85db-fa67-45bc-8b82-6ef7d8f08190",
   "metadata": {
    "id": "d5cc85db-fa67-45bc-8b82-6ef7d8f08190",
    "outputId": "3b2c7eeb-a137-45a8-b205-1f3f7fd2f70f"
   },
   "outputs": [
    {
     "ename": "NameError",
     "evalue": "name 'prom_res' is not defined",
     "output_type": "error",
     "traceback": [
      "\u001b[1;31m---------------------------------------------------------------------------\u001b[0m",
      "\u001b[1;31mNameError\u001b[0m                                 Traceback (most recent call last)",
      "Cell \u001b[1;32mIn[9], line 1\u001b[0m\n\u001b[1;32m----> 1\u001b[0m augmented_matrix_det \u001b[38;5;241m=\u001b[39m nl\u001b[38;5;241m.\u001b[39mdet(\u001b[43mprom_res\u001b[49m)\n\u001b[0;32m      2\u001b[0m \u001b[38;5;28mround\u001b[39m(augmented_matrix_det, \u001b[38;5;241m2\u001b[39m)\n",
      "\u001b[1;31mNameError\u001b[0m: name 'prom_res' is not defined"
     ]
    }
   ],
   "source": [
    "augmented_matrix_det = nl.det(prom_res)\n",
    "round(augmented_matrix_det, 2)"
   ]
  },
  {
   "cell_type": "markdown",
   "id": "67c0da8d-c2d8-4310-ac0e-0cdaea0c48f5",
   "metadata": {
    "id": "67c0da8d-c2d8-4310-ac0e-0cdaea0c48f5"
   },
   "source": [
    "7. Найдём обратную матрицу $({X}^TX+\\alpha I)^{-1}$:"
   ]
  },
  {
   "cell_type": "code",
   "execution_count": null,
   "id": "80677e55-729f-4961-9465-5044948f0ba9",
   "metadata": {
    "id": "80677e55-729f-4961-9465-5044948f0ba9",
    "outputId": "08ca1cdf-5f58-475d-8aae-84cec462d0f0"
   },
   "outputs": [],
   "source": [
    "augmented_matrix_inv = nl.inv(prom_res)\n",
    "augmented_matrix_inv.round(5)"
   ]
  },
  {
   "cell_type": "markdown",
   "id": "bf20a48d-81fa-4a59-a6ea-1d316990bda5",
   "metadata": {
    "id": "bf20a48d-81fa-4a59-a6ea-1d316990bda5"
   },
   "source": [
    "8. Определим значение ${X}^TY$:"
   ]
  },
  {
   "cell_type": "code",
   "execution_count": 11,
   "id": "fafd0bd9-81eb-4e75-b5cd-a9e1bd0cf650",
   "metadata": {
    "id": "fafd0bd9-81eb-4e75-b5cd-a9e1bd0cf650",
    "outputId": "c4377ba7-fb3c-4e28-d5ad-23ba3390714c"
   },
   "outputs": [
    {
     "data": {
      "text/plain": [
       "array([ 125,  745, 1490])"
      ]
     },
     "execution_count": 11,
     "metadata": {},
     "output_type": "execute_result"
    }
   ],
   "source": [
    "X_TY = X_T @ Y\n",
    "X_TY"
   ]
  },
  {
   "cell_type": "markdown",
   "id": "c9d65877-284c-4df0-b58b-8e6e72f059c3",
   "metadata": {
    "id": "c9d65877-284c-4df0-b58b-8e6e72f059c3"
   },
   "source": [
    "9. Определим вектор весов $w$:"
   ]
  },
  {
   "cell_type": "code",
   "execution_count": 12,
   "id": "9d88c28e-134d-46a2-b623-7782edc45f14",
   "metadata": {
    "id": "9d88c28e-134d-46a2-b623-7782edc45f14",
    "outputId": "20fe780e-f8e6-4a70-c289-5fcd680188d1"
   },
   "outputs": [
    {
     "ename": "NameError",
     "evalue": "name 'augmented_matrix_inv' is not defined",
     "output_type": "error",
     "traceback": [
      "\u001b[1;31m---------------------------------------------------------------------------\u001b[0m",
      "\u001b[1;31mNameError\u001b[0m                                 Traceback (most recent call last)",
      "Cell \u001b[1;32mIn[12], line 1\u001b[0m\n\u001b[1;32m----> 1\u001b[0m w \u001b[38;5;241m=\u001b[39m \u001b[43maugmented_matrix_inv\u001b[49m \u001b[38;5;241m@\u001b[39m X_TY\n\u001b[0;32m      2\u001b[0m w\u001b[38;5;241m.\u001b[39mround(\u001b[38;5;241m2\u001b[39m)\n",
      "\u001b[1;31mNameError\u001b[0m: name 'augmented_matrix_inv' is not defined"
     ]
    }
   ],
   "source": [
    "w = augmented_matrix_inv @ X_TY\n",
    "w.round(2)"
   ]
  },
  {
   "cell_type": "markdown",
   "id": "ba082b9c-2e1d-48bc-9e3d-1dc2f20ebd95",
   "metadata": {
    "id": "ba082b9c-2e1d-48bc-9e3d-1dc2f20ebd95"
   },
   "source": [
    "10. Таким образом, уравнение регрессии имеет вид: \n",
    "\n",
    "$y=9.24*1+0.62*x_1+1.24*x_2=9.24+0.62*x_1+1.24*x_2$. \n",
    "\n",
    "Заметив, что $x_2=2*x_1$, можем сделать следующее преобразование: \n",
    "\n",
    "$y=9.24+0.62*x_1+1.24*x_2=9.24+0.62*x_1+1.24*2*x_1=9.24+3.1*x_1$. "
   ]
  },
  {
   "cell_type": "code",
   "execution_count": null,
   "id": "626c971f",
   "metadata": {},
   "outputs": [],
   "source": []
  }
 ],
 "metadata": {
  "colab": {
   "provenance": []
  },
  "kernelspec": {
   "display_name": "Python 3 (ipykernel)",
   "language": "python",
   "name": "python3"
  },
  "language_info": {
   "codemirror_mode": {
    "name": "ipython",
    "version": 3
   },
   "file_extension": ".py",
   "mimetype": "text/x-python",
   "name": "python",
   "nbconvert_exporter": "python",
   "pygments_lexer": "ipython3",
   "version": "3.10.9"
  }
 },
 "nbformat": 4,
 "nbformat_minor": 5
}
