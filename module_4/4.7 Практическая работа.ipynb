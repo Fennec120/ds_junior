{
  "cells": [
    {
      "cell_type": "markdown",
      "metadata": {
        "id": "UxKcKjF8qNWZ"
      },
      "source": [
        "\n",
        "# Линейная регрессия. Практическая работа"
      ]
    },
    {
      "cell_type": "markdown",
      "metadata": {
        "id": "_ohvVK9tqXJI"
      },
      "source": [
        "## Цель практической работы\n",
        "\n",
        "Научиться строить модель линейной регрессии на реальных данных."
      ]
    },
    {
      "cell_type": "markdown",
      "metadata": {
        "id": "pTiwLOIHqXRw"
      },
      "source": [
        "## Что входит в практическую работу\n",
        "\n",
        "\n",
        "1. Загрузить данные и ознакомиться с ними.\n",
        "2. Изучить данные и провести анализ.\n",
        "3. Разделить данные на обучающую и тестовую выборки.\n",
        "4. Реализовать построение модели с помощью  библиотеки scikit-learn.\n",
        "5. Получить качество модели с помощью MSE, MAE.\n"
      ]
    },
    {
      "cell_type": "markdown",
      "metadata": {
        "id": "fWl_mCkdqXUG"
      },
      "source": [
        "## Что оценивается \n",
        "\n",
        "* Выполнены все этапы работы.\n",
        "* Сделан вывод по результатам.\n",
        "* Модель не переобучена.\n",
        "* Получена модель хорошего качества."
      ]
    },
    {
      "cell_type": "markdown",
      "metadata": {
        "id": "mQ04nzTSqXWw"
      },
      "source": [
        "## Как отправить работу на проверку\n",
        "\n",
        "Скачайте файл с заданиями в материалах, откройте его через Jupyter Notebook и выполните задачи. Сохраните изменения при помощи опции Save and Checkpoint из вкладки меню File или кнопки Save and Checkpoint на панели инструментов. Отправьте через форму ниже итоговый файл Jupyter Notebook (в формате .ipynb) или ссылку на него.\n",
        "\n"
      ]
    },
    {
      "cell_type": "markdown",
      "metadata": {
        "id": "NkvSJDW6qhe-"
      },
      "source": [
        "## Что нужно сделать\n",
        "\n",
        "Пусть у нас имеется некоторый набор данных `sales.csv` о продажах квартир:\n",
        "\n",
        "- **SalePrice** (цена продажи, *зависимая переменная*).\n",
        "- **GrLivArea** (наземная жилая зона).\n",
        "- **OverallQuality** (общее качество).\n",
        "- **GarageArea** (территория гаража).\n",
        "- **SaleCondition** (условия сделки).\n",
        "\n",
        "Реализуйте построение модели линейной регрессии на этих данных. Проверьте качество модели на обучающей и тестовой выборках с помощью MAE, MSE. Определите, что вы не переобучились."
      ]
    },
    {
      "cell_type": "markdown",
      "metadata": {
        "id": "EMiWw404BPe9"
      },
      "source": [
        "### 1. Импорт библиотек"
      ]
    },
    {
      "cell_type": "code",
      "execution_count": null,
      "metadata": {
        "id": "tIB3665tpwY5"
      },
      "outputs": [],
      "source": [
        "# Ваш код здесь"
      ]
    },
    {
      "cell_type": "markdown",
      "metadata": {
        "id": "ZWCSzs2aBPfB"
      },
      "source": [
        "### 2. Загрузка данных"
      ]
    },
    {
      "cell_type": "code",
      "execution_count": null,
      "metadata": {
        "id": "k-IvYesvrbcW"
      },
      "outputs": [],
      "source": [
        "# Ваш код здесь"
      ]
    },
    {
      "cell_type": "markdown",
      "metadata": {
        "id": "4f-uZc_rBPfE"
      },
      "source": [
        "### 3. Первичный анализ\n",
        "\n",
        "1. Проведите анализ данных, посмотрите на индивидуальные графики зависимости целевой функции и отдельной переменной. Нередко, если признаков в выборке не так много, удобно построить [sns.pairplot](https://seaborn.pydata.org/generated/seaborn.pairplot.html).\n",
        "2. Закодируйте категориальные признаки (например, с помощью [pd.get_dummies](https://pandas.pydata.org/docs/reference/api/pandas.get_dummies.html)).\n",
        "3. Подумайте, можно ли здесь создать дополнительные переменные из имеющихся.\n",
        "4. Сделайте предварительные выводы."
      ]
    },
    {
      "cell_type": "code",
      "execution_count": null,
      "metadata": {
        "id": "7j1gr1MhvWB-"
      },
      "outputs": [],
      "source": [
        "# Ваш код здесь"
      ]
    },
    {
      "cell_type": "markdown",
      "metadata": {
        "id": "pu4cFGblBPfG"
      },
      "source": [
        "### 4. Разделение на обучающую и тестовую выборки"
      ]
    },
    {
      "cell_type": "code",
      "execution_count": null,
      "metadata": {
        "id": "Ba7fXJU_wOJ9"
      },
      "outputs": [],
      "source": [
        "# Ваш код здесь"
      ]
    },
    {
      "cell_type": "markdown",
      "metadata": {
        "id": "s5zxLft5BPfH"
      },
      "source": [
        "### 5. Обучение модели линейной регрессии\n",
        "\n",
        "Дополнительно можно взглянуть на коэффициенты и смещение обученной модели."
      ]
    },
    {
      "cell_type": "code",
      "execution_count": null,
      "metadata": {
        "id": "p8zJv01ywONB"
      },
      "outputs": [],
      "source": [
        "# Ваш код здесь"
      ]
    },
    {
      "cell_type": "markdown",
      "metadata": {
        "id": "2yttVRilBPfI"
      },
      "source": [
        "### 6. Получение предсказаний для обучающей и тестовой выборок"
      ]
    },
    {
      "cell_type": "code",
      "execution_count": null,
      "metadata": {
        "id": "vX2VqH2pwOnH"
      },
      "outputs": [],
      "source": [
        "# Ваш код здесь"
      ]
    },
    {
      "cell_type": "markdown",
      "metadata": {
        "id": "7yoAXuOOBPfJ"
      },
      "source": [
        "### 7. Проверка предсказаний\n",
        "\n",
        "1. Проверьте качество модели на обучающей и тестовой выборках с помощью MAE, MSE.\n",
        "2. Постройте диаграмму рассеяния целевой и предсказанной переменных. "
      ]
    },
    {
      "cell_type": "code",
      "execution_count": null,
      "metadata": {
        "id": "23Pj6ErtzByI"
      },
      "outputs": [],
      "source": [
        "# Ваш код здесь"
      ]
    }
  ],
  "metadata": {
    "colab": {
      "provenance": []
    },
    "kernelspec": {
      "display_name": "Python 3 (ipykernel)",
      "language": "python",
      "name": "python3"
    },
    "language_info": {
      "codemirror_mode": {
        "name": "ipython",
        "version": 3
      },
      "file_extension": ".py",
      "mimetype": "text/x-python",
      "name": "python",
      "nbconvert_exporter": "python",
      "pygments_lexer": "ipython3",
      "version": "3.9.12"
    }
  },
  "nbformat": 4,
  "nbformat_minor": 0
}