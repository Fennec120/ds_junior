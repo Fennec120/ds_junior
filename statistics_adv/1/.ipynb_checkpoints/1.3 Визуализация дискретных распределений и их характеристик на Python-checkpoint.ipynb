{
 "cells": [
  {
   "cell_type": "markdown",
   "id": "c78f7086",
   "metadata": {
    "id": "c78f7086"
   },
   "source": [
    "# 1.2 Визуализация дискретных распределений и их характеристик на Python"
   ]
  },
  {
   "cell_type": "code",
   "execution_count": 1,
   "id": "7b7a904f",
   "metadata": {
    "id": "7b7a904f",
    "outputId": "1e74429d-0e8c-4ebc-97f6-b90a0c4e3b09"
   },
   "outputs": [
    {
     "name": "stderr",
     "output_type": "stream",
     "text": [
      "C:\\Users\\User\\AppData\\Local\\Temp\\ipykernel_9020\\586309859.py:2: DeprecationWarning: Importing display from IPython.core.display is deprecated since IPython 7.14, please import from IPython display\n",
      "  from IPython.core.display import display, HTML\n"
     ]
    },
    {
     "data": {
      "text/html": [
       "<style>.container {width:95% !important;}</style>"
      ],
      "text/plain": [
       "<IPython.core.display.HTML object>"
      ]
     },
     "metadata": {},
     "output_type": "display_data"
    }
   ],
   "source": [
    "# расширяем поле ноутбука для удобства\n",
    "from IPython.core.display import display, HTML\n",
    "display(HTML('<style>.container {width:95% !important;}</style>'))\n",
    "\n",
    "# убираем предупреждения\n",
    "import warnings\n",
    "warnings.filterwarnings('ignore')"
   ]
  },
  {
   "cell_type": "code",
   "execution_count": 2,
   "id": "0b9f12ec",
   "metadata": {
    "id": "0b9f12ec"
   },
   "outputs": [],
   "source": [
    "import numpy as np\n",
    "import scipy\n",
    "import matplotlib.pyplot as plt\n",
    "%matplotlib inline\n",
    "plt.style.use('seaborn-whitegrid')"
   ]
  },
  {
   "cell_type": "code",
   "execution_count": 3,
   "id": "e84fd309",
   "metadata": {
    "id": "e84fd309"
   },
   "outputs": [],
   "source": [
    "import scipy.stats as sps"
   ]
  },
  {
   "cell_type": "markdown",
   "id": "31b447fa",
   "metadata": {
    "id": "31b447fa"
   },
   "source": [
    "# 1. Дискретные распределения\n",
    "\n",
    "- 1. Бернулли.\n",
    "- 2. Биномиальное.\n",
    "- 3. Геометрическое.\n",
    "- 4. Отрицательное биномиальное (Паскаля).\n",
    "- 5. Пуассона."
   ]
  },
  {
   "cell_type": "markdown",
   "id": "671167be",
   "metadata": {
    "id": "671167be"
   },
   "source": [
    "## 1.1 Распределение Бернулли\n",
    "\n",
    "https://docs.scipy.org/doc/scipy/reference/generated/scipy.stats.bernoulli.html#scipy.stats.bernoulli"
   ]
  },
  {
   "cell_type": "markdown",
   "id": "99ef06d2",
   "metadata": {
    "id": "99ef06d2"
   },
   "source": [
    "### Пояснение\n",
    "\n",
    "Распределение Берну́лли в теории вероятностей и математической статистике — дискретное распределение вероятностей, моделирующее случайный эксперимент произвольной природы, при заранее известной вероятности успеха или неудачи.\n",
    "\n",
    "Например, бросок монеты, или переключение датчика, имеющего два положения, моделируется данным распределением. \n",
    "\n",
    "### Обозначение\n",
    "\n",
    "$X \\sim B(p) $\n",
    "\n",
    "### Параметры\n",
    "\n",
    "$0 \\leq p \\leq 1$ - вероятность успеха\n",
    "\n",
    "### Математическое ожидание\n",
    "\n",
    "E(X) = p\n",
    "\n",
    "### Дисперсия \n",
    "\n",
    "Var[X] = p(1-p)"
   ]
  },
  {
   "cell_type": "markdown",
   "id": "5fb01f97",
   "metadata": {
    "id": "5fb01f97"
   },
   "source": [
    "### Построение графиков"
   ]
  },
  {
   "cell_type": "code",
   "execution_count": null,
   "id": "3dc70e74",
   "metadata": {
    "id": "3dc70e74",
    "outputId": "0e537b15-2850-47ea-8bf2-988adbda5624"
   },
   "outputs": [
    {
     "name": "stdout",
     "output_type": "stream",
     "text": [
      "Математическое ожидание:  0.4\n",
      "Дисперсия:  0.24\n"
     ]
    }
   ],
   "source": [
    "## задаем распределение с параметрами\n",
    "rv_bernoulli = sps.bernoulli(p=0.4)\n",
    "\n",
    "print('Математическое ожидание: ', rv_bernoulli.mean())\n",
    "print('Дисперсия: ', rv_bernoulli.var())"
   ]
  },
  {
   "cell_type": "code",
   "execution_count": null,
   "id": "bba9603f",
   "metadata": {
    "id": "bba9603f",
    "outputId": "1f6e48c2-de43-40fc-b757-d02ec8b5f100"
   },
   "outputs": [
    {
     "name": "stdout",
     "output_type": "stream",
     "text": [
      "Выборочное среднее: 0.375\n",
      "Выборочная дисперсия: 0.234\n"
     ]
    }
   ],
   "source": [
    "# Формирование выборки\n",
    "sample = rv_bernoulli.rvs(size=200)\n",
    "\n",
    "print('Выборочное среднее: %.3f' % sample.mean())\n",
    "print('Выборочная дисперсия: %.3f' % sample.var())"
   ]
  },
  {
   "cell_type": "markdown",
   "id": "9374b84f",
   "metadata": {
    "id": "9374b84f"
   },
   "source": [
    "### Функция вероятности (PMF)\n",
    "\n",
    "$P(X=k) = p^k(1-p)^{(1-k)}$"
   ]
  },
  {
   "cell_type": "code",
   "execution_count": null,
   "id": "c2a3c820",
   "metadata": {
    "id": "c2a3c820",
    "outputId": "498e642a-94f0-42fa-f876-5bf643a1f9fa"
   },
   "outputs": [
    {
     "data": {
      "image/png": "[encoded data removed]",
      "text/plain": [
       "<Figure size 432x288 with 1 Axes>"
      ]
     },
     "metadata": {},
     "output_type": "display_data"
    }
   ],
   "source": [
    "X = [0, 1]\n",
    "\n",
    "plt.plot(X, rv_bernoulli.pmf(X), ls=\"\",marker=\"s\",color='b')\n",
    "plt.xlabel('x')\n",
    "plt.ylabel('f(x)')\n",
    "plt.title('Probability mass function (pmf)')\n",
    "plt.show()"
   ]
  },
  {
   "cell_type": "markdown",
   "id": "9a603ce7",
   "metadata": {
    "id": "9a603ce7"
   },
   "source": [
    "### Функция распределения (CDF)"
   ]
  },
  {
   "cell_type": "code",
   "execution_count": null,
   "id": "0cb5212f",
   "metadata": {
    "id": "0cb5212f",
    "outputId": "0538078d-15fc-46c4-d687-7fc8b8f5f36e"
   },
   "outputs": [
    {
     "data": {
      "image/png": "[encoded data removed]",
      "text/plain": [
       "<Figure size 432x288 with 1 Axes>"
      ]
     },
     "metadata": {},
     "output_type": "display_data"
    }
   ],
   "source": [
    "X = np.linspace(-2, 2, 100)\n",
    "\n",
    "plt.plot(X, rv_bernoulli.cdf(X))\n",
    "plt.xlabel('x')\n",
    "plt.ylabel('F(x)')\n",
    "plt.title('Cumulative distribution function (cdf)')\n",
    "plt.show()"
   ]
  },
  {
   "cell_type": "markdown",
   "id": "d201f834",
   "metadata": {
    "id": "d201f834"
   },
   "source": [
    "## 1.2 Биномиальное распределение\n",
    "\n",
    "https://docs.scipy.org/doc/scipy/reference/generated/scipy.stats.binom.html#scipy.stats.binom"
   ]
  },
  {
   "cell_type": "markdown",
   "id": "ae6c8a64",
   "metadata": {
    "id": "ae6c8a64"
   },
   "source": [
    "### Пояснение\n",
    "\n",
    "Биномиа́льное распределение с параметрами n и p в теории вероятностей — распределение количества «успехов» в последовательности из n независимых случайных экспериментов, таких, что вероятность «успеха» в каждом из них постоянна и равна p.\n",
    "\n",
    "Это распределение интенсивно используется в картах контроля качества для оценки доли годной продукции или доли брака.          \n",
    "В телекоммуникации для оценки доли необслуженных (потерянных) вызовов.\n",
    "\n",
    "### Обозначение\n",
    "\n",
    "$X \\sim Bin(n, p) $\n",
    "\n",
    "### Параметры\n",
    "\n",
    "$ n \\geq 0$ - число испытаний       \n",
    "$0 \\leq p \\leq 1$ - вероятность успеха\n",
    "\n",
    "### Математическое ожидание\n",
    "\n",
    "E(X) = np\n",
    "\n",
    "### Дисперсия \n",
    "\n",
    "Var[X] = np(1-p)"
   ]
  },
  {
   "cell_type": "markdown",
   "id": "4202aac4",
   "metadata": {
    "id": "4202aac4"
   },
   "source": [
    "### Построение графиков"
   ]
  },
  {
   "cell_type": "code",
   "execution_count": null,
   "id": "b3147251",
   "metadata": {
    "id": "b3147251",
    "outputId": "89cc3581-9cfa-4c62-d9ca-d980457d0ea2"
   },
   "outputs": [
    {
     "name": "stdout",
     "output_type": "stream",
     "text": [
      "Математическое ожидание:  8.0\n",
      "Дисперсия:  4.8\n"
     ]
    }
   ],
   "source": [
    "## задаем распределение с параметрами\n",
    "rv_binom = sps.binom(n=20, p=0.4)\n",
    "\n",
    "print('Математическое ожидание: ', rv_binom.mean())\n",
    "print('Дисперсия: ', rv_binom.var())"
   ]
  },
  {
   "cell_type": "code",
   "execution_count": null,
   "id": "78247043",
   "metadata": {
    "id": "78247043",
    "outputId": "974aa148-ac6b-4ddd-98fd-f67be8ca001c"
   },
   "outputs": [
    {
     "name": "stdout",
     "output_type": "stream",
     "text": [
      "Выборочное среднее: 8.035\n",
      "Выборочная дисперсия: 4.394\n"
     ]
    }
   ],
   "source": [
    "# Формирование выборки\n",
    "sample = rv_binom.rvs(size=200)\n",
    "\n",
    "print('Выборочное среднее: %.3f' % sample.mean())\n",
    "print('Выборочная дисперсия: %.3f' % sample.var())"
   ]
  },
  {
   "cell_type": "markdown",
   "id": "e62a0a47",
   "metadata": {
    "id": "e62a0a47"
   },
   "source": [
    "### Функция вероятности (PMF)\n",
    "\n",
    "$P(X=k) = {C_n}^k p^k(1-p)^{(n-k)}$"
   ]
  },
  {
   "cell_type": "code",
   "execution_count": null,
   "id": "924f12a6",
   "metadata": {
    "id": "924f12a6",
    "outputId": "be63ba22-dc44-44d4-b1e7-8c362b2cdfa7"
   },
   "outputs": [
    {
     "data": {
      "image/png": "[encoded data removed]",
      "text/plain": [
       "<Figure size 432x288 with 1 Axes>"
      ]
     },
     "metadata": {},
     "output_type": "display_data"
    }
   ],
   "source": [
    "X = np.arange(0, 30)\n",
    "\n",
    "plt.plot(X, rv_binom.pmf(X), ls=\"\",marker=\"s\",color='b')\n",
    "plt.xlabel('x')\n",
    "plt.ylabel('f(x)')\n",
    "plt.title('Probability mass function (pmf)')\n",
    "plt.show()"
   ]
  },
  {
   "cell_type": "markdown",
   "id": "bc3c1eac",
   "metadata": {
    "id": "bc3c1eac"
   },
   "source": [
    "### Функция распределения (CDF)"
   ]
  },
  {
   "cell_type": "code",
   "execution_count": null,
   "id": "4aa2781f",
   "metadata": {
    "id": "4aa2781f",
    "outputId": "df13a71a-c3f6-4028-9b00-880729dd3175"
   },
   "outputs": [
    {
     "data": {
      "image/png": "[encoded data removed]",
      "text/plain": [
       "<Figure size 432x288 with 1 Axes>"
      ]
     },
     "metadata": {},
     "output_type": "display_data"
    }
   ],
   "source": [
    "X = np.linspace(-10, 30, 100)\n",
    "\n",
    "plt.plot(X, rv_binom.cdf(X))\n",
    "plt.xlabel('x')\n",
    "plt.ylabel('F(x)')\n",
    "plt.title('Cumulative distribution function (cdf)')\n",
    "plt.show()"
   ]
  },
  {
   "cell_type": "markdown",
   "id": "bee8ceca",
   "metadata": {
    "id": "bee8ceca"
   },
   "source": [
    "## 1.3 Геометрическое распределение\n",
    "\n",
    "https://docs.scipy.org/doc/scipy/reference/generated/scipy.stats.geom.html#scipy.stats.geom"
   ]
  },
  {
   "cell_type": "markdown",
   "id": "e8d34380",
   "metadata": {
    "id": "e8d34380"
   },
   "source": [
    "### Пояснение\n",
    "\n",
    "Под геометрическим распределением понимается распределение случайной величины X равной номеру первого успеха в серии испытаний Бернулли и принимающей значения n=1,2,3...\n",
    "\n",
    "Данное распределение является частным случаем отрицательного биномиального. Поэтому использование данного распределение будет указано далее.\n",
    "\n",
    "### Обозначение\n",
    "\n",
    "$$X \\sim Geom(p) $$\n",
    "\n",
    "### Параметры\n",
    "\n",
    "$ n \\geq 1$ - номер первого успеха       \n",
    "$0 \\leq p \\leq 1$ - вероятность успеха\n",
    "\n",
    "### Математическое ожидание\n",
    "\n",
    "$$E(X) = \\frac{1}{p}$$\n",
    "\n",
    "### Дисперсия \n",
    "\n",
    "$$Var[X] = \\frac{(1-p)}{p^2}$$"
   ]
  },
  {
   "cell_type": "markdown",
   "id": "6aabd1f3",
   "metadata": {
    "id": "6aabd1f3"
   },
   "source": [
    "### Построение графиков"
   ]
  },
  {
   "cell_type": "code",
   "execution_count": null,
   "id": "f2946c80",
   "metadata": {
    "id": "f2946c80",
    "outputId": "ad78ceb2-8cf4-4cf6-8bd8-06903598b105"
   },
   "outputs": [
    {
     "name": "stdout",
     "output_type": "stream",
     "text": [
      "Математическое ожидание:  2.5\n",
      "Дисперсия:  3.749999999999999\n"
     ]
    }
   ],
   "source": [
    "## задаем распределение с параметрами\n",
    "rv_geom = sps.geom(p=0.4)\n",
    "\n",
    "print('Математическое ожидание: ', rv_geom.mean())\n",
    "print('Дисперсия: ', rv_geom.var())"
   ]
  },
  {
   "cell_type": "code",
   "execution_count": null,
   "id": "992b9960",
   "metadata": {
    "id": "992b9960",
    "outputId": "f3bfb3c9-3674-4606-c0b4-bc347b9c9851"
   },
   "outputs": [
    {
     "name": "stdout",
     "output_type": "stream",
     "text": [
      "Выборочное среднее: 2.510\n",
      "Выборочная дисперсия: 4.020\n"
     ]
    }
   ],
   "source": [
    "# Формирование выборки\n",
    "sample = rv_geom.rvs(size=200)\n",
    "\n",
    "print('Выборочное среднее: %.3f' % sample.mean())\n",
    "print('Выборочная дисперсия: %.3f' % sample.var())"
   ]
  },
  {
   "cell_type": "markdown",
   "id": "de8f5d0e",
   "metadata": {
    "id": "de8f5d0e"
   },
   "source": [
    "### Функция вероятности (PMF)\n",
    "\n",
    "$P(X=k) = (1-p)^{(k-1)}p$"
   ]
  },
  {
   "cell_type": "code",
   "execution_count": null,
   "id": "8053a794",
   "metadata": {
    "id": "8053a794",
    "outputId": "5a6865f4-a627-428e-ea8c-bcd001cc7747"
   },
   "outputs": [
    {
     "data": {
      "image/png": "[encoded data removed]",
      "text/plain": [
       "<Figure size 432x288 with 1 Axes>"
      ]
     },
     "metadata": {},
     "output_type": "display_data"
    }
   ],
   "source": [
    "X = np.arange(1, 30)\n",
    "\n",
    "plt.plot(X, rv_geom.pmf(X), ls=\"\",marker=\"s\",color='b')\n",
    "plt.xlabel('x')\n",
    "plt.ylabel('f(x)')\n",
    "plt.title('Probability mass function (pmf)')\n",
    "plt.show()"
   ]
  },
  {
   "cell_type": "markdown",
   "id": "9b31e63f",
   "metadata": {
    "id": "9b31e63f"
   },
   "source": [
    "### Функция распределения (CDF)"
   ]
  },
  {
   "cell_type": "code",
   "execution_count": null,
   "id": "022d8fd8",
   "metadata": {
    "id": "022d8fd8",
    "outputId": "edb7e24c-31a6-4bf3-e9d5-433431a1d496"
   },
   "outputs": [
    {
     "data": {
      "image/png": "[encoded data removed]",
      "text/plain": [
       "<Figure size 432x288 with 1 Axes>"
      ]
     },
     "metadata": {},
     "output_type": "display_data"
    }
   ],
   "source": [
    "X = np.linspace(-10, 30, 100)\n",
    "\n",
    "plt.plot(X, rv_geom.cdf(X))\n",
    "plt.xlabel('x')\n",
    "plt.ylabel('F(x)')\n",
    "plt.title('Cumulative distribution function (cdf)')\n",
    "plt.show()"
   ]
  },
  {
   "cell_type": "markdown",
   "id": "7e18f282",
   "metadata": {
    "id": "7e18f282"
   },
   "source": [
    "## 1.4 Отрицательное биномиальное (Паскаля)\n",
    "\n",
    "https://docs.scipy.org/doc/scipy/reference/generated/scipy.stats.nbinom.html#scipy.stats.nbinom"
   ]
  },
  {
   "cell_type": "markdown",
   "id": "94dbc6e6",
   "metadata": {
    "id": "94dbc6e6"
   },
   "source": [
    "### Пояснение\n",
    "\n",
    "Отрицательное биномиальное распределение — распределение дискретной случайной величины, равной числу произошедших неудач в последовательности испытаний Бернулли с вероятностью успеха p, проводимых до r-го успеха.\n",
    "\n",
    "Данное распределение нашло широкое применение для распределения количества претензий по страхованию здоровья, реже — в сфере автогражданской ответственности или комплексного страхования.\n",
    "\n",
    "### Обозначение\n",
    "\n",
    "$$X \\sim NB(r, p) $$\n",
    "\n",
    "### Параметры\n",
    "\n",
    "$ r $ - количество успехов  \n",
    "$k$ - количество неудач       \n",
    "$0 \\leq p \\leq 1$ - вероятность успеха\n",
    "\n",
    "### Математическое ожидание\n",
    "\n",
    "$$E(X) = \\frac{r(1-p)}{p}$$\n",
    "\n",
    "### Дисперсия \n",
    "\n",
    "$$Var[X] = \\frac{r(1-p)}{p^2}$$"
   ]
  },
  {
   "cell_type": "markdown",
   "id": "363146fb",
   "metadata": {
    "id": "363146fb"
   },
   "source": [
    "### Построение графиков"
   ]
  },
  {
   "cell_type": "code",
   "execution_count": null,
   "id": "af24b12a",
   "metadata": {
    "id": "af24b12a",
    "outputId": "c692fffd-b213-42c7-f993-e1c7be5a2f02"
   },
   "outputs": [
    {
     "name": "stdout",
     "output_type": "stream",
     "text": [
      "Математическое ожидание:  15.0\n",
      "Дисперсия:  37.49999999999999\n"
     ]
    }
   ],
   "source": [
    "## задаем распределение с параметрами\n",
    "rv_nbin = sps.nbinom(n=10, p=0.4)\n",
    "\n",
    "print('Математическое ожидание: ', rv_nbin.mean())\n",
    "print('Дисперсия: ', rv_nbin.var())"
   ]
  },
  {
   "cell_type": "code",
   "execution_count": null,
   "id": "e70a9aa9",
   "metadata": {
    "id": "e70a9aa9",
    "outputId": "9d2e3bb7-becd-4482-ae09-35765485c899"
   },
   "outputs": [
    {
     "name": "stdout",
     "output_type": "stream",
     "text": [
      "Выборочное среднее: 15.190\n",
      "Выборочная дисперсия: 40.984\n"
     ]
    }
   ],
   "source": [
    "# Формирование выборки\n",
    "sample = rv_nbin.rvs(size=200)\n",
    "\n",
    "print('Выборочное среднее: %.3f' % sample.mean())\n",
    "print('Выборочная дисперсия: %.3f' % sample.var())"
   ]
  },
  {
   "cell_type": "markdown",
   "id": "345074c0",
   "metadata": {
    "id": "345074c0"
   },
   "source": [
    "### Функция вероятности (PMF)\n",
    "\n",
    "$P(X=k) = C_{k+r-1}^k(1-p)^{k}p^{r}$"
   ]
  },
  {
   "cell_type": "code",
   "execution_count": null,
   "id": "6a41368f",
   "metadata": {
    "id": "6a41368f",
    "outputId": "478d81cb-6186-449c-a4c4-4b29b01bb4c9"
   },
   "outputs": [
    {
     "data": {
      "image/png": "[encoded data removed]",
      "text/plain": [
       "<Figure size 432x288 with 1 Axes>"
      ]
     },
     "metadata": {},
     "output_type": "display_data"
    }
   ],
   "source": [
    "X = np.arange(1, 30)\n",
    "\n",
    "plt.plot(X, rv_nbin.pmf(X), ls=\"\",marker=\"s\",color='b')\n",
    "plt.xlabel('x')\n",
    "plt.ylabel('f(x)')\n",
    "plt.title('Probability mass function (pmf)')\n",
    "plt.show()"
   ]
  },
  {
   "cell_type": "markdown",
   "id": "c54fd94b",
   "metadata": {
    "id": "c54fd94b"
   },
   "source": [
    "### Функция распределения (CDF)"
   ]
  },
  {
   "cell_type": "code",
   "execution_count": null,
   "id": "851fd7fd",
   "metadata": {
    "id": "851fd7fd",
    "outputId": "45f226af-0d87-4add-a41a-f54e115eb166"
   },
   "outputs": [
    {
     "data": {
      "image/png": "[encoded data removed]",
      "text/plain": [
       "<Figure size 432x288 with 1 Axes>"
      ]
     },
     "metadata": {},
     "output_type": "display_data"
    }
   ],
   "source": [
    "X = np.linspace(-10, 30, 100)\n",
    "\n",
    "plt.plot(X, rv_nbin.cdf(X))\n",
    "plt.xlabel('x')\n",
    "plt.ylabel('F(x)')\n",
    "plt.title('Cumulative distribution function (cdf)')\n",
    "plt.show()"
   ]
  },
  {
   "cell_type": "markdown",
   "id": "51fbb693",
   "metadata": {
    "id": "51fbb693"
   },
   "source": [
    "## 1.5 Пуассона\n",
    "\n",
    "https://docs.scipy.org/doc/scipy/reference/generated/scipy.stats.poisson.html#scipy.stats.poisson"
   ]
  },
  {
   "cell_type": "markdown",
   "id": "ac45e5cd",
   "metadata": {
    "id": "ac45e5cd"
   },
   "source": [
    "### Пояснение\n",
    "\n",
    "Распределение Пуассона — распределение дискретного типа случайных величин, представляющее собой число событий, произошедших за фиксированное время, при условии, что данные события происходят с некоторой фиксированной средней интенсивностью и независимо друг от друга.\n",
    "\n",
    "Это распределение интенсивно используется в картах контроля качества, теории массового обслуживания, телекоммуникации, медицинской статистике.\n",
    "\n",
    "### Обозначение\n",
    "\n",
    "$$X \\sim P(\\lambda) $$\n",
    "\n",
    "### Параметры\n",
    "\n",
    "$ k $ — количество событий;   \n",
    "$\\lambda $ — математическое ожидание случайной величины (среднее количество событий за фиксированный промежуток времени).\n",
    "\n",
    "### Математическое ожидание\n",
    "\n",
    "$$E(X) = \\lambda$$\n",
    "\n",
    "### Дисперсия \n",
    "\n",
    "$$Var[X] = \\lambda$$"
   ]
  },
  {
   "cell_type": "markdown",
   "id": "3482b48d",
   "metadata": {
    "id": "3482b48d"
   },
   "source": [
    "### Построение графиков"
   ]
  },
  {
   "cell_type": "code",
   "execution_count": null,
   "id": "9f290abd",
   "metadata": {
    "id": "9f290abd",
    "outputId": "70e64437-0ed6-4025-91f5-fb099230f442"
   },
   "outputs": [
    {
     "name": "stdout",
     "output_type": "stream",
     "text": [
      "Математическое ожидание:  4.0\n",
      "Дисперсия:  4.0\n"
     ]
    }
   ],
   "source": [
    "## задаем распределение с параметрами\n",
    "rv_poi = sps.poisson(mu=4)\n",
    "\n",
    "print('Математическое ожидание: ', rv_poi.mean())\n",
    "print('Дисперсия: ', rv_poi.var())"
   ]
  },
  {
   "cell_type": "code",
   "execution_count": null,
   "id": "8e90b068",
   "metadata": {
    "id": "8e90b068",
    "outputId": "629252eb-2c75-4bfb-88fc-778c829aa2c8"
   },
   "outputs": [
    {
     "name": "stdout",
     "output_type": "stream",
     "text": [
      "Выборочное среднее: 3.990\n",
      "Выборочная дисперсия: 3.680\n"
     ]
    }
   ],
   "source": [
    "# Формирование выборки\n",
    "sample = rv_poi.rvs(size=200)\n",
    "\n",
    "print('Выборочное среднее: %.3f' % sample.mean())\n",
    "print('Выборочная дисперсия: %.3f' % sample.var())"
   ]
  },
  {
   "cell_type": "markdown",
   "id": "c891ccc6",
   "metadata": {
    "id": "c891ccc6"
   },
   "source": [
    "### Функция вероятности (PMF)\n",
    "\n",
    "$P(X=k) = \\frac{\\lambda^k}{k!}e^{-\\lambda}$"
   ]
  },
  {
   "cell_type": "code",
   "execution_count": null,
   "id": "abba2eaf",
   "metadata": {
    "id": "abba2eaf",
    "outputId": "a8f03cab-fb6b-4e09-d70a-efb72535d87b"
   },
   "outputs": [
    {
     "data": {
      "image/png": "[encoded data removed]",
      "text/plain": [
       "<Figure size 432x288 with 1 Axes>"
      ]
     },
     "metadata": {},
     "output_type": "display_data"
    }
   ],
   "source": [
    "X = np.arange(0, 30)\n",
    "\n",
    "plt.plot(X, rv_poi.pmf(X), ls=\"\",marker=\"s\",color='b')\n",
    "plt.xlabel('x')\n",
    "plt.ylabel('f(x)')\n",
    "plt.title('Probability mass function (pmf)')\n",
    "plt.show()"
   ]
  },
  {
   "cell_type": "code",
   "execution_count": null,
   "id": "6e0bcb0f",
   "metadata": {
    "id": "6e0bcb0f",
    "outputId": "4ee63942-834b-4ded-f14c-29e91435b41e"
   },
   "outputs": [
    {
     "data": {
      "image/png": "[encoded data removed]",
      "text/plain": [
       "<Figure size 432x288 with 1 Axes>"
      ]
     },
     "metadata": {},
     "output_type": "display_data"
    }
   ],
   "source": [
    "X = np.linspace(-10, 30, 100)\n",
    "\n",
    "plt.plot(X, rv_poi.cdf(X))\n",
    "plt.xlabel('x')\n",
    "plt.ylabel('F(x)')\n",
    "plt.title('Cumulative distribution function (cdf)')\n",
    "plt.show()"
   ]
  }
 ],
 "metadata": {
  "colab": {
   "collapsed_sections": [],
   "name": "1.2_Визуализация дискретных распределений и их характеристик на Python.ipynb",
   "provenance": []
  },
  "kernelspec": {
   "display_name": "Python 3 (ipykernel)",
   "language": "python",
   "name": "python3"
  },
  "language_info": {
   "codemirror_mode": {
    "name": "ipython",
    "version": 3
   },
   "file_extension": ".py",
   "mimetype": "text/x-python",
   "name": "python",
   "nbconvert_exporter": "python",
   "pygments_lexer": "ipython3",
   "version": "3.11.5"
  }
 },
 "nbformat": 4,
 "nbformat_minor": 5
}
