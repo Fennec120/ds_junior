{
 "cells": [
  {
   "cell_type": "code",
   "execution_count": 21,
   "metadata": {
    "id": "z_BPTnNmhXMT"
   },
   "outputs": [],
   "source": [
    "import pandas as pd"
   ]
  },
  {
   "cell_type": "code",
   "execution_count": 22,
   "metadata": {
    "colab": {
     "base_uri": "https://localhost:8080/",
     "height": 206
    },
    "id": "K-WHRlNFj42C",
    "outputId": "360be7c5-3b59-44d0-c403-e2ba111d9b14",
    "scrolled": true
   },
   "outputs": [
    {
     "data": {
      "text/html": [
       "<div>\n",
       "<style scoped>\n",
       "    .dataframe tbody tr th:only-of-type {\n",
       "        vertical-align: middle;\n",
       "    }\n",
       "\n",
       "    .dataframe tbody tr th {\n",
       "        vertical-align: top;\n",
       "    }\n",
       "\n",
       "    .dataframe thead th {\n",
       "        text-align: right;\n",
       "    }\n",
       "</style>\n",
       "<table border=\"1\" class=\"dataframe\">\n",
       "  <thead>\n",
       "    <tr style=\"text-align: right;\">\n",
       "      <th></th>\n",
       "      <th>model</th>\n",
       "      <th>year</th>\n",
       "      <th>price</th>\n",
       "      <th>transmission</th>\n",
       "      <th>mileage</th>\n",
       "      <th>fuelType</th>\n",
       "      <th>tax</th>\n",
       "      <th>mpg</th>\n",
       "      <th>engineSize</th>\n",
       "    </tr>\n",
       "  </thead>\n",
       "  <tbody>\n",
       "    <tr>\n",
       "      <th>0</th>\n",
       "      <td>SLK</td>\n",
       "      <td>2005.0</td>\n",
       "      <td>5200</td>\n",
       "      <td>Automatic</td>\n",
       "      <td>63000.0</td>\n",
       "      <td>Petrol</td>\n",
       "      <td>325.0</td>\n",
       "      <td>NaN</td>\n",
       "      <td>1.8</td>\n",
       "    </tr>\n",
       "    <tr>\n",
       "      <th>1</th>\n",
       "      <td>S Class</td>\n",
       "      <td>2017.0</td>\n",
       "      <td>34948</td>\n",
       "      <td>Automatic</td>\n",
       "      <td>27000.0</td>\n",
       "      <td>Hybrid</td>\n",
       "      <td>20.0</td>\n",
       "      <td>61.4</td>\n",
       "      <td>NaN</td>\n",
       "    </tr>\n",
       "    <tr>\n",
       "      <th>2</th>\n",
       "      <td>NaN</td>\n",
       "      <td>2016.0</td>\n",
       "      <td>49948</td>\n",
       "      <td>Automatic</td>\n",
       "      <td>6200.0</td>\n",
       "      <td>Petrol</td>\n",
       "      <td>555.0</td>\n",
       "      <td>28.0</td>\n",
       "      <td>5.5</td>\n",
       "    </tr>\n",
       "    <tr>\n",
       "      <th>3</th>\n",
       "      <td>G Class</td>\n",
       "      <td>2016.0</td>\n",
       "      <td>61948</td>\n",
       "      <td>Automatic</td>\n",
       "      <td>16000.0</td>\n",
       "      <td>Petrol</td>\n",
       "      <td>325.0</td>\n",
       "      <td>30.4</td>\n",
       "      <td>4.0</td>\n",
       "    </tr>\n",
       "    <tr>\n",
       "      <th>4</th>\n",
       "      <td>G Class</td>\n",
       "      <td>2016.0</td>\n",
       "      <td>73948</td>\n",
       "      <td>Automatic</td>\n",
       "      <td>4000.0</td>\n",
       "      <td>Petrol</td>\n",
       "      <td>325.0</td>\n",
       "      <td>30.1</td>\n",
       "      <td>4.0</td>\n",
       "    </tr>\n",
       "  </tbody>\n",
       "</table>\n",
       "</div>"
      ],
      "text/plain": [
       "      model    year  price transmission  mileage fuelType    tax   mpg  \\\n",
       "0       SLK  2005.0   5200    Automatic  63000.0   Petrol  325.0   NaN   \n",
       "1   S Class  2017.0  34948    Automatic  27000.0   Hybrid   20.0  61.4   \n",
       "2       NaN  2016.0  49948    Automatic   6200.0   Petrol  555.0  28.0   \n",
       "3   G Class  2016.0  61948    Automatic  16000.0   Petrol  325.0  30.4   \n",
       "4   G Class  2016.0  73948    Automatic   4000.0   Petrol  325.0  30.1   \n",
       "\n",
       "   engineSize  \n",
       "0         1.8  \n",
       "1         NaN  \n",
       "2         5.5  \n",
       "3         4.0  \n",
       "4         4.0  "
      ]
     },
     "execution_count": 22,
     "metadata": {},
     "output_type": "execute_result"
    }
   ],
   "source": [
    "df = pd.read_csv('12.3 merc.csv')\n",
    "df.head()"
   ]
  },
  {
   "cell_type": "code",
   "execution_count": 29,
   "metadata": {},
   "outputs": [],
   "source": [
    "from sklearn.impute import KNNImputer\n",
    "imp_knn = KNNImputer(n_neighbors=3)\n",
    "\n",
    "num_columns = ['year', 'mileage', 'tax', 'mpg', 'engineSize']\n",
    "df[num_columns] = imp_knn.fit_transform(df[num_columns])\n",
    "from sklearn.impute import SimpleImputer\n",
    "imp_const_unknown = SimpleImputer(strategy='constant', fill_value='unknown')\n",
    "\n",
    "unk_cols = ['model']\n",
    "\n",
    "df[unk_cols] = imp_const_unknown.fit_transform(df[unk_cols])"
   ]
  },
  {
   "cell_type": "code",
   "execution_count": 31,
   "metadata": {
    "colab": {
     "base_uri": "https://localhost:8080/",
     "height": 300
    },
    "id": "_etzm7XekDmh",
    "outputId": "31083c9c-f3a3-4f5b-b130-57f15262fc75"
   },
   "outputs": [
    {
     "data": {
      "text/html": [
       "<div>\n",
       "<style scoped>\n",
       "    .dataframe tbody tr th:only-of-type {\n",
       "        vertical-align: middle;\n",
       "    }\n",
       "\n",
       "    .dataframe tbody tr th {\n",
       "        vertical-align: top;\n",
       "    }\n",
       "\n",
       "    .dataframe thead th {\n",
       "        text-align: right;\n",
       "    }\n",
       "</style>\n",
       "<table border=\"1\" class=\"dataframe\">\n",
       "  <thead>\n",
       "    <tr style=\"text-align: right;\">\n",
       "      <th></th>\n",
       "      <th>price</th>\n",
       "      <th>mileage</th>\n",
       "      <th>tax</th>\n",
       "      <th>mpg</th>\n",
       "    </tr>\n",
       "  </thead>\n",
       "  <tbody>\n",
       "    <tr>\n",
       "      <th>count</th>\n",
       "      <td>13119.000000</td>\n",
       "      <td>13119.000000</td>\n",
       "      <td>13119.000000</td>\n",
       "      <td>13119.000000</td>\n",
       "    </tr>\n",
       "    <tr>\n",
       "      <th>mean</th>\n",
       "      <td>24698.596920</td>\n",
       "      <td>20308.636868</td>\n",
       "      <td>133.186039</td>\n",
       "      <td>54.524345</td>\n",
       "    </tr>\n",
       "    <tr>\n",
       "      <th>std</th>\n",
       "      <td>11842.675542</td>\n",
       "      <td>18919.333390</td>\n",
       "      <td>59.460881</td>\n",
       "      <td>13.665539</td>\n",
       "    </tr>\n",
       "    <tr>\n",
       "      <th>min</th>\n",
       "      <td>650.000000</td>\n",
       "      <td>1.000000</td>\n",
       "      <td>0.000000</td>\n",
       "      <td>1.100000</td>\n",
       "    </tr>\n",
       "    <tr>\n",
       "      <th>25%</th>\n",
       "      <td>17450.000000</td>\n",
       "      <td>6940.500000</td>\n",
       "      <td>125.000000</td>\n",
       "      <td>46.300000</td>\n",
       "    </tr>\n",
       "    <tr>\n",
       "      <th>50%</th>\n",
       "      <td>22480.000000</td>\n",
       "      <td>14399.666667</td>\n",
       "      <td>145.000000</td>\n",
       "      <td>55.400000</td>\n",
       "    </tr>\n",
       "    <tr>\n",
       "      <th>75%</th>\n",
       "      <td>28980.000000</td>\n",
       "      <td>28530.000000</td>\n",
       "      <td>145.000000</td>\n",
       "      <td>63.300000</td>\n",
       "    </tr>\n",
       "    <tr>\n",
       "      <th>max</th>\n",
       "      <td>159999.000000</td>\n",
       "      <td>259000.000000</td>\n",
       "      <td>580.000000</td>\n",
       "      <td>217.300000</td>\n",
       "    </tr>\n",
       "  </tbody>\n",
       "</table>\n",
       "</div>"
      ],
      "text/plain": [
       "               price        mileage           tax           mpg\n",
       "count   13119.000000   13119.000000  13119.000000  13119.000000\n",
       "mean    24698.596920   20308.636868    133.186039     54.524345\n",
       "std     11842.675542   18919.333390     59.460881     13.665539\n",
       "min       650.000000       1.000000      0.000000      1.100000\n",
       "25%     17450.000000    6940.500000    125.000000     46.300000\n",
       "50%     22480.000000   14399.666667    145.000000     55.400000\n",
       "75%     28980.000000   28530.000000    145.000000     63.300000\n",
       "max    159999.000000  259000.000000    580.000000    217.300000"
      ]
     },
     "execution_count": 31,
     "metadata": {},
     "output_type": "execute_result"
    }
   ],
   "source": [
    "df_1 = df[['price', 'mileage', 'tax', 'mpg']]\n",
    "df_1.describe()"
   ]
  },
  {
   "cell_type": "code",
   "execution_count": 32,
   "metadata": {
    "id": "ahAUp49kkSSC"
   },
   "outputs": [],
   "source": [
    "from sklearn.preprocessing import StandardScaler\n",
    "\n",
    "scaler = StandardScaler()"
   ]
  },
  {
   "cell_type": "code",
   "execution_count": 33,
   "metadata": {
    "colab": {
     "base_uri": "https://localhost:8080/"
    },
    "id": "CHRhBHDBk_u0",
    "outputId": "b23e9881-9703-45df-d072-71cba9062d53"
   },
   "outputs": [
    {
     "data": {
      "text/plain": [
       "array([[ 2.25658005,  3.22600788, -1.30437778],\n",
       "       [ 0.35369207, -1.90361042,  0.50315738],\n",
       "       [-0.74575432,  7.09424464, -1.94103997],\n",
       "       ...,\n",
       "       [-0.45968683,  0.19869216, -0.95311589],\n",
       "       [-0.94524041,  0.19869216, -0.65307969],\n",
       "       [-0.54552822,  0.19869216, -0.16277663]])"
      ]
     },
     "execution_count": 33,
     "metadata": {},
     "output_type": "execute_result"
    }
   ],
   "source": [
    "X_train = df[['mileage', 'tax', 'mpg']]\n",
    "y_train = df['price']\n",
    "\n",
    "X_train_s = scaler.fit_transform(X_train)\n",
    "X_train_s"
   ]
  },
  {
   "cell_type": "code",
   "execution_count": 34,
   "metadata": {
    "colab": {
     "base_uri": "https://localhost:8080/",
     "height": 300
    },
    "id": "SqY-Qqm3lkw8",
    "outputId": "af5fc35b-ffe0-4594-e8ce-1ba330e9740b"
   },
   "outputs": [
    {
     "data": {
      "text/html": [
       "<div>\n",
       "<style scoped>\n",
       "    .dataframe tbody tr th:only-of-type {\n",
       "        vertical-align: middle;\n",
       "    }\n",
       "\n",
       "    .dataframe tbody tr th {\n",
       "        vertical-align: top;\n",
       "    }\n",
       "\n",
       "    .dataframe thead th {\n",
       "        text-align: right;\n",
       "    }\n",
       "</style>\n",
       "<table border=\"1\" class=\"dataframe\">\n",
       "  <thead>\n",
       "    <tr style=\"text-align: right;\">\n",
       "      <th></th>\n",
       "      <th>mileage</th>\n",
       "      <th>tax</th>\n",
       "      <th>mpg</th>\n",
       "    </tr>\n",
       "  </thead>\n",
       "  <tbody>\n",
       "    <tr>\n",
       "      <th>count</th>\n",
       "      <td>1.311900e+04</td>\n",
       "      <td>1.311900e+04</td>\n",
       "      <td>1.311900e+04</td>\n",
       "    </tr>\n",
       "    <tr>\n",
       "      <th>mean</th>\n",
       "      <td>1.213214e-16</td>\n",
       "      <td>-1.169885e-16</td>\n",
       "      <td>1.993138e-16</td>\n",
       "    </tr>\n",
       "    <tr>\n",
       "      <th>std</th>\n",
       "      <td>1.000038e+00</td>\n",
       "      <td>1.000038e+00</td>\n",
       "      <td>1.000038e+00</td>\n",
       "    </tr>\n",
       "    <tr>\n",
       "      <th>min</th>\n",
       "      <td>-1.073421e+00</td>\n",
       "      <td>-2.239979e+00</td>\n",
       "      <td>-3.909570e+00</td>\n",
       "    </tr>\n",
       "    <tr>\n",
       "      <th>25%</th>\n",
       "      <td>-7.066130e-01</td>\n",
       "      <td>-1.376763e-01</td>\n",
       "      <td>-6.018540e-01</td>\n",
       "    </tr>\n",
       "    <tr>\n",
       "      <th>50%</th>\n",
       "      <td>-3.123363e-01</td>\n",
       "      <td>1.986922e-01</td>\n",
       "      <td>6.408002e-02</td>\n",
       "    </tr>\n",
       "    <tr>\n",
       "      <th>75%</th>\n",
       "      <td>4.345648e-01</td>\n",
       "      <td>1.986922e-01</td>\n",
       "      <td>6.421986e-01</td>\n",
       "    </tr>\n",
       "    <tr>\n",
       "      <th>max</th>\n",
       "      <td>1.261675e+01</td>\n",
       "      <td>7.514705e+00</td>\n",
       "      <td>1.191185e+01</td>\n",
       "    </tr>\n",
       "  </tbody>\n",
       "</table>\n",
       "</div>"
      ],
      "text/plain": [
       "            mileage           tax           mpg\n",
       "count  1.311900e+04  1.311900e+04  1.311900e+04\n",
       "mean   1.213214e-16 -1.169885e-16  1.993138e-16\n",
       "std    1.000038e+00  1.000038e+00  1.000038e+00\n",
       "min   -1.073421e+00 -2.239979e+00 -3.909570e+00\n",
       "25%   -7.066130e-01 -1.376763e-01 -6.018540e-01\n",
       "50%   -3.123363e-01  1.986922e-01  6.408002e-02\n",
       "75%    4.345648e-01  1.986922e-01  6.421986e-01\n",
       "max    1.261675e+01  7.514705e+00  1.191185e+01"
      ]
     },
     "execution_count": 34,
     "metadata": {},
     "output_type": "execute_result"
    }
   ],
   "source": [
    "df_X_s = pd.DataFrame(X_train_s, columns=X_train.columns)\n",
    "df_X_s.describe()"
   ]
  },
  {
   "cell_type": "code",
   "execution_count": 35,
   "metadata": {
    "id": "Z6W_0Xdfly95"
   },
   "outputs": [],
   "source": [
    "from sklearn.linear_model import LinearRegression\n",
    "\n",
    "lr1 = LinearRegression()"
   ]
  },
  {
   "cell_type": "code",
   "execution_count": 36,
   "metadata": {
    "colab": {
     "base_uri": "https://localhost:8080/"
    },
    "id": "UQlYBhAomJ_y",
    "outputId": "845d0f90-4c5e-4d60-c5a0-846ffccd84de"
   },
   "outputs": [
    {
     "name": "stdout",
     "output_type": "stream",
     "text": [
      "2.61 ms ± 28.4 µs per loop (mean ± std. dev. of 7 runs, 100 loops each)\n"
     ]
    }
   ],
   "source": [
    "%%timeit\n",
    "lr1.fit(X_train, y_train)"
   ]
  },
  {
   "cell_type": "code",
   "execution_count": 37,
   "metadata": {
    "colab": {
     "base_uri": "https://localhost:8080/"
    },
    "id": "196DMuu8mOqb",
    "outputId": "833e4e1a-a07e-4773-ea66-ff96589b104a"
   },
   "outputs": [
    {
     "data": {
      "text/plain": [
       "90185556.43903604"
      ]
     },
     "execution_count": 37,
     "metadata": {},
     "output_type": "execute_result"
    }
   ],
   "source": [
    "from sklearn.metrics import mean_squared_error\n",
    "\n",
    "y_pred = lr1.predict(X_train)\n",
    "mean_squared_error(y_train, y_pred)"
   ]
  },
  {
   "cell_type": "code",
   "execution_count": 38,
   "metadata": {
    "id": "5L6bxpj3mogg"
   },
   "outputs": [],
   "source": [
    "lr2 = LinearRegression()"
   ]
  },
  {
   "cell_type": "code",
   "execution_count": 39,
   "metadata": {
    "colab": {
     "base_uri": "https://localhost:8080/"
    },
    "id": "6Gp65UVvm6Cb",
    "outputId": "86d95a70-74f9-4224-8780-8a59423ae3bc"
   },
   "outputs": [
    {
     "name": "stdout",
     "output_type": "stream",
     "text": [
      "2.5 ms ± 74.7 µs per loop (mean ± std. dev. of 7 runs, 100 loops each)\n"
     ]
    }
   ],
   "source": [
    "%%timeit\n",
    "lr2.fit(df_X_s, y_train)"
   ]
  },
  {
   "cell_type": "code",
   "execution_count": 40,
   "metadata": {
    "colab": {
     "base_uri": "https://localhost:8080/"
    },
    "id": "r87wxnFwm_Wb",
    "outputId": "01b20b48-49f6-4044-96a5-450a195d806d"
   },
   "outputs": [
    {
     "data": {
      "text/plain": [
       "90185556.43903604"
      ]
     },
     "execution_count": 40,
     "metadata": {},
     "output_type": "execute_result"
    }
   ],
   "source": [
    "y_pred = lr2.predict(df_X_s)\n",
    "mean_squared_error(y_train, y_pred)"
   ]
  },
  {
   "cell_type": "code",
   "execution_count": 41,
   "metadata": {
    "colab": {
     "base_uri": "https://localhost:8080/"
    },
    "id": "FTAf9nVTnWoK",
    "outputId": "463bbfe2-5108-48ec-c7b4-aa2e985bf6d4"
   },
   "outputs": [
    {
     "name": "stdout",
     "output_type": "stream",
     "text": [
      "mileage: -4909.8284214608375\n",
      "tax: 652.0754933117519\n",
      "mpg: -3894.0950068909015\n",
      "Intercept: 24698.596920496988\n"
     ]
    }
   ],
   "source": [
    "for feature, coef in zip(X_train.columns, lr2.coef_):\n",
    "    print(f'{feature}: {coef}')\n",
    "print(f'Intercept: {lr2.intercept_}')"
   ]
  },
  {
   "cell_type": "code",
   "execution_count": 42,
   "metadata": {
    "id": "XD2oe5EvnxXu"
   },
   "outputs": [],
   "source": [
    "from sklearn.preprocessing import MinMaxScaler\n",
    "\n",
    "mmscaler = MinMaxScaler()\n",
    "\n",
    "X_train_mm = mmscaler.fit_transform(X_train)\n",
    "\n",
    "lr3 = LinearRegression()"
   ]
  },
  {
   "cell_type": "code",
   "execution_count": 43,
   "metadata": {
    "colab": {
     "base_uri": "https://localhost:8080/"
    },
    "id": "0VD4M3etpkf5",
    "outputId": "1252bfcf-6e2c-46ac-d095-5c7f1ee7296d"
   },
   "outputs": [
    {
     "name": "stdout",
     "output_type": "stream",
     "text": [
      "1.51 ms ± 48.6 µs per loop (mean ± std. dev. of 7 runs, 1,000 loops each)\n"
     ]
    }
   ],
   "source": [
    "%%timeit\n",
    "lr3.fit(X_train_mm, y_train)"
   ]
  },
  {
   "cell_type": "code",
   "execution_count": 44,
   "metadata": {
    "colab": {
     "base_uri": "https://localhost:8080/"
    },
    "id": "jkkUZBf2qFa9",
    "outputId": "8e75d256-543a-4635-f486-5b30b430483b"
   },
   "outputs": [
    {
     "data": {
      "text/plain": [
       "90185556.43903604"
      ]
     },
     "execution_count": 44,
     "metadata": {},
     "output_type": "execute_result"
    }
   ],
   "source": [
    "y_pred = lr3.predict(X_train_mm)\n",
    "mean_squared_error(y_train, y_pred)"
   ]
  },
  {
   "cell_type": "code",
   "execution_count": 45,
   "metadata": {
    "colab": {
     "base_uri": "https://localhost:8080/",
     "height": 282
    },
    "id": "wPnR8iSbqP38",
    "outputId": "b8a05ff1-5190-44d0-df52-283d90acb0ba"
   },
   "outputs": [
    {
     "data": {
      "text/plain": [
       "<Axes: >"
      ]
     },
     "execution_count": 45,
     "metadata": {},
     "output_type": "execute_result"
    },
    {
     "data": {
      "image/png": "[encoded data removed]",
      "text/plain": [
       "<Figure size 640x480 with 1 Axes>"
      ]
     },
     "metadata": {},
     "output_type": "display_data"
    }
   ],
   "source": [
    "X_train.plot(kind='box')"
   ]
  },
  {
   "cell_type": "code",
   "execution_count": 46,
   "metadata": {
    "colab": {
     "base_uri": "https://localhost:8080/",
     "height": 282
    },
    "id": "-F36F_eprecf",
    "outputId": "d6e1b5b5-451e-41e8-e83d-382d11f809b0"
   },
   "outputs": [
    {
     "data": {
      "text/plain": [
       "<Axes: >"
      ]
     },
     "execution_count": 46,
     "metadata": {},
     "output_type": "execute_result"
    },
    {
     "data": {
      "image/png": "[encoded data removed]",
      "text/plain": [
       "<Figure size 640x480 with 1 Axes>"
      ]
     },
     "metadata": {},
     "output_type": "display_data"
    }
   ],
   "source": [
    "df_X_s.plot(kind='box')"
   ]
  },
  {
   "cell_type": "code",
   "execution_count": null,
   "metadata": {
    "id": "uoJbX9NZrxGG"
   },
   "outputs": [],
   "source": []
  }
 ],
 "metadata": {
  "colab": {
   "provenance": []
  },
  "kernelspec": {
   "display_name": "Python 3 (ipykernel)",
   "language": "python",
   "name": "python3"
  },
  "language_info": {
   "codemirror_mode": {
    "name": "ipython",
    "version": 3
   },
   "file_extension": ".py",
   "mimetype": "text/x-python",
   "name": "python",
   "nbconvert_exporter": "python",
   "pygments_lexer": "ipython3",
   "version": "3.11.5"
  }
 },
 "nbformat": 4,
 "nbformat_minor": 1
}
