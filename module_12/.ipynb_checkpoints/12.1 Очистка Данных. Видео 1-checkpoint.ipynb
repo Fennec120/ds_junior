{
 "cells": [
  {
   "cell_type": "code",
   "execution_count": 19,
   "metadata": {
    "colab": {
     "base_uri": "https://localhost:8080/"
    },
    "id": "gviLALltDszh",
    "outputId": "39cee08d-a783-49e0-f7d1-b2f865ea4616"
   },
   "outputs": [
    {
     "data": {
      "text/plain": [
       "(13119, 9)"
      ]
     },
     "execution_count": 19,
     "metadata": {},
     "output_type": "execute_result"
    }
   ],
   "source": [
    "import pandas as pd\n",
    "\n",
    "df = pd.read_csv('12.1 merc.csv')\n",
    "df.shape"
   ]
  },
  {
   "cell_type": "code",
   "execution_count": 20,
   "metadata": {
    "colab": {
     "base_uri": "https://localhost:8080/",
     "height": 206
    },
    "id": "ps8ZoqZVJAN9",
    "outputId": "9c085385-8914-4890-fdc7-082556993d53"
   },
   "outputs": [
    {
     "data": {
      "text/html": [
       "<div>\n",
       "<style scoped>\n",
       "    .dataframe tbody tr th:only-of-type {\n",
       "        vertical-align: middle;\n",
       "    }\n",
       "\n",
       "    .dataframe tbody tr th {\n",
       "        vertical-align: top;\n",
       "    }\n",
       "\n",
       "    .dataframe thead th {\n",
       "        text-align: right;\n",
       "    }\n",
       "</style>\n",
       "<table border=\"1\" class=\"dataframe\">\n",
       "  <thead>\n",
       "    <tr style=\"text-align: right;\">\n",
       "      <th></th>\n",
       "      <th>model</th>\n",
       "      <th>year</th>\n",
       "      <th>price</th>\n",
       "      <th>transmission</th>\n",
       "      <th>mileage</th>\n",
       "      <th>fuelType</th>\n",
       "      <th>tax</th>\n",
       "      <th>mpg</th>\n",
       "      <th>engineSize</th>\n",
       "    </tr>\n",
       "  </thead>\n",
       "  <tbody>\n",
       "    <tr>\n",
       "      <th>0</th>\n",
       "      <td>SLK</td>\n",
       "      <td>2005.0</td>\n",
       "      <td>5200</td>\n",
       "      <td>Automatic</td>\n",
       "      <td>63000.0</td>\n",
       "      <td>Petrol</td>\n",
       "      <td>325.0</td>\n",
       "      <td>NaN</td>\n",
       "      <td>1.8</td>\n",
       "    </tr>\n",
       "    <tr>\n",
       "      <th>1</th>\n",
       "      <td>S Class</td>\n",
       "      <td>2017.0</td>\n",
       "      <td>34948</td>\n",
       "      <td>Automatic</td>\n",
       "      <td>27000.0</td>\n",
       "      <td>Hybrid</td>\n",
       "      <td>20.0</td>\n",
       "      <td>61.4</td>\n",
       "      <td>NaN</td>\n",
       "    </tr>\n",
       "    <tr>\n",
       "      <th>2</th>\n",
       "      <td>NaN</td>\n",
       "      <td>2016.0</td>\n",
       "      <td>49948</td>\n",
       "      <td>Automatic</td>\n",
       "      <td>6200.0</td>\n",
       "      <td>Petrol</td>\n",
       "      <td>555.0</td>\n",
       "      <td>28.0</td>\n",
       "      <td>5.5</td>\n",
       "    </tr>\n",
       "    <tr>\n",
       "      <th>3</th>\n",
       "      <td>G Class</td>\n",
       "      <td>2016.0</td>\n",
       "      <td>61948</td>\n",
       "      <td>Automatic</td>\n",
       "      <td>16000.0</td>\n",
       "      <td>Petrol</td>\n",
       "      <td>325.0</td>\n",
       "      <td>30.4</td>\n",
       "      <td>4.0</td>\n",
       "    </tr>\n",
       "    <tr>\n",
       "      <th>4</th>\n",
       "      <td>G Class</td>\n",
       "      <td>2016.0</td>\n",
       "      <td>73948</td>\n",
       "      <td>Automatic</td>\n",
       "      <td>4000.0</td>\n",
       "      <td>Petrol</td>\n",
       "      <td>325.0</td>\n",
       "      <td>30.1</td>\n",
       "      <td>4.0</td>\n",
       "    </tr>\n",
       "  </tbody>\n",
       "</table>\n",
       "</div>"
      ],
      "text/plain": [
       "      model    year  price transmission  mileage fuelType    tax   mpg  \\\n",
       "0       SLK  2005.0   5200    Automatic  63000.0   Petrol  325.0   NaN   \n",
       "1   S Class  2017.0  34948    Automatic  27000.0   Hybrid   20.0  61.4   \n",
       "2       NaN  2016.0  49948    Automatic   6200.0   Petrol  555.0  28.0   \n",
       "3   G Class  2016.0  61948    Automatic  16000.0   Petrol  325.0  30.4   \n",
       "4   G Class  2016.0  73948    Automatic   4000.0   Petrol  325.0  30.1   \n",
       "\n",
       "   engineSize  \n",
       "0         1.8  \n",
       "1         NaN  \n",
       "2         5.5  \n",
       "3         4.0  \n",
       "4         4.0  "
      ]
     },
     "execution_count": 20,
     "metadata": {},
     "output_type": "execute_result"
    }
   ],
   "source": [
    "df.head()"
   ]
  },
  {
   "cell_type": "code",
   "execution_count": 21,
   "metadata": {
    "colab": {
     "base_uri": "https://localhost:8080/"
    },
    "id": "n5GBvt1RKyiW",
    "outputId": "b1be845a-85e1-4aec-ccc8-7750cb20b648"
   },
   "outputs": [
    {
     "data": {
      "text/plain": [
       "model           3794\n",
       "year            3896\n",
       "price              0\n",
       "transmission       0\n",
       "mileage         3877\n",
       "fuelType           0\n",
       "tax             3814\n",
       "mpg             3903\n",
       "engineSize      3832\n",
       "dtype: int64"
      ]
     },
     "execution_count": 21,
     "metadata": {},
     "output_type": "execute_result"
    }
   ],
   "source": [
    "df.isna().sum()"
   ]
  },
  {
   "cell_type": "code",
   "execution_count": 22,
   "metadata": {
    "colab": {
     "base_uri": "https://localhost:8080/"
    },
    "id": "elnsgSuMK9l8",
    "outputId": "f0986a2f-ba36-429c-d118-c511ba27fedc"
   },
   "outputs": [
    {
     "data": {
      "text/plain": [
       "model           0.289199\n",
       "year            0.296974\n",
       "price           0.000000\n",
       "transmission    0.000000\n",
       "mileage         0.295526\n",
       "fuelType        0.000000\n",
       "tax             0.290723\n",
       "mpg             0.297507\n",
       "engineSize      0.292095\n",
       "dtype: float64"
      ]
     },
     "execution_count": 22,
     "metadata": {},
     "output_type": "execute_result"
    }
   ],
   "source": [
    "df.isna().sum() / df.shape[0]"
   ]
  },
  {
   "cell_type": "code",
   "execution_count": 23,
   "metadata": {
    "colab": {
     "base_uri": "https://localhost:8080/"
    },
    "id": "0E_Rf-DaLJLf",
    "outputId": "2034a5ba-1308-4e35-9e33-8f8f272d28c9"
   },
   "outputs": [
    {
     "data": {
      "text/plain": [
       "(133, 9)"
      ]
     },
     "execution_count": 23,
     "metadata": {},
     "output_type": "execute_result"
    }
   ],
   "source": [
    "df_miss_row = df[df.isna().sum(axis=1) >= 5]\n",
    "df_miss_row.shape"
   ]
  },
  {
   "cell_type": "code",
   "execution_count": 24,
   "metadata": {
    "colab": {
     "base_uri": "https://localhost:8080/"
    },
    "id": "fXpXspT_La81",
    "outputId": "26890f85-6b05-4c68-e418-ed86bbeea0aa"
   },
   "outputs": [
    {
     "data": {
      "text/plain": [
       "(12986, 9)"
      ]
     },
     "execution_count": 24,
     "metadata": {},
     "output_type": "execute_result"
    }
   ],
   "source": [
    "df = df[df.isna().sum(axis=1) < 5]\n",
    "df.shape"
   ]
  },
  {
   "cell_type": "code",
   "execution_count": 25,
   "metadata": {
    "colab": {
     "base_uri": "https://localhost:8080/",
     "height": 49
    },
    "id": "6jU2mR_OLtlt",
    "outputId": "f8d50747-1f19-4247-ba83-4ebad1b06c5a"
   },
   "outputs": [
    {
     "data": {
      "text/html": [
       "<div>\n",
       "<style scoped>\n",
       "    .dataframe tbody tr th:only-of-type {\n",
       "        vertical-align: middle;\n",
       "    }\n",
       "\n",
       "    .dataframe tbody tr th {\n",
       "        vertical-align: top;\n",
       "    }\n",
       "\n",
       "    .dataframe thead th {\n",
       "        text-align: right;\n",
       "    }\n",
       "</style>\n",
       "<table border=\"1\" class=\"dataframe\">\n",
       "  <thead>\n",
       "    <tr style=\"text-align: right;\">\n",
       "      <th></th>\n",
       "      <th>model</th>\n",
       "      <th>year</th>\n",
       "      <th>price</th>\n",
       "      <th>transmission</th>\n",
       "      <th>mileage</th>\n",
       "      <th>fuelType</th>\n",
       "      <th>tax</th>\n",
       "      <th>mpg</th>\n",
       "      <th>engineSize</th>\n",
       "    </tr>\n",
       "  </thead>\n",
       "  <tbody>\n",
       "  </tbody>\n",
       "</table>\n",
       "</div>"
      ],
      "text/plain": [
       "Empty DataFrame\n",
       "Columns: [model, year, price, transmission, mileage, fuelType, tax, mpg, engineSize]\n",
       "Index: []"
      ]
     },
     "execution_count": 25,
     "metadata": {},
     "output_type": "execute_result"
    }
   ],
   "source": [
    "df[df.isna().sum(axis=1) >= 5]"
   ]
  },
  {
   "cell_type": "code",
   "execution_count": 87,
   "metadata": {
    "id": "YpKFc2t5L3Ab"
   },
   "outputs": [],
   "source": [
    "from sklearn.model_selection import train_test_split\n",
    "random_state = 42\n",
    "\n",
    "X_train, X_test = train_test_split(df, test_size=0.2, random_state=random_state)"
   ]
  },
  {
   "cell_type": "code",
   "execution_count": 28,
   "metadata": {
    "colab": {
     "base_uri": "https://localhost:8080/",
     "height": 206
    },
    "id": "D-vME-UCM182",
    "outputId": "ca11db39-4fab-49d2-8924-1302f0ab2202"
   },
   "outputs": [
    {
     "data": {
      "text/html": [
       "<div>\n",
       "<style scoped>\n",
       "    .dataframe tbody tr th:only-of-type {\n",
       "        vertical-align: middle;\n",
       "    }\n",
       "\n",
       "    .dataframe tbody tr th {\n",
       "        vertical-align: top;\n",
       "    }\n",
       "\n",
       "    .dataframe thead th {\n",
       "        text-align: right;\n",
       "    }\n",
       "</style>\n",
       "<table border=\"1\" class=\"dataframe\">\n",
       "  <thead>\n",
       "    <tr style=\"text-align: right;\">\n",
       "      <th></th>\n",
       "      <th>model</th>\n",
       "      <th>year</th>\n",
       "      <th>price</th>\n",
       "      <th>transmission</th>\n",
       "      <th>mileage</th>\n",
       "      <th>fuelType</th>\n",
       "      <th>tax</th>\n",
       "      <th>mpg</th>\n",
       "      <th>engineSize</th>\n",
       "    </tr>\n",
       "  </thead>\n",
       "  <tbody>\n",
       "    <tr>\n",
       "      <th>8498</th>\n",
       "      <td>GLC Class</td>\n",
       "      <td>2019.0</td>\n",
       "      <td>45299</td>\n",
       "      <td>Semi-Auto</td>\n",
       "      <td>2792.0</td>\n",
       "      <td>Diesel</td>\n",
       "      <td>145.0</td>\n",
       "      <td>40.4</td>\n",
       "      <td>NaN</td>\n",
       "    </tr>\n",
       "    <tr>\n",
       "      <th>9102</th>\n",
       "      <td>NaN</td>\n",
       "      <td>2018.0</td>\n",
       "      <td>19099</td>\n",
       "      <td>Semi-Auto</td>\n",
       "      <td>12321.0</td>\n",
       "      <td>Petrol</td>\n",
       "      <td>145.0</td>\n",
       "      <td>NaN</td>\n",
       "      <td>1.5</td>\n",
       "    </tr>\n",
       "    <tr>\n",
       "      <th>2400</th>\n",
       "      <td>A Class</td>\n",
       "      <td>2019.0</td>\n",
       "      <td>17702</td>\n",
       "      <td>Automatic</td>\n",
       "      <td>0.0</td>\n",
       "      <td>Diesel</td>\n",
       "      <td>145.0</td>\n",
       "      <td>68.9</td>\n",
       "      <td>1.5</td>\n",
       "    </tr>\n",
       "    <tr>\n",
       "      <th>8294</th>\n",
       "      <td>NaN</td>\n",
       "      <td>NaN</td>\n",
       "      <td>21749</td>\n",
       "      <td>Semi-Auto</td>\n",
       "      <td>27178.0</td>\n",
       "      <td>Diesel</td>\n",
       "      <td>160.0</td>\n",
       "      <td>51.4</td>\n",
       "      <td>NaN</td>\n",
       "    </tr>\n",
       "    <tr>\n",
       "      <th>6506</th>\n",
       "      <td>E Class</td>\n",
       "      <td>2018.0</td>\n",
       "      <td>35950</td>\n",
       "      <td>Automatic</td>\n",
       "      <td>0.0</td>\n",
       "      <td>Diesel</td>\n",
       "      <td>0.0</td>\n",
       "      <td>42.8</td>\n",
       "      <td>3.0</td>\n",
       "    </tr>\n",
       "  </tbody>\n",
       "</table>\n",
       "</div>"
      ],
      "text/plain": [
       "           model    year  price transmission  mileage fuelType    tax   mpg  \\\n",
       "8498   GLC Class  2019.0  45299    Semi-Auto   2792.0   Diesel  145.0  40.4   \n",
       "9102         NaN  2018.0  19099    Semi-Auto  12321.0   Petrol  145.0   NaN   \n",
       "2400     A Class  2019.0  17702    Automatic      0.0   Diesel  145.0  68.9   \n",
       "8294         NaN     NaN  21749    Semi-Auto  27178.0   Diesel  160.0  51.4   \n",
       "6506     E Class  2018.0  35950    Automatic      0.0   Diesel    0.0  42.8   \n",
       "\n",
       "      engineSize  \n",
       "8498         NaN  \n",
       "9102         1.5  \n",
       "2400         1.5  \n",
       "8294         NaN  \n",
       "6506         3.0  "
      ]
     },
     "execution_count": 28,
     "metadata": {},
     "output_type": "execute_result"
    }
   ],
   "source": [
    "from sklearn.impute import SimpleImputer\n",
    "\n",
    "imp_const_0 = SimpleImputer(strategy='constant', fill_value=0)\n",
    "\n",
    "zero_cols = ['mileage', 'tax']\n",
    "\n",
    "X_train[zero_cols] = imp_const_0.fit_transform(X_train[zero_cols])\n",
    "X_train.head()"
   ]
  },
  {
   "cell_type": "code",
   "execution_count": 29,
   "metadata": {
    "colab": {
     "base_uri": "https://localhost:8080/"
    },
    "id": "dHUvdXRgN0ZS",
    "outputId": "b8210845-1ad3-422c-82f8-b1b3ec250c1f"
   },
   "outputs": [
    {
     "data": {
      "text/plain": [
       "mileage    0\n",
       "tax        0\n",
       "dtype: int64"
      ]
     },
     "execution_count": 29,
     "metadata": {},
     "output_type": "execute_result"
    }
   ],
   "source": [
    "X_train[zero_cols].isna().sum()"
   ]
  },
  {
   "cell_type": "code",
   "execution_count": 91,
   "metadata": {
    "colab": {
     "base_uri": "https://localhost:8080/",
     "height": 206
    },
    "id": "H_lZ7aG0N8Y6",
    "outputId": "2fa4ab85-9f01-48c7-cec9-22fd7041a6db"
   },
   "outputs": [
    {
     "data": {
      "text/html": [
       "<div>\n",
       "<style scoped>\n",
       "    .dataframe tbody tr th:only-of-type {\n",
       "        vertical-align: middle;\n",
       "    }\n",
       "\n",
       "    .dataframe tbody tr th {\n",
       "        vertical-align: top;\n",
       "    }\n",
       "\n",
       "    .dataframe thead th {\n",
       "        text-align: right;\n",
       "    }\n",
       "</style>\n",
       "<table border=\"1\" class=\"dataframe\">\n",
       "  <thead>\n",
       "    <tr style=\"text-align: right;\">\n",
       "      <th></th>\n",
       "      <th>model</th>\n",
       "      <th>year</th>\n",
       "      <th>price</th>\n",
       "      <th>transmission</th>\n",
       "      <th>mileage</th>\n",
       "      <th>fuelType</th>\n",
       "      <th>tax</th>\n",
       "      <th>mpg</th>\n",
       "      <th>engineSize</th>\n",
       "    </tr>\n",
       "  </thead>\n",
       "  <tbody>\n",
       "    <tr>\n",
       "      <th>8498</th>\n",
       "      <td>GLC Class</td>\n",
       "      <td>2019.0</td>\n",
       "      <td>45299</td>\n",
       "      <td>Semi-Auto</td>\n",
       "      <td>2792.000000</td>\n",
       "      <td>Diesel</td>\n",
       "      <td>145.000000</td>\n",
       "      <td>40.4</td>\n",
       "      <td>2.0</td>\n",
       "    </tr>\n",
       "    <tr>\n",
       "      <th>9102</th>\n",
       "      <td>unknown</td>\n",
       "      <td>2018.0</td>\n",
       "      <td>19099</td>\n",
       "      <td>Semi-Auto</td>\n",
       "      <td>12321.000000</td>\n",
       "      <td>Petrol</td>\n",
       "      <td>145.000000</td>\n",
       "      <td>43.4</td>\n",
       "      <td>1.5</td>\n",
       "    </tr>\n",
       "    <tr>\n",
       "      <th>2400</th>\n",
       "      <td>A Class</td>\n",
       "      <td>2019.0</td>\n",
       "      <td>17702</td>\n",
       "      <td>Automatic</td>\n",
       "      <td>9006.000000</td>\n",
       "      <td>Diesel</td>\n",
       "      <td>145.000000</td>\n",
       "      <td>68.9</td>\n",
       "      <td>1.5</td>\n",
       "    </tr>\n",
       "    <tr>\n",
       "      <th>8294</th>\n",
       "      <td>unknown</td>\n",
       "      <td>2014.0</td>\n",
       "      <td>21749</td>\n",
       "      <td>Semi-Auto</td>\n",
       "      <td>27178.000000</td>\n",
       "      <td>Diesel</td>\n",
       "      <td>160.000000</td>\n",
       "      <td>51.4</td>\n",
       "      <td>2.2</td>\n",
       "    </tr>\n",
       "    <tr>\n",
       "      <th>6506</th>\n",
       "      <td>E Class</td>\n",
       "      <td>2018.0</td>\n",
       "      <td>35950</td>\n",
       "      <td>Automatic</td>\n",
       "      <td>36369.333333</td>\n",
       "      <td>Diesel</td>\n",
       "      <td>151.666667</td>\n",
       "      <td>42.8</td>\n",
       "      <td>3.0</td>\n",
       "    </tr>\n",
       "  </tbody>\n",
       "</table>\n",
       "</div>"
      ],
      "text/plain": [
       "           model    year  price transmission       mileage fuelType  \\\n",
       "8498   GLC Class  2019.0  45299    Semi-Auto   2792.000000   Diesel   \n",
       "9102     unknown  2018.0  19099    Semi-Auto  12321.000000   Petrol   \n",
       "2400     A Class  2019.0  17702    Automatic   9006.000000   Diesel   \n",
       "8294     unknown  2014.0  21749    Semi-Auto  27178.000000   Diesel   \n",
       "6506     E Class  2018.0  35950    Automatic  36369.333333   Diesel   \n",
       "\n",
       "             tax   mpg  engineSize  \n",
       "8498  145.000000  40.4         2.0  \n",
       "9102  145.000000  43.4         1.5  \n",
       "2400  145.000000  68.9         1.5  \n",
       "8294  160.000000  51.4         2.2  \n",
       "6506  151.666667  42.8         3.0  "
      ]
     },
     "execution_count": 91,
     "metadata": {},
     "output_type": "execute_result"
    }
   ],
   "source": [
    "imp_const_unknown = SimpleImputer(strategy='constant', fill_value='unknown')\n",
    "\n",
    "unk_cols = ['model']\n",
    "\n",
    "X_train[unk_cols] = imp_const_unknown.fit_transform(X_train[unk_cols])\n",
    "X_train.head()"
   ]
  },
  {
   "cell_type": "code",
   "execution_count": 82,
   "metadata": {
    "colab": {
     "base_uri": "https://localhost:8080/",
     "height": 206
    },
    "id": "gYAZPrBLOTdE",
    "outputId": "fb51b967-0751-41eb-c040-f2ec8c66950c"
   },
   "outputs": [
    {
     "data": {
      "text/html": [
       "<div>\n",
       "<style scoped>\n",
       "    .dataframe tbody tr th:only-of-type {\n",
       "        vertical-align: middle;\n",
       "    }\n",
       "\n",
       "    .dataframe tbody tr th {\n",
       "        vertical-align: top;\n",
       "    }\n",
       "\n",
       "    .dataframe thead th {\n",
       "        text-align: right;\n",
       "    }\n",
       "</style>\n",
       "<table border=\"1\" class=\"dataframe\">\n",
       "  <thead>\n",
       "    <tr style=\"text-align: right;\">\n",
       "      <th></th>\n",
       "      <th>model</th>\n",
       "      <th>year</th>\n",
       "      <th>price</th>\n",
       "      <th>transmission</th>\n",
       "      <th>mileage</th>\n",
       "      <th>fuelType</th>\n",
       "      <th>tax</th>\n",
       "      <th>mpg</th>\n",
       "      <th>engineSize</th>\n",
       "    </tr>\n",
       "  </thead>\n",
       "  <tbody>\n",
       "    <tr>\n",
       "      <th>8498</th>\n",
       "      <td>GLC Class</td>\n",
       "      <td>2019.0</td>\n",
       "      <td>45299</td>\n",
       "      <td>Semi-Auto</td>\n",
       "      <td>2792.0</td>\n",
       "      <td>Diesel</td>\n",
       "      <td>145.0</td>\n",
       "      <td>40.4</td>\n",
       "      <td>2.0</td>\n",
       "    </tr>\n",
       "    <tr>\n",
       "      <th>9102</th>\n",
       "      <td>unknown</td>\n",
       "      <td>2018.0</td>\n",
       "      <td>19099</td>\n",
       "      <td>Semi-Auto</td>\n",
       "      <td>12321.0</td>\n",
       "      <td>Petrol</td>\n",
       "      <td>145.0</td>\n",
       "      <td>56.5</td>\n",
       "      <td>1.5</td>\n",
       "    </tr>\n",
       "    <tr>\n",
       "      <th>2400</th>\n",
       "      <td>A Class</td>\n",
       "      <td>2019.0</td>\n",
       "      <td>17702</td>\n",
       "      <td>Automatic</td>\n",
       "      <td>0.0</td>\n",
       "      <td>Diesel</td>\n",
       "      <td>145.0</td>\n",
       "      <td>68.9</td>\n",
       "      <td>1.5</td>\n",
       "    </tr>\n",
       "    <tr>\n",
       "      <th>8294</th>\n",
       "      <td>unknown</td>\n",
       "      <td>NaN</td>\n",
       "      <td>21749</td>\n",
       "      <td>Semi-Auto</td>\n",
       "      <td>27178.0</td>\n",
       "      <td>Diesel</td>\n",
       "      <td>160.0</td>\n",
       "      <td>51.4</td>\n",
       "      <td>2.0</td>\n",
       "    </tr>\n",
       "    <tr>\n",
       "      <th>6506</th>\n",
       "      <td>E Class</td>\n",
       "      <td>2018.0</td>\n",
       "      <td>35950</td>\n",
       "      <td>Automatic</td>\n",
       "      <td>0.0</td>\n",
       "      <td>Diesel</td>\n",
       "      <td>0.0</td>\n",
       "      <td>42.8</td>\n",
       "      <td>3.0</td>\n",
       "    </tr>\n",
       "  </tbody>\n",
       "</table>\n",
       "</div>"
      ],
      "text/plain": [
       "           model    year  price transmission  mileage fuelType    tax   mpg  \\\n",
       "8498   GLC Class  2019.0  45299    Semi-Auto   2792.0   Diesel  145.0  40.4   \n",
       "9102     unknown  2018.0  19099    Semi-Auto  12321.0   Petrol  145.0  56.5   \n",
       "2400     A Class  2019.0  17702    Automatic      0.0   Diesel  145.0  68.9   \n",
       "8294     unknown     NaN  21749    Semi-Auto  27178.0   Diesel  160.0  51.4   \n",
       "6506     E Class  2018.0  35950    Automatic      0.0   Diesel    0.0  42.8   \n",
       "\n",
       "      engineSize  \n",
       "8498         2.0  \n",
       "9102         1.5  \n",
       "2400         1.5  \n",
       "8294         2.0  \n",
       "6506         3.0  "
      ]
     },
     "execution_count": 82,
     "metadata": {},
     "output_type": "execute_result"
    }
   ],
   "source": [
    "imp_median = SimpleImputer(strategy='median')\n",
    "\n",
    "med_cols = ['mpg', 'engineSize']\n",
    "\n",
    "X_train[med_cols] = imp_median.fit_transform(X_train[med_cols])\n",
    "X_train.head()"
   ]
  },
  {
   "cell_type": "code",
   "execution_count": 85,
   "metadata": {},
   "outputs": [],
   "source": [
    "med_cols2 = ['mileage', 'tax']"
   ]
  },
  {
   "cell_type": "code",
   "execution_count": 86,
   "metadata": {
    "colab": {
     "base_uri": "https://localhost:8080/"
    },
    "id": "vzaKoWCWOr2y",
    "outputId": "112fb249-133f-4319-887a-e1fc0ec588ce"
   },
   "outputs": [
    {
     "data": {
      "text/plain": [
       "mileage    0\n",
       "tax        0\n",
       "dtype: int64"
      ]
     },
     "execution_count": 86,
     "metadata": {},
     "output_type": "execute_result"
    }
   ],
   "source": [
    "X_train[med_cols2].isna().sum()"
   ]
  },
  {
   "cell_type": "code",
   "execution_count": 88,
   "metadata": {
    "id": "xfGVEbMqO2hW"
   },
   "outputs": [],
   "source": [
    "from sklearn.impute import KNNImputer\n",
    "imp_knn = KNNImputer(n_neighbors=3)\n",
    "\n",
    "num_columns = ['year', 'mileage', 'tax', 'mpg', 'engineSize']"
   ]
  },
  {
   "cell_type": "code",
   "execution_count": 89,
   "metadata": {
    "colab": {
     "base_uri": "https://localhost:8080/",
     "height": 206
    },
    "id": "UtYdH1ZqPwU_",
    "outputId": "3c0760da-f4d1-4bf2-becd-a6baca3a86af"
   },
   "outputs": [
    {
     "data": {
      "text/html": [
       "<div>\n",
       "<style scoped>\n",
       "    .dataframe tbody tr th:only-of-type {\n",
       "        vertical-align: middle;\n",
       "    }\n",
       "\n",
       "    .dataframe tbody tr th {\n",
       "        vertical-align: top;\n",
       "    }\n",
       "\n",
       "    .dataframe thead th {\n",
       "        text-align: right;\n",
       "    }\n",
       "</style>\n",
       "<table border=\"1\" class=\"dataframe\">\n",
       "  <thead>\n",
       "    <tr style=\"text-align: right;\">\n",
       "      <th></th>\n",
       "      <th>model</th>\n",
       "      <th>year</th>\n",
       "      <th>price</th>\n",
       "      <th>transmission</th>\n",
       "      <th>mileage</th>\n",
       "      <th>fuelType</th>\n",
       "      <th>tax</th>\n",
       "      <th>mpg</th>\n",
       "      <th>engineSize</th>\n",
       "    </tr>\n",
       "  </thead>\n",
       "  <tbody>\n",
       "    <tr>\n",
       "      <th>8498</th>\n",
       "      <td>GLC Class</td>\n",
       "      <td>2019.0</td>\n",
       "      <td>45299</td>\n",
       "      <td>Semi-Auto</td>\n",
       "      <td>2792.000000</td>\n",
       "      <td>Diesel</td>\n",
       "      <td>145.000000</td>\n",
       "      <td>40.4</td>\n",
       "      <td>2.0</td>\n",
       "    </tr>\n",
       "    <tr>\n",
       "      <th>9102</th>\n",
       "      <td>NaN</td>\n",
       "      <td>2018.0</td>\n",
       "      <td>19099</td>\n",
       "      <td>Semi-Auto</td>\n",
       "      <td>12321.000000</td>\n",
       "      <td>Petrol</td>\n",
       "      <td>145.000000</td>\n",
       "      <td>43.4</td>\n",
       "      <td>1.5</td>\n",
       "    </tr>\n",
       "    <tr>\n",
       "      <th>2400</th>\n",
       "      <td>A Class</td>\n",
       "      <td>2019.0</td>\n",
       "      <td>17702</td>\n",
       "      <td>Automatic</td>\n",
       "      <td>9006.000000</td>\n",
       "      <td>Diesel</td>\n",
       "      <td>145.000000</td>\n",
       "      <td>68.9</td>\n",
       "      <td>1.5</td>\n",
       "    </tr>\n",
       "    <tr>\n",
       "      <th>8294</th>\n",
       "      <td>NaN</td>\n",
       "      <td>2014.0</td>\n",
       "      <td>21749</td>\n",
       "      <td>Semi-Auto</td>\n",
       "      <td>27178.000000</td>\n",
       "      <td>Diesel</td>\n",
       "      <td>160.000000</td>\n",
       "      <td>51.4</td>\n",
       "      <td>2.2</td>\n",
       "    </tr>\n",
       "    <tr>\n",
       "      <th>6506</th>\n",
       "      <td>E Class</td>\n",
       "      <td>2018.0</td>\n",
       "      <td>35950</td>\n",
       "      <td>Automatic</td>\n",
       "      <td>36369.333333</td>\n",
       "      <td>Diesel</td>\n",
       "      <td>151.666667</td>\n",
       "      <td>42.8</td>\n",
       "      <td>3.0</td>\n",
       "    </tr>\n",
       "  </tbody>\n",
       "</table>\n",
       "</div>"
      ],
      "text/plain": [
       "           model    year  price transmission       mileage fuelType  \\\n",
       "8498   GLC Class  2019.0  45299    Semi-Auto   2792.000000   Diesel   \n",
       "9102         NaN  2018.0  19099    Semi-Auto  12321.000000   Petrol   \n",
       "2400     A Class  2019.0  17702    Automatic   9006.000000   Diesel   \n",
       "8294         NaN  2014.0  21749    Semi-Auto  27178.000000   Diesel   \n",
       "6506     E Class  2018.0  35950    Automatic  36369.333333   Diesel   \n",
       "\n",
       "             tax   mpg  engineSize  \n",
       "8498  145.000000  40.4         2.0  \n",
       "9102  145.000000  43.4         1.5  \n",
       "2400  145.000000  68.9         1.5  \n",
       "8294  160.000000  51.4         2.2  \n",
       "6506  151.666667  42.8         3.0  "
      ]
     },
     "execution_count": 89,
     "metadata": {},
     "output_type": "execute_result"
    }
   ],
   "source": [
    "X_train[num_columns] = imp_knn.fit_transform(X_train[num_columns])\n",
    "X_train.head()"
   ]
  },
  {
   "cell_type": "code",
   "execution_count": 92,
   "metadata": {
    "colab": {
     "base_uri": "https://localhost:8080/"
    },
    "id": "O8IBQNegQDoi",
    "outputId": "afccf92d-44d0-4915-c1f5-e2ca4c6722ac"
   },
   "outputs": [
    {
     "data": {
      "text/plain": [
       "model           0\n",
       "year            0\n",
       "price           0\n",
       "transmission    0\n",
       "mileage         0\n",
       "fuelType        0\n",
       "tax             0\n",
       "mpg             0\n",
       "engineSize      0\n",
       "dtype: int64"
      ]
     },
     "execution_count": 92,
     "metadata": {},
     "output_type": "execute_result"
    }
   ],
   "source": [
    "X_train.isna().sum()"
   ]
  },
  {
   "cell_type": "code",
   "execution_count": 93,
   "metadata": {
    "id": "T53iuhSAQOBg"
   },
   "outputs": [],
   "source": [
    "X_test[zero_cols] = imp_const_0.transform(X_test[zero_cols])\n",
    "X_test[unk_cols] = imp_const_unknown.transform(X_test[unk_cols])\n",
    "X_test[med_cols] = imp_median.transform(X_test[med_cols])\n",
    "X_test[num_columns] = imp_knn.transform(X_test[num_columns])"
   ]
  },
  {
   "cell_type": "code",
   "execution_count": 94,
   "metadata": {
    "id": "d8236n81Q6ix"
   },
   "outputs": [],
   "source": [
    "X_train.to_csv('merc_train.csv', index=False)\n",
    "X_test.to_csv('merc_test.csv', index=False)"
   ]
  },
  {
   "cell_type": "code",
   "execution_count": null,
   "metadata": {
    "id": "TQehcV8oRNI9"
   },
   "outputs": [],
   "source": []
  }
 ],
 "metadata": {
  "colab": {
   "provenance": []
  },
  "kernelspec": {
   "display_name": "Python 3 (ipykernel)",
   "language": "python",
   "name": "python3"
  },
  "language_info": {
   "codemirror_mode": {
    "name": "ipython",
    "version": 3
   },
   "file_extension": ".py",
   "mimetype": "text/x-python",
   "name": "python",
   "nbconvert_exporter": "python",
   "pygments_lexer": "ipython3",
   "version": "3.11.5"
  }
 },
 "nbformat": 4,
 "nbformat_minor": 1
}
