{
 "cells": [
  {
   "cell_type": "markdown",
   "metadata": {
    "id": "o6I4n4hwCgV5"
   },
   "source": [
    "# Очистка данных. Практическая работа"
   ]
  },
  {
   "cell_type": "markdown",
   "metadata": {
    "id": "7TcMEEhWCmMs"
   },
   "source": [
    "## Цель практической работы\n",
    "\n",
    "- Научиться выполнять очистку и подготовку данных для их дальнейшего использования в задаче машинного обучения."
   ]
  },
  {
   "cell_type": "markdown",
   "metadata": {
    "id": "X_F8J_bWDsJz"
   },
   "source": [
    "## Что нужно сделать\n",
    "\n",
    "- Загрузить данные в ноутбук.\n",
    "- Провести разведочный анализ данных.\n",
    "- Разделить данные на обучающую и тестовую выборки.\n",
    "- Выполнить очистку и подготовку данных."
   ]
  },
  {
   "cell_type": "markdown",
   "metadata": {
    "id": "K2Db_0pXEqka"
   },
   "source": [
    "## Что оценивается \n",
    "\n",
    "1. Выполнены все этапы задания.\n",
    "1. Не допущены утечки данных."
   ]
  },
  {
   "cell_type": "markdown",
   "metadata": {
    "id": "vwpxmizHGXPE"
   },
   "source": [
    "## Формат сдачи\n",
    "\n",
    "Выполните предложенные задания: впишите свой код в ячейки после комментария `### YOUR CODE HERE ###` и сохраните изменения, используя опцию *Save and Checkpoint* из вкладки меню *File* или кнопку *Save and Checkpoint* на панели инструментов. Итоговый файл в формате `.ipynb` (файл Jupyter Notebook) загрузите в личный кабинет и отправьте на проверку."
   ]
  },
  {
   "cell_type": "markdown",
   "metadata": {
    "id": "CUhKZgVsFEkk"
   },
   "source": [
    "## Задача\n",
    "Имеется набор данных покупателей супермаркета. Проведите анализ и очистку этих данных."
   ]
  },
  {
   "cell_type": "markdown",
   "metadata": {
    "id": "MMergpE8Fj8-"
   },
   "source": [
    "### Описание данных\n",
    "\n",
    "Дан файл Mall_Customers.csv, содержащий следующие данные по покупателям сети супермаркетов:\n",
    "- CustomerID — идентификатор покупателя.\n",
    "- Genre – пол покупателя.\n",
    "- Age – возраст покупателя.\n",
    "- Annual Income (k\\$) – годовой доход покупателя, тысяч $.\n",
    "- Spending Score (1–100) – рейтинг покупателя, целевая переменная."
   ]
  },
  {
   "cell_type": "markdown",
   "metadata": {
    "id": "9pfNcyY_FoV7"
   },
   "source": [
    "### Задание 1\n",
    "\n",
    "Загрузите данные из файла `Mall_Customers.csv` в ноутбук и выведите первые пять строк на экран."
   ]
  },
  {
   "cell_type": "code",
   "execution_count": 1,
   "metadata": {},
   "outputs": [],
   "source": [
    "import matplotlib.pyplot as plt\n",
    "from sklearn.preprocessing import LabelEncoder\n",
    "from sklearn.preprocessing import OneHotEncoder"
   ]
  },
  {
   "cell_type": "code",
   "execution_count": 2,
   "metadata": {
    "id": "9Q82jW1UCjGi"
   },
   "outputs": [],
   "source": [
    "### YOUR CODE HERE ###\n",
    "import pandas as pd"
   ]
  },
  {
   "cell_type": "code",
   "execution_count": 3,
   "metadata": {},
   "outputs": [],
   "source": [
    "df = pd.read_csv('12.5 Mall_Customers.csv')"
   ]
  },
  {
   "cell_type": "code",
   "execution_count": 4,
   "metadata": {},
   "outputs": [
    {
     "data": {
      "text/html": [
       "<div>\n",
       "<style scoped>\n",
       "    .dataframe tbody tr th:only-of-type {\n",
       "        vertical-align: middle;\n",
       "    }\n",
       "\n",
       "    .dataframe tbody tr th {\n",
       "        vertical-align: top;\n",
       "    }\n",
       "\n",
       "    .dataframe thead th {\n",
       "        text-align: right;\n",
       "    }\n",
       "</style>\n",
       "<table border=\"1\" class=\"dataframe\">\n",
       "  <thead>\n",
       "    <tr style=\"text-align: right;\">\n",
       "      <th></th>\n",
       "      <th>CustomerID</th>\n",
       "      <th>Genre</th>\n",
       "      <th>Age</th>\n",
       "      <th>Annual Income (k$)</th>\n",
       "      <th>Spending Score (1-100)</th>\n",
       "    </tr>\n",
       "  </thead>\n",
       "  <tbody>\n",
       "    <tr>\n",
       "      <th>0</th>\n",
       "      <td>1</td>\n",
       "      <td>Male</td>\n",
       "      <td>19.0</td>\n",
       "      <td>15.0</td>\n",
       "      <td>39</td>\n",
       "    </tr>\n",
       "    <tr>\n",
       "      <th>1</th>\n",
       "      <td>2</td>\n",
       "      <td>Male</td>\n",
       "      <td>NaN</td>\n",
       "      <td>NaN</td>\n",
       "      <td>81</td>\n",
       "    </tr>\n",
       "    <tr>\n",
       "      <th>2</th>\n",
       "      <td>3</td>\n",
       "      <td>Female</td>\n",
       "      <td>NaN</td>\n",
       "      <td>16.0</td>\n",
       "      <td>6</td>\n",
       "    </tr>\n",
       "    <tr>\n",
       "      <th>3</th>\n",
       "      <td>4</td>\n",
       "      <td>Female</td>\n",
       "      <td>23.0</td>\n",
       "      <td>16.0</td>\n",
       "      <td>77</td>\n",
       "    </tr>\n",
       "    <tr>\n",
       "      <th>4</th>\n",
       "      <td>5</td>\n",
       "      <td>Female</td>\n",
       "      <td>31.0</td>\n",
       "      <td>17.0</td>\n",
       "      <td>40</td>\n",
       "    </tr>\n",
       "  </tbody>\n",
       "</table>\n",
       "</div>"
      ],
      "text/plain": [
       "   CustomerID   Genre   Age  Annual Income (k$)  Spending Score (1-100)\n",
       "0           1    Male  19.0                15.0                      39\n",
       "1           2    Male   NaN                 NaN                      81\n",
       "2           3  Female   NaN                16.0                       6\n",
       "3           4  Female  23.0                16.0                      77\n",
       "4           5  Female  31.0                17.0                      40"
      ]
     },
     "execution_count": 4,
     "metadata": {},
     "output_type": "execute_result"
    }
   ],
   "source": [
    "df.head(5)"
   ]
  },
  {
   "cell_type": "markdown",
   "metadata": {
    "id": "dZ6Tm3koGft2"
   },
   "source": [
    "### Задание 2\n",
    "\n",
    "Проведите разведочный анализ загруженных данных. Обязательные атрибуты для анализа:\n",
    "- количество пропусков в каждом признаке;\n",
    "- распределения признаков;\n",
    "- возможные выбросы или аномалии.\n",
    "\n",
    "Анализ дополнительных атрибутов и свойств данных приветствуется. Используйте средства визуализации там, где это необходимо.\n",
    "\n",
    "По результатам анализа сделайте выводы о свойствах отдельных признаков и качестве данных в целом."
   ]
  },
  {
   "cell_type": "code",
   "execution_count": 5,
   "metadata": {},
   "outputs": [
    {
     "data": {
      "text/plain": [
       "CustomerID                 0\n",
       "Genre                     19\n",
       "Age                       20\n",
       "Annual Income (k$)        20\n",
       "Spending Score (1-100)     0\n",
       "dtype: int64"
      ]
     },
     "execution_count": 5,
     "metadata": {},
     "output_type": "execute_result"
    }
   ],
   "source": [
    "### YOUR CODE HERE ###\n",
    "df.isna().sum()\n"
   ]
  },
  {
   "cell_type": "code",
   "execution_count": 6,
   "metadata": {},
   "outputs": [
    {
     "data": {
      "text/plain": [
       "CustomerID                0.000\n",
       "Genre                     0.095\n",
       "Age                       0.100\n",
       "Annual Income (k$)        0.100\n",
       "Spending Score (1-100)    0.000\n",
       "dtype: float64"
      ]
     },
     "execution_count": 6,
     "metadata": {},
     "output_type": "execute_result"
    }
   ],
   "source": [
    "df.isna().sum() / df.shape[0]"
   ]
  },
  {
   "cell_type": "code",
   "execution_count": 7,
   "metadata": {
    "scrolled": true
   },
   "outputs": [
    {
     "name": "stdout",
     "output_type": "stream",
     "text": [
      "<class 'pandas.core.series.Series'>\n",
      "RangeIndex: 200 entries, 0 to 199\n",
      "Series name: CustomerID\n",
      "Non-Null Count  Dtype\n",
      "--------------  -----\n",
      "200 non-null    int64\n",
      "dtypes: int64(1)\n",
      "memory usage: 1.7 KB\n"
     ]
    }
   ],
   "source": [
    "df.CustomerID.info()"
   ]
  },
  {
   "cell_type": "code",
   "execution_count": 8,
   "metadata": {},
   "outputs": [],
   "source": [
    "# Лишняя колонка\n",
    "df = df.drop('CustomerID', axis=1)"
   ]
  },
  {
   "cell_type": "code",
   "execution_count": 9,
   "metadata": {},
   "outputs": [
    {
     "name": "stdout",
     "output_type": "stream",
     "text": [
      "Genre\n",
      "Female     102\n",
      "Male        77\n",
      "Feemale      2\n",
      "Name: count, dtype: int64\n",
      "  \n",
      "Age\n",
      "32.0     10\n",
      "35.0      8\n",
      "31.0      7\n",
      "30.0      7\n",
      "49.0      7\n",
      "19.0      6\n",
      "40.0      6\n",
      "47.0      6\n",
      "23.0      6\n",
      "27.0      6\n",
      "36.0      5\n",
      "38.0      5\n",
      "48.0      5\n",
      "20.0      4\n",
      "59.0      4\n",
      "18.0      4\n",
      "34.0      4\n",
      "29.0      4\n",
      "54.0      4\n",
      "37.0      3\n",
      "60.0      3\n",
      "43.0      3\n",
      "67.0      3\n",
      "25.0      3\n",
      "39.0      3\n",
      "50.0      3\n",
      "46.0      3\n",
      "33.0      3\n",
      "28.0      3\n",
      "22.0      3\n",
      "24.0      3\n",
      "45.0      3\n",
      "21.0      3\n",
      "68.0      3\n",
      "44.0      2\n",
      "57.0      2\n",
      "26.0      2\n",
      "51.0      2\n",
      "52.0      2\n",
      "135.0     2\n",
      "58.0      2\n",
      "65.0      2\n",
      "53.0      2\n",
      "41.0      2\n",
      "63.0      1\n",
      "70.0      1\n",
      "69.0      1\n",
      "55.0      1\n",
      "66.0      1\n",
      "56.0      1\n",
      "42.0      1\n",
      "Name: count, dtype: int64\n",
      "  \n",
      "Annual Income (k$)\n",
      "54.0     11\n",
      "78.0     11\n",
      "63.0      6\n",
      "60.0      6\n",
      "87.0      6\n",
      "         ..\n",
      "37.0      1\n",
      "113.0     1\n",
      "69.0      1\n",
      "76.0      1\n",
      "15.0      1\n",
      "Name: count, Length: 64, dtype: int64\n",
      "  \n",
      "Spending Score (1-100)\n",
      "42    8\n",
      "55    7\n",
      "46    6\n",
      "73    6\n",
      "35    5\n",
      "     ..\n",
      "31    1\n",
      "44    1\n",
      "53    1\n",
      "65    1\n",
      "18    1\n",
      "Name: count, Length: 84, dtype: int64\n",
      "  \n"
     ]
    }
   ],
   "source": [
    "for col in df.columns:\n",
    "    if col == 'CustomerID':\n",
    "        continue\n",
    "#     print(col)    \n",
    "    print(df[col].value_counts()    )\n",
    "    \n",
    "    print('  ')    "
   ]
  },
  {
   "cell_type": "code",
   "execution_count": 10,
   "metadata": {},
   "outputs": [],
   "source": [
    "# совершенно неудобно с такими названиями\n",
    "df = df.rename(columns={'Age': 'age', \n",
    "                        'Annual Income (k$)':'annual_income', \n",
    "                        'Spending Score (1-100)': 'spending_score',\n",
    "                       'Genre': 'gender'\n",
    "                       })"
   ]
  },
  {
   "cell_type": "code",
   "execution_count": 11,
   "metadata": {},
   "outputs": [],
   "source": [
    "# lol fee-male:))\n",
    "def feemale(df):\n",
    "    df.loc[df.gender == 'Feemale', 'gender'] = 'Female'\n",
    "    return df"
   ]
  },
  {
   "cell_type": "code",
   "execution_count": 12,
   "metadata": {},
   "outputs": [
    {
     "data": {
      "text/plain": [
       "0.73"
      ]
     },
     "execution_count": 12,
     "metadata": {},
     "output_type": "execute_result"
    }
   ],
   "source": [
    "# -27% of DF - i'd say too much to just get rid of 'em\n",
    "df[(df.age.isna() == False) & (df.gender.isna() == False) & (df['annual_income'].isna() == False)].shape[0]/ df.shape[0]"
   ]
  },
  {
   "cell_type": "code",
   "execution_count": 13,
   "metadata": {},
   "outputs": [
    {
     "data": {
      "image/png": "[encoded data removed]",
      "text/plain": [
       "<Figure size 300x300 with 1 Axes>"
      ]
     },
     "metadata": {},
     "output_type": "display_data"
    }
   ],
   "source": [
    "# так себе график:(\n",
    "plt.figure(figsize=(3,3))\n",
    "plt.scatter(df.age, df.annual_income )\n",
    "plt.show()"
   ]
  },
  {
   "cell_type": "code",
   "execution_count": 14,
   "metadata": {},
   "outputs": [],
   "source": [
    "def calculate_iqr_boundaries(series):\n",
    "    q25 = series.quantile(0.25)\n",
    "    q75 = series.quantile(0.75)\n",
    "    iqr = q75 - q25\n",
    "\n",
    "    boundaries = (q25 - 1.5 * iqr, q75 + 1.5 * iqr)\n",
    "    return boundaries"
   ]
  },
  {
   "cell_type": "markdown",
   "metadata": {
    "id": "f2D8MlDlHvL4"
   },
   "source": [
    "### Задание 3\n",
    "\n",
    "Разделите данные на обучающую и тестовую выборки в пропорции 80:20. Здесь и далее используйте random_state = 1."
   ]
  },
  {
   "cell_type": "code",
   "execution_count": 15,
   "metadata": {
    "id": "7YwL8vOzICNY"
   },
   "outputs": [],
   "source": [
    "### YOUR CODE HERE ###\n",
    "from sklearn.model_selection import train_test_split\n",
    "x_train, x_test = train_test_split(df, test_size=0.2, random_state=1)"
   ]
  },
  {
   "cell_type": "markdown",
   "metadata": {
    "id": "pmzNU3XqICuX"
   },
   "source": [
    "### Задание 4\n",
    "\n",
    "Заполните пропуски в признаках в обучающей выборке с использованием инструментов sklearn. Для каждого признака выберите и аргументируйте стратегию заполнения пропусков."
   ]
  },
  {
   "cell_type": "code",
   "execution_count": 16,
   "metadata": {},
   "outputs": [],
   "source": [
    "x_train = feemale(x_train)"
   ]
  },
  {
   "cell_type": "code",
   "execution_count": 17,
   "metadata": {},
   "outputs": [],
   "source": [
    "# для чистоты эксперимента проверим выбросы"
   ]
  },
  {
   "cell_type": "code",
   "execution_count": 18,
   "metadata": {},
   "outputs": [
    {
     "name": "stdout",
     "output_type": "stream",
     "text": [
      "Histogram for age\n"
     ]
    },
    {
     "data": {
      "image/png": "[encoded data removed]",
      "text/plain": [
       "<Figure size 640x480 with 1 Axes>"
      ]
     },
     "metadata": {},
     "output_type": "display_data"
    },
    {
     "name": "stdout",
     "output_type": "stream",
     "text": [
      "Histogram for annual_income\n"
     ]
    },
    {
     "data": {
      "image/png": "[encoded data removed]",
      "text/plain": [
       "<Figure size 640x480 with 1 Axes>"
      ]
     },
     "metadata": {},
     "output_type": "display_data"
    },
    {
     "name": "stdout",
     "output_type": "stream",
     "text": [
      "Histogram for spending_score\n"
     ]
    },
    {
     "data": {
      "image/png": "[encoded data removed]",
      "text/plain": [
       "<Figure size 640x480 with 1 Axes>"
      ]
     },
     "metadata": {},
     "output_type": "display_data"
    }
   ],
   "source": [
    "### YOUR CODE HERE ###\n",
    "num_cols = []\n",
    "\n",
    "for col in x_train.columns:\n",
    "    if x_train[col].dtype == 'O':\n",
    "        continue\n",
    "    else:\n",
    "        num_cols.append(col)\n",
    "\n",
    "for col in num_cols:\n",
    "    print(f'Histogram for {col}')\n",
    "    x_train[col].hist(bins=100)\n",
    "    plt.show()\n"
   ]
  },
  {
   "cell_type": "code",
   "execution_count": 19,
   "metadata": {},
   "outputs": [
    {
     "data": {
      "text/plain": [
       "135.0"
      ]
     },
     "execution_count": 19,
     "metadata": {},
     "output_type": "execute_result"
    }
   ],
   "source": [
    "# well, thats obviously BS:)\n",
    "x_train.age.max()"
   ]
  },
  {
   "cell_type": "code",
   "execution_count": 20,
   "metadata": {},
   "outputs": [
    {
     "data": {
      "text/plain": [
       "1000000.0"
      ]
     },
     "execution_count": 20,
     "metadata": {},
     "output_type": "execute_result"
    }
   ],
   "source": [
    "# good for you! but i dont think so tho:)\n",
    "x_train.annual_income.max()"
   ]
  },
  {
   "cell_type": "code",
   "execution_count": 21,
   "metadata": {},
   "outputs": [],
   "source": [
    "# кажется, придется сначала разобраться с выбросами \n",
    "# по этому для начала целесообразнее считаю разобраться с выбросами\n",
    "# сразу и в возрасте и в доходе"
   ]
  },
  {
   "cell_type": "markdown",
   "metadata": {},
   "source": [
    "for col in x_train.columns:\n",
    "    if col == 'gender':\n",
    "        continue\n",
    "#     iter_name = f'{col}'\n",
    "    exec(f'{col}_boundaries = calculate_iqr_boundaries(x_train.{col})')\n",
    "    print(col,' ', end='')\n",
    "    exec(f'print({col}_boundaries)')\n",
    "\n"
   ]
  },
  {
   "cell_type": "code",
   "execution_count": 22,
   "metadata": {},
   "outputs": [],
   "source": [
    "def bounds_f(x_train):\n",
    "    bounds = []\n",
    "    bounds_d = dict()\n",
    "    for col in x_train.columns:\n",
    "        if col == 'gender':\n",
    "            continue\n",
    "    #     iter_name = f'{col}'\n",
    "        exec(f'{col}_boundaries = calculate_iqr_boundaries(x_train.{col})')\n",
    "        exec(f'bounds.append(({col}_boundaries))')\n",
    "    for i in range(len(x_train.columns)):\n",
    "        if x_train.columns[i] == 'gender':\n",
    "            continue\n",
    "        bounds_d[x_train.columns[i]] = bounds[i-1]\n",
    "    return bounds_d"
   ]
  },
  {
   "cell_type": "code",
   "execution_count": 23,
   "metadata": {
    "scrolled": true
   },
   "outputs": [
    {
     "data": {
      "text/plain": [
       "{'age': (0.5, 76.5),\n",
       " 'annual_income': (-7.375, 127.625),\n",
       " 'spending_score': (-20.125, 128.875)}"
      ]
     },
     "execution_count": 23,
     "metadata": {},
     "output_type": "execute_result"
    }
   ],
   "source": [
    "bounds = bounds_f(x_train)\n",
    "bounds"
   ]
  },
  {
   "cell_type": "code",
   "execution_count": 24,
   "metadata": {},
   "outputs": [],
   "source": [
    "def age_f(x_train):\n",
    "    x_train.loc[x_train['age'] >= bounds['age'][1], 'age'] = bounds['age'][1]\n",
    "    return x_train"
   ]
  },
  {
   "cell_type": "code",
   "execution_count": 25,
   "metadata": {},
   "outputs": [],
   "source": [
    "x_train = age_f(x_train)"
   ]
  },
  {
   "cell_type": "code",
   "execution_count": 26,
   "metadata": {},
   "outputs": [
    {
     "data": {
      "text/plain": [
       "199        137.0\n",
       "156    1000000.0\n",
       "Name: annual_income, dtype: float64"
      ]
     },
     "execution_count": 26,
     "metadata": {},
     "output_type": "execute_result"
    }
   ],
   "source": [
    "x_train.loc[x_train['annual_income'] >= bounds['annual_income'][1], 'annual_income']"
   ]
  },
  {
   "cell_type": "code",
   "execution_count": 27,
   "metadata": {},
   "outputs": [],
   "source": [
    "# думаю, 137 можно и оставить, даже если оно вылезает за границу чуть-чуть\n",
    "def ann_f(x_train):\n",
    "    x_train.loc[x_train['annual_income'] >= 138, 'annual_income'] = bounds['annual_income'][1]\n",
    "    return x_train"
   ]
  },
  {
   "cell_type": "code",
   "execution_count": 28,
   "metadata": {},
   "outputs": [],
   "source": [
    "x_train = ann_f(x_train)"
   ]
  },
  {
   "cell_type": "code",
   "execution_count": 29,
   "metadata": {},
   "outputs": [
    {
     "data": {
      "text/plain": [
       "3.6"
      ]
     },
     "execution_count": 29,
     "metadata": {},
     "output_type": "execute_result"
    }
   ],
   "source": [
    "# колонок не много, начнем с пола - проверим есть ли существенная разница по доходу - может мы могли бы предположить на \n",
    "# основании этих данных что нибудь\n",
    "abs(round ((x_train[x_train.gender == 'Male'].annual_income.mean() - x_train[x_train.gender == 'Female'].annual_income.mean()), 2))\n",
    "# нет, кажется разница не настолько существенна, чтобы делать какие то выводы. посмотрим на рейтинг покупателя"
   ]
  },
  {
   "cell_type": "code",
   "execution_count": 30,
   "metadata": {},
   "outputs": [
    {
     "data": {
      "text/plain": [
       "0.05"
      ]
     },
     "execution_count": 30,
     "metadata": {},
     "output_type": "execute_result"
    }
   ],
   "source": [
    "abs(round ((x_train[x_train.gender == 'Male'].spending_score.mean()-x_train[x_train.gender == 'Female'].spending_score.mean())/100, 2))"
   ]
  },
  {
   "cell_type": "code",
   "execution_count": 31,
   "metadata": {},
   "outputs": [],
   "source": [
    "def gender_coding(x_train):\n",
    "    encoder = LabelEncoder()\n",
    "    x_train['gender_le'] = encoder.fit_transform(x_train['gender'])\n",
    "    return x_train"
   ]
  },
  {
   "cell_type": "code",
   "execution_count": 32,
   "metadata": {},
   "outputs": [],
   "source": [
    "x_train = gender_coding(x_train)"
   ]
  },
  {
   "cell_type": "code",
   "execution_count": 33,
   "metadata": {},
   "outputs": [
    {
     "data": {
      "image/png": "[encoded data removed]",
      "text/plain": [
       "<Figure size 300x300 with 1 Axes>"
      ]
     },
     "metadata": {},
     "output_type": "display_data"
    }
   ],
   "source": [
    "plt.figure(figsize=(3,3))\n",
    "plt.scatter(x_train.gender_le, x_train.spending_score )\n",
    "plt.show()"
   ]
  },
  {
   "cell_type": "code",
   "execution_count": 34,
   "metadata": {},
   "outputs": [],
   "source": [
    "# Тоже не однозначно\n",
    "def gender_fill(x_train):\n",
    "    x_train.loc[(x_train.gender != 'Male') & (x_train.gender != 'Female') , 'gender'] = 'not_set'\n",
    "    return x_train\n",
    "# оставим незаполненным, заполним 'локом' вместо импьютера - тут простое условие и небольшой сет"
   ]
  },
  {
   "cell_type": "code",
   "execution_count": 35,
   "metadata": {},
   "outputs": [
    {
     "data": {
      "text/plain": [
       "gender            15\n",
       "age               15\n",
       "annual_income     18\n",
       "spending_score     0\n",
       "gender_le          0\n",
       "dtype: int64"
      ]
     },
     "execution_count": 35,
     "metadata": {},
     "output_type": "execute_result"
    }
   ],
   "source": [
    "x_train.isna().sum()"
   ]
  },
  {
   "cell_type": "code",
   "execution_count": 36,
   "metadata": {},
   "outputs": [
    {
     "data": {
      "image/png": "[encoded data removed]",
      "text/plain": [
       "<Figure size 300x300 with 1 Axes>"
      ]
     },
     "metadata": {},
     "output_type": "display_data"
    }
   ],
   "source": [
    "\n",
    "# попытка № 2\n",
    "# зависимости, правда,  не видно\n",
    "\n",
    "plt.figure(figsize=(3,3))\n",
    "plt.scatter(x_train.age, x_train.annual_income )\n",
    "plt.show()"
   ]
  },
  {
   "cell_type": "code",
   "execution_count": 37,
   "metadata": {},
   "outputs": [
    {
     "data": {
      "image/png": "[encoded data removed]",
      "text/plain": [
       "<Figure size 300x300 with 1 Axes>"
      ]
     },
     "metadata": {},
     "output_type": "display_data"
    }
   ],
   "source": [
    "plt.figure(figsize=(3,3))\n",
    "plt.scatter(x_train.age, x_train.spending_score )\n",
    "plt.show()"
   ]
  },
  {
   "cell_type": "code",
   "execution_count": 38,
   "metadata": {
    "scrolled": true
   },
   "outputs": [
    {
     "data": {
      "image/png": "[encoded data removed]",
      "text/plain": [
       "<Figure size 300x300 with 1 Axes>"
      ]
     },
     "metadata": {},
     "output_type": "display_data"
    }
   ],
   "source": [
    "plt.figure(figsize=(3,3))\n",
    "plt.scatter(x_train.annual_income, x_train.spending_score )\n",
    "plt.show()"
   ]
  },
  {
   "cell_type": "code",
   "execution_count": 39,
   "metadata": {},
   "outputs": [],
   "source": [
    "from sklearn.impute import SimpleImputer"
   ]
  },
  {
   "cell_type": "code",
   "execution_count": 40,
   "metadata": {},
   "outputs": [],
   "source": [
    "# теперь, наконец можно заполнить доход медианой, а возраст средним"
   ]
  },
  {
   "cell_type": "code",
   "execution_count": 41,
   "metadata": {},
   "outputs": [],
   "source": [
    "def ann_imp_f(x_train):\n",
    "    imp_median = SimpleImputer(strategy='median')\n",
    "    med_cols = ['annual_income']\n",
    "    x_train[med_cols] = imp_median.fit_transform(x_train[med_cols])\n",
    "    return x_train"
   ]
  },
  {
   "cell_type": "code",
   "execution_count": 42,
   "metadata": {},
   "outputs": [],
   "source": [
    "def age_imp_f(x_train):\n",
    "    imp_mean = SimpleImputer(strategy='mean')\n",
    "    mean_cols = ['age']\n",
    "    x_train[mean_cols] = imp_mean.fit_transform(x_train[mean_cols])\n",
    "    return x_train"
   ]
  },
  {
   "cell_type": "code",
   "execution_count": 43,
   "metadata": {},
   "outputs": [],
   "source": [
    "x_train = ann_imp_f(x_train)"
   ]
  },
  {
   "cell_type": "code",
   "execution_count": 44,
   "metadata": {},
   "outputs": [],
   "source": [
    "x_train = age_imp_f(x_train)"
   ]
  },
  {
   "cell_type": "markdown",
   "metadata": {
    "id": "dG06N3kJIZ9A"
   },
   "source": [
    "### Задание 5\n",
    "\n",
    "Найдите выбросы в признаках обучающей выборки. Замените выбросы, если таковые имеются, и аргументируйте выбор метода поиска выбросов.\n"
   ]
  },
  {
   "cell_type": "code",
   "execution_count": 45,
   "metadata": {},
   "outputs": [],
   "source": [
    "# мне показалось заполнять пропуски средним-медианой при наличии выбросов/ошибок неправильным - в частности оооочень \n",
    "# страдала колонка дохода при попытке проследить зависимость доход<->пол\n",
    "# по этому выбросы обработались ДО пропусков\n",
    "# что касается аргументации - медиана для дохода и среднее для возраста - не нолики, т.к. это было бы странно - \n",
    "# удалять строки с пропусками так же показалось расточительным, т.к. весь \n",
    "# сет 200 объектов, 160 на обучение - тут нужно спасать все, что имеет хотя бы толику реальных данных \n",
    "# - если что потом можно будет попробовать заполнить по другому, если метрика будет неудовлетворительна же"
   ]
  },
  {
   "cell_type": "markdown",
   "metadata": {
    "id": "4iZFKDQ7I2LZ"
   },
   "source": [
    "### Задание 6\n",
    "\n",
    "Нормализуйте численные признаки. Аргументируйте выбор стратегии нормализации для каждого признака.\n"
   ]
  },
  {
   "cell_type": "code",
   "execution_count": 46,
   "metadata": {},
   "outputs": [],
   "source": [
    "# на \"стаке\" рекомендуют минмакс при ненормальном распределении и стандарт при нормальном"
   ]
  },
  {
   "cell_type": "code",
   "execution_count": 47,
   "metadata": {},
   "outputs": [],
   "source": [
    "from scipy import stats"
   ]
  },
  {
   "cell_type": "code",
   "execution_count": 48,
   "metadata": {},
   "outputs": [
    {
     "name": "stdout",
     "output_type": "stream",
     "text": [
      "age  - not normal dist\n",
      "annual_income  - not normal dist\n",
      "spending_score  - not normal dist\n",
      "gender_le  - not normal dist\n"
     ]
    }
   ],
   "source": [
    "for col in x_train.columns:\n",
    "\n",
    "    if col == 'gender':\n",
    "        continue\n",
    "    res = stats.shapiro(x_train[col])\n",
    "    \n",
    "    print(col,' - not normal dist' if res.pvalue <= 0.05  else '- normal dist')\n",
    "#     res.pvalue > 0.05\n",
    "    "
   ]
  },
  {
   "cell_type": "code",
   "execution_count": 49,
   "metadata": {
    "id": "gSLKHnlYI-bf"
   },
   "outputs": [],
   "source": [
    "from sklearn.preprocessing import MinMaxScaler\n",
    "\n",
    "scaler = MinMaxScaler()\n"
   ]
  },
  {
   "cell_type": "code",
   "execution_count": 50,
   "metadata": {},
   "outputs": [],
   "source": [
    "def scaler_f(x_train, scaler):\n",
    "    num_cols = []\n",
    "    for col in x_train.columns:\n",
    "        if x_train.dtypes[col] == 'O':\n",
    "            continue\n",
    "        if 'le' in col:\n",
    "            continue\n",
    "        num_cols.append(col)\n",
    "    x_train_nums = x_train[num_cols]\n",
    "    x_train_s = scaler.transform(x_train_nums)\n",
    "    x_train[num_cols] = x_train_s\n",
    "    return x_train"
   ]
  },
  {
   "cell_type": "code",
   "execution_count": 51,
   "metadata": {},
   "outputs": [],
   "source": [
    "# а есть ли смысл кодировать кодированные колонки? я так понял это один из \"открытых\" вопросов..\n",
    "# я где то вычитал, что с точки зрения качества предсказаний линейным моделям без регуляризации в общем все равно, \n",
    "# а вот лассо и другие могут подстраивать штрафы под эти значения, что, кажется, в корне некорректным, т.к. \n",
    "# по сути это же не число, а все же \"да/нет\" \n",
    "# но насколько это вопрос интерпретации с моей стороны - т.е. \"не особо важно\", \n",
    "# что я думаю на эту тему, и насколько это вопрос качества предсказания?"
   ]
  },
  {
   "cell_type": "code",
   "execution_count": 52,
   "metadata": {},
   "outputs": [
    {
     "data": {
      "text/html": [
       "<style>#sk-container-id-1 {color: black;}#sk-container-id-1 pre{padding: 0;}#sk-container-id-1 div.sk-toggleable {background-color: white;}#sk-container-id-1 label.sk-toggleable__label {cursor: pointer;display: block;width: 100%;margin-bottom: 0;padding: 0.3em;box-sizing: border-box;text-align: center;}#sk-container-id-1 label.sk-toggleable__label-arrow:before {content: \"▸\";float: left;margin-right: 0.25em;color: #696969;}#sk-container-id-1 label.sk-toggleable__label-arrow:hover:before {color: black;}#sk-container-id-1 div.sk-estimator:hover label.sk-toggleable__label-arrow:before {color: black;}#sk-container-id-1 div.sk-toggleable__content {max-height: 0;max-width: 0;overflow: hidden;text-align: left;background-color: #f0f8ff;}#sk-container-id-1 div.sk-toggleable__content pre {margin: 0.2em;color: black;border-radius: 0.25em;background-color: #f0f8ff;}#sk-container-id-1 input.sk-toggleable__control:checked~div.sk-toggleable__content {max-height: 200px;max-width: 100%;overflow: auto;}#sk-container-id-1 input.sk-toggleable__control:checked~label.sk-toggleable__label-arrow:before {content: \"▾\";}#sk-container-id-1 div.sk-estimator input.sk-toggleable__control:checked~label.sk-toggleable__label {background-color: #d4ebff;}#sk-container-id-1 div.sk-label input.sk-toggleable__control:checked~label.sk-toggleable__label {background-color: #d4ebff;}#sk-container-id-1 input.sk-hidden--visually {border: 0;clip: rect(1px 1px 1px 1px);clip: rect(1px, 1px, 1px, 1px);height: 1px;margin: -1px;overflow: hidden;padding: 0;position: absolute;width: 1px;}#sk-container-id-1 div.sk-estimator {font-family: monospace;background-color: #f0f8ff;border: 1px dotted black;border-radius: 0.25em;box-sizing: border-box;margin-bottom: 0.5em;}#sk-container-id-1 div.sk-estimator:hover {background-color: #d4ebff;}#sk-container-id-1 div.sk-parallel-item::after {content: \"\";width: 100%;border-bottom: 1px solid gray;flex-grow: 1;}#sk-container-id-1 div.sk-label:hover label.sk-toggleable__label {background-color: #d4ebff;}#sk-container-id-1 div.sk-serial::before {content: \"\";position: absolute;border-left: 1px solid gray;box-sizing: border-box;top: 0;bottom: 0;left: 50%;z-index: 0;}#sk-container-id-1 div.sk-serial {display: flex;flex-direction: column;align-items: center;background-color: white;padding-right: 0.2em;padding-left: 0.2em;position: relative;}#sk-container-id-1 div.sk-item {position: relative;z-index: 1;}#sk-container-id-1 div.sk-parallel {display: flex;align-items: stretch;justify-content: center;background-color: white;position: relative;}#sk-container-id-1 div.sk-item::before, #sk-container-id-1 div.sk-parallel-item::before {content: \"\";position: absolute;border-left: 1px solid gray;box-sizing: border-box;top: 0;bottom: 0;left: 50%;z-index: -1;}#sk-container-id-1 div.sk-parallel-item {display: flex;flex-direction: column;z-index: 1;position: relative;background-color: white;}#sk-container-id-1 div.sk-parallel-item:first-child::after {align-self: flex-end;width: 50%;}#sk-container-id-1 div.sk-parallel-item:last-child::after {align-self: flex-start;width: 50%;}#sk-container-id-1 div.sk-parallel-item:only-child::after {width: 0;}#sk-container-id-1 div.sk-dashed-wrapped {border: 1px dashed gray;margin: 0 0.4em 0.5em 0.4em;box-sizing: border-box;padding-bottom: 0.4em;background-color: white;}#sk-container-id-1 div.sk-label label {font-family: monospace;font-weight: bold;display: inline-block;line-height: 1.2em;}#sk-container-id-1 div.sk-label-container {text-align: center;}#sk-container-id-1 div.sk-container {/* jupyter's `normalize.less` sets `[hidden] { display: none; }` but bootstrap.min.css set `[hidden] { display: none !important; }` so we also need the `!important` here to be able to override the default hidden behavior on the sphinx rendered scikit-learn.org. See: https://github.com/scikit-learn/scikit-learn/issues/21755 */display: inline-block !important;position: relative;}#sk-container-id-1 div.sk-text-repr-fallback {display: none;}</style><div id=\"sk-container-id-1\" class=\"sk-top-container\"><div class=\"sk-text-repr-fallback\"><pre>MinMaxScaler()</pre><b>In a Jupyter environment, please rerun this cell to show the HTML representation or trust the notebook. <br />On GitHub, the HTML representation is unable to render, please try loading this page with nbviewer.org.</b></div><div class=\"sk-container\" hidden><div class=\"sk-item\"><div class=\"sk-estimator sk-toggleable\"><input class=\"sk-toggleable__control sk-hidden--visually\" id=\"sk-estimator-id-1\" type=\"checkbox\" checked><label for=\"sk-estimator-id-1\" class=\"sk-toggleable__label sk-toggleable__label-arrow\">MinMaxScaler</label><div class=\"sk-toggleable__content\"><pre>MinMaxScaler()</pre></div></div></div></div></div>"
      ],
      "text/plain": [
       "MinMaxScaler()"
      ]
     },
     "execution_count": 52,
     "metadata": {},
     "output_type": "execute_result"
    }
   ],
   "source": [
    "num_cols = []\n",
    "for col in x_train.columns:\n",
    "    if x_train.dtypes[col] == 'O':\n",
    "        continue\n",
    "    if 'le' in col:\n",
    "        continue\n",
    "    num_cols.append(col)\n",
    "x_train_nums = x_train[num_cols]\n",
    "scaler.fit(x_train_nums)"
   ]
  },
  {
   "cell_type": "code",
   "execution_count": 53,
   "metadata": {},
   "outputs": [],
   "source": [
    "x_train = scaler_f(x_train, scaler)"
   ]
  },
  {
   "cell_type": "code",
   "execution_count": 54,
   "metadata": {
    "scrolled": true
   },
   "outputs": [
    {
     "data": {
      "text/html": [
       "<div>\n",
       "<style scoped>\n",
       "    .dataframe tbody tr th:only-of-type {\n",
       "        vertical-align: middle;\n",
       "    }\n",
       "\n",
       "    .dataframe tbody tr th {\n",
       "        vertical-align: top;\n",
       "    }\n",
       "\n",
       "    .dataframe thead th {\n",
       "        text-align: right;\n",
       "    }\n",
       "</style>\n",
       "<table border=\"1\" class=\"dataframe\">\n",
       "  <thead>\n",
       "    <tr style=\"text-align: right;\">\n",
       "      <th></th>\n",
       "      <th>gender</th>\n",
       "      <th>age</th>\n",
       "      <th>annual_income</th>\n",
       "      <th>spending_score</th>\n",
       "      <th>gender_le</th>\n",
       "    </tr>\n",
       "  </thead>\n",
       "  <tbody>\n",
       "    <tr>\n",
       "      <th>108</th>\n",
       "      <td>Male</td>\n",
       "      <td>0.854701</td>\n",
       "      <td>0.393443</td>\n",
       "      <td>0.432990</td>\n",
       "      <td>1</td>\n",
       "    </tr>\n",
       "    <tr>\n",
       "      <th>107</th>\n",
       "      <td>Male</td>\n",
       "      <td>0.615385</td>\n",
       "      <td>0.393443</td>\n",
       "      <td>0.463918</td>\n",
       "      <td>1</td>\n",
       "    </tr>\n",
       "    <tr>\n",
       "      <th>189</th>\n",
       "      <td>Female</td>\n",
       "      <td>0.307692</td>\n",
       "      <td>0.721311</td>\n",
       "      <td>0.865979</td>\n",
       "      <td>0</td>\n",
       "    </tr>\n",
       "    <tr>\n",
       "      <th>14</th>\n",
       "      <td>Male</td>\n",
       "      <td>0.324786</td>\n",
       "      <td>0.040984</td>\n",
       "      <td>0.123711</td>\n",
       "      <td>1</td>\n",
       "    </tr>\n",
       "    <tr>\n",
       "      <th>56</th>\n",
       "      <td>NaN</td>\n",
       "      <td>0.564103</td>\n",
       "      <td>0.237705</td>\n",
       "      <td>0.505155</td>\n",
       "      <td>2</td>\n",
       "    </tr>\n",
       "    <tr>\n",
       "      <th>...</th>\n",
       "      <td>...</td>\n",
       "      <td>...</td>\n",
       "      <td>...</td>\n",
       "      <td>...</td>\n",
       "      <td>...</td>\n",
       "    </tr>\n",
       "    <tr>\n",
       "      <th>133</th>\n",
       "      <td>Female</td>\n",
       "      <td>0.222222</td>\n",
       "      <td>0.467213</td>\n",
       "      <td>0.721649</td>\n",
       "      <td>0</td>\n",
       "    </tr>\n",
       "    <tr>\n",
       "      <th>137</th>\n",
       "      <td>Male</td>\n",
       "      <td>0.239316</td>\n",
       "      <td>0.475410</td>\n",
       "      <td>0.742268</td>\n",
       "      <td>1</td>\n",
       "    </tr>\n",
       "    <tr>\n",
       "      <th>72</th>\n",
       "      <td>Female</td>\n",
       "      <td>0.717949</td>\n",
       "      <td>0.286885</td>\n",
       "      <td>0.494845</td>\n",
       "      <td>0</td>\n",
       "    </tr>\n",
       "    <tr>\n",
       "      <th>140</th>\n",
       "      <td>Female</td>\n",
       "      <td>0.666667</td>\n",
       "      <td>0.491803</td>\n",
       "      <td>0.041237</td>\n",
       "      <td>0</td>\n",
       "    </tr>\n",
       "    <tr>\n",
       "      <th>37</th>\n",
       "      <td>Female</td>\n",
       "      <td>0.205128</td>\n",
       "      <td>0.155738</td>\n",
       "      <td>0.742268</td>\n",
       "      <td>0</td>\n",
       "    </tr>\n",
       "  </tbody>\n",
       "</table>\n",
       "<p>160 rows × 5 columns</p>\n",
       "</div>"
      ],
      "text/plain": [
       "     gender       age  annual_income  spending_score  gender_le\n",
       "108    Male  0.854701       0.393443        0.432990          1\n",
       "107    Male  0.615385       0.393443        0.463918          1\n",
       "189  Female  0.307692       0.721311        0.865979          0\n",
       "14     Male  0.324786       0.040984        0.123711          1\n",
       "56      NaN  0.564103       0.237705        0.505155          2\n",
       "..      ...       ...            ...             ...        ...\n",
       "133  Female  0.222222       0.467213        0.721649          0\n",
       "137    Male  0.239316       0.475410        0.742268          1\n",
       "72   Female  0.717949       0.286885        0.494845          0\n",
       "140  Female  0.666667       0.491803        0.041237          0\n",
       "37   Female  0.205128       0.155738        0.742268          0\n",
       "\n",
       "[160 rows x 5 columns]"
      ]
     },
     "execution_count": 54,
     "metadata": {},
     "output_type": "execute_result"
    }
   ],
   "source": [
    "x_train"
   ]
  },
  {
   "cell_type": "markdown",
   "metadata": {
    "id": "MwEFsRNnI_Ar"
   },
   "source": [
    "### Задание 7\n",
    "\n",
    "Закодируйте категориальные признаки в обучающей выборке. Аргументируйте выбор способа кодирования."
   ]
  },
  {
   "cell_type": "code",
   "execution_count": 55,
   "metadata": {
    "id": "Ypo6y1iMJHeL"
   },
   "outputs": [],
   "source": [
    "### YOUR CODE HERE ###\n",
    "# закодировали лэйбл-кодером - значений не много. думаю, на больших сетах LE будет экономичнее"
   ]
  },
  {
   "cell_type": "markdown",
   "metadata": {
    "id": "mT9hsPltJJ2z"
   },
   "source": [
    "### Задание 8\n",
    "Проведите очистку и подготовку тестовых данных. Используйте препроцессоры и другие инструменты, которые вы уже использовали при подготовке обучающей выборки, без их дополнительной настройки."
   ]
  },
  {
   "cell_type": "code",
   "execution_count": 56,
   "metadata": {
    "id": "swiT9IQlziSs"
   },
   "outputs": [],
   "source": [
    "### YOUR CODE HERE ###\n",
    "x_test = feemale(x_test)\n",
    "bounds = bounds_f(x_test)\n",
    "x_test = age_f(x_test)\n",
    "x_test = ann_f(x_test)\n",
    "x_test = gender_coding(x_test)\n",
    "x_test = gender_fill(x_test)\n",
    "x_test = ann_imp_f(x_test)\n",
    "x_test = age_imp_f(x_test)\n",
    "x_test = scaler_f(x_test, scaler)"
   ]
  },
  {
   "cell_type": "code",
   "execution_count": 57,
   "metadata": {},
   "outputs": [
    {
     "data": {
      "text/plain": [
       "gender            0\n",
       "age               0\n",
       "annual_income     0\n",
       "spending_score    0\n",
       "gender_le         0\n",
       "dtype: int64"
      ]
     },
     "execution_count": 57,
     "metadata": {},
     "output_type": "execute_result"
    }
   ],
   "source": [
    "x_test.isna().sum()"
   ]
  }
 ],
 "metadata": {
  "colab": {
   "provenance": []
  },
  "gpuClass": "standard",
  "kernelspec": {
   "display_name": "Python 3 (ipykernel)",
   "language": "python",
   "name": "python3"
  },
  "language_info": {
   "codemirror_mode": {
    "name": "ipython",
    "version": 3
   },
   "file_extension": ".py",
   "mimetype": "text/x-python",
   "name": "python",
   "nbconvert_exporter": "python",
   "pygments_lexer": "ipython3",
   "version": "3.11.5"
  }
 },
 "nbformat": 4,
 "nbformat_minor": 1
}
