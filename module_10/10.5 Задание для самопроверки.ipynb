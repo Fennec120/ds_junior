{
  "nbformat": 4,
  "nbformat_minor": 0,
  "metadata": {
    "colab": {
      "provenance": [],
      "collapsed_sections": [
        "L1fRxjzMn2mu"
      ]
    },
    "kernelspec": {
      "name": "python3",
      "display_name": "Python 3"
    },
    "language_info": {
      "name": "python"
    }
  },
  "cells": [
    {
      "cell_type": "markdown",
      "source": [
        "## Цель практической работы\n",
        "\n",
        "Закрепить на практике знания о процедуре обучения решающего дерева.\n"
      ],
      "metadata": {
        "id": "L1fRxjzMn2mu"
      }
    },
    {
      "cell_type": "markdown",
      "source": [
        "## Что входит в практическую работу\n",
        "\n",
        "*  Загрузка датасета.\n",
        "*  Поиск оптимального порога для выбранного признака в корне дерева.\n",
        "*  Поиск оптимальной пары (признак, порог) в корне дерева.\n",
        "*  Визуальный анализ первого разбиения."
      ],
      "metadata": {
        "id": "_JPkpafooKR-"
      }
    },
    {
      "cell_type": "markdown",
      "source": [
        "## Что нужно сделать\n",
        "Постройте первое разбиение объектов на две части в решающем дереве самостоятельно, без использования готовых моделей из библиотек Python (исходя из максимизации Information Gain или минимизации аналогичной функции).\n",
        "\n",
        "Эту практическую работу не нужно сдавать на проверку. Выполните все задания и сверьтесь с ответами ниже."
      ],
      "metadata": {
        "id": "wGUh9-kKDVk_"
      }
    },
    {
      "cell_type": "markdown",
      "source": [
        "В этом задании вы будете решать задачу регрессии (ведь решающее дерево можно применять и в задачах классификации) — предсказывать стоимость домов по их характеристикам."
      ],
      "metadata": {
        "id": "GcmiVSScpXWO"
      }
    },
    {
      "cell_type": "code",
      "execution_count": null,
      "metadata": {
        "id": "CUIpa4bjlMRH"
      },
      "outputs": [],
      "source": [
        "import pandas as pd\n",
        "from sklearn.model_selection import train_test_split\n",
        "from matplotlib import pyplot as plt\n",
        "import numpy as np\n",
        "\n",
        "from sklearn.datasets import fetch_california_housing"
      ]
    },
    {
      "cell_type": "code",
      "source": [
        "housing = fetch_california_housing(as_frame=True)"
      ],
      "metadata": {
        "id": "EzRlWqgPldr6"
      },
      "execution_count": null,
      "outputs": []
    },
    {
      "cell_type": "code",
      "source": [
        "X = housing['data']\n",
        "y = housing['target']\n",
        "\n",
        "print(f\"Data shape: {X.shape}\")\n",
        "X.head()"
      ],
      "metadata": {
        "colab": {
          "base_uri": "https://localhost:8080/",
          "height": 223
        },
        "id": "HiW1vky9lfQj",
        "outputId": "aca7c3b7-1ada-4c00-ceb3-5aba22fccd76"
      },
      "execution_count": null,
      "outputs": [
        {
          "output_type": "stream",
          "name": "stdout",
          "text": [
            "Data shape: (20640, 8)\n"
          ]
        },
        {
          "output_type": "execute_result",
          "data": {
            "text/plain": [
              "   MedInc  HouseAge  AveRooms  AveBedrms  Population  AveOccup  Latitude  \\\n",
              "0  8.3252      41.0  6.984127   1.023810       322.0  2.555556     37.88   \n",
              "1  8.3014      21.0  6.238137   0.971880      2401.0  2.109842     37.86   \n",
              "2  7.2574      52.0  8.288136   1.073446       496.0  2.802260     37.85   \n",
              "3  5.6431      52.0  5.817352   1.073059       558.0  2.547945     37.85   \n",
              "4  3.8462      52.0  6.281853   1.081081       565.0  2.181467     37.85   \n",
              "\n",
              "   Longitude  \n",
              "0    -122.23  \n",
              "1    -122.22  \n",
              "2    -122.24  \n",
              "3    -122.25  \n",
              "4    -122.25  "
            ],
            "text/html": [
              "\n",
              "  <div id=\"df-09be8c7b-00fc-4e8d-a71f-7600bb52a007\">\n",
              "    <div class=\"colab-df-container\">\n",
              "      <div>\n",
              "<style scoped>\n",
              "    .dataframe tbody tr th:only-of-type {\n",
              "        vertical-align: middle;\n",
              "    }\n",
              "\n",
              "    .dataframe tbody tr th {\n",
              "        vertical-align: top;\n",
              "    }\n",
              "\n",
              "    .dataframe thead th {\n",
              "        text-align: right;\n",
              "    }\n",
              "</style>\n",
              "<table border=\"1\" class=\"dataframe\">\n",
              "  <thead>\n",
              "    <tr style=\"text-align: right;\">\n",
              "      <th></th>\n",
              "      <th>MedInc</th>\n",
              "      <th>HouseAge</th>\n",
              "      <th>AveRooms</th>\n",
              "      <th>AveBedrms</th>\n",
              "      <th>Population</th>\n",
              "      <th>AveOccup</th>\n",
              "      <th>Latitude</th>\n",
              "      <th>Longitude</th>\n",
              "    </tr>\n",
              "  </thead>\n",
              "  <tbody>\n",
              "    <tr>\n",
              "      <th>0</th>\n",
              "      <td>8.3252</td>\n",
              "      <td>41.0</td>\n",
              "      <td>6.984127</td>\n",
              "      <td>1.023810</td>\n",
              "      <td>322.0</td>\n",
              "      <td>2.555556</td>\n",
              "      <td>37.88</td>\n",
              "      <td>-122.23</td>\n",
              "    </tr>\n",
              "    <tr>\n",
              "      <th>1</th>\n",
              "      <td>8.3014</td>\n",
              "      <td>21.0</td>\n",
              "      <td>6.238137</td>\n",
              "      <td>0.971880</td>\n",
              "      <td>2401.0</td>\n",
              "      <td>2.109842</td>\n",
              "      <td>37.86</td>\n",
              "      <td>-122.22</td>\n",
              "    </tr>\n",
              "    <tr>\n",
              "      <th>2</th>\n",
              "      <td>7.2574</td>\n",
              "      <td>52.0</td>\n",
              "      <td>8.288136</td>\n",
              "      <td>1.073446</td>\n",
              "      <td>496.0</td>\n",
              "      <td>2.802260</td>\n",
              "      <td>37.85</td>\n",
              "      <td>-122.24</td>\n",
              "    </tr>\n",
              "    <tr>\n",
              "      <th>3</th>\n",
              "      <td>5.6431</td>\n",
              "      <td>52.0</td>\n",
              "      <td>5.817352</td>\n",
              "      <td>1.073059</td>\n",
              "      <td>558.0</td>\n",
              "      <td>2.547945</td>\n",
              "      <td>37.85</td>\n",
              "      <td>-122.25</td>\n",
              "    </tr>\n",
              "    <tr>\n",
              "      <th>4</th>\n",
              "      <td>3.8462</td>\n",
              "      <td>52.0</td>\n",
              "      <td>6.281853</td>\n",
              "      <td>1.081081</td>\n",
              "      <td>565.0</td>\n",
              "      <td>2.181467</td>\n",
              "      <td>37.85</td>\n",
              "      <td>-122.25</td>\n",
              "    </tr>\n",
              "  </tbody>\n",
              "</table>\n",
              "</div>\n",
              "      <button class=\"colab-df-convert\" onclick=\"convertToInteractive('df-09be8c7b-00fc-4e8d-a71f-7600bb52a007')\"\n",
              "              title=\"Convert this dataframe to an interactive table.\"\n",
              "              style=\"display:none;\">\n",
              "        \n",
              "  <svg xmlns=\"http://www.w3.org/2000/svg\" height=\"24px\"viewBox=\"0 0 24 24\"\n",
              "       width=\"24px\">\n",
              "    <path d=\"M0 0h24v24H0V0z\" fill=\"none\"/>\n",
              "    <path d=\"M18.56 5.44l.94 2.06.94-2.06 2.06-.94-2.06-.94-.94-2.06-.94 2.06-2.06.94zm-11 1L8.5 8.5l.94-2.06 2.06-.94-2.06-.94L8.5 2.5l-.94 2.06-2.06.94zm10 10l.94 2.06.94-2.06 2.06-.94-2.06-.94-.94-2.06-.94 2.06-2.06.94z\"/><path d=\"M17.41 7.96l-1.37-1.37c-.4-.4-.92-.59-1.43-.59-.52 0-1.04.2-1.43.59L10.3 9.45l-7.72 7.72c-.78.78-.78 2.05 0 2.83L4 21.41c.39.39.9.59 1.41.59.51 0 1.02-.2 1.41-.59l7.78-7.78 2.81-2.81c.8-.78.8-2.07 0-2.86zM5.41 20L4 18.59l7.72-7.72 1.47 1.35L5.41 20z\"/>\n",
              "  </svg>\n",
              "      </button>\n",
              "      \n",
              "  <style>\n",
              "    .colab-df-container {\n",
              "      display:flex;\n",
              "      flex-wrap:wrap;\n",
              "      gap: 12px;\n",
              "    }\n",
              "\n",
              "    .colab-df-convert {\n",
              "      background-color: #E8F0FE;\n",
              "      border: none;\n",
              "      border-radius: 50%;\n",
              "      cursor: pointer;\n",
              "      display: none;\n",
              "      fill: #1967D2;\n",
              "      height: 32px;\n",
              "      padding: 0 0 0 0;\n",
              "      width: 32px;\n",
              "    }\n",
              "\n",
              "    .colab-df-convert:hover {\n",
              "      background-color: #E2EBFA;\n",
              "      box-shadow: 0px 1px 2px rgba(60, 64, 67, 0.3), 0px 1px 3px 1px rgba(60, 64, 67, 0.15);\n",
              "      fill: #174EA6;\n",
              "    }\n",
              "\n",
              "    [theme=dark] .colab-df-convert {\n",
              "      background-color: #3B4455;\n",
              "      fill: #D2E3FC;\n",
              "    }\n",
              "\n",
              "    [theme=dark] .colab-df-convert:hover {\n",
              "      background-color: #434B5C;\n",
              "      box-shadow: 0px 1px 3px 1px rgba(0, 0, 0, 0.15);\n",
              "      filter: drop-shadow(0px 1px 2px rgba(0, 0, 0, 0.3));\n",
              "      fill: #FFFFFF;\n",
              "    }\n",
              "  </style>\n",
              "\n",
              "      <script>\n",
              "        const buttonEl =\n",
              "          document.querySelector('#df-09be8c7b-00fc-4e8d-a71f-7600bb52a007 button.colab-df-convert');\n",
              "        buttonEl.style.display =\n",
              "          google.colab.kernel.accessAllowed ? 'block' : 'none';\n",
              "\n",
              "        async function convertToInteractive(key) {\n",
              "          const element = document.querySelector('#df-09be8c7b-00fc-4e8d-a71f-7600bb52a007');\n",
              "          const dataTable =\n",
              "            await google.colab.kernel.invokeFunction('convertToInteractive',\n",
              "                                                     [key], {});\n",
              "          if (!dataTable) return;\n",
              "\n",
              "          const docLinkHtml = 'Like what you see? Visit the ' +\n",
              "            '<a target=\"_blank\" href=https://colab.research.google.com/notebooks/data_table.ipynb>data table notebook</a>'\n",
              "            + ' to learn more about interactive tables.';\n",
              "          element.innerHTML = '';\n",
              "          dataTable['output_type'] = 'display_data';\n",
              "          await google.colab.output.renderOutput(dataTable, element);\n",
              "          const docLink = document.createElement('div');\n",
              "          docLink.innerHTML = docLinkHtml;\n",
              "          element.appendChild(docLink);\n",
              "        }\n",
              "      </script>\n",
              "    </div>\n",
              "  </div>\n",
              "  "
            ]
          },
          "metadata": {},
          "execution_count": 49
        }
      ]
    },
    {
      "cell_type": "code",
      "source": [
        "y.head()"
      ],
      "metadata": {
        "colab": {
          "base_uri": "https://localhost:8080/"
        },
        "id": "V57H0tUrn4fU",
        "outputId": "8e2276f3-6079-4953-ef30-59c17f3dff60"
      },
      "execution_count": null,
      "outputs": [
        {
          "output_type": "execute_result",
          "data": {
            "text/plain": [
              "0    4.526\n",
              "1    3.585\n",
              "2    3.521\n",
              "3    3.413\n",
              "4    3.422\n",
              "Name: MedHouseVal, dtype: float64"
            ]
          },
          "metadata": {},
          "execution_count": 50
        }
      ]
    },
    {
      "cell_type": "markdown",
      "source": [
        "$R_m$ — множество объектов в разбиваемой вершине, $j$ — номер признака, по которому происходит разбиение, $t$ — порог разбиения.\n",
        "\n",
        "Можно вычислять Information Gain, а можно считать ошибку:\n",
        "\n",
        "$$ Q(R_m, j, t) = \\frac{|R_\\ell|}{|R_m|}H(R_\\ell) + \\frac{|R_r|}{|R_m|}H(R_r) \\to \\min_{j, t} $$\n",
        "$R_\\ell$ — множество объектов в левом поддереве, $R_r$ — множество объектов в правом поддереве.\n",
        "\n",
        "$H(R)$ — критерий информативности, с помощью которого можно оценить качество распределения целевой переменной среди объектов множества $R$.\n",
        "\n",
        "Реализуйте подсчёт критерия ошибки. Для этого реализуйте функции для подсчёта значения критерия информативности, а также для разбиения вершины."
      ],
      "metadata": {
        "id": "FTnpV6DOlqUG"
      }
    },
    {
      "cell_type": "markdown",
      "source": [
        "Разбейте данные на тренировочную и тестовую части. В тестовую часть отправьте четверть всех данных. Зафиксируйте random_state при разбиении."
      ],
      "metadata": {
        "id": "x-z5nzQkpwTS"
      }
    },
    {
      "cell_type": "code",
      "metadata": {
        "id": "K9-EYgtay8wA"
      },
      "source": [
        "X_train, X_test, y_train, y_test = train_test_split(X, y, test_size=0.25, random_state=111)"
      ],
      "execution_count": null,
      "outputs": []
    },
    {
      "cell_type": "markdown",
      "source": [
        "Чтобы было удобно сортировать объекты вместе с целевой переменной, \n",
        "допишем target в таблицу X_train."
      ],
      "metadata": {
        "id": "53v2RofYp03y"
      }
    },
    {
      "cell_type": "code",
      "metadata": {
        "id": "V1yCPWDeyqxX"
      },
      "source": [
        "X_train[\"target\"] = y_train"
      ],
      "execution_count": null,
      "outputs": []
    },
    {
      "cell_type": "markdown",
      "source": [
        "Возьмём для примера признак AveRooms и подберём для него оптимальный порог.\n",
        "\n",
        "Для удобства перебора порога отсортируем по этому признаку таблицу."
      ],
      "metadata": {
        "id": "mW_JnsfNp-B7"
      }
    },
    {
      "cell_type": "code",
      "metadata": {
        "id": "yjB40hdSyq59"
      },
      "source": [
        "X_train.sort_values(\"AveRooms\", inplace=True)"
      ],
      "execution_count": null,
      "outputs": []
    },
    {
      "cell_type": "code",
      "metadata": {
        "colab": {
          "base_uri": "https://localhost:8080/",
          "height": 206
        },
        "id": "Zh-s_Teiyq9R",
        "outputId": "023c0cfa-421d-4919-fdd9-4ab59d990389"
      },
      "source": [
        "X_train.head()"
      ],
      "execution_count": null,
      "outputs": [
        {
          "output_type": "execute_result",
          "data": {
            "text/plain": [
              "       MedInc  HouseAge  AveRooms  AveBedrms  Population  AveOccup  Latitude  \\\n",
              "5916   2.8750      46.0  0.846154   0.846154        24.0  1.846154     34.28   \n",
              "3126   2.3750       4.0  1.000000   1.000000         6.0  3.000000     35.21   \n",
              "17820  1.0938      20.0  1.130435   1.043478       120.0  1.739130     37.37   \n",
              "14818  1.9107      36.0  1.130435   0.608696        58.0  2.521739     32.68   \n",
              "4552   1.0769      52.0  1.260870   1.163043       171.0  1.858696     34.04   \n",
              "\n",
              "       Longitude  target  \n",
              "5916     -118.44   1.625  \n",
              "3126     -117.79   1.375  \n",
              "17820    -121.90   1.875  \n",
              "14818    -117.11   1.250  \n",
              "4552     -118.24   1.125  "
            ],
            "text/html": [
              "\n",
              "  <div id=\"df-677ae170-4839-4636-bb72-17df9a2266e0\">\n",
              "    <div class=\"colab-df-container\">\n",
              "      <div>\n",
              "<style scoped>\n",
              "    .dataframe tbody tr th:only-of-type {\n",
              "        vertical-align: middle;\n",
              "    }\n",
              "\n",
              "    .dataframe tbody tr th {\n",
              "        vertical-align: top;\n",
              "    }\n",
              "\n",
              "    .dataframe thead th {\n",
              "        text-align: right;\n",
              "    }\n",
              "</style>\n",
              "<table border=\"1\" class=\"dataframe\">\n",
              "  <thead>\n",
              "    <tr style=\"text-align: right;\">\n",
              "      <th></th>\n",
              "      <th>MedInc</th>\n",
              "      <th>HouseAge</th>\n",
              "      <th>AveRooms</th>\n",
              "      <th>AveBedrms</th>\n",
              "      <th>Population</th>\n",
              "      <th>AveOccup</th>\n",
              "      <th>Latitude</th>\n",
              "      <th>Longitude</th>\n",
              "      <th>target</th>\n",
              "    </tr>\n",
              "  </thead>\n",
              "  <tbody>\n",
              "    <tr>\n",
              "      <th>5916</th>\n",
              "      <td>2.8750</td>\n",
              "      <td>46.0</td>\n",
              "      <td>0.846154</td>\n",
              "      <td>0.846154</td>\n",
              "      <td>24.0</td>\n",
              "      <td>1.846154</td>\n",
              "      <td>34.28</td>\n",
              "      <td>-118.44</td>\n",
              "      <td>1.625</td>\n",
              "    </tr>\n",
              "    <tr>\n",
              "      <th>3126</th>\n",
              "      <td>2.3750</td>\n",
              "      <td>4.0</td>\n",
              "      <td>1.000000</td>\n",
              "      <td>1.000000</td>\n",
              "      <td>6.0</td>\n",
              "      <td>3.000000</td>\n",
              "      <td>35.21</td>\n",
              "      <td>-117.79</td>\n",
              "      <td>1.375</td>\n",
              "    </tr>\n",
              "    <tr>\n",
              "      <th>17820</th>\n",
              "      <td>1.0938</td>\n",
              "      <td>20.0</td>\n",
              "      <td>1.130435</td>\n",
              "      <td>1.043478</td>\n",
              "      <td>120.0</td>\n",
              "      <td>1.739130</td>\n",
              "      <td>37.37</td>\n",
              "      <td>-121.90</td>\n",
              "      <td>1.875</td>\n",
              "    </tr>\n",
              "    <tr>\n",
              "      <th>14818</th>\n",
              "      <td>1.9107</td>\n",
              "      <td>36.0</td>\n",
              "      <td>1.130435</td>\n",
              "      <td>0.608696</td>\n",
              "      <td>58.0</td>\n",
              "      <td>2.521739</td>\n",
              "      <td>32.68</td>\n",
              "      <td>-117.11</td>\n",
              "      <td>1.250</td>\n",
              "    </tr>\n",
              "    <tr>\n",
              "      <th>4552</th>\n",
              "      <td>1.0769</td>\n",
              "      <td>52.0</td>\n",
              "      <td>1.260870</td>\n",
              "      <td>1.163043</td>\n",
              "      <td>171.0</td>\n",
              "      <td>1.858696</td>\n",
              "      <td>34.04</td>\n",
              "      <td>-118.24</td>\n",
              "      <td>1.125</td>\n",
              "    </tr>\n",
              "  </tbody>\n",
              "</table>\n",
              "</div>\n",
              "      <button class=\"colab-df-convert\" onclick=\"convertToInteractive('df-677ae170-4839-4636-bb72-17df9a2266e0')\"\n",
              "              title=\"Convert this dataframe to an interactive table.\"\n",
              "              style=\"display:none;\">\n",
              "        \n",
              "  <svg xmlns=\"http://www.w3.org/2000/svg\" height=\"24px\"viewBox=\"0 0 24 24\"\n",
              "       width=\"24px\">\n",
              "    <path d=\"M0 0h24v24H0V0z\" fill=\"none\"/>\n",
              "    <path d=\"M18.56 5.44l.94 2.06.94-2.06 2.06-.94-2.06-.94-.94-2.06-.94 2.06-2.06.94zm-11 1L8.5 8.5l.94-2.06 2.06-.94-2.06-.94L8.5 2.5l-.94 2.06-2.06.94zm10 10l.94 2.06.94-2.06 2.06-.94-2.06-.94-.94-2.06-.94 2.06-2.06.94z\"/><path d=\"M17.41 7.96l-1.37-1.37c-.4-.4-.92-.59-1.43-.59-.52 0-1.04.2-1.43.59L10.3 9.45l-7.72 7.72c-.78.78-.78 2.05 0 2.83L4 21.41c.39.39.9.59 1.41.59.51 0 1.02-.2 1.41-.59l7.78-7.78 2.81-2.81c.8-.78.8-2.07 0-2.86zM5.41 20L4 18.59l7.72-7.72 1.47 1.35L5.41 20z\"/>\n",
              "  </svg>\n",
              "      </button>\n",
              "      \n",
              "  <style>\n",
              "    .colab-df-container {\n",
              "      display:flex;\n",
              "      flex-wrap:wrap;\n",
              "      gap: 12px;\n",
              "    }\n",
              "\n",
              "    .colab-df-convert {\n",
              "      background-color: #E8F0FE;\n",
              "      border: none;\n",
              "      border-radius: 50%;\n",
              "      cursor: pointer;\n",
              "      display: none;\n",
              "      fill: #1967D2;\n",
              "      height: 32px;\n",
              "      padding: 0 0 0 0;\n",
              "      width: 32px;\n",
              "    }\n",
              "\n",
              "    .colab-df-convert:hover {\n",
              "      background-color: #E2EBFA;\n",
              "      box-shadow: 0px 1px 2px rgba(60, 64, 67, 0.3), 0px 1px 3px 1px rgba(60, 64, 67, 0.15);\n",
              "      fill: #174EA6;\n",
              "    }\n",
              "\n",
              "    [theme=dark] .colab-df-convert {\n",
              "      background-color: #3B4455;\n",
              "      fill: #D2E3FC;\n",
              "    }\n",
              "\n",
              "    [theme=dark] .colab-df-convert:hover {\n",
              "      background-color: #434B5C;\n",
              "      box-shadow: 0px 1px 3px 1px rgba(0, 0, 0, 0.15);\n",
              "      filter: drop-shadow(0px 1px 2px rgba(0, 0, 0, 0.3));\n",
              "      fill: #FFFFFF;\n",
              "    }\n",
              "  </style>\n",
              "\n",
              "      <script>\n",
              "        const buttonEl =\n",
              "          document.querySelector('#df-677ae170-4839-4636-bb72-17df9a2266e0 button.colab-df-convert');\n",
              "        buttonEl.style.display =\n",
              "          google.colab.kernel.accessAllowed ? 'block' : 'none';\n",
              "\n",
              "        async function convertToInteractive(key) {\n",
              "          const element = document.querySelector('#df-677ae170-4839-4636-bb72-17df9a2266e0');\n",
              "          const dataTable =\n",
              "            await google.colab.kernel.invokeFunction('convertToInteractive',\n",
              "                                                     [key], {});\n",
              "          if (!dataTable) return;\n",
              "\n",
              "          const docLinkHtml = 'Like what you see? Visit the ' +\n",
              "            '<a target=\"_blank\" href=https://colab.research.google.com/notebooks/data_table.ipynb>data table notebook</a>'\n",
              "            + ' to learn more about interactive tables.';\n",
              "          element.innerHTML = '';\n",
              "          dataTable['output_type'] = 'display_data';\n",
              "          await google.colab.output.renderOutput(dataTable, element);\n",
              "          const docLink = document.createElement('div');\n",
              "          docLink.innerHTML = docLinkHtml;\n",
              "          element.appendChild(docLink);\n",
              "        }\n",
              "      </script>\n",
              "    </div>\n",
              "  </div>\n",
              "  "
            ]
          },
          "metadata": {},
          "execution_count": 54
        }
      ]
    },
    {
      "cell_type": "markdown",
      "source": [
        "Переберите в цикле все возможные пороги для разбиения тренировочных данных по признаку AveRooms.\n",
        "\n",
        "Для каждого разбиения необходимо вычислить ошибку Q: сначала для правого и левого поддеревьев вычисляем критерий информативности (дисперсию таргета), затем складываем полученные значения с весами."
      ],
      "metadata": {
        "id": "O8-WW85VqNIH"
      }
    },
    {
      "cell_type": "code",
      "metadata": {
        "id": "u0APXaA0yq_0"
      },
      "source": [
        "Qs = [] # список ошибок для каждого порога\n",
        "\n",
        "for i in range(X_train.shape[0]):\n",
        "    qual = # вычислите Q\n",
        "    Qs.append(qual)"
      ],
      "execution_count": null,
      "outputs": []
    },
    {
      "cell_type": "markdown",
      "source": [
        "Нарисуйте график зависимости Q от порога."
      ],
      "metadata": {
        "id": "TEPsgJHGq7cK"
      }
    },
    {
      "cell_type": "code",
      "metadata": {
        "id": "XwAzVdImyrC5"
      },
      "source": [
        "# ваш код здесь"
      ],
      "execution_count": null,
      "outputs": []
    },
    {
      "cell_type": "markdown",
      "metadata": {
        "id": "qOJcXnOxzMNn"
      },
      "source": [
        "Чем меньше Q, тем лучше. \n",
        "\n",
        "При каком приблизительно значении порога достигается минимум Q?"
      ]
    },
    {
      "cell_type": "markdown",
      "metadata": {
        "id": "gDRWGxsqzNVi"
      },
      "source": [
        "Теперь повторите процедуру вычисления Q для каждого признака.\n",
        "\n",
        "Чтобы было удобно сравнивать значение Q для разных признаков, отобразите все графики на одном рисунке.\n",
        "\n",
        "Комментарий: множество значений у каждого признака своё, поэтому будем откладывать по оси x просто числа от 0 до длины выборки. Величину оптимального порога по графику будет определить невозможно, зато вы сможете определить оптимальный признак для разбиения."
      ]
    },
    {
      "cell_type": "code",
      "metadata": {
        "id": "0o4NIh4kyrHB"
      },
      "source": [
        "for feat in X_train.columns[:-1]:\n",
        "    # ваш код здесь\n",
        "\n",
        "# ваш код для отрисовки графиков здесь"
      ],
      "execution_count": null,
      "outputs": []
    },
    {
      "cell_type": "markdown",
      "metadata": {
        "id": "7gQPbsmZzbkR"
      },
      "source": [
        "Для разбиения по какому признаку достигается наименьшее значение критерия Q?\n",
        "\n",
        "Нарисуйте для него график отдельно (уже с его осью значений порога)."
      ]
    },
    {
      "cell_type": "code",
      "metadata": {
        "id": "hNdGw7lhyrKG"
      },
      "source": [
        "# ваш код здесь"
      ],
      "execution_count": null,
      "outputs": []
    },
    {
      "cell_type": "markdown",
      "metadata": {
        "id": "s30SMJFPzghZ"
      },
      "source": [
        "Вычислите оптимальное значение порога."
      ]
    },
    {
      "cell_type": "code",
      "metadata": {
        "id": "daHQPt71zhnE"
      },
      "source": [
        "# ваш код здесь"
      ],
      "execution_count": null,
      "outputs": []
    },
    {
      "cell_type": "markdown",
      "metadata": {
        "id": "yzx6ZBSmzk8J"
      },
      "source": [
        "Нарисуйте выборку в осях найденного признака и таргета и отобразите на графике порог, по которому выполняется разбиение."
      ]
    },
    {
      "cell_type": "code",
      "metadata": {
        "id": "pcGKbPPBzl6i"
      },
      "source": [
        "# ваш код здесь"
      ],
      "execution_count": null,
      "outputs": []
    },
    {
      "cell_type": "markdown",
      "metadata": {
        "id": "15F7qTASzpse"
      },
      "source": [
        "Какой вывод можно сделать из визуального анализа последнего графика?"
      ]
    },
    {
      "cell_type": "markdown",
      "source": [
        "|"
      ],
      "metadata": {
        "id": "Q1iC5S3-uCSy"
      }
    },
    {
      "cell_type": "markdown",
      "source": [
        "|"
      ],
      "metadata": {
        "id": "I_oUjoGXuGF1"
      }
    },
    {
      "cell_type": "markdown",
      "source": [
        "|"
      ],
      "metadata": {
        "id": "Y-0eNcJEuG4E"
      }
    },
    {
      "cell_type": "markdown",
      "source": [
        "|"
      ],
      "metadata": {
        "id": "xKuIQHKXuI8o"
      }
    },
    {
      "cell_type": "markdown",
      "source": [
        "|"
      ],
      "metadata": {
        "id": "WTrUl8rduJBk"
      }
    },
    {
      "cell_type": "markdown",
      "source": [
        "|"
      ],
      "metadata": {
        "id": "OKQKJ2K9uJF4"
      }
    },
    {
      "cell_type": "markdown",
      "source": [
        "|"
      ],
      "metadata": {
        "id": "nT5CYSjwuJMe"
      }
    },
    {
      "cell_type": "markdown",
      "source": [
        "|"
      ],
      "metadata": {
        "id": "Vkgqw1cguJRe"
      }
    },
    {
      "cell_type": "markdown",
      "source": [
        "|"
      ],
      "metadata": {
        "id": "AWuu_QkQuJWr"
      }
    },
    {
      "cell_type": "markdown",
      "source": [
        "|"
      ],
      "metadata": {
        "id": "lg-ao7_guJa9"
      }
    },
    {
      "cell_type": "markdown",
      "source": [
        "|"
      ],
      "metadata": {
        "id": "CJ0mhdvTuJeT"
      }
    },
    {
      "cell_type": "markdown",
      "source": [
        "# Проверьте своё решение\n",
        "\n",
        "Разбейте данные на тренировочную и тестовую части. В тестовую часть отправьте четверть всех данных. Зафиксируйте random_state при разбиении."
      ],
      "metadata": {
        "id": "jPa6SQ9WvFGy"
      }
    },
    {
      "cell_type": "code",
      "metadata": {
        "id": "O4uXMBoRvFHC"
      },
      "source": [
        "X_train, X_test, y_train, y_test = train_test_split(X, y, test_size=0.25, random_state=111)"
      ],
      "execution_count": null,
      "outputs": []
    },
    {
      "cell_type": "markdown",
      "source": [
        "Чтобы было удобно сортировать объекты вместе с целевой переменной, \n",
        "допишем target в таблицу X_train."
      ],
      "metadata": {
        "id": "7NkgX2_GvFHC"
      }
    },
    {
      "cell_type": "code",
      "metadata": {
        "id": "7aEr_OZzvFHD"
      },
      "source": [
        "X_train[\"target\"] = y_train"
      ],
      "execution_count": null,
      "outputs": []
    },
    {
      "cell_type": "markdown",
      "source": [
        "Возьмём для примера признак AveRooms и подберём для него оптимальный порог.\n",
        "\n",
        "Для удобства перебора порога отсортируем по этому признаку таблицу."
      ],
      "metadata": {
        "id": "TIXWbBcNvFHD"
      }
    },
    {
      "cell_type": "code",
      "metadata": {
        "id": "ZeR7TCqOvFHD"
      },
      "source": [
        "X_train.sort_values(\"AveRooms\", inplace=True)"
      ],
      "execution_count": null,
      "outputs": []
    },
    {
      "cell_type": "code",
      "metadata": {
        "colab": {
          "base_uri": "https://localhost:8080/",
          "height": 206
        },
        "outputId": "023c0cfa-421d-4919-fdd9-4ab59d990389",
        "id": "bl2YM6qfvFHD"
      },
      "source": [
        "X_train.head()"
      ],
      "execution_count": null,
      "outputs": [
        {
          "output_type": "execute_result",
          "data": {
            "text/plain": [
              "       MedInc  HouseAge  AveRooms  AveBedrms  Population  AveOccup  Latitude  \\\n",
              "5916   2.8750      46.0  0.846154   0.846154        24.0  1.846154     34.28   \n",
              "3126   2.3750       4.0  1.000000   1.000000         6.0  3.000000     35.21   \n",
              "17820  1.0938      20.0  1.130435   1.043478       120.0  1.739130     37.37   \n",
              "14818  1.9107      36.0  1.130435   0.608696        58.0  2.521739     32.68   \n",
              "4552   1.0769      52.0  1.260870   1.163043       171.0  1.858696     34.04   \n",
              "\n",
              "       Longitude  target  \n",
              "5916     -118.44   1.625  \n",
              "3126     -117.79   1.375  \n",
              "17820    -121.90   1.875  \n",
              "14818    -117.11   1.250  \n",
              "4552     -118.24   1.125  "
            ],
            "text/html": [
              "\n",
              "  <div id=\"df-677ae170-4839-4636-bb72-17df9a2266e0\">\n",
              "    <div class=\"colab-df-container\">\n",
              "      <div>\n",
              "<style scoped>\n",
              "    .dataframe tbody tr th:only-of-type {\n",
              "        vertical-align: middle;\n",
              "    }\n",
              "\n",
              "    .dataframe tbody tr th {\n",
              "        vertical-align: top;\n",
              "    }\n",
              "\n",
              "    .dataframe thead th {\n",
              "        text-align: right;\n",
              "    }\n",
              "</style>\n",
              "<table border=\"1\" class=\"dataframe\">\n",
              "  <thead>\n",
              "    <tr style=\"text-align: right;\">\n",
              "      <th></th>\n",
              "      <th>MedInc</th>\n",
              "      <th>HouseAge</th>\n",
              "      <th>AveRooms</th>\n",
              "      <th>AveBedrms</th>\n",
              "      <th>Population</th>\n",
              "      <th>AveOccup</th>\n",
              "      <th>Latitude</th>\n",
              "      <th>Longitude</th>\n",
              "      <th>target</th>\n",
              "    </tr>\n",
              "  </thead>\n",
              "  <tbody>\n",
              "    <tr>\n",
              "      <th>5916</th>\n",
              "      <td>2.8750</td>\n",
              "      <td>46.0</td>\n",
              "      <td>0.846154</td>\n",
              "      <td>0.846154</td>\n",
              "      <td>24.0</td>\n",
              "      <td>1.846154</td>\n",
              "      <td>34.28</td>\n",
              "      <td>-118.44</td>\n",
              "      <td>1.625</td>\n",
              "    </tr>\n",
              "    <tr>\n",
              "      <th>3126</th>\n",
              "      <td>2.3750</td>\n",
              "      <td>4.0</td>\n",
              "      <td>1.000000</td>\n",
              "      <td>1.000000</td>\n",
              "      <td>6.0</td>\n",
              "      <td>3.000000</td>\n",
              "      <td>35.21</td>\n",
              "      <td>-117.79</td>\n",
              "      <td>1.375</td>\n",
              "    </tr>\n",
              "    <tr>\n",
              "      <th>17820</th>\n",
              "      <td>1.0938</td>\n",
              "      <td>20.0</td>\n",
              "      <td>1.130435</td>\n",
              "      <td>1.043478</td>\n",
              "      <td>120.0</td>\n",
              "      <td>1.739130</td>\n",
              "      <td>37.37</td>\n",
              "      <td>-121.90</td>\n",
              "      <td>1.875</td>\n",
              "    </tr>\n",
              "    <tr>\n",
              "      <th>14818</th>\n",
              "      <td>1.9107</td>\n",
              "      <td>36.0</td>\n",
              "      <td>1.130435</td>\n",
              "      <td>0.608696</td>\n",
              "      <td>58.0</td>\n",
              "      <td>2.521739</td>\n",
              "      <td>32.68</td>\n",
              "      <td>-117.11</td>\n",
              "      <td>1.250</td>\n",
              "    </tr>\n",
              "    <tr>\n",
              "      <th>4552</th>\n",
              "      <td>1.0769</td>\n",
              "      <td>52.0</td>\n",
              "      <td>1.260870</td>\n",
              "      <td>1.163043</td>\n",
              "      <td>171.0</td>\n",
              "      <td>1.858696</td>\n",
              "      <td>34.04</td>\n",
              "      <td>-118.24</td>\n",
              "      <td>1.125</td>\n",
              "    </tr>\n",
              "  </tbody>\n",
              "</table>\n",
              "</div>\n",
              "      <button class=\"colab-df-convert\" onclick=\"convertToInteractive('df-677ae170-4839-4636-bb72-17df9a2266e0')\"\n",
              "              title=\"Convert this dataframe to an interactive table.\"\n",
              "              style=\"display:none;\">\n",
              "        \n",
              "  <svg xmlns=\"http://www.w3.org/2000/svg\" height=\"24px\"viewBox=\"0 0 24 24\"\n",
              "       width=\"24px\">\n",
              "    <path d=\"M0 0h24v24H0V0z\" fill=\"none\"/>\n",
              "    <path d=\"M18.56 5.44l.94 2.06.94-2.06 2.06-.94-2.06-.94-.94-2.06-.94 2.06-2.06.94zm-11 1L8.5 8.5l.94-2.06 2.06-.94-2.06-.94L8.5 2.5l-.94 2.06-2.06.94zm10 10l.94 2.06.94-2.06 2.06-.94-2.06-.94-.94-2.06-.94 2.06-2.06.94z\"/><path d=\"M17.41 7.96l-1.37-1.37c-.4-.4-.92-.59-1.43-.59-.52 0-1.04.2-1.43.59L10.3 9.45l-7.72 7.72c-.78.78-.78 2.05 0 2.83L4 21.41c.39.39.9.59 1.41.59.51 0 1.02-.2 1.41-.59l7.78-7.78 2.81-2.81c.8-.78.8-2.07 0-2.86zM5.41 20L4 18.59l7.72-7.72 1.47 1.35L5.41 20z\"/>\n",
              "  </svg>\n",
              "      </button>\n",
              "      \n",
              "  <style>\n",
              "    .colab-df-container {\n",
              "      display:flex;\n",
              "      flex-wrap:wrap;\n",
              "      gap: 12px;\n",
              "    }\n",
              "\n",
              "    .colab-df-convert {\n",
              "      background-color: #E8F0FE;\n",
              "      border: none;\n",
              "      border-radius: 50%;\n",
              "      cursor: pointer;\n",
              "      display: none;\n",
              "      fill: #1967D2;\n",
              "      height: 32px;\n",
              "      padding: 0 0 0 0;\n",
              "      width: 32px;\n",
              "    }\n",
              "\n",
              "    .colab-df-convert:hover {\n",
              "      background-color: #E2EBFA;\n",
              "      box-shadow: 0px 1px 2px rgba(60, 64, 67, 0.3), 0px 1px 3px 1px rgba(60, 64, 67, 0.15);\n",
              "      fill: #174EA6;\n",
              "    }\n",
              "\n",
              "    [theme=dark] .colab-df-convert {\n",
              "      background-color: #3B4455;\n",
              "      fill: #D2E3FC;\n",
              "    }\n",
              "\n",
              "    [theme=dark] .colab-df-convert:hover {\n",
              "      background-color: #434B5C;\n",
              "      box-shadow: 0px 1px 3px 1px rgba(0, 0, 0, 0.15);\n",
              "      filter: drop-shadow(0px 1px 2px rgba(0, 0, 0, 0.3));\n",
              "      fill: #FFFFFF;\n",
              "    }\n",
              "  </style>\n",
              "\n",
              "      <script>\n",
              "        const buttonEl =\n",
              "          document.querySelector('#df-677ae170-4839-4636-bb72-17df9a2266e0 button.colab-df-convert');\n",
              "        buttonEl.style.display =\n",
              "          google.colab.kernel.accessAllowed ? 'block' : 'none';\n",
              "\n",
              "        async function convertToInteractive(key) {\n",
              "          const element = document.querySelector('#df-677ae170-4839-4636-bb72-17df9a2266e0');\n",
              "          const dataTable =\n",
              "            await google.colab.kernel.invokeFunction('convertToInteractive',\n",
              "                                                     [key], {});\n",
              "          if (!dataTable) return;\n",
              "\n",
              "          const docLinkHtml = 'Like what you see? Visit the ' +\n",
              "            '<a target=\"_blank\" href=https://colab.research.google.com/notebooks/data_table.ipynb>data table notebook</a>'\n",
              "            + ' to learn more about interactive tables.';\n",
              "          element.innerHTML = '';\n",
              "          dataTable['output_type'] = 'display_data';\n",
              "          await google.colab.output.renderOutput(dataTable, element);\n",
              "          const docLink = document.createElement('div');\n",
              "          docLink.innerHTML = docLinkHtml;\n",
              "          element.appendChild(docLink);\n",
              "        }\n",
              "      </script>\n",
              "    </div>\n",
              "  </div>\n",
              "  "
            ]
          },
          "metadata": {},
          "execution_count": 54
        }
      ]
    },
    {
      "cell_type": "markdown",
      "source": [
        "Переберите в цикле все возможные пороги для разбиения тренировочных данных по признаку AveRooms.\n",
        "\n",
        "Для каждого разбиения необходимо вычислить ошибку Q: сначала для правого и левого поддеревьев вычисляем критерий информативности (дисперсию таргета), затем складываем полученные значения с весами."
      ],
      "metadata": {
        "id": "63FIiH44vFHE"
      }
    },
    {
      "cell_type": "code",
      "metadata": {
        "id": "WVpfa646vFHE"
      },
      "source": [
        "Qs = [] # список ошибок для каждого порога\n",
        "\n",
        "for i in range(X_train.shape[0]):\n",
        "    qual = X_train[\"target\"][:i].std()**2 * i/X_train.shape[0] + \\\n",
        "    X_train[\"target\"][i:].std()**2 * (1-i/X_train.shape[0])\n",
        "    Qs.append(qual)"
      ],
      "execution_count": null,
      "outputs": []
    },
    {
      "cell_type": "markdown",
      "source": [
        "Нарисуйте график зависимости Q от порога."
      ],
      "metadata": {
        "id": "pEsYvPWuvFHE"
      }
    },
    {
      "cell_type": "code",
      "metadata": {
        "colab": {
          "base_uri": "https://localhost:8080/",
          "height": 296
        },
        "outputId": "6e74f604-99c7-401d-81c6-d136a6702127",
        "id": "j9yU_Vg8vFHF"
      },
      "source": [
        "plt.plot(X_train[\"AveRooms\"], Qs)\n",
        "plt.xlabel(\"AveRooms\")\n",
        "plt.ylabel(\"Q\")"
      ],
      "execution_count": null,
      "outputs": [
        {
          "output_type": "execute_result",
          "data": {
            "text/plain": [
              "Text(0, 0.5, 'Q')"
            ]
          },
          "metadata": {},
          "execution_count": 56
        },
        {
          "output_type": "display_data",
          "data": {
            "text/plain": [
              "<Figure size 432x288 with 1 Axes>"
            ],
            "image/png": "[encoded data removed]"
          },
          "metadata": {
            "needs_background": "light"
          }
        }
      ]
    },
    {
      "cell_type": "markdown",
      "metadata": {
        "id": "h6oDI22XvFHF"
      },
      "source": [
        "Чем меньше Q, тем лучше. \n",
        "\n",
        "При каком приблизительно значении порога достигается минимум Q?"
      ]
    },
    {
      "cell_type": "markdown",
      "metadata": {
        "id": "ev9eRk-ovFHF"
      },
      "source": [
        "Теперь повторите процедуру вычисления Q для каждого признака.\n",
        "\n",
        "Чтобы было удобно сравнивать значение Q для разных признаков, отобразите все графики на одном рисунке.\n",
        "\n",
        "Комментарий: множество значений у каждого признака своё, поэтому будем откладывать по оси x просто числа от 0 до длины выборки. Величину оптимального порога по графику будет определить невозможно, зато вы сможете определить оптимальный признак для разбиения."
      ]
    },
    {
      "cell_type": "code",
      "metadata": {
        "colab": {
          "base_uri": "https://localhost:8080/",
          "height": 296
        },
        "outputId": "efcd171a-46b3-45af-cb06-9162dcdd0a78",
        "id": "SOel0RRdvFHF"
      },
      "source": [
        "for feat in X_train.columns[:-1]:\n",
        "    Qs = []\n",
        "    X_train.sort_values(feat, inplace=True)\n",
        "    for i in range(X_train.shape[0]):\n",
        "        qual = X_train[\"target\"][:i].std()**2 * i/X_train.shape[0] + X_train[\"target\"][i:].std()**2 * (1-i/X_train.shape[0])\n",
        "        Qs.append(qual)\n",
        "    plt.plot(Qs, label=feat)\n",
        "plt.xlabel(\"Dataset splits\")\n",
        "plt.ylabel(\"Q\")\n",
        "plt.legend(loc=(1, 0))"
      ],
      "execution_count": null,
      "outputs": [
        {
          "output_type": "execute_result",
          "data": {
            "text/plain": [
              "<matplotlib.legend.Legend at 0x7f27121c2410>"
            ]
          },
          "metadata": {},
          "execution_count": 57
        },
        {
          "output_type": "display_data",
          "data": {
            "text/plain": [
              "<Figure size 432x288 with 1 Axes>"
            ],
            "image/png": "[encoded data removed]"
          },
          "metadata": {
            "needs_background": "light"
          }
        }
      ]
    },
    {
      "cell_type": "markdown",
      "metadata": {
        "id": "nQd6hqPxvFHG"
      },
      "source": [
        "Для разбиения по какому признаку достигается наименьшее значение критерия Q?\n",
        "\n",
        "Нарисуйте для него график отдельно (уже с его осью значений порога)."
      ]
    },
    {
      "cell_type": "code",
      "metadata": {
        "colab": {
          "base_uri": "https://localhost:8080/",
          "height": 296
        },
        "outputId": "4ccf53e8-4fd0-4708-9ab3-b2f6f677680d",
        "id": "RgYsOjrsvFHG"
      },
      "source": [
        "ftr = \"MedInc\"\n",
        "Qs = []\n",
        "X_train.sort_values(ftr, inplace=True)\n",
        "for i in range(X_train.shape[0]):\n",
        "    qual = X_train[\"target\"][:i].std()**2 * i/X_train.shape[0] + \\\n",
        "    X_train[\"target\"][i:].std()**2 * (1-i/X_train.shape[0])\n",
        "    Qs.append(qual)\n",
        "plt.plot(X_train[ftr], Qs)\n",
        "plt.xlabel(\"feature \"+ftr)\n",
        "plt.ylabel(\"Q\")"
      ],
      "execution_count": null,
      "outputs": [
        {
          "output_type": "execute_result",
          "data": {
            "text/plain": [
              "Text(0, 0.5, 'Q')"
            ]
          },
          "metadata": {},
          "execution_count": 63
        },
        {
          "output_type": "display_data",
          "data": {
            "text/plain": [
              "<Figure size 432x288 with 1 Axes>"
            ],
            "image/png": "[encoded data removed]"
          },
          "metadata": {
            "needs_background": "light"
          }
        }
      ]
    },
    {
      "cell_type": "markdown",
      "metadata": {
        "id": "IT_m2cUAvFHG"
      },
      "source": [
        "Вычислите оптимальное значение порога."
      ]
    },
    {
      "cell_type": "code",
      "metadata": {
        "colab": {
          "base_uri": "https://localhost:8080/"
        },
        "outputId": "65c2b875-62df-4dc2-f9df-c4c01f15786f",
        "id": "GGJVUAvDvFHG"
      },
      "source": [
        "mask = np.logical_not(np.isnan(Qs))\n",
        "Qs = np.array(Qs)[mask]\n",
        "threshs = X_train[ftr].values[mask]\n",
        "\n",
        "threshs[np.argmin(Qs)]"
      ],
      "execution_count": null,
      "outputs": [
        {
          "output_type": "execute_result",
          "data": {
            "text/plain": [
              "5.0858"
            ]
          },
          "metadata": {},
          "execution_count": 64
        }
      ]
    },
    {
      "cell_type": "markdown",
      "metadata": {
        "id": "4mLkseQNvFHG"
      },
      "source": [
        "Нарисуйте выборку в осях найденного признака и таргета и отобразите на графике порог, по которому выполняется разбиение."
      ]
    },
    {
      "cell_type": "code",
      "metadata": {
        "colab": {
          "base_uri": "https://localhost:8080/",
          "height": 296
        },
        "outputId": "b79ae2fb-e7d4-4348-afaf-44ba4080c45e",
        "id": "MbRERwdTvFHH"
      },
      "source": [
        "plt.scatter(X_train[\"MedInc\"], X_train[\"target\"])\n",
        "plt.plot([thresh, thresh], [0, 60], color=\"red\")\n",
        "plt.xlabel(\"MedInc\")\n",
        "plt.ylabel(\"Target\")"
      ],
      "execution_count": null,
      "outputs": [
        {
          "output_type": "execute_result",
          "data": {
            "text/plain": [
              "Text(0, 0.5, 'Target')"
            ]
          },
          "metadata": {},
          "execution_count": 65
        },
        {
          "output_type": "display_data",
          "data": {
            "text/plain": [
              "<Figure size 432x288 with 1 Axes>"
            ],
            "image/png": "[encoded data removed]"
          },
          "metadata": {
            "needs_background": "light"
          }
        }
      ]
    },
    {
      "cell_type": "markdown",
      "metadata": {
        "id": "E2puQX3uvFHH"
      },
      "source": [
        "Из визуального анализа последнего графика понятно, что большинство значений таргета слева от разбивающей прямой меньше, чем большинство значений таргета справа от разбивающей прямой. То есть разбиение разумно делит объекты."
      ]
    }
  ]
}