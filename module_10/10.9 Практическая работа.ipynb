{
 "cells": [
  {
   "cell_type": "markdown",
   "metadata": {
    "id": "L1fRxjzMn2mu"
   },
   "source": [
    "## Цели практической работы\n",
    "\n",
    "* Изучить и предобработать данные в задаче оттока.\n",
    "\n",
    "* Научиться применять для решения задачи решающие деревья и оценивать результаты модели."
   ]
  },
  {
   "cell_type": "markdown",
   "metadata": {
    "id": "_JPkpafooKR-"
   },
   "source": [
    "## Что входит в практическую работу\n",
    "\n",
    "*  Загрузка и предобработка данных.\n",
    "*  Применение и настройка линейных моделей.\n",
    "*  Применение и настройка решающего дерева.\n",
    "*  Сравнение моделей.\n",
    "*  Оценка важности признаков."
   ]
  },
  {
   "cell_type": "markdown",
   "metadata": {
    "id": "-MxI_5C0Hu7G"
   },
   "source": [
    "## Что оценивается\n",
    "\n",
    "Выполнены все задания ноутбука (заполнены пустые ячейки, даны ответы на вопросы)."
   ]
  },
  {
   "cell_type": "markdown",
   "metadata": {
    "id": "0-tRk6fdxmB-"
   },
   "source": [
    "## Что нужно сделать\n",
    "Решите задачу классификации оттоковых клиентов телекома: для каждого клиента необходимо определить, перестанет он пользоваться услугами оператора в ближайшее время или нет."
   ]
  },
  {
   "cell_type": "code",
   "execution_count": 1,
   "metadata": {},
   "outputs": [],
   "source": [
    "import pylab as plt\n",
    "# import matplotlib as plt"
   ]
  },
  {
   "cell_type": "code",
   "execution_count": 2,
   "metadata": {
    "colab": {
     "base_uri": "https://localhost:8080/",
     "height": 305
    },
    "id": "DIjF1xlpwOMd",
    "outputId": "98c7d62d-0849-4702-8d98-1406e20f59b7"
   },
   "outputs": [
    {
     "data": {
      "text/html": [
       "<div>\n",
       "<style scoped>\n",
       "    .dataframe tbody tr th:only-of-type {\n",
       "        vertical-align: middle;\n",
       "    }\n",
       "\n",
       "    .dataframe tbody tr th {\n",
       "        vertical-align: top;\n",
       "    }\n",
       "\n",
       "    .dataframe thead th {\n",
       "        text-align: right;\n",
       "    }\n",
       "</style>\n",
       "<table border=\"1\" class=\"dataframe\">\n",
       "  <thead>\n",
       "    <tr style=\"text-align: right;\">\n",
       "      <th></th>\n",
       "      <th>state</th>\n",
       "      <th>account length</th>\n",
       "      <th>area code</th>\n",
       "      <th>international plan</th>\n",
       "      <th>voice mail plan</th>\n",
       "      <th>number vmail messages</th>\n",
       "      <th>total day minutes</th>\n",
       "      <th>total day calls</th>\n",
       "      <th>total day charge</th>\n",
       "      <th>total eve minutes</th>\n",
       "      <th>total eve calls</th>\n",
       "      <th>total eve charge</th>\n",
       "      <th>total night minutes</th>\n",
       "      <th>total night calls</th>\n",
       "      <th>total night charge</th>\n",
       "      <th>total intl minutes</th>\n",
       "      <th>total intl calls</th>\n",
       "      <th>total intl charge</th>\n",
       "      <th>customer service calls</th>\n",
       "      <th>churn</th>\n",
       "    </tr>\n",
       "  </thead>\n",
       "  <tbody>\n",
       "    <tr>\n",
       "      <th>0</th>\n",
       "      <td>KS</td>\n",
       "      <td>128</td>\n",
       "      <td>415</td>\n",
       "      <td>No</td>\n",
       "      <td>Yes</td>\n",
       "      <td>25</td>\n",
       "      <td>265.1</td>\n",
       "      <td>110</td>\n",
       "      <td>45.07</td>\n",
       "      <td>197.4</td>\n",
       "      <td>99</td>\n",
       "      <td>16.78</td>\n",
       "      <td>244.7</td>\n",
       "      <td>91</td>\n",
       "      <td>11.01</td>\n",
       "      <td>10.0</td>\n",
       "      <td>3</td>\n",
       "      <td>2.70</td>\n",
       "      <td>1</td>\n",
       "      <td>False</td>\n",
       "    </tr>\n",
       "    <tr>\n",
       "      <th>1</th>\n",
       "      <td>OH</td>\n",
       "      <td>107</td>\n",
       "      <td>415</td>\n",
       "      <td>No</td>\n",
       "      <td>Yes</td>\n",
       "      <td>26</td>\n",
       "      <td>161.6</td>\n",
       "      <td>123</td>\n",
       "      <td>27.47</td>\n",
       "      <td>195.5</td>\n",
       "      <td>103</td>\n",
       "      <td>16.62</td>\n",
       "      <td>254.4</td>\n",
       "      <td>103</td>\n",
       "      <td>11.45</td>\n",
       "      <td>13.7</td>\n",
       "      <td>3</td>\n",
       "      <td>3.70</td>\n",
       "      <td>1</td>\n",
       "      <td>False</td>\n",
       "    </tr>\n",
       "    <tr>\n",
       "      <th>2</th>\n",
       "      <td>NJ</td>\n",
       "      <td>137</td>\n",
       "      <td>415</td>\n",
       "      <td>No</td>\n",
       "      <td>No</td>\n",
       "      <td>0</td>\n",
       "      <td>243.4</td>\n",
       "      <td>114</td>\n",
       "      <td>41.38</td>\n",
       "      <td>121.2</td>\n",
       "      <td>110</td>\n",
       "      <td>10.30</td>\n",
       "      <td>162.6</td>\n",
       "      <td>104</td>\n",
       "      <td>7.32</td>\n",
       "      <td>12.2</td>\n",
       "      <td>5</td>\n",
       "      <td>3.29</td>\n",
       "      <td>0</td>\n",
       "      <td>False</td>\n",
       "    </tr>\n",
       "    <tr>\n",
       "      <th>3</th>\n",
       "      <td>OH</td>\n",
       "      <td>84</td>\n",
       "      <td>408</td>\n",
       "      <td>Yes</td>\n",
       "      <td>No</td>\n",
       "      <td>0</td>\n",
       "      <td>299.4</td>\n",
       "      <td>71</td>\n",
       "      <td>50.90</td>\n",
       "      <td>61.9</td>\n",
       "      <td>88</td>\n",
       "      <td>5.26</td>\n",
       "      <td>196.9</td>\n",
       "      <td>89</td>\n",
       "      <td>8.86</td>\n",
       "      <td>6.6</td>\n",
       "      <td>7</td>\n",
       "      <td>1.78</td>\n",
       "      <td>2</td>\n",
       "      <td>False</td>\n",
       "    </tr>\n",
       "    <tr>\n",
       "      <th>4</th>\n",
       "      <td>OK</td>\n",
       "      <td>75</td>\n",
       "      <td>415</td>\n",
       "      <td>Yes</td>\n",
       "      <td>No</td>\n",
       "      <td>0</td>\n",
       "      <td>166.7</td>\n",
       "      <td>113</td>\n",
       "      <td>28.34</td>\n",
       "      <td>148.3</td>\n",
       "      <td>122</td>\n",
       "      <td>12.61</td>\n",
       "      <td>186.9</td>\n",
       "      <td>121</td>\n",
       "      <td>8.41</td>\n",
       "      <td>10.1</td>\n",
       "      <td>3</td>\n",
       "      <td>2.73</td>\n",
       "      <td>3</td>\n",
       "      <td>False</td>\n",
       "    </tr>\n",
       "  </tbody>\n",
       "</table>\n",
       "</div>"
      ],
      "text/plain": [
       "  state  account length  area code international plan voice mail plan  \\\n",
       "0    KS             128        415                 No             Yes   \n",
       "1    OH             107        415                 No             Yes   \n",
       "2    NJ             137        415                 No              No   \n",
       "3    OH              84        408                Yes              No   \n",
       "4    OK              75        415                Yes              No   \n",
       "\n",
       "   number vmail messages  total day minutes  total day calls  \\\n",
       "0                     25              265.1              110   \n",
       "1                     26              161.6              123   \n",
       "2                      0              243.4              114   \n",
       "3                      0              299.4               71   \n",
       "4                      0              166.7              113   \n",
       "\n",
       "   total day charge  total eve minutes  total eve calls  total eve charge  \\\n",
       "0             45.07              197.4               99             16.78   \n",
       "1             27.47              195.5              103             16.62   \n",
       "2             41.38              121.2              110             10.30   \n",
       "3             50.90               61.9               88              5.26   \n",
       "4             28.34              148.3              122             12.61   \n",
       "\n",
       "   total night minutes  total night calls  total night charge  \\\n",
       "0                244.7                 91               11.01   \n",
       "1                254.4                103               11.45   \n",
       "2                162.6                104                7.32   \n",
       "3                196.9                 89                8.86   \n",
       "4                186.9                121                8.41   \n",
       "\n",
       "   total intl minutes  total intl calls  total intl charge  \\\n",
       "0                10.0                 3               2.70   \n",
       "1                13.7                 3               3.70   \n",
       "2                12.2                 5               3.29   \n",
       "3                 6.6                 7               1.78   \n",
       "4                10.1                 3               2.73   \n",
       "\n",
       "   customer service calls  churn  \n",
       "0                       1  False  \n",
       "1                       1  False  \n",
       "2                       0  False  \n",
       "3                       2  False  \n",
       "4                       3  False  "
      ]
     },
     "execution_count": 2,
     "metadata": {},
     "output_type": "execute_result"
    }
   ],
   "source": [
    "import pandas as pd\n",
    "import numpy as np\n",
    "\n",
    "df = pd.read_csv(\"telecom_churn.csv\")\n",
    "\n",
    "cols = list(df.columns)\n",
    "cols\n",
    "for col in range(len(cols)):\n",
    "    cols[col] = cols[col].lower()\n",
    "\n",
    "    \n",
    "cols_dict = dict()\n",
    "for col in range(len(df.columns)):\n",
    "    cols_dict[df.columns[col]] = cols[col]\n",
    "    \n",
    "\n",
    "    \n",
    "\n",
    "df = df.rename(columns=cols_dict)\n",
    "\n",
    "\n",
    "df.head()"
   ]
  },
  {
   "cell_type": "markdown",
   "metadata": {
    "id": "MT5L6lWZyDkE"
   },
   "source": [
    "Сделайте первичную обработку данных:\n",
    "\n",
    "1. Выбросите колонку State.\n",
    "\n",
    "2. Колонки International plan и Voice mail plan закодируйте следующим образом: Yes замените на 1, а No на 0.\n",
    "\n",
    "3. Переведите целевую переменную (Churn) в числа: True в 1, а False в 0."
   ]
  },
  {
   "cell_type": "code",
   "execution_count": 3,
   "metadata": {},
   "outputs": [],
   "source": [
    "# ваш код здесь\n",
    "df = df.drop('state', axis=1)\n",
    "df['voice mail plan'] = df['voice mail plan'].apply(lambda x: 0 if x == 'No' else 1)\n",
    "df['international plan'] = df['international plan'].apply(lambda x: 0 if x == 'No' else 1)\n",
    "# ваш код здесь\n",
    "df['churn'] = df['churn'].astype(int)"
   ]
  },
  {
   "cell_type": "markdown",
   "metadata": {
    "id": "N2hAu7tmy0Ps"
   },
   "source": [
    "Выведите на экран первые строки изменённой таблицы, чтобы проверить, что все преобразования сработали."
   ]
  },
  {
   "cell_type": "code",
   "execution_count": 4,
   "metadata": {},
   "outputs": [
    {
     "data": {
      "text/html": [
       "<div>\n",
       "<style scoped>\n",
       "    .dataframe tbody tr th:only-of-type {\n",
       "        vertical-align: middle;\n",
       "    }\n",
       "\n",
       "    .dataframe tbody tr th {\n",
       "        vertical-align: top;\n",
       "    }\n",
       "\n",
       "    .dataframe thead th {\n",
       "        text-align: right;\n",
       "    }\n",
       "</style>\n",
       "<table border=\"1\" class=\"dataframe\">\n",
       "  <thead>\n",
       "    <tr style=\"text-align: right;\">\n",
       "      <th></th>\n",
       "      <th>account length</th>\n",
       "      <th>area code</th>\n",
       "      <th>international plan</th>\n",
       "      <th>voice mail plan</th>\n",
       "      <th>number vmail messages</th>\n",
       "      <th>total day minutes</th>\n",
       "      <th>total day calls</th>\n",
       "      <th>total day charge</th>\n",
       "      <th>total eve minutes</th>\n",
       "      <th>total eve calls</th>\n",
       "      <th>total eve charge</th>\n",
       "      <th>total night minutes</th>\n",
       "      <th>total night calls</th>\n",
       "      <th>total night charge</th>\n",
       "      <th>total intl minutes</th>\n",
       "      <th>total intl calls</th>\n",
       "      <th>total intl charge</th>\n",
       "      <th>customer service calls</th>\n",
       "      <th>churn</th>\n",
       "    </tr>\n",
       "  </thead>\n",
       "  <tbody>\n",
       "    <tr>\n",
       "      <th>0</th>\n",
       "      <td>128</td>\n",
       "      <td>415</td>\n",
       "      <td>0</td>\n",
       "      <td>1</td>\n",
       "      <td>25</td>\n",
       "      <td>265.1</td>\n",
       "      <td>110</td>\n",
       "      <td>45.07</td>\n",
       "      <td>197.4</td>\n",
       "      <td>99</td>\n",
       "      <td>16.78</td>\n",
       "      <td>244.7</td>\n",
       "      <td>91</td>\n",
       "      <td>11.01</td>\n",
       "      <td>10.0</td>\n",
       "      <td>3</td>\n",
       "      <td>2.70</td>\n",
       "      <td>1</td>\n",
       "      <td>0</td>\n",
       "    </tr>\n",
       "    <tr>\n",
       "      <th>1</th>\n",
       "      <td>107</td>\n",
       "      <td>415</td>\n",
       "      <td>0</td>\n",
       "      <td>1</td>\n",
       "      <td>26</td>\n",
       "      <td>161.6</td>\n",
       "      <td>123</td>\n",
       "      <td>27.47</td>\n",
       "      <td>195.5</td>\n",
       "      <td>103</td>\n",
       "      <td>16.62</td>\n",
       "      <td>254.4</td>\n",
       "      <td>103</td>\n",
       "      <td>11.45</td>\n",
       "      <td>13.7</td>\n",
       "      <td>3</td>\n",
       "      <td>3.70</td>\n",
       "      <td>1</td>\n",
       "      <td>0</td>\n",
       "    </tr>\n",
       "    <tr>\n",
       "      <th>2</th>\n",
       "      <td>137</td>\n",
       "      <td>415</td>\n",
       "      <td>0</td>\n",
       "      <td>0</td>\n",
       "      <td>0</td>\n",
       "      <td>243.4</td>\n",
       "      <td>114</td>\n",
       "      <td>41.38</td>\n",
       "      <td>121.2</td>\n",
       "      <td>110</td>\n",
       "      <td>10.30</td>\n",
       "      <td>162.6</td>\n",
       "      <td>104</td>\n",
       "      <td>7.32</td>\n",
       "      <td>12.2</td>\n",
       "      <td>5</td>\n",
       "      <td>3.29</td>\n",
       "      <td>0</td>\n",
       "      <td>0</td>\n",
       "    </tr>\n",
       "    <tr>\n",
       "      <th>3</th>\n",
       "      <td>84</td>\n",
       "      <td>408</td>\n",
       "      <td>1</td>\n",
       "      <td>0</td>\n",
       "      <td>0</td>\n",
       "      <td>299.4</td>\n",
       "      <td>71</td>\n",
       "      <td>50.90</td>\n",
       "      <td>61.9</td>\n",
       "      <td>88</td>\n",
       "      <td>5.26</td>\n",
       "      <td>196.9</td>\n",
       "      <td>89</td>\n",
       "      <td>8.86</td>\n",
       "      <td>6.6</td>\n",
       "      <td>7</td>\n",
       "      <td>1.78</td>\n",
       "      <td>2</td>\n",
       "      <td>0</td>\n",
       "    </tr>\n",
       "    <tr>\n",
       "      <th>4</th>\n",
       "      <td>75</td>\n",
       "      <td>415</td>\n",
       "      <td>1</td>\n",
       "      <td>0</td>\n",
       "      <td>0</td>\n",
       "      <td>166.7</td>\n",
       "      <td>113</td>\n",
       "      <td>28.34</td>\n",
       "      <td>148.3</td>\n",
       "      <td>122</td>\n",
       "      <td>12.61</td>\n",
       "      <td>186.9</td>\n",
       "      <td>121</td>\n",
       "      <td>8.41</td>\n",
       "      <td>10.1</td>\n",
       "      <td>3</td>\n",
       "      <td>2.73</td>\n",
       "      <td>3</td>\n",
       "      <td>0</td>\n",
       "    </tr>\n",
       "  </tbody>\n",
       "</table>\n",
       "</div>"
      ],
      "text/plain": [
       "   account length  area code  international plan  voice mail plan  \\\n",
       "0             128        415                   0                1   \n",
       "1             107        415                   0                1   \n",
       "2             137        415                   0                0   \n",
       "3              84        408                   1                0   \n",
       "4              75        415                   1                0   \n",
       "\n",
       "   number vmail messages  total day minutes  total day calls  \\\n",
       "0                     25              265.1              110   \n",
       "1                     26              161.6              123   \n",
       "2                      0              243.4              114   \n",
       "3                      0              299.4               71   \n",
       "4                      0              166.7              113   \n",
       "\n",
       "   total day charge  total eve minutes  total eve calls  total eve charge  \\\n",
       "0             45.07              197.4               99             16.78   \n",
       "1             27.47              195.5              103             16.62   \n",
       "2             41.38              121.2              110             10.30   \n",
       "3             50.90               61.9               88              5.26   \n",
       "4             28.34              148.3              122             12.61   \n",
       "\n",
       "   total night minutes  total night calls  total night charge  \\\n",
       "0                244.7                 91               11.01   \n",
       "1                254.4                103               11.45   \n",
       "2                162.6                104                7.32   \n",
       "3                196.9                 89                8.86   \n",
       "4                186.9                121                8.41   \n",
       "\n",
       "   total intl minutes  total intl calls  total intl charge  \\\n",
       "0                10.0                 3               2.70   \n",
       "1                13.7                 3               3.70   \n",
       "2                12.2                 5               3.29   \n",
       "3                 6.6                 7               1.78   \n",
       "4                10.1                 3               2.73   \n",
       "\n",
       "   customer service calls  churn  \n",
       "0                       1      0  \n",
       "1                       1      0  \n",
       "2                       0      0  \n",
       "3                       2      0  \n",
       "4                       3      0  "
      ]
     },
     "execution_count": 4,
     "metadata": {},
     "output_type": "execute_result"
    }
   ],
   "source": [
    "df.head()"
   ]
  },
  {
   "cell_type": "code",
   "execution_count": 5,
   "metadata": {},
   "outputs": [],
   "source": [
    "from sklearn.preprocessing import StandardScaler\n",
    "\n",
    "\n",
    "cols_to_scale = []\n",
    "for col in df.columns:\n",
    "    counts = df[col].value_counts()\n",
    "    if list(counts.keys()) == [0,1] or list(counts.keys()) == [1,0]:\n",
    "        continue\n",
    "    cols_to_scale.append(col)\n",
    "\n",
    "        "
   ]
  },
  {
   "cell_type": "code",
   "execution_count": 6,
   "metadata": {},
   "outputs": [],
   "source": [
    "#скалируем\n",
    "def scaler_default(df2):\n",
    "    cols_to_scale = []\n",
    "\n",
    "\n",
    "    cols_obj = []\n",
    "    for col in df2.columns:\n",
    "        if col == 'target':\n",
    "            continue\n",
    "        if '_' in col:\n",
    "            continue\n",
    "        if df2[col].dtype != 'object':\n",
    "            cols_to_scale.append(col)\n",
    "    col_names = cols_to_scale.copy()\n",
    "\n",
    "    for i in range(len(col_names)):\n",
    "        col_names[i] = col_names[i] + '_scaled'\n",
    "\n",
    "    scaler2 = StandardScaler()\n",
    "    df_scaled = scaler2.fit_transform(df2[cols_to_scale])\n",
    "    df2[col_names] = pd.DataFrame.from_records(df_scaled, columns=col_names)\n",
    "    df2 = df2.drop(cols_to_scale, axis=1)\n",
    "    return df2"
   ]
  },
  {
   "cell_type": "code",
   "execution_count": 7,
   "metadata": {},
   "outputs": [],
   "source": [
    "#скалируем\n",
    "def scaler(df2, cols_to_scale):\n",
    "    \n",
    "   \n",
    "    col_names = cols_to_scale.copy()\n",
    "\n",
    "    for i in range(len(col_names)):\n",
    "        col_names[i] = col_names[i] + '_scaled'\n",
    "\n",
    "    scaler2 = StandardScaler()\n",
    "    df_scaled = scaler2.fit_transform(df2[cols_to_scale])\n",
    "    df2[col_names] = pd.DataFrame.from_records(df_scaled, columns=col_names)\n",
    "    df2 = df2.drop(cols_to_scale, axis=1)\n",
    "    return df2\n"
   ]
  },
  {
   "cell_type": "code",
   "execution_count": 8,
   "metadata": {},
   "outputs": [],
   "source": [
    "df = scaler(df, cols_to_scale)"
   ]
  },
  {
   "cell_type": "markdown",
   "metadata": {
    "id": "6_y9azfEzBYd"
   },
   "source": [
    "Создайте матрицу объект-признак X и вектор с целевой переменной (Churn) y."
   ]
  },
  {
   "cell_type": "code",
   "execution_count": 9,
   "metadata": {
    "id": "Nd0nCW4eypLE"
   },
   "outputs": [],
   "source": [
    "# ваш код здесь\n",
    "x = df.drop('churn', axis=1)\n",
    "y = df.churn"
   ]
  },
  {
   "cell_type": "markdown",
   "metadata": {
    "id": "NEvkoGWw1hFL"
   },
   "source": [
    "Проверьте баланс классов. Является ли выборка сбалансированной?"
   ]
  },
  {
   "cell_type": "code",
   "execution_count": 10,
   "metadata": {
    "id": "RpPcEOAm1keZ"
   },
   "outputs": [
    {
     "data": {
      "text/plain": [
       "churn\n",
       "0    2850\n",
       "1     483\n",
       "Name: count, dtype: int64"
      ]
     },
     "execution_count": 10,
     "metadata": {},
     "output_type": "execute_result"
    }
   ],
   "source": [
    "# ваш код здесь\n",
    "y.value_counts()"
   ]
  },
  {
   "cell_type": "code",
   "execution_count": 11,
   "metadata": {},
   "outputs": [
    {
     "data": {
      "image/png": "[encoded data removed]",
      "text/plain": [
       "<Figure size 200x100 with 1 Axes>"
      ]
     },
     "metadata": {},
     "output_type": "display_data"
    }
   ],
   "source": [
    "plt.figure(figsize=(2,1))\n",
    "plt.hist(df.churn)\n",
    "plt.title('n / Y')\n",
    "plt.show()"
   ]
  },
  {
   "cell_type": "markdown",
   "metadata": {
    "id": "AYFme2HyzQxL"
   },
   "source": [
    "Разбейте данные на тренировочную и тестовую части, размер тестовой части — 30%."
   ]
  },
  {
   "cell_type": "code",
   "execution_count": 12,
   "metadata": {
    "id": "Cj13GmJlzQDS"
   },
   "outputs": [],
   "source": [
    "from sklearn.model_selection import train_test_split\n",
    "\n",
    "# ваш код здесь\n",
    "x_train, x_test, y_train, y_test = train_test_split(x,y,test_size=0.3, random_state=42)"
   ]
  },
  {
   "cell_type": "markdown",
   "metadata": {
    "id": "GbuDWle1z2Uh"
   },
   "source": [
    "Для линейных моделей очень важно масштабирование признаков. Поэтому отмасштабируйте признаки при помощи [StandardScaler](https://scikit-learn.org/stable/modules/generated/sklearn.preprocessing.StandardScaler.html), обучив метод на тренировочных данных и применив его и к трейну, и к тесту."
   ]
  },
  {
   "cell_type": "code",
   "execution_count": 13,
   "metadata": {
    "id": "69H1fh7VzaZf"
   },
   "outputs": [],
   "source": [
    "# done before x/y split"
   ]
  },
  {
   "cell_type": "markdown",
   "metadata": {
    "id": "zvAH5Qte0W50"
   },
   "source": [
    "После масштабирования признаков X_train и X_test перестали быть объектами типа pd.DataFrame, это неудобно. Приведите их снова к pd.DataFrame."
   ]
  },
  {
   "cell_type": "code",
   "execution_count": 14,
   "metadata": {},
   "outputs": [],
   "source": [
    "\n",
    "# - - -- - -- - -- "
   ]
  },
  {
   "cell_type": "code",
   "execution_count": 15,
   "metadata": {
    "id": "PRlpMQ750WSU"
   },
   "outputs": [],
   "source": [
    "# ваш код здесь"
   ]
  },
  {
   "cell_type": "markdown",
   "metadata": {
    "id": "253CDINX1TmR"
   },
   "source": [
    "Обучите на тренировочных данных с параметрами по умолчанию:\n",
    "\n",
    "1) логистическую регрессию;\n",
    "\n",
    "2) метод опорных векторов (с kernel='linear')."
   ]
  },
  {
   "cell_type": "code",
   "execution_count": 16,
   "metadata": {},
   "outputs": [],
   "source": [
    "from sklearn.linear_model import LogisticRegression\n",
    "from sklearn.svm import SVC\n",
    "from sklearn.svm import SVR\n",
    "\n",
    "import warnings\n",
    "warnings.filterwarnings('ignore')"
   ]
  },
  {
   "cell_type": "code",
   "execution_count": 17,
   "metadata": {},
   "outputs": [],
   "source": [
    "logr = LogisticRegression()\n",
    "svc = SVC(kernel='linear', probability=True)\n",
    "# svr = SVR(kernel='linear')\n",
    "\n",
    "models = [\n",
    "    logr,\n",
    "    svc,\n",
    "#     svr,\n",
    "]\n",
    "\n",
    "for model in models:\n",
    "    model.fit(x_train, y_train)"
   ]
  },
  {
   "cell_type": "markdown",
   "metadata": {
    "id": "HZszTXSb110B"
   },
   "source": [
    "С помощью обученных моделей сделайте предсказание на тестовых данных. Вычислите значение метрики roc-auc на тесте. \n",
    "\n",
    "Не забудьте, что для корректного вычисления roc-auc необходимо предсказывать не сами классы, а их вероятности (чтобы SVC мог это сделать, при объявлении модели поставьте probability=True)."
   ]
  },
  {
   "cell_type": "code",
   "execution_count": 18,
   "metadata": {},
   "outputs": [],
   "source": [
    "from sklearn.metrics import roc_auc_score"
   ]
  },
  {
   "cell_type": "code",
   "execution_count": 19,
   "metadata": {
    "id": "W9IUlgV011PP"
   },
   "outputs": [
    {
     "data": {
      "text/plain": [
       "{'LogisticRegression()': 0.8277125441652863,\n",
       " \"SVC(kernel='linear', probability=True)\": 0.755856745354995}"
      ]
     },
     "execution_count": 19,
     "metadata": {},
     "output_type": "execute_result"
    }
   ],
   "source": [
    "preds = dict()\n",
    "scores = dict()\n",
    "for model in models:\n",
    "    preds[model] = model.predict_proba(x_test)[ : , 1 ]\n",
    "    scores[str(model)] = roc_auc_score(y_test, preds[model])\n",
    "scores\n",
    "# preds\n",
    "\n",
    "# ваш код здесь"
   ]
  },
  {
   "cell_type": "markdown",
   "metadata": {
    "id": "mVgXsdO02iVG"
   },
   "source": [
    "Теперь обучите решающее дерево с параметрами по умолчанию на тренировочных данных, сделайте предсказание на тесте и вычислите на тесте roc-auc."
   ]
  },
  {
   "cell_type": "code",
   "execution_count": 20,
   "metadata": {},
   "outputs": [],
   "source": [
    "from sklearn.tree import DecisionTreeClassifier"
   ]
  },
  {
   "cell_type": "code",
   "execution_count": 21,
   "metadata": {
    "id": "yc822SQa2Zsc"
   },
   "outputs": [
    {
     "data": {
      "text/plain": [
       "{'LogisticRegression()': 0.8277125441652863,\n",
       " \"SVC(kernel='linear', probability=True)\": 0.755856745354995,\n",
       " 'DecisionTreeClassifier()': 0.8309724114858305}"
      ]
     },
     "execution_count": 21,
     "metadata": {},
     "output_type": "execute_result"
    }
   ],
   "source": [
    "tree = DecisionTreeClassifier()\n",
    "tree.fit(x_train, y_train)\n",
    "preds = tree.predict_proba(x_test)[:,1]\n",
    "scores[str(tree)] = roc_auc_score(y_test, preds)\n",
    "scores\n",
    "\n",
    "# ваш код здесь"
   ]
  },
  {
   "cell_type": "markdown",
   "metadata": {
    "id": "wNSwPGPl22zf"
   },
   "source": [
    "Нужно ли масшабировать признаки для обучения решающего дерева? Проверьте это, заново разбив данные на тренировочную и тестовую части (назовите новые полученные объекты новыми названиями), и проведите обучение, предсказание и оценку метрики до масштабирования и после."
   ]
  },
  {
   "cell_type": "code",
   "execution_count": 22,
   "metadata": {
    "id": "t0tjFrP02yIR"
   },
   "outputs": [],
   "source": [
    "\n",
    "df2 = pd.read_csv(\"telecom_churn.csv\")\n",
    "\n",
    "cols = list(df2.columns)\n",
    "cols\n",
    "for col in range(len(cols)):\n",
    "    cols[col] = cols[col].lower()\n",
    "\n",
    "    \n",
    "cols_dict = dict()\n",
    "for col in range(len(df2.columns)):\n",
    "    cols_dict[df2.columns[col]] = cols[col]\n",
    "        \n",
    "\n",
    "df2 = df2.rename(columns=cols_dict)\n",
    "df2 = df2.drop('state', axis=1)\n",
    "df2['voice mail plan'] = df2['voice mail plan'].apply(lambda x: 0 if x == 'No' else 1)\n",
    "df2['international plan'] = df2['international plan'].apply(lambda x: 0 if x == 'No' else 1)\n",
    "# ваш код здесь\n",
    "df2['churn'] = df2['churn'].astype(int)\n",
    "x2 = df2.drop('churn', axis=1)\n",
    "y2 = df2.churn\n",
    "x_train_unscaled, x_test_unscaled, y_train_unscaled, y_test_unscaled = train_test_split(x2,y2,test_size=0.3, random_state=42)\n"
   ]
  },
  {
   "cell_type": "code",
   "execution_count": 23,
   "metadata": {},
   "outputs": [
    {
     "data": {
      "text/plain": [
       "{'LogisticRegression()': 0.8277125441652863,\n",
       " \"SVC(kernel='linear', probability=True)\": 0.755856745354995,\n",
       " 'DecisionTreeClassifier()': 0.8309724114858305,\n",
       " 'unscaled_DecisionTreeClassifier()': 0.8315517621235241}"
      ]
     },
     "execution_count": 23,
     "metadata": {},
     "output_type": "execute_result"
    }
   ],
   "source": [
    "usncaled_tree = DecisionTreeClassifier()\n",
    "usncaled_tree.fit(x_train_unscaled, y_train_unscaled)\n",
    "preds = usncaled_tree.predict_proba(x_test_unscaled)[:,1]\n",
    "scores['unscaled_'+str(usncaled_tree)] = roc_auc_score(y_test_unscaled, preds)\n",
    "scores\n",
    "\n",
    "# ваш код здесь"
   ]
  },
  {
   "cell_type": "markdown",
   "metadata": {
    "id": "QpPU2fxH3kta"
   },
   "source": [
    "Какой вывод про масштабирование признаков для обучения дерева можно сделать?"
   ]
  },
  {
   "cell_type": "markdown",
   "metadata": {
    "id": "Bof-nFO-3pp7"
   },
   "source": [
    "Теперь ваша цель — максимально улучшить модели. Для этого:\n",
    "\n",
    "1) у линейных моделей подберите гиперпараметр С (переберите 20 значений C в диапазоне от 0.1 до 10 с равным шагом);\n",
    "\n",
    "2) у решающего дерева подберите max_depth (переберите глубину от 1 до 10 с шагом 1) и criterion — gini или entropy (см. [документацию](https://scikit-learn.org/stable/modules/generated/sklearn.tree.DecisionTreeClassifier.html)).\n",
    "\n",
    "Для подбора параметров используйте [GridSearchCV](https://scikit-learn.org/stable/modules/generated/sklearn.model_selection.GridSearchCV.html) с пятью фолдами и метрикой roc-auc или обычные циклы.\n",
    "\n",
    "Подбор параметров осуществляется только по тренировочным данным!"
   ]
  },
  {
   "cell_type": "markdown",
   "metadata": {
    "id": "fOpaM-hq44uW"
   },
   "source": [
    "После подбора гиперпараметров обучите модели с найденными гиперпараметрами на тренировочных данных, сделайте предсказания на тесте и оцените их качество (roc_auc)."
   ]
  },
  {
   "cell_type": "code",
   "execution_count": 24,
   "metadata": {},
   "outputs": [],
   "source": [
    "models.append(tree)"
   ]
  },
  {
   "cell_type": "code",
   "execution_count": 25,
   "metadata": {},
   "outputs": [
    {
     "data": {
      "text/plain": [
       "[LogisticRegression(),\n",
       " SVC(kernel='linear', probability=True),\n",
       " DecisionTreeClassifier()]"
      ]
     },
     "execution_count": 25,
     "metadata": {},
     "output_type": "execute_result"
    }
   ],
   "source": [
    "models"
   ]
  },
  {
   "cell_type": "code",
   "execution_count": 26,
   "metadata": {
    "id": "hk9rxc993bRu"
   },
   "outputs": [
    {
     "name": "stdout",
     "output_type": "stream",
     "text": [
      "current model: LogisticRegression()\n",
      "best score: 0.80263089366929\n",
      "best params: {'C': 9.1}\n",
      "current model: SVC(kernel='linear', probability=True)\n",
      "best score: 0.7625459228917698\n",
      "best params: {'C': 0.1}\n",
      "current model: DecisionTreeClassifier()\n",
      "best score: 0.8767676562822961\n",
      "best params: {'criterion': 'gini', 'max_depth': 5}\n"
     ]
    }
   ],
   "source": [
    "from sklearn.model_selection import GridSearchCV\n",
    "\n",
    "best_params = dict()\n",
    "params = {str(models[2]):\n",
    "          { \n",
    "    'max_depth' : np.arange(1, 11, 1),\n",
    "    'criterion': ['gini', 'entropy'],\n",
    "            },\n",
    "          \n",
    "          str(models[1]):\n",
    "          {\n",
    "             'C' : np.arange(0.1, 10, 0.5),\n",
    "          },\n",
    "          \n",
    "          str(models[0]):\n",
    "          {\n",
    "             'C' : np.arange(0.1, 10, 0.5),\n",
    "          }\n",
    "}\n",
    "\n",
    "for model in models:\n",
    "    \n",
    "    gs = GridSearchCV(model, params[str(model)], cv=5, scoring='roc_auc')\n",
    "    gs.fit(x_train, y_train)\n",
    "    print('current model:', model)\n",
    "    print('best score:', gs.best_score_)\n",
    "    best_params[str(model)] = gs.best_params_\n",
    "    print('best params:', best_params[str(model)])\n",
    "    \n",
    "# ваш код здесь"
   ]
  },
  {
   "cell_type": "code",
   "execution_count": 27,
   "metadata": {},
   "outputs": [],
   "source": [
    "logr_tuned = LogisticRegression(C= 9.1)\n",
    "svc_tuned = SVC(kernel='linear', probability=True, C=0.1)\n",
    "tree_tuned = DecisionTreeClassifier(criterion='gini', max_depth=5)\n",
    "\n",
    "models_new = [\n",
    "    logr_tuned,\n",
    "    svc_tuned,\n",
    "    tree_tuned,\n",
    "]\n",
    "\n",
    "for model in models_new:\n",
    "    model.fit(x_train, y_train)\n",
    "    \n",
    "for model in models_new:\n",
    "    models.append(model)"
   ]
  },
  {
   "cell_type": "code",
   "execution_count": 28,
   "metadata": {},
   "outputs": [
    {
     "data": {
      "text/plain": [
       "{'LogisticRegression()': 0.8277125441652863,\n",
       " \"SVC(kernel='linear', probability=True)\": 0.755856745354995,\n",
       " 'DecisionTreeClassifier()': 0.8309724114858305,\n",
       " 'unscaled_DecisionTreeClassifier()': 0.8315517621235241,\n",
       " 'LogisticRegression(C=9.1)': 0.8283571737480723,\n",
       " \"SVC(C=0.1, kernel='linear', probability=True)\": 0.7790062912583332,\n",
       " 'DecisionTreeClassifier(max_depth=5)': 0.9083442811564165}"
      ]
     },
     "execution_count": 28,
     "metadata": {},
     "output_type": "execute_result"
    }
   ],
   "source": [
    "preds = dict()\n",
    "for model in models:\n",
    "    preds[str(model)] = model.predict_proba(x_test)[ : , 1 ]\n",
    "    scores[str(model)] = roc_auc_score(y_test, preds[str(model)])\n",
    "scores"
   ]
  },
  {
   "cell_type": "markdown",
   "metadata": {
    "id": "LJdQGP5B6UuT"
   },
   "source": [
    "Какая модель справилась с решением задачи лучше всего по метрике roc-auc?"
   ]
  },
  {
   "cell_type": "markdown",
   "metadata": {
    "id": "9QqqeHyP6Y4o"
   },
   "source": [
    "Нарисуйте roc-кривую для наилучшей модели."
   ]
  },
  {
   "cell_type": "code",
   "execution_count": 29,
   "metadata": {
    "id": "xzrjnbQB6YMA"
   },
   "outputs": [],
   "source": [
    "from sklearn.metrics import roc_curve\n",
    "from matplotlib import pyplot as plt\n",
    "\n",
    "# ваш код здесь\n",
    "\n"
   ]
  },
  {
   "cell_type": "markdown",
   "metadata": {
    "id": "mKaWSPa_6vvk"
   },
   "source": [
    "Сравните между собой две лучшие модели:\n",
    "\n",
    "1. Насколько сильно отличается качество предсказания на тестовых данных?\n",
    "(Вычислите разность значений roc-auc.)\n",
    "\n",
    "2. Постройте гистограммы важности признаков (для линейных моделей берите модуль значений весов) для каждой из этих моделей. Сравните между собой списки из трёх самых важных признаков. Совпадают ли они?"
   ]
  },
  {
   "cell_type": "code",
   "execution_count": 30,
   "metadata": {
    "id": "cc0q1_XL7QT0"
   },
   "outputs": [],
   "source": [
    "# ваш код здесь"
   ]
  },
  {
   "cell_type": "code",
   "execution_count": 31,
   "metadata": {
    "id": "lz_y6FjJ7Kol"
   },
   "outputs": [],
   "source": [
    "# ваш код здесь"
   ]
  },
  {
   "cell_type": "markdown",
   "metadata": {
    "id": "beRXM0lT8MUp"
   },
   "source": [
    "Сделайте выводы:\n",
    "\n",
    "1. Являются ли данные сбалансированными? Что это означает?\n",
    "\n",
    "2. Какая модель после подбора гиперпараметров лучше всего решает задачу с точки зрения метрики roc-auc?\n",
    "\n",
    "3. Одинаковые ли признаки важны для работы двух наилучших моделей? Почему?"
   ]
  },
  {
   "cell_type": "code",
   "execution_count": null,
   "metadata": {},
   "outputs": [],
   "source": []
  }
 ],
 "metadata": {
  "colab": {
   "collapsed_sections": [],
   "provenance": []
  },
  "kernelspec": {
   "display_name": "Python 3 (ipykernel)",
   "language": "python",
   "name": "python3"
  },
  "language_info": {
   "codemirror_mode": {
    "name": "ipython",
    "version": 3
   },
   "file_extension": ".py",
   "mimetype": "text/x-python",
   "name": "python",
   "nbconvert_exporter": "python",
   "pygments_lexer": "ipython3",
   "version": "3.11.5"
  }
 },
 "nbformat": 4,
 "nbformat_minor": 1
}
