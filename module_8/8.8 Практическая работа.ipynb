{
 "cells": [
  {
   "cell_type": "markdown",
   "metadata": {
    "id": "Q7ytv2GMjpGZ"
   },
   "source": [
    "# Логистическая регрессия. Практическая работа\n",
    "\n",
    "## Цель практической работы\n",
    "\n",
    "Вы уже делали задание, в котором с помощью метода ближайших соседей оценивали склонность клиента банка откликнуться или не откликнуться на предложение.\n",
    "\n",
    "В этом практическом задании ваши цели:\n",
    "*  решить эту же задачу с помощью логистической регрессии;\n",
    "*  потренироваться в подборе порога; \n",
    "*  потренироваться в подборе гиперпараметров модели."
   ]
  },
  {
   "cell_type": "markdown",
   "metadata": {
    "id": "Sj3n0n38nEfs"
   },
   "source": [
    "## Что входит в работу\n",
    "\n",
    "*  Загрузить данные для задачи.\n",
    "*  Обучить метод ближайших соседей с заданным количеством соседей k, вычислить метрики.\n",
    "*  Обучить логистическую регрессию с параметрами по умолчанию, вычислить метрики.\n",
    "*  Подобрать порог модели, вычислить метрики.\n",
    "*  Подобрать гиперпараметр С (константа регуляризации) модели, вычислить метрики."
   ]
  },
  {
   "cell_type": "markdown",
   "metadata": {
    "id": "3qfZPYNpoFGE"
   },
   "source": [
    "## Что оценивается\n",
    "\n",
    "*  Выполнены все этапы задания: код запускается, отрабатывает без ошибок; подробно и обоснованно написаны текстовые выводы, где это требуется."
   ]
  },
  {
   "cell_type": "markdown",
   "metadata": {
    "id": "3_EzM8UJoRHd"
   },
   "source": [
    "## Формат сдачи\n",
    "Выполните предложенные задания — впишите свой код (или, если требуется, текст) в ячейки после комментариев. \n",
    "\n",
    "*Комментарии — это текст, который начинается с символа #. Например: # ваш код здесь.*\n",
    "\n",
    "Сохраните изменения, используя опцию Save and Checkpoint из вкладки меню File или кнопку Save and Checkpoint на панели инструментов. Итоговый файл в формате .ipynb (файл Jupyter Notebook) загрузите в личный кабинет и отправьте на проверку."
   ]
  },
  {
   "cell_type": "code",
   "execution_count": 129,
   "metadata": {
    "id": "aPDB2wP8jndz"
   },
   "outputs": [],
   "source": [
    "# подключим библиотеки\n",
    "%matplotlib inline\n",
    "import matplotlib.pyplot as plt\n",
    "import numpy as np\n",
    "import pandas as pd\n",
    "from sklearn.model_selection import train_test_split\n",
    "from sklearn.metrics import classification_report\n",
    "from sklearn.neighbors import KNeighborsClassifier\n",
    "from sklearn.metrics import confusion_matrix\n",
    "from sklearn.metrics import precision_score, recall_score\n",
    "from sklearn.linear_model import LogisticRegression\n",
    "\n",
    "import warnings\n",
    "warnings.filterwarnings(\"ignore\")"
   ]
  },
  {
   "cell_type": "code",
   "execution_count": 130,
   "metadata": {
    "id": "7Zw7RmtAjn8O"
   },
   "outputs": [],
   "source": [
    "# считаем данные\n",
    "df = pd.read_csv('8.8 ClientsData.csv')"
   ]
  },
  {
   "cell_type": "code",
   "execution_count": 131,
   "metadata": {
    "id": "3QbRGWqJjxOv"
   },
   "outputs": [
    {
     "data": {
      "text/html": [
       "<div>\n",
       "<style scoped>\n",
       "    .dataframe tbody tr th:only-of-type {\n",
       "        vertical-align: middle;\n",
       "    }\n",
       "\n",
       "    .dataframe tbody tr th {\n",
       "        vertical-align: top;\n",
       "    }\n",
       "\n",
       "    .dataframe thead th {\n",
       "        text-align: right;\n",
       "    }\n",
       "</style>\n",
       "<table border=\"1\" class=\"dataframe\">\n",
       "  <thead>\n",
       "    <tr style=\"text-align: right;\">\n",
       "      <th></th>\n",
       "      <th>AGE</th>\n",
       "      <th>SOCSTATUS_WORK_FL</th>\n",
       "      <th>SOCSTATUS_PENS_FL</th>\n",
       "      <th>GENDER</th>\n",
       "      <th>CHILD_TOTAL</th>\n",
       "      <th>DEPENDANTS</th>\n",
       "      <th>PERSONAL_INCOME</th>\n",
       "      <th>LOAN_NUM_TOTAL</th>\n",
       "      <th>LOAN_NUM_CLOSED</th>\n",
       "      <th>LOAN_DLQ_NUM</th>\n",
       "      <th>TARGET</th>\n",
       "    </tr>\n",
       "  </thead>\n",
       "  <tbody>\n",
       "    <tr>\n",
       "      <th>0</th>\n",
       "      <td>49</td>\n",
       "      <td>1</td>\n",
       "      <td>0</td>\n",
       "      <td>1</td>\n",
       "      <td>2</td>\n",
       "      <td>1</td>\n",
       "      <td>5000.0</td>\n",
       "      <td>1</td>\n",
       "      <td>1</td>\n",
       "      <td>2</td>\n",
       "      <td>0</td>\n",
       "    </tr>\n",
       "    <tr>\n",
       "      <th>1</th>\n",
       "      <td>32</td>\n",
       "      <td>1</td>\n",
       "      <td>0</td>\n",
       "      <td>1</td>\n",
       "      <td>3</td>\n",
       "      <td>3</td>\n",
       "      <td>12000.0</td>\n",
       "      <td>1</td>\n",
       "      <td>1</td>\n",
       "      <td>1</td>\n",
       "      <td>0</td>\n",
       "    </tr>\n",
       "    <tr>\n",
       "      <th>2</th>\n",
       "      <td>52</td>\n",
       "      <td>1</td>\n",
       "      <td>0</td>\n",
       "      <td>1</td>\n",
       "      <td>4</td>\n",
       "      <td>0</td>\n",
       "      <td>9000.0</td>\n",
       "      <td>2</td>\n",
       "      <td>1</td>\n",
       "      <td>0</td>\n",
       "      <td>0</td>\n",
       "    </tr>\n",
       "    <tr>\n",
       "      <th>3</th>\n",
       "      <td>39</td>\n",
       "      <td>1</td>\n",
       "      <td>0</td>\n",
       "      <td>1</td>\n",
       "      <td>1</td>\n",
       "      <td>1</td>\n",
       "      <td>25000.0</td>\n",
       "      <td>1</td>\n",
       "      <td>1</td>\n",
       "      <td>3</td>\n",
       "      <td>0</td>\n",
       "    </tr>\n",
       "    <tr>\n",
       "      <th>4</th>\n",
       "      <td>30</td>\n",
       "      <td>1</td>\n",
       "      <td>0</td>\n",
       "      <td>0</td>\n",
       "      <td>0</td>\n",
       "      <td>0</td>\n",
       "      <td>12000.0</td>\n",
       "      <td>2</td>\n",
       "      <td>1</td>\n",
       "      <td>2</td>\n",
       "      <td>0</td>\n",
       "    </tr>\n",
       "  </tbody>\n",
       "</table>\n",
       "</div>"
      ],
      "text/plain": [
       "   AGE  SOCSTATUS_WORK_FL  SOCSTATUS_PENS_FL  GENDER  CHILD_TOTAL  DEPENDANTS  \\\n",
       "0   49                  1                  0       1            2           1   \n",
       "1   32                  1                  0       1            3           3   \n",
       "2   52                  1                  0       1            4           0   \n",
       "3   39                  1                  0       1            1           1   \n",
       "4   30                  1                  0       0            0           0   \n",
       "\n",
       "   PERSONAL_INCOME  LOAN_NUM_TOTAL  LOAN_NUM_CLOSED  LOAN_DLQ_NUM  TARGET  \n",
       "0           5000.0               1                1             2       0  \n",
       "1          12000.0               1                1             1       0  \n",
       "2           9000.0               2                1             0       0  \n",
       "3          25000.0               1                1             3       0  \n",
       "4          12000.0               2                1             2       0  "
      ]
     },
     "execution_count": 131,
     "metadata": {},
     "output_type": "execute_result"
    }
   ],
   "source": [
    "df.head()"
   ]
  },
  {
   "cell_type": "markdown",
   "metadata": {
    "id": "HbnaQJxw2mHQ"
   },
   "source": [
    "В этом ноутбуке нам придётся подбирать гиперпараметры модели, а ещё порог. Поэтому, чтобы не переобучиться, разобъём данные на трейн, валидацию и тест.\n",
    "\n",
    "*  Обучать модели будем на тренировочных данных.\n",
    "*  Подбирать необходимые величины — по валидации.\n",
    "*  Оценивать качество — на тесте."
   ]
  },
  {
   "cell_type": "code",
   "execution_count": 132,
   "metadata": {
    "id": "bkG1LjB0s81d"
   },
   "outputs": [],
   "source": [
    "# разделим данные на обучающую и тестовую выборки\n",
    "\n",
    "\n",
    "X = df.drop('TARGET', axis=1)\n",
    "y = df['TARGET']\n",
    "\n",
    "Xtrain, Xtest, ytrain, ytest = train_test_split(X, y, train_size=0.7, random_state=42)\n",
    "Xtrain, Xval, ytrain, yval = train_test_split(Xtrain, ytrain, train_size=0.7, random_state=42)"
   ]
  },
  {
   "cell_type": "markdown",
   "metadata": {
    "id": "9g3cyUKPqgqu"
   },
   "source": [
    "В задании по методу ближайших соседей было найдено, что оптимальное число соседей k = 9.\n",
    "\n",
    "Обучите на тренировочных данных KNN с k = 9 и выведите матрицу ошибок, а также значение метрик precision и recall на тестовых данных."
   ]
  },
  {
   "cell_type": "code",
   "execution_count": 133,
   "metadata": {
    "id": "efySFKgej1_1"
   },
   "outputs": [],
   "source": [
    "knn_def = KNeighborsClassifier(n_neighbors=9)\n",
    "knn_def.fit(Xtrain, ytrain)\n",
    "knn_def_preds_test = knn_def.predict(Xtest)\n"
   ]
  },
  {
   "cell_type": "code",
   "execution_count": 134,
   "metadata": {},
   "outputs": [],
   "source": [
    "def show_stats(true, preds):\n",
    "    print(confusion_matrix(true, preds))\n",
    "    print('----')\n",
    "    print(classification_report(true, preds))\n",
    "    pass"
   ]
  },
  {
   "cell_type": "code",
   "execution_count": 135,
   "metadata": {},
   "outputs": [
    {
     "name": "stdout",
     "output_type": "stream",
     "text": [
      "[[4002   10]\n",
      " [ 551    4]]\n",
      "----\n",
      "              precision    recall  f1-score   support\n",
      "\n",
      "           0       0.88      1.00      0.93      4012\n",
      "           1       0.29      0.01      0.01       555\n",
      "\n",
      "    accuracy                           0.88      4567\n",
      "   macro avg       0.58      0.50      0.47      4567\n",
      "weighted avg       0.81      0.88      0.82      4567\n",
      "\n"
     ]
    }
   ],
   "source": [
    "show_stats(ytest, knn_def_preds_test)\n"
   ]
  },
  {
   "cell_type": "markdown",
   "metadata": {
    "id": "E9Bk7tSerX-L"
   },
   "source": [
    "Какой вывод можно сделать:\n",
    "- для класса 0 — клиент не откликнулся — мы получили достаточно высокие значения TP в том числе потому, что представителей этого класса больше;\n",
    "- для класса 1 — клиент откликнулся — мы получили низкие значения TN.\n",
    "\n",
    "Поэтому значения precision и recall низкие. Модель даёт неудовлетворительные результаты, так как находит мало клиентов, которые откликнутся на предложение.\n",
    "\n"
   ]
  },
  {
   "cell_type": "markdown",
   "metadata": {
    "id": "zGmfshG9rmBn"
   },
   "source": [
    "Обучите логистическую регрессию с параметрами по умолчанию и посмотрите на метрики.\n",
    "\n",
    "Везде дальше при оценке метрик надо выводить confusion_matrix, precision и recall."
   ]
  },
  {
   "cell_type": "code",
   "execution_count": 136,
   "metadata": {
    "id": "7tOX78zbrPHB"
   },
   "outputs": [
    {
     "name": "stdout",
     "output_type": "stream",
     "text": [
      "[[4011    1]\n",
      " [ 555    0]]\n",
      "----\n",
      "              precision    recall  f1-score   support\n",
      "\n",
      "           0       0.88      1.00      0.94      4012\n",
      "           1       0.00      0.00      0.00       555\n",
      "\n",
      "    accuracy                           0.88      4567\n",
      "   macro avg       0.44      0.50      0.47      4567\n",
      "weighted avg       0.77      0.88      0.82      4567\n",
      "\n"
     ]
    }
   ],
   "source": [
    "# ваш код здесь\n",
    "logr_def = LogisticRegression()\n",
    "logr_def.fit(Xtrain, ytrain)\n",
    "logr_def_preds_test = logr_def.predict(Xtest)\n",
    "show_stats(ytest, logr_def_preds_test)\n"
   ]
  },
  {
   "cell_type": "markdown",
   "metadata": {
    "id": "CvWGh7m9sTKM"
   },
   "source": [
    "Наша цель — найти как можно больше клиентов, которые откликнутся на предложение. А модель таких не находит. \n",
    "\n",
    "Мы помним, что метод predict_proba у логистической регрессии предсказывает математические (то есть корректные) вероятности классов. Предскажите вероятности классов с помощью обученной логистической регрессии на тестовых данных и выведите вероятности положительного класса для первых десяти объектов. \n",
    "\n",
    "Глядя на полученные вероятности, попробуйте объяснить, почему вы получили именно такую матрицу ошибок и такие значения точности с полноты."
   ]
  },
  {
   "cell_type": "code",
   "execution_count": 137,
   "metadata": {
    "id": "LNqjcxrwsLzl"
   },
   "outputs": [
    {
     "data": {
      "text/plain": [
       "array([[0.27613439],\n",
       "       [0.10138516],\n",
       "       [0.16529618],\n",
       "       [0.1672068 ],\n",
       "       [0.17331688],\n",
       "       [0.10458224],\n",
       "       [0.12476572],\n",
       "       [0.17171685],\n",
       "       [0.19610211],\n",
       "       [0.06807623]])"
      ]
     },
     "execution_count": 137,
     "metadata": {},
     "output_type": "execute_result"
    }
   ],
   "source": [
    "# ваш код здесь\n",
    "logr_def_probs_test = logr_def.predict_proba(Xtest)\n",
    "logr_def_probs_test[:10,1:]"
   ]
  },
  {
   "cell_type": "code",
   "execution_count": 138,
   "metadata": {
    "id": "mwJzqbfv5yE4"
   },
   "outputs": [
    {
     "name": "stdout",
     "output_type": "stream",
     "text": [
      "0.15485825488779661\n"
     ]
    }
   ],
   "source": [
    "# ваше объяснение здесь\n",
    "# ремарка - я пишу это по второму кругу, по этому чуть более кратко, тем более, \n",
    "# что мои выводы, как выснилось, подтвердились в следующем модуле:)\n",
    "\n",
    "# 1) главная причина в несбалансированности данных\n",
    "# 2) едва ли дело в пороге - в среднем порог нужно будет опустить ну ооочень сильно, чтобы он как то влиял на реколл\n",
    "# т.к. вероятность 'единичек' уж совсем какая то небольшая.\n",
    "print(logr_def_probs_test[:10,1:].mean())\n",
    "\n"
   ]
  },
  {
   "cell_type": "markdown",
   "metadata": {
    "id": "Z08xmRAcugGb"
   },
   "source": [
    "Давайте уточним цель. Пусть нам нужно найти как можно больше клиентов, которые откликнутся на предложение, то есть максимизировать полноту (recall). \n",
    "\n",
    "При этом хочется, чтобы точность модели (precision) не была очень низкой. Заказчик посмотрел на результаты работы KNN и потребовал, чтобы точность была не ниже, чем у KNN: $precision \\geq 0.13$."
   ]
  },
  {
   "cell_type": "markdown",
   "metadata": {
    "id": "f-syFkflt6EV"
   },
   "source": [
    "Давайте будем изменять порог для перевода вероятности в классы так, чтобы:\n",
    "*   максимизировать значение recall\n",
    "*   при условии, что $precision \\geq 0.13$.\n",
    "\n",
    "Если мы будем подбирать порог по тестовой выборке, то, по сути, обучимся на ней и, значит, переобучимся. Это плохо. \n",
    "\n",
    "Поэтому предскажите вероятности на валидационной выборке и подберите порог по ней (Xval, yval), а затем посмотрите, какое качество для найденного порога вы получите на тестовых данных."
   ]
  },
  {
   "cell_type": "code",
   "execution_count": 139,
   "metadata": {
    "id": "398pACpBtFi2"
   },
   "outputs": [
    {
     "name": "stdout",
     "output_type": "stream",
     "text": [
      "best thr appears to be   0.046000000000000006 \n",
      " ------\n"
     ]
    }
   ],
   "source": [
    "scores = dict()\n",
    "logr_def_probs_val = logr_def.predict_proba(Xval)# ваш код здесь\n",
    "\n",
    "max_recall = -1\n",
    "best_precision = -1\n",
    "best_thr = -1\n",
    "\n",
    "for threshold in np.arange(0.04, 1, 0.001):\n",
    "    \n",
    "    # для каждого значения порога переведите вероятности в классы\n",
    "    preds_tuned_thr_val = (logr_def_probs_val[:,1:] > threshold).astype(int)\n",
    "    \n",
    "    if precision_score(yval, preds_tuned_thr_val) >= 0.13:\n",
    "        # посчитайте метрики\n",
    "        scores[str(threshold)] = {\n",
    "            'recall': recall_score(yval, preds_tuned_thr_val),\n",
    "            'precision': precision_score(yval, preds_tuned_thr_val),\n",
    "            'thr': threshold,\n",
    "        }\n",
    "\n",
    "        \n",
    "for key in scores.keys():\n",
    "    if scores[key]['recall'] > max_recall:\n",
    "        max_recall = scores[key]['recall']\n",
    "        best_precision = scores[key]['precision']\n",
    "        best_thr = scores[key]['thr']\n",
    "print(\n",
    "    'best thr appears to be  ', best_thr,'\\n ------'\n",
    "    )\n",
    "\n",
    "\n",
    "\n",
    "# напечатайте порог, для которого получается максимальная полнота, при precision >= 0.13"
   ]
  },
  {
   "cell_type": "code",
   "execution_count": 140,
   "metadata": {
    "id": "qpHv0DVwywKq"
   },
   "outputs": [
    {
     "name": "stdout",
     "output_type": "stream",
     "text": [
      "[[ 353 3659]\n",
      " [  10  545]]\n",
      "----\n",
      "              precision    recall  f1-score   support\n",
      "\n",
      "           0       0.97      0.09      0.16      4012\n",
      "           1       0.13      0.98      0.23       555\n",
      "\n",
      "    accuracy                           0.20      4567\n",
      "   macro avg       0.55      0.53      0.20      4567\n",
      "weighted avg       0.87      0.20      0.17      4567\n",
      "\n"
     ]
    }
   ],
   "source": [
    "# по найденному порогу переведите вероятности в классы на тесте и напечатайте метрики\n",
    "\n",
    "logr_def_probs_test = logr_def.predict_proba(Xtest)       \n",
    "preds_tuned_thr_test = (logr_def_probs_test[:,1:] >= best_thr).astype(int)#0.046).astype(int)\n",
    "\n",
    "show_stats(ytest, preds_tuned_thr_test)"
   ]
  },
  {
   "cell_type": "markdown",
   "metadata": {
    "id": "fLakCD5TwmDe"
   },
   "source": [
    "Сделайте вывод. Смогли ли мы с помощью подбора порога добиться большего значения recall, чем у KNN? "
   ]
  },
  {
   "cell_type": "code",
   "execution_count": 141,
   "metadata": {},
   "outputs": [
    {
     "name": "stdout",
     "output_type": "stream",
     "text": [
      "[[4002   10]\n",
      " [ 551    4]]\n",
      "----\n",
      "              precision    recall  f1-score   support\n",
      "\n",
      "           0       0.88      1.00      0.93      4012\n",
      "           1       0.29      0.01      0.01       555\n",
      "\n",
      "    accuracy                           0.88      4567\n",
      "   macro avg       0.58      0.50      0.47      4567\n",
      "weighted avg       0.81      0.88      0.82      4567\n",
      "\n"
     ]
    }
   ],
   "source": [
    "show_stats(ytest, knn_def_preds_test)"
   ]
  },
  {
   "cell_type": "code",
   "execution_count": 142,
   "metadata": {
    "id": "222ZBiDy6Z1_"
   },
   "outputs": [],
   "source": [
    "# ваш вывод здесь\n",
    "# однозначно! все как по правилу, так и по логике - меньше порог -> больше захватываем, как искомых положительных, так \n",
    "# и всего остального - FP, как видите - очень высок"
   ]
  },
  {
   "cell_type": "markdown",
   "metadata": {
    "id": "zc1D7Hy8wvkR"
   },
   "source": [
    "А ещё, чтобы улучшить качество предсказания, можно подбирать значение гиперпараметра C у логистической регрессии. Для каждого значения C придётся подбирать свой порог, поэтому:  \n",
    "\n",
    "1. Обучите для значений C из диапазона [0.05, 0.15, 0.25, ...., 10.05] логистическую регрессию (на тренировочных данных).\n",
    "\n",
    "2. Для каждой из обученных моделей во внутреннем цикле подберите оптимальный порог (как в предыдущем задании) — на валидационных данных.\n",
    "\n",
    "\n",
    "\n",
    "В качестве результата выведите значение C и порога для модели, которая даёт наилучшие значения метрик (наибольший recall при ограничении на $precision \\geq 0.13$).\n",
    "\n",
    "Также напечатайте полученные метрики (матрицу ошибок, точность и полноту) для лучшей модели — на тестовых данных."
   ]
  },
  {
   "cell_type": "code",
   "execution_count": 143,
   "metadata": {},
   "outputs": [],
   "source": [
    "def sample_df3(df3, total_rows =  200000, neg_percent = 50, pos_percent = 50):\n",
    "    print( 'sample_df3 start')\n",
    "    df3_pos = df3[df3['TARGET'] == 1].sample(int(total_rows / 100 * pos_percent))\n",
    "    df3_neg = df3[df3['TARGET'] == 0].sample(int(total_rows / 100 * neg_percent))\n",
    "    df3_pos = df3_pos.reset_index()\n",
    "    df3_neg = df3_neg.reset_index()\n",
    "    df3_pos = df3_pos.drop('index', axis=1)\n",
    "    df3_neg = df3_neg.drop('index', axis=1)\n",
    "    df3 = pd.concat([df3_pos, df3_neg])\n",
    "    \n",
    "    print( 'sample_df3 end')\n",
    "    print('-')      \n",
    "    #print('-')      \n",
    "    #print('-') \n",
    "    \n",
    "    return df3"
   ]
  },
  {
   "cell_type": "code",
   "execution_count": 148,
   "metadata": {},
   "outputs": [],
   "source": [
    "scores = dict()\n",
    "\n",
    "\n",
    "\n",
    "\n",
    "for current_reg in np.arange(0.05, 1, 0.01): #(0.05, 5.06, 1.0):\n",
    "    max_recall = -1\n",
    "    best_precision = -1\n",
    "    best_thr = -1\n",
    "\n",
    "    logr_tuned_c = LogisticRegression(C=current_reg)\n",
    "    logr_tuned_c.fit(Xtrain, ytrain)\n",
    "\n",
    "\n",
    "    logr_tuned_c_probs_val = logr_tuned_c.predict_proba(Xval)\n",
    "\n",
    "    scores_interm = dict()\n",
    "\n",
    "    for threshold in np.arange(0.040, 1, 0.001):#(0.04, 1, 0.001):\n",
    "\n",
    "        # для каждого значения порога переведите вероятности в классы\n",
    "        preds_tuned_thr_val = (logr_tuned_c_probs_val[:,1:] > threshold).astype(int)\n",
    "\n",
    "        if precision_score(yval, preds_tuned_thr_val) >= 0.13:\n",
    "            # посчитайте метрики\n",
    "            scores_interm[str(threshold)] = {\n",
    "                'recall': recall_score(yval, preds_tuned_thr_val),\n",
    "                'precision': precision_score(yval, preds_tuned_thr_val),\n",
    "                'thr': threshold,\n",
    "            }\n",
    "    #     else:\n",
    "    #         print('precision score ', precision_score(yval, preds_tuned_thr_val), 'thr is ', threshold)\n",
    "\n",
    "\n",
    "    for key in scores_interm.keys():\n",
    "        if scores_interm[key]['recall'] > max_recall:\n",
    "#             winner_key = key\n",
    "            max_recall = scores_interm[key]['recall']\n",
    "            best_precision = scores_interm[key]['precision']\n",
    "            best_thr = scores_interm[key]['thr']\n",
    "\n",
    "    scores[str(current_reg)] =     {\n",
    "                'recall': max_recall,\n",
    "                'precision': best_precision,\n",
    "                'thr': best_thr,\n",
    "                'C': current_reg,\n",
    "            }\n",
    "#     scores_interm[winner_key]\n",
    "\n",
    "\n"
   ]
  },
  {
   "cell_type": "code",
   "execution_count": null,
   "metadata": {
    "id": "EhjmTEkhuT9S"
   },
   "outputs": [],
   "source": [
    "regs = []\n",
    "recalls = []\n",
    "thresholds = []\n",
    "precisions = []\n",
    "\n",
    "for reg in np.arange(0.001, 1, 0.01):\n",
    "\n",
    "    # обучите логистическую регрессию с C=reg\n",
    "\n",
    "    max_recall = -1\n",
    "    thr = -1\n",
    "    prec = -1\n",
    "\n",
    "    for threshold in np.arange(0.05, 0.25, 0.001):\n",
    "        # подберите оптимальный порог как в задании выше\n",
    "\n",
    "    recalls.append(max_recall)\n",
    "    thresholds.append(thr)\n",
    "    precisions.append(prec)\n",
    "    regs.append(C)"
   ]
  },
  {
   "cell_type": "code",
   "execution_count": 152,
   "metadata": {
    "id": "DZtXAIxi0Ksr"
   },
   "outputs": [
    {
     "data": {
      "text/plain": [
       "{'recall': 0.9575,\n",
       " 'precision': 0.1300509337860781,\n",
       " 'thr': 0.046000000000000006,\n",
       " 'C': 0.9900000000000002}"
      ]
     },
     "execution_count": 152,
     "metadata": {},
     "output_type": "execute_result"
    }
   ],
   "source": [
    "# выведите значения C, precision, recall, threshold для наилучшей по заданным условиям модели\n",
    "max_recall = -1\n",
    "for key in scores.keys():\n",
    "    if scores[key]['recall'] > max_recall:\n",
    "        winner_key = key\n",
    "scores[winner_key]\n",
    "        "
   ]
  },
  {
   "cell_type": "code",
   "execution_count": null,
   "metadata": {},
   "outputs": [],
   "source": [
    "# стоит отметить, что 'С=' как будто совсем не влияет - я уже по всякому попробовал - \n",
    "# должно быть где то ошибка, но я не могу ее найти\n",
    "# я так думаю в том числе потому что в первый раз я на 90% уверен, что разница все же \n",
    "# была - на тысячные процента, но была... или нет.. \n",
    "\n",
    "#update! \n",
    "\n",
    "# таки была!:) дефолтный рандом_стэйт 123 был \"походя\" поменян в первый раз на каноничный 42, при котором \n",
    "# \"С=\" дает хотя бы какие то разницы, а за одно и существенно больший recall - \"загребает\" в TP 95%  единичек против \n",
    "# 86% с rand_st 123"
   ]
  },
  {
   "cell_type": "code",
   "execution_count": 154,
   "metadata": {
    "id": "rQLQZ1bg4BGy"
   },
   "outputs": [
    {
     "name": "stdout",
     "output_type": "stream",
     "text": [
      "[[ 353 3659]\n",
      " [  10  545]]\n",
      "----\n",
      "              precision    recall  f1-score   support\n",
      "\n",
      "           0       0.97      0.09      0.16      4012\n",
      "           1       0.13      0.98      0.23       555\n",
      "\n",
      "    accuracy                           0.20      4567\n",
      "   macro avg       0.55      0.53      0.20      4567\n",
      "weighted avg       0.87      0.20      0.17      4567\n",
      "\n"
     ]
    }
   ],
   "source": [
    "# с помощью найденных C и threshold обучите модель на тренировочных данных, сделайте предсказание на тесте и по найденному порогу получите классы\n",
    "# напечатайте метрики\n",
    "\n",
    "logr_best_c = LogisticRegression(C=scores[winner_key]['C'])\n",
    "logr_best_c.fit(Xtrain, ytrain)\n",
    "\n",
    "\n",
    "logr_best_c_probs_test = logr_best_c.predict_proba(Xtest)\n",
    "\n",
    "\n",
    "\n",
    "preds_best_c_test = (logr_best_c_probs_test[:,1:] > scores[winner_key]['thr']).astype(int)\n",
    "\n",
    "show_stats(ytest, preds_best_c_test)\n",
    "\n",
    "\n",
    "\n"
   ]
  },
  {
   "cell_type": "code",
   "execution_count": 155,
   "metadata": {},
   "outputs": [
    {
     "data": {
      "text/plain": [
       "{'0.05': {'recall': 0.96,\n",
       "  'precision': 0.13016949152542373,\n",
       "  'thr': 0.046000000000000006,\n",
       "  'C': 0.05},\n",
       " '0.060000000000000005': {'recall': 0.955,\n",
       "  'precision': 0.1304199385455787,\n",
       "  'thr': 0.04700000000000001,\n",
       "  'C': 0.060000000000000005},\n",
       " '0.07': {'recall': 0.955,\n",
       "  'precision': 0.13050905363853776,\n",
       "  'thr': 0.04700000000000001,\n",
       "  'C': 0.07},\n",
       " '0.08000000000000002': {'recall': 0.955,\n",
       "  'precision': 0.13055365686944634,\n",
       "  'thr': 0.04700000000000001,\n",
       "  'C': 0.08000000000000002},\n",
       " '0.09000000000000001': {'recall': 0.955,\n",
       "  'precision': 0.13050905363853776,\n",
       "  'thr': 0.04700000000000001,\n",
       "  'C': 0.09000000000000001},\n",
       " '0.1': {'recall': 0.955,\n",
       "  'precision': 0.1305982905982906,\n",
       "  'thr': 0.04700000000000001,\n",
       "  'C': 0.1},\n",
       " '0.11000000000000001': {'recall': 0.955,\n",
       "  'precision': 0.1305982905982906,\n",
       "  'thr': 0.04700000000000001,\n",
       "  'C': 0.11000000000000001},\n",
       " '0.12000000000000001': {'recall': 0.955,\n",
       "  'precision': 0.1305982905982906,\n",
       "  'thr': 0.04700000000000001,\n",
       "  'C': 0.12000000000000001},\n",
       " '0.13': {'recall': 0.955,\n",
       "  'precision': 0.1305982905982906,\n",
       "  'thr': 0.04700000000000001,\n",
       "  'C': 0.13},\n",
       " '0.14': {'recall': 0.955,\n",
       "  'precision': 0.1305982905982906,\n",
       "  'thr': 0.04700000000000001,\n",
       "  'C': 0.14},\n",
       " '0.15000000000000002': {'recall': 0.955,\n",
       "  'precision': 0.1305982905982906,\n",
       "  'thr': 0.04700000000000001,\n",
       "  'C': 0.15000000000000002},\n",
       " '0.16000000000000003': {'recall': 0.955,\n",
       "  'precision': 0.1305982905982906,\n",
       "  'thr': 0.04700000000000001,\n",
       "  'C': 0.16000000000000003},\n",
       " '0.17000000000000004': {'recall': 0.955,\n",
       "  'precision': 0.1305982905982906,\n",
       "  'thr': 0.04700000000000001,\n",
       "  'C': 0.17000000000000004},\n",
       " '0.18000000000000005': {'recall': 0.955,\n",
       "  'precision': 0.1305982905982906,\n",
       "  'thr': 0.04700000000000001,\n",
       "  'C': 0.18000000000000005},\n",
       " '0.19': {'recall': 0.955,\n",
       "  'precision': 0.1305982905982906,\n",
       "  'thr': 0.04700000000000001,\n",
       "  'C': 0.19},\n",
       " '0.2': {'recall': 0.955,\n",
       "  'precision': 0.1305982905982906,\n",
       "  'thr': 0.04700000000000001,\n",
       "  'C': 0.2},\n",
       " '0.21000000000000002': {'recall': 0.955,\n",
       "  'precision': 0.1305982905982906,\n",
       "  'thr': 0.04700000000000001,\n",
       "  'C': 0.21000000000000002},\n",
       " '0.22000000000000003': {'recall': 0.955,\n",
       "  'precision': 0.13064295485636115,\n",
       "  'thr': 0.04700000000000001,\n",
       "  'C': 0.22000000000000003},\n",
       " '0.23000000000000004': {'recall': 0.955,\n",
       "  'precision': 0.13068764967499144,\n",
       "  'thr': 0.04700000000000001,\n",
       "  'C': 0.23000000000000004},\n",
       " '0.24000000000000005': {'recall': 0.9575,\n",
       "  'precision': 0.13000678886625933,\n",
       "  'thr': 0.046000000000000006,\n",
       "  'C': 0.24000000000000005},\n",
       " '0.25000000000000006': {'recall': 0.9575,\n",
       "  'precision': 0.13000678886625933,\n",
       "  'thr': 0.046000000000000006,\n",
       "  'C': 0.25000000000000006},\n",
       " '0.26000000000000006': {'recall': 0.9575,\n",
       "  'precision': 0.13000678886625933,\n",
       "  'thr': 0.046000000000000006,\n",
       "  'C': 0.26000000000000006},\n",
       " '0.27': {'recall': 0.9575,\n",
       "  'precision': 0.13000678886625933,\n",
       "  'thr': 0.046000000000000006,\n",
       "  'C': 0.27},\n",
       " '0.28': {'recall': 0.9575,\n",
       "  'precision': 0.13000678886625933,\n",
       "  'thr': 0.046000000000000006,\n",
       "  'C': 0.28},\n",
       " '0.29000000000000004': {'recall': 0.9575,\n",
       "  'precision': 0.13000678886625933,\n",
       "  'thr': 0.046000000000000006,\n",
       "  'C': 0.29000000000000004},\n",
       " '0.30000000000000004': {'recall': 0.9575,\n",
       "  'precision': 0.13000678886625933,\n",
       "  'thr': 0.046000000000000006,\n",
       "  'C': 0.30000000000000004},\n",
       " '0.31000000000000005': {'recall': 0.9575,\n",
       "  'precision': 0.13000678886625933,\n",
       "  'thr': 0.046000000000000006,\n",
       "  'C': 0.31000000000000005},\n",
       " '0.32000000000000006': {'recall': 0.9575,\n",
       "  'precision': 0.13000678886625933,\n",
       "  'thr': 0.046000000000000006,\n",
       "  'C': 0.32000000000000006},\n",
       " '0.33': {'recall': 0.9575,\n",
       "  'precision': 0.13000678886625933,\n",
       "  'thr': 0.046000000000000006,\n",
       "  'C': 0.33},\n",
       " '0.34': {'recall': 0.9575,\n",
       "  'precision': 0.13000678886625933,\n",
       "  'thr': 0.046000000000000006,\n",
       "  'C': 0.34},\n",
       " '0.35000000000000003': {'recall': 0.9575,\n",
       "  'precision': 0.13000678886625933,\n",
       "  'thr': 0.046000000000000006,\n",
       "  'C': 0.35000000000000003},\n",
       " '0.36000000000000004': {'recall': 0.9575,\n",
       "  'precision': 0.1300509337860781,\n",
       "  'thr': 0.046000000000000006,\n",
       "  'C': 0.36000000000000004},\n",
       " '0.37000000000000005': {'recall': 0.9575,\n",
       "  'precision': 0.1300509337860781,\n",
       "  'thr': 0.046000000000000006,\n",
       "  'C': 0.37000000000000005},\n",
       " '0.38000000000000006': {'recall': 0.9575,\n",
       "  'precision': 0.1300509337860781,\n",
       "  'thr': 0.046000000000000006,\n",
       "  'C': 0.38000000000000006},\n",
       " '0.39000000000000007': {'recall': 0.9575,\n",
       "  'precision': 0.1300509337860781,\n",
       "  'thr': 0.046000000000000006,\n",
       "  'C': 0.39000000000000007},\n",
       " '0.4000000000000001': {'recall': 0.9575,\n",
       "  'precision': 0.1300509337860781,\n",
       "  'thr': 0.046000000000000006,\n",
       "  'C': 0.4000000000000001},\n",
       " '0.4100000000000001': {'recall': 0.9575,\n",
       "  'precision': 0.1300509337860781,\n",
       "  'thr': 0.046000000000000006,\n",
       "  'C': 0.4100000000000001},\n",
       " '0.42000000000000004': {'recall': 0.9575,\n",
       "  'precision': 0.1300509337860781,\n",
       "  'thr': 0.046000000000000006,\n",
       "  'C': 0.42000000000000004},\n",
       " '0.43000000000000005': {'recall': 0.9575,\n",
       "  'precision': 0.1300509337860781,\n",
       "  'thr': 0.046000000000000006,\n",
       "  'C': 0.43000000000000005},\n",
       " '0.44000000000000006': {'recall': 0.9575,\n",
       "  'precision': 0.1300509337860781,\n",
       "  'thr': 0.046000000000000006,\n",
       "  'C': 0.44000000000000006},\n",
       " '0.45000000000000007': {'recall': 0.9575,\n",
       "  'precision': 0.1300509337860781,\n",
       "  'thr': 0.046000000000000006,\n",
       "  'C': 0.45000000000000007},\n",
       " '0.4600000000000001': {'recall': 0.9575,\n",
       "  'precision': 0.1300509337860781,\n",
       "  'thr': 0.046000000000000006,\n",
       "  'C': 0.4600000000000001},\n",
       " '0.4700000000000001': {'recall': 0.9575,\n",
       "  'precision': 0.1300509337860781,\n",
       "  'thr': 0.046000000000000006,\n",
       "  'C': 0.4700000000000001},\n",
       " '0.4800000000000001': {'recall': 0.9575,\n",
       "  'precision': 0.1300509337860781,\n",
       "  'thr': 0.046000000000000006,\n",
       "  'C': 0.4800000000000001},\n",
       " '0.49000000000000005': {'recall': 0.9575,\n",
       "  'precision': 0.1300509337860781,\n",
       "  'thr': 0.046000000000000006,\n",
       "  'C': 0.49000000000000005},\n",
       " '0.5000000000000001': {'recall': 0.9575,\n",
       "  'precision': 0.1300509337860781,\n",
       "  'thr': 0.046000000000000006,\n",
       "  'C': 0.5000000000000001},\n",
       " '0.5100000000000001': {'recall': 0.9575,\n",
       "  'precision': 0.1300509337860781,\n",
       "  'thr': 0.046000000000000006,\n",
       "  'C': 0.5100000000000001},\n",
       " '0.5200000000000001': {'recall': 0.9575,\n",
       "  'precision': 0.1300509337860781,\n",
       "  'thr': 0.046000000000000006,\n",
       "  'C': 0.5200000000000001},\n",
       " '0.5300000000000001': {'recall': 0.9575,\n",
       "  'precision': 0.1300509337860781,\n",
       "  'thr': 0.046000000000000006,\n",
       "  'C': 0.5300000000000001},\n",
       " '0.5400000000000001': {'recall': 0.9575,\n",
       "  'precision': 0.1300509337860781,\n",
       "  'thr': 0.046000000000000006,\n",
       "  'C': 0.5400000000000001},\n",
       " '0.5500000000000002': {'recall': 0.9575,\n",
       "  'precision': 0.1300509337860781,\n",
       "  'thr': 0.046000000000000006,\n",
       "  'C': 0.5500000000000002},\n",
       " '0.5600000000000002': {'recall': 0.9575,\n",
       "  'precision': 0.1300509337860781,\n",
       "  'thr': 0.046000000000000006,\n",
       "  'C': 0.5600000000000002},\n",
       " '0.5700000000000002': {'recall': 0.9575,\n",
       "  'precision': 0.1300509337860781,\n",
       "  'thr': 0.046000000000000006,\n",
       "  'C': 0.5700000000000002},\n",
       " '0.5800000000000002': {'recall': 0.9575,\n",
       "  'precision': 0.1300509337860781,\n",
       "  'thr': 0.046000000000000006,\n",
       "  'C': 0.5800000000000002},\n",
       " '0.5900000000000002': {'recall': 0.9575,\n",
       "  'precision': 0.1300509337860781,\n",
       "  'thr': 0.046000000000000006,\n",
       "  'C': 0.5900000000000002},\n",
       " '0.6000000000000002': {'recall': 0.9575,\n",
       "  'precision': 0.1300509337860781,\n",
       "  'thr': 0.046000000000000006,\n",
       "  'C': 0.6000000000000002},\n",
       " '0.6100000000000001': {'recall': 0.9575,\n",
       "  'precision': 0.1300509337860781,\n",
       "  'thr': 0.046000000000000006,\n",
       "  'C': 0.6100000000000001},\n",
       " '0.6200000000000001': {'recall': 0.9575,\n",
       "  'precision': 0.1300509337860781,\n",
       "  'thr': 0.046000000000000006,\n",
       "  'C': 0.6200000000000001},\n",
       " '0.6300000000000001': {'recall': 0.9575,\n",
       "  'precision': 0.1300509337860781,\n",
       "  'thr': 0.046000000000000006,\n",
       "  'C': 0.6300000000000001},\n",
       " '0.6400000000000001': {'recall': 0.9575,\n",
       "  'precision': 0.1300509337860781,\n",
       "  'thr': 0.046000000000000006,\n",
       "  'C': 0.6400000000000001},\n",
       " '0.6500000000000001': {'recall': 0.9575,\n",
       "  'precision': 0.1300509337860781,\n",
       "  'thr': 0.046000000000000006,\n",
       "  'C': 0.6500000000000001},\n",
       " '0.6600000000000001': {'recall': 0.9575,\n",
       "  'precision': 0.1300509337860781,\n",
       "  'thr': 0.046000000000000006,\n",
       "  'C': 0.6600000000000001},\n",
       " '0.6700000000000002': {'recall': 0.9575,\n",
       "  'precision': 0.1300509337860781,\n",
       "  'thr': 0.046000000000000006,\n",
       "  'C': 0.6700000000000002},\n",
       " '0.6800000000000002': {'recall': 0.9575,\n",
       "  'precision': 0.1300509337860781,\n",
       "  'thr': 0.046000000000000006,\n",
       "  'C': 0.6800000000000002},\n",
       " '0.6900000000000002': {'recall': 0.9575,\n",
       "  'precision': 0.1300509337860781,\n",
       "  'thr': 0.046000000000000006,\n",
       "  'C': 0.6900000000000002},\n",
       " '0.7000000000000002': {'recall': 0.9575,\n",
       "  'precision': 0.1300509337860781,\n",
       "  'thr': 0.046000000000000006,\n",
       "  'C': 0.7000000000000002},\n",
       " '0.7100000000000002': {'recall': 0.9575,\n",
       "  'precision': 0.1300509337860781,\n",
       "  'thr': 0.046000000000000006,\n",
       "  'C': 0.7100000000000002},\n",
       " '0.7200000000000002': {'recall': 0.9575,\n",
       "  'precision': 0.1300509337860781,\n",
       "  'thr': 0.046000000000000006,\n",
       "  'C': 0.7200000000000002},\n",
       " '0.7300000000000002': {'recall': 0.9575,\n",
       "  'precision': 0.1300509337860781,\n",
       "  'thr': 0.046000000000000006,\n",
       "  'C': 0.7300000000000002},\n",
       " '0.7400000000000002': {'recall': 0.9575,\n",
       "  'precision': 0.1300509337860781,\n",
       "  'thr': 0.046000000000000006,\n",
       "  'C': 0.7400000000000002},\n",
       " '0.7500000000000002': {'recall': 0.9575,\n",
       "  'precision': 0.1300509337860781,\n",
       "  'thr': 0.046000000000000006,\n",
       "  'C': 0.7500000000000002},\n",
       " '0.7600000000000002': {'recall': 0.9575,\n",
       "  'precision': 0.1300509337860781,\n",
       "  'thr': 0.046000000000000006,\n",
       "  'C': 0.7600000000000002},\n",
       " '0.7700000000000002': {'recall': 0.9575,\n",
       "  'precision': 0.1300509337860781,\n",
       "  'thr': 0.046000000000000006,\n",
       "  'C': 0.7700000000000002},\n",
       " '0.7800000000000001': {'recall': 0.9575,\n",
       "  'precision': 0.1300509337860781,\n",
       "  'thr': 0.046000000000000006,\n",
       "  'C': 0.7800000000000001},\n",
       " '0.7900000000000001': {'recall': 0.9575,\n",
       "  'precision': 0.1300509337860781,\n",
       "  'thr': 0.046000000000000006,\n",
       "  'C': 0.7900000000000001},\n",
       " '0.8000000000000002': {'recall': 0.9575,\n",
       "  'precision': 0.1300509337860781,\n",
       "  'thr': 0.046000000000000006,\n",
       "  'C': 0.8000000000000002},\n",
       " '0.8100000000000002': {'recall': 0.9575,\n",
       "  'precision': 0.1300509337860781,\n",
       "  'thr': 0.046000000000000006,\n",
       "  'C': 0.8100000000000002},\n",
       " '0.8200000000000002': {'recall': 0.9575,\n",
       "  'precision': 0.1300509337860781,\n",
       "  'thr': 0.046000000000000006,\n",
       "  'C': 0.8200000000000002},\n",
       " '0.8300000000000002': {'recall': 0.9575,\n",
       "  'precision': 0.1300509337860781,\n",
       "  'thr': 0.046000000000000006,\n",
       "  'C': 0.8300000000000002},\n",
       " '0.8400000000000002': {'recall': 0.9575,\n",
       "  'precision': 0.1300509337860781,\n",
       "  'thr': 0.046000000000000006,\n",
       "  'C': 0.8400000000000002},\n",
       " '0.8500000000000002': {'recall': 0.9575,\n",
       "  'precision': 0.1300509337860781,\n",
       "  'thr': 0.046000000000000006,\n",
       "  'C': 0.8500000000000002},\n",
       " '0.8600000000000002': {'recall': 0.9575,\n",
       "  'precision': 0.1300509337860781,\n",
       "  'thr': 0.046000000000000006,\n",
       "  'C': 0.8600000000000002},\n",
       " '0.8700000000000002': {'recall': 0.9575,\n",
       "  'precision': 0.1300509337860781,\n",
       "  'thr': 0.046000000000000006,\n",
       "  'C': 0.8700000000000002},\n",
       " '0.8800000000000002': {'recall': 0.9575,\n",
       "  'precision': 0.1300509337860781,\n",
       "  'thr': 0.046000000000000006,\n",
       "  'C': 0.8800000000000002},\n",
       " '0.8900000000000002': {'recall': 0.9575,\n",
       "  'precision': 0.1300509337860781,\n",
       "  'thr': 0.046000000000000006,\n",
       "  'C': 0.8900000000000002},\n",
       " '0.9000000000000002': {'recall': 0.9575,\n",
       "  'precision': 0.1300509337860781,\n",
       "  'thr': 0.046000000000000006,\n",
       "  'C': 0.9000000000000002},\n",
       " '0.9100000000000003': {'recall': 0.9575,\n",
       "  'precision': 0.1300509337860781,\n",
       "  'thr': 0.046000000000000006,\n",
       "  'C': 0.9100000000000003},\n",
       " '0.9200000000000003': {'recall': 0.9575,\n",
       "  'precision': 0.1300509337860781,\n",
       "  'thr': 0.046000000000000006,\n",
       "  'C': 0.9200000000000003},\n",
       " '0.9300000000000002': {'recall': 0.9575,\n",
       "  'precision': 0.1300509337860781,\n",
       "  'thr': 0.046000000000000006,\n",
       "  'C': 0.9300000000000002},\n",
       " '0.9400000000000002': {'recall': 0.9575,\n",
       "  'precision': 0.1300509337860781,\n",
       "  'thr': 0.046000000000000006,\n",
       "  'C': 0.9400000000000002},\n",
       " '0.9500000000000002': {'recall': 0.9575,\n",
       "  'precision': 0.1300509337860781,\n",
       "  'thr': 0.046000000000000006,\n",
       "  'C': 0.9500000000000002},\n",
       " '0.9600000000000002': {'recall': 0.9575,\n",
       "  'precision': 0.1300509337860781,\n",
       "  'thr': 0.046000000000000006,\n",
       "  'C': 0.9600000000000002},\n",
       " '0.9700000000000002': {'recall': 0.9575,\n",
       "  'precision': 0.1300509337860781,\n",
       "  'thr': 0.046000000000000006,\n",
       "  'C': 0.9700000000000002},\n",
       " '0.9800000000000002': {'recall': 0.9575,\n",
       "  'precision': 0.1300509337860781,\n",
       "  'thr': 0.046000000000000006,\n",
       "  'C': 0.9800000000000002},\n",
       " '0.9900000000000002': {'recall': 0.9575,\n",
       "  'precision': 0.1300509337860781,\n",
       "  'thr': 0.046000000000000006,\n",
       "  'C': 0.9900000000000002}}"
      ]
     },
     "execution_count": 155,
     "metadata": {},
     "output_type": "execute_result"
    }
   ],
   "source": [
    "scores"
   ]
  },
  {
   "cell_type": "markdown",
   "metadata": {
    "id": "fwpx_UVS2DK_"
   },
   "source": [
    "Влияет ли изменение гиперпараметра C на качество модели (и, соответственно, метрики) в этой задаче?"
   ]
  },
  {
   "cell_type": "code",
   "execution_count": null,
   "metadata": {
    "id": "FzTsUr7p7Eu-"
   },
   "outputs": [],
   "source": [
    "# ваш вывод здесь\n",
    "# ну, честно говоря, как то не очень:) а вообще, конечно, влияет - но как вы и говорили - сотые-десятые  процента\n"
   ]
  },
  {
   "cell_type": "markdown",
   "metadata": {
    "id": "BaCqlDx74pns"
   },
   "source": [
    "Ответьте развёрнуто на следующие вопросы:\n",
    "\n",
    "* Удалось ли при помощи логистической регрессии и подбора порога превзойти качество метода ближайших соседей в этой задаче? \n",
    "\n",
    "* Смогли ли мы при помощи этой модели получить высокий recall при ограничениях, поставленных заказчиком?\n"
   ]
  },
  {
   "cell_type": "code",
   "execution_count": 101,
   "metadata": {
    "id": "upznWo7n4o0F"
   },
   "outputs": [],
   "source": [
    "# ваш вывод здесь\n",
    "# 1) однозначно - в этой задаче регрессия+манипуляции порогом дают лучшие результаты, нежели \"соседи\"\n",
    "# 2) да, смогли - но только при условии манипуляции порогом - что в принципе, наверное, \n",
    "# не очень \"страшно\" и все же немного странно - отчего такой, как мне кажется, фундаментальный \n",
    "# \"рычаг управления\" поведением модели не вынесен в дефолтные параметры модели и им приходтся \n",
    "# пользоваться через костыли predict_proba+еще_два_шага"
   ]
  }
 ],
 "metadata": {
  "colab": {
   "collapsed_sections": [],
   "provenance": []
  },
  "kernelspec": {
   "display_name": "Python 3 (ipykernel)",
   "language": "python",
   "name": "python3"
  },
  "language_info": {
   "codemirror_mode": {
    "name": "ipython",
    "version": 3
   },
   "file_extension": ".py",
   "mimetype": "text/x-python",
   "name": "python",
   "nbconvert_exporter": "python",
   "pygments_lexer": "ipython3",
   "version": "3.11.5"
  }
 },
 "nbformat": 4,
 "nbformat_minor": 1
}
