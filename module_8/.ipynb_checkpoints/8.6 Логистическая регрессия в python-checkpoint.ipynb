{
 "cells": [
  {
   "cell_type": "markdown",
   "metadata": {
    "id": "9VDkBu75nCLq"
   },
   "source": [
    "Разберём, как пользоваться логистической регрессией *«из коробки»*, то есть из библиотеки sklearn.\n",
    "\n",
    "В качестве примера используем встроенный в sklearn датасет для решения задачи бинарной классификации — load_breast_cancer.\n",
    "\n",
    "В датасете содержатся числовые признаки женщин (результаты исследований, биологические характеристики), а целевая переменная (1 или 0) показывает, больна ли пациентка раком груди или нет.\n",
    "\n",
    "### Цели ноутбука\n",
    "\n",
    "*  Обучить логистическую регрессию на представленном датасете.\n",
    "*  Подобрать константу регуляризации C для логистической регрессии.\n",
    "*  Оценить качество полученной модели и сравнить с методом ближайших соседей."
   ]
  },
  {
   "cell_type": "code",
   "execution_count": 2,
   "metadata": {
    "id": "wD3LYTXnhtwZ"
   },
   "outputs": [],
   "source": [
    "import warnings\n",
    "warnings.filterwarnings('ignore')\n",
    "\n",
    "import numpy as np\n",
    "from sklearn.datasets import load_breast_cancer\n",
    "from sklearn.linear_model import LogisticRegression"
   ]
  },
  {
   "cell_type": "code",
   "execution_count": 4,
   "metadata": {
    "colab": {
     "base_uri": "https://localhost:8080/"
    },
    "id": "HWwIJ2AQhtwb",
    "outputId": "16b7ad41-6d59-414e-88c4-6a9458eb3433"
   },
   "outputs": [
    {
     "data": {
      "text/plain": [
       "((569, 30), (569,))"
      ]
     },
     "execution_count": 4,
     "metadata": {},
     "output_type": "execute_result"
    }
   ],
   "source": [
    "data = load_breast_cancer()\n",
    "\n",
    "X = data['data']\n",
    "y = data['target']\n",
    "\n",
    "X.shape, y.shape"
   ]
  },
  {
   "cell_type": "code",
   "execution_count": 5,
   "metadata": {},
   "outputs": [
    {
     "data": {
      "text/plain": [
       "array([[1.799e+01, 1.038e+01, 1.228e+02, ..., 2.654e-01, 4.601e-01,\n",
       "        1.189e-01],\n",
       "       [2.057e+01, 1.777e+01, 1.329e+02, ..., 1.860e-01, 2.750e-01,\n",
       "        8.902e-02],\n",
       "       [1.969e+01, 2.125e+01, 1.300e+02, ..., 2.430e-01, 3.613e-01,\n",
       "        8.758e-02],\n",
       "       ...,\n",
       "       [1.660e+01, 2.808e+01, 1.083e+02, ..., 1.418e-01, 2.218e-01,\n",
       "        7.820e-02],\n",
       "       [2.060e+01, 2.933e+01, 1.401e+02, ..., 2.650e-01, 4.087e-01,\n",
       "        1.240e-01],\n",
       "       [7.760e+00, 2.454e+01, 4.792e+01, ..., 0.000e+00, 2.871e-01,\n",
       "        7.039e-02]])"
      ]
     },
     "execution_count": 5,
     "metadata": {},
     "output_type": "execute_result"
    }
   ],
   "source": [
    "X"
   ]
  },
  {
   "cell_type": "markdown",
   "metadata": {
    "id": "LzXLHJNGmNg6"
   },
   "source": [
    "Проверим, сбалансирована ли выборка.\n",
    "\n",
    "> Блок с отступами\n",
    "\n"
   ]
  },
  {
   "cell_type": "code",
   "execution_count": 6,
   "metadata": {
    "colab": {
     "base_uri": "https://localhost:8080/"
    },
    "id": "NB4xFH1LiiSh",
    "outputId": "e66dd9aa-2900-4cf4-a549-5d3e9145b6f5"
   },
   "outputs": [
    {
     "data": {
      "text/plain": [
       "(212, 357)"
      ]
     },
     "execution_count": 6,
     "metadata": {},
     "output_type": "execute_result"
    }
   ],
   "source": [
    "len(y[y == 0]), len(y[y == 1])"
   ]
  },
  {
   "cell_type": "markdown",
   "metadata": {
    "id": "6EFYuIgSmRAv"
   },
   "source": [
    "Баланса классов нет, но и перекос не такой сильный.\n",
    "\n",
    "---\n",
    "\n"
   ]
  },
  {
   "cell_type": "markdown",
   "metadata": {
    "id": "jk6JotAMhtwe"
   },
   "source": [
    "Для решения этой задачи будем использовать **линейную модель — логистическую регрессию**.\n",
    "\n",
    "Для начала разобъём данные на train и test (test — 20% от всех данных)."
   ]
  },
  {
   "cell_type": "code",
   "execution_count": 5,
   "metadata": {
    "id": "O4IcPGEOhtwe"
   },
   "outputs": [],
   "source": [
    "from sklearn.metrics import accuracy_score\n",
    "from sklearn.model_selection import train_test_split\n",
    "\n",
    "X_train, X_test, y_train, y_test = train_test_split(X, y, test_size=0.2, random_state=42)"
   ]
  },
  {
   "cell_type": "markdown",
   "metadata": {
    "id": "jjPL8ZlJhtwf"
   },
   "source": [
    "Обучим логистическую регрессию на train и выведем качество (accuracy) на train и test."
   ]
  },
  {
   "cell_type": "code",
   "execution_count": 8,
   "metadata": {
    "colab": {
     "base_uri": "https://localhost:8080/"
    },
    "id": "mmOb1h0Chtwf",
    "outputId": "c46126ae-670e-46a4-b37c-e39e49d44824"
   },
   "outputs": [
    {
     "data": {
      "text/plain": [
       "0.956140350877193"
      ]
     },
     "execution_count": 8,
     "metadata": {},
     "output_type": "execute_result"
    }
   ],
   "source": [
    "logreg = LogisticRegression()\n",
    "logreg.fit(X_train, y_train)\n",
    "\n",
    "predictions = logreg.predict(X_test)\n",
    "accuracy_score(y_test, predictions)"
   ]
  },
  {
   "cell_type": "markdown",
   "metadata": {
    "id": "90VpLk2MjSUn"
   },
   "source": [
    "Посмотрим на предсказания модели."
   ]
  },
  {
   "cell_type": "code",
   "execution_count": 9,
   "metadata": {
    "colab": {
     "base_uri": "https://localhost:8080/"
    },
    "id": "QCnk94hwjUy7",
    "outputId": "5e9d485a-47bf-43b0-e651-576f5d6db1e1"
   },
   "outputs": [
    {
     "data": {
      "text/plain": [
       "array([1, 0, 0, 1, 1])"
      ]
     },
     "execution_count": 9,
     "metadata": {},
     "output_type": "execute_result"
    }
   ],
   "source": [
    "predictions[:5]"
   ]
  },
  {
   "cell_type": "markdown",
   "metadata": {
    "id": "eIExl6nvjXP8"
   },
   "source": [
    "Как мы и ожидали, это классы.\n",
    "\n",
    "Также можно рассмотреть предсказанные логистической регрессией вероятности."
   ]
  },
  {
   "cell_type": "code",
   "execution_count": 10,
   "metadata": {
    "colab": {
     "base_uri": "https://localhost:8080/"
    },
    "id": "RDzdg26NjcBu",
    "outputId": "3bb42a48-9fd5-4cc4-a292-83b9bc6ad986"
   },
   "outputs": [
    {
     "data": {
      "text/plain": [
       "array([[0.203, 0.797],\n",
       "       [1.   , 0.   ],\n",
       "       [0.998, 0.002],\n",
       "       [0.006, 0.994],\n",
       "       [0.002, 0.998]])"
      ]
     },
     "execution_count": 10,
     "metadata": {},
     "output_type": "execute_result"
    }
   ],
   "source": [
    "probs = logreg.predict_proba(X_test)\n",
    "probs[:5].round(3)"
   ]
  },
  {
   "cell_type": "markdown",
   "metadata": {
    "id": "rfvP9ob2jlhM"
   },
   "source": [
    "Модель выдаёт две вероятности для каждого объекта: первое число — вероятность класса 0, вторая — вероятность класса 1. Можно проверить, что сумма вероятностей равна 1."
   ]
  },
  {
   "cell_type": "markdown",
   "metadata": {
    "id": "jii93n0xhtwg"
   },
   "source": [
    "Мы получили высокую точность модели.\n",
    "\n",
    "Посмотрим, можно ли улучшить её качество **подбором гиперпараметров**. Гиперпараметр логистической регресси — C. Подберём его. \n",
    "\n",
    "*  Гиперпараметр С — это величина, обратная константе регуляризации. Чем меньше значение С, тем сильнее регуляризация. \n",
    "* Регуляризация — это подход для снижения переобучения модели при помощи уменьшения нормы вектора весов."
   ]
  },
  {
   "cell_type": "markdown",
   "metadata": {
    "id": "v1RHC1xcGRv2"
   },
   "source": [
    "Функция потерь с регуляризацией для логистической регрессии выглядит так:\n",
    "$Q(w)=-(\\sum\\limits_{i=1}^N y_i\\cdot log(\\hat{y_i}) + (1-y_i)\\cdot log(1-\\hat{y_i}))+\\frac1C ||w||$\n",
    "\n",
    "$||w||$ — норма вектора $w$. По умолчанию Евклидова норма, но её можно изменять — за это отвечает гиперпараметр *penalty* у модели."
   ]
  },
  {
   "cell_type": "code",
   "execution_count": 11,
   "metadata": {
    "id": "DlQPhoDIhtwh",
    "scrolled": true,
    "tags": []
   },
   "outputs": [],
   "source": [
    "from sklearn.model_selection import StratifiedKFold, cross_val_score"
   ]
  },
  {
   "cell_type": "code",
   "execution_count": 12,
   "metadata": {
    "id": "f7SCmvt4KeJw",
    "outputId": "03f7bcce-ad26-4b67-a175-e82b426a47b6",
    "tags": []
   },
   "outputs": [
    {
     "name": "stdout",
     "output_type": "stream",
     "text": [
      "best score: 0.9582417582417582\n",
      "best params: 7.4\n"
     ]
    }
   ],
   "source": [
    "cv = StratifiedKFold(n_splits=5)\n",
    "best_score = -1\n",
    "\n",
    "for C in np.arange(0.1, 10.1, 0.1):\n",
    "    model = LogisticRegression(\n",
    "        C=C,  # Параметр регуляризации\n",
    "        random_state=42,  # Фиксируем случайность\n",
    "    )\n",
    "    score = cross_val_score(model, X_train, y_train, scoring='accuracy', cv=cv).mean()\n",
    "    if score > best_score:\n",
    "        best_score = score\n",
    "        best_C = C\n",
    "\n",
    "print('best score:', best_score)\n",
    "print('best params:', best_C)"
   ]
  },
  {
   "cell_type": "markdown",
   "metadata": {
    "id": "ni4SJjRvhtwh"
   },
   "source": [
    "Посмотрим, помог ли подбор гиперпараметра C улучшить качество предсказания на тестовых данных."
   ]
  },
  {
   "cell_type": "code",
   "execution_count": 14,
   "metadata": {
    "colab": {
     "base_uri": "https://localhost:8080/"
    },
    "id": "bx7rAT6AlzmA",
    "outputId": "0d884772-6daa-49d6-a102-dcd9b88fad06"
   },
   "outputs": [
    {
     "data": {
      "text/plain": [
       "0.9649122807017544"
      ]
     },
     "execution_count": 14,
     "metadata": {},
     "output_type": "execute_result"
    }
   ],
   "source": [
    "logreg_final = LogisticRegression(C=best_C)\n",
    "logreg_final.fit(X_train, y_train)\n",
    "\n",
    "predictions = logreg_final.predict(X_test)\n",
    "\n",
    "accuracy_score(y_test, predictions)"
   ]
  },
  {
   "cell_type": "markdown",
   "metadata": {
    "id": "O_QXixZ7mhp7"
   },
   "source": [
    "С помощью подбора гиперпараметра С удалось улучшить качество предсказания.\n",
    "\n",
    "Модель логистической регрессии из sklearn имеет и другие настраиваемые гиперпараметры (чуть менее важные, чем С). Их тоже можно подбирать для улучшения качества предсказания."
   ]
  },
  {
   "cell_type": "code",
   "execution_count": 1,
   "metadata": {
    "id": "cCm1lYw_mblU",
    "scrolled": true,
    "tags": []
   },
   "outputs": [
    {
     "name": "stdout",
     "output_type": "stream",
     "text": [
      "Object `LogisticRegression` not found.\n"
     ]
    }
   ],
   "source": [
    "?LogisticRegression"
   ]
  },
  {
   "cell_type": "markdown",
   "metadata": {
    "id": "GFH2US3bbBNq"
   },
   "source": [
    "Попробуем применить метод ближайших соседей для решения поставленной задачи."
   ]
  },
  {
   "cell_type": "code",
   "execution_count": 16,
   "metadata": {
    "id": "ZeCL5F_LKeJx"
   },
   "outputs": [],
   "source": [
    "from sklearn.neighbors import KNeighborsClassifier"
   ]
  },
  {
   "cell_type": "code",
   "execution_count": 17,
   "metadata": {
    "id": "TWDlWnKQa80N",
    "outputId": "9f225b22-3bea-4585-9685-b7c24828e197"
   },
   "outputs": [
    {
     "data": {
      "text/plain": [
       "0.956140350877193"
      ]
     },
     "execution_count": 17,
     "metadata": {},
     "output_type": "execute_result"
    }
   ],
   "source": [
    "knn = KNeighborsClassifier()\n",
    "knn.fit(X_train, y_train)\n",
    "\n",
    "predictions = knn.predict(X_test)\n",
    "\n",
    "accuracy_score(y_test, predictions)"
   ]
  },
  {
   "cell_type": "markdown",
   "metadata": {
    "id": "C1upSJ-7D0ti"
   },
   "source": [
    "С помощью GridSearchCV подберём оптимальное число соседей, а затем оценим результат при обучении на всей тренировочной выборке.\n"
   ]
  },
  {
   "cell_type": "code",
   "execution_count": 18,
   "metadata": {
    "colab": {
     "base_uri": "https://localhost:8080/"
    },
    "id": "ffdb8sIBbXZU",
    "outputId": "a1eea575-7241-4458-c8e3-5cf57f7e563b"
   },
   "outputs": [
    {
     "name": "stdout",
     "output_type": "stream",
     "text": [
      "best score: 0.9274725274725274\n",
      "best params: 9\n"
     ]
    }
   ],
   "source": [
    "cv = StratifiedKFold(n_splits=5)\n",
    "best_score = -1\n",
    "\n",
    "for k in np.arange(1, 22):\n",
    "    model = KNeighborsClassifier(\n",
    "        n_neighbors = k  # Число соседей\n",
    "    )\n",
    "    score = cross_val_score(model, X_train, y_train, scoring='accuracy', cv=cv).mean()\n",
    "    if score > best_score:\n",
    "        best_score = score\n",
    "        best_k = k\n",
    "\n",
    "print('best score:', best_score)\n",
    "print('best params:', best_k)"
   ]
  },
  {
   "cell_type": "code",
   "execution_count": 19,
   "metadata": {
    "colab": {
     "base_uri": "https://localhost:8080/"
    },
    "id": "705U0TocDRd3",
    "outputId": "759174d6-4c03-4b3b-9f59-862e42ec22aa"
   },
   "outputs": [
    {
     "data": {
      "text/plain": [
       "0.956140350877193"
      ]
     },
     "execution_count": 19,
     "metadata": {},
     "output_type": "execute_result"
    }
   ],
   "source": [
    "knn_final = KNeighborsClassifier(n_neighbors=best_k)\n",
    "knn_final.fit(X_train, y_train)\n",
    "\n",
    "predictions = knn_final.predict(X_test)\n",
    "accuracy_score(y_test, predictions)"
   ]
  },
  {
   "cell_type": "markdown",
   "metadata": {
    "id": "rn5t-ilRECPF"
   },
   "source": [
    "В этой задаче логистическая регрессия работает лучше метода ближайших соседей даже с параметрами по умолчанию. Подбор числа соседей не улучшает работу метрического алгоритма.\n",
    "\n",
    "В других задачах метод ближайших соседей может действовать успешно, поэтому не стоит полностью отказываться от него."
   ]
  }
 ],
 "metadata": {
  "colab": {
   "provenance": []
  },
  "kernelspec": {
   "display_name": "Python 3 (ipykernel)",
   "language": "python",
   "name": "python3"
  },
  "language_info": {
   "codemirror_mode": {
    "name": "ipython",
    "version": 3
   },
   "file_extension": ".py",
   "mimetype": "text/x-python",
   "name": "python",
   "nbconvert_exporter": "python",
   "pygments_lexer": "ipython3",
   "version": "3.11.5"
  }
 },
 "nbformat": 4,
 "nbformat_minor": 1
}
