{
 "cells": [
  {
   "cell_type": "code",
   "execution_count": 1,
   "id": "2472554a",
   "metadata": {},
   "outputs": [],
   "source": [
    "import numpy as np"
   ]
  },
  {
   "cell_type": "code",
   "execution_count": 2,
   "id": "29255d6a",
   "metadata": {},
   "outputs": [],
   "source": [
    "a = np.array([122320,\n",
    "52000,\n",
    "57200,\n",
    "45600,\n",
    "87880,\n",
    "21800,\n",
    "31630,\n",
    "45680,\n",
    "51700,\n",
    "110800,\n",
    "54600,\n",
    "104800,\n",
    "27050,\n",
    "53600,\n",
    "88300,\n",
    "91200,\n",
    "56200,\n",
    "43800,\n",
    "36600,\n",
    "38500,\n",
    "111900,\n",
    "9500,\n",
    "19200,\n",
    "])\n"
   ]
  },
  {
   "cell_type": "code",
   "execution_count": 3,
   "id": "3c8c7781",
   "metadata": {},
   "outputs": [
    {
     "data": {
      "text/plain": [
       "array([122320,  52000,  57200,  45600,  87880,  21800,  31630,  45680,\n",
       "        51700, 110800,  54600, 104800,  27050,  53600,  88300,  91200,\n",
       "        56200,  43800,  36600,  38500, 111900,   9500,  19200])"
      ]
     },
     "execution_count": 3,
     "metadata": {},
     "output_type": "execute_result"
    }
   ],
   "source": [
    "a"
   ]
  },
  {
   "cell_type": "code",
   "execution_count": null,
   "id": "3ac97109",
   "metadata": {},
   "outputs": [],
   "source": []
  },
  {
   "cell_type": "code",
   "execution_count": null,
   "id": "48bea445",
   "metadata": {},
   "outputs": [],
   "source": []
  },
  {
   "cell_type": "code",
   "execution_count": null,
   "id": "a09e24c0",
   "metadata": {},
   "outputs": [],
   "source": []
  }
 ],
 "metadata": {
  "kernelspec": {
   "display_name": "Python 3 (ipykernel)",
   "language": "python",
   "name": "python3"
  },
  "language_info": {
   "codemirror_mode": {
    "name": "ipython",
    "version": 3
   },
   "file_extension": ".py",
   "mimetype": "text/x-python",
   "name": "python",
   "nbconvert_exporter": "python",
   "pygments_lexer": "ipython3",
   "version": "3.10.9"
  }
 },
 "nbformat": 4,
 "nbformat_minor": 5
}
