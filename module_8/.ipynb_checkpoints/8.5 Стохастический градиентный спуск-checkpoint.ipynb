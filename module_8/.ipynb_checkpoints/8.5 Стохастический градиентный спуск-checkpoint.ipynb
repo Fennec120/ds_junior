{
 "cells": [
  {
   "cell_type": "markdown",
   "metadata": {
    "id": "Tb-5iUrybT-m"
   },
   "source": [
    "Сгенерируем выборку для задачи регрессии и визуализируем данные."
   ]
  },
  {
   "cell_type": "code",
   "execution_count": null,
   "metadata": {
    "colab": {
     "base_uri": "https://localhost:8080/",
     "height": 319
    },
    "id": "e6hYQKiiGpFq",
    "outputId": "d28b69e0-987e-4a1d-836c-3d857e5d95b7"
   },
   "outputs": [
    {
     "name": "stdout",
     "output_type": "stream",
     "text": [
      "(100,)\n",
      "(100, 1)\n"
     ]
    },
    {
     "data": {
      "text/plain": [
       "<matplotlib.collections.PathCollection at 0x7f942c01ea50>"
      ]
     },
     "execution_count": 1,
     "metadata": {},
     "output_type": "execute_result"
    },
    {
     "data": {
      "image/png": "[encoded data removed]",
      "text/plain": [
       "<Figure size 432x288 with 1 Axes>"
      ]
     },
     "metadata": {
      "needs_background": "light"
     },
     "output_type": "display_data"
    }
   ],
   "source": [
    "import random\n",
    "import matplotlib.pyplot as plt\n",
    "import numpy as np\n",
    "%matplotlib inline\n",
    "\n",
    "X = np.linspace(-10,10,100)\n",
    "\n",
    "print(X.shape)\n",
    "\n",
    "y = X * (np.random.random_sample(len(X)) + 0.5)\n",
    "X = X.reshape(len(X), 1)\n",
    "\n",
    "print(X.shape)\n",
    "\n",
    "\n",
    "plt.scatter(X, y)"
   ]
  },
  {
   "cell_type": "markdown",
   "metadata": {
    "id": "1YJ9cqoYG-N3"
   },
   "source": [
    "Реализуем алгоритм стохастического градиентного спуска для обучения линейной регрессии."
   ]
  },
  {
   "cell_type": "markdown",
   "metadata": {
    "id": "uqXcS5A5bLfX"
   },
   "source": [
    "Сначала напишем функцию для вычисления среднеквадратичной ошибки:\n",
    "\n",
    "$MSE = \\frac{1}{m}||Xw - y||^2_2$.\n",
    "\n",
    "Здесь квадратичная ошибка записана в матричном виде, то есть $X$ — матрица «объект — признак», $w$ — вектор весов модели. \n",
    "*  $Xw$ — вектор предсказания модели;\n",
    "*  $y$ — вектор правильных ответов,\n",
    "и квадратичная ошибка — это квадрат нормы разности вектора предсказания и вектора правильных ответов.\n",
    "\n",
    "Вычислить норму вектора в Python можно разными способами. Здесь мы  воспользуемся готовой функцией из библиотеки NumPy — numpy.linalg.norm."
   ]
  },
  {
   "cell_type": "code",
   "execution_count": null,
   "metadata": {
    "id": "YEQuDFkiHG4f"
   },
   "outputs": [],
   "source": [
    "import numpy as np\n",
    "\n",
    "def compute_cost(X, y, theta):\n",
    "    m = len(y)\n",
    "\n",
    "    cost = (1./m) * (np.linalg.norm(X @ theta - y) ** 2)\n",
    "    return cost"
   ]
  },
  {
   "cell_type": "markdown",
   "metadata": {
    "id": "Cj9DrXzZbOLi"
   },
   "source": [
    "Реализуем стохастический градиентный спуск по формуле\n",
    "\n",
    "$$w_{new} = w_{prev} - \\nabla_w Q(w_{prev},x_i,y_i),$$\n",
    "\n",
    "где \n",
    "*   $\\nabla_w Q(w,x_i,y_i)$ — значение градиента функции потерь (в данном случае MSE) на объекте $x_i$;\n",
    "*   объект $x_i$ случайным образом выбирается на каждой итерации метода."
   ]
  },
  {
   "cell_type": "markdown",
   "metadata": {
    "id": "nkcALpyjdIAT"
   },
   "source": [
    "Вычислим градиент MSE на случайном объекте $x_i$ по формуле производной сложной функции:\n",
    "$$\\nabla_w (x_iw - y_i) ^ 2 = 2x_i(x_iw-y_i).$$"
   ]
  },
  {
   "cell_type": "markdown",
   "metadata": {
    "id": "2jus26KKsKTz"
   },
   "source": [
    "Итак, реализуем метод стохастического градиентного спуска:\n",
    "\n",
    "*  Первым шагом добавим к матрице $X$ единичный столбец — это константный признак, равный 1 на всех объектах. Он нужен, чтобы записать предсказание линейной регрессии в виде скалярного произведения и тем самым избавиться от знака суммы:\n",
    "$a(x)=w_0+w_1x_1+...+w_dx_d=w_1\\cdot 1+w_1x_1+...w_dx_d=(w,x)$\n",
    "\n",
    "В Python скалярное произведение можно записать так: $w@x$.\n",
    "\n",
    "*  Затем инициализируем случайным образом вектор весов params.\n",
    "\n",
    "*  Зададим пустой массив cost_track, в который будем записывать ошибку на каждой итерации.\n",
    "\n",
    "*  Наконец, в цикле по количеству эпох (итераций) каждый раз будем выбирать случайный объект с индексом ind и обновлять веса по формуле стохастического градиентного спуска."
   ]
  },
  {
   "cell_type": "code",
   "execution_count": null,
   "metadata": {
    "id": "o-2MOdaRGlbf"
   },
   "outputs": [],
   "source": [
    "def stochastic_gradient_descent(X, y, learning_rate, iterations):\n",
    "\n",
    "    X = np.hstack((np.ones((X.shape[0], 1)), X))\n",
    "    params = np.random.rand(X.shape[1])\n",
    "\n",
    "    cost_track = np.zeros((iterations,1))\n",
    "\n",
    "    for i in range(iterations):\n",
    "        ind = random.sample(range(X.shape[0]),1)\n",
    "\n",
    "        params = params - 2 * learning_rate * (X[ind] * ((X[ind] @ params) - y[ind]))\n",
    "        params = params.ravel() \n",
    "        cost_track[i] = compute_cost(X, y, params)\n",
    "\n",
    "    return cost_track, params"
   ]
  },
  {
   "cell_type": "markdown",
   "metadata": {
    "id": "R__qZ_ESbQ98"
   },
   "source": [
    "Создадим функцию для получения предсказания модели."
   ]
  },
  {
   "cell_type": "code",
   "execution_count": null,
   "metadata": {
    "id": "REpiCGpGaVO6"
   },
   "outputs": [],
   "source": [
    "def predict(X, params):\n",
    "    X = np.hstack((np.ones((X.shape[0], 1)), X))\n",
    "    return X @ params"
   ]
  },
  {
   "cell_type": "markdown",
   "metadata": {
    "id": "TUq1AnqNg8ge"
   },
   "source": [
    "Применим градиентный спуск."
   ]
  },
  {
   "cell_type": "code",
   "execution_count": null,
   "metadata": {
    "id": "HLtvqv9yg8uX"
   },
   "outputs": [],
   "source": [
    "track, weights = stochastic_gradient_descent(X, y, 0.01, 100)"
   ]
  },
  {
   "cell_type": "markdown",
   "metadata": {
    "id": "yd0oKy44hInR"
   },
   "source": [
    "Сделаем предсказание."
   ]
  },
  {
   "cell_type": "code",
   "execution_count": null,
   "metadata": {
    "id": "y47jeNeehIzk"
   },
   "outputs": [],
   "source": [
    "pred = predict(X, weights)"
   ]
  },
  {
   "cell_type": "markdown",
   "metadata": {
    "id": "6piLghRXbge2"
   },
   "source": [
    "Добавим к графику полученную регрессионную прямую."
   ]
  },
  {
   "cell_type": "code",
   "execution_count": null,
   "metadata": {
    "colab": {
     "base_uri": "https://localhost:8080/",
     "height": 283
    },
    "id": "5WGJ50FdWOy2",
    "outputId": "0ca63542-03fe-4aea-dfed-f26a69357ab4"
   },
   "outputs": [
    {
     "data": {
      "text/plain": [
       "[<matplotlib.lines.Line2D at 0x7f62a58dea50>]"
      ]
     },
     "execution_count": 7,
     "metadata": {},
     "output_type": "execute_result"
    },
    {
     "data": {
      "image/png": "[encoded data removed]",
      "text/plain": [
       "<Figure size 432x288 with 1 Axes>"
      ]
     },
     "metadata": {
      "needs_background": "light"
     },
     "output_type": "display_data"
    }
   ],
   "source": [
    "plt.scatter(X, y)\n",
    "plt.plot(X, pred, '-', c = 'r')"
   ]
  },
  {
   "cell_type": "code",
   "execution_count": null,
   "metadata": {
    "id": "V_meS_nLlEP2"
   },
   "outputs": [],
   "source": []
  }
 ],
 "metadata": {
  "colab": {
   "collapsed_sections": [],
   "provenance": []
  },
  "kernelspec": {
   "display_name": "Python 3 (ipykernel)",
   "language": "python",
   "name": "python3"
  },
  "language_info": {
   "codemirror_mode": {
    "name": "ipython",
    "version": 3
   },
   "file_extension": ".py",
   "mimetype": "text/x-python",
   "name": "python",
   "nbconvert_exporter": "python",
   "pygments_lexer": "ipython3",
   "version": "3.11.5"
  }
 },
 "nbformat": 4,
 "nbformat_minor": 1
}
